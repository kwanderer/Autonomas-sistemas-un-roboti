{
  "cells": [
    {
      "cell_type": "markdown",
      "metadata": {
        "id": "view-in-github",
        "colab_type": "text"
      },
      "source": [
        "<a href=\"https://colab.research.google.com/github/kwanderer/Autonomas-sistemas-un-roboti/blob/main/lr001Regresion_Multi_Class_MD_LSTM_step_200_files_120.ipynb\" target=\"_parent\"><img src=\"https://colab.research.google.com/assets/colab-badge.svg\" alt=\"Open In Colab\"/></a>"
      ]
    },
    {
      "cell_type": "markdown",
      "metadata": {
        "id": "f857kfHqUk0-"
      },
      "source": [
        "\n",
        "\n",
        "#Datu kopa"
      ]
    },
    {
      "cell_type": "markdown",
      "metadata": {
        "id": "nM9WE3QGUwVi"
      },
      "source": [
        "Datu kopas avots: https://www.kaggle.com/uysalserkan/fault-induction-motor-dataset"
      ]
    },
    {
      "cell_type": "markdown",
      "metadata": {
        "id": "_sN_h3qHHy6r"
      },
      "source": [
        "Darbā tiek izmantota indukcijas motora parametru datu bāze. Izmantotajā datu kopā ir dati, kas tika iegūti SpectraQuest aparatūras kļūdu simulatorā (Machinery Fault Simulator).\n",
        "\n",
        "Katra mērījumu secība tika ģenerēta ar frekvenci 50 kHz 5 sekunžu laikā, kopā 250 000 mērījumi.\n",
        "\n",
        "Dati ir apkopoti vairākos failos, dažādos darbības stāvokļos un to apjoms ir ļoti liels. Šajā darbā tika izmantota daļa(viena mērījumu secība) no motora normālas darbības datiem.\n"
      ]
    },
    {
      "cell_type": "markdown",
      "metadata": {
        "id": "KtFAOaHYHLPo"
      },
      "source": [
        "Dati ir apkopoti tabulā, kura satur 8 parametrus. Dati ir iedalīti sekojošās kolonas:\n",
        "\n",
        "**tachometer** – tahometra signāls, kas ļauj novērtēt rotācijas frekvenci\n",
        "\n",
        "**und-accelerometer-axial** - apakšā esošā gultņa akselerometrs (aksiālais virziens)\n",
        "\n",
        "**und-accelerometer-radial** – apakšā esošā gultņa akselerometrs (radiālais virziens)\n",
        "\n",
        "**und-accelerometer-tangential** - apakšā esošā gultņa akselerometrs (tangenciālais virziens)\n",
        "\n",
        "**over-accelerometer-axial** - pārkares gultņa akselerometrs (aksiālais virziens)\n",
        "\n",
        "**over-accelerometer-radial** – pārkares gultņa akselerometrs (radiālais  virziens)\n",
        "\n",
        "**over-accelerometer-tangential**  - pārkares gultņa akselerometrs (tangenciālais virziens)\n",
        "\n",
        "**microphone** – mikrofona vērtība\n"
      ]
    },
    {
      "cell_type": "markdown",
      "metadata": {
        "id": "XymoNLKMVFUC"
      },
      "source": [
        "#Datu ielasīšana un satura vizualizācija"
      ]
    },
    {
      "cell_type": "code",
      "execution_count": 1,
      "metadata": {
        "id": "_yqYZDeOFq5s"
      },
      "outputs": [],
      "source": [
        "import keras\n",
        "from keras.layers import LSTM, Dropout, Dense\n",
        "import tensorflow as tf\n",
        "import numpy as np\n",
        "import pandas as pd\n",
        "\n",
        "from sklearn import linear_model  #pip install sklearn - loti plasa masinapmacibas biblioteka\n",
        "from sklearn.linear_model import LinearRegression  \n",
        "import csv          #pip install csv - darbam ar CSV datu kopam\n",
        "import requests     #pip install requests  - vienkarsakam darbam ar tiessaistes CSV datu kopam tiessaistes\n",
        "\n",
        "import matplotlib\n",
        "import matplotlib.pyplot as plt\n",
        "\n",
        "import glob\n"
      ]
    },
    {
      "cell_type": "code",
      "execution_count": 2,
      "metadata": {
        "id": "wlRTBbM2eUcV",
        "colab": {
          "base_uri": "https://localhost:8080/"
        },
        "outputId": "e1deaf35-ee15-4956-b51e-880acb38aee2"
      },
      "outputs": [
        {
          "output_type": "stream",
          "name": "stdout",
          "text": [
            "Drive already mounted at /content/gdrive; to attempt to forcibly remount, call drive.mount(\"/content/gdrive\", force_remount=True).\n"
          ]
        }
      ],
      "source": [
        "from google.colab import drive\n",
        "import os\n",
        "drive.mount('/content/gdrive')\n",
        "os.chdir(\"/content/gdrive/MyDrive/Colab Notebooks/data_multiclass/\")"
      ]
    },
    {
      "cell_type": "code",
      "execution_count": 3,
      "metadata": {
        "id": "zzz6fBl_SNom"
      },
      "outputs": [],
      "source": [
        "#extension = 'csv'\n",
        "#all_filenames = [i for i in glob.glob('*.{}'.format(extension))]"
      ]
    },
    {
      "cell_type": "code",
      "execution_count": 4,
      "metadata": {
        "id": "vagKFCkToBi0"
      },
      "outputs": [],
      "source": [
        "#combine all files in the list\n",
        "#combined_csv = pd.concat([pd.read_csv(f) for f in all_filenames ])\n",
        "#export to csv\n",
        "#combined_csv.to_csv( \"combined_multiclass_csv.csv\", index=False, encoding='utf-8-sig')"
      ]
    },
    {
      "cell_type": "code",
      "execution_count": 5,
      "metadata": {
        "id": "encEkbDhSfGI"
      },
      "outputs": [],
      "source": [
        "data = pd.read_csv(\"combined_multiclass_csv.csv\")"
      ]
    },
    {
      "cell_type": "code",
      "execution_count": 6,
      "metadata": {
        "id": "yz5Qe8ZWk1Zq",
        "colab": {
          "base_uri": "https://localhost:8080/"
        },
        "outputId": "6e9898e5-9c47-4769-d032-df036b7eae1e"
      },
      "outputs": [
        {
          "output_type": "stream",
          "name": "stdout",
          "text": [
            "<class 'pandas.core.frame.DataFrame'>\n",
            "RangeIndex: 30000000 entries, 0 to 29999999\n",
            "Data columns (total 9 columns):\n",
            " #   Column                         Dtype  \n",
            "---  ------                         -----  \n",
            " 0   tachometer                     float64\n",
            " 1   und-accelerometer-axial        float64\n",
            " 2   und-accelerometer-radial       float64\n",
            " 3   und-accelerometer-tangential   float64\n",
            " 4   over-accelerometer-axial       float64\n",
            " 5   over-accelerometer-radial      float64\n",
            " 6   over-accelerometer-tangential  float64\n",
            " 7   microphone                     float64\n",
            " 8   Class                          int64  \n",
            "dtypes: float64(8), int64(1)\n",
            "memory usage: 2.0 GB\n"
          ]
        }
      ],
      "source": [
        "data.info()"
      ]
    },
    {
      "cell_type": "code",
      "execution_count": 7,
      "metadata": {
        "id": "WUW9ezX6a_st",
        "colab": {
          "base_uri": "https://localhost:8080/"
        },
        "outputId": "e87c7482-493c-4855-d946-d82b99b74e99"
      },
      "outputs": [
        {
          "output_type": "execute_result",
          "data": {
            "text/plain": [
              "30000000"
            ]
          },
          "metadata": {},
          "execution_count": 7
        }
      ],
      "source": [
        "rec_count = len(data)\n",
        "rec_count"
      ]
    },
    {
      "cell_type": "markdown",
      "metadata": {
        "id": "6RVC1PZy88fC"
      },
      "source": [
        "# Datu dalīšana mazākos gabalos"
      ]
    },
    {
      "cell_type": "code",
      "execution_count": 8,
      "metadata": {
        "id": "DOvnCYkcbGaE"
      },
      "outputs": [],
      "source": [
        "sequence_length = 200"
      ]
    },
    {
      "cell_type": "code",
      "execution_count": 9,
      "metadata": {
        "id": "RG0o2L3zbTEx"
      },
      "outputs": [],
      "source": [
        "def generate_data(X, y, sequence_length = 200, step = 200):\n",
        "    X_local = []\n",
        "    y_local = []\n",
        "    for start in range(0, len(data) - sequence_length, step):\n",
        "        end = start + sequence_length\n",
        "        X_local.append(X[start:end])\n",
        "        y_local.append(y[end-1])\n",
        "    return np.array(X_local), np.array(y_local)\n",
        "\n",
        "X_sequence, y = generate_data(data.loc[:, [\"tachometer\", \"und-accelerometer-axial\", \"und-accelerometer-radial\", \"und-accelerometer-tangential\", \"over-accelerometer-axial\", \"over-accelerometer-radial\", \"over-accelerometer-tangential\", \"microphone\"]].values, data.Class)\n",
        "#X_sequence, y = generate_data(data.loc[:, [\"und-accelerometer-axial\", \"und-accelerometer-radial\", \"und-accelerometer-tangential\", \"microphone\"]].values, data.Class)\n"
      ]
    },
    {
      "cell_type": "code",
      "execution_count": 10,
      "metadata": {
        "id": "s0QxwK66cLVF",
        "colab": {
          "base_uri": "https://localhost:8080/"
        },
        "outputId": "0b288300-5748-44a8-a15c-0711a3e040b8"
      },
      "outputs": [
        {
          "output_type": "execute_result",
          "data": {
            "text/plain": [
              "((149999, 200, 8), (149999,))"
            ]
          },
          "metadata": {},
          "execution_count": 10
        }
      ],
      "source": [
        "X_sequence.shape, y.shape"
      ]
    },
    {
      "cell_type": "code",
      "source": [
        "y"
      ],
      "metadata": {
        "id": "4tu6MQMZjahk",
        "colab": {
          "base_uri": "https://localhost:8080/"
        },
        "outputId": "5583269b-5137-43c8-e79d-29e7e1711b8e"
      },
      "execution_count": 11,
      "outputs": [
        {
          "output_type": "execute_result",
          "data": {
            "text/plain": [
              "array([7, 7, 7, ..., 0, 0, 0])"
            ]
          },
          "metadata": {},
          "execution_count": 11
        }
      ]
    },
    {
      "cell_type": "code",
      "source": [
        "i = 0\n",
        "while i < 149999:\n",
        "  if y[i] == 1:\n",
        "    y[i] = 7\n",
        "  elif y[i] == 2:\n",
        "    y[i] = 6\n",
        "  elif y[i] == 3:\n",
        "    y[i] = 5\n",
        "  elif y[i] == 4:\n",
        "    y[i] = 4\n",
        "  elif y[i] == 5:\n",
        "    y[i] = 3\n",
        "  elif y[i] == 6:\n",
        "    y[i] = 2\n",
        "  elif y[i] == 7:\n",
        "    y[i] = 1\n",
        "  i+=1"
      ],
      "metadata": {
        "id": "i_jgMMlgjT4O"
      },
      "execution_count": 12,
      "outputs": []
    },
    {
      "cell_type": "code",
      "source": [
        "y"
      ],
      "metadata": {
        "id": "mgCNJtOCkKZJ",
        "colab": {
          "base_uri": "https://localhost:8080/"
        },
        "outputId": "a88a79e5-d1b8-4b7f-a879-f89164700e17"
      },
      "execution_count": 13,
      "outputs": [
        {
          "output_type": "execute_result",
          "data": {
            "text/plain": [
              "array([1, 1, 1, ..., 0, 0, 0])"
            ]
          },
          "metadata": {},
          "execution_count": 13
        }
      ]
    },
    {
      "cell_type": "code",
      "source": [
        "y.shape"
      ],
      "metadata": {
        "id": "L9-ql6wZkMNC",
        "colab": {
          "base_uri": "https://localhost:8080/"
        },
        "outputId": "1014b66c-1a8d-44d7-c604-5aee7d1b758a"
      },
      "execution_count": 14,
      "outputs": [
        {
          "output_type": "execute_result",
          "data": {
            "text/plain": [
              "(149999,)"
            ]
          },
          "metadata": {},
          "execution_count": 14
        }
      ]
    },
    {
      "cell_type": "code",
      "source": [
        "#np.save(\"mydata.npy\",X_sequence)"
      ],
      "metadata": {
        "id": "kvpMrUzMgZGE"
      },
      "execution_count": 15,
      "outputs": []
    },
    {
      "cell_type": "code",
      "source": [
        "#b = np.load(\"mydata.npy\")"
      ],
      "metadata": {
        "id": "fxB_2ohGgkXJ"
      },
      "execution_count": 16,
      "outputs": []
    },
    {
      "cell_type": "code",
      "source": [
        "#b.shape"
      ],
      "metadata": {
        "id": "HguuDdetguf7"
      },
      "execution_count": 17,
      "outputs": []
    },
    {
      "cell_type": "code",
      "source": [
        "unique, counts = np.unique(y, return_counts=True)"
      ],
      "metadata": {
        "id": "l8Lq455lV1JR"
      },
      "execution_count": 18,
      "outputs": []
    },
    {
      "cell_type": "code",
      "source": [
        "unique"
      ],
      "metadata": {
        "id": "t0BRO3nAWQxe",
        "colab": {
          "base_uri": "https://localhost:8080/"
        },
        "outputId": "e7b533bc-8e28-43e3-fa32-b598c9137dd2"
      },
      "execution_count": 19,
      "outputs": [
        {
          "output_type": "execute_result",
          "data": {
            "text/plain": [
              "array([0, 1, 2, 3, 4, 5, 6, 7])"
            ]
          },
          "metadata": {},
          "execution_count": 19
        }
      ]
    },
    {
      "cell_type": "code",
      "source": [
        "counts"
      ],
      "metadata": {
        "id": "WWZ7QWR4WS_r",
        "colab": {
          "base_uri": "https://localhost:8080/"
        },
        "outputId": "321495d3-1c11-4539-c313-b03373e100a0"
      },
      "execution_count": 20,
      "outputs": [
        {
          "output_type": "execute_result",
          "data": {
            "text/plain": [
              "array([18749, 18750, 18750, 18750, 18750, 18750, 18750, 18750])"
            ]
          },
          "metadata": {},
          "execution_count": 20
        }
      ]
    },
    {
      "cell_type": "code",
      "execution_count": 21,
      "metadata": {
        "id": "i7R1oo6Mj8wx"
      },
      "outputs": [],
      "source": [
        "data = 0"
      ]
    },
    {
      "cell_type": "code",
      "source": [
        "#from sklearn.preprocessing import OneHotEncoder"
      ],
      "metadata": {
        "id": "lAk_JscRWmqY"
      },
      "execution_count": 22,
      "outputs": []
    },
    {
      "cell_type": "code",
      "source": [
        "#label_encoder = OneHotEncoder(sparse=False)\n",
        "#label_encoder.fit(y.reshape(-1,1))"
      ],
      "metadata": {
        "id": "14B9aYy0W0y6"
      },
      "execution_count": 23,
      "outputs": []
    },
    {
      "cell_type": "code",
      "source": [
        "#y_encoded = label_encoder.transform(y.reshape(-1,1))"
      ],
      "metadata": {
        "id": "VjpWn96xXgPS"
      },
      "execution_count": 24,
      "outputs": []
    },
    {
      "cell_type": "code",
      "source": [
        "#y_encoded[0:5]"
      ],
      "metadata": {
        "id": "VL6KMFo9XpBi"
      },
      "execution_count": 25,
      "outputs": []
    },
    {
      "cell_type": "code",
      "source": [
        "#y=y_encoded"
      ],
      "metadata": {
        "id": "5c8km253YKBl"
      },
      "execution_count": 26,
      "outputs": []
    },
    {
      "cell_type": "markdown",
      "metadata": {
        "id": "5BXSDoHa9UX_"
      },
      "source": [
        "# Random/Shuffle"
      ]
    },
    {
      "cell_type": "code",
      "execution_count": 27,
      "metadata": {
        "id": "ZcfE9idy-ckb"
      },
      "outputs": [],
      "source": [
        "shuffler = np.random.permutation(len(X_sequence))\n",
        "X_sequence_shuffled = X_sequence[shuffler]\n",
        "y_shuffled = y[shuffler]"
      ]
    },
    {
      "cell_type": "markdown",
      "metadata": {
        "id": "TfhRTTNcE2s8"
      },
      "source": [
        "# LSTM"
      ]
    },
    {
      "cell_type": "code",
      "execution_count": 28,
      "metadata": {
        "id": "ihrXMuVAEwlY"
      },
      "outputs": [],
      "source": [
        "import pandas as pd\n",
        "import sklearn.metrics as metrique\n",
        "from pandas import Series\n",
        "from sklearn.preprocessing import StandardScaler, MinMaxScaler\n",
        "from matplotlib import pyplot\n",
        "from sklearn.model_selection import train_test_split\n",
        "import numpy as np\n",
        "import tensorflow as tf\n",
        "import sys\n",
        "import numpy as np\n",
        "import pandas as pd\n",
        "import tensorflow as tf\n",
        "import matplotlib.pyplot as plt\n",
        "from sklearn.model_selection import train_test_split\n",
        "from sklearn import preprocessing\n",
        "from sklearn.preprocessing import StandardScaler\n",
        "from sklearn.metrics import classification_report\n",
        "import warnings\n",
        "warnings.filterwarnings('ignore')\n",
        "plt.style.use('ggplot')\n",
        "import seaborn as sns \n",
        "%matplotlib inline\n",
        "from keras.callbacks import EarlyStopping\n",
        "from keras.callbacks import ModelCheckpoint\n",
        "from sklearn.metrics import accuracy_score\n",
        "from sklearn.metrics import classification_report, confusion_matrix\n",
        "from keras.models import Sequential\n",
        "from keras.utils import np_utils\n",
        "from keras.layers import LSTM, Dense, Embedding, Dropout,Input, Layer, Concatenate, Permute, Dot, Multiply, Flatten\n",
        "from keras.layers import RepeatVector, Dense, Activation, Lambda\n",
        "from keras.models import Sequential\n",
        "from keras import backend as K, regularizers, Model, metrics\n",
        "from keras.backend import cast"
      ]
    },
    {
      "cell_type": "code",
      "execution_count": 29,
      "metadata": {
        "id": "PjKWKiA6aH3z"
      },
      "outputs": [],
      "source": [
        "#from tensorflow.keras import optimizers\n",
        "#sgd = optimizers.SGD(lr=0.0001, decay=1e-6, momentum=0.9, nesterov=True)\n",
        "#model = keras.Sequential()\n",
        "#model.add(LSTM(100, input_shape = (200, 8)))\n",
        "#model.add(Dropout(0.5))\n",
        "#model.add(Dense(1, activation=\"softmax\"))\n",
        "\n",
        "\n",
        "#model.compile(loss=\"categorical_crossentropy\"\n",
        "#              , metrics=[keras.metrics.binary_accuracy]\n",
        "#              , optimizer='sgd')\n",
        "\n",
        "#model.summary()"
      ]
    },
    {
      "cell_type": "code",
      "execution_count": 30,
      "metadata": {
        "id": "_2SaVmwSWJVB",
        "colab": {
          "base_uri": "https://localhost:8080/"
        },
        "outputId": "fc673e9a-6a42-45ba-e745-f0048fbde194"
      },
      "outputs": [
        {
          "output_type": "stream",
          "name": "stdout",
          "text": [
            "Model: \"sequential\"\n",
            "_________________________________________________________________\n",
            " Layer (type)                Output Shape              Param #   \n",
            "=================================================================\n",
            " lstm (LSTM)                 (None, 100)               43600     \n",
            "                                                                 \n",
            " dropout (Dropout)           (None, 100)               0         \n",
            "                                                                 \n",
            " dense (Dense)               (None, 1)                 101       \n",
            "                                                                 \n",
            "=================================================================\n",
            "Total params: 43,701\n",
            "Trainable params: 43,701\n",
            "Non-trainable params: 0\n",
            "_________________________________________________________________\n"
          ]
        }
      ],
      "source": [
        "from tensorflow.keras import optimizers\n",
        "#sgd = optimizers.SGD(lr=0.0001, decay=1e-6, momentum=0.9, nesterov=True)\n",
        "optimizer = tf.keras.optimizers.Adam(lr=0.001)\n",
        "model = keras.Sequential()\n",
        "model.add(LSTM(100, input_shape = (200, 8)))\n",
        "model.add(Dropout(0.5))\n",
        "model.add(Dense(1))# dense 1, activation - relu/sigmoid\n",
        "\n",
        "#model.compile(loss='mean_squared_error', optimizer=sgd)\n",
        "model.compile(loss=\"mse\" #mse\n",
        "              , metrics=['accuracy']\n",
        "              , optimizer=optimizer)\n",
        "\n",
        "model.summary()"
      ]
    },
    {
      "cell_type": "code",
      "execution_count": 31,
      "metadata": {
        "id": "tg8wrqsqc8UX"
      },
      "outputs": [],
      "source": [
        "training_size = int(len(X_sequence) * 0.8)\n",
        "val_size = int(len(X_sequence) * 0.9)"
      ]
    },
    {
      "cell_type": "code",
      "execution_count": 32,
      "metadata": {
        "id": "avIp3TEKc-qF"
      },
      "outputs": [],
      "source": [
        "X_train, y_train = X_sequence_shuffled[:training_size], y_shuffled[:training_size]\n",
        "X_val, y_val = X_sequence_shuffled[training_size:val_size], y_shuffled[training_size:val_size]\n",
        "X_test, y_test = X_sequence_shuffled[val_size:], y_shuffled[val_size:]"
      ]
    },
    {
      "cell_type": "code",
      "execution_count": 33,
      "metadata": {
        "id": "RABc_uKzkBUT"
      },
      "outputs": [],
      "source": [
        "X_sequence = 0\n",
        "y = 0"
      ]
    },
    {
      "cell_type": "code",
      "source": [
        "X_train.shape"
      ],
      "metadata": {
        "id": "Omv-ht1dhGxL",
        "colab": {
          "base_uri": "https://localhost:8080/"
        },
        "outputId": "f97a5c84-8a9d-4dd5-dc57-3c4d11fc3743"
      },
      "execution_count": 34,
      "outputs": [
        {
          "output_type": "execute_result",
          "data": {
            "text/plain": [
              "(119999, 200, 8)"
            ]
          },
          "metadata": {},
          "execution_count": 34
        }
      ]
    },
    {
      "cell_type": "code",
      "execution_count": 35,
      "metadata": {
        "id": "8aIhPJ-wLCwZ",
        "colab": {
          "base_uri": "https://localhost:8080/"
        },
        "outputId": "f337c472-71b9-4f54-cf20-ced97fafb941"
      },
      "outputs": [
        {
          "output_type": "execute_result",
          "data": {
            "text/plain": [
              "array([7, 1, 5, 0, 7, 0, 5, 7, 2, 6])"
            ]
          },
          "metadata": {},
          "execution_count": 35
        }
      ],
      "source": [
        "y_train[:10]"
      ]
    },
    {
      "cell_type": "code",
      "execution_count": 36,
      "metadata": {
        "id": "cen4faX0dFJP",
        "colab": {
          "base_uri": "https://localhost:8080/"
        },
        "outputId": "4844692a-e55d-46ec-dca6-3c910aace6d7"
      },
      "outputs": [
        {
          "output_type": "stream",
          "name": "stdout",
          "text": [
            "Epoch 1/100\n",
            "1875/1875 [==============================] - 30s 14ms/step - loss: 4.1787 - accuracy: 0.1292 - val_loss: 3.2297 - val_accuracy: 0.1324\n",
            "Epoch 2/100\n",
            "1875/1875 [==============================] - 24s 13ms/step - loss: 3.3317 - accuracy: 0.1337 - val_loss: 2.6317 - val_accuracy: 0.1326\n",
            "Epoch 3/100\n",
            "1875/1875 [==============================] - 22s 12ms/step - loss: 2.6383 - accuracy: 0.1391 - val_loss: 3.9405 - val_accuracy: 0.1259\n",
            "Epoch 4/100\n",
            "1875/1875 [==============================] - 22s 12ms/step - loss: 2.5089 - accuracy: 0.1391 - val_loss: 1.9786 - val_accuracy: 0.1475\n",
            "Epoch 5/100\n",
            "1875/1875 [==============================] - 22s 12ms/step - loss: 2.1456 - accuracy: 0.1595 - val_loss: 1.8857 - val_accuracy: 0.1753\n",
            "Epoch 6/100\n",
            "1875/1875 [==============================] - 22s 12ms/step - loss: 2.0058 - accuracy: 0.1767 - val_loss: 1.6433 - val_accuracy: 0.2125\n",
            "Epoch 7/100\n",
            "1875/1875 [==============================] - 22s 12ms/step - loss: 1.7554 - accuracy: 0.1867 - val_loss: 1.3977 - val_accuracy: 0.2102\n",
            "Epoch 8/100\n",
            "1875/1875 [==============================] - 22s 12ms/step - loss: 1.6059 - accuracy: 0.1933 - val_loss: 1.5605 - val_accuracy: 0.1921\n",
            "Epoch 9/100\n",
            "1875/1875 [==============================] - 22s 12ms/step - loss: 1.4231 - accuracy: 0.1981 - val_loss: 1.1708 - val_accuracy: 0.2286\n",
            "Epoch 10/100\n",
            "1875/1875 [==============================] - 22s 12ms/step - loss: 1.2737 - accuracy: 0.2078 - val_loss: 1.1365 - val_accuracy: 0.2278\n",
            "Epoch 11/100\n",
            "1875/1875 [==============================] - 22s 12ms/step - loss: 1.1667 - accuracy: 0.2066 - val_loss: 0.9728 - val_accuracy: 0.2262\n",
            "Epoch 12/100\n",
            "1875/1875 [==============================] - 22s 12ms/step - loss: 1.0986 - accuracy: 0.2108 - val_loss: 0.9430 - val_accuracy: 0.2315\n",
            "Epoch 13/100\n",
            "1875/1875 [==============================] - 22s 12ms/step - loss: 0.9839 - accuracy: 0.2113 - val_loss: 0.8209 - val_accuracy: 0.2374\n",
            "Epoch 14/100\n",
            "1875/1875 [==============================] - 22s 12ms/step - loss: 1.2016 - accuracy: 0.1984 - val_loss: 0.8191 - val_accuracy: 0.2372\n",
            "Epoch 15/100\n",
            "1875/1875 [==============================] - 22s 12ms/step - loss: 0.9304 - accuracy: 0.2178 - val_loss: 0.9920 - val_accuracy: 0.2245\n",
            "Epoch 16/100\n",
            "1875/1875 [==============================] - 22s 12ms/step - loss: 0.9773 - accuracy: 0.2147 - val_loss: 1.7076 - val_accuracy: 0.2347\n",
            "Epoch 17/100\n",
            "1875/1875 [==============================] - 22s 12ms/step - loss: 0.9462 - accuracy: 0.2133 - val_loss: 0.9207 - val_accuracy: 0.2091\n",
            "Epoch 18/100\n",
            "1875/1875 [==============================] - 22s 12ms/step - loss: 0.7930 - accuracy: 0.2145 - val_loss: 0.7584 - val_accuracy: 0.2369\n",
            "Epoch 19/100\n",
            "1875/1875 [==============================] - 22s 12ms/step - loss: 0.8599 - accuracy: 0.2155 - val_loss: 0.6602 - val_accuracy: 0.2399\n",
            "Epoch 20/100\n",
            "1875/1875 [==============================] - 22s 12ms/step - loss: 0.7305 - accuracy: 0.2214 - val_loss: 0.6419 - val_accuracy: 0.2435\n",
            "Epoch 21/100\n",
            "1875/1875 [==============================] - 22s 12ms/step - loss: 0.7128 - accuracy: 0.2066 - val_loss: 0.7186 - val_accuracy: 0.2437\n",
            "Epoch 22/100\n",
            "1875/1875 [==============================] - 22s 12ms/step - loss: 0.6933 - accuracy: 0.2156 - val_loss: 0.5338 - val_accuracy: 0.2439\n",
            "Epoch 23/100\n",
            "1875/1875 [==============================] - 22s 12ms/step - loss: 0.7329 - accuracy: 0.2183 - val_loss: 0.5813 - val_accuracy: 0.2382\n",
            "Epoch 24/100\n",
            "1875/1875 [==============================] - 22s 12ms/step - loss: 0.7127 - accuracy: 0.2194 - val_loss: 0.9215 - val_accuracy: 0.2215\n",
            "Epoch 25/100\n",
            "1875/1875 [==============================] - 22s 12ms/step - loss: 0.6725 - accuracy: 0.2223 - val_loss: 0.4888 - val_accuracy: 0.2472\n",
            "Epoch 26/100\n",
            "1875/1875 [==============================] - 25s 13ms/step - loss: 0.6060 - accuracy: 0.2243 - val_loss: 0.4921 - val_accuracy: 0.2403\n",
            "Epoch 27/100\n",
            "1875/1875 [==============================] - 26s 14ms/step - loss: 0.5568 - accuracy: 0.2266 - val_loss: 0.4357 - val_accuracy: 0.2461\n",
            "Epoch 28/100\n",
            "1875/1875 [==============================] - 26s 14ms/step - loss: 0.5945 - accuracy: 0.2160 - val_loss: 0.6322 - val_accuracy: 0.2442\n",
            "Epoch 29/100\n",
            "1875/1875 [==============================] - 26s 14ms/step - loss: 0.7833 - accuracy: 0.2018 - val_loss: 0.4910 - val_accuracy: 0.2402\n",
            "Epoch 30/100\n",
            "1875/1875 [==============================] - 26s 14ms/step - loss: 0.5657 - accuracy: 0.2225 - val_loss: 6.2619 - val_accuracy: 0.1329\n",
            "Epoch 31/100\n",
            "1875/1875 [==============================] - 27s 14ms/step - loss: 0.9731 - accuracy: 0.1993 - val_loss: 0.4708 - val_accuracy: 0.2409\n",
            "Epoch 32/100\n",
            "1875/1875 [==============================] - 26s 14ms/step - loss: 0.5425 - accuracy: 0.2233 - val_loss: 0.5069 - val_accuracy: 0.2478\n",
            "Epoch 33/100\n",
            "1875/1875 [==============================] - 26s 14ms/step - loss: 0.5475 - accuracy: 0.2242 - val_loss: 0.4778 - val_accuracy: 0.2465\n",
            "Epoch 34/100\n",
            "1875/1875 [==============================] - 27s 14ms/step - loss: 0.7066 - accuracy: 0.2181 - val_loss: 0.4355 - val_accuracy: 0.2439\n",
            "Epoch 35/100\n",
            "1875/1875 [==============================] - 26s 14ms/step - loss: 0.4981 - accuracy: 0.2267 - val_loss: 0.3894 - val_accuracy: 0.2492\n",
            "Epoch 36/100\n",
            "1875/1875 [==============================] - 26s 14ms/step - loss: 0.8687 - accuracy: 0.2157 - val_loss: 0.6231 - val_accuracy: 0.2443\n",
            "Epoch 37/100\n",
            "1875/1875 [==============================] - 27s 14ms/step - loss: 0.5848 - accuracy: 0.2236 - val_loss: 0.4247 - val_accuracy: 0.2481\n",
            "Epoch 38/100\n",
            "1875/1875 [==============================] - 25s 13ms/step - loss: 0.5220 - accuracy: 0.2248 - val_loss: 0.4024 - val_accuracy: 0.2481\n",
            "Epoch 39/100\n",
            "1875/1875 [==============================] - 22s 12ms/step - loss: 0.6273 - accuracy: 0.2223 - val_loss: 0.4877 - val_accuracy: 0.2476\n",
            "Epoch 40/100\n",
            "1875/1875 [==============================] - 22s 12ms/step - loss: 0.5033 - accuracy: 0.2258 - val_loss: 0.3803 - val_accuracy: 0.2490\n",
            "Epoch 41/100\n",
            "1875/1875 [==============================] - 25s 14ms/step - loss: 0.4474 - accuracy: 0.2278 - val_loss: 0.3929 - val_accuracy: 0.2487\n",
            "Epoch 42/100\n",
            "1875/1875 [==============================] - 26s 14ms/step - loss: 0.4753 - accuracy: 0.2226 - val_loss: 0.3772 - val_accuracy: 0.2507\n",
            "Epoch 43/100\n",
            "1875/1875 [==============================] - 25s 14ms/step - loss: 0.5690 - accuracy: 0.2239 - val_loss: 0.6896 - val_accuracy: 0.2471\n",
            "Epoch 44/100\n",
            "1875/1875 [==============================] - 26s 14ms/step - loss: 0.5300 - accuracy: 0.2246 - val_loss: 0.3725 - val_accuracy: 0.2509\n",
            "Epoch 45/100\n",
            "1875/1875 [==============================] - 26s 14ms/step - loss: 0.5004 - accuracy: 0.2125 - val_loss: 0.3492 - val_accuracy: 0.2400\n",
            "Epoch 46/100\n",
            "1875/1875 [==============================] - 26s 14ms/step - loss: 0.4706 - accuracy: 0.2233 - val_loss: 0.3945 - val_accuracy: 0.2485\n",
            "Epoch 47/100\n",
            "1875/1875 [==============================] - 26s 14ms/step - loss: 0.6958 - accuracy: 0.2233 - val_loss: 0.3913 - val_accuracy: 0.2451\n",
            "Epoch 48/100\n",
            "1875/1875 [==============================] - 26s 14ms/step - loss: 0.8747 - accuracy: 0.2093 - val_loss: 0.5173 - val_accuracy: 0.2404\n",
            "Epoch 49/100\n",
            "1875/1875 [==============================] - 26s 14ms/step - loss: 0.7950 - accuracy: 0.1926 - val_loss: 1.9887 - val_accuracy: 0.1259\n",
            "Epoch 50/100\n",
            "1875/1875 [==============================] - 26s 14ms/step - loss: 1.1210 - accuracy: 0.1758 - val_loss: 2.4271 - val_accuracy: 0.1259\n",
            "Epoch 51/100\n",
            "1875/1875 [==============================] - 25s 13ms/step - loss: 1.3114 - accuracy: 0.1701 - val_loss: 0.8743 - val_accuracy: 0.2187\n",
            "Epoch 52/100\n",
            "1875/1875 [==============================] - 26s 14ms/step - loss: 1.8353 - accuracy: 0.1733 - val_loss: 0.8296 - val_accuracy: 0.2296\n",
            "Epoch 53/100\n",
            "1875/1875 [==============================] - 25s 13ms/step - loss: 0.8317 - accuracy: 0.2018 - val_loss: 1.5051 - val_accuracy: 0.2105\n",
            "Epoch 54/100\n",
            "1875/1875 [==============================] - 26s 14ms/step - loss: 0.8345 - accuracy: 0.2035 - val_loss: 0.5168 - val_accuracy: 0.2408\n",
            "Epoch 55/100\n",
            "1875/1875 [==============================] - 26s 14ms/step - loss: 0.6256 - accuracy: 0.2114 - val_loss: 0.4594 - val_accuracy: 0.2443\n",
            "Epoch 56/100\n",
            "1875/1875 [==============================] - 26s 14ms/step - loss: 0.5244 - accuracy: 0.2185 - val_loss: 0.4969 - val_accuracy: 0.2455\n",
            "Epoch 57/100\n",
            "1875/1875 [==============================] - 27s 14ms/step - loss: 0.5933 - accuracy: 0.2108 - val_loss: 0.4064 - val_accuracy: 0.2287\n",
            "Epoch 58/100\n",
            "1875/1875 [==============================] - 26s 14ms/step - loss: 0.4617 - accuracy: 0.2192 - val_loss: 0.3451 - val_accuracy: 0.2507\n",
            "Epoch 59/100\n",
            "1875/1875 [==============================] - 26s 14ms/step - loss: 0.4772 - accuracy: 0.2246 - val_loss: 0.3516 - val_accuracy: 0.2494\n",
            "Epoch 60/100\n",
            "1875/1875 [==============================] - 26s 14ms/step - loss: 0.4232 - accuracy: 0.2273 - val_loss: 0.3714 - val_accuracy: 0.2490\n",
            "Epoch 61/100\n",
            "1875/1875 [==============================] - 26s 14ms/step - loss: 0.4479 - accuracy: 0.2263 - val_loss: 0.3046 - val_accuracy: 0.2507\n",
            "Epoch 62/100\n",
            "1875/1875 [==============================] - 26s 14ms/step - loss: 0.4008 - accuracy: 0.2273 - val_loss: 0.3690 - val_accuracy: 0.2513\n",
            "Epoch 63/100\n",
            "1875/1875 [==============================] - 26s 14ms/step - loss: 0.3660 - accuracy: 0.2279 - val_loss: 0.3160 - val_accuracy: 0.2492\n",
            "Epoch 64/100\n",
            "1875/1875 [==============================] - 26s 14ms/step - loss: 0.4358 - accuracy: 0.2264 - val_loss: 0.3229 - val_accuracy: 0.2511\n",
            "Epoch 65/100\n",
            "1875/1875 [==============================] - 25s 13ms/step - loss: 0.4410 - accuracy: 0.2255 - val_loss: 0.3477 - val_accuracy: 0.2449\n",
            "Epoch 66/100\n",
            "1875/1875 [==============================] - 26s 14ms/step - loss: 0.3723 - accuracy: 0.2280 - val_loss: 0.3383 - val_accuracy: 0.2506\n",
            "Epoch 67/100\n",
            "1875/1875 [==============================] - 26s 14ms/step - loss: 0.3575 - accuracy: 0.2283 - val_loss: 0.3072 - val_accuracy: 0.2500\n",
            "Epoch 68/100\n",
            "1875/1875 [==============================] - 25s 13ms/step - loss: 0.4431 - accuracy: 0.2255 - val_loss: 0.4155 - val_accuracy: 0.2465\n",
            "Epoch 69/100\n",
            "1875/1875 [==============================] - 26s 14ms/step - loss: 0.3446 - accuracy: 0.2279 - val_loss: 0.2495 - val_accuracy: 0.2514\n",
            "Epoch 70/100\n",
            "1875/1875 [==============================] - 26s 14ms/step - loss: 0.3544 - accuracy: 0.2280 - val_loss: 0.3258 - val_accuracy: 0.2487\n",
            "Epoch 71/100\n",
            "1875/1875 [==============================] - 26s 14ms/step - loss: 0.3913 - accuracy: 0.2270 - val_loss: 0.2783 - val_accuracy: 0.2498\n",
            "Epoch 72/100\n",
            "1875/1875 [==============================] - 26s 14ms/step - loss: 0.3757 - accuracy: 0.2275 - val_loss: 0.6775 - val_accuracy: 0.2489\n",
            "Epoch 73/100\n",
            "1875/1875 [==============================] - 26s 14ms/step - loss: 0.8460 - accuracy: 0.2034 - val_loss: 0.8881 - val_accuracy: 0.2027\n",
            "Epoch 74/100\n",
            "1875/1875 [==============================] - 26s 14ms/step - loss: 0.7212 - accuracy: 0.1984 - val_loss: 0.4445 - val_accuracy: 0.2334\n",
            "Epoch 75/100\n",
            "1875/1875 [==============================] - 26s 14ms/step - loss: 0.4863 - accuracy: 0.2077 - val_loss: 0.3220 - val_accuracy: 0.2441\n",
            "Epoch 76/100\n",
            "1875/1875 [==============================] - 23s 12ms/step - loss: 0.4389 - accuracy: 0.2114 - val_loss: 0.3065 - val_accuracy: 0.2456\n",
            "Epoch 77/100\n",
            "1875/1875 [==============================] - 22s 12ms/step - loss: 0.3636 - accuracy: 0.2165 - val_loss: 0.2774 - val_accuracy: 0.2484\n",
            "Epoch 78/100\n",
            "1875/1875 [==============================] - 22s 12ms/step - loss: 0.3654 - accuracy: 0.2229 - val_loss: 0.2406 - val_accuracy: 0.2505\n",
            "Epoch 79/100\n",
            "1875/1875 [==============================] - 22s 12ms/step - loss: 0.3475 - accuracy: 0.2304 - val_loss: 0.2653 - val_accuracy: 0.2504\n",
            "Epoch 80/100\n",
            "1875/1875 [==============================] - 23s 12ms/step - loss: 0.5670 - accuracy: 0.2032 - val_loss: 0.3085 - val_accuracy: 0.2432\n",
            "Epoch 81/100\n",
            "1875/1875 [==============================] - 26s 14ms/step - loss: 0.6308 - accuracy: 0.2087 - val_loss: 0.3785 - val_accuracy: 0.2453\n",
            "Epoch 82/100\n",
            "1875/1875 [==============================] - 26s 14ms/step - loss: 0.3901 - accuracy: 0.2161 - val_loss: 0.2808 - val_accuracy: 0.2498\n",
            "Epoch 83/100\n",
            "1875/1875 [==============================] - 26s 14ms/step - loss: 0.3390 - accuracy: 0.2216 - val_loss: 0.2432 - val_accuracy: 0.2513\n",
            "Epoch 84/100\n",
            "1875/1875 [==============================] - 25s 13ms/step - loss: 0.3199 - accuracy: 0.2254 - val_loss: 0.3087 - val_accuracy: 0.2501\n",
            "Epoch 85/100\n",
            "1875/1875 [==============================] - 25s 13ms/step - loss: 0.3748 - accuracy: 0.2249 - val_loss: 0.2486 - val_accuracy: 0.2511\n",
            "Epoch 86/100\n",
            "1875/1875 [==============================] - 26s 14ms/step - loss: 0.4196 - accuracy: 0.2276 - val_loss: 0.4838 - val_accuracy: 0.2489\n",
            "Epoch 87/100\n",
            "1875/1875 [==============================] - 25s 13ms/step - loss: 0.3582 - accuracy: 0.2273 - val_loss: 0.2683 - val_accuracy: 0.2513\n",
            "Epoch 88/100\n",
            "1875/1875 [==============================] - 25s 13ms/step - loss: 0.3335 - accuracy: 0.2276 - val_loss: 0.3303 - val_accuracy: 0.2493\n",
            "Epoch 89/100\n",
            "1875/1875 [==============================] - 26s 14ms/step - loss: 0.3941 - accuracy: 0.2260 - val_loss: 0.7103 - val_accuracy: 0.2423\n",
            "Epoch 90/100\n",
            "1875/1875 [==============================] - 25s 14ms/step - loss: 0.4253 - accuracy: 0.2233 - val_loss: 0.2734 - val_accuracy: 0.2449\n",
            "Epoch 91/100\n",
            "1875/1875 [==============================] - 26s 14ms/step - loss: 0.3158 - accuracy: 0.2172 - val_loss: 0.2295 - val_accuracy: 0.2498\n",
            "Epoch 92/100\n",
            "1875/1875 [==============================] - 26s 14ms/step - loss: 0.4708 - accuracy: 0.2161 - val_loss: 0.2496 - val_accuracy: 0.2503\n",
            "Epoch 93/100\n",
            "1875/1875 [==============================] - 25s 13ms/step - loss: 0.3249 - accuracy: 0.2278 - val_loss: 0.7527 - val_accuracy: 0.2446\n",
            "Epoch 94/100\n",
            "1875/1875 [==============================] - 25s 14ms/step - loss: 0.3370 - accuracy: 0.2281 - val_loss: 0.2305 - val_accuracy: 0.2515\n",
            "Epoch 95/100\n",
            "1875/1875 [==============================] - 26s 14ms/step - loss: 0.3061 - accuracy: 0.2293 - val_loss: 0.2213 - val_accuracy: 0.2511\n",
            "Epoch 96/100\n",
            "1875/1875 [==============================] - 26s 14ms/step - loss: 0.3157 - accuracy: 0.2291 - val_loss: 0.2285 - val_accuracy: 0.2517\n",
            "Epoch 97/100\n",
            "1875/1875 [==============================] - 26s 14ms/step - loss: 0.2743 - accuracy: 0.2290 - val_loss: 0.1994 - val_accuracy: 0.2515\n",
            "Epoch 98/100\n",
            "1875/1875 [==============================] - 26s 14ms/step - loss: 0.2998 - accuracy: 0.2287 - val_loss: 0.3948 - val_accuracy: 0.2514\n",
            "Epoch 99/100\n",
            "1875/1875 [==============================] - 25s 13ms/step - loss: 0.3051 - accuracy: 0.2287 - val_loss: 0.2513 - val_accuracy: 0.2502\n",
            "Epoch 100/100\n",
            "1875/1875 [==============================] - 26s 14ms/step - loss: 0.3110 - accuracy: 0.2264 - val_loss: 0.2270 - val_accuracy: 0.2505\n"
          ]
        }
      ],
      "source": [
        "history = model.fit(X_train, y_train, batch_size=64, epochs=100, validation_data=(X_val, y_val))\n",
        "#model.save('NewAllDataModel_E100_B64.h5')"
      ]
    },
    {
      "cell_type": "code",
      "execution_count": 37,
      "metadata": {
        "id": "R7QQeqVidKBR",
        "colab": {
          "base_uri": "https://localhost:8080/"
        },
        "outputId": "15a1f1ed-9cc1-43f8-9793-c1894f26cc33"
      },
      "outputs": [
        {
          "output_type": "stream",
          "name": "stdout",
          "text": [
            "469/469 [==============================] - 2s 5ms/step - loss: 0.2304 - accuracy: 0.2538\n"
          ]
        }
      ],
      "source": [
        "test_acc = model.evaluate(X_test, y_test)"
      ]
    },
    {
      "cell_type": "code",
      "source": [
        "test_acc"
      ],
      "metadata": {
        "id": "6fuTmgGrUgGg",
        "colab": {
          "base_uri": "https://localhost:8080/"
        },
        "outputId": "2229ed32-1910-465e-a974-ebd32eabdf2e"
      },
      "execution_count": 38,
      "outputs": [
        {
          "output_type": "execute_result",
          "data": {
            "text/plain": [
              "[0.23042534291744232, 0.25380000472068787]"
            ]
          },
          "metadata": {},
          "execution_count": 38
        }
      ]
    },
    {
      "cell_type": "code",
      "execution_count": 39,
      "metadata": {
        "id": "OHpifyqGdKn-",
        "colab": {
          "base_uri": "https://localhost:8080/"
        },
        "outputId": "68ce0fea-75c9-4ff3-dff4-2626d4e594e4"
      },
      "outputs": [
        {
          "output_type": "stream",
          "name": "stdout",
          "text": [
            "469/469 [==============================] - 2s 4ms/step\n"
          ]
        }
      ],
      "source": [
        "y_test_prob = model.predict(X_test, verbose=1)"
      ]
    },
    {
      "cell_type": "code",
      "source": [
        "np.set_printoptions(suppress=True)\n",
        "y_test_prob_backup = y_test_prob\n",
        "y_test_prob"
      ],
      "metadata": {
        "id": "rRPswrrkmhp2",
        "colab": {
          "base_uri": "https://localhost:8080/"
        },
        "outputId": "5e575b7a-bc90-4d56-8e6a-b9fa6ddc8354"
      },
      "execution_count": 40,
      "outputs": [
        {
          "output_type": "execute_result",
          "data": {
            "text/plain": [
              "array([[4.8874445],\n",
              "       [3.8298125],\n",
              "       [1.4630282],\n",
              "       ...,\n",
              "       [2.8370824],\n",
              "       [4.5081716],\n",
              "       [1.9470758]], dtype=float32)"
            ]
          },
          "metadata": {},
          "execution_count": 40
        }
      ]
    },
    {
      "cell_type": "code",
      "source": [
        "plt.figure(figsize=(10,10))\n",
        "plt.hist(y_test_prob_backup)"
      ],
      "metadata": {
        "id": "qsgK5XvWjrAP",
        "colab": {
          "base_uri": "https://localhost:8080/",
          "height": 700
        },
        "outputId": "fd56b3c5-ea3b-45d2-cd20-316dd61f04aa"
      },
      "execution_count": 41,
      "outputs": [
        {
          "output_type": "execute_result",
          "data": {
            "text/plain": [
              "(array([1866., 1649., 1380., 1089., 1727., 2181., 1548., 1498.,  381.,\n",
              "        1681.]),\n",
              " array([-0.07436538,  0.68914694,  1.4526592 ,  2.2161715 ,  2.9796839 ,\n",
              "         3.743196  ,  4.5067086 ,  5.2702208 ,  6.033733  ,  6.7972455 ,\n",
              "         7.5607576 ], dtype=float32),\n",
              " <a list of 10 Patch objects>)"
            ]
          },
          "metadata": {},
          "execution_count": 41
        },
        {
          "output_type": "display_data",
          "data": {
            "text/plain": [
              "<Figure size 720x720 with 1 Axes>"
            ],
            "image/png": "[encoded data removed]"
          },
          "metadata": {
            "needs_background": "light"
          }
        }
      ]
    },
    {
      "cell_type": "code",
      "source": [
        "y_test_prob_backup[:10]"
      ],
      "metadata": {
        "id": "M6Xj4ugPx610",
        "colab": {
          "base_uri": "https://localhost:8080/"
        },
        "outputId": "64fd88df-d293-4e59-a209-4aafdbadea60"
      },
      "execution_count": 42,
      "outputs": [
        {
          "output_type": "execute_result",
          "data": {
            "text/plain": [
              "array([[4.8874445],\n",
              "       [3.8298125],\n",
              "       [1.4630282],\n",
              "       [3.9921286],\n",
              "       [5.882022 ],\n",
              "       [6.9647703],\n",
              "       [1.1702666],\n",
              "       [3.9508896],\n",
              "       [2.1187034],\n",
              "       [1.0339124]], dtype=float32)"
            ]
          },
          "metadata": {},
          "execution_count": 42
        }
      ]
    },
    {
      "cell_type": "code",
      "execution_count": 43,
      "metadata": {
        "id": "8DoJy_p9dPzN"
      },
      "outputs": [],
      "source": [
        "from sklearn.metrics import multilabel_confusion_matrix"
      ]
    },
    {
      "cell_type": "code",
      "source": [
        "y_test"
      ],
      "metadata": {
        "id": "n1Us2yrfcGl-",
        "colab": {
          "base_uri": "https://localhost:8080/"
        },
        "outputId": "20109f38-427b-4e53-b7a6-70cfd39a6a2e"
      },
      "execution_count": 44,
      "outputs": [
        {
          "output_type": "execute_result",
          "data": {
            "text/plain": [
              "array([5, 4, 2, ..., 1, 4, 2])"
            ]
          },
          "metadata": {},
          "execution_count": 44
        }
      ]
    },
    {
      "cell_type": "code",
      "source": [
        "y_test.shape"
      ],
      "metadata": {
        "id": "VnmvTcvWbxr9",
        "colab": {
          "base_uri": "https://localhost:8080/"
        },
        "outputId": "905f2854-2ffa-45e9-e8e8-befcab10335e"
      },
      "execution_count": 45,
      "outputs": [
        {
          "output_type": "execute_result",
          "data": {
            "text/plain": [
              "(15000,)"
            ]
          },
          "metadata": {},
          "execution_count": 45
        }
      ]
    },
    {
      "cell_type": "code",
      "source": [
        "y_test_prob"
      ],
      "metadata": {
        "id": "fLgDwAIfiyv2",
        "colab": {
          "base_uri": "https://localhost:8080/"
        },
        "outputId": "b069a39a-57e5-49fc-971c-afd01d5b5327"
      },
      "execution_count": 46,
      "outputs": [
        {
          "output_type": "execute_result",
          "data": {
            "text/plain": [
              "array([[4.8874445],\n",
              "       [3.8298125],\n",
              "       [1.4630282],\n",
              "       ...,\n",
              "       [2.8370824],\n",
              "       [4.5081716],\n",
              "       [1.9470758]], dtype=float32)"
            ]
          },
          "metadata": {},
          "execution_count": 46
        }
      ]
    },
    {
      "cell_type": "code",
      "source": [
        "y_test_pred = np.reshape(y_test_prob, -1)"
      ],
      "metadata": {
        "id": "ISi7-hg2gI7f"
      },
      "execution_count": 47,
      "outputs": []
    },
    {
      "cell_type": "code",
      "source": [
        "y_test_pred"
      ],
      "metadata": {
        "id": "lsLE4-aGiT6A",
        "colab": {
          "base_uri": "https://localhost:8080/"
        },
        "outputId": "1cdb04a5-4bb4-44db-8e50-c30c31a77a52"
      },
      "execution_count": 48,
      "outputs": [
        {
          "output_type": "execute_result",
          "data": {
            "text/plain": [
              "array([4.8874445, 3.8298125, 1.4630282, ..., 2.8370824, 4.5081716,\n",
              "       1.9470758], dtype=float32)"
            ]
          },
          "metadata": {},
          "execution_count": 48
        }
      ]
    },
    {
      "cell_type": "code",
      "source": [
        "y_test_pred_int = np.round(y_test_pred)\n",
        "print(y_test_pred_int)\n",
        "y_test_pred_int = y_test_pred_int.astype(int)"
      ],
      "metadata": {
        "id": "jiZwDk3pvcVw",
        "colab": {
          "base_uri": "https://localhost:8080/"
        },
        "outputId": "627586db-1557-4e99-fd8b-1251c00d1669"
      },
      "execution_count": 49,
      "outputs": [
        {
          "output_type": "stream",
          "name": "stdout",
          "text": [
            "[5. 4. 1. ... 3. 5. 2.]\n"
          ]
        }
      ]
    },
    {
      "cell_type": "code",
      "source": [
        "y_test_pred_int"
      ],
      "metadata": {
        "id": "VTPEZkizvo1c",
        "colab": {
          "base_uri": "https://localhost:8080/"
        },
        "outputId": "283ebc0f-73ee-47b4-a0b7-4a745a6684ee"
      },
      "execution_count": 50,
      "outputs": [
        {
          "output_type": "execute_result",
          "data": {
            "text/plain": [
              "array([5, 4, 1, ..., 3, 5, 2])"
            ]
          },
          "metadata": {},
          "execution_count": 50
        }
      ]
    },
    {
      "cell_type": "code",
      "execution_count": 51,
      "metadata": {
        "id": "fTCsPjW8dQaZ"
      },
      "outputs": [],
      "source": [
        "cfm=confusion_matrix(y_test, y_test_pred_int)"
      ]
    },
    {
      "cell_type": "code",
      "source": [
        "cfm"
      ],
      "metadata": {
        "id": "_67lPg6ic4cH",
        "colab": {
          "base_uri": "https://localhost:8080/"
        },
        "outputId": "49c9878d-6994-401b-c9b5-61ae501952e3"
      },
      "execution_count": 52,
      "outputs": [
        {
          "output_type": "execute_result",
          "data": {
            "text/plain": [
              "array([[1861,   19,    0,    1,    1,    0,    2,    1,    0],\n",
              "       [   0, 1620,  307,   18,    0,    1,    0,    0,    0],\n",
              "       [   0,   90, 1424,  318,   23,    2,    0,    0,    0],\n",
              "       [   0,    0,   31, 1182,  619,   25,    1,    0,    0],\n",
              "       [   0,    0,    0,  169, 1536,  196,    5,    0,    0],\n",
              "       [   0,    0,    1,   30,  533, 1259,   53,    0,    0],\n",
              "       [   0,    0,    2,   25,   68,  340, 1404,   21,    0],\n",
              "       [   1,    0,    0,    1,    1,    4,   38, 1766,    1],\n",
              "       [   0,    0,    0,    0,    0,    0,    0,    0,    0]])"
            ]
          },
          "metadata": {},
          "execution_count": 52
        }
      ]
    },
    {
      "cell_type": "code",
      "source": [
        " print(classification_report(y_test,y_test_pred_int))"
      ],
      "metadata": {
        "id": "XTqR_xnwRWCJ",
        "colab": {
          "base_uri": "https://localhost:8080/"
        },
        "outputId": "036407b5-51cd-463e-f501-66524b10ebed"
      },
      "execution_count": 53,
      "outputs": [
        {
          "output_type": "stream",
          "name": "stdout",
          "text": [
            "              precision    recall  f1-score   support\n",
            "\n",
            "           0       1.00      0.99      0.99      1885\n",
            "           1       0.94      0.83      0.88      1946\n",
            "           2       0.81      0.77      0.79      1857\n",
            "           3       0.68      0.64      0.66      1858\n",
            "           4       0.55      0.81      0.66      1906\n",
            "           5       0.69      0.67      0.68      1876\n",
            "           6       0.93      0.75      0.83      1860\n",
            "           7       0.99      0.97      0.98      1812\n",
            "           8       0.00      0.00      0.00         0\n",
            "\n",
            "    accuracy                           0.80     15000\n",
            "   macro avg       0.73      0.71      0.72     15000\n",
            "weighted avg       0.82      0.80      0.81     15000\n",
            "\n"
          ]
        }
      ]
    },
    {
      "cell_type": "code",
      "source": [
        "plt.plot(y_test_pred, y_test, 'o')\n",
        "#plt.title('')\n",
        "plt.ylabel('y_test')\n",
        "plt.xlabel('y_test_pred')\n",
        "plt.show()"
      ],
      "metadata": {
        "id": "l5sCwqd8ZdyS",
        "colab": {
          "base_uri": "https://localhost:8080/",
          "height": 282
        },
        "outputId": "4de43bca-8ee2-46b9-9cc4-11d05b0b38eb"
      },
      "execution_count": 54,
      "outputs": [
        {
          "output_type": "display_data",
          "data": {
            "text/plain": [
              "<Figure size 432x288 with 1 Axes>"
            ],
            "image/png": "[encoded data removed]"
          },
          "metadata": {
            "needs_background": "light"
          }
        }
      ]
    },
    {
      "cell_type": "code",
      "source": [
        "plt.plot(y_test_pred_int, y_test, 'o')\n",
        "#plt.title('')\n",
        "plt.ylabel('y_test')\n",
        "plt.xlabel('y_test_pred_int')\n",
        "plt.show()"
      ],
      "metadata": {
        "id": "Fug6j8EeXP5G",
        "colab": {
          "base_uri": "https://localhost:8080/",
          "height": 282
        },
        "outputId": "1f99346b-4ef4-4938-a955-18828ef05b81"
      },
      "execution_count": 55,
      "outputs": [
        {
          "output_type": "display_data",
          "data": {
            "text/plain": [
              "<Figure size 432x288 with 1 Axes>"
            ],
            "image/png": "[encoded data removed]"
          },
          "metadata": {
            "needs_background": "light"
          }
        }
      ]
    },
    {
      "cell_type": "code",
      "execution_count": 56,
      "metadata": {
        "id": "fhdLAhgPUnH3"
      },
      "outputs": [],
      "source": [
        "def plot_learningCurve(history, epoch):\n",
        "  # Plot training & validation accuracy values\n",
        "  epoch_range = range(1, epoch+1)\n",
        "  plt.plot(epoch_range, history.history['accuracy'])\n",
        "  plt.plot(epoch_range, history.history['val_accuracy'])\n",
        "  plt.title('Model accuracy')\n",
        "  plt.ylabel('Accuracy')\n",
        "  plt.xlabel('Epoch')\n",
        "  plt.legend(['Train', 'Val'], loc='upper left')\n",
        "  plt.show()\n",
        "\n",
        "  # Plot training & validation loss values\n",
        "  plt.plot(epoch_range, history.history['loss'])\n",
        "  plt.plot(epoch_range, history.history['val_loss'])\n",
        "  plt.title('Model loss')\n",
        "  plt.ylabel('Loss')\n",
        "  plt.xlabel('Epoch')\n",
        "  plt.legend(['Train', 'Val'], loc='upper left')\n",
        "  plt.show()"
      ]
    },
    {
      "cell_type": "code",
      "execution_count": 57,
      "metadata": {
        "id": "WlkQkWHgU5mL",
        "colab": {
          "base_uri": "https://localhost:8080/",
          "height": 581
        },
        "outputId": "f3946d6b-d72f-4009-f082-e99bcb76770b"
      },
      "outputs": [
        {
          "output_type": "display_data",
          "data": {
            "text/plain": [
              "<Figure size 432x288 with 1 Axes>"
            ],
            "image/png": "[encoded data removed]"
          },
          "metadata": {
            "needs_background": "light"
          }
        },
        {
          "output_type": "display_data",
          "data": {
            "text/plain": [
              "<Figure size 432x288 with 1 Axes>"
            ],
            "image/png": "[encoded data removed]"
          },
          "metadata": {
            "needs_background": "light"
          }
        }
      ],
      "source": [
        "plot_learningCurve(history, 100)"
      ]
    },
    {
      "cell_type": "code",
      "source": [
        "import numpy as np\n",
        "import matplotlib.pyplot as plt\n",
        "\n",
        "from sklearn import svm, datasets\n",
        "from sklearn.model_selection import train_test_split\n",
        "from sklearn.metrics import confusion_matrix\n",
        "from sklearn.utils.multiclass import unique_labels\n",
        "\n",
        "class_names = np.array(['0', '6', '10', '15', '20', '25', '30', '35'])\n",
        "\n",
        "def plot_confusion_matrix(y_true, y_pred, classes,\n",
        "                          normalize=False,\n",
        "                          title=None,\n",
        "                          cmap=plt.cm.Blues):\n",
        "    \"\"\"\n",
        "    This function prints and plots the confusion matrix.\n",
        "    Normalization can be applied by setting `normalize=True`.\n",
        "    \"\"\"\n",
        "    if not title:\n",
        "        if normalize:\n",
        "            title = 'Normalized confusion matrix'\n",
        "        else:\n",
        "            title = 'Confusion matrix, without normalization'\n",
        "\n",
        "    # Compute confusion matrix\n",
        "    cm = confusion_matrix(y_true, y_pred)\n",
        "    # Only use the labels that appear in the data\n",
        "    classes = classes[unique_labels(y_true, y_pred)]\n",
        "    if normalize:\n",
        "        cm = cm.astype('float') / cm.sum(axis=1)[:, np.newaxis]\n",
        "        print(\"Normalized confusion matrix\")\n",
        "    else:\n",
        "        print('Confusion matrix, without normalization')\n",
        "\n",
        "    print(cm)\n",
        "\n",
        "    fig, ax = plt.subplots()\n",
        "    im = ax.imshow(cm, interpolation='nearest', cmap=cmap)\n",
        "    ax.figure.colorbar(im, ax=ax)\n",
        "    # We want to show all ticks...\n",
        "    ax.set(xticks=np.arange(cm.shape[1]),\n",
        "           yticks=np.arange(cm.shape[0]),\n",
        "           # ... and label them with the respective list entries\n",
        "           xticklabels=classes, yticklabels=classes,\n",
        "           title=title,\n",
        "           ylabel='True label',\n",
        "           xlabel='Predicted label')\n",
        "\n",
        "    # Rotate the tick labels and set their alignment.\n",
        "    plt.setp(ax.get_xticklabels(), rotation=45, ha=\"right\",\n",
        "             rotation_mode=\"anchor\")\n",
        "\n",
        "    # Loop over data dimensions and create text annotations.\n",
        "    fmt = '.2f' if normalize else 'd'\n",
        "    thresh = cm.max() / 2.\n",
        "    for i in range(cm.shape[0]):\n",
        "        for j in range(cm.shape[1]):\n",
        "            ax.text(j, i, format(cm[i, j], fmt),\n",
        "                    ha=\"center\", va=\"center\",\n",
        "                    color=\"white\" if cm[i, j] > thresh else \"black\")\n",
        "    fig.tight_layout()\n",
        "\n",
        "    return ax\n",
        "\n",
        "\n",
        "np.set_printoptions(precision=2)\n",
        "\n",
        "# Plot non-normalized confusion matrix\n",
        "plot_confusion_matrix(y_test, y_test_pred_int, classes=class_names,\n",
        "                      title='Confusion matrix, without normalization')\n",
        "\n",
        "# Plot normalized confusion matrix\n",
        "plot_confusion_matrix(y_test, y_test_pred_int, classes=class_names, normalize=True,\n",
        "                      title='Normalized confusion matrix')\n",
        "\n",
        "plt.show()"
      ],
      "metadata": {
        "id": "H_QpRmAjwxbM",
        "colab": {
          "base_uri": "https://localhost:8080/",
          "height": 367
        },
        "outputId": "41dddd20-9fde-454a-a9a8-88536dfda363"
      },
      "execution_count": 58,
      "outputs": [
        {
          "output_type": "error",
          "ename": "IndexError",
          "evalue": "ignored",
          "traceback": [
            "\u001b[0;31m---------------------------------------------------------------------------\u001b[0m",
            "\u001b[0;31mIndexError\u001b[0m                                Traceback (most recent call last)",
            "\u001b[0;32m<ipython-input-58-2558ccbec8da>\u001b[0m in \u001b[0;36m<module>\u001b[0;34m()\u001b[0m\n\u001b[1;32m     68\u001b[0m \u001b[0;31m# Plot non-normalized confusion matrix\u001b[0m\u001b[0;34m\u001b[0m\u001b[0;34m\u001b[0m\u001b[0;34m\u001b[0m\u001b[0m\n\u001b[1;32m     69\u001b[0m plot_confusion_matrix(y_test, y_test_pred_int, classes=class_names,\n\u001b[0;32m---> 70\u001b[0;31m                       title='Confusion matrix, without normalization')\n\u001b[0m\u001b[1;32m     71\u001b[0m \u001b[0;34m\u001b[0m\u001b[0m\n\u001b[1;32m     72\u001b[0m \u001b[0;31m# Plot normalized confusion matrix\u001b[0m\u001b[0;34m\u001b[0m\u001b[0;34m\u001b[0m\u001b[0;34m\u001b[0m\u001b[0m\n",
            "\u001b[0;32m<ipython-input-58-2558ccbec8da>\u001b[0m in \u001b[0;36mplot_confusion_matrix\u001b[0;34m(y_true, y_pred, classes, normalize, title, cmap)\u001b[0m\n\u001b[1;32m     26\u001b[0m     \u001b[0mcm\u001b[0m \u001b[0;34m=\u001b[0m \u001b[0mconfusion_matrix\u001b[0m\u001b[0;34m(\u001b[0m\u001b[0my_true\u001b[0m\u001b[0;34m,\u001b[0m \u001b[0my_pred\u001b[0m\u001b[0;34m)\u001b[0m\u001b[0;34m\u001b[0m\u001b[0;34m\u001b[0m\u001b[0m\n\u001b[1;32m     27\u001b[0m     \u001b[0;31m# Only use the labels that appear in the data\u001b[0m\u001b[0;34m\u001b[0m\u001b[0;34m\u001b[0m\u001b[0;34m\u001b[0m\u001b[0m\n\u001b[0;32m---> 28\u001b[0;31m     \u001b[0mclasses\u001b[0m \u001b[0;34m=\u001b[0m \u001b[0mclasses\u001b[0m\u001b[0;34m[\u001b[0m\u001b[0munique_labels\u001b[0m\u001b[0;34m(\u001b[0m\u001b[0my_true\u001b[0m\u001b[0;34m,\u001b[0m \u001b[0my_pred\u001b[0m\u001b[0;34m)\u001b[0m\u001b[0;34m]\u001b[0m\u001b[0;34m\u001b[0m\u001b[0;34m\u001b[0m\u001b[0m\n\u001b[0m\u001b[1;32m     29\u001b[0m     \u001b[0;32mif\u001b[0m \u001b[0mnormalize\u001b[0m\u001b[0;34m:\u001b[0m\u001b[0;34m\u001b[0m\u001b[0;34m\u001b[0m\u001b[0m\n\u001b[1;32m     30\u001b[0m         \u001b[0mcm\u001b[0m \u001b[0;34m=\u001b[0m \u001b[0mcm\u001b[0m\u001b[0;34m.\u001b[0m\u001b[0mastype\u001b[0m\u001b[0;34m(\u001b[0m\u001b[0;34m'float'\u001b[0m\u001b[0;34m)\u001b[0m \u001b[0;34m/\u001b[0m \u001b[0mcm\u001b[0m\u001b[0;34m.\u001b[0m\u001b[0msum\u001b[0m\u001b[0;34m(\u001b[0m\u001b[0maxis\u001b[0m\u001b[0;34m=\u001b[0m\u001b[0;36m1\u001b[0m\u001b[0;34m)\u001b[0m\u001b[0;34m[\u001b[0m\u001b[0;34m:\u001b[0m\u001b[0;34m,\u001b[0m \u001b[0mnp\u001b[0m\u001b[0;34m.\u001b[0m\u001b[0mnewaxis\u001b[0m\u001b[0;34m]\u001b[0m\u001b[0;34m\u001b[0m\u001b[0;34m\u001b[0m\u001b[0m\n",
            "\u001b[0;31mIndexError\u001b[0m: index 8 is out of bounds for axis 0 with size 8"
          ]
        }
      ]
    }
  ],
  "metadata": {
    "colab": {
      "collapsed_sections": [
        "f857kfHqUk0-"
      ],
      "name": "Regresion_Multi_Class_MD_LSTM_step_200_files_120.ipynb",
      "provenance": [],
      "include_colab_link": true
    },
    "kernelspec": {
      "display_name": "Python 3",
      "name": "python3"
    },
    "language_info": {
      "name": "python"
    },
    "accelerator": "GPU"
  },
  "nbformat": 4,
  "nbformat_minor": 0
}