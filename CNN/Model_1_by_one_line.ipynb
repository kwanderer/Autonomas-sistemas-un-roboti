{
  "metadata": {
    "kernelspec": {
      "language": "python",
      "display_name": "Python 3",
      "name": "python3"
    },
    "language_info": {
      "name": "python",
      "version": "3.7.12",
      "mimetype": "text/x-python",
      "codemirror_mode": {
        "name": "ipython",
        "version": 3
      },
      "pygments_lexer": "ipython3",
      "nbconvert_exporter": "python",
      "file_extension": ".py"
    },
    "colab": {
      "name": "Model_1_by_one_line.ipynb",
      "provenance": [],
      "collapsed_sections": [],
      "include_colab_link": true
    },
    "accelerator": "GPU"
  },
  "nbformat_minor": 0,
  "nbformat": 4,
  "cells": [
    {
      "cell_type": "markdown",
      "metadata": {
        "id": "view-in-github",
        "colab_type": "text"
      },
      "source": [
        "<a href=\"https://colab.research.google.com/github/kwanderer/Autonomas-sistemas-un-roboti/blob/main/CNN/Model_1_by_one_line.ipynb\" target=\"_parent\"><img src=\"https://colab.research.google.com/assets/colab-badge.svg\" alt=\"Open In Colab\"/></a>"
      ]
    },
    {
      "cell_type": "code",
      "source": [
        "import sys\n",
        "import numpy as np\n",
        "import pandas as pd\n",
        "import tensorflow as tf\n",
        "import matplotlib.pyplot as plt\n",
        "from sklearn.model_selection import train_test_split\n",
        "from sklearn import preprocessing\n",
        "from sklearn.preprocessing import StandardScaler\n",
        "from sklearn.metrics import classification_report\n",
        "import warnings\n",
        "warnings.filterwarnings('ignore')\n",
        "plt.style.use('ggplot')\n",
        "import seaborn as sns \n",
        "%matplotlib inline"
      ],
      "metadata": {
        "execution": {
          "iopub.status.busy": "2022-03-09T19:23:03.253803Z",
          "iopub.execute_input": "2022-03-09T19:23:03.254417Z",
          "iopub.status.idle": "2022-03-09T19:23:08.469110Z",
          "shell.execute_reply.started": "2022-03-09T19:23:03.254272Z",
          "shell.execute_reply": "2022-03-09T19:23:08.468330Z"
        },
        "trusted": true,
        "id": "ssTvuSFNDBbX"
      },
      "execution_count": 5,
      "outputs": []
    },
    {
      "cell_type": "code",
      "source": [
        "from google.colab import drive\n",
        "import os\n",
        "drive.mount('/content/gdrive')\n",
        "os.chdir(\"/content/gdrive/MyDrive/Colab Notebooks/data_multiclass\")"
      ],
      "metadata": {
        "execution": {
          "iopub.status.busy": "2022-03-09T19:23:08.470930Z",
          "iopub.execute_input": "2022-03-09T19:23:08.471203Z",
          "iopub.status.idle": "2022-03-09T19:23:12.713130Z",
          "shell.execute_reply.started": "2022-03-09T19:23:08.471159Z",
          "shell.execute_reply": "2022-03-09T19:23:12.712327Z"
        },
        "trusted": true,
        "colab": {
          "base_uri": "https://localhost:8080/"
        },
        "id": "-zoH04gSDBbg",
        "outputId": "67ea66ee-7ba1-4d95-a4b3-6f6a32365103"
      },
      "execution_count": 6,
      "outputs": [
        {
          "output_type": "stream",
          "name": "stdout",
          "text": [
            "Drive already mounted at /content/gdrive; to attempt to forcibly remount, call drive.mount(\"/content/gdrive\", force_remount=True).\n"
          ]
        }
      ]
    },
    {
      "cell_type": "code",
      "source": [
        "df = pd.read_csv(\"combined_multiclass_csv.csv\")"
      ],
      "metadata": {
        "id": "rTZHPrFSDyvN"
      },
      "execution_count": 7,
      "outputs": []
    },
    {
      "cell_type": "code",
      "source": [
        "df.head()"
      ],
      "metadata": {
        "execution": {
          "iopub.status.busy": "2022-03-09T19:23:12.714704Z",
          "iopub.execute_input": "2022-03-09T19:23:12.714987Z",
          "iopub.status.idle": "2022-03-09T19:23:12.755981Z",
          "shell.execute_reply.started": "2022-03-09T19:23:12.714948Z",
          "shell.execute_reply": "2022-03-09T19:23:12.755126Z"
        },
        "trusted": true,
        "colab": {
          "base_uri": "https://localhost:8080/",
          "height": 206
        },
        "id": "NIZTvAfsDBbh",
        "outputId": "96459419-e769-40c0-8df5-fda68a2bcb6e"
      },
      "execution_count": 8,
      "outputs": [
        {
          "output_type": "execute_result",
          "data": {
            "text/plain": [
              "   tachometer  und-accelerometer-axial  und-accelerometer-radial  \\\n",
              "0    -0.59640                  1.65690                   0.20359   \n",
              "1    -0.52322                 -0.28902                  -0.31740   \n",
              "2    -0.55320                  1.64770                   0.41715   \n",
              "3    -0.57723                  0.15914                  -0.33321   \n",
              "4    -0.49280                  1.31650                   0.41147   \n",
              "\n",
              "   und-accelerometer-tangential  over-accelerometer-axial  \\\n",
              "0                      0.048174                  -0.18477   \n",
              "1                     -0.001450                  -0.19779   \n",
              "2                      0.038655                  -0.18563   \n",
              "3                     -0.011148                  -0.19892   \n",
              "4                      0.028096                  -0.19165   \n",
              "\n",
              "   over-accelerometer-radial  over-accelerometer-tangential  microphone  Class  \n",
              "0                  -0.021301                       -0.18447   -0.017205      7  \n",
              "1                  -0.023694                       -0.28712   -0.018203      7  \n",
              "2                  -0.021564                       -0.21215   -0.072039      7  \n",
              "3                  -0.025401                       -0.30076   -0.007373      7  \n",
              "4                  -0.022879                       -0.24147   -0.108590      7  "
            ],
            "text/html": [
              "\n",
              "  <div id=\"df-dddd63ef-8e56-458a-a3e0-bd4cbe30503f\">\n",
              "    <div class=\"colab-df-container\">\n",
              "      <div>\n",
              "<style scoped>\n",
              "    .dataframe tbody tr th:only-of-type {\n",
              "        vertical-align: middle;\n",
              "    }\n",
              "\n",
              "    .dataframe tbody tr th {\n",
              "        vertical-align: top;\n",
              "    }\n",
              "\n",
              "    .dataframe thead th {\n",
              "        text-align: right;\n",
              "    }\n",
              "</style>\n",
              "<table border=\"1\" class=\"dataframe\">\n",
              "  <thead>\n",
              "    <tr style=\"text-align: right;\">\n",
              "      <th></th>\n",
              "      <th>tachometer</th>\n",
              "      <th>und-accelerometer-axial</th>\n",
              "      <th>und-accelerometer-radial</th>\n",
              "      <th>und-accelerometer-tangential</th>\n",
              "      <th>over-accelerometer-axial</th>\n",
              "      <th>over-accelerometer-radial</th>\n",
              "      <th>over-accelerometer-tangential</th>\n",
              "      <th>microphone</th>\n",
              "      <th>Class</th>\n",
              "    </tr>\n",
              "  </thead>\n",
              "  <tbody>\n",
              "    <tr>\n",
              "      <th>0</th>\n",
              "      <td>-0.59640</td>\n",
              "      <td>1.65690</td>\n",
              "      <td>0.20359</td>\n",
              "      <td>0.048174</td>\n",
              "      <td>-0.18477</td>\n",
              "      <td>-0.021301</td>\n",
              "      <td>-0.18447</td>\n",
              "      <td>-0.017205</td>\n",
              "      <td>7</td>\n",
              "    </tr>\n",
              "    <tr>\n",
              "      <th>1</th>\n",
              "      <td>-0.52322</td>\n",
              "      <td>-0.28902</td>\n",
              "      <td>-0.31740</td>\n",
              "      <td>-0.001450</td>\n",
              "      <td>-0.19779</td>\n",
              "      <td>-0.023694</td>\n",
              "      <td>-0.28712</td>\n",
              "      <td>-0.018203</td>\n",
              "      <td>7</td>\n",
              "    </tr>\n",
              "    <tr>\n",
              "      <th>2</th>\n",
              "      <td>-0.55320</td>\n",
              "      <td>1.64770</td>\n",
              "      <td>0.41715</td>\n",
              "      <td>0.038655</td>\n",
              "      <td>-0.18563</td>\n",
              "      <td>-0.021564</td>\n",
              "      <td>-0.21215</td>\n",
              "      <td>-0.072039</td>\n",
              "      <td>7</td>\n",
              "    </tr>\n",
              "    <tr>\n",
              "      <th>3</th>\n",
              "      <td>-0.57723</td>\n",
              "      <td>0.15914</td>\n",
              "      <td>-0.33321</td>\n",
              "      <td>-0.011148</td>\n",
              "      <td>-0.19892</td>\n",
              "      <td>-0.025401</td>\n",
              "      <td>-0.30076</td>\n",
              "      <td>-0.007373</td>\n",
              "      <td>7</td>\n",
              "    </tr>\n",
              "    <tr>\n",
              "      <th>4</th>\n",
              "      <td>-0.49280</td>\n",
              "      <td>1.31650</td>\n",
              "      <td>0.41147</td>\n",
              "      <td>0.028096</td>\n",
              "      <td>-0.19165</td>\n",
              "      <td>-0.022879</td>\n",
              "      <td>-0.24147</td>\n",
              "      <td>-0.108590</td>\n",
              "      <td>7</td>\n",
              "    </tr>\n",
              "  </tbody>\n",
              "</table>\n",
              "</div>\n",
              "      <button class=\"colab-df-convert\" onclick=\"convertToInteractive('df-dddd63ef-8e56-458a-a3e0-bd4cbe30503f')\"\n",
              "              title=\"Convert this dataframe to an interactive table.\"\n",
              "              style=\"display:none;\">\n",
              "        \n",
              "  <svg xmlns=\"http://www.w3.org/2000/svg\" height=\"24px\"viewBox=\"0 0 24 24\"\n",
              "       width=\"24px\">\n",
              "    <path d=\"M0 0h24v24H0V0z\" fill=\"none\"/>\n",
              "    <path d=\"M18.56 5.44l.94 2.06.94-2.06 2.06-.94-2.06-.94-.94-2.06-.94 2.06-2.06.94zm-11 1L8.5 8.5l.94-2.06 2.06-.94-2.06-.94L8.5 2.5l-.94 2.06-2.06.94zm10 10l.94 2.06.94-2.06 2.06-.94-2.06-.94-.94-2.06-.94 2.06-2.06.94z\"/><path d=\"M17.41 7.96l-1.37-1.37c-.4-.4-.92-.59-1.43-.59-.52 0-1.04.2-1.43.59L10.3 9.45l-7.72 7.72c-.78.78-.78 2.05 0 2.83L4 21.41c.39.39.9.59 1.41.59.51 0 1.02-.2 1.41-.59l7.78-7.78 2.81-2.81c.8-.78.8-2.07 0-2.86zM5.41 20L4 18.59l7.72-7.72 1.47 1.35L5.41 20z\"/>\n",
              "  </svg>\n",
              "      </button>\n",
              "      \n",
              "  <style>\n",
              "    .colab-df-container {\n",
              "      display:flex;\n",
              "      flex-wrap:wrap;\n",
              "      gap: 12px;\n",
              "    }\n",
              "\n",
              "    .colab-df-convert {\n",
              "      background-color: #E8F0FE;\n",
              "      border: none;\n",
              "      border-radius: 50%;\n",
              "      cursor: pointer;\n",
              "      display: none;\n",
              "      fill: #1967D2;\n",
              "      height: 32px;\n",
              "      padding: 0 0 0 0;\n",
              "      width: 32px;\n",
              "    }\n",
              "\n",
              "    .colab-df-convert:hover {\n",
              "      background-color: #E2EBFA;\n",
              "      box-shadow: 0px 1px 2px rgba(60, 64, 67, 0.3), 0px 1px 3px 1px rgba(60, 64, 67, 0.15);\n",
              "      fill: #174EA6;\n",
              "    }\n",
              "\n",
              "    [theme=dark] .colab-df-convert {\n",
              "      background-color: #3B4455;\n",
              "      fill: #D2E3FC;\n",
              "    }\n",
              "\n",
              "    [theme=dark] .colab-df-convert:hover {\n",
              "      background-color: #434B5C;\n",
              "      box-shadow: 0px 1px 3px 1px rgba(0, 0, 0, 0.15);\n",
              "      filter: drop-shadow(0px 1px 2px rgba(0, 0, 0, 0.3));\n",
              "      fill: #FFFFFF;\n",
              "    }\n",
              "  </style>\n",
              "\n",
              "      <script>\n",
              "        const buttonEl =\n",
              "          document.querySelector('#df-dddd63ef-8e56-458a-a3e0-bd4cbe30503f button.colab-df-convert');\n",
              "        buttonEl.style.display =\n",
              "          google.colab.kernel.accessAllowed ? 'block' : 'none';\n",
              "\n",
              "        async function convertToInteractive(key) {\n",
              "          const element = document.querySelector('#df-dddd63ef-8e56-458a-a3e0-bd4cbe30503f');\n",
              "          const dataTable =\n",
              "            await google.colab.kernel.invokeFunction('convertToInteractive',\n",
              "                                                     [key], {});\n",
              "          if (!dataTable) return;\n",
              "\n",
              "          const docLinkHtml = 'Like what you see? Visit the ' +\n",
              "            '<a target=\"_blank\" href=https://colab.research.google.com/notebooks/data_table.ipynb>data table notebook</a>'\n",
              "            + ' to learn more about interactive tables.';\n",
              "          element.innerHTML = '';\n",
              "          dataTable['output_type'] = 'display_data';\n",
              "          await google.colab.output.renderOutput(dataTable, element);\n",
              "          const docLink = document.createElement('div');\n",
              "          docLink.innerHTML = docLinkHtml;\n",
              "          element.appendChild(docLink);\n",
              "        }\n",
              "      </script>\n",
              "    </div>\n",
              "  </div>\n",
              "  "
            ]
          },
          "metadata": {},
          "execution_count": 8
        }
      ]
    },
    {
      "cell_type": "code",
      "source": [
        "print('This data frame has {} rows and {} columns.'.format(df.shape[0], df.shape[1]))"
      ],
      "metadata": {
        "execution": {
          "iopub.status.busy": "2022-03-09T19:23:12.757255Z",
          "iopub.execute_input": "2022-03-09T19:23:12.757987Z",
          "iopub.status.idle": "2022-03-09T19:23:12.764342Z",
          "shell.execute_reply.started": "2022-03-09T19:23:12.757941Z",
          "shell.execute_reply": "2022-03-09T19:23:12.763522Z"
        },
        "trusted": true,
        "colab": {
          "base_uri": "https://localhost:8080/"
        },
        "id": "arZi9AlaDBbj",
        "outputId": "e15035a8-930e-4863-b469-701760540f64"
      },
      "execution_count": 9,
      "outputs": [
        {
          "output_type": "stream",
          "name": "stdout",
          "text": [
            "This data frame has 30000000 rows and 9 columns.\n"
          ]
        }
      ]
    },
    {
      "cell_type": "code",
      "source": [
        "#finding correlation between columns and plotting heatmap\n",
        "\n",
        "corr = df.corr()\n",
        "plt.figure(figsize=(12,10))\n",
        "heat = sns.heatmap(data=corr)\n",
        "plt.title('Heatmap of Correlation')"
      ],
      "metadata": {
        "execution": {
          "iopub.status.busy": "2022-03-09T19:23:13.025311Z",
          "iopub.execute_input": "2022-03-09T19:23:13.025868Z",
          "iopub.status.idle": "2022-03-09T19:23:14.431178Z",
          "shell.execute_reply.started": "2022-03-09T19:23:13.025827Z",
          "shell.execute_reply": "2022-03-09T19:23:14.430421Z"
        },
        "trusted": true,
        "colab": {
          "base_uri": "https://localhost:8080/",
          "height": 768
        },
        "id": "UqKCOanUDBbo",
        "outputId": "732d0415-a21d-47d9-9dcf-90e4f48673c0"
      },
      "execution_count": 10,
      "outputs": [
        {
          "output_type": "execute_result",
          "data": {
            "text/plain": [
              "Text(0.5, 1.0, 'Heatmap of Correlation')"
            ]
          },
          "metadata": {},
          "execution_count": 10
        },
        {
          "output_type": "display_data",
          "data": {
            "text/plain": [
              "<Figure size 864x720 with 2 Axes>"
            ],
            "image/png": "[encoded data removed]"
          },
          "metadata": {
            "needs_background": "light"
          }
        }
      ]
    },
    {
      "cell_type": "code",
      "source": [
        "df.isnull().sum()"
      ],
      "metadata": {
        "execution": {
          "iopub.status.busy": "2022-03-09T19:23:14.432637Z",
          "iopub.execute_input": "2022-03-09T19:23:14.433073Z",
          "iopub.status.idle": "2022-03-09T19:23:14.460344Z",
          "shell.execute_reply.started": "2022-03-09T19:23:14.433032Z",
          "shell.execute_reply": "2022-03-09T19:23:14.459495Z"
        },
        "trusted": true,
        "colab": {
          "base_uri": "https://localhost:8080/"
        },
        "id": "uj4iNgxZDBbq",
        "outputId": "115ef00b-d9a2-4125-a210-5dc890ac201d"
      },
      "execution_count": 11,
      "outputs": [
        {
          "output_type": "execute_result",
          "data": {
            "text/plain": [
              "tachometer                       0\n",
              "und-accelerometer-axial          0\n",
              "und-accelerometer-radial         0\n",
              "und-accelerometer-tangential     0\n",
              "over-accelerometer-axial         0\n",
              "over-accelerometer-radial        0\n",
              "over-accelerometer-tangential    0\n",
              "microphone                       0\n",
              "Class                            0\n",
              "dtype: int64"
            ]
          },
          "metadata": {},
          "execution_count": 11
        }
      ]
    },
    {
      "cell_type": "code",
      "source": [
        "df.info()"
      ],
      "metadata": {
        "execution": {
          "iopub.status.busy": "2022-03-09T19:23:14.461935Z",
          "iopub.execute_input": "2022-03-09T19:23:14.462215Z",
          "iopub.status.idle": "2022-03-09T19:23:14.497983Z",
          "shell.execute_reply.started": "2022-03-09T19:23:14.462165Z",
          "shell.execute_reply": "2022-03-09T19:23:14.497096Z"
        },
        "trusted": true,
        "colab": {
          "base_uri": "https://localhost:8080/"
        },
        "id": "oF2RDWabDBbs",
        "outputId": "b1c1e45c-360b-4511-a073-4ca8790c1870"
      },
      "execution_count": 12,
      "outputs": [
        {
          "output_type": "stream",
          "name": "stdout",
          "text": [
            "<class 'pandas.core.frame.DataFrame'>\n",
            "RangeIndex: 30000000 entries, 0 to 29999999\n",
            "Data columns (total 9 columns):\n",
            " #   Column                         Dtype  \n",
            "---  ------                         -----  \n",
            " 0   tachometer                     float64\n",
            " 1   und-accelerometer-axial        float64\n",
            " 2   und-accelerometer-radial       float64\n",
            " 3   und-accelerometer-tangential   float64\n",
            " 4   over-accelerometer-axial       float64\n",
            " 5   over-accelerometer-radial      float64\n",
            " 6   over-accelerometer-tangential  float64\n",
            " 7   microphone                     float64\n",
            " 8   Class                          int64  \n",
            "dtypes: float64(8), int64(1)\n",
            "memory usage: 2.0 GB\n"
          ]
        }
      ]
    },
    {
      "cell_type": "markdown",
      "source": [
        "**Model-1(Over Sampling)**"
      ],
      "metadata": {
        "id": "sfJm8G7MDBbw"
      }
    },
    {
      "cell_type": "code",
      "source": [
        "# Target y and features X for developing NN models\n",
        "y = df.Class\n",
        "X = df.drop(['Class'], axis=1)"
      ],
      "metadata": {
        "execution": {
          "iopub.status.busy": "2022-03-09T19:23:14.915669Z",
          "iopub.execute_input": "2022-03-09T19:23:14.916177Z",
          "iopub.status.idle": "2022-03-09T19:23:14.967971Z",
          "shell.execute_reply.started": "2022-03-09T19:23:14.916138Z",
          "shell.execute_reply": "2022-03-09T19:23:14.967121Z"
        },
        "trusted": true,
        "id": "aHoU-OocDBb3"
      },
      "execution_count": 13,
      "outputs": []
    },
    {
      "cell_type": "code",
      "source": [
        "X.shape, y.shape"
      ],
      "metadata": {
        "colab": {
          "base_uri": "https://localhost:8080/"
        },
        "id": "WCOHtHbU9p1o",
        "outputId": "b6f9392c-d501-42b4-b918-285407ddd888"
      },
      "execution_count": 14,
      "outputs": [
        {
          "output_type": "execute_result",
          "data": {
            "text/plain": [
              "((30000000, 8), (30000000,))"
            ]
          },
          "metadata": {},
          "execution_count": 14
        }
      ]
    },
    {
      "cell_type": "code",
      "source": [
        "from sklearn.model_selection import train_test_split\n",
        "from sklearn.metrics import recall_score, precision_score, f1_score, roc_auc_score, confusion_matrix, roc_curve, roc_auc_score"
      ],
      "metadata": {
        "execution": {
          "iopub.status.busy": "2022-03-09T19:23:14.969061Z",
          "iopub.execute_input": "2022-03-09T19:23:14.969319Z",
          "iopub.status.idle": "2022-03-09T19:23:14.978210Z",
          "shell.execute_reply.started": "2022-03-09T19:23:14.969291Z",
          "shell.execute_reply": "2022-03-09T19:23:14.977270Z"
        },
        "trusted": true,
        "id": "qzggi-JkDBb4"
      },
      "execution_count": 15,
      "outputs": []
    },
    {
      "cell_type": "code",
      "source": [
        "# split the data (X, y) to train-data and test-data\n",
        "X_train, X_test, y_train, y_test = train_test_split(X, y, train_size=0.6, test_size=0.2, stratify=y, random_state=42)"
      ],
      "metadata": {
        "execution": {
          "iopub.status.busy": "2022-03-09T19:23:14.980009Z",
          "iopub.execute_input": "2022-03-09T19:23:14.980658Z",
          "iopub.status.idle": "2022-03-09T19:23:15.370819Z",
          "shell.execute_reply.started": "2022-03-09T19:23:14.980595Z",
          "shell.execute_reply": "2022-03-09T19:23:15.370074Z"
        },
        "trusted": true,
        "id": "sN5Yy5OoDBb4"
      },
      "execution_count": 16,
      "outputs": []
    },
    {
      "cell_type": "code",
      "source": [
        "X_train.shape, X_test.shape"
      ],
      "metadata": {
        "execution": {
          "iopub.status.busy": "2022-03-09T19:23:15.372239Z",
          "iopub.execute_input": "2022-03-09T19:23:15.372500Z",
          "iopub.status.idle": "2022-03-09T19:23:15.379608Z",
          "shell.execute_reply.started": "2022-03-09T19:23:15.372464Z",
          "shell.execute_reply": "2022-03-09T19:23:15.378724Z"
        },
        "trusted": true,
        "colab": {
          "base_uri": "https://localhost:8080/"
        },
        "id": "qsFy6tJbDBb6",
        "outputId": "dca3efea-6731-4b1d-9d66-3dc157cd1caf"
      },
      "execution_count": 17,
      "outputs": [
        {
          "output_type": "execute_result",
          "data": {
            "text/plain": [
              "((18000000, 8), (6000000, 8))"
            ]
          },
          "metadata": {},
          "execution_count": 17
        }
      ]
    },
    {
      "cell_type": "code",
      "source": [
        "y_train.shape, y_test.shape"
      ],
      "metadata": {
        "colab": {
          "base_uri": "https://localhost:8080/"
        },
        "id": "oXRhqE1O_KRg",
        "outputId": "289a9af9-bee4-423f-eaf2-83645fd0f0a0"
      },
      "execution_count": 18,
      "outputs": [
        {
          "output_type": "execute_result",
          "data": {
            "text/plain": [
              "((18000000,), (6000000,))"
            ]
          },
          "metadata": {},
          "execution_count": 18
        }
      ]
    },
    {
      "cell_type": "code",
      "source": [
        "scaler = StandardScaler()\n",
        "X_train = scaler.fit_transform(X_train)\n",
        "X_test = scaler.transform(X_test)"
      ],
      "metadata": {
        "execution": {
          "iopub.status.busy": "2022-03-09T19:23:15.381215Z",
          "iopub.execute_input": "2022-03-09T19:23:15.382209Z",
          "iopub.status.idle": "2022-03-09T19:23:15.589013Z",
          "shell.execute_reply.started": "2022-03-09T19:23:15.382154Z",
          "shell.execute_reply": "2022-03-09T19:23:15.588240Z"
        },
        "trusted": true,
        "id": "o7MfFDcfDBb7"
      },
      "execution_count": 19,
      "outputs": []
    },
    {
      "cell_type": "code",
      "source": [
        "y_train = y_train.to_numpy()\n",
        "y_test = y_test.to_numpy()"
      ],
      "metadata": {
        "execution": {
          "iopub.status.busy": "2022-03-09T19:23:15.590487Z",
          "iopub.execute_input": "2022-03-09T19:23:15.590757Z",
          "iopub.status.idle": "2022-03-09T19:23:15.597168Z",
          "shell.execute_reply.started": "2022-03-09T19:23:15.590720Z",
          "shell.execute_reply": "2022-03-09T19:23:15.596423Z"
        },
        "trusted": true,
        "id": "zbUx5MTwDBb8"
      },
      "execution_count": 20,
      "outputs": []
    },
    {
      "cell_type": "code",
      "source": [
        "X_train = X_train.reshape(X_train.shape[0], X_train.shape[1], 1)\n",
        "X_test = X_test.reshape(X_test.shape[0], X_test.shape[1], 1)"
      ],
      "metadata": {
        "execution": {
          "iopub.status.busy": "2022-03-09T19:23:15.598873Z",
          "iopub.execute_input": "2022-03-09T19:23:15.599216Z",
          "iopub.status.idle": "2022-03-09T19:23:15.605636Z",
          "shell.execute_reply.started": "2022-03-09T19:23:15.599161Z",
          "shell.execute_reply": "2022-03-09T19:23:15.604304Z"
        },
        "trusted": true,
        "id": "G5442zLgDBb8"
      },
      "execution_count": 21,
      "outputs": []
    },
    {
      "cell_type": "code",
      "source": [
        "X_train.shape, X_test.shape"
      ],
      "metadata": {
        "execution": {
          "iopub.status.busy": "2022-03-09T19:23:15.607548Z",
          "iopub.execute_input": "2022-03-09T19:23:15.607888Z",
          "iopub.status.idle": "2022-03-09T19:23:15.616413Z",
          "shell.execute_reply.started": "2022-03-09T19:23:15.607844Z",
          "shell.execute_reply": "2022-03-09T19:23:15.615560Z"
        },
        "trusted": true,
        "colab": {
          "base_uri": "https://localhost:8080/"
        },
        "id": "3nz3AYtSDBb9",
        "outputId": "7d3714a5-30f7-4207-b6c3-6079974c4ddd"
      },
      "execution_count": 22,
      "outputs": [
        {
          "output_type": "execute_result",
          "data": {
            "text/plain": [
              "((18000000, 8, 1), (6000000, 8, 1))"
            ]
          },
          "metadata": {},
          "execution_count": 22
        }
      ]
    },
    {
      "cell_type": "code",
      "source": [
        "X_train[:10]"
      ],
      "metadata": {
        "colab": {
          "base_uri": "https://localhost:8080/"
        },
        "id": "-sfE7VM8AzeS",
        "outputId": "02791c85-2beb-49c1-f555-ca8f9b2014c8"
      },
      "execution_count": 23,
      "outputs": [
        {
          "output_type": "execute_result",
          "data": {
            "text/plain": [
              "array([[[-0.28320412],\n",
              "        [ 0.50028105],\n",
              "        [ 0.66452213],\n",
              "        [ 0.12536955],\n",
              "        [-0.31951094],\n",
              "        [-1.32547487],\n",
              "        [-0.84157509],\n",
              "        [-0.22603947]],\n",
              "\n",
              "       [[-0.38465323],\n",
              "        [ 1.64925789],\n",
              "        [ 2.33101338],\n",
              "        [ 0.72135599],\n",
              "        [-0.12422902],\n",
              "        [-0.96856031],\n",
              "        [-0.24939131],\n",
              "        [-0.08574124]],\n",
              "\n",
              "       [[-0.24325128],\n",
              "        [-0.34615008],\n",
              "        [-0.38135769],\n",
              "        [-1.97879412],\n",
              "        [-0.4295688 ],\n",
              "        [-1.23826447],\n",
              "        [ 0.03695076],\n",
              "        [-0.16468697]],\n",
              "\n",
              "       [[-0.40933677],\n",
              "        [ 0.83433572],\n",
              "        [-0.86597335],\n",
              "        [-0.4711376 ],\n",
              "        [ 0.17231919],\n",
              "        [ 0.2755502 ],\n",
              "        [ 0.24068365],\n",
              "        [ 0.16108445]],\n",
              "\n",
              "       [[-0.37478953],\n",
              "        [ 1.36055023],\n",
              "        [ 1.60856608],\n",
              "        [-1.41725972],\n",
              "        [ 0.1242941 ],\n",
              "        [ 1.03828801],\n",
              "        [-0.82384383],\n",
              "        [-0.1840415 ]],\n",
              "\n",
              "       [[-0.36101437],\n",
              "        [-0.64948227],\n",
              "        [ 0.65617328],\n",
              "        [ 1.07636113],\n",
              "        [ 1.42192235],\n",
              "        [ 1.00776773],\n",
              "        [ 0.20784052],\n",
              "        [-0.21950091]],\n",
              "\n",
              "       [[-0.35006955],\n",
              "        [ 1.19170603],\n",
              "        [ 0.41369445],\n",
              "        [-0.27941371],\n",
              "        [ 0.33156187],\n",
              "        [ 0.41570577],\n",
              "        [ 0.55235558],\n",
              "        [ 0.03731326]],\n",
              "\n",
              "       [[-0.41416537],\n",
              "        [-0.8842016 ],\n",
              "        [-1.06204061],\n",
              "        [-1.85297664],\n",
              "        [ 0.5100429 ],\n",
              "        [ 1.66544493],\n",
              "        [ 0.20372772],\n",
              "        [-0.19546336]],\n",
              "\n",
              "       [[-0.40101579],\n",
              "        [-0.58329853],\n",
              "        [-2.20472689],\n",
              "        [ 0.26109481],\n",
              "        [-0.33798701],\n",
              "        [-0.822507  ],\n",
              "        [-0.39421635],\n",
              "        [ 0.29847861]],\n",
              "\n",
              "       [[-0.38900808],\n",
              "        [-1.7129917 ],\n",
              "        [-0.5518151 ],\n",
              "        [ 1.6721646 ],\n",
              "        [-0.0211871 ],\n",
              "        [-0.23649078],\n",
              "        [ 0.12719647],\n",
              "        [ 0.291351  ]]])"
            ]
          },
          "metadata": {},
          "execution_count": 23
        }
      ]
    },
    {
      "cell_type": "code",
      "source": [
        "df = 0\n",
        "x = 0\n",
        "y = 0"
      ],
      "metadata": {
        "id": "D-btefyi9imC"
      },
      "execution_count": 24,
      "outputs": []
    },
    {
      "cell_type": "code",
      "source": [
        "epochs=50\n",
        "model_cnn = tf.keras.models.Sequential([\n",
        "    tf.keras.layers.Conv1D(filters=32, kernel_size=3, activation='relu', input_shape=X_train[0].shape),\n",
        "    tf.keras.layers.MaxPooling1D(pool_size=1),\n",
        "    tf.keras.layers.Conv1D(filters=64, kernel_size=3, activation='relu'),\n",
        "    tf.keras.layers.MaxPooling1D((1)),\n",
        "    tf.keras.layers.Conv1D(filters=64, kernel_size=3, activation='relu'),\n",
        "    tf.keras.layers.Flatten(),\n",
        "    tf.keras.layers.Dense(512,activation='relu'),\n",
        "    tf.keras.layers.Dense(1)\n",
        "])\n",
        "\n",
        "model_cnn.summary()"
      ],
      "metadata": {
        "execution": {
          "iopub.status.busy": "2022-03-09T19:23:15.617846Z",
          "iopub.execute_input": "2022-03-09T19:23:15.618376Z",
          "iopub.status.idle": "2022-03-09T19:23:19.306227Z",
          "shell.execute_reply.started": "2022-03-09T19:23:15.618335Z",
          "shell.execute_reply": "2022-03-09T19:23:19.305528Z"
        },
        "trusted": true,
        "colab": {
          "base_uri": "https://localhost:8080/"
        },
        "id": "DYCaNKhfDBb-",
        "outputId": "82d2b0dd-2fe7-482c-90a7-feb82540e4b4"
      },
      "execution_count": 25,
      "outputs": [
        {
          "output_type": "stream",
          "name": "stdout",
          "text": [
            "Model: \"sequential\"\n",
            "_________________________________________________________________\n",
            " Layer (type)                Output Shape              Param #   \n",
            "=================================================================\n",
            " conv1d (Conv1D)             (None, 6, 32)             128       \n",
            "                                                                 \n",
            " max_pooling1d (MaxPooling1D  (None, 6, 32)            0         \n",
            " )                                                               \n",
            "                                                                 \n",
            " conv1d_1 (Conv1D)           (None, 4, 64)             6208      \n",
            "                                                                 \n",
            " max_pooling1d_1 (MaxPooling  (None, 4, 64)            0         \n",
            " 1D)                                                             \n",
            "                                                                 \n",
            " conv1d_2 (Conv1D)           (None, 2, 64)             12352     \n",
            "                                                                 \n",
            " flatten (Flatten)           (None, 128)               0         \n",
            "                                                                 \n",
            " dense (Dense)               (None, 512)               66048     \n",
            "                                                                 \n",
            " dense_1 (Dense)             (None, 1)                 513       \n",
            "                                                                 \n",
            "=================================================================\n",
            "Total params: 85,249\n",
            "Trainable params: 85,249\n",
            "Non-trainable params: 0\n",
            "_________________________________________________________________\n"
          ]
        }
      ]
    },
    {
      "cell_type": "code",
      "source": [
        "# Compile the model as usual\n",
        "optimizer = tf.keras.optimizers.Adam(lr=0.0001)\n",
        "model_cnn.compile(optimizer=optimizer,\n",
        "                 loss='mse',\n",
        "                 metrics=['accuracy'])"
      ],
      "metadata": {
        "execution": {
          "iopub.status.busy": "2022-03-09T19:23:19.307548Z",
          "iopub.execute_input": "2022-03-09T19:23:19.307966Z",
          "iopub.status.idle": "2022-03-09T19:23:19.324570Z",
          "shell.execute_reply.started": "2022-03-09T19:23:19.307923Z",
          "shell.execute_reply": "2022-03-09T19:23:19.323764Z"
        },
        "trusted": true,
        "id": "fCnzSVEQDBb-"
      },
      "execution_count": 26,
      "outputs": []
    },
    {
      "cell_type": "code",
      "source": [
        "# Train the model\n",
        "history = model_cnn.fit(X_train, y_train, epochs=50, batch_size=512, validation_data=(X_test, y_test))"
      ],
      "metadata": {
        "execution": {
          "iopub.status.busy": "2022-03-09T19:23:19.326061Z",
          "iopub.execute_input": "2022-03-09T19:23:19.326327Z",
          "iopub.status.idle": "2022-03-09T19:23:30.575919Z",
          "shell.execute_reply.started": "2022-03-09T19:23:19.326290Z",
          "shell.execute_reply": "2022-03-09T19:23:30.572061Z"
        },
        "trusted": true,
        "colab": {
          "base_uri": "https://localhost:8080/"
        },
        "id": "dEMiORgIDBb_",
        "outputId": "ee16e49e-bbfc-4ce9-8091-8c31c00fcd7b"
      },
      "execution_count": 27,
      "outputs": [
        {
          "output_type": "stream",
          "name": "stdout",
          "text": [
            "Epoch 1/50\n",
            "35157/35157 [==============================] - 201s 5ms/step - loss: 2.4357 - accuracy: 0.1919 - val_loss: 2.3131 - val_accuracy: 0.1985\n",
            "Epoch 2/50\n",
            "35157/35157 [==============================] - 200s 6ms/step - loss: 2.2899 - accuracy: 0.1992 - val_loss: 2.2803 - val_accuracy: 0.2006\n",
            "Epoch 3/50\n",
            "35157/35157 [==============================] - 181s 5ms/step - loss: 2.2651 - accuracy: 0.2015 - val_loss: 2.2545 - val_accuracy: 0.2009\n",
            "Epoch 4/50\n",
            "35157/35157 [==============================] - 199s 6ms/step - loss: 2.2504 - accuracy: 0.2026 - val_loss: 2.2409 - val_accuracy: 0.2027\n",
            "Epoch 5/50\n",
            "35157/35157 [==============================] - 199s 6ms/step - loss: 2.2399 - accuracy: 0.2033 - val_loss: 2.2355 - val_accuracy: 0.2032\n",
            "Epoch 6/50\n",
            "35157/35157 [==============================] - 199s 6ms/step - loss: 2.2320 - accuracy: 0.2037 - val_loss: 2.2387 - val_accuracy: 0.2045\n",
            "Epoch 7/50\n",
            "35157/35157 [==============================] - 199s 6ms/step - loss: 2.2255 - accuracy: 0.2040 - val_loss: 2.2185 - val_accuracy: 0.2033\n",
            "Epoch 8/50\n",
            "35157/35157 [==============================] - 183s 5ms/step - loss: 2.2197 - accuracy: 0.2042 - val_loss: 2.2180 - val_accuracy: 0.2026\n",
            "Epoch 9/50\n",
            "35157/35157 [==============================] - 200s 6ms/step - loss: 2.2148 - accuracy: 0.2044 - val_loss: 2.2159 - val_accuracy: 0.2044\n",
            "Epoch 10/50\n",
            "35157/35157 [==============================] - 199s 6ms/step - loss: 2.2103 - accuracy: 0.2046 - val_loss: 2.2072 - val_accuracy: 0.2049\n",
            "Epoch 11/50\n",
            "35157/35157 [==============================] - 182s 5ms/step - loss: 2.2067 - accuracy: 0.2047 - val_loss: 2.2082 - val_accuracy: 0.2043\n",
            "Epoch 12/50\n",
            "35157/35157 [==============================] - 199s 6ms/step - loss: 2.2033 - accuracy: 0.2048 - val_loss: 2.2050 - val_accuracy: 0.2045\n",
            "Epoch 13/50\n",
            "35157/35157 [==============================] - 198s 6ms/step - loss: 2.2003 - accuracy: 0.2049 - val_loss: 2.2009 - val_accuracy: 0.2048\n",
            "Epoch 14/50\n",
            "35157/35157 [==============================] - 198s 6ms/step - loss: 2.1976 - accuracy: 0.2050 - val_loss: 2.1946 - val_accuracy: 0.2046\n",
            "Epoch 15/50\n",
            "35157/35157 [==============================] - 182s 5ms/step - loss: 2.1952 - accuracy: 0.2051 - val_loss: 2.1931 - val_accuracy: 0.2055\n",
            "Epoch 16/50\n",
            "35157/35157 [==============================] - 199s 6ms/step - loss: 2.1930 - accuracy: 0.2052 - val_loss: 2.1953 - val_accuracy: 0.2042\n",
            "Epoch 17/50\n",
            "35157/35157 [==============================] - 180s 5ms/step - loss: 2.1910 - accuracy: 0.2053 - val_loss: 2.1968 - val_accuracy: 0.2038\n",
            "Epoch 18/50\n",
            "35157/35157 [==============================] - 198s 6ms/step - loss: 2.1890 - accuracy: 0.2053 - val_loss: 2.1965 - val_accuracy: 0.2055\n",
            "Epoch 19/50\n",
            "35157/35157 [==============================] - 182s 5ms/step - loss: 2.1873 - accuracy: 0.2054 - val_loss: 2.1870 - val_accuracy: 0.2060\n",
            "Epoch 20/50\n",
            "35157/35157 [==============================] - 183s 5ms/step - loss: 2.1856 - accuracy: 0.2055 - val_loss: 2.1859 - val_accuracy: 0.2056\n",
            "Epoch 21/50\n",
            "35157/35157 [==============================] - 198s 6ms/step - loss: 2.1841 - accuracy: 0.2056 - val_loss: 2.1830 - val_accuracy: 0.2057\n",
            "Epoch 22/50\n",
            "35157/35157 [==============================] - 180s 5ms/step - loss: 2.1825 - accuracy: 0.2055 - val_loss: 2.1873 - val_accuracy: 0.2048\n",
            "Epoch 23/50\n",
            "35157/35157 [==============================] - 196s 6ms/step - loss: 2.1811 - accuracy: 0.2056 - val_loss: 2.1813 - val_accuracy: 0.2057\n",
            "Epoch 24/50\n",
            "35157/35157 [==============================] - 196s 6ms/step - loss: 2.1798 - accuracy: 0.2056 - val_loss: 2.1783 - val_accuracy: 0.2057\n",
            "Epoch 25/50\n",
            "35157/35157 [==============================] - 180s 5ms/step - loss: 2.1783 - accuracy: 0.2057 - val_loss: 2.1772 - val_accuracy: 0.2058\n",
            "Epoch 26/50\n",
            "35157/35157 [==============================] - 196s 6ms/step - loss: 2.1768 - accuracy: 0.2057 - val_loss: 2.1835 - val_accuracy: 0.2058\n",
            "Epoch 27/50\n",
            "35157/35157 [==============================] - 195s 6ms/step - loss: 2.1753 - accuracy: 0.2057 - val_loss: 2.1755 - val_accuracy: 0.2052\n",
            "Epoch 28/50\n",
            "35157/35157 [==============================] - 196s 6ms/step - loss: 2.1736 - accuracy: 0.2057 - val_loss: 2.1753 - val_accuracy: 0.2056\n",
            "Epoch 29/50\n",
            "35157/35157 [==============================] - 196s 6ms/step - loss: 2.1716 - accuracy: 0.2058 - val_loss: 2.1754 - val_accuracy: 0.2056\n",
            "Epoch 30/50\n",
            "35157/35157 [==============================] - 198s 6ms/step - loss: 2.1693 - accuracy: 0.2058 - val_loss: 2.1703 - val_accuracy: 0.2054\n",
            "Epoch 31/50\n",
            "35157/35157 [==============================] - 181s 5ms/step - loss: 2.1671 - accuracy: 0.2058 - val_loss: 2.1699 - val_accuracy: 0.2056\n",
            "Epoch 32/50\n",
            "35157/35157 [==============================] - 180s 5ms/step - loss: 2.1652 - accuracy: 0.2058 - val_loss: 2.1669 - val_accuracy: 0.2061\n",
            "Epoch 33/50\n",
            "35157/35157 [==============================] - 197s 6ms/step - loss: 2.1632 - accuracy: 0.2059 - val_loss: 2.1656 - val_accuracy: 0.2056\n",
            "Epoch 34/50\n",
            "35157/35157 [==============================] - 198s 6ms/step - loss: 2.1616 - accuracy: 0.2059 - val_loss: 2.1676 - val_accuracy: 0.2055\n",
            "Epoch 35/50\n",
            "35157/35157 [==============================] - 181s 5ms/step - loss: 2.1601 - accuracy: 0.2059 - val_loss: 2.1628 - val_accuracy: 0.2059\n",
            "Epoch 36/50\n",
            "35157/35157 [==============================] - 199s 6ms/step - loss: 2.1589 - accuracy: 0.2059 - val_loss: 2.1621 - val_accuracy: 0.2056\n",
            "Epoch 37/50\n",
            "35157/35157 [==============================] - 198s 6ms/step - loss: 2.1576 - accuracy: 0.2060 - val_loss: 2.1612 - val_accuracy: 0.2059\n",
            "Epoch 38/50\n",
            "35157/35157 [==============================] - 198s 6ms/step - loss: 2.1563 - accuracy: 0.2060 - val_loss: 2.1609 - val_accuracy: 0.2064\n",
            "Epoch 39/50\n",
            "35157/35157 [==============================] - 198s 6ms/step - loss: 2.1552 - accuracy: 0.2060 - val_loss: 2.1613 - val_accuracy: 0.2051\n",
            "Epoch 40/50\n",
            "35157/35157 [==============================] - 198s 6ms/step - loss: 2.1541 - accuracy: 0.2060 - val_loss: 2.1557 - val_accuracy: 0.2060\n",
            "Epoch 41/50\n",
            "35157/35157 [==============================] - 198s 6ms/step - loss: 2.1532 - accuracy: 0.2060 - val_loss: 2.1555 - val_accuracy: 0.2055\n",
            "Epoch 42/50\n",
            "35157/35157 [==============================] - 197s 6ms/step - loss: 2.1522 - accuracy: 0.2060 - val_loss: 2.1563 - val_accuracy: 0.2058\n",
            "Epoch 43/50\n",
            "35157/35157 [==============================] - 199s 6ms/step - loss: 2.1513 - accuracy: 0.2061 - val_loss: 2.1739 - val_accuracy: 0.2066\n",
            "Epoch 44/50\n",
            "35157/35157 [==============================] - 200s 6ms/step - loss: 2.1504 - accuracy: 0.2061 - val_loss: 2.1533 - val_accuracy: 0.2057\n",
            "Epoch 45/50\n",
            "35157/35157 [==============================] - 181s 5ms/step - loss: 2.1495 - accuracy: 0.2061 - val_loss: 2.1539 - val_accuracy: 0.2062\n",
            "Epoch 46/50\n",
            "35157/35157 [==============================] - 198s 6ms/step - loss: 2.1488 - accuracy: 0.2061 - val_loss: 2.1542 - val_accuracy: 0.2056\n",
            "Epoch 47/50\n",
            "35157/35157 [==============================] - 198s 6ms/step - loss: 2.1479 - accuracy: 0.2061 - val_loss: 2.1529 - val_accuracy: 0.2062\n",
            "Epoch 48/50\n",
            "35157/35157 [==============================] - 197s 6ms/step - loss: 2.1470 - accuracy: 0.2061 - val_loss: 2.1551 - val_accuracy: 0.2060\n",
            "Epoch 49/50\n",
            "35157/35157 [==============================] - 198s 6ms/step - loss: 2.1462 - accuracy: 0.2061 - val_loss: 2.1490 - val_accuracy: 0.2058\n",
            "Epoch 50/50\n",
            "35157/35157 [==============================] - 198s 6ms/step - loss: 2.1453 - accuracy: 0.2062 - val_loss: 2.1538 - val_accuracy: 0.2050\n"
          ]
        }
      ]
    },
    {
      "cell_type": "code",
      "source": [
        "history_dict = history.history\n",
        "loss = history_dict['loss']\n",
        "val_loss = history_dict['val_loss']\n",
        "acc = history_dict['accuracy']\n",
        "val_acc = history_dict['val_accuracy']\n",
        "\n",
        "epochs = range(1, len(loss) + 1)\n",
        "\n",
        "plt.plot(epochs, loss, 'b', label='Training Loss')\n",
        "plt.plot(epochs, val_loss, 'r', label='Validation Loss')\n",
        "plt.title('Training and Validation Loss')\n",
        "plt.xlabel('Epochs')\n",
        "plt.ylabel('Loss')\n",
        "plt.legend()\n",
        "plt.savefig('cnn_loss_plot.png')\n",
        "plt.show()\n",
        "\n",
        "plt.figure()\n",
        "\n",
        "plt.plot(epochs, acc, 'b', label='Training Accuracy')\n",
        "plt.plot(epochs, val_acc, 'r', label='Validation Accuracy')\n",
        "plt.title('Training and Validation Accuracy')\n",
        "plt.xlabel('Epochs')\n",
        "plt.ylabel('Accuracy')\n",
        "plt.legend()\n",
        "plt.savefig('cnn_acc_plot.png')\n",
        "plt.show()"
      ],
      "metadata": {
        "execution": {
          "iopub.status.busy": "2022-03-09T19:23:30.577316Z",
          "iopub.status.idle": "2022-03-09T19:23:30.577933Z",
          "shell.execute_reply.started": "2022-03-09T19:23:30.577667Z",
          "shell.execute_reply": "2022-03-09T19:23:30.577695Z"
        },
        "trusted": true,
        "id": "4Aq5JP3xDBb_",
        "colab": {
          "base_uri": "https://localhost:8080/",
          "height": 581
        },
        "outputId": "3ff7776e-ddc5-48a9-d62f-ba609a3ce3af"
      },
      "execution_count": 30,
      "outputs": [
        {
          "output_type": "display_data",
          "data": {
            "text/plain": [
              "<Figure size 432x288 with 1 Axes>"
            ],
            "image/png": "[encoded data removed]"
          },
          "metadata": {
            "needs_background": "light"
          }
        },
        {
          "output_type": "display_data",
          "data": {
            "text/plain": [
              "<Figure size 432x288 with 1 Axes>"
            ],
            "image/png": "[encoded data removed]"
          },
          "metadata": {
            "needs_background": "light"
          }
        }
      ]
    },
    {
      "cell_type": "code",
      "source": [
        "val_predictions = model_cnn.predict(X_test)"
      ],
      "metadata": {
        "id": "ynNycEh-CEtc"
      },
      "execution_count": 31,
      "outputs": []
    },
    {
      "cell_type": "code",
      "source": [
        "unique, counts = np.unique(val_predictions, return_counts=True)"
      ],
      "metadata": {
        "id": "f37S1tJ0CH11"
      },
      "execution_count": 32,
      "outputs": []
    },
    {
      "cell_type": "code",
      "source": [
        "unique"
      ],
      "metadata": {
        "id": "muI8pIk6CIZ9",
        "colab": {
          "base_uri": "https://localhost:8080/"
        },
        "outputId": "09d1611c-f8ac-4908-87da-922ac79a95df"
      },
      "execution_count": 33,
      "outputs": [
        {
          "output_type": "execute_result",
          "data": {
            "text/plain": [
              "array([-3.5072098, -3.4180007, -2.549595 , ...,  7.9471574,  8.010447 ,\n",
              "        8.021195 ], dtype=float32)"
            ]
          },
          "metadata": {},
          "execution_count": 33
        }
      ]
    },
    {
      "cell_type": "code",
      "source": [
        "#val_predictions = model_cnn.predict(X_test)\n",
        "pred=np.around(val_predictions)\n",
        "pred"
      ],
      "metadata": {
        "execution": {
          "iopub.status.busy": "2022-03-09T19:23:30.579200Z",
          "iopub.status.idle": "2022-03-09T19:23:30.580003Z",
          "shell.execute_reply.started": "2022-03-09T19:23:30.579724Z",
          "shell.execute_reply": "2022-03-09T19:23:30.579750Z"
        },
        "trusted": true,
        "id": "ZXAOQHmrDBcA",
        "colab": {
          "base_uri": "https://localhost:8080/"
        },
        "outputId": "09264c5b-407b-4d68-c28e-ec67b5ee6670"
      },
      "execution_count": 34,
      "outputs": [
        {
          "output_type": "execute_result",
          "data": {
            "text/plain": [
              "array([[ 6.],\n",
              "       [ 5.],\n",
              "       [-0.],\n",
              "       ...,\n",
              "       [ 1.],\n",
              "       [ 4.],\n",
              "       [ 5.]], dtype=float32)"
            ]
          },
          "metadata": {},
          "execution_count": 34
        }
      ]
    },
    {
      "cell_type": "code",
      "source": [
        "print(classification_report(y_test, pred))"
      ],
      "metadata": {
        "execution": {
          "iopub.status.busy": "2022-03-09T19:23:30.581398Z",
          "iopub.status.idle": "2022-03-09T19:23:30.581822Z",
          "shell.execute_reply.started": "2022-03-09T19:23:30.581591Z",
          "shell.execute_reply": "2022-03-09T19:23:30.581615Z"
        },
        "trusted": true,
        "id": "OeaY3kBoDBcB",
        "colab": {
          "base_uri": "https://localhost:8080/"
        },
        "outputId": "25b49d9b-9ee5-4895-eab3-977ad2e9662f"
      },
      "execution_count": 35,
      "outputs": [
        {
          "output_type": "stream",
          "name": "stdout",
          "text": [
            "              precision    recall  f1-score   support\n",
            "\n",
            "        -4.0       0.00      0.00      0.00         0\n",
            "        -3.0       0.00      0.00      0.00         0\n",
            "        -2.0       0.00      0.00      0.00         0\n",
            "        -1.0       0.00      0.00      0.00         0\n",
            "         0.0       0.89      0.73      0.80    750000\n",
            "         1.0       0.84      0.70      0.76    750000\n",
            "         2.0       0.63      0.26      0.37    750000\n",
            "         3.0       0.31      0.22      0.26    750000\n",
            "         4.0       0.22      0.45      0.30    750000\n",
            "         5.0       0.19      0.50      0.27    750000\n",
            "         6.0       0.30      0.15      0.20    750000\n",
            "         7.0       0.65      0.01      0.03    750000\n",
            "         8.0       0.00      0.00      0.00         0\n",
            "\n",
            "    accuracy                           0.38   6000000\n",
            "   macro avg       0.31      0.23      0.23   6000000\n",
            "weighted avg       0.50      0.38      0.37   6000000\n",
            "\n"
          ]
        }
      ]
    },
    {
      "cell_type": "code",
      "source": [
        "def get_confusion_matrix(y_true, y_pred):\n",
        "    n_classes = len(np.unique(y_true))\n",
        "    conf = np.zeros((n_classes, n_classes))\n",
        "    for actual, pred in zip(y_true, y_pred):\n",
        "        conf[int(actual)][int(pred)] += 1\n",
        "    return conf.astype('int')"
      ],
      "metadata": {
        "id": "-hQBliwzUU1k"
      },
      "execution_count": 36,
      "outputs": []
    },
    {
      "cell_type": "code",
      "source": [
        "cfm=confusion_matrix(y_test, pred)"
      ],
      "metadata": {
        "id": "6fb8z4stzi_P"
      },
      "execution_count": 37,
      "outputs": []
    },
    {
      "cell_type": "code",
      "source": [
        "cfm"
      ],
      "metadata": {
        "colab": {
          "base_uri": "https://localhost:8080/"
        },
        "id": "JZUSSiukzk1I",
        "outputId": "7538c6b4-4ea5-495b-bb16-bb9fcd2a35ad"
      },
      "execution_count": 38,
      "outputs": [
        {
          "output_type": "execute_result",
          "data": {
            "text/plain": [
              "array([[     0,      0,      0,      0,      0,      0,      0,      0,\n",
              "             0,      0,      0,      0,      0],\n",
              "       [     0,      0,      0,      0,      0,      0,      0,      0,\n",
              "             0,      0,      0,      0,      0],\n",
              "       [     0,      0,      0,      0,      0,      0,      0,      0,\n",
              "             0,      0,      0,      0,      0],\n",
              "       [     0,      0,      0,      0,      0,      0,      0,      0,\n",
              "             0,      0,      0,      0,      0],\n",
              "       [     1,      2,     21,    391, 547486,  78393,  18464,  18492,\n",
              "         34041,  47520,   5114,     75,      0],\n",
              "       [     0,      0,      0,     10,  68107, 525820,  57491,  30483,\n",
              "         35464,  30056,   2539,     30,      0],\n",
              "       [     0,      0,      0,      0,    471,  17135, 193821, 163755,\n",
              "        202357, 156844,  15472,    144,      1],\n",
              "       [     0,      0,      0,      0,     33,    705,  19729, 164615,\n",
              "        317243, 231666,  15940,     69,      0],\n",
              "       [     0,      0,      0,      0,     14,    256,   6805,  82614,\n",
              "        337455, 292256,  30294,    305,      1],\n",
              "       [     0,      0,      0,      0,      1,     33,    903,  29880,\n",
              "        305977, 375834,  37102,    270,      0],\n",
              "       [     0,      0,      0,      2,     38,    547,   3200,  20951,\n",
              "        171810, 440015, 109045,   4381,     11],\n",
              "       [     0,      0,      0,      1,    392,   2624,   6231,  17169,\n",
              "        116240, 445094, 152491,   9696,     62],\n",
              "       [     0,      0,      0,      0,      0,      0,      0,      0,\n",
              "             0,      0,      0,      0,      0]])"
            ]
          },
          "metadata": {},
          "execution_count": 38
        }
      ]
    },
    {
      "cell_type": "code",
      "source": [
        "y_test"
      ],
      "metadata": {
        "colab": {
          "base_uri": "https://localhost:8080/"
        },
        "id": "eoaADRA1fwzE",
        "outputId": "056a94ca-a340-4844-cbff-977ea6028eea"
      },
      "execution_count": 44,
      "outputs": [
        {
          "output_type": "execute_result",
          "data": {
            "text/plain": [
              "array([2, 7, 0, ..., 0, 3, 3])"
            ]
          },
          "metadata": {},
          "execution_count": 44
        }
      ]
    },
    {
      "cell_type": "code",
      "source": [
        "pred"
      ],
      "metadata": {
        "colab": {
          "base_uri": "https://localhost:8080/"
        },
        "id": "AD-2Muyjfz2K",
        "outputId": "76fe92a1-248a-4e80-dddd-398e951bf7a0"
      },
      "execution_count": 45,
      "outputs": [
        {
          "output_type": "execute_result",
          "data": {
            "text/plain": [
              "array([[ 6.],\n",
              "       [ 5.],\n",
              "       [-0.],\n",
              "       ...,\n",
              "       [ 1.],\n",
              "       [ 4.],\n",
              "       [ 5.]], dtype=float32)"
            ]
          },
          "metadata": {},
          "execution_count": 45
        }
      ]
    },
    {
      "cell_type": "code",
      "source": [
        "y_pred = pred.astype(int)"
      ],
      "metadata": {
        "id": "p5IkN0f9f15d"
      },
      "execution_count": 46,
      "outputs": []
    },
    {
      "cell_type": "code",
      "source": [
        "y_pred"
      ],
      "metadata": {
        "colab": {
          "base_uri": "https://localhost:8080/"
        },
        "id": "yudDJ8I0f9gU",
        "outputId": "b3b41eaa-fdc8-4a87-d16f-bd982c41c6dc"
      },
      "execution_count": 47,
      "outputs": [
        {
          "output_type": "execute_result",
          "data": {
            "text/plain": [
              "array([[6],\n",
              "       [5],\n",
              "       [0],\n",
              "       ...,\n",
              "       [1],\n",
              "       [4],\n",
              "       [5]])"
            ]
          },
          "metadata": {},
          "execution_count": 47
        }
      ]
    },
    {
      "cell_type": "code",
      "source": [
        "y_pred.shape"
      ],
      "metadata": {
        "colab": {
          "base_uri": "https://localhost:8080/"
        },
        "id": "YscS1cnGgkZV",
        "outputId": "a425e383-fd97-4940-d65a-4463b7862b1f"
      },
      "execution_count": 51,
      "outputs": [
        {
          "output_type": "execute_result",
          "data": {
            "text/plain": [
              "(6000000, 1)"
            ]
          },
          "metadata": {},
          "execution_count": 51
        }
      ]
    },
    {
      "cell_type": "code",
      "source": [
        "i = 0\n",
        "while i < 6000000:\n",
        "  if y_pred[i] == -1:\n",
        "    y_pred[i] = 0\n",
        "  elif y_pred[i] == -2:\n",
        "    y_pred[i] = 0\n",
        "  elif y_pred[i] == -3:\n",
        "    y_pred[i] = 0\n",
        "  elif y_pred[i] == -4:\n",
        "    y_pred[i] = 0\n",
        "  elif y_pred[i] == 8:\n",
        "    y_pred[i] = 7\n",
        "  i+=1"
      ],
      "metadata": {
        "id": "wHz8lDNDgXD7"
      },
      "execution_count": 52,
      "outputs": []
    },
    {
      "cell_type": "code",
      "source": [
        "y_pred.shape"
      ],
      "metadata": {
        "colab": {
          "base_uri": "https://localhost:8080/"
        },
        "id": "iK3tpQeQhHzl",
        "outputId": "1b812703-e3ee-4cd1-d3de-552f38487491"
      },
      "execution_count": 53,
      "outputs": [
        {
          "output_type": "execute_result",
          "data": {
            "text/plain": [
              "(6000000, 1)"
            ]
          },
          "metadata": {},
          "execution_count": 53
        }
      ]
    },
    {
      "cell_type": "code",
      "source": [
        "y_pred"
      ],
      "metadata": {
        "colab": {
          "base_uri": "https://localhost:8080/"
        },
        "id": "Y5wD6p3whF7k",
        "outputId": "2a0690f5-0f59-454e-8b34-a802cbd4dd80"
      },
      "execution_count": 54,
      "outputs": [
        {
          "output_type": "execute_result",
          "data": {
            "text/plain": [
              "array([[6],\n",
              "       [5],\n",
              "       [0],\n",
              "       ...,\n",
              "       [1],\n",
              "       [4],\n",
              "       [5]])"
            ]
          },
          "metadata": {},
          "execution_count": 54
        }
      ]
    },
    {
      "cell_type": "code",
      "source": [
        "import itertools\n",
        "\n",
        "print(classification_report(y_test, y_pred))\n",
        "\n",
        "conf = get_confusion_matrix(y_test, y_pred)\n",
        "conf\n",
        "\n",
        "classes = [0, 1, 2, 3, 4, 5, 6, 7,]\n",
        "# plot confusion matrix\n",
        "plt.imshow(conf, interpolation='nearest', cmap=plt.cm.Greens)\n",
        "plt.title(\"Confusion Matrix\")\n",
        "plt.colorbar()\n",
        "tick_marks = np.arange(len(classes))\n",
        "plt.xticks(tick_marks, classes)\n",
        "plt.yticks(tick_marks, classes)\n",
        "\n",
        "fmt = 'd'\n",
        "thresh = conf.max() / 2.\n",
        "for i, j in itertools.product(range(conf.shape[0]), range(conf.shape[1])):\n",
        "    plt.text(j, i, format(conf[i, j], fmt),\n",
        "             horizontalalignment=\"center\",\n",
        "             color=\"white\" if conf[i, j] > thresh else \"black\")\n",
        "\n",
        "plt.tight_layout()\n",
        "plt.ylabel('True label')\n",
        "plt.xlabel('Predicted label')"
      ],
      "metadata": {
        "id": "EUlTHOm5UZls",
        "colab": {
          "base_uri": "https://localhost:8080/",
          "height": 606
        },
        "outputId": "ed8b0964-2452-4bd6-a68b-9b97908a5666"
      },
      "execution_count": 56,
      "outputs": [
        {
          "output_type": "stream",
          "name": "stdout",
          "text": [
            "              precision    recall  f1-score   support\n",
            "\n",
            "           0       0.89      0.73      0.80    750000\n",
            "           1       0.84      0.70      0.76    750000\n",
            "           2       0.63      0.26      0.37    750000\n",
            "           3       0.31      0.22      0.26    750000\n",
            "           4       0.22      0.45      0.30    750000\n",
            "           5       0.19      0.50      0.27    750000\n",
            "           6       0.30      0.15      0.20    750000\n",
            "           7       0.65      0.01      0.03    750000\n",
            "\n",
            "    accuracy                           0.38   6000000\n",
            "   macro avg       0.50      0.38      0.37   6000000\n",
            "weighted avg       0.50      0.38      0.37   6000000\n",
            "\n"
          ]
        },
        {
          "output_type": "execute_result",
          "data": {
            "text/plain": [
              "Text(0.5, 15.0, 'Predicted label')"
            ]
          },
          "metadata": {},
          "execution_count": 56
        },
        {
          "output_type": "display_data",
          "data": {
            "text/plain": [
              "<Figure size 432x288 with 2 Axes>"
            ],
            "image/png": "[encoded data removed]"
          },
          "metadata": {
            "needs_background": "light"
          }
        }
      ]
    },
    {
      "cell_type": "code",
      "source": [
        "import numpy as np\n",
        "import matplotlib.pyplot as plt\n",
        "\n",
        "from sklearn import svm, datasets\n",
        "from sklearn.model_selection import train_test_split\n",
        "from sklearn.metrics import confusion_matrix\n",
        "from sklearn.utils.multiclass import unique_labels\n",
        "\n",
        "class_names = np.array([0, 1, 2, 3, 4, 5, 6, 7])\n",
        "\n",
        "def plot_confusion_matrix(y_true, y_pred, classes,\n",
        "                          normalize=False,\n",
        "                          title=None,\n",
        "                          cmap=plt.cm.Blues):\n",
        "    \"\"\"\n",
        "    This function prints and plots the confusion matrix.\n",
        "    Normalization can be applied by setting `normalize=True`.\n",
        "    \"\"\"\n",
        "    if not title:\n",
        "        if normalize:\n",
        "            title = 'Normalized confusion matrix'\n",
        "        else:\n",
        "            title = 'Confusion matrix, without normalization'\n",
        "\n",
        "    # Compute confusion matrix\n",
        "    cm = confusion_matrix(y_true, y_pred)\n",
        "    # Only use the labels that appear in the data\n",
        "    classes = classes[unique_labels(y_true, y_pred)]\n",
        "    if normalize:\n",
        "        cm = cm.astype('float') / cm.sum(axis=1)[:, np.newaxis]\n",
        "        print(\"Normalized confusion matrix\")\n",
        "    else:\n",
        "        print('Confusion matrix, without normalization')\n",
        "\n",
        "    print(cm)\n",
        "\n",
        "    fig, ax = plt.subplots()\n",
        "    im = ax.imshow(cm, interpolation='nearest', cmap=cmap)\n",
        "    ax.figure.colorbar(im, ax=ax)\n",
        "    # We want to show all ticks...\n",
        "    ax.set(xticks=np.arange(cm.shape[1]),\n",
        "           yticks=np.arange(cm.shape[0]),\n",
        "           # ... and label them with the respective list entries\n",
        "           xticklabels=classes, yticklabels=classes,\n",
        "           title=title,\n",
        "           ylabel='True label',\n",
        "           xlabel='Predicted label')\n",
        "\n",
        "    # Rotate the tick labels and set their alignment.\n",
        "    plt.setp(ax.get_xticklabels(), rotation=45, ha=\"right\",\n",
        "             rotation_mode=\"anchor\")\n",
        "\n",
        "    # Loop over data dimensions and create text annotations.\n",
        "    fmt = '.2f' if normalize else 'd'\n",
        "    thresh = cm.max() / 2.\n",
        "    for i in range(cm.shape[0]):\n",
        "        for j in range(cm.shape[1]):\n",
        "            ax.text(j, i, format(cm[i, j], fmt),\n",
        "                    ha=\"center\", va=\"center\",\n",
        "                    color=\"white\" if cm[i, j] > thresh else \"black\")\n",
        "    fig.tight_layout()\n",
        "\n",
        "    return ax\n",
        "\n",
        "\n",
        "np.set_printoptions(precision=2)\n",
        "\n",
        "# Plot non-normalized confusion matrix\n",
        "plot_confusion_matrix(y_test, y_pred, classes=class_names,\n",
        "                      title='Confusion matrix, without normalization')\n",
        "\n",
        "# Plot normalized confusion matrix\n",
        "plot_confusion_matrix(y_test, y_pred, classes=class_names, normalize=True,\n",
        "                      title='Normalized confusion matrix')\n",
        "\n",
        "plt.show()"
      ],
      "metadata": {
        "colab": {
          "base_uri": "https://localhost:8080/",
          "height": 906
        },
        "id": "Dp--xMzMen9i",
        "outputId": "91d7eef5-2fde-4ab2-f60d-a8e0ac8cef4b"
      },
      "execution_count": 57,
      "outputs": [
        {
          "output_type": "stream",
          "name": "stdout",
          "text": [
            "Confusion matrix, without normalization\n",
            "[[547901  78393  18464  18492  34041  47520   5114     75]\n",
            " [ 68117 525820  57491  30483  35464  30056   2539     30]\n",
            " [   471  17135 193821 163755 202357 156844  15472    145]\n",
            " [    33    705  19729 164615 317243 231666  15940     69]\n",
            " [    14    256   6805  82614 337455 292256  30294    306]\n",
            " [     1     33    903  29880 305977 375834  37102    270]\n",
            " [    40    547   3200  20951 171810 440015 109045   4392]\n",
            " [   393   2624   6231  17169 116240 445094 152491   9758]]\n",
            "Normalized confusion matrix\n",
            "[[7.31e-01 1.05e-01 2.46e-02 2.47e-02 4.54e-02 6.34e-02 6.82e-03 1.00e-04]\n",
            " [9.08e-02 7.01e-01 7.67e-02 4.06e-02 4.73e-02 4.01e-02 3.39e-03 4.00e-05]\n",
            " [6.28e-04 2.28e-02 2.58e-01 2.18e-01 2.70e-01 2.09e-01 2.06e-02 1.93e-04]\n",
            " [4.40e-05 9.40e-04 2.63e-02 2.19e-01 4.23e-01 3.09e-01 2.13e-02 9.20e-05]\n",
            " [1.87e-05 3.41e-04 9.07e-03 1.10e-01 4.50e-01 3.90e-01 4.04e-02 4.08e-04]\n",
            " [1.33e-06 4.40e-05 1.20e-03 3.98e-02 4.08e-01 5.01e-01 4.95e-02 3.60e-04]\n",
            " [5.33e-05 7.29e-04 4.27e-03 2.79e-02 2.29e-01 5.87e-01 1.45e-01 5.86e-03]\n",
            " [5.24e-04 3.50e-03 8.31e-03 2.29e-02 1.55e-01 5.93e-01 2.03e-01 1.30e-02]]\n"
          ]
        },
        {
          "output_type": "display_data",
          "data": {
            "text/plain": [
              "<Figure size 432x288 with 2 Axes>"
            ],
            "image/png": "[encoded data removed]"
          },
          "metadata": {
            "needs_background": "light"
          }
        },
        {
          "output_type": "display_data",
          "data": {
            "text/plain": [
              "<Figure size 432x288 with 2 Axes>"
            ],
            "image/png": "[encoded data removed]"
          },
          "metadata": {
            "needs_background": "light"
          }
        }
      ]
    }
  ]
}