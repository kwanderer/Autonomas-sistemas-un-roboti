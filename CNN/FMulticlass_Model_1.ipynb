{
  "metadata": {
    "kernelspec": {
      "language": "python",
      "display_name": "Python 3",
      "name": "python3"
    },
    "language_info": {
      "name": "python",
      "version": "3.7.12",
      "mimetype": "text/x-python",
      "codemirror_mode": {
        "name": "ipython",
        "version": 3
      },
      "pygments_lexer": "ipython3",
      "nbconvert_exporter": "python",
      "file_extension": ".py"
    },
    "colab": {
      "name": "Multiclass_Model_1.ipynb",
      "provenance": [],
      "collapsed_sections": [],
      "include_colab_link": true
    },
    "accelerator": "GPU"
  },
  "nbformat_minor": 0,
  "nbformat": 4,
  "cells": [
    {
      "cell_type": "markdown",
      "metadata": {
        "id": "view-in-github",
        "colab_type": "text"
      },
      "source": [
        "<a href=\"https://colab.research.google.com/github/kwanderer/Autonomas-sistemas-un-roboti/blob/main/CNN/FMulticlass_Model_1.ipynb\" target=\"_parent\"><img src=\"https://colab.research.google.com/assets/colab-badge.svg\" alt=\"Open In Colab\"/></a>"
      ]
    },
    {
      "cell_type": "code",
      "source": [
        "import sys\n",
        "import numpy as np\n",
        "import pandas as pd\n",
        "import tensorflow as tf\n",
        "import matplotlib.pyplot as plt\n",
        "from sklearn.model_selection import train_test_split\n",
        "from sklearn import preprocessing\n",
        "from sklearn.preprocessing import StandardScaler\n",
        "from sklearn.metrics import classification_report\n",
        "import warnings\n",
        "warnings.filterwarnings('ignore')\n",
        "plt.style.use('ggplot')\n",
        "import seaborn as sns \n",
        "%matplotlib inline"
      ],
      "metadata": {
        "execution": {
          "iopub.status.busy": "2022-03-09T19:23:03.253803Z",
          "iopub.execute_input": "2022-03-09T19:23:03.254417Z",
          "iopub.status.idle": "2022-03-09T19:23:08.469110Z",
          "shell.execute_reply.started": "2022-03-09T19:23:03.254272Z",
          "shell.execute_reply": "2022-03-09T19:23:08.468330Z"
        },
        "trusted": true,
        "id": "ssTvuSFNDBbX"
      },
      "execution_count": 1,
      "outputs": []
    },
    {
      "cell_type": "code",
      "source": [
        "from google.colab import drive\n",
        "import os\n",
        "drive.mount('/content/gdrive')\n",
        "#os.chdir(\"/content/gdrive/MyDrive/Colab Notebooks/data_binary/\")\n",
        "os.chdir(\"/content/gdrive/MyDrive/Colab Notebooks/data_multiclass\")"
      ],
      "metadata": {
        "execution": {
          "iopub.status.busy": "2022-03-09T19:23:08.470930Z",
          "iopub.execute_input": "2022-03-09T19:23:08.471203Z",
          "iopub.status.idle": "2022-03-09T19:23:12.713130Z",
          "shell.execute_reply.started": "2022-03-09T19:23:08.471159Z",
          "shell.execute_reply": "2022-03-09T19:23:12.712327Z"
        },
        "trusted": true,
        "colab": {
          "base_uri": "https://localhost:8080/"
        },
        "id": "-zoH04gSDBbg",
        "outputId": "183dc5c1-1f53-4659-9f4c-dc0e09888292"
      },
      "execution_count": 2,
      "outputs": [
        {
          "output_type": "stream",
          "name": "stdout",
          "text": [
            "Drive already mounted at /content/gdrive; to attempt to forcibly remount, call drive.mount(\"/content/gdrive\", force_remount=True).\n"
          ]
        }
      ]
    },
    {
      "cell_type": "code",
      "source": [
        "#df = pd.read_csv(\"binary_data_csv.csv\")\n",
        "df = pd.read_csv(\"combined_multiclass_csv.csv\")"
      ],
      "metadata": {
        "id": "rTZHPrFSDyvN"
      },
      "execution_count": 3,
      "outputs": []
    },
    {
      "cell_type": "code",
      "source": [
        "df.head()"
      ],
      "metadata": {
        "execution": {
          "iopub.status.busy": "2022-03-09T19:23:12.714704Z",
          "iopub.execute_input": "2022-03-09T19:23:12.714987Z",
          "iopub.status.idle": "2022-03-09T19:23:12.755981Z",
          "shell.execute_reply.started": "2022-03-09T19:23:12.714948Z",
          "shell.execute_reply": "2022-03-09T19:23:12.755126Z"
        },
        "trusted": true,
        "colab": {
          "base_uri": "https://localhost:8080/",
          "height": 206
        },
        "id": "NIZTvAfsDBbh",
        "outputId": "b4461f84-c971-4aef-ff2a-3481f450aeba"
      },
      "execution_count": 4,
      "outputs": [
        {
          "output_type": "execute_result",
          "data": {
            "text/plain": [
              "   tachometer  und-accelerometer-axial  und-accelerometer-radial  \\\n",
              "0    -0.59640                  1.65690                   0.20359   \n",
              "1    -0.52322                 -0.28902                  -0.31740   \n",
              "2    -0.55320                  1.64770                   0.41715   \n",
              "3    -0.57723                  0.15914                  -0.33321   \n",
              "4    -0.49280                  1.31650                   0.41147   \n",
              "\n",
              "   und-accelerometer-tangential  over-accelerometer-axial  \\\n",
              "0                      0.048174                  -0.18477   \n",
              "1                     -0.001450                  -0.19779   \n",
              "2                      0.038655                  -0.18563   \n",
              "3                     -0.011148                  -0.19892   \n",
              "4                      0.028096                  -0.19165   \n",
              "\n",
              "   over-accelerometer-radial  over-accelerometer-tangential  microphone  Class  \n",
              "0                  -0.021301                       -0.18447   -0.017205      7  \n",
              "1                  -0.023694                       -0.28712   -0.018203      7  \n",
              "2                  -0.021564                       -0.21215   -0.072039      7  \n",
              "3                  -0.025401                       -0.30076   -0.007373      7  \n",
              "4                  -0.022879                       -0.24147   -0.108590      7  "
            ],
            "text/html": [
              "\n",
              "  <div id=\"df-0d6d0243-95f4-492f-a7ec-2df85be9b37c\">\n",
              "    <div class=\"colab-df-container\">\n",
              "      <div>\n",
              "<style scoped>\n",
              "    .dataframe tbody tr th:only-of-type {\n",
              "        vertical-align: middle;\n",
              "    }\n",
              "\n",
              "    .dataframe tbody tr th {\n",
              "        vertical-align: top;\n",
              "    }\n",
              "\n",
              "    .dataframe thead th {\n",
              "        text-align: right;\n",
              "    }\n",
              "</style>\n",
              "<table border=\"1\" class=\"dataframe\">\n",
              "  <thead>\n",
              "    <tr style=\"text-align: right;\">\n",
              "      <th></th>\n",
              "      <th>tachometer</th>\n",
              "      <th>und-accelerometer-axial</th>\n",
              "      <th>und-accelerometer-radial</th>\n",
              "      <th>und-accelerometer-tangential</th>\n",
              "      <th>over-accelerometer-axial</th>\n",
              "      <th>over-accelerometer-radial</th>\n",
              "      <th>over-accelerometer-tangential</th>\n",
              "      <th>microphone</th>\n",
              "      <th>Class</th>\n",
              "    </tr>\n",
              "  </thead>\n",
              "  <tbody>\n",
              "    <tr>\n",
              "      <th>0</th>\n",
              "      <td>-0.59640</td>\n",
              "      <td>1.65690</td>\n",
              "      <td>0.20359</td>\n",
              "      <td>0.048174</td>\n",
              "      <td>-0.18477</td>\n",
              "      <td>-0.021301</td>\n",
              "      <td>-0.18447</td>\n",
              "      <td>-0.017205</td>\n",
              "      <td>7</td>\n",
              "    </tr>\n",
              "    <tr>\n",
              "      <th>1</th>\n",
              "      <td>-0.52322</td>\n",
              "      <td>-0.28902</td>\n",
              "      <td>-0.31740</td>\n",
              "      <td>-0.001450</td>\n",
              "      <td>-0.19779</td>\n",
              "      <td>-0.023694</td>\n",
              "      <td>-0.28712</td>\n",
              "      <td>-0.018203</td>\n",
              "      <td>7</td>\n",
              "    </tr>\n",
              "    <tr>\n",
              "      <th>2</th>\n",
              "      <td>-0.55320</td>\n",
              "      <td>1.64770</td>\n",
              "      <td>0.41715</td>\n",
              "      <td>0.038655</td>\n",
              "      <td>-0.18563</td>\n",
              "      <td>-0.021564</td>\n",
              "      <td>-0.21215</td>\n",
              "      <td>-0.072039</td>\n",
              "      <td>7</td>\n",
              "    </tr>\n",
              "    <tr>\n",
              "      <th>3</th>\n",
              "      <td>-0.57723</td>\n",
              "      <td>0.15914</td>\n",
              "      <td>-0.33321</td>\n",
              "      <td>-0.011148</td>\n",
              "      <td>-0.19892</td>\n",
              "      <td>-0.025401</td>\n",
              "      <td>-0.30076</td>\n",
              "      <td>-0.007373</td>\n",
              "      <td>7</td>\n",
              "    </tr>\n",
              "    <tr>\n",
              "      <th>4</th>\n",
              "      <td>-0.49280</td>\n",
              "      <td>1.31650</td>\n",
              "      <td>0.41147</td>\n",
              "      <td>0.028096</td>\n",
              "      <td>-0.19165</td>\n",
              "      <td>-0.022879</td>\n",
              "      <td>-0.24147</td>\n",
              "      <td>-0.108590</td>\n",
              "      <td>7</td>\n",
              "    </tr>\n",
              "  </tbody>\n",
              "</table>\n",
              "</div>\n",
              "      <button class=\"colab-df-convert\" onclick=\"convertToInteractive('df-0d6d0243-95f4-492f-a7ec-2df85be9b37c')\"\n",
              "              title=\"Convert this dataframe to an interactive table.\"\n",
              "              style=\"display:none;\">\n",
              "        \n",
              "  <svg xmlns=\"http://www.w3.org/2000/svg\" height=\"24px\"viewBox=\"0 0 24 24\"\n",
              "       width=\"24px\">\n",
              "    <path d=\"M0 0h24v24H0V0z\" fill=\"none\"/>\n",
              "    <path d=\"M18.56 5.44l.94 2.06.94-2.06 2.06-.94-2.06-.94-.94-2.06-.94 2.06-2.06.94zm-11 1L8.5 8.5l.94-2.06 2.06-.94-2.06-.94L8.5 2.5l-.94 2.06-2.06.94zm10 10l.94 2.06.94-2.06 2.06-.94-2.06-.94-.94-2.06-.94 2.06-2.06.94z\"/><path d=\"M17.41 7.96l-1.37-1.37c-.4-.4-.92-.59-1.43-.59-.52 0-1.04.2-1.43.59L10.3 9.45l-7.72 7.72c-.78.78-.78 2.05 0 2.83L4 21.41c.39.39.9.59 1.41.59.51 0 1.02-.2 1.41-.59l7.78-7.78 2.81-2.81c.8-.78.8-2.07 0-2.86zM5.41 20L4 18.59l7.72-7.72 1.47 1.35L5.41 20z\"/>\n",
              "  </svg>\n",
              "      </button>\n",
              "      \n",
              "  <style>\n",
              "    .colab-df-container {\n",
              "      display:flex;\n",
              "      flex-wrap:wrap;\n",
              "      gap: 12px;\n",
              "    }\n",
              "\n",
              "    .colab-df-convert {\n",
              "      background-color: #E8F0FE;\n",
              "      border: none;\n",
              "      border-radius: 50%;\n",
              "      cursor: pointer;\n",
              "      display: none;\n",
              "      fill: #1967D2;\n",
              "      height: 32px;\n",
              "      padding: 0 0 0 0;\n",
              "      width: 32px;\n",
              "    }\n",
              "\n",
              "    .colab-df-convert:hover {\n",
              "      background-color: #E2EBFA;\n",
              "      box-shadow: 0px 1px 2px rgba(60, 64, 67, 0.3), 0px 1px 3px 1px rgba(60, 64, 67, 0.15);\n",
              "      fill: #174EA6;\n",
              "    }\n",
              "\n",
              "    [theme=dark] .colab-df-convert {\n",
              "      background-color: #3B4455;\n",
              "      fill: #D2E3FC;\n",
              "    }\n",
              "\n",
              "    [theme=dark] .colab-df-convert:hover {\n",
              "      background-color: #434B5C;\n",
              "      box-shadow: 0px 1px 3px 1px rgba(0, 0, 0, 0.15);\n",
              "      filter: drop-shadow(0px 1px 2px rgba(0, 0, 0, 0.3));\n",
              "      fill: #FFFFFF;\n",
              "    }\n",
              "  </style>\n",
              "\n",
              "      <script>\n",
              "        const buttonEl =\n",
              "          document.querySelector('#df-0d6d0243-95f4-492f-a7ec-2df85be9b37c button.colab-df-convert');\n",
              "        buttonEl.style.display =\n",
              "          google.colab.kernel.accessAllowed ? 'block' : 'none';\n",
              "\n",
              "        async function convertToInteractive(key) {\n",
              "          const element = document.querySelector('#df-0d6d0243-95f4-492f-a7ec-2df85be9b37c');\n",
              "          const dataTable =\n",
              "            await google.colab.kernel.invokeFunction('convertToInteractive',\n",
              "                                                     [key], {});\n",
              "          if (!dataTable) return;\n",
              "\n",
              "          const docLinkHtml = 'Like what you see? Visit the ' +\n",
              "            '<a target=\"_blank\" href=https://colab.research.google.com/notebooks/data_table.ipynb>data table notebook</a>'\n",
              "            + ' to learn more about interactive tables.';\n",
              "          element.innerHTML = '';\n",
              "          dataTable['output_type'] = 'display_data';\n",
              "          await google.colab.output.renderOutput(dataTable, element);\n",
              "          const docLink = document.createElement('div');\n",
              "          docLink.innerHTML = docLinkHtml;\n",
              "          element.appendChild(docLink);\n",
              "        }\n",
              "      </script>\n",
              "    </div>\n",
              "  </div>\n",
              "  "
            ]
          },
          "metadata": {},
          "execution_count": 4
        }
      ]
    },
    {
      "cell_type": "code",
      "source": [
        "print('This data frame has {} rows and {} columns.'.format(df.shape[0], df.shape[1]))"
      ],
      "metadata": {
        "execution": {
          "iopub.status.busy": "2022-03-09T19:23:12.757255Z",
          "iopub.execute_input": "2022-03-09T19:23:12.757987Z",
          "iopub.status.idle": "2022-03-09T19:23:12.764342Z",
          "shell.execute_reply.started": "2022-03-09T19:23:12.757941Z",
          "shell.execute_reply": "2022-03-09T19:23:12.763522Z"
        },
        "trusted": true,
        "colab": {
          "base_uri": "https://localhost:8080/"
        },
        "id": "arZi9AlaDBbj",
        "outputId": "67052184-11af-41f2-ed77-c1e0d4b9a257"
      },
      "execution_count": 5,
      "outputs": [
        {
          "output_type": "stream",
          "name": "stdout",
          "text": [
            "This data frame has 30000000 rows and 9 columns.\n"
          ]
        }
      ]
    },
    {
      "cell_type": "code",
      "source": [
        "sequence_length = 200"
      ],
      "metadata": {
        "id": "sQuCtzlWHtuA"
      },
      "execution_count": 6,
      "outputs": []
    },
    {
      "cell_type": "code",
      "source": [
        "def generate_data(X, y, sequence_length = 200, step = 200):\n",
        "    X_local = []\n",
        "    y_local = []\n",
        "    for start in range(0, len(df) - sequence_length, step):\n",
        "        end = start + sequence_length\n",
        "        X_local.append(X[start:end])\n",
        "        y_local.append(y[end-1])\n",
        "    return np.array(X_local), np.array(y_local)\n",
        "\n",
        "X_sequence, y = generate_data(df.loc[:, [\"tachometer\", \"und-accelerometer-axial\", \"und-accelerometer-radial\", \"und-accelerometer-tangential\", \"over-accelerometer-axial\", \"over-accelerometer-radial\", \"over-accelerometer-tangential\", \"microphone\"]].values, df.Class)\n",
        "#X_sequence, y = generate_data(data.loc[:, [\"und-accelerometer-axial\", \"und-accelerometer-radial\", \"und-accelerometer-tangential\", \"microphone\"]].values, data.Class)\n"
      ],
      "metadata": {
        "id": "t8BAt_GCHwHJ"
      },
      "execution_count": 7,
      "outputs": []
    },
    {
      "cell_type": "code",
      "source": [
        "X_sequence.shape, y.shape"
      ],
      "metadata": {
        "colab": {
          "base_uri": "https://localhost:8080/"
        },
        "id": "QDTrbvinHxLi",
        "outputId": "cc81f4c0-5cd6-4720-eb9c-5448ee139b97"
      },
      "execution_count": 8,
      "outputs": [
        {
          "output_type": "execute_result",
          "data": {
            "text/plain": [
              "((149999, 200, 8), (149999,))"
            ]
          },
          "metadata": {},
          "execution_count": 8
        }
      ]
    },
    {
      "cell_type": "code",
      "source": [
        "unique, counts = np.unique(y, return_counts=True)"
      ],
      "metadata": {
        "id": "X9v7ddxbwD40"
      },
      "execution_count": 9,
      "outputs": []
    },
    {
      "cell_type": "code",
      "source": [
        "unique"
      ],
      "metadata": {
        "colab": {
          "base_uri": "https://localhost:8080/"
        },
        "id": "N_ySM5EDwFYL",
        "outputId": "1e83cfa1-87ba-4537-b993-de085aac6eef"
      },
      "execution_count": 10,
      "outputs": [
        {
          "output_type": "execute_result",
          "data": {
            "text/plain": [
              "array([0, 1, 2, 3, 4, 5, 6, 7])"
            ]
          },
          "metadata": {},
          "execution_count": 10
        }
      ]
    },
    {
      "cell_type": "code",
      "source": [
        "#finding correlation between columns and plotting heatmap\n",
        "\n",
        "corr = df.corr()\n",
        "plt.figure(figsize=(12,10))\n",
        "heat = sns.heatmap(data=corr)\n",
        "plt.title('Heatmap of Correlation')"
      ],
      "metadata": {
        "execution": {
          "iopub.status.busy": "2022-03-09T19:23:13.025311Z",
          "iopub.execute_input": "2022-03-09T19:23:13.025868Z",
          "iopub.status.idle": "2022-03-09T19:23:14.431178Z",
          "shell.execute_reply.started": "2022-03-09T19:23:13.025827Z",
          "shell.execute_reply": "2022-03-09T19:23:14.430421Z"
        },
        "trusted": true,
        "colab": {
          "base_uri": "https://localhost:8080/",
          "height": 768
        },
        "id": "UqKCOanUDBbo",
        "outputId": "ca3677b5-1aef-4092-a70e-2ba02593440f"
      },
      "execution_count": 11,
      "outputs": [
        {
          "output_type": "execute_result",
          "data": {
            "text/plain": [
              "Text(0.5, 1.0, 'Heatmap of Correlation')"
            ]
          },
          "metadata": {},
          "execution_count": 11
        },
        {
          "output_type": "display_data",
          "data": {
            "text/plain": [
              "<Figure size 864x720 with 2 Axes>"
            ],
            "image/png": "[encoded data removed]"
          },
          "metadata": {
            "needs_background": "light"
          }
        }
      ]
    },
    {
      "cell_type": "code",
      "source": [
        "df.isnull().sum()"
      ],
      "metadata": {
        "execution": {
          "iopub.status.busy": "2022-03-09T19:23:14.432637Z",
          "iopub.execute_input": "2022-03-09T19:23:14.433073Z",
          "iopub.status.idle": "2022-03-09T19:23:14.460344Z",
          "shell.execute_reply.started": "2022-03-09T19:23:14.433032Z",
          "shell.execute_reply": "2022-03-09T19:23:14.459495Z"
        },
        "trusted": true,
        "colab": {
          "base_uri": "https://localhost:8080/"
        },
        "id": "uj4iNgxZDBbq",
        "outputId": "30a655a4-74dc-46a5-a16a-585093c11030"
      },
      "execution_count": 12,
      "outputs": [
        {
          "output_type": "execute_result",
          "data": {
            "text/plain": [
              "tachometer                       0\n",
              "und-accelerometer-axial          0\n",
              "und-accelerometer-radial         0\n",
              "und-accelerometer-tangential     0\n",
              "over-accelerometer-axial         0\n",
              "over-accelerometer-radial        0\n",
              "over-accelerometer-tangential    0\n",
              "microphone                       0\n",
              "Class                            0\n",
              "dtype: int64"
            ]
          },
          "metadata": {},
          "execution_count": 12
        }
      ]
    },
    {
      "cell_type": "code",
      "source": [
        "df.info()"
      ],
      "metadata": {
        "execution": {
          "iopub.status.busy": "2022-03-09T19:23:14.461935Z",
          "iopub.execute_input": "2022-03-09T19:23:14.462215Z",
          "iopub.status.idle": "2022-03-09T19:23:14.497983Z",
          "shell.execute_reply.started": "2022-03-09T19:23:14.462165Z",
          "shell.execute_reply": "2022-03-09T19:23:14.497096Z"
        },
        "trusted": true,
        "colab": {
          "base_uri": "https://localhost:8080/"
        },
        "id": "oF2RDWabDBbs",
        "outputId": "a61d4f97-fec0-4bc0-cc3e-ca55a73c8a01"
      },
      "execution_count": 13,
      "outputs": [
        {
          "output_type": "stream",
          "name": "stdout",
          "text": [
            "<class 'pandas.core.frame.DataFrame'>\n",
            "RangeIndex: 30000000 entries, 0 to 29999999\n",
            "Data columns (total 9 columns):\n",
            " #   Column                         Dtype  \n",
            "---  ------                         -----  \n",
            " 0   tachometer                     float64\n",
            " 1   und-accelerometer-axial        float64\n",
            " 2   und-accelerometer-radial       float64\n",
            " 3   und-accelerometer-tangential   float64\n",
            " 4   over-accelerometer-axial       float64\n",
            " 5   over-accelerometer-radial      float64\n",
            " 6   over-accelerometer-tangential  float64\n",
            " 7   microphone                     float64\n",
            " 8   Class                          int64  \n",
            "dtypes: float64(8), int64(1)\n",
            "memory usage: 2.0 GB\n"
          ]
        }
      ]
    },
    {
      "cell_type": "code",
      "source": [
        "df = 0"
      ],
      "metadata": {
        "id": "X7yTl6skVBdf"
      },
      "execution_count": 14,
      "outputs": []
    },
    {
      "cell_type": "markdown",
      "source": [
        "**Model-1(Over Sampling)**"
      ],
      "metadata": {
        "id": "sfJm8G7MDBbw"
      }
    },
    {
      "cell_type": "code",
      "source": [
        "from sklearn.model_selection import train_test_split\n",
        "from sklearn.metrics import recall_score, precision_score, f1_score, roc_auc_score, confusion_matrix, roc_curve, roc_auc_score"
      ],
      "metadata": {
        "execution": {
          "iopub.status.busy": "2022-03-09T19:23:14.969061Z",
          "iopub.execute_input": "2022-03-09T19:23:14.969319Z",
          "iopub.status.idle": "2022-03-09T19:23:14.978210Z",
          "shell.execute_reply.started": "2022-03-09T19:23:14.969291Z",
          "shell.execute_reply": "2022-03-09T19:23:14.977270Z"
        },
        "trusted": true,
        "id": "qzggi-JkDBb4"
      },
      "execution_count": 15,
      "outputs": []
    },
    {
      "cell_type": "code",
      "source": [
        "shuffler = np.random.permutation(len(X_sequence))\n",
        "X_sequence_shuffled = X_sequence[shuffler]\n",
        "y_shuffled = y[shuffler]"
      ],
      "metadata": {
        "id": "8v24AvsuJyvr"
      },
      "execution_count": 16,
      "outputs": []
    },
    {
      "cell_type": "code",
      "source": [
        "training_size = int(len(X_sequence) * 0.8)\n",
        "val_size = int(len(X_sequence) * 0.9)"
      ],
      "metadata": {
        "id": "WbKhe6veJzmK"
      },
      "execution_count": 17,
      "outputs": []
    },
    {
      "cell_type": "code",
      "source": [
        "X_train, y_train = X_sequence_shuffled[:training_size], y_shuffled[:training_size]\n",
        "X_val, y_val = X_sequence_shuffled[training_size:val_size], y_shuffled[training_size:val_size]\n",
        "X_test, y_test = X_sequence_shuffled[val_size:], y_shuffled[val_size:]"
      ],
      "metadata": {
        "id": "YSoZ42lUJ-i0"
      },
      "execution_count": 18,
      "outputs": []
    },
    {
      "cell_type": "code",
      "source": [
        "y_train.shape,y_val.shape, y_test.shape"
      ],
      "metadata": {
        "colab": {
          "base_uri": "https://localhost:8080/"
        },
        "id": "Rgau6Bsfvuia",
        "outputId": "5d7b68c7-81c0-4542-d9cc-3cd8c67a3d0d"
      },
      "execution_count": 19,
      "outputs": [
        {
          "output_type": "execute_result",
          "data": {
            "text/plain": [
              "((119999,), (15000,), (15000,))"
            ]
          },
          "metadata": {},
          "execution_count": 19
        }
      ]
    },
    {
      "cell_type": "code",
      "source": [
        "X_train.shape, X_val.shape, X_test.shape"
      ],
      "metadata": {
        "execution": {
          "iopub.status.busy": "2022-03-09T19:23:15.372239Z",
          "iopub.execute_input": "2022-03-09T19:23:15.372500Z",
          "iopub.status.idle": "2022-03-09T19:23:15.379608Z",
          "shell.execute_reply.started": "2022-03-09T19:23:15.372464Z",
          "shell.execute_reply": "2022-03-09T19:23:15.378724Z"
        },
        "trusted": true,
        "colab": {
          "base_uri": "https://localhost:8080/"
        },
        "id": "qsFy6tJbDBb6",
        "outputId": "0e9445a4-e985-48ca-b5b1-58842773be65"
      },
      "execution_count": 20,
      "outputs": [
        {
          "output_type": "execute_result",
          "data": {
            "text/plain": [
              "((119999, 200, 8), (15000, 200, 8), (15000, 200, 8))"
            ]
          },
          "metadata": {},
          "execution_count": 20
        }
      ]
    },
    {
      "cell_type": "code",
      "source": [
        "X_train[:10]"
      ],
      "metadata": {
        "colab": {
          "base_uri": "https://localhost:8080/"
        },
        "id": "LtenHOZZCGU7",
        "outputId": "89de12d5-c888-4940-f4fc-a187e4d532a0"
      },
      "execution_count": 21,
      "outputs": [
        {
          "output_type": "execute_result",
          "data": {
            "text/plain": [
              "array([[[-7.9991e-01, -3.0383e-01,  1.9273e-01, ..., -4.1092e-02,\n",
              "          1.1763e+00, -1.1877e-01],\n",
              "        [-7.9497e-01,  6.0652e-01, -9.4816e-02, ..., -4.3627e-02,\n",
              "          1.1199e+00,  8.7959e-02],\n",
              "        [-7.4986e-01, -1.0973e+00, -1.3186e-01, ..., -4.4461e-02,\n",
              "          9.9912e-01, -5.2447e-02],\n",
              "        ...,\n",
              "        [-5.4455e-01, -1.1474e+00, -1.8232e-01, ...,  1.8757e-02,\n",
              "          9.4420e-01,  4.2364e-03],\n",
              "        [-5.6227e-01,  1.3376e+00,  2.3434e-01, ...,  2.0638e-02,\n",
              "          1.0425e+00, -1.3920e-02],\n",
              "        [-5.2275e-01, -1.4205e+00, -4.6558e-01, ...,  1.8976e-02,\n",
              "          9.6101e-01,  1.1020e-01]],\n",
              "\n",
              "       [[-6.6458e-01, -5.9952e-02,  2.9613e-01, ..., -1.9003e-02,\n",
              "          6.2601e-02, -1.6834e-01],\n",
              "        [-6.4476e-01,  5.2320e-01, -1.2806e-01, ..., -2.3970e-02,\n",
              "          4.8421e-02,  2.3625e-01],\n",
              "        [-6.6227e-01, -9.8094e-01, -4.0961e-03, ..., -1.9818e-02,\n",
              "         -5.0174e-02, -3.6384e-02],\n",
              "        ...,\n",
              "        [-9.5001e-01, -1.0898e+00, -2.6112e-01, ...,  2.7376e-02,\n",
              "         -6.1913e-02,  4.6014e-03],\n",
              "        [-6.3151e-01,  1.4148e+00,  2.9581e-01, ...,  2.5579e-02,\n",
              "          4.5840e-02, -3.8671e-02],\n",
              "        [-9.3924e-01, -1.1729e+00, -4.6032e-01, ...,  2.2537e-02,\n",
              "         -4.8530e-02,  1.2332e-01]],\n",
              "\n",
              "       [[-6.3886e-01,  5.0561e-01,  9.2510e-01, ...,  4.3997e-02,\n",
              "          8.5110e-02,  1.3196e-01],\n",
              "        [-6.3868e-01, -1.7713e+00,  7.0616e-01, ...,  4.0878e-02,\n",
              "         -3.8718e-03,  9.4384e-02],\n",
              "        [-6.3124e-01,  9.5327e-01,  1.2246e+00, ...,  4.4491e-02,\n",
              "          6.4939e-02, -6.0502e-02],\n",
              "        ...,\n",
              "        [-8.4629e-01,  1.0291e+00,  1.4182e+00, ...,  3.3999e-02,\n",
              "         -2.0480e-01, -1.4087e-01],\n",
              "        [-7.4278e-01, -1.1115e+00,  3.8787e-01, ...,  3.2119e-02,\n",
              "         -3.0566e-01,  2.6964e-01],\n",
              "        [-7.4625e-01,  2.6595e-01,  1.3144e+00, ...,  1.5555e-02,\n",
              "         -2.3125e-01, -1.6924e-01]],\n",
              "\n",
              "       ...,\n",
              "\n",
              "       [[-6.0908e-01,  1.1886e+00,  3.7722e-01, ...,  5.9801e-03,\n",
              "          7.0986e-01, -2.6819e-02],\n",
              "        [-6.0963e-01, -7.9043e-01, -2.4304e-01, ...,  1.8729e-03,\n",
              "          5.8298e-01, -3.1297e-02],\n",
              "        [-6.0088e-01,  7.0589e-01,  4.1135e-01, ..., -3.3100e-05,\n",
              "          6.9290e-01, -1.0283e-01],\n",
              "        ...,\n",
              "        [-6.4740e-01,  6.0202e-01,  4.4064e-01, ..., -9.1909e-03,\n",
              "          4.7876e-01, -1.6092e-01],\n",
              "        [-6.8591e-01,  2.1785e-01, -2.8993e-01, ..., -9.6593e-03,\n",
              "          4.0097e-01,  1.8845e-01],\n",
              "        [-6.5903e-01, -5.6746e-01,  1.6979e-01, ..., -7.7469e-03,\n",
              "          3.7683e-01, -1.1789e-01]],\n",
              "\n",
              "       [[-6.3799e-01,  1.1627e+00,  4.4210e-01, ..., -6.6281e-02,\n",
              "         -4.4909e-01, -5.3761e-02],\n",
              "        [-6.3277e-01, -1.9439e+00, -5.0885e-01, ..., -6.8456e-02,\n",
              "         -5.5528e-01,  2.5762e-01],\n",
              "        [-6.3088e-01,  7.7976e-01,  5.9839e-01, ..., -6.9028e-02,\n",
              "         -5.8097e-01, -1.6423e-01],\n",
              "        ...,\n",
              "        [-7.7111e-01, -4.4255e-01,  4.6239e-01, ..., -8.2010e-02,\n",
              "         -1.1797e+00, -1.9677e-01],\n",
              "        [-8.4327e-01,  7.1115e-02, -1.2549e-01, ..., -8.4166e-02,\n",
              "         -1.2114e+00,  3.5784e-01],\n",
              "        [-7.0666e-01, -1.2972e+00,  1.2423e-01, ..., -8.3396e-02,\n",
              "         -1.2341e+00, -9.5145e-03]],\n",
              "\n",
              "       [[-6.1943e-01, -1.5092e+00,  1.0804e-01, ..., -1.3561e-02,\n",
              "         -7.5738e-01,  1.3878e-01],\n",
              "        [-6.2173e-01,  1.0898e+00,  5.4901e-01, ..., -1.0673e-02,\n",
              "         -6.7189e-01, -9.6985e-02],\n",
              "        [-6.2227e-01, -1.4990e+00, -1.6571e-01, ..., -1.6237e-02,\n",
              "         -7.3563e-01,  2.9799e-01],\n",
              "        ...,\n",
              "        [-4.7623e-01, -1.7588e+00, -6.9930e-01, ..., -3.9247e-04,\n",
              "         -5.3254e-01,  2.8089e-01],\n",
              "        [-5.0594e-01,  3.3543e-01,  4.5977e-01, ..., -8.6736e-04,\n",
              "         -4.3152e-01, -1.9358e-01],\n",
              "        [-3.4378e-01, -6.5803e-01, -5.7173e-01, ..., -3.6397e-03,\n",
              "         -5.1431e-01,  3.1576e-01]]])"
            ]
          },
          "metadata": {},
          "execution_count": 21
        }
      ]
    },
    {
      "cell_type": "code",
      "source": [
        "X_sequence = 0\n",
        "y = 0"
      ],
      "metadata": {
        "id": "N6kpMmoMIp3I"
      },
      "execution_count": 22,
      "outputs": []
    },
    {
      "cell_type": "code",
      "source": [
        "epochs=100\n",
        "model_cnn = tf.keras.models.Sequential([\n",
        "    tf.keras.layers.Conv1D(filters=32, kernel_size=3, activation='relu', input_shape=X_train[0].shape),\n",
        "    tf.keras.layers.MaxPooling1D(pool_size=1),\n",
        "    tf.keras.layers.Conv1D(filters=64, kernel_size=3, activation='relu'),\n",
        "    tf.keras.layers.MaxPooling1D((1)),\n",
        "    tf.keras.layers.Conv1D(filters=64, kernel_size=3, activation='relu'),\n",
        "    tf.keras.layers.Flatten(),\n",
        "    tf.keras.layers.Dense(512,activation='relu'),\n",
        "    tf.keras.layers.Dense(1)\n",
        "])\n",
        "\n",
        "model_cnn.summary()"
      ],
      "metadata": {
        "execution": {
          "iopub.status.busy": "2022-03-09T19:23:15.617846Z",
          "iopub.execute_input": "2022-03-09T19:23:15.618376Z",
          "iopub.status.idle": "2022-03-09T19:23:19.306227Z",
          "shell.execute_reply.started": "2022-03-09T19:23:15.618335Z",
          "shell.execute_reply": "2022-03-09T19:23:19.305528Z"
        },
        "trusted": true,
        "colab": {
          "base_uri": "https://localhost:8080/"
        },
        "id": "DYCaNKhfDBb-",
        "outputId": "feec10e4-60f5-4b2c-fa2f-2f24d88ba283"
      },
      "execution_count": 23,
      "outputs": [
        {
          "output_type": "stream",
          "name": "stdout",
          "text": [
            "Model: \"sequential\"\n",
            "_________________________________________________________________\n",
            " Layer (type)                Output Shape              Param #   \n",
            "=================================================================\n",
            " conv1d (Conv1D)             (None, 198, 32)           800       \n",
            "                                                                 \n",
            " max_pooling1d (MaxPooling1D  (None, 198, 32)          0         \n",
            " )                                                               \n",
            "                                                                 \n",
            " conv1d_1 (Conv1D)           (None, 196, 64)           6208      \n",
            "                                                                 \n",
            " max_pooling1d_1 (MaxPooling  (None, 196, 64)          0         \n",
            " 1D)                                                             \n",
            "                                                                 \n",
            " conv1d_2 (Conv1D)           (None, 194, 64)           12352     \n",
            "                                                                 \n",
            " flatten (Flatten)           (None, 12416)             0         \n",
            "                                                                 \n",
            " dense (Dense)               (None, 512)               6357504   \n",
            "                                                                 \n",
            " dense_1 (Dense)             (None, 1)                 513       \n",
            "                                                                 \n",
            "=================================================================\n",
            "Total params: 6,377,377\n",
            "Trainable params: 6,377,377\n",
            "Non-trainable params: 0\n",
            "_________________________________________________________________\n"
          ]
        }
      ]
    },
    {
      "cell_type": "code",
      "source": [
        "# Compile the model as usual\n",
        "optimizer = tf.keras.optimizers.Adam(lr=0.0001)\n",
        "model_cnn.compile(optimizer=optimizer,\n",
        "                 loss='mse',\n",
        "                 metrics=['accuracy'])"
      ],
      "metadata": {
        "execution": {
          "iopub.status.busy": "2022-03-09T19:23:19.307548Z",
          "iopub.execute_input": "2022-03-09T19:23:19.307966Z",
          "iopub.status.idle": "2022-03-09T19:23:19.324570Z",
          "shell.execute_reply.started": "2022-03-09T19:23:19.307923Z",
          "shell.execute_reply": "2022-03-09T19:23:19.323764Z"
        },
        "trusted": true,
        "id": "fCnzSVEQDBb-"
      },
      "execution_count": 24,
      "outputs": []
    },
    {
      "cell_type": "code",
      "source": [
        "# Train the model\n",
        "history = model_cnn.fit(X_train, y_train, epochs=100, batch_size=64, validation_data=(X_val, y_val))"
      ],
      "metadata": {
        "execution": {
          "iopub.status.busy": "2022-03-09T19:23:19.326061Z",
          "iopub.execute_input": "2022-03-09T19:23:19.326327Z",
          "iopub.status.idle": "2022-03-09T19:23:30.575919Z",
          "shell.execute_reply.started": "2022-03-09T19:23:19.326290Z",
          "shell.execute_reply": "2022-03-09T19:23:30.572061Z"
        },
        "trusted": true,
        "colab": {
          "base_uri": "https://localhost:8080/"
        },
        "id": "dEMiORgIDBb_",
        "outputId": "dfcfdfd6-7238-47e0-c854-4846bb1f3aa0"
      },
      "execution_count": 25,
      "outputs": [
        {
          "output_type": "stream",
          "name": "stdout",
          "text": [
            "Epoch 1/100\n",
            "1875/1875 [==============================] - 25s 8ms/step - loss: 2.3444 - accuracy: 0.1539 - val_loss: 1.7623 - val_accuracy: 0.1793\n",
            "Epoch 2/100\n",
            "1875/1875 [==============================] - 12s 7ms/step - loss: 1.6386 - accuracy: 0.1890 - val_loss: 1.5091 - val_accuracy: 0.1887\n",
            "Epoch 3/100\n",
            "1875/1875 [==============================] - 12s 6ms/step - loss: 1.4061 - accuracy: 0.2024 - val_loss: 1.3873 - val_accuracy: 0.2018\n",
            "Epoch 4/100\n",
            "1875/1875 [==============================] - 12s 7ms/step - loss: 1.2514 - accuracy: 0.2104 - val_loss: 1.2539 - val_accuracy: 0.2007\n",
            "Epoch 5/100\n",
            "1875/1875 [==============================] - 12s 6ms/step - loss: 1.1175 - accuracy: 0.2153 - val_loss: 1.0616 - val_accuracy: 0.2095\n",
            "Epoch 6/100\n",
            "1875/1875 [==============================] - 12s 6ms/step - loss: 1.0042 - accuracy: 0.2190 - val_loss: 0.9855 - val_accuracy: 0.2106\n",
            "Epoch 7/100\n",
            "1875/1875 [==============================] - 12s 6ms/step - loss: 0.9139 - accuracy: 0.2223 - val_loss: 0.9566 - val_accuracy: 0.2131\n",
            "Epoch 8/100\n",
            "1875/1875 [==============================] - 12s 6ms/step - loss: 0.8399 - accuracy: 0.2251 - val_loss: 0.8897 - val_accuracy: 0.2212\n",
            "Epoch 9/100\n",
            "1875/1875 [==============================] - 12s 6ms/step - loss: 0.7732 - accuracy: 0.2272 - val_loss: 0.8430 - val_accuracy: 0.2162\n",
            "Epoch 10/100\n",
            "1875/1875 [==============================] - 12s 6ms/step - loss: 0.7217 - accuracy: 0.2285 - val_loss: 0.8886 - val_accuracy: 0.2200\n",
            "Epoch 11/100\n",
            "1875/1875 [==============================] - 12s 6ms/step - loss: 0.6741 - accuracy: 0.2304 - val_loss: 0.8186 - val_accuracy: 0.2230\n",
            "Epoch 12/100\n",
            "1875/1875 [==============================] - 12s 6ms/step - loss: 0.6283 - accuracy: 0.2316 - val_loss: 0.8173 - val_accuracy: 0.2227\n",
            "Epoch 13/100\n",
            "1875/1875 [==============================] - 12s 6ms/step - loss: 0.5875 - accuracy: 0.2327 - val_loss: 0.7639 - val_accuracy: 0.2236\n",
            "Epoch 14/100\n",
            "1875/1875 [==============================] - 12s 6ms/step - loss: 0.5515 - accuracy: 0.2335 - val_loss: 0.7148 - val_accuracy: 0.2250\n",
            "Epoch 15/100\n",
            "1875/1875 [==============================] - 12s 6ms/step - loss: 0.5233 - accuracy: 0.2345 - val_loss: 0.7207 - val_accuracy: 0.2231\n",
            "Epoch 16/100\n",
            "1875/1875 [==============================] - 12s 6ms/step - loss: 0.4864 - accuracy: 0.2356 - val_loss: 0.6803 - val_accuracy: 0.2232\n",
            "Epoch 17/100\n",
            "1875/1875 [==============================] - 12s 6ms/step - loss: 0.4573 - accuracy: 0.2362 - val_loss: 0.6796 - val_accuracy: 0.2260\n",
            "Epoch 18/100\n",
            "1875/1875 [==============================] - 12s 6ms/step - loss: 0.4317 - accuracy: 0.2375 - val_loss: 0.6569 - val_accuracy: 0.2263\n",
            "Epoch 19/100\n",
            "1875/1875 [==============================] - 12s 6ms/step - loss: 0.4003 - accuracy: 0.2375 - val_loss: 0.6633 - val_accuracy: 0.2264\n",
            "Epoch 20/100\n",
            "1875/1875 [==============================] - 12s 6ms/step - loss: 0.3714 - accuracy: 0.2385 - val_loss: 0.6742 - val_accuracy: 0.2281\n",
            "Epoch 21/100\n",
            "1875/1875 [==============================] - 12s 6ms/step - loss: 0.3518 - accuracy: 0.2390 - val_loss: 0.6147 - val_accuracy: 0.2270\n",
            "Epoch 22/100\n",
            "1875/1875 [==============================] - 12s 6ms/step - loss: 0.3290 - accuracy: 0.2396 - val_loss: 0.6367 - val_accuracy: 0.2253\n",
            "Epoch 23/100\n",
            "1875/1875 [==============================] - 12s 6ms/step - loss: 0.3054 - accuracy: 0.2406 - val_loss: 0.6108 - val_accuracy: 0.2257\n",
            "Epoch 24/100\n",
            "1875/1875 [==============================] - 12s 6ms/step - loss: 0.2850 - accuracy: 0.2406 - val_loss: 0.6094 - val_accuracy: 0.2253\n",
            "Epoch 25/100\n",
            "1875/1875 [==============================] - 12s 6ms/step - loss: 0.2660 - accuracy: 0.2414 - val_loss: 0.6088 - val_accuracy: 0.2281\n",
            "Epoch 26/100\n",
            "1875/1875 [==============================] - 12s 6ms/step - loss: 0.2447 - accuracy: 0.2422 - val_loss: 0.5965 - val_accuracy: 0.2292\n",
            "Epoch 27/100\n",
            "1875/1875 [==============================] - 12s 6ms/step - loss: 0.2301 - accuracy: 0.2424 - val_loss: 0.5817 - val_accuracy: 0.2257\n",
            "Epoch 28/100\n",
            "1875/1875 [==============================] - 12s 6ms/step - loss: 0.2109 - accuracy: 0.2429 - val_loss: 0.6127 - val_accuracy: 0.2264\n",
            "Epoch 29/100\n",
            "1875/1875 [==============================] - 12s 6ms/step - loss: 0.1975 - accuracy: 0.2434 - val_loss: 0.5894 - val_accuracy: 0.2278\n",
            "Epoch 30/100\n",
            "1875/1875 [==============================] - 12s 6ms/step - loss: 0.1786 - accuracy: 0.2437 - val_loss: 0.5825 - val_accuracy: 0.2267\n",
            "Epoch 31/100\n",
            "1875/1875 [==============================] - 12s 6ms/step - loss: 0.1657 - accuracy: 0.2440 - val_loss: 0.5673 - val_accuracy: 0.2287\n",
            "Epoch 32/100\n",
            "1875/1875 [==============================] - 12s 6ms/step - loss: 0.1525 - accuracy: 0.2448 - val_loss: 0.5870 - val_accuracy: 0.2281\n",
            "Epoch 33/100\n",
            "1875/1875 [==============================] - 12s 6ms/step - loss: 0.1397 - accuracy: 0.2451 - val_loss: 0.5709 - val_accuracy: 0.2290\n",
            "Epoch 34/100\n",
            "1875/1875 [==============================] - 12s 6ms/step - loss: 0.1287 - accuracy: 0.2458 - val_loss: 0.5727 - val_accuracy: 0.2263\n",
            "Epoch 35/100\n",
            "1875/1875 [==============================] - 12s 6ms/step - loss: 0.1196 - accuracy: 0.2454 - val_loss: 0.5699 - val_accuracy: 0.2287\n",
            "Epoch 36/100\n",
            "1875/1875 [==============================] - 12s 6ms/step - loss: 0.1090 - accuracy: 0.2463 - val_loss: 0.5806 - val_accuracy: 0.2282\n",
            "Epoch 37/100\n",
            "1875/1875 [==============================] - 12s 6ms/step - loss: 0.0991 - accuracy: 0.2466 - val_loss: 0.5922 - val_accuracy: 0.2286\n",
            "Epoch 38/100\n",
            "1875/1875 [==============================] - 12s 7ms/step - loss: 0.0919 - accuracy: 0.2468 - val_loss: 0.5869 - val_accuracy: 0.2283\n",
            "Epoch 39/100\n",
            "1875/1875 [==============================] - 12s 6ms/step - loss: 0.0851 - accuracy: 0.2474 - val_loss: 0.5635 - val_accuracy: 0.2291\n",
            "Epoch 40/100\n",
            "1875/1875 [==============================] - 12s 6ms/step - loss: 0.0777 - accuracy: 0.2475 - val_loss: 0.5656 - val_accuracy: 0.2294\n",
            "Epoch 41/100\n",
            "1875/1875 [==============================] - 12s 6ms/step - loss: 0.0715 - accuracy: 0.2478 - val_loss: 0.5735 - val_accuracy: 0.2287\n",
            "Epoch 42/100\n",
            "1875/1875 [==============================] - 12s 6ms/step - loss: 0.0679 - accuracy: 0.2481 - val_loss: 0.5579 - val_accuracy: 0.2279\n",
            "Epoch 43/100\n",
            "1875/1875 [==============================] - 12s 6ms/step - loss: 0.0623 - accuracy: 0.2481 - val_loss: 0.5599 - val_accuracy: 0.2297\n",
            "Epoch 44/100\n",
            "1875/1875 [==============================] - 12s 6ms/step - loss: 0.0573 - accuracy: 0.2485 - val_loss: 0.5622 - val_accuracy: 0.2305\n",
            "Epoch 45/100\n",
            "1875/1875 [==============================] - 12s 6ms/step - loss: 0.0535 - accuracy: 0.2484 - val_loss: 0.5654 - val_accuracy: 0.2281\n",
            "Epoch 46/100\n",
            "1875/1875 [==============================] - 12s 6ms/step - loss: 0.0514 - accuracy: 0.2486 - val_loss: 0.5742 - val_accuracy: 0.2293\n",
            "Epoch 47/100\n",
            "1875/1875 [==============================] - 12s 6ms/step - loss: 0.0476 - accuracy: 0.2488 - val_loss: 0.5685 - val_accuracy: 0.2296\n",
            "Epoch 48/100\n",
            "1875/1875 [==============================] - 12s 6ms/step - loss: 0.0460 - accuracy: 0.2488 - val_loss: 0.6830 - val_accuracy: 0.2295\n",
            "Epoch 49/100\n",
            "1875/1875 [==============================] - 12s 6ms/step - loss: 0.0417 - accuracy: 0.2491 - val_loss: 0.5618 - val_accuracy: 0.2299\n",
            "Epoch 50/100\n",
            "1875/1875 [==============================] - 12s 6ms/step - loss: 0.0405 - accuracy: 0.2492 - val_loss: 0.5727 - val_accuracy: 0.2295\n",
            "Epoch 51/100\n",
            "1875/1875 [==============================] - 12s 6ms/step - loss: 0.0396 - accuracy: 0.2492 - val_loss: 0.5641 - val_accuracy: 0.2287\n",
            "Epoch 52/100\n",
            "1875/1875 [==============================] - 12s 6ms/step - loss: 0.0382 - accuracy: 0.2493 - val_loss: 0.5602 - val_accuracy: 0.2295\n",
            "Epoch 53/100\n",
            "1875/1875 [==============================] - 12s 6ms/step - loss: 0.0348 - accuracy: 0.2496 - val_loss: 0.5663 - val_accuracy: 0.2299\n",
            "Epoch 54/100\n",
            "1875/1875 [==============================] - 12s 6ms/step - loss: 0.0350 - accuracy: 0.2494 - val_loss: 0.5637 - val_accuracy: 0.2271\n",
            "Epoch 55/100\n",
            "1875/1875 [==============================] - 12s 6ms/step - loss: 0.0335 - accuracy: 0.2495 - val_loss: 0.5610 - val_accuracy: 0.2292\n",
            "Epoch 56/100\n",
            "1875/1875 [==============================] - 12s 6ms/step - loss: 0.0328 - accuracy: 0.2496 - val_loss: 0.5587 - val_accuracy: 0.2307\n",
            "Epoch 57/100\n",
            "1875/1875 [==============================] - 12s 6ms/step - loss: 0.0308 - accuracy: 0.2495 - val_loss: 0.5538 - val_accuracy: 0.2306\n",
            "Epoch 58/100\n",
            "1875/1875 [==============================] - 12s 6ms/step - loss: 0.0316 - accuracy: 0.2496 - val_loss: 0.5580 - val_accuracy: 0.2291\n",
            "Epoch 59/100\n",
            "1875/1875 [==============================] - 12s 6ms/step - loss: 0.0309 - accuracy: 0.2499 - val_loss: 0.5609 - val_accuracy: 0.2296\n",
            "Epoch 60/100\n",
            "1875/1875 [==============================] - 12s 6ms/step - loss: 0.0292 - accuracy: 0.2498 - val_loss: 0.5662 - val_accuracy: 0.2298\n",
            "Epoch 61/100\n",
            "1875/1875 [==============================] - 12s 6ms/step - loss: 0.0283 - accuracy: 0.2500 - val_loss: 0.5567 - val_accuracy: 0.2309\n",
            "Epoch 62/100\n",
            "1875/1875 [==============================] - 12s 6ms/step - loss: 0.0291 - accuracy: 0.2500 - val_loss: 0.5604 - val_accuracy: 0.2307\n",
            "Epoch 63/100\n",
            "1875/1875 [==============================] - 12s 6ms/step - loss: 0.0274 - accuracy: 0.2500 - val_loss: 0.5483 - val_accuracy: 0.2311\n",
            "Epoch 64/100\n",
            "1875/1875 [==============================] - 12s 6ms/step - loss: 0.0267 - accuracy: 0.2500 - val_loss: 0.5525 - val_accuracy: 0.2312\n",
            "Epoch 65/100\n",
            "1875/1875 [==============================] - 12s 6ms/step - loss: 0.0263 - accuracy: 0.2500 - val_loss: 0.5671 - val_accuracy: 0.2307\n",
            "Epoch 66/100\n",
            "1875/1875 [==============================] - 12s 6ms/step - loss: 0.0275 - accuracy: 0.2502 - val_loss: 0.5538 - val_accuracy: 0.2310\n",
            "Epoch 67/100\n",
            "1875/1875 [==============================] - 12s 6ms/step - loss: 0.0252 - accuracy: 0.2502 - val_loss: 0.5527 - val_accuracy: 0.2305\n",
            "Epoch 68/100\n",
            "1875/1875 [==============================] - 12s 6ms/step - loss: 0.0251 - accuracy: 0.2502 - val_loss: 0.5718 - val_accuracy: 0.2283\n",
            "Epoch 69/100\n",
            "1875/1875 [==============================] - 12s 6ms/step - loss: 0.0251 - accuracy: 0.2501 - val_loss: 0.5534 - val_accuracy: 0.2299\n",
            "Epoch 70/100\n",
            "1875/1875 [==============================] - 12s 6ms/step - loss: 0.0249 - accuracy: 0.2503 - val_loss: 0.5628 - val_accuracy: 0.2303\n",
            "Epoch 71/100\n",
            "1875/1875 [==============================] - 12s 6ms/step - loss: 0.0229 - accuracy: 0.2504 - val_loss: 0.5590 - val_accuracy: 0.2311\n",
            "Epoch 72/100\n",
            "1875/1875 [==============================] - 12s 6ms/step - loss: 0.0247 - accuracy: 0.2503 - val_loss: 0.5510 - val_accuracy: 0.2308\n",
            "Epoch 73/100\n",
            "1875/1875 [==============================] - 12s 6ms/step - loss: 0.0223 - accuracy: 0.2503 - val_loss: 0.5544 - val_accuracy: 0.2303\n",
            "Epoch 74/100\n",
            "1875/1875 [==============================] - 12s 6ms/step - loss: 0.0242 - accuracy: 0.2503 - val_loss: 0.5551 - val_accuracy: 0.2309\n",
            "Epoch 75/100\n",
            "1875/1875 [==============================] - 12s 6ms/step - loss: 0.0223 - accuracy: 0.2504 - val_loss: 0.5443 - val_accuracy: 0.2303\n",
            "Epoch 76/100\n",
            "1875/1875 [==============================] - 12s 6ms/step - loss: 0.0222 - accuracy: 0.2504 - val_loss: 0.5454 - val_accuracy: 0.2305\n",
            "Epoch 77/100\n",
            "1875/1875 [==============================] - 12s 6ms/step - loss: 0.0223 - accuracy: 0.2504 - val_loss: 0.5450 - val_accuracy: 0.2319\n",
            "Epoch 78/100\n",
            "1875/1875 [==============================] - 12s 6ms/step - loss: 0.0221 - accuracy: 0.2504 - val_loss: 0.5474 - val_accuracy: 0.2315\n",
            "Epoch 79/100\n",
            "1875/1875 [==============================] - 12s 6ms/step - loss: 0.0219 - accuracy: 0.2505 - val_loss: 0.5508 - val_accuracy: 0.2309\n",
            "Epoch 80/100\n",
            "1875/1875 [==============================] - 12s 6ms/step - loss: 0.0217 - accuracy: 0.2505 - val_loss: 0.5447 - val_accuracy: 0.2305\n",
            "Epoch 81/100\n",
            "1875/1875 [==============================] - 12s 6ms/step - loss: 0.0210 - accuracy: 0.2505 - val_loss: 0.5559 - val_accuracy: 0.2311\n",
            "Epoch 82/100\n",
            "1875/1875 [==============================] - 12s 6ms/step - loss: 0.0210 - accuracy: 0.2506 - val_loss: 0.5467 - val_accuracy: 0.2316\n",
            "Epoch 83/100\n",
            "1875/1875 [==============================] - 12s 7ms/step - loss: 0.0204 - accuracy: 0.2505 - val_loss: 0.5466 - val_accuracy: 0.2308\n",
            "Epoch 84/100\n",
            "1875/1875 [==============================] - 12s 6ms/step - loss: 0.0208 - accuracy: 0.2506 - val_loss: 0.5456 - val_accuracy: 0.2314\n",
            "Epoch 85/100\n",
            "1875/1875 [==============================] - 12s 6ms/step - loss: 0.0206 - accuracy: 0.2506 - val_loss: 0.5508 - val_accuracy: 0.2315\n",
            "Epoch 86/100\n",
            "1875/1875 [==============================] - 12s 7ms/step - loss: 0.0189 - accuracy: 0.2506 - val_loss: 0.5482 - val_accuracy: 0.2303\n",
            "Epoch 87/100\n",
            "1875/1875 [==============================] - 12s 6ms/step - loss: 0.0194 - accuracy: 0.2506 - val_loss: 0.5462 - val_accuracy: 0.2308\n",
            "Epoch 88/100\n",
            "1875/1875 [==============================] - 12s 6ms/step - loss: 0.0192 - accuracy: 0.2506 - val_loss: 0.5475 - val_accuracy: 0.2316\n",
            "Epoch 89/100\n",
            "1875/1875 [==============================] - 12s 6ms/step - loss: 0.0194 - accuracy: 0.2506 - val_loss: 0.5510 - val_accuracy: 0.2317\n",
            "Epoch 90/100\n",
            "1875/1875 [==============================] - 12s 6ms/step - loss: 0.0193 - accuracy: 0.2506 - val_loss: 0.5437 - val_accuracy: 0.2319\n",
            "Epoch 91/100\n",
            "1875/1875 [==============================] - 12s 7ms/step - loss: 0.0194 - accuracy: 0.2506 - val_loss: 0.5493 - val_accuracy: 0.2306\n",
            "Epoch 92/100\n",
            "1875/1875 [==============================] - 12s 6ms/step - loss: 0.0186 - accuracy: 0.2506 - val_loss: 0.5446 - val_accuracy: 0.2311\n",
            "Epoch 93/100\n",
            "1875/1875 [==============================] - 12s 6ms/step - loss: 0.0182 - accuracy: 0.2506 - val_loss: 0.5425 - val_accuracy: 0.2312\n",
            "Epoch 94/100\n",
            "1875/1875 [==============================] - 12s 6ms/step - loss: 0.0185 - accuracy: 0.2506 - val_loss: 0.5443 - val_accuracy: 0.2316\n",
            "Epoch 95/100\n",
            "1875/1875 [==============================] - 12s 6ms/step - loss: 0.0178 - accuracy: 0.2507 - val_loss: 0.5481 - val_accuracy: 0.2322\n",
            "Epoch 96/100\n",
            "1875/1875 [==============================] - 12s 6ms/step - loss: 0.0177 - accuracy: 0.2506 - val_loss: 0.5383 - val_accuracy: 0.2319\n",
            "Epoch 97/100\n",
            "1875/1875 [==============================] - 12s 6ms/step - loss: 0.0170 - accuracy: 0.2507 - val_loss: 0.5398 - val_accuracy: 0.2305\n",
            "Epoch 98/100\n",
            "1875/1875 [==============================] - 12s 6ms/step - loss: 0.0178 - accuracy: 0.2507 - val_loss: 0.5416 - val_accuracy: 0.2325\n",
            "Epoch 99/100\n",
            "1875/1875 [==============================] - 12s 6ms/step - loss: 0.0171 - accuracy: 0.2507 - val_loss: 0.5413 - val_accuracy: 0.2317\n",
            "Epoch 100/100\n",
            "1875/1875 [==============================] - 12s 6ms/step - loss: 0.0181 - accuracy: 0.2507 - val_loss: 0.5362 - val_accuracy: 0.2327\n"
          ]
        }
      ]
    },
    {
      "cell_type": "code",
      "source": [
        "history_dict = history.history\n",
        "loss = history_dict['loss']\n",
        "val_loss = history_dict['val_loss']\n",
        "acc = history_dict['accuracy']\n",
        "val_acc = history_dict['val_accuracy']\n",
        "\n",
        "epochs = range(1, len(loss) + 1)\n",
        "\n",
        "plt.plot(epochs, loss, 'b', label='Training Loss')\n",
        "plt.plot(epochs, val_loss, 'r', label='Validation Loss')\n",
        "plt.title('Training and Validation Loss')\n",
        "plt.xlabel('Epochs')\n",
        "plt.ylabel('Loss')\n",
        "plt.legend()\n",
        "plt.savefig('cnn_loss_plot.png')\n",
        "plt.show()\n",
        "\n",
        "plt.figure()\n",
        "\n",
        "plt.plot(epochs, acc, 'b', label='Training Accuracy')\n",
        "plt.plot(epochs, val_acc, 'r', label='Validation Accuracy')\n",
        "plt.title('Training and Validation Accuracy')\n",
        "plt.xlabel('Epochs')\n",
        "plt.ylabel('Accuracy')\n",
        "plt.legend()\n",
        "plt.savefig('cnn_acc_plot.png')\n",
        "plt.show()"
      ],
      "metadata": {
        "execution": {
          "iopub.status.busy": "2022-03-09T19:23:30.577316Z",
          "iopub.status.idle": "2022-03-09T19:23:30.577933Z",
          "shell.execute_reply.started": "2022-03-09T19:23:30.577667Z",
          "shell.execute_reply": "2022-03-09T19:23:30.577695Z"
        },
        "trusted": true,
        "colab": {
          "base_uri": "https://localhost:8080/",
          "height": 581
        },
        "id": "4Aq5JP3xDBb_",
        "outputId": "9055a115-5d24-4aea-f180-796c00eaf6f0"
      },
      "execution_count": 26,
      "outputs": [
        {
          "output_type": "display_data",
          "data": {
            "text/plain": [
              "<Figure size 432x288 with 1 Axes>"
            ],
            "image/png": "[encoded data removed]"
          },
          "metadata": {
            "needs_background": "light"
          }
        },
        {
          "output_type": "display_data",
          "data": {
            "text/plain": [
              "<Figure size 432x288 with 1 Axes>"
            ],
            "image/png": "[encoded data removed]"
          },
          "metadata": {
            "needs_background": "light"
          }
        }
      ]
    },
    {
      "cell_type": "code",
      "source": [
        "val_predictions = model_cnn.predict(X_test)"
      ],
      "metadata": {
        "id": "ZrKm7hOi8C_O"
      },
      "execution_count": 27,
      "outputs": []
    },
    {
      "cell_type": "code",
      "source": [
        "unique, counts = np.unique(val_predictions, return_counts=True)"
      ],
      "metadata": {
        "id": "zv07x_Cd76tX"
      },
      "execution_count": 28,
      "outputs": []
    },
    {
      "cell_type": "code",
      "source": [
        "unique"
      ],
      "metadata": {
        "colab": {
          "base_uri": "https://localhost:8080/"
        },
        "id": "iaFiiZ4a8Gmn",
        "outputId": "d833c806-7001-4458-b4b4-a61bacd91023"
      },
      "execution_count": 29,
      "outputs": [
        {
          "output_type": "execute_result",
          "data": {
            "text/plain": [
              "array([-1.4368187 , -1.1568475 , -0.98465073, ...,  9.30631   ,\n",
              "        9.696242  ,  9.882986  ], dtype=float32)"
            ]
          },
          "metadata": {},
          "execution_count": 29
        }
      ]
    },
    {
      "cell_type": "code",
      "source": [
        "val_predictions = model_cnn.predict(X_test)\n",
        "pred=np.around(val_predictions)\n",
        "pred"
      ],
      "metadata": {
        "execution": {
          "iopub.status.busy": "2022-03-09T19:23:30.579200Z",
          "iopub.status.idle": "2022-03-09T19:23:30.580003Z",
          "shell.execute_reply.started": "2022-03-09T19:23:30.579724Z",
          "shell.execute_reply": "2022-03-09T19:23:30.579750Z"
        },
        "trusted": true,
        "colab": {
          "base_uri": "https://localhost:8080/"
        },
        "id": "ZXAOQHmrDBcA",
        "outputId": "af46b513-4ad7-4666-b99a-961f7d2f6d4b"
      },
      "execution_count": 30,
      "outputs": [
        {
          "output_type": "execute_result",
          "data": {
            "text/plain": [
              "array([[6.],\n",
              "       [5.],\n",
              "       [1.],\n",
              "       ...,\n",
              "       [3.],\n",
              "       [3.],\n",
              "       [7.]], dtype=float32)"
            ]
          },
          "metadata": {},
          "execution_count": 30
        }
      ]
    },
    {
      "cell_type": "code",
      "source": [
        "print(classification_report(y_test, pred))"
      ],
      "metadata": {
        "execution": {
          "iopub.status.busy": "2022-03-09T19:23:30.581398Z",
          "iopub.status.idle": "2022-03-09T19:23:30.581822Z",
          "shell.execute_reply.started": "2022-03-09T19:23:30.581591Z",
          "shell.execute_reply": "2022-03-09T19:23:30.581615Z"
        },
        "trusted": true,
        "colab": {
          "base_uri": "https://localhost:8080/"
        },
        "id": "OeaY3kBoDBcB",
        "outputId": "eddd6a56-cbc1-414f-e51c-41188cfb8160"
      },
      "execution_count": 31,
      "outputs": [
        {
          "output_type": "stream",
          "name": "stdout",
          "text": [
            "              precision    recall  f1-score   support\n",
            "\n",
            "        -1.0       0.00      0.00      0.00         0\n",
            "         0.0       0.96      0.94      0.95      1865\n",
            "         1.0       0.89      0.90      0.90      1876\n",
            "         2.0       0.85      0.57      0.68      1839\n",
            "         3.0       0.55      0.55      0.55      1925\n",
            "         4.0       0.44      0.62      0.51      1930\n",
            "         5.0       0.44      0.56      0.49      1860\n",
            "         6.0       0.53      0.47      0.50      1899\n",
            "         7.0       0.80      0.48      0.60      1806\n",
            "         8.0       0.00      0.00      0.00         0\n",
            "         9.0       0.00      0.00      0.00         0\n",
            "        10.0       0.00      0.00      0.00         0\n",
            "\n",
            "    accuracy                           0.64     15000\n",
            "   macro avg       0.46      0.43      0.43     15000\n",
            "weighted avg       0.68      0.64      0.65     15000\n",
            "\n"
          ]
        }
      ]
    },
    {
      "cell_type": "code",
      "source": [
        "def get_confusion_matrix(y_true, y_pred):\n",
        "    n_classes = len(np.unique(y_true))\n",
        "    conf = np.zeros((n_classes, n_classes))\n",
        "    for actual, pred in zip(y_true, y_pred):\n",
        "        conf[int(actual)][int(pred)] += 1\n",
        "    return conf.astype('int')"
      ],
      "metadata": {
        "id": "-hQBliwzUU1k"
      },
      "execution_count": 32,
      "outputs": []
    },
    {
      "cell_type": "code",
      "source": [
        "cfm=confusion_matrix(y_test, pred)"
      ],
      "metadata": {
        "id": "KJwCQe1soWiK"
      },
      "execution_count": 33,
      "outputs": []
    },
    {
      "cell_type": "code",
      "source": [
        "cfm"
      ],
      "metadata": {
        "colab": {
          "base_uri": "https://localhost:8080/"
        },
        "id": "i8n0QTpsojD3",
        "outputId": "6fef4b41-9564-4815-960d-bedd19ab4325"
      },
      "execution_count": 34,
      "outputs": [
        {
          "output_type": "execute_result",
          "data": {
            "text/plain": [
              "array([[   0,    0,    0,    0,    0,    0,    0,    0,    0,    0,    0,\n",
              "           0],\n",
              "       [  28, 1761,   60,   11,    5,    0,    0,    0,    0,    0,    0,\n",
              "           0],\n",
              "       [   1,   64, 1690,   74,   30,   13,    1,    2,    1,    0,    0,\n",
              "           0],\n",
              "       [   1,   15,  140, 1045,  450,  157,   30,    1,    0,    0,    0,\n",
              "           0],\n",
              "       [   0,    0,    2,   92, 1061,  603,  144,   23,    0,    0,    0,\n",
              "           0],\n",
              "       [   0,    0,    0,    4,  272, 1202,  425,   25,    2,    0,    0,\n",
              "           0],\n",
              "       [   0,    0,    0,    2,   70,  597, 1047,  143,    1,    0,    0,\n",
              "           0],\n",
              "       [   0,    0,    0,    0,   27,  167,  605,  886,  210,    4,    0,\n",
              "           0],\n",
              "       [   0,    0,    0,    0,    3,   16,  127,  580,  875,  201,    2,\n",
              "           2],\n",
              "       [   0,    0,    0,    0,    0,    0,    0,    0,    0,    0,    0,\n",
              "           0],\n",
              "       [   0,    0,    0,    0,    0,    0,    0,    0,    0,    0,    0,\n",
              "           0],\n",
              "       [   0,    0,    0,    0,    0,    0,    0,    0,    0,    0,    0,\n",
              "           0]])"
            ]
          },
          "metadata": {},
          "execution_count": 34
        }
      ]
    },
    {
      "cell_type": "code",
      "source": [
        "y_test"
      ],
      "metadata": {
        "id": "IK-YuU5liMU_",
        "colab": {
          "base_uri": "https://localhost:8080/"
        },
        "outputId": "23d6b904-0e49-4b0c-d1bc-beff20c511b9"
      },
      "execution_count": 35,
      "outputs": [
        {
          "output_type": "execute_result",
          "data": {
            "text/plain": [
              "array([6, 5, 1, ..., 3, 4, 7])"
            ]
          },
          "metadata": {},
          "execution_count": 35
        }
      ]
    },
    {
      "cell_type": "code",
      "source": [
        "pred"
      ],
      "metadata": {
        "id": "dq-Ucj0AiOHZ",
        "colab": {
          "base_uri": "https://localhost:8080/"
        },
        "outputId": "c6b0f7dd-a28d-4fae-f621-cb543b8cd55c"
      },
      "execution_count": 36,
      "outputs": [
        {
          "output_type": "execute_result",
          "data": {
            "text/plain": [
              "array([[6.],\n",
              "       [5.],\n",
              "       [1.],\n",
              "       ...,\n",
              "       [3.],\n",
              "       [3.],\n",
              "       [7.]], dtype=float32)"
            ]
          },
          "metadata": {},
          "execution_count": 36
        }
      ]
    },
    {
      "cell_type": "code",
      "source": [
        "y_pred = pred.astype(int)"
      ],
      "metadata": {
        "id": "xhs_JKo2iPXs"
      },
      "execution_count": 37,
      "outputs": []
    },
    {
      "cell_type": "code",
      "source": [
        "y_pred"
      ],
      "metadata": {
        "id": "vRceZUi2iTQW",
        "colab": {
          "base_uri": "https://localhost:8080/"
        },
        "outputId": "078b8689-ea2a-4de4-b9a4-3f37a464767d"
      },
      "execution_count": 38,
      "outputs": [
        {
          "output_type": "execute_result",
          "data": {
            "text/plain": [
              "array([[6],\n",
              "       [5],\n",
              "       [1],\n",
              "       ...,\n",
              "       [3],\n",
              "       [3],\n",
              "       [7]])"
            ]
          },
          "metadata": {},
          "execution_count": 38
        }
      ]
    },
    {
      "cell_type": "code",
      "source": [
        "y_pred.shape"
      ],
      "metadata": {
        "id": "awH-pujaiU1F",
        "colab": {
          "base_uri": "https://localhost:8080/"
        },
        "outputId": "ad8a4257-fc35-4b94-95bb-e87ac3c215ed"
      },
      "execution_count": 39,
      "outputs": [
        {
          "output_type": "execute_result",
          "data": {
            "text/plain": [
              "(15000, 1)"
            ]
          },
          "metadata": {},
          "execution_count": 39
        }
      ]
    },
    {
      "cell_type": "code",
      "source": [
        "i = 0\n",
        "while i < 15000:\n",
        "  if y_pred[i] < 0:\n",
        "    y_pred[i] = 0\n",
        "  elif y_pred[i] > 7:\n",
        "    y_pred[i] = 7\n",
        "  i+=1"
      ],
      "metadata": {
        "id": "A5kkWO-FiX3_"
      },
      "execution_count": 41,
      "outputs": []
    },
    {
      "cell_type": "code",
      "source": [
        "y_pred.shape"
      ],
      "metadata": {
        "id": "H5VBuKJSigeP",
        "colab": {
          "base_uri": "https://localhost:8080/"
        },
        "outputId": "47fc49e6-3e89-4615-a001-2cd2a7c211ff"
      },
      "execution_count": 42,
      "outputs": [
        {
          "output_type": "execute_result",
          "data": {
            "text/plain": [
              "(15000, 1)"
            ]
          },
          "metadata": {},
          "execution_count": 42
        }
      ]
    },
    {
      "cell_type": "code",
      "source": [
        "y_pred"
      ],
      "metadata": {
        "id": "w6SJwJ2liiIJ",
        "colab": {
          "base_uri": "https://localhost:8080/"
        },
        "outputId": "3911f0de-759c-43ac-8dfc-5c0424a6ac77"
      },
      "execution_count": 43,
      "outputs": [
        {
          "output_type": "execute_result",
          "data": {
            "text/plain": [
              "array([[6],\n",
              "       [5],\n",
              "       [1],\n",
              "       ...,\n",
              "       [3],\n",
              "       [3],\n",
              "       [7]])"
            ]
          },
          "metadata": {},
          "execution_count": 43
        }
      ]
    },
    {
      "cell_type": "code",
      "source": [
        "import itertools\n",
        "\n",
        "print(classification_report(y_test, y_pred))\n",
        "\n",
        "conf = get_confusion_matrix(y_test, y_pred)\n",
        "conf\n",
        "\n",
        "classes = [0, 1, 2, 3, 4, 5, 6, 7]\n",
        "# plot confusion matrix\n",
        "plt.imshow(conf, interpolation='nearest', cmap=plt.cm.Greens)\n",
        "plt.title(\"Confusion Matrix\")\n",
        "plt.colorbar()\n",
        "tick_marks = np.arange(len(classes))\n",
        "plt.xticks(tick_marks, classes)\n",
        "plt.yticks(tick_marks, classes)\n",
        "\n",
        "fmt = 'd'\n",
        "thresh = conf.max() / 2.\n",
        "for i, j in itertools.product(range(conf.shape[0]), range(conf.shape[1])):\n",
        "    plt.text(j, i, format(conf[i, j], fmt),\n",
        "             horizontalalignment=\"center\",\n",
        "             color=\"white\" if conf[i, j] > thresh else \"black\")\n",
        "\n",
        "plt.tight_layout()\n",
        "plt.ylabel('True label')\n",
        "plt.xlabel('Predicted label')"
      ],
      "metadata": {
        "colab": {
          "base_uri": "https://localhost:8080/",
          "height": 606
        },
        "id": "EUlTHOm5UZls",
        "outputId": "aa8aeec9-394e-4c19-9c59-d0f0912f573d"
      },
      "execution_count": 46,
      "outputs": [
        {
          "output_type": "stream",
          "name": "stdout",
          "text": [
            "              precision    recall  f1-score   support\n",
            "\n",
            "           0       0.96      0.96      0.96      1865\n",
            "           1       0.89      0.90      0.90      1876\n",
            "           2       0.85      0.57      0.68      1839\n",
            "           3       0.55      0.55      0.55      1925\n",
            "           4       0.44      0.62      0.51      1930\n",
            "           5       0.44      0.56      0.49      1860\n",
            "           6       0.53      0.47      0.50      1899\n",
            "           7       0.83      0.60      0.70      1806\n",
            "\n",
            "    accuracy                           0.65     15000\n",
            "   macro avg       0.69      0.65      0.66     15000\n",
            "weighted avg       0.68      0.65      0.66     15000\n",
            "\n"
          ]
        },
        {
          "output_type": "execute_result",
          "data": {
            "text/plain": [
              "Text(0.5, 15.0, 'Predicted label')"
            ]
          },
          "metadata": {},
          "execution_count": 46
        },
        {
          "output_type": "display_data",
          "data": {
            "text/plain": [
              "<Figure size 432x288 with 2 Axes>"
            ],
            "image/png": "[encoded data removed]"
          },
          "metadata": {
            "needs_background": "light"
          }
        }
      ]
    },
    {
      "cell_type": "code",
      "source": [
        "import numpy as np\n",
        "import matplotlib.pyplot as plt\n",
        "\n",
        "from sklearn import svm, datasets\n",
        "from sklearn.model_selection import train_test_split\n",
        "from sklearn.metrics import confusion_matrix\n",
        "from sklearn.utils.multiclass import unique_labels\n",
        "\n",
        "class_names = np.array([0, 1, 2, 3, 4, 5, 6, 7])\n",
        "\n",
        "def plot_confusion_matrix(y_true, y_pred, classes,\n",
        "                          normalize=False,\n",
        "                          title=None,\n",
        "                          cmap=plt.cm.Blues):\n",
        "    \"\"\"\n",
        "    This function prints and plots the confusion matrix.\n",
        "    Normalization can be applied by setting `normalize=True`.\n",
        "    \"\"\"\n",
        "    if not title:\n",
        "        if normalize:\n",
        "            title = 'Normalized confusion matrix'\n",
        "        else:\n",
        "            title = 'Confusion matrix, without normalization'\n",
        "\n",
        "    # Compute confusion matrix\n",
        "    cm = confusion_matrix(y_true, y_pred)\n",
        "    # Only use the labels that appear in the data\n",
        "    classes = classes[unique_labels(y_true, y_pred)]\n",
        "    if normalize:\n",
        "        cm = cm.astype('float') / cm.sum(axis=1)[:, np.newaxis]\n",
        "        print(\"Normalized confusion matrix\")\n",
        "    else:\n",
        "        print('Confusion matrix, without normalization')\n",
        "\n",
        "    print(cm)\n",
        "\n",
        "    fig, ax = plt.subplots()\n",
        "    im = ax.imshow(cm, interpolation='nearest', cmap=cmap)\n",
        "    ax.figure.colorbar(im, ax=ax)\n",
        "    # We want to show all ticks...\n",
        "    ax.set(xticks=np.arange(cm.shape[1]),\n",
        "           yticks=np.arange(cm.shape[0]),\n",
        "           # ... and label them with the respective list entries\n",
        "           xticklabels=classes, yticklabels=classes,\n",
        "           title=title,\n",
        "           ylabel='True label',\n",
        "           xlabel='Predicted label')\n",
        "\n",
        "    # Rotate the tick labels and set their alignment.\n",
        "    plt.setp(ax.get_xticklabels(), rotation=45, ha=\"right\",\n",
        "             rotation_mode=\"anchor\")\n",
        "\n",
        "    # Loop over data dimensions and create text annotations.\n",
        "    fmt = '.2f' if normalize else 'd'\n",
        "    thresh = cm.max() / 2.\n",
        "    for i in range(cm.shape[0]):\n",
        "        for j in range(cm.shape[1]):\n",
        "            ax.text(j, i, format(cm[i, j], fmt),\n",
        "                    ha=\"center\", va=\"center\",\n",
        "                    color=\"white\" if cm[i, j] > thresh else \"black\")\n",
        "    fig.tight_layout()\n",
        "\n",
        "    return ax\n",
        "\n",
        "\n",
        "np.set_printoptions(precision=2)\n",
        "\n",
        "# Plot non-normalized confusion matrix\n",
        "plot_confusion_matrix(y_test, y_pred, classes=class_names,\n",
        "                      title='Confusion matrix, without normalization')\n",
        "\n",
        "# Plot normalized confusion matrix\n",
        "plot_confusion_matrix(y_test, y_pred, classes=class_names, normalize=True,\n",
        "                      title='Normalized confusion matrix')\n",
        "\n",
        "plt.show()"
      ],
      "metadata": {
        "id": "pWWpU3U8il5E",
        "colab": {
          "base_uri": "https://localhost:8080/",
          "height": 906
        },
        "outputId": "d3f9d038-8ab0-4bc1-95a4-e5049c35b9cd"
      },
      "execution_count": 45,
      "outputs": [
        {
          "output_type": "stream",
          "name": "stdout",
          "text": [
            "Confusion matrix, without normalization\n",
            "[[1789   60   11    5    0    0    0    0]\n",
            " [  65 1690   74   30   13    1    2    1]\n",
            " [  16  140 1045  450  157   30    1    0]\n",
            " [   0    2   92 1061  603  144   23    0]\n",
            " [   0    0    4  272 1202  425   25    2]\n",
            " [   0    0    2   70  597 1047  143    1]\n",
            " [   0    0    0   27  167  605  886  214]\n",
            " [   0    0    0    3   16  127  580 1080]]\n",
            "Normalized confusion matrix\n",
            "[[9.59e-01 3.22e-02 5.90e-03 2.68e-03 0.00e+00 0.00e+00 0.00e+00 0.00e+00]\n",
            " [3.46e-02 9.01e-01 3.94e-02 1.60e-02 6.93e-03 5.33e-04 1.07e-03 5.33e-04]\n",
            " [8.70e-03 7.61e-02 5.68e-01 2.45e-01 8.54e-02 1.63e-02 5.44e-04 0.00e+00]\n",
            " [0.00e+00 1.04e-03 4.78e-02 5.51e-01 3.13e-01 7.48e-02 1.19e-02 0.00e+00]\n",
            " [0.00e+00 0.00e+00 2.07e-03 1.41e-01 6.23e-01 2.20e-01 1.30e-02 1.04e-03]\n",
            " [0.00e+00 0.00e+00 1.08e-03 3.76e-02 3.21e-01 5.63e-01 7.69e-02 5.38e-04]\n",
            " [0.00e+00 0.00e+00 0.00e+00 1.42e-02 8.79e-02 3.19e-01 4.67e-01 1.13e-01]\n",
            " [0.00e+00 0.00e+00 0.00e+00 1.66e-03 8.86e-03 7.03e-02 3.21e-01 5.98e-01]]\n"
          ]
        },
        {
          "output_type": "display_data",
          "data": {
            "text/plain": [
              "<Figure size 432x288 with 2 Axes>"
            ],
            "image/png": "[encoded data removed]"
          },
          "metadata": {
            "needs_background": "light"
          }
        },
        {
          "output_type": "display_data",
          "data": {
            "text/plain": [
              "<Figure size 432x288 with 2 Axes>"
            ],
            "image/png": "[encoded data removed]"
          },
          "metadata": {
            "needs_background": "light"
          }
        }
      ]
    }
  ]
}