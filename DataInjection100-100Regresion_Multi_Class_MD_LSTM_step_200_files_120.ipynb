{
  "cells": [
    {
      "cell_type": "markdown",
      "metadata": {
        "id": "view-in-github",
        "colab_type": "text"
      },
      "source": [
        "<a href=\"https://colab.research.google.com/github/kwanderer/Autonomas-sistemas-un-roboti/blob/main/DataInjection100-100Regresion_Multi_Class_MD_LSTM_step_200_files_120.ipynb\" target=\"_parent\"><img src=\"https://colab.research.google.com/assets/colab-badge.svg\" alt=\"Open In Colab\"/></a>"
      ]
    },
    {
      "cell_type": "markdown",
      "metadata": {
        "id": "f857kfHqUk0-"
      },
      "source": [
        "\n",
        "\n",
        "#Datu kopa"
      ]
    },
    {
      "cell_type": "markdown",
      "metadata": {
        "id": "nM9WE3QGUwVi"
      },
      "source": [
        "Datu kopas avots: https://www.kaggle.com/uysalserkan/fault-induction-motor-dataset"
      ]
    },
    {
      "cell_type": "markdown",
      "metadata": {
        "id": "_sN_h3qHHy6r"
      },
      "source": [
        "Darbā tiek izmantota indukcijas motora parametru datu bāze. Izmantotajā datu kopā ir dati, kas tika iegūti SpectraQuest aparatūras kļūdu simulatorā (Machinery Fault Simulator).\n",
        "\n",
        "Katra mērījumu secība tika ģenerēta ar frekvenci 50 kHz 5 sekunžu laikā, kopā 250 000 mērījumi.\n"
      ]
    },
    {
      "cell_type": "markdown",
      "metadata": {
        "id": "KtFAOaHYHLPo"
      },
      "source": [
        "Dati ir apkopoti tabulā, kura satur 8 parametrus. Dati ir iedalīti sekojošās kolonas:\n",
        "\n",
        "**tachometer** – tahometra signāls, kas ļauj novērtēt rotācijas frekvenci\n",
        "\n",
        "**und-accelerometer-axial** - apakšā esošā gultņa akselerometrs (aksiālais virziens)\n",
        "\n",
        "**und-accelerometer-radial** – apakšā esošā gultņa akselerometrs (radiālais virziens)\n",
        "\n",
        "**und-accelerometer-tangential** - apakšā esošā gultņa akselerometrs (tangenciālais virziens)\n",
        "\n",
        "**over-accelerometer-axial** - pārkares gultņa akselerometrs (aksiālais virziens)\n",
        "\n",
        "**over-accelerometer-radial** – pārkares gultņa akselerometrs (radiālais  virziens)\n",
        "\n",
        "**over-accelerometer-tangential**  - pārkares gultņa akselerometrs (tangenciālais virziens)\n",
        "\n",
        "**microphone** – mikrofona vērtība\n"
      ]
    },
    {
      "cell_type": "markdown",
      "metadata": {
        "id": "XymoNLKMVFUC"
      },
      "source": [
        "#Datu ielasīšana un satura vizualizācija"
      ]
    },
    {
      "cell_type": "code",
      "execution_count": 177,
      "metadata": {
        "id": "_yqYZDeOFq5s"
      },
      "outputs": [],
      "source": [
        "import keras\n",
        "from keras.layers import LSTM, Dropout, Dense\n",
        "import tensorflow as tf\n",
        "import numpy as np\n",
        "import pandas as pd\n",
        "\n",
        "from sklearn import linear_model  #pip install sklearn - loti plasa masinapmacibas biblioteka\n",
        "from sklearn.linear_model import LinearRegression  \n",
        "import csv          #pip install csv - darbam ar CSV datu kopam\n",
        "import requests     #pip install requests  - vienkarsakam darbam ar tiessaistes CSV datu kopam tiessaistes\n",
        "\n",
        "import matplotlib\n",
        "import matplotlib.pyplot as plt\n",
        "\n",
        "import glob\n"
      ]
    },
    {
      "cell_type": "code",
      "execution_count": 178,
      "metadata": {
        "id": "wlRTBbM2eUcV",
        "colab": {
          "base_uri": "https://localhost:8080/"
        },
        "outputId": "b117459b-1fa2-4986-9f1c-8faac3ecca73"
      },
      "outputs": [
        {
          "output_type": "stream",
          "name": "stdout",
          "text": [
            "Drive already mounted at /content/gdrive; to attempt to forcibly remount, call drive.mount(\"/content/gdrive\", force_remount=True).\n"
          ]
        }
      ],
      "source": [
        "from google.colab import drive\n",
        "import os\n",
        "drive.mount('/content/gdrive')\n",
        "os.chdir(\"/content/gdrive/MyDrive/Colab Notebooks/\")"
      ]
    },
    {
      "cell_type": "code",
      "source": [
        "os.chdir(\"/content/gdrive/MyDrive/Colab Notebooks/cutted/\")\n",
        "dataNormal =  pd.read_csv(\"Normal.csv\")\n",
        "dataImbalance6 =  pd.read_csv(\"Imbalance6.csv\")\n",
        "dataImbalance10 =  pd.read_csv(\"Imbalance10.csv\")\n",
        "dataImbalance15 =  pd.read_csv(\"Imbalance15.csv\")\n",
        "dataImbalance20 =  pd.read_csv(\"Imbalance20.csv\")\n",
        "dataImbalance25 =  pd.read_csv(\"Imbalance25.csv\")\n",
        "dataImbalance30 =  pd.read_csv(\"Imbalance30.csv\")\n",
        "dataImbalance35 =  pd.read_csv(\"Imbalance35.csv\")"
      ],
      "metadata": {
        "id": "IztGfkS1TF4c"
      },
      "execution_count": 179,
      "outputs": []
    },
    {
      "cell_type": "code",
      "execution_count": 180,
      "metadata": {
        "id": "yz5Qe8ZWk1Zq",
        "colab": {
          "base_uri": "https://localhost:8080/"
        },
        "outputId": "c7c45cce-cad3-49a1-b8f3-032e845c827f"
      },
      "outputs": [
        {
          "output_type": "stream",
          "name": "stdout",
          "text": [
            "<class 'pandas.core.frame.DataFrame'>\n",
            "RangeIndex: 245972 entries, 0 to 245971\n",
            "Data columns (total 9 columns):\n",
            " #   Column                         Non-Null Count   Dtype  \n",
            "---  ------                         --------------   -----  \n",
            " 0   tachometer                     245972 non-null  float64\n",
            " 1   und-accelerometer-axial        245972 non-null  float64\n",
            " 2   und-accelerometer-radial       245972 non-null  float64\n",
            " 3   und-accelerometer-tangential   245972 non-null  float64\n",
            " 4   over-accelerometer-axial       245972 non-null  float64\n",
            " 5   over-accelerometer-radial      245972 non-null  float64\n",
            " 6   over-accelerometer-tangential  245972 non-null  float64\n",
            " 7   microphone                     245972 non-null  float64\n",
            " 8   Class                          245972 non-null  int64  \n",
            "dtypes: float64(8), int64(1)\n",
            "memory usage: 16.9 MB\n",
            "<class 'pandas.core.frame.DataFrame'>\n",
            "RangeIndex: 248391 entries, 0 to 248390\n",
            "Data columns (total 9 columns):\n",
            " #   Column                         Non-Null Count   Dtype  \n",
            "---  ------                         --------------   -----  \n",
            " 0   tachometer                     248391 non-null  float64\n",
            " 1   und-accelerometer-axial        248391 non-null  float64\n",
            " 2   und-accelerometer-radial       248391 non-null  float64\n",
            " 3   und-accelerometer-tangential   248391 non-null  float64\n",
            " 4   over-accelerometer-axial       248391 non-null  float64\n",
            " 5   over-accelerometer-radial      248391 non-null  float64\n",
            " 6   over-accelerometer-tangential  248391 non-null  float64\n",
            " 7   microphone                     248391 non-null  float64\n",
            " 8   Class                          248391 non-null  int64  \n",
            "dtypes: float64(8), int64(1)\n",
            "memory usage: 17.1 MB\n",
            "<class 'pandas.core.frame.DataFrame'>\n",
            "RangeIndex: 246368 entries, 0 to 246367\n",
            "Data columns (total 9 columns):\n",
            " #   Column                         Non-Null Count   Dtype  \n",
            "---  ------                         --------------   -----  \n",
            " 0   tachometer                     246368 non-null  float64\n",
            " 1   und-accelerometer-axial        246368 non-null  float64\n",
            " 2   und-accelerometer-radial       246368 non-null  float64\n",
            " 3   und-accelerometer-tangential   246368 non-null  float64\n",
            " 4   over-accelerometer-axial       246368 non-null  float64\n",
            " 5   over-accelerometer-radial      246368 non-null  float64\n",
            " 6   over-accelerometer-tangential  246368 non-null  float64\n",
            " 7   microphone                     246368 non-null  float64\n",
            " 8   Class                          246368 non-null  int64  \n",
            "dtypes: float64(8), int64(1)\n",
            "memory usage: 16.9 MB\n",
            "<class 'pandas.core.frame.DataFrame'>\n",
            "RangeIndex: 248350 entries, 0 to 248349\n",
            "Data columns (total 9 columns):\n",
            " #   Column                         Non-Null Count   Dtype  \n",
            "---  ------                         --------------   -----  \n",
            " 0   tachometer                     248350 non-null  float64\n",
            " 1   und-accelerometer-axial        248350 non-null  float64\n",
            " 2   und-accelerometer-radial       248350 non-null  float64\n",
            " 3   und-accelerometer-tangential   248350 non-null  float64\n",
            " 4   over-accelerometer-axial       248350 non-null  float64\n",
            " 5   over-accelerometer-radial      248350 non-null  float64\n",
            " 6   over-accelerometer-tangential  248350 non-null  float64\n",
            " 7   microphone                     248350 non-null  float64\n",
            " 8   Class                          248350 non-null  int64  \n",
            "dtypes: float64(8), int64(1)\n",
            "memory usage: 17.1 MB\n",
            "<class 'pandas.core.frame.DataFrame'>\n",
            "RangeIndex: 249167 entries, 0 to 249166\n",
            "Data columns (total 9 columns):\n",
            " #   Column                         Non-Null Count   Dtype  \n",
            "---  ------                         --------------   -----  \n",
            " 0   tachometer                     249167 non-null  float64\n",
            " 1   und-accelerometer-axial        249167 non-null  float64\n",
            " 2   und-accelerometer-radial       249167 non-null  float64\n",
            " 3   und-accelerometer-tangential   249167 non-null  float64\n",
            " 4   over-accelerometer-axial       249167 non-null  float64\n",
            " 5   over-accelerometer-radial      249167 non-null  float64\n",
            " 6   over-accelerometer-tangential  249167 non-null  float64\n",
            " 7   microphone                     249167 non-null  float64\n",
            " 8   Class                          249167 non-null  int64  \n",
            "dtypes: float64(8), int64(1)\n",
            "memory usage: 17.1 MB\n",
            "<class 'pandas.core.frame.DataFrame'>\n",
            "RangeIndex: 246727 entries, 0 to 246726\n",
            "Data columns (total 9 columns):\n",
            " #   Column                         Non-Null Count   Dtype  \n",
            "---  ------                         --------------   -----  \n",
            " 0   tachometer                     246727 non-null  float64\n",
            " 1   und-accelerometer-axial        246727 non-null  float64\n",
            " 2   und-accelerometer-radial       246727 non-null  float64\n",
            " 3   und-accelerometer-tangential   246727 non-null  float64\n",
            " 4   over-accelerometer-axial       246727 non-null  float64\n",
            " 5   over-accelerometer-radial      246727 non-null  float64\n",
            " 6   over-accelerometer-tangential  246727 non-null  float64\n",
            " 7   microphone                     246727 non-null  float64\n",
            " 8   Class                          246727 non-null  int64  \n",
            "dtypes: float64(8), int64(1)\n",
            "memory usage: 16.9 MB\n",
            "<class 'pandas.core.frame.DataFrame'>\n",
            "RangeIndex: 245995 entries, 0 to 245994\n",
            "Data columns (total 9 columns):\n",
            " #   Column                         Non-Null Count   Dtype  \n",
            "---  ------                         --------------   -----  \n",
            " 0   tachometer                     245995 non-null  float64\n",
            " 1   und-accelerometer-axial        245995 non-null  float64\n",
            " 2   und-accelerometer-radial       245995 non-null  float64\n",
            " 3   und-accelerometer-tangential   245995 non-null  float64\n",
            " 4   over-accelerometer-axial       245995 non-null  float64\n",
            " 5   over-accelerometer-radial      245995 non-null  float64\n",
            " 6   over-accelerometer-tangential  245995 non-null  float64\n",
            " 7   microphone                     245995 non-null  float64\n",
            " 8   Class                          245995 non-null  int64  \n",
            "dtypes: float64(8), int64(1)\n",
            "memory usage: 16.9 MB\n",
            "<class 'pandas.core.frame.DataFrame'>\n",
            "RangeIndex: 246183 entries, 0 to 246182\n",
            "Data columns (total 9 columns):\n",
            " #   Column                         Non-Null Count   Dtype  \n",
            "---  ------                         --------------   -----  \n",
            " 0   tachometer                     246183 non-null  float64\n",
            " 1   und-accelerometer-axial        246183 non-null  float64\n",
            " 2   und-accelerometer-radial       246183 non-null  float64\n",
            " 3   und-accelerometer-tangential   246183 non-null  float64\n",
            " 4   over-accelerometer-axial       246183 non-null  float64\n",
            " 5   over-accelerometer-radial      246183 non-null  float64\n",
            " 6   over-accelerometer-tangential  246183 non-null  float64\n",
            " 7   microphone                     246183 non-null  float64\n",
            " 8   Class                          246183 non-null  int64  \n",
            "dtypes: float64(8), int64(1)\n",
            "memory usage: 16.9 MB\n"
          ]
        }
      ],
      "source": [
        "dataNormal.info()\n",
        "dataImbalance6.info()\n",
        "dataImbalance10.info()\n",
        "dataImbalance15.info()\n",
        "dataImbalance20.info()\n",
        "dataImbalance25.info()\n",
        "dataImbalance30.info()\n",
        "dataImbalance35.info()"
      ]
    },
    {
      "cell_type": "code",
      "execution_count": 181,
      "metadata": {
        "id": "WUW9ezX6a_st",
        "colab": {
          "base_uri": "https://localhost:8080/"
        },
        "outputId": "fe1e4f26-17b9-40ba-ac49-e0620d223358"
      },
      "outputs": [
        {
          "output_type": "execute_result",
          "data": {
            "text/plain": [
              "245972"
            ]
          },
          "metadata": {},
          "execution_count": 181
        }
      ],
      "source": [
        "rec_count = len(dataNormal)\n",
        "rec_count"
      ]
    },
    {
      "cell_type": "markdown",
      "metadata": {
        "id": "6RVC1PZy88fC"
      },
      "source": [
        "# Datu dalīšana mazākos gabalos"
      ]
    },
    {
      "cell_type": "code",
      "execution_count": 182,
      "metadata": {
        "id": "DOvnCYkcbGaE"
      },
      "outputs": [],
      "source": [
        "sequence_length = 200"
      ]
    },
    {
      "cell_type": "code",
      "execution_count": 183,
      "metadata": {
        "id": "RG0o2L3zbTEx"
      },
      "outputs": [],
      "source": [
        "def generate_data(X, y, X2, y2, sequence_length = 200, step = 10, sequence_length1 = 100):\n",
        "    X_local = []\n",
        "    y_local = []\n",
        "    for start in range(0, len(dataNormal) - sequence_length, step):\n",
        "        end = start + sequence_length\n",
        "        sequenceNormalEnd = start + sequence_length1\n",
        "        X_local.append(np.concatenate((X[start:sequenceNormalEnd], X2[sequenceNormalEnd:end])))\n",
        "        #X_local.append()\n",
        "        y_local.append(y2[end-1])\n",
        "    return np.array(X_local), np.array(y_local)\n",
        "\n",
        "X_sequence, y = generate_data(dataNormal.loc[:,\"tachometer\":\"microphone\"].values, dataNormal.Class, dataImbalance35.loc[:,\"tachometer\" :\"microphone\"].values, dataImbalance15.Class)\n",
        "#X_sequence, y = generate_data(data.loc[:, [\"und-accelerometer-axial\", \"und-accelerometer-radial\", \"und-accelerometer-tangential\", \"microphone\"]].values, data.Class)\n"
      ]
    },
    {
      "cell_type": "code",
      "execution_count": 184,
      "metadata": {
        "id": "s0QxwK66cLVF",
        "colab": {
          "base_uri": "https://localhost:8080/"
        },
        "outputId": "c117a02e-24fd-4a65-c5ce-f89f0a0922db"
      },
      "outputs": [
        {
          "output_type": "execute_result",
          "data": {
            "text/plain": [
              "((24578, 200, 8), (24578,))"
            ]
          },
          "metadata": {},
          "execution_count": 184
        }
      ],
      "source": [
        "X_sequence.shape, y.shape"
      ]
    },
    {
      "cell_type": "code",
      "source": [
        "y"
      ],
      "metadata": {
        "id": "4tu6MQMZjahk",
        "colab": {
          "base_uri": "https://localhost:8080/"
        },
        "outputId": "97bc9f99-9fa1-4634-94cb-0a6e44feb557"
      },
      "execution_count": 185,
      "outputs": [
        {
          "output_type": "execute_result",
          "data": {
            "text/plain": [
              "array([5, 5, 5, ..., 5, 5, 5])"
            ]
          },
          "metadata": {},
          "execution_count": 185
        }
      ]
    },
    {
      "cell_type": "code",
      "source": [
        "i = 0\n",
        "while i < 24578:\n",
        "  if y[i] == 1:\n",
        "    y[i] = 7\n",
        "  elif y[i] == 2:\n",
        "    y[i] = 6\n",
        "  elif y[i] == 3:\n",
        "    y[i] = 5\n",
        "  elif y[i] == 4:\n",
        "    y[i] = 4\n",
        "  elif y[i] == 5:\n",
        "    y[i] = 3\n",
        "  elif y[i] == 6:\n",
        "    y[i] = 2\n",
        "  elif y[i] == 7:\n",
        "    y[i] = 1\n",
        "  i+=1"
      ],
      "metadata": {
        "id": "81C4tUPRMdef"
      },
      "execution_count": 186,
      "outputs": []
    },
    {
      "cell_type": "code",
      "source": [
        "y"
      ],
      "metadata": {
        "colab": {
          "base_uri": "https://localhost:8080/"
        },
        "id": "q_4VACR1MjTo",
        "outputId": "9c48ec45-4209-4251-8f8a-51835c03d044"
      },
      "execution_count": 187,
      "outputs": [
        {
          "output_type": "execute_result",
          "data": {
            "text/plain": [
              "array([3, 3, 3, ..., 3, 3, 3])"
            ]
          },
          "metadata": {},
          "execution_count": 187
        }
      ]
    },
    {
      "cell_type": "code",
      "source": [
        "unique, counts = np.unique(y, return_counts=True)"
      ],
      "metadata": {
        "id": "l8Lq455lV1JR"
      },
      "execution_count": 188,
      "outputs": []
    },
    {
      "cell_type": "code",
      "source": [
        "unique"
      ],
      "metadata": {
        "id": "t0BRO3nAWQxe",
        "colab": {
          "base_uri": "https://localhost:8080/"
        },
        "outputId": "d16fff6f-4819-40eb-c015-cff8be349708"
      },
      "execution_count": 189,
      "outputs": [
        {
          "output_type": "execute_result",
          "data": {
            "text/plain": [
              "array([3])"
            ]
          },
          "metadata": {},
          "execution_count": 189
        }
      ]
    },
    {
      "cell_type": "code",
      "source": [
        "counts"
      ],
      "metadata": {
        "id": "WWZ7QWR4WS_r",
        "colab": {
          "base_uri": "https://localhost:8080/"
        },
        "outputId": "135c837f-246b-4540-9fe1-e758a1d0bdf4"
      },
      "execution_count": 190,
      "outputs": [
        {
          "output_type": "execute_result",
          "data": {
            "text/plain": [
              "array([24578])"
            ]
          },
          "metadata": {},
          "execution_count": 190
        }
      ]
    },
    {
      "cell_type": "code",
      "execution_count": 191,
      "metadata": {
        "id": "i7R1oo6Mj8wx"
      },
      "outputs": [],
      "source": [
        "data = 0"
      ]
    },
    {
      "cell_type": "code",
      "source": [
        "#from sklearn.preprocessing import OneHotEncoder"
      ],
      "metadata": {
        "id": "lAk_JscRWmqY"
      },
      "execution_count": 192,
      "outputs": []
    },
    {
      "cell_type": "code",
      "source": [
        "#label_encoder = OneHotEncoder(sparse=False)\n",
        "#label_encoder.fit(y.reshape(-1,1))"
      ],
      "metadata": {
        "id": "14B9aYy0W0y6"
      },
      "execution_count": 193,
      "outputs": []
    },
    {
      "cell_type": "code",
      "source": [
        "#y_encoded = label_encoder.transform(y.reshape(-1,1))"
      ],
      "metadata": {
        "id": "VjpWn96xXgPS"
      },
      "execution_count": 194,
      "outputs": []
    },
    {
      "cell_type": "code",
      "source": [
        "#y_encoded[0:5]"
      ],
      "metadata": {
        "id": "VL6KMFo9XpBi"
      },
      "execution_count": 195,
      "outputs": []
    },
    {
      "cell_type": "code",
      "source": [
        "#y=y_encoded"
      ],
      "metadata": {
        "id": "5c8km253YKBl"
      },
      "execution_count": 196,
      "outputs": []
    },
    {
      "cell_type": "markdown",
      "metadata": {
        "id": "5BXSDoHa9UX_"
      },
      "source": [
        "# Random/Shuffle"
      ]
    },
    {
      "cell_type": "code",
      "execution_count": 197,
      "metadata": {
        "id": "ZcfE9idy-ckb"
      },
      "outputs": [],
      "source": [
        "#shuffler = np.random.RandomState(seed=42).permutation(len(X_sequence))\n",
        "#X_sequence_shuffled = X_sequence[shuffler]\n",
        "#y_shuffled = y[shuffler]"
      ]
    },
    {
      "cell_type": "markdown",
      "metadata": {
        "id": "TfhRTTNcE2s8"
      },
      "source": [
        "# LSTM"
      ]
    },
    {
      "cell_type": "code",
      "execution_count": 198,
      "metadata": {
        "id": "ihrXMuVAEwlY"
      },
      "outputs": [],
      "source": [
        "import pandas as pd\n",
        "import sklearn.metrics as metrique\n",
        "from pandas import Series\n",
        "from sklearn.preprocessing import StandardScaler, MinMaxScaler\n",
        "from matplotlib import pyplot\n",
        "from sklearn.model_selection import train_test_split\n",
        "import numpy as np\n",
        "import tensorflow as tf\n",
        "import sys\n",
        "import numpy as np\n",
        "import pandas as pd\n",
        "import tensorflow as tf\n",
        "import matplotlib.pyplot as plt\n",
        "from sklearn.model_selection import train_test_split\n",
        "from sklearn import preprocessing\n",
        "from sklearn.preprocessing import StandardScaler\n",
        "from sklearn.metrics import classification_report\n",
        "import warnings\n",
        "warnings.filterwarnings('ignore')\n",
        "plt.style.use('ggplot')\n",
        "import seaborn as sns \n",
        "%matplotlib inline\n",
        "from keras.callbacks import EarlyStopping\n",
        "from keras.callbacks import ModelCheckpoint\n",
        "from sklearn.metrics import accuracy_score\n",
        "from sklearn.metrics import classification_report, confusion_matrix\n",
        "from keras.models import Sequential\n",
        "from keras.utils import np_utils\n",
        "from keras.layers import LSTM, Dense, Embedding, Dropout,Input, Layer, Concatenate, Permute, Dot, Multiply, Flatten\n",
        "from keras.layers import RepeatVector, Dense, Activation, Lambda\n",
        "from keras.models import Sequential\n",
        "from keras import backend as K, regularizers, Model, metrics\n",
        "from keras.backend import cast"
      ]
    },
    {
      "cell_type": "code",
      "execution_count": 199,
      "metadata": {
        "id": "PjKWKiA6aH3z"
      },
      "outputs": [],
      "source": [
        "#from tensorflow.keras import optimizers\n",
        "#sgd = optimizers.SGD(lr=0.0001, decay=1e-6, momentum=0.9, nesterov=True)\n",
        "#model = keras.Sequential()\n",
        "#model.add(LSTM(100, input_shape = (200, 8)))\n",
        "#model.add(Dropout(0.5))\n",
        "#model.add(Dense(1, activation=\"softmax\"))\n",
        "\n",
        "\n",
        "#model.compile(loss=\"categorical_crossentropy\"\n",
        "#              , metrics=[keras.metrics.binary_accuracy]\n",
        "#              , optimizer='sgd')\n",
        "\n",
        "#model.summary()"
      ]
    },
    {
      "cell_type": "code",
      "execution_count": 200,
      "metadata": {
        "id": "_2SaVmwSWJVB"
      },
      "outputs": [],
      "source": [
        "#from tensorflow.keras import optimizers\n",
        "##sgd = optimizers.SGD(lr=0.0001, decay=1e-6, momentum=0.9, nesterov=True)\n",
        "#optimizer = tf.keras.optimizers.Adam(lr=0.0001)\n",
        "#model = keras.Sequential()\n",
        "#model.add(LSTM(100, input_shape = (200, 8)))\n",
        "#model.add(Dropout(0.5))\n",
        "#model.add(Dense(1))# dense 1, activation - relu/sigmoid\n",
        "\n",
        "##model.compile(loss='mean_squared_error', optimizer=sgd)\n",
        "#model.compile(loss=\"mse\" #mse\n",
        "#              , metrics=['accuracy']\n",
        "#              , optimizer=optimizer)\n",
        "\n",
        "#model.summary()"
      ]
    },
    {
      "cell_type": "code",
      "source": [
        "from tensorflow.keras import optimizers\n",
        "#sgd = optimizers.SGD(lr=0.0001, decay=1e-6, momentum=0.9, nesterov=True)\n",
        "optimizer = tf.keras.optimizers.Adam(lr=0.0001)\n",
        "model = keras.Sequential()\n",
        "model.add(LSTM(300, input_shape = (200, 8)))\n",
        "model.add(Dropout(0.5))\n",
        "model.add(Dense(1))# dense 1, activation - relu/sigmoid\n",
        "\n",
        "#model.compile(loss='mean_squared_error', optimizer=sgd)\n",
        "model.compile(loss=\"mse\" #mse\n",
        "              , metrics=['accuracy']\n",
        "              , optimizer=optimizer)\n",
        "\n",
        "model.summary()"
      ],
      "metadata": {
        "colab": {
          "base_uri": "https://localhost:8080/"
        },
        "id": "t1nmMJObF6VD",
        "outputId": "27e7a252-51fc-40f7-b9fa-20400fd97cb5"
      },
      "execution_count": 201,
      "outputs": [
        {
          "output_type": "stream",
          "name": "stdout",
          "text": [
            "Model: \"sequential_3\"\n",
            "_________________________________________________________________\n",
            " Layer (type)                Output Shape              Param #   \n",
            "=================================================================\n",
            " lstm_3 (LSTM)               (None, 300)               370800    \n",
            "                                                                 \n",
            " dropout_3 (Dropout)         (None, 300)               0         \n",
            "                                                                 \n",
            " dense_3 (Dense)             (None, 1)                 301       \n",
            "                                                                 \n",
            "=================================================================\n",
            "Total params: 371,101\n",
            "Trainable params: 371,101\n",
            "Non-trainable params: 0\n",
            "_________________________________________________________________\n"
          ]
        }
      ]
    },
    {
      "cell_type": "code",
      "execution_count": 202,
      "metadata": {
        "id": "tg8wrqsqc8UX"
      },
      "outputs": [],
      "source": [
        "#training_size = int(len(X_sequence) * 0.8)\n",
        "#val_size = int(len(X_sequence) * 0.9)"
      ]
    },
    {
      "cell_type": "code",
      "execution_count": 203,
      "metadata": {
        "id": "avIp3TEKc-qF"
      },
      "outputs": [],
      "source": [
        "#X_train, y_train = X_sequence_shuffled[:training_size], y_shuffled[:training_size]\n",
        "#X_val, y_val = X_sequence_shuffled[training_size:val_size], y_shuffled[training_size:val_size]\n",
        "#X_test, y_test = X_sequence_shuffled[val_size:], y_shuffled[val_size:]"
      ]
    },
    {
      "cell_type": "code",
      "source": [
        "from keras.models import load_model\n",
        "os.chdir(\"/content/gdrive/MyDrive/Colab Notebooks/\")\n",
        "# Assuming your model includes instance of an \"AttentionLayer\" class\n",
        "uploadmodel = load_model('data_multiclass/RegresionMulticlassModel_E100_B64.h5')\n",
        "#custom_ob = {'att_out': custom_layer.Attention,'AttLayer2': custom_layer.Attention}\n",
        "#new_model = load_model('test.h5', custom_objects={'AttentionLayer': att_out})\n",
        "#new_model = tf.keras.models.load_model('test.h5',custom_objects={'att_out': custom_layer.Attention})\n",
        "\n",
        "# Show the model architecture\n",
        "uploadmodel.summary()\n"
      ],
      "metadata": {
        "colab": {
          "base_uri": "https://localhost:8080/"
        },
        "id": "abg1O-qlF8L0",
        "outputId": "0a7dbef5-221d-4bf7-ddeb-cb9c278f7b42"
      },
      "execution_count": 204,
      "outputs": [
        {
          "output_type": "stream",
          "name": "stdout",
          "text": [
            "Model: \"sequential\"\n",
            "_________________________________________________________________\n",
            " Layer (type)                Output Shape              Param #   \n",
            "=================================================================\n",
            " lstm (LSTM)                 (None, 300)               370800    \n",
            "                                                                 \n",
            " dropout (Dropout)           (None, 300)               0         \n",
            "                                                                 \n",
            " dense (Dense)               (None, 1)                 301       \n",
            "                                                                 \n",
            "=================================================================\n",
            "Total params: 371,101\n",
            "Trainable params: 371,101\n",
            "Non-trainable params: 0\n",
            "_________________________________________________________________\n"
          ]
        }
      ]
    },
    {
      "cell_type": "code",
      "execution_count": 205,
      "metadata": {
        "id": "cen4faX0dFJP"
      },
      "outputs": [],
      "source": [
        "#history = model.fit(X_train, y_train, batch_size=64, epochs=100, validation_data=(X_val, y_val))\n",
        "#model.save('NewAllDataModel_E100_B64.h5')"
      ]
    },
    {
      "cell_type": "code",
      "execution_count": 206,
      "metadata": {
        "id": "R7QQeqVidKBR",
        "colab": {
          "base_uri": "https://localhost:8080/"
        },
        "outputId": "79b7eb03-2999-4356-96af-5720a49d6ea3"
      },
      "outputs": [
        {
          "output_type": "stream",
          "name": "stdout",
          "text": [
            "769/769 [==============================] - 168s 218ms/step - loss: 12.0103 - accuracy: 0.0000e+00\n"
          ]
        }
      ],
      "source": [
        "test_acc = uploadmodel.evaluate(X_sequence, y)"
      ]
    },
    {
      "cell_type": "code",
      "source": [
        "test_acc"
      ],
      "metadata": {
        "id": "6fuTmgGrUgGg",
        "colab": {
          "base_uri": "https://localhost:8080/"
        },
        "outputId": "67e246d6-0708-4153-945f-ca7049834db0"
      },
      "execution_count": 207,
      "outputs": [
        {
          "output_type": "execute_result",
          "data": {
            "text/plain": [
              "[12.010311126708984, 0.0]"
            ]
          },
          "metadata": {},
          "execution_count": 207
        }
      ]
    },
    {
      "cell_type": "code",
      "execution_count": 208,
      "metadata": {
        "id": "OHpifyqGdKn-",
        "colab": {
          "base_uri": "https://localhost:8080/"
        },
        "outputId": "d1b94b40-8465-4e99-fa19-64044c30eef3"
      },
      "outputs": [
        {
          "output_type": "stream",
          "name": "stdout",
          "text": [
            "769/769 [==============================] - 167s 216ms/step\n"
          ]
        }
      ],
      "source": [
        "y_test_prob = uploadmodel.predict(X_sequence, verbose=1)"
      ]
    },
    {
      "cell_type": "code",
      "source": [
        "np.set_printoptions(suppress=True)\n",
        "y_test_prob_backup = y_test_prob\n",
        "y_test_prob"
      ],
      "metadata": {
        "id": "rRPswrrkmhp2",
        "colab": {
          "base_uri": "https://localhost:8080/"
        },
        "outputId": "0cc9c086-a2ac-47e8-fd64-eed05ff69380"
      },
      "execution_count": 209,
      "outputs": [
        {
          "output_type": "execute_result",
          "data": {
            "text/plain": [
              "array([[0.57],\n",
              "       [0.51],\n",
              "       [0.62],\n",
              "       ...,\n",
              "       [6.08],\n",
              "       [6.35],\n",
              "       [6.27]], dtype=float32)"
            ]
          },
          "metadata": {},
          "execution_count": 209
        }
      ]
    },
    {
      "cell_type": "code",
      "source": [
        "plt.figure(figsize=(10,10))\n",
        "plt.hist(y_test_prob_backup)"
      ],
      "metadata": {
        "id": "qsgK5XvWjrAP",
        "colab": {
          "base_uri": "https://localhost:8080/",
          "height": 682
        },
        "outputId": "e176367d-6709-46a4-d221-1369ea7d34d3"
      },
      "execution_count": 210,
      "outputs": [
        {
          "output_type": "execute_result",
          "data": {
            "text/plain": [
              "(array([ 8764.,  1268.,   201.,   165.,   111.,   140.,   135.,   292.,\n",
              "        12418.,  1084.]),\n",
              " array([-0.46,  0.38,  1.22,  2.06,  2.9 ,  3.74,  4.58,  5.42,  6.26,\n",
              "         7.1 ,  7.93], dtype=float32),\n",
              " <a list of 10 Patch objects>)"
            ]
          },
          "metadata": {},
          "execution_count": 210
        },
        {
          "output_type": "display_data",
          "data": {
            "text/plain": [
              "<Figure size 720x720 with 1 Axes>"
            ],
            "image/png": "[encoded data removed]"
          },
          "metadata": {
            "needs_background": "light"
          }
        }
      ]
    },
    {
      "cell_type": "code",
      "source": [
        "y_test_prob_backup[:10]"
      ],
      "metadata": {
        "id": "M6Xj4ugPx610",
        "colab": {
          "base_uri": "https://localhost:8080/"
        },
        "outputId": "dbc3bfaa-999f-4112-8501-7db5d3bb3a6c"
      },
      "execution_count": 211,
      "outputs": [
        {
          "output_type": "execute_result",
          "data": {
            "text/plain": [
              "array([[0.57],\n",
              "       [0.51],\n",
              "       [0.62],\n",
              "       [0.46],\n",
              "       [0.52],\n",
              "       [0.56],\n",
              "       [0.48],\n",
              "       [0.64],\n",
              "       [0.49],\n",
              "       [0.59]], dtype=float32)"
            ]
          },
          "metadata": {},
          "execution_count": 211
        }
      ]
    },
    {
      "cell_type": "code",
      "execution_count": 212,
      "metadata": {
        "id": "8DoJy_p9dPzN"
      },
      "outputs": [],
      "source": [
        "from sklearn.metrics import multilabel_confusion_matrix"
      ]
    },
    {
      "cell_type": "code",
      "source": [
        "y_test_prob"
      ],
      "metadata": {
        "id": "fLgDwAIfiyv2",
        "colab": {
          "base_uri": "https://localhost:8080/"
        },
        "outputId": "a7b9aff6-8715-493a-dc27-b8fd2172d723"
      },
      "execution_count": 213,
      "outputs": [
        {
          "output_type": "execute_result",
          "data": {
            "text/plain": [
              "array([[0.57],\n",
              "       [0.51],\n",
              "       [0.62],\n",
              "       ...,\n",
              "       [6.08],\n",
              "       [6.35],\n",
              "       [6.27]], dtype=float32)"
            ]
          },
          "metadata": {},
          "execution_count": 213
        }
      ]
    },
    {
      "cell_type": "code",
      "source": [
        "y_test_pred = np.reshape(y_test_prob, -1)"
      ],
      "metadata": {
        "id": "ISi7-hg2gI7f"
      },
      "execution_count": 214,
      "outputs": []
    },
    {
      "cell_type": "code",
      "source": [
        "y_test_pred"
      ],
      "metadata": {
        "id": "lsLE4-aGiT6A",
        "colab": {
          "base_uri": "https://localhost:8080/"
        },
        "outputId": "476a2a41-49ba-40c1-a2e4-5ccf30b97505"
      },
      "execution_count": 215,
      "outputs": [
        {
          "output_type": "execute_result",
          "data": {
            "text/plain": [
              "array([0.57, 0.51, 0.62, ..., 6.08, 6.35, 6.27], dtype=float32)"
            ]
          },
          "metadata": {},
          "execution_count": 215
        }
      ]
    },
    {
      "cell_type": "code",
      "source": [
        "y_test_pred_int = np.round(y_test_pred)\n",
        "print(y_test_pred_int)\n",
        "y_test_pred_int = y_test_pred_int.astype(int)"
      ],
      "metadata": {
        "id": "jiZwDk3pvcVw",
        "colab": {
          "base_uri": "https://localhost:8080/"
        },
        "outputId": "8fe06bd6-f090-43f6-ce14-b7d8fc8a367e"
      },
      "execution_count": 216,
      "outputs": [
        {
          "output_type": "stream",
          "name": "stdout",
          "text": [
            "[1. 1. 1. ... 6. 6. 6.]\n"
          ]
        }
      ]
    },
    {
      "cell_type": "code",
      "source": [
        "y_test_pred_int"
      ],
      "metadata": {
        "id": "VTPEZkizvo1c",
        "colab": {
          "base_uri": "https://localhost:8080/"
        },
        "outputId": "afb96da8-dbbf-40f6-c2ab-e828604343e0"
      },
      "execution_count": 217,
      "outputs": [
        {
          "output_type": "execute_result",
          "data": {
            "text/plain": [
              "array([1, 1, 1, ..., 6, 6, 6])"
            ]
          },
          "metadata": {},
          "execution_count": 217
        }
      ]
    },
    {
      "cell_type": "code",
      "execution_count": 218,
      "metadata": {
        "id": "fTCsPjW8dQaZ"
      },
      "outputs": [],
      "source": [
        "cfm=confusion_matrix(y, y_test_pred_int)"
      ]
    },
    {
      "cell_type": "code",
      "source": [
        "cfm"
      ],
      "metadata": {
        "id": "_67lPg6ic4cH",
        "colab": {
          "base_uri": "https://localhost:8080/"
        },
        "outputId": "c60aa597-6c88-4ee7-9720-7a89a77411db"
      },
      "execution_count": 219,
      "outputs": [
        {
          "output_type": "execute_result",
          "data": {
            "text/plain": [
              "array([[    0,     0,     0,     0,     0,     0,     0,     0,     0],\n",
              "       [    0,     0,     0,     0,     0,     0,     0,     0,     0],\n",
              "       [    0,     0,     0,     0,     0,     0,     0,     0,     0],\n",
              "       [ 9279,   817,   231,   143,   164,   169,   564, 13199,    12],\n",
              "       [    0,     0,     0,     0,     0,     0,     0,     0,     0],\n",
              "       [    0,     0,     0,     0,     0,     0,     0,     0,     0],\n",
              "       [    0,     0,     0,     0,     0,     0,     0,     0,     0],\n",
              "       [    0,     0,     0,     0,     0,     0,     0,     0,     0],\n",
              "       [    0,     0,     0,     0,     0,     0,     0,     0,     0]])"
            ]
          },
          "metadata": {},
          "execution_count": 219
        }
      ]
    },
    {
      "cell_type": "code",
      "source": [
        " print(classification_report(y, y_test_pred_int))"
      ],
      "metadata": {
        "id": "XTqR_xnwRWCJ",
        "colab": {
          "base_uri": "https://localhost:8080/"
        },
        "outputId": "2e32786e-4382-47e3-bab8-3987dfdf0bbd"
      },
      "execution_count": 220,
      "outputs": [
        {
          "output_type": "stream",
          "name": "stdout",
          "text": [
            "              precision    recall  f1-score   support\n",
            "\n",
            "           0       0.00      0.00      0.00         0\n",
            "           1       0.00      0.00      0.00         0\n",
            "           2       0.00      0.00      0.00         0\n",
            "           3       1.00      0.01      0.01     24578\n",
            "           4       0.00      0.00      0.00         0\n",
            "           5       0.00      0.00      0.00         0\n",
            "           6       0.00      0.00      0.00         0\n",
            "           7       0.00      0.00      0.00         0\n",
            "           8       0.00      0.00      0.00         0\n",
            "\n",
            "    accuracy                           0.01     24578\n",
            "   macro avg       0.11      0.00      0.00     24578\n",
            "weighted avg       1.00      0.01      0.01     24578\n",
            "\n"
          ]
        }
      ]
    },
    {
      "cell_type": "code",
      "source": [
        "plt.plot(y_test_pred, y, 'o')\n",
        "#plt.title('')\n",
        "plt.ylabel('y_test')\n",
        "plt.xlabel('y_test_pred')\n",
        "plt.show()"
      ],
      "metadata": {
        "id": "l5sCwqd8ZdyS",
        "colab": {
          "base_uri": "https://localhost:8080/",
          "height": 282
        },
        "outputId": "17d2676d-2afe-46f2-cab0-738c4cc4485c"
      },
      "execution_count": 221,
      "outputs": [
        {
          "output_type": "display_data",
          "data": {
            "text/plain": [
              "<Figure size 432x288 with 1 Axes>"
            ],
            "image/png": "[encoded data removed]"
          },
          "metadata": {
            "needs_background": "light"
          }
        }
      ]
    },
    {
      "cell_type": "code",
      "source": [
        "plt.plot(y_test_pred_int, y, 'o')\n",
        "#plt.title('')\n",
        "plt.ylabel('y_test')\n",
        "plt.xlabel('y_test_pred_int')\n",
        "plt.show()"
      ],
      "metadata": {
        "id": "Fug6j8EeXP5G",
        "colab": {
          "base_uri": "https://localhost:8080/",
          "height": 282
        },
        "outputId": "444339f5-6c39-4457-f725-0d23d6486ef2"
      },
      "execution_count": 222,
      "outputs": [
        {
          "output_type": "display_data",
          "data": {
            "text/plain": [
              "<Figure size 432x288 with 1 Axes>"
            ],
            "image/png": "[encoded data removed]"
          },
          "metadata": {
            "needs_background": "light"
          }
        }
      ]
    },
    {
      "cell_type": "code",
      "execution_count": 223,
      "metadata": {
        "id": "fhdLAhgPUnH3"
      },
      "outputs": [],
      "source": [
        "def plot_learningCurve(history, epoch):\n",
        "  # Plot training & validation accuracy values\n",
        "  epoch_range = range(1, epoch+1)\n",
        "  plt.plot(epoch_range, history.history['accuracy'])\n",
        "  plt.plot(epoch_range, history.history['val_accuracy'])\n",
        "  plt.title('Model accuracy')\n",
        "  plt.ylabel('Accuracy')\n",
        "  plt.xlabel('Epoch')\n",
        "  plt.legend(['Train', 'Val'], loc='upper left')\n",
        "  plt.show()\n",
        "\n",
        "  # Plot training & validation loss values\n",
        "  plt.plot(epoch_range, history.history['loss'])\n",
        "  plt.plot(epoch_range, history.history['val_loss'])\n",
        "  plt.title('Model loss')\n",
        "  plt.ylabel('Loss')\n",
        "  plt.xlabel('Epoch')\n",
        "  plt.legend(['Train', 'Val'], loc='upper left')\n",
        "  plt.show()"
      ]
    },
    {
      "cell_type": "code",
      "execution_count": 224,
      "metadata": {
        "id": "WlkQkWHgU5mL",
        "colab": {
          "base_uri": "https://localhost:8080/",
          "height": 169
        },
        "outputId": "c7227327-8529-468d-a6f7-2c51e0977f14"
      },
      "outputs": [
        {
          "output_type": "error",
          "ename": "NameError",
          "evalue": "ignored",
          "traceback": [
            "\u001b[0;31m---------------------------------------------------------------------------\u001b[0m",
            "\u001b[0;31mNameError\u001b[0m                                 Traceback (most recent call last)",
            "\u001b[0;32m<ipython-input-224-40b6ded80803>\u001b[0m in \u001b[0;36m<module>\u001b[0;34m()\u001b[0m\n\u001b[0;32m----> 1\u001b[0;31m \u001b[0mplot_learningCurve\u001b[0m\u001b[0;34m(\u001b[0m\u001b[0mhistory\u001b[0m\u001b[0;34m,\u001b[0m \u001b[0;36m100\u001b[0m\u001b[0;34m)\u001b[0m\u001b[0;34m\u001b[0m\u001b[0;34m\u001b[0m\u001b[0m\n\u001b[0m",
            "\u001b[0;31mNameError\u001b[0m: name 'history' is not defined"
          ]
        }
      ],
      "source": [
        "plot_learningCurve(history, 100)"
      ]
    },
    {
      "cell_type": "code",
      "source": [
        "import numpy as np\n",
        "import matplotlib.pyplot as plt\n",
        "\n",
        "from sklearn import svm, datasets\n",
        "from sklearn.model_selection import train_test_split\n",
        "from sklearn.metrics import confusion_matrix\n",
        "from sklearn.utils.multiclass import unique_labels\n",
        "\n",
        "class_names = np.array(['0', '1', '2', '3', '4', '5', '6', '7'])\n",
        "\n",
        "def plot_confusion_matrix(y_true, y_pred, classes,\n",
        "                          normalize=False,\n",
        "                          title=None,\n",
        "                          cmap=plt.cm.Blues):\n",
        "    \"\"\"\n",
        "    This function prints and plots the confusion matrix.\n",
        "    Normalization can be applied by setting `normalize=True`.\n",
        "    \"\"\"\n",
        "    if not title:\n",
        "        if normalize:\n",
        "            title = 'Normalized confusion matrix'\n",
        "        else:\n",
        "            title = 'Confusion matrix, without normalization'\n",
        "\n",
        "    # Compute confusion matrix\n",
        "    cm = confusion_matrix(y_true, y_pred)\n",
        "    # Only use the labels that appear in the data\n",
        "    classes = classes[unique_labels(y_true, y_pred)]\n",
        "    if normalize:\n",
        "        cm = cm.astype('float') / cm.sum(axis=1)[:, np.newaxis]\n",
        "        print(\"Normalized confusion matrix\")\n",
        "    else:\n",
        "        print('Confusion matrix, without normalization')\n",
        "\n",
        "    print(cm)\n",
        "\n",
        "    fig, ax = plt.subplots()\n",
        "    im = ax.imshow(cm, interpolation='nearest', cmap=cmap)\n",
        "    ax.figure.colorbar(im, ax=ax)\n",
        "    # We want to show all ticks...\n",
        "    ax.set(xticks=np.arange(cm.shape[1]),\n",
        "           yticks=np.arange(cm.shape[0]),\n",
        "           # ... and label them with the respective list entries\n",
        "           xticklabels=classes, yticklabels=classes,\n",
        "           title=title,\n",
        "           ylabel='True label',\n",
        "           xlabel='Predicted label')\n",
        "\n",
        "    # Rotate the tick labels and set their alignment.\n",
        "    plt.setp(ax.get_xticklabels(), rotation=45, ha=\"right\",\n",
        "             rotation_mode=\"anchor\")\n",
        "\n",
        "    # Loop over data dimensions and create text annotations.\n",
        "    fmt = '.2f' if normalize else 'd'\n",
        "    thresh = cm.max() / 2.\n",
        "    for i in range(cm.shape[0]):\n",
        "        for j in range(cm.shape[1]):\n",
        "            ax.text(j, i, format(cm[i, j], fmt),\n",
        "                    ha=\"center\", va=\"center\",\n",
        "                    color=\"white\" if cm[i, j] > thresh else \"black\")\n",
        "    fig.tight_layout()\n",
        "\n",
        "    return ax\n",
        "\n",
        "\n",
        "np.set_printoptions(precision=2)\n",
        "\n",
        "# Plot non-normalized confusion matrix\n",
        "plot_confusion_matrix(y, y_test_pred_int, classes=class_names,\n",
        "                      title='Confusion matrix, without normalization')\n",
        "\n",
        "# Plot normalized confusion matrix\n",
        "plot_confusion_matrix(y, y_test_pred_int, classes=class_names, normalize=True,\n",
        "                      title='Normalized confusion matrix')\n",
        "\n",
        "plt.show()"
      ],
      "metadata": {
        "id": "H_QpRmAjwxbM"
      },
      "execution_count": null,
      "outputs": []
    }
  ],
  "metadata": {
    "colab": {
      "collapsed_sections": [
        "f857kfHqUk0-"
      ],
      "name": "DataInjectionRegresion_Multi_Class_MD_LSTM_step_200_files_120.ipynb",
      "provenance": [],
      "include_colab_link": true
    },
    "kernelspec": {
      "display_name": "Python 3",
      "name": "python3"
    },
    "language_info": {
      "name": "python"
    }
  },
  "nbformat": 4,
  "nbformat_minor": 0
}