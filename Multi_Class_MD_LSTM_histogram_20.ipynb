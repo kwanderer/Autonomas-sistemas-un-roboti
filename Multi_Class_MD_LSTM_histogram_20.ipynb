{
  "cells": [
    {
      "cell_type": "markdown",
      "metadata": {
        "id": "view-in-github",
        "colab_type": "text"
      },
      "source": [
        "<a href=\"https://colab.research.google.com/github/kwanderer/Autonomas-sistemas-un-roboti/blob/main/Multi_Class_MD_LSTM_histogram_20.ipynb\" target=\"_parent\"><img src=\"https://colab.research.google.com/assets/colab-badge.svg\" alt=\"Open In Colab\"/></a>"
      ]
    },
    {
      "cell_type": "markdown",
      "metadata": {
        "id": "f857kfHqUk0-"
      },
      "source": [
        "\n",
        "\n",
        "#Datu kopa"
      ]
    },
    {
      "cell_type": "markdown",
      "metadata": {
        "id": "nM9WE3QGUwVi"
      },
      "source": [
        "Datu kopas avots: https://www.kaggle.com/uysalserkan/fault-induction-motor-dataset"
      ]
    },
    {
      "cell_type": "markdown",
      "metadata": {
        "id": "_sN_h3qHHy6r"
      },
      "source": [
        "Darbā tiek izmantota indukcijas motora parametru datu bāze. Izmantotajā datu kopā ir dati, kas tika iegūti SpectraQuest aparatūras kļūdu simulatorā (Machinery Fault Simulator).\n",
        "\n",
        "Katra mērījumu secība tika ģenerēta ar frekvenci 50 kHz 5 sekunžu laikā, kopā 250 000 mērījumi.\n",
        "\n",
        "Dati ir apkopoti vairākos failos, dažādos darbības stāvokļos un to apjoms ir ļoti liels. Šajā darbā tika izmantota daļa(viena mērījumu secība) no motora normālas darbības datiem.\n"
      ]
    },
    {
      "cell_type": "markdown",
      "metadata": {
        "id": "KtFAOaHYHLPo"
      },
      "source": [
        "Dati ir apkopoti tabulā, kura satur 8 parametrus. Dati ir iedalīti sekojošās kolonas:\n",
        "\n",
        "**tachometer** – tahometra signāls, kas ļauj novērtēt rotācijas frekvenci\n",
        "\n",
        "**und-accelerometer-axial** - apakšā esošā gultņa akselerometrs (aksiālais virziens)\n",
        "\n",
        "**und-accelerometer-radial** – apakšā esošā gultņa akselerometrs (radiālais virziens)\n",
        "\n",
        "**und-accelerometer-tangential** - apakšā esošā gultņa akselerometrs (tangenciālais virziens)\n",
        "\n",
        "**over-accelerometer-axial** - pārkares gultņa akselerometrs (aksiālais virziens)\n",
        "\n",
        "**over-accelerometer-radial** – pārkares gultņa akselerometrs (radiālais  virziens)\n",
        "\n",
        "**over-accelerometer-tangential**  - pārkares gultņa akselerometrs (tangenciālais virziens)\n",
        "\n",
        "**microphone** – mikrofona vērtība\n"
      ]
    },
    {
      "cell_type": "markdown",
      "metadata": {
        "id": "XymoNLKMVFUC"
      },
      "source": [
        "#Datu ielasīšana un satura vizualizācija"
      ]
    },
    {
      "cell_type": "code",
      "execution_count": 1,
      "metadata": {
        "id": "_yqYZDeOFq5s"
      },
      "outputs": [],
      "source": [
        "import keras\n",
        "from keras.layers import LSTM, Dropout, Dense\n",
        "import tensorflow as tf\n",
        "import numpy as np\n",
        "import pandas as pd\n",
        "\n",
        "from sklearn import linear_model  #pip install sklearn - loti plasa masinapmacibas biblioteka\n",
        "from sklearn.linear_model import LinearRegression  \n",
        "import csv          #pip install csv - darbam ar CSV datu kopam\n",
        "import requests     #pip install requests  - vienkarsakam darbam ar tiessaistes CSV datu kopam tiessaistes\n",
        "\n",
        "import matplotlib\n",
        "import matplotlib.pyplot as plt\n",
        "\n",
        "import glob\n"
      ]
    },
    {
      "cell_type": "code",
      "execution_count": 2,
      "metadata": {
        "id": "wlRTBbM2eUcV",
        "colab": {
          "base_uri": "https://localhost:8080/"
        },
        "outputId": "179a53c5-719a-485c-eed4-6cac08c392b5"
      },
      "outputs": [
        {
          "output_type": "stream",
          "name": "stdout",
          "text": [
            "Mounted at /content/gdrive\n"
          ]
        }
      ],
      "source": [
        "from google.colab import drive\n",
        "import os\n",
        "drive.mount('/content/gdrive')\n",
        "os.chdir(\"/content/gdrive/MyDrive/Colab Notebooks/data_multiclass/\")"
      ]
    },
    {
      "cell_type": "code",
      "execution_count": 3,
      "metadata": {
        "id": "zzz6fBl_SNom"
      },
      "outputs": [],
      "source": [
        "#extension = 'csv'\n",
        "#all_filenames = [i for i in glob.glob('*.{}'.format(extension))]"
      ]
    },
    {
      "cell_type": "code",
      "execution_count": 4,
      "metadata": {
        "id": "vagKFCkToBi0"
      },
      "outputs": [],
      "source": [
        "#combine all files in the list\n",
        "#combined_csv = pd.concat([pd.read_csv(f) for f in all_filenames ])\n",
        "#export to csv\n",
        "#combined_csv.to_csv( \"combined_multiclass_csv.csv\", index=False, encoding='utf-8-sig')"
      ]
    },
    {
      "cell_type": "code",
      "execution_count": 5,
      "metadata": {
        "id": "encEkbDhSfGI"
      },
      "outputs": [],
      "source": [
        "data = pd.read_csv(\"combined_multiclass_csv.csv\")"
      ]
    },
    {
      "cell_type": "code",
      "execution_count": 6,
      "metadata": {
        "id": "yz5Qe8ZWk1Zq",
        "colab": {
          "base_uri": "https://localhost:8080/"
        },
        "outputId": "d2519242-e885-431b-c697-8d92403e8116"
      },
      "outputs": [
        {
          "output_type": "stream",
          "name": "stdout",
          "text": [
            "<class 'pandas.core.frame.DataFrame'>\n",
            "RangeIndex: 30000000 entries, 0 to 29999999\n",
            "Data columns (total 9 columns):\n",
            " #   Column                         Dtype  \n",
            "---  ------                         -----  \n",
            " 0   tachometer                     float64\n",
            " 1   und-accelerometer-axial        float64\n",
            " 2   und-accelerometer-radial       float64\n",
            " 3   und-accelerometer-tangential   float64\n",
            " 4   over-accelerometer-axial       float64\n",
            " 5   over-accelerometer-radial      float64\n",
            " 6   over-accelerometer-tangential  float64\n",
            " 7   microphone                     float64\n",
            " 8   Class                          int64  \n",
            "dtypes: float64(8), int64(1)\n",
            "memory usage: 2.0 GB\n"
          ]
        }
      ],
      "source": [
        "data.info()"
      ]
    },
    {
      "cell_type": "code",
      "execution_count": 7,
      "metadata": {
        "id": "WUW9ezX6a_st",
        "colab": {
          "base_uri": "https://localhost:8080/"
        },
        "outputId": "88f9571c-9944-4a50-c3d9-5af420960d02"
      },
      "outputs": [
        {
          "output_type": "execute_result",
          "data": {
            "text/plain": [
              "30000000"
            ]
          },
          "metadata": {},
          "execution_count": 7
        }
      ],
      "source": [
        "rec_count = len(data)\n",
        "rec_count"
      ]
    },
    {
      "cell_type": "markdown",
      "metadata": {
        "id": "6RVC1PZy88fC"
      },
      "source": [
        "# Datu dalīšana mazākos gabalos"
      ]
    },
    {
      "cell_type": "code",
      "execution_count": 8,
      "metadata": {
        "id": "DOvnCYkcbGaE"
      },
      "outputs": [],
      "source": [
        "sequence_length = 200"
      ]
    },
    {
      "cell_type": "code",
      "execution_count": 9,
      "metadata": {
        "id": "RG0o2L3zbTEx"
      },
      "outputs": [],
      "source": [
        "def generate_data(X, y, sequence_length = 200, step = 200):\n",
        "    X_local = []\n",
        "    y_local = []\n",
        "    for start in range(0, len(data) - sequence_length, step):\n",
        "        end = start + sequence_length\n",
        "        X_local.append(X[start:end])\n",
        "        y_local.append(y[end-1])\n",
        "    return np.array(X_local), np.array(y_local)\n",
        "\n",
        "#X_sequence, y = generate_data(data.loc[:, [\"tachometer\", \"und-accelerometer-axial\", \"und-accelerometer-radial\", \"und-accelerometer-tangential\", \"over-accelerometer-axial\", \"over-accelerometer-radial\", \"over-accelerometer-tangential\", \"microphone\"]].values, data.Class)\n",
        "X_sequence, y = generate_data(data.loc[:, [\"tachometer\", \"und-accelerometer-axial\", \"und-accelerometer-radial\", \"und-accelerometer-tangential\", \"over-accelerometer-axial\", \"over-accelerometer-radial\", \"over-accelerometer-tangential\", \"microphone\"]].values, data.Class)\n"
      ]
    },
    {
      "cell_type": "code",
      "execution_count": 10,
      "metadata": {
        "id": "s0QxwK66cLVF",
        "colab": {
          "base_uri": "https://localhost:8080/"
        },
        "outputId": "9e845861-afde-4b8a-d3b7-9932051a0117"
      },
      "outputs": [
        {
          "output_type": "execute_result",
          "data": {
            "text/plain": [
              "((149999, 200, 8), (149999,))"
            ]
          },
          "metadata": {},
          "execution_count": 10
        }
      ],
      "source": [
        "X_sequence.shape, y.shape"
      ]
    },
    {
      "cell_type": "code",
      "source": [
        "unique, counts = np.unique(y, return_counts=True)"
      ],
      "metadata": {
        "id": "l8Lq455lV1JR"
      },
      "execution_count": 11,
      "outputs": []
    },
    {
      "cell_type": "code",
      "source": [
        "unique"
      ],
      "metadata": {
        "id": "t0BRO3nAWQxe",
        "colab": {
          "base_uri": "https://localhost:8080/"
        },
        "outputId": "7a6caa7f-371a-4c65-d12e-d98cf666ab53"
      },
      "execution_count": 12,
      "outputs": [
        {
          "output_type": "execute_result",
          "data": {
            "text/plain": [
              "array([0, 1, 2, 3, 4, 5, 6, 7])"
            ]
          },
          "metadata": {},
          "execution_count": 12
        }
      ]
    },
    {
      "cell_type": "code",
      "source": [
        "counts"
      ],
      "metadata": {
        "id": "WWZ7QWR4WS_r",
        "colab": {
          "base_uri": "https://localhost:8080/"
        },
        "outputId": "66b67c88-811b-4a44-cd6a-440b168b3385"
      },
      "execution_count": 13,
      "outputs": [
        {
          "output_type": "execute_result",
          "data": {
            "text/plain": [
              "array([18749, 18750, 18750, 18750, 18750, 18750, 18750, 18750])"
            ]
          },
          "metadata": {},
          "execution_count": 13
        }
      ]
    },
    {
      "cell_type": "code",
      "execution_count": 14,
      "metadata": {
        "id": "i7R1oo6Mj8wx"
      },
      "outputs": [],
      "source": [
        "data = 0"
      ]
    },
    {
      "cell_type": "code",
      "source": [
        "from sklearn.preprocessing import OneHotEncoder"
      ],
      "metadata": {
        "id": "lAk_JscRWmqY"
      },
      "execution_count": 15,
      "outputs": []
    },
    {
      "cell_type": "code",
      "source": [
        "label_encoder = OneHotEncoder(sparse=False)\n",
        "label_encoder.fit(y.reshape(-1,1))"
      ],
      "metadata": {
        "id": "14B9aYy0W0y6",
        "colab": {
          "base_uri": "https://localhost:8080/"
        },
        "outputId": "3e767e1d-ee0a-4cfe-bed8-2451d7f722fb"
      },
      "execution_count": 16,
      "outputs": [
        {
          "output_type": "execute_result",
          "data": {
            "text/plain": [
              "OneHotEncoder(sparse=False)"
            ]
          },
          "metadata": {},
          "execution_count": 16
        }
      ]
    },
    {
      "cell_type": "code",
      "source": [
        "y_encoded = label_encoder.transform(y.reshape(-1,1))"
      ],
      "metadata": {
        "id": "VjpWn96xXgPS"
      },
      "execution_count": 17,
      "outputs": []
    },
    {
      "cell_type": "code",
      "source": [
        "y_encoded[0:5]"
      ],
      "metadata": {
        "id": "VL6KMFo9XpBi",
        "colab": {
          "base_uri": "https://localhost:8080/"
        },
        "outputId": "561a5359-5c9f-4ea8-d1c5-f9fe7c77f19f"
      },
      "execution_count": 18,
      "outputs": [
        {
          "output_type": "execute_result",
          "data": {
            "text/plain": [
              "array([[0., 0., 0., 0., 0., 0., 0., 1.],\n",
              "       [0., 0., 0., 0., 0., 0., 0., 1.],\n",
              "       [0., 0., 0., 0., 0., 0., 0., 1.],\n",
              "       [0., 0., 0., 0., 0., 0., 0., 1.],\n",
              "       [0., 0., 0., 0., 0., 0., 0., 1.]])"
            ]
          },
          "metadata": {},
          "execution_count": 18
        }
      ]
    },
    {
      "cell_type": "code",
      "source": [
        "y=y_encoded"
      ],
      "metadata": {
        "id": "5c8km253YKBl"
      },
      "execution_count": 19,
      "outputs": []
    },
    {
      "cell_type": "markdown",
      "metadata": {
        "id": "5BXSDoHa9UX_"
      },
      "source": [
        "# Random/Shuffle"
      ]
    },
    {
      "cell_type": "code",
      "execution_count": 20,
      "metadata": {
        "id": "ZcfE9idy-ckb"
      },
      "outputs": [],
      "source": [
        "shuffler = np.random.permutation(len(X_sequence))\n",
        "X_sequence_shuffled = X_sequence[shuffler]\n",
        "y_shuffled = y[shuffler]"
      ]
    },
    {
      "cell_type": "markdown",
      "metadata": {
        "id": "TfhRTTNcE2s8"
      },
      "source": [
        "# LSTM"
      ]
    },
    {
      "cell_type": "code",
      "execution_count": 21,
      "metadata": {
        "id": "ihrXMuVAEwlY"
      },
      "outputs": [],
      "source": [
        "import pandas as pd\n",
        "import sklearn.metrics as metrique\n",
        "from pandas import Series\n",
        "from sklearn.preprocessing import StandardScaler, MinMaxScaler\n",
        "from matplotlib import pyplot\n",
        "from sklearn.model_selection import train_test_split\n",
        "import numpy as np\n",
        "import tensorflow as tf\n",
        "import sys\n",
        "import numpy as np\n",
        "import pandas as pd\n",
        "import tensorflow as tf\n",
        "import matplotlib.pyplot as plt\n",
        "from sklearn.model_selection import train_test_split\n",
        "from sklearn import preprocessing\n",
        "from sklearn.preprocessing import StandardScaler\n",
        "from sklearn.metrics import classification_report\n",
        "import warnings\n",
        "warnings.filterwarnings('ignore')\n",
        "plt.style.use('ggplot')\n",
        "import seaborn as sns \n",
        "%matplotlib inline\n",
        "from keras.callbacks import EarlyStopping\n",
        "from keras.callbacks import ModelCheckpoint\n",
        "from sklearn.metrics import accuracy_score\n",
        "from sklearn.metrics import classification_report, confusion_matrix\n",
        "from keras.models import Sequential\n",
        "from keras.utils import np_utils\n",
        "from keras.layers import LSTM, Dense, Embedding, Dropout,Input, Layer, Concatenate, Permute, Dot, Multiply, Flatten\n",
        "from keras.layers import RepeatVector, Dense, Activation, Lambda\n",
        "from keras.models import Sequential\n",
        "from keras import backend as K, regularizers, Model, metrics\n",
        "from keras.backend import cast"
      ]
    },
    {
      "cell_type": "code",
      "execution_count": 22,
      "metadata": {
        "id": "PjKWKiA6aH3z"
      },
      "outputs": [],
      "source": [
        "#from tensorflow.keras import optimizers\n",
        "#sgd = optimizers.SGD(lr=0.0001, decay=1e-6, momentum=0.9, nesterov=True)\n",
        "#model = keras.Sequential()\n",
        "#model.add(LSTM(100, input_shape = (200, 8)))\n",
        "#model.add(Dropout(0.5))\n",
        "#model.add(Dense(1, activation=\"softmax\"))\n",
        "\n",
        "\n",
        "#model.compile(loss=\"categorical_crossentropy\"\n",
        "#              , metrics=[keras.metrics.binary_accuracy]\n",
        "#              , optimizer='sgd')\n",
        "\n",
        "#model.summary()"
      ]
    },
    {
      "cell_type": "code",
      "execution_count": 23,
      "metadata": {
        "id": "_2SaVmwSWJVB",
        "colab": {
          "base_uri": "https://localhost:8080/"
        },
        "outputId": "198c05a0-5766-4a1d-f917-e663bbab3471"
      },
      "outputs": [
        {
          "output_type": "stream",
          "name": "stdout",
          "text": [
            "Model: \"sequential\"\n",
            "_________________________________________________________________\n",
            " Layer (type)                Output Shape              Param #   \n",
            "=================================================================\n",
            " lstm (LSTM)                 (None, 100)               43600     \n",
            "                                                                 \n",
            " dropout (Dropout)           (None, 100)               0         \n",
            "                                                                 \n",
            " dense (Dense)               (None, 8)                 808       \n",
            "                                                                 \n",
            "=================================================================\n",
            "Total params: 44,408\n",
            "Trainable params: 44,408\n",
            "Non-trainable params: 0\n",
            "_________________________________________________________________\n"
          ]
        }
      ],
      "source": [
        "from tensorflow.keras import optimizers\n",
        "#sgd = optimizers.SGD(lr=0.0001, decay=1e-6, momentum=0.9, nesterov=True)\n",
        "optimizer = tf.keras.optimizers.Adam(lr=0.0001)\n",
        "model = keras.Sequential()\n",
        "model.add(LSTM(100, input_shape = (200, 8)))\n",
        "model.add(Dropout(0.5))#0.25\n",
        "model.add(Dense(8, activation=\"softmax\"))\n",
        "\n",
        "#model.compile(loss='mean_squared_error', optimizer=sgd)\n",
        "model.compile(loss=\"categorical_crossentropy\"\n",
        "              , metrics=['accuracy']\n",
        "              , optimizer=optimizer)\n",
        "\n",
        "model.summary()"
      ]
    },
    {
      "cell_type": "code",
      "execution_count": 24,
      "metadata": {
        "id": "tg8wrqsqc8UX"
      },
      "outputs": [],
      "source": [
        "training_size = int(len(X_sequence) * 0.8)\n",
        "val_size = int(len(X_sequence) * 0.9)"
      ]
    },
    {
      "cell_type": "code",
      "execution_count": 25,
      "metadata": {
        "id": "avIp3TEKc-qF"
      },
      "outputs": [],
      "source": [
        "X_train, y_train = X_sequence_shuffled[:training_size], y_shuffled[:training_size]\n",
        "X_val, y_val = X_sequence_shuffled[training_size:val_size], y_shuffled[training_size:val_size]\n",
        "X_test, y_test = X_sequence_shuffled[val_size:], y_shuffled[val_size:]"
      ]
    },
    {
      "cell_type": "code",
      "execution_count": 26,
      "metadata": {
        "id": "RABc_uKzkBUT"
      },
      "outputs": [],
      "source": [
        "#X_sequence = 0\n",
        "#y = 0"
      ]
    },
    {
      "cell_type": "code",
      "source": [
        "X_train.shape"
      ],
      "metadata": {
        "id": "Omv-ht1dhGxL",
        "colab": {
          "base_uri": "https://localhost:8080/"
        },
        "outputId": "596dc37d-e4e4-4a54-d510-755ed83e33aa"
      },
      "execution_count": 27,
      "outputs": [
        {
          "output_type": "execute_result",
          "data": {
            "text/plain": [
              "(119999, 200, 8)"
            ]
          },
          "metadata": {},
          "execution_count": 27
        }
      ]
    },
    {
      "cell_type": "code",
      "execution_count": 28,
      "metadata": {
        "id": "8aIhPJ-wLCwZ",
        "colab": {
          "base_uri": "https://localhost:8080/"
        },
        "outputId": "e023cf16-a5bf-4f3e-ae46-801628552504"
      },
      "outputs": [
        {
          "output_type": "execute_result",
          "data": {
            "text/plain": [
              "array([[0., 0., 0., 1., 0., 0., 0., 0.],\n",
              "       [1., 0., 0., 0., 0., 0., 0., 0.],\n",
              "       [0., 0., 0., 0., 0., 0., 1., 0.],\n",
              "       [0., 0., 0., 0., 0., 1., 0., 0.],\n",
              "       [0., 1., 0., 0., 0., 0., 0., 0.],\n",
              "       [0., 0., 0., 0., 1., 0., 0., 0.],\n",
              "       [0., 0., 0., 0., 0., 0., 0., 1.],\n",
              "       [1., 0., 0., 0., 0., 0., 0., 0.],\n",
              "       [0., 0., 0., 0., 0., 1., 0., 0.],\n",
              "       [0., 0., 0., 0., 0., 0., 0., 1.]])"
            ]
          },
          "metadata": {},
          "execution_count": 28
        }
      ],
      "source": [
        "y_train[:10]"
      ]
    },
    {
      "cell_type": "code",
      "execution_count": 29,
      "metadata": {
        "id": "cen4faX0dFJP",
        "colab": {
          "base_uri": "https://localhost:8080/"
        },
        "outputId": "6ee516b6-550c-4b98-e671-e6d09d615ca6"
      },
      "outputs": [
        {
          "output_type": "stream",
          "name": "stdout",
          "text": [
            "Epoch 1/100\n",
            "1875/1875 [==============================] - 31s 13ms/step - loss: 1.8201 - accuracy: 0.2346 - val_loss: 1.6813 - val_accuracy: 0.2940\n",
            "Epoch 2/100\n",
            "1875/1875 [==============================] - 24s 13ms/step - loss: 1.6710 - accuracy: 0.2844 - val_loss: 1.6068 - val_accuracy: 0.3221\n",
            "Epoch 3/100\n",
            "1875/1875 [==============================] - 24s 13ms/step - loss: 1.6551 - accuracy: 0.3126 - val_loss: 1.6107 - val_accuracy: 0.3411\n",
            "Epoch 4/100\n",
            "1875/1875 [==============================] - 24s 13ms/step - loss: 1.5690 - accuracy: 0.3468 - val_loss: 1.4819 - val_accuracy: 0.3868\n",
            "Epoch 5/100\n",
            "1875/1875 [==============================] - 24s 13ms/step - loss: 1.5050 - accuracy: 0.3775 - val_loss: 1.4501 - val_accuracy: 0.4075\n",
            "Epoch 6/100\n",
            "1875/1875 [==============================] - 24s 13ms/step - loss: 1.4483 - accuracy: 0.4044 - val_loss: 1.4066 - val_accuracy: 0.4203\n",
            "Epoch 7/100\n",
            "1875/1875 [==============================] - 25s 13ms/step - loss: 1.4094 - accuracy: 0.4233 - val_loss: 1.4431 - val_accuracy: 0.4381\n",
            "Epoch 8/100\n",
            "1875/1875 [==============================] - 24s 13ms/step - loss: 1.3889 - accuracy: 0.4344 - val_loss: 1.3553 - val_accuracy: 0.4577\n",
            "Epoch 9/100\n",
            "1875/1875 [==============================] - 24s 13ms/step - loss: 1.3874 - accuracy: 0.4367 - val_loss: 1.3928 - val_accuracy: 0.4289\n",
            "Epoch 10/100\n",
            "1875/1875 [==============================] - 24s 13ms/step - loss: 1.3994 - accuracy: 0.4342 - val_loss: 1.3393 - val_accuracy: 0.4503\n",
            "Epoch 11/100\n",
            "1875/1875 [==============================] - 24s 13ms/step - loss: 1.3658 - accuracy: 0.4465 - val_loss: 1.3331 - val_accuracy: 0.4473\n",
            "Epoch 12/100\n",
            "1875/1875 [==============================] - 24s 13ms/step - loss: 1.3804 - accuracy: 0.4405 - val_loss: 1.3753 - val_accuracy: 0.4387\n",
            "Epoch 13/100\n",
            "1875/1875 [==============================] - 25s 13ms/step - loss: 1.3640 - accuracy: 0.4472 - val_loss: 1.3411 - val_accuracy: 0.4580\n",
            "Epoch 14/100\n",
            "1875/1875 [==============================] - 24s 13ms/step - loss: 1.3299 - accuracy: 0.4601 - val_loss: 1.2929 - val_accuracy: 0.4749\n",
            "Epoch 15/100\n",
            "1875/1875 [==============================] - 24s 13ms/step - loss: 1.3363 - accuracy: 0.4586 - val_loss: 1.3143 - val_accuracy: 0.4655\n",
            "Epoch 16/100\n",
            "1875/1875 [==============================] - 24s 13ms/step - loss: 1.4663 - accuracy: 0.4178 - val_loss: 1.3522 - val_accuracy: 0.4481\n",
            "Epoch 17/100\n",
            "1875/1875 [==============================] - 24s 13ms/step - loss: 1.3386 - accuracy: 0.4593 - val_loss: 1.2953 - val_accuracy: 0.4721\n",
            "Epoch 18/100\n",
            "1875/1875 [==============================] - 24s 13ms/step - loss: 1.3390 - accuracy: 0.4672 - val_loss: 1.2958 - val_accuracy: 0.4831\n",
            "Epoch 19/100\n",
            "1875/1875 [==============================] - 24s 13ms/step - loss: 1.3168 - accuracy: 0.4702 - val_loss: 1.2902 - val_accuracy: 0.4706\n",
            "Epoch 20/100\n",
            "1875/1875 [==============================] - 24s 13ms/step - loss: 1.3087 - accuracy: 0.4714 - val_loss: 1.3416 - val_accuracy: 0.4505\n",
            "Epoch 21/100\n",
            "1875/1875 [==============================] - 24s 13ms/step - loss: 1.2884 - accuracy: 0.4778 - val_loss: 1.2724 - val_accuracy: 0.4887\n",
            "Epoch 22/100\n",
            "1875/1875 [==============================] - 24s 13ms/step - loss: 1.2588 - accuracy: 0.4910 - val_loss: 1.2442 - val_accuracy: 0.4836\n",
            "Epoch 23/100\n",
            "1875/1875 [==============================] - 25s 13ms/step - loss: 1.4337 - accuracy: 0.4232 - val_loss: 1.4544 - val_accuracy: 0.4053\n",
            "Epoch 24/100\n",
            "1875/1875 [==============================] - 25s 13ms/step - loss: 1.3308 - accuracy: 0.4578 - val_loss: 1.3354 - val_accuracy: 0.4606\n",
            "Epoch 25/100\n",
            "1875/1875 [==============================] - 25s 13ms/step - loss: 1.2849 - accuracy: 0.4750 - val_loss: 1.2692 - val_accuracy: 0.4850\n",
            "Epoch 26/100\n",
            "1875/1875 [==============================] - 24s 13ms/step - loss: 1.2487 - accuracy: 0.4925 - val_loss: 1.3016 - val_accuracy: 0.4757\n",
            "Epoch 27/100\n",
            "1875/1875 [==============================] - 24s 13ms/step - loss: 1.2939 - accuracy: 0.4752 - val_loss: 1.2393 - val_accuracy: 0.4974\n",
            "Epoch 28/100\n",
            "1875/1875 [==============================] - 23s 13ms/step - loss: 1.2340 - accuracy: 0.4977 - val_loss: 1.1907 - val_accuracy: 0.5179\n",
            "Epoch 29/100\n",
            "1875/1875 [==============================] - 24s 13ms/step - loss: 1.2218 - accuracy: 0.5030 - val_loss: 1.3959 - val_accuracy: 0.4872\n",
            "Epoch 30/100\n",
            "1875/1875 [==============================] - 24s 13ms/step - loss: 1.2129 - accuracy: 0.5078 - val_loss: 1.1896 - val_accuracy: 0.5073\n",
            "Epoch 31/100\n",
            "1875/1875 [==============================] - 24s 13ms/step - loss: 1.1916 - accuracy: 0.5124 - val_loss: 1.1412 - val_accuracy: 0.5325\n",
            "Epoch 32/100\n",
            "1875/1875 [==============================] - 24s 13ms/step - loss: 1.1790 - accuracy: 0.5178 - val_loss: 1.1480 - val_accuracy: 0.5292\n",
            "Epoch 33/100\n",
            "1875/1875 [==============================] - 24s 13ms/step - loss: 1.2411 - accuracy: 0.4908 - val_loss: 1.2244 - val_accuracy: 0.4975\n",
            "Epoch 34/100\n",
            "1875/1875 [==============================] - 23s 12ms/step - loss: 1.1904 - accuracy: 0.5080 - val_loss: 1.1417 - val_accuracy: 0.5316\n",
            "Epoch 35/100\n",
            "1875/1875 [==============================] - 25s 13ms/step - loss: 1.1862 - accuracy: 0.5132 - val_loss: 1.1774 - val_accuracy: 0.5237\n",
            "Epoch 36/100\n",
            "1875/1875 [==============================] - 24s 13ms/step - loss: 1.1694 - accuracy: 0.5197 - val_loss: 1.1159 - val_accuracy: 0.5380\n",
            "Epoch 37/100\n",
            "1875/1875 [==============================] - 24s 13ms/step - loss: 1.1489 - accuracy: 0.5281 - val_loss: 1.1048 - val_accuracy: 0.5425\n",
            "Epoch 38/100\n",
            "1875/1875 [==============================] - 24s 13ms/step - loss: 1.1359 - accuracy: 0.5342 - val_loss: 1.1728 - val_accuracy: 0.5145\n",
            "Epoch 39/100\n",
            "1875/1875 [==============================] - 24s 13ms/step - loss: 1.1432 - accuracy: 0.5334 - val_loss: 1.0857 - val_accuracy: 0.5533\n",
            "Epoch 40/100\n",
            "1875/1875 [==============================] - 24s 13ms/step - loss: 1.1227 - accuracy: 0.5390 - val_loss: 1.0713 - val_accuracy: 0.5559\n",
            "Epoch 41/100\n",
            "1875/1875 [==============================] - 23s 12ms/step - loss: 1.0970 - accuracy: 0.5481 - val_loss: 1.0622 - val_accuracy: 0.5662\n",
            "Epoch 42/100\n",
            "1875/1875 [==============================] - 24s 13ms/step - loss: 1.0911 - accuracy: 0.5503 - val_loss: 1.0504 - val_accuracy: 0.5671\n",
            "Epoch 43/100\n",
            "1875/1875 [==============================] - 24s 13ms/step - loss: 1.0738 - accuracy: 0.5547 - val_loss: 1.0535 - val_accuracy: 0.5599\n",
            "Epoch 44/100\n",
            "1875/1875 [==============================] - 23s 12ms/step - loss: 1.2078 - accuracy: 0.5249 - val_loss: 1.1485 - val_accuracy: 0.5343\n",
            "Epoch 45/100\n",
            "1875/1875 [==============================] - 24s 13ms/step - loss: 1.1543 - accuracy: 0.5364 - val_loss: 1.0686 - val_accuracy: 0.5615\n",
            "Epoch 46/100\n",
            "1875/1875 [==============================] - 23s 12ms/step - loss: 1.0745 - accuracy: 0.5596 - val_loss: 1.0349 - val_accuracy: 0.5684\n",
            "Epoch 47/100\n",
            "1875/1875 [==============================] - 24s 13ms/step - loss: 1.0546 - accuracy: 0.5638 - val_loss: 1.0382 - val_accuracy: 0.5723\n",
            "Epoch 48/100\n",
            "1875/1875 [==============================] - 23s 12ms/step - loss: 1.0560 - accuracy: 0.5624 - val_loss: 1.0462 - val_accuracy: 0.5611\n",
            "Epoch 49/100\n",
            "1875/1875 [==============================] - 23s 12ms/step - loss: 1.0381 - accuracy: 0.5693 - val_loss: 1.0213 - val_accuracy: 0.5747\n",
            "Epoch 50/100\n",
            "1875/1875 [==============================] - 23s 12ms/step - loss: 1.0614 - accuracy: 0.5619 - val_loss: 1.0110 - val_accuracy: 0.5772\n",
            "Epoch 51/100\n",
            "1875/1875 [==============================] - 23s 12ms/step - loss: 1.0420 - accuracy: 0.5655 - val_loss: 1.0700 - val_accuracy: 0.5638\n",
            "Epoch 52/100\n",
            "1875/1875 [==============================] - 23s 12ms/step - loss: 1.0233 - accuracy: 0.5757 - val_loss: 1.0115 - val_accuracy: 0.5811\n",
            "Epoch 53/100\n",
            "1875/1875 [==============================] - 23s 12ms/step - loss: 1.0307 - accuracy: 0.5733 - val_loss: 1.0170 - val_accuracy: 0.5852\n",
            "Epoch 54/100\n",
            "1875/1875 [==============================] - 23s 12ms/step - loss: 1.0143 - accuracy: 0.5788 - val_loss: 0.9851 - val_accuracy: 0.5867\n",
            "Epoch 55/100\n",
            "1875/1875 [==============================] - 23s 12ms/step - loss: 1.0252 - accuracy: 0.5733 - val_loss: 0.9919 - val_accuracy: 0.5881\n",
            "Epoch 56/100\n",
            "1875/1875 [==============================] - 23s 12ms/step - loss: 1.0059 - accuracy: 0.5814 - val_loss: 0.9773 - val_accuracy: 0.5952\n",
            "Epoch 57/100\n",
            "1875/1875 [==============================] - 23s 12ms/step - loss: 1.0138 - accuracy: 0.5775 - val_loss: 1.0013 - val_accuracy: 0.5893\n",
            "Epoch 58/100\n",
            "1875/1875 [==============================] - 23s 12ms/step - loss: 0.9983 - accuracy: 0.5829 - val_loss: 0.9778 - val_accuracy: 0.5866\n",
            "Epoch 59/100\n",
            "1875/1875 [==============================] - 23s 12ms/step - loss: 0.9797 - accuracy: 0.5896 - val_loss: 0.9586 - val_accuracy: 0.5992\n",
            "Epoch 60/100\n",
            "1875/1875 [==============================] - 23s 12ms/step - loss: 0.9712 - accuracy: 0.5929 - val_loss: 0.9412 - val_accuracy: 0.6033\n",
            "Epoch 61/100\n",
            "1875/1875 [==============================] - 24s 13ms/step - loss: 0.9644 - accuracy: 0.5956 - val_loss: 0.9285 - val_accuracy: 0.6157\n",
            "Epoch 62/100\n",
            "1875/1875 [==============================] - 23s 12ms/step - loss: 0.9575 - accuracy: 0.5982 - val_loss: 0.9502 - val_accuracy: 0.6050\n",
            "Epoch 63/100\n",
            "1875/1875 [==============================] - 24s 13ms/step - loss: 0.9433 - accuracy: 0.6036 - val_loss: 0.9380 - val_accuracy: 0.6023\n",
            "Epoch 64/100\n",
            "1875/1875 [==============================] - 23s 12ms/step - loss: 0.9906 - accuracy: 0.5892 - val_loss: 0.9272 - val_accuracy: 0.6135\n",
            "Epoch 65/100\n",
            "1875/1875 [==============================] - 23s 12ms/step - loss: 0.9685 - accuracy: 0.5986 - val_loss: 0.9148 - val_accuracy: 0.6185\n",
            "Epoch 66/100\n",
            "1875/1875 [==============================] - 23s 12ms/step - loss: 0.9699 - accuracy: 0.5997 - val_loss: 1.1660 - val_accuracy: 0.5217\n",
            "Epoch 67/100\n",
            "1875/1875 [==============================] - 23s 12ms/step - loss: 1.0099 - accuracy: 0.5865 - val_loss: 0.9575 - val_accuracy: 0.6041\n",
            "Epoch 68/100\n",
            "1875/1875 [==============================] - 23s 12ms/step - loss: 0.9359 - accuracy: 0.6119 - val_loss: 0.9265 - val_accuracy: 0.6089\n",
            "Epoch 69/100\n",
            "1875/1875 [==============================] - 24s 13ms/step - loss: 0.9339 - accuracy: 0.6127 - val_loss: 0.9379 - val_accuracy: 0.6109\n",
            "Epoch 70/100\n",
            "1875/1875 [==============================] - 23s 12ms/step - loss: 0.9088 - accuracy: 0.6219 - val_loss: 0.8859 - val_accuracy: 0.6315\n",
            "Epoch 71/100\n",
            "1875/1875 [==============================] - 23s 12ms/step - loss: 0.8997 - accuracy: 0.6247 - val_loss: 0.8907 - val_accuracy: 0.6269\n",
            "Epoch 72/100\n",
            "1875/1875 [==============================] - 23s 12ms/step - loss: 0.9037 - accuracy: 0.6236 - val_loss: 0.8787 - val_accuracy: 0.6342\n",
            "Epoch 73/100\n",
            "1875/1875 [==============================] - 23s 12ms/step - loss: 0.9846 - accuracy: 0.6011 - val_loss: 0.9040 - val_accuracy: 0.6244\n",
            "Epoch 74/100\n",
            "1875/1875 [==============================] - 24s 13ms/step - loss: 0.8957 - accuracy: 0.6290 - val_loss: 0.9190 - val_accuracy: 0.6170\n",
            "Epoch 75/100\n",
            "1875/1875 [==============================] - 24s 13ms/step - loss: 0.8835 - accuracy: 0.6339 - val_loss: 0.8978 - val_accuracy: 0.6239\n",
            "Epoch 76/100\n",
            "1875/1875 [==============================] - 23s 12ms/step - loss: 0.8834 - accuracy: 0.6341 - val_loss: 0.8610 - val_accuracy: 0.6394\n",
            "Epoch 77/100\n",
            "1875/1875 [==============================] - 23s 13ms/step - loss: 0.8739 - accuracy: 0.6377 - val_loss: 0.8564 - val_accuracy: 0.6455\n",
            "Epoch 78/100\n",
            "1875/1875 [==============================] - 23s 12ms/step - loss: 0.8689 - accuracy: 0.6401 - val_loss: 0.8567 - val_accuracy: 0.6433\n",
            "Epoch 79/100\n",
            "1875/1875 [==============================] - 24s 13ms/step - loss: 0.8608 - accuracy: 0.6443 - val_loss: 0.8354 - val_accuracy: 0.6576\n",
            "Epoch 80/100\n",
            "1875/1875 [==============================] - 23s 12ms/step - loss: 0.8546 - accuracy: 0.6466 - val_loss: 0.8472 - val_accuracy: 0.6577\n",
            "Epoch 81/100\n",
            "1875/1875 [==============================] - 24s 13ms/step - loss: 0.8788 - accuracy: 0.6398 - val_loss: 0.8354 - val_accuracy: 0.6621\n",
            "Epoch 82/100\n",
            "1875/1875 [==============================] - 23s 12ms/step - loss: 0.8600 - accuracy: 0.6475 - val_loss: 0.8347 - val_accuracy: 0.6555\n",
            "Epoch 83/100\n",
            "1875/1875 [==============================] - 24s 13ms/step - loss: 0.8462 - accuracy: 0.6542 - val_loss: 0.8114 - val_accuracy: 0.6682\n",
            "Epoch 84/100\n",
            "1875/1875 [==============================] - 24s 13ms/step - loss: 0.8344 - accuracy: 0.6580 - val_loss: 0.8323 - val_accuracy: 0.6617\n",
            "Epoch 85/100\n",
            "1875/1875 [==============================] - 24s 13ms/step - loss: 0.8487 - accuracy: 0.6546 - val_loss: 0.8155 - val_accuracy: 0.6694\n",
            "Epoch 86/100\n",
            "1875/1875 [==============================] - 23s 13ms/step - loss: 0.8182 - accuracy: 0.6671 - val_loss: 0.7945 - val_accuracy: 0.6800\n",
            "Epoch 87/100\n",
            "1875/1875 [==============================] - 24s 13ms/step - loss: 0.8175 - accuracy: 0.6665 - val_loss: 0.7897 - val_accuracy: 0.6832\n",
            "Epoch 88/100\n",
            "1875/1875 [==============================] - 23s 12ms/step - loss: 0.8092 - accuracy: 0.6698 - val_loss: 0.8012 - val_accuracy: 0.6733\n",
            "Epoch 89/100\n",
            "1875/1875 [==============================] - 23s 12ms/step - loss: 0.8071 - accuracy: 0.6706 - val_loss: 0.7802 - val_accuracy: 0.6848\n",
            "Epoch 90/100\n",
            "1875/1875 [==============================] - 24s 13ms/step - loss: 0.8006 - accuracy: 0.6744 - val_loss: 0.7690 - val_accuracy: 0.6879\n",
            "Epoch 91/100\n",
            "1875/1875 [==============================] - 24s 13ms/step - loss: 0.7937 - accuracy: 0.6772 - val_loss: 0.7915 - val_accuracy: 0.6735\n",
            "Epoch 92/100\n",
            "1875/1875 [==============================] - 23s 12ms/step - loss: 0.7991 - accuracy: 0.6763 - val_loss: 0.7820 - val_accuracy: 0.6837\n",
            "Epoch 93/100\n",
            "1875/1875 [==============================] - 23s 12ms/step - loss: 0.7846 - accuracy: 0.6814 - val_loss: 0.7519 - val_accuracy: 0.6935\n",
            "Epoch 94/100\n",
            "1875/1875 [==============================] - 23s 12ms/step - loss: 0.7765 - accuracy: 0.6838 - val_loss: 0.7666 - val_accuracy: 0.6928\n",
            "Epoch 95/100\n",
            "1875/1875 [==============================] - 24s 13ms/step - loss: 0.7789 - accuracy: 0.6833 - val_loss: 0.7595 - val_accuracy: 0.6913\n",
            "Epoch 96/100\n",
            "1875/1875 [==============================] - 23s 12ms/step - loss: 0.7669 - accuracy: 0.6871 - val_loss: 0.7576 - val_accuracy: 0.6911\n",
            "Epoch 97/100\n",
            "1875/1875 [==============================] - 24s 13ms/step - loss: 0.7642 - accuracy: 0.6892 - val_loss: 0.7433 - val_accuracy: 0.6982\n",
            "Epoch 98/100\n",
            "1875/1875 [==============================] - 24s 13ms/step - loss: 0.7585 - accuracy: 0.6908 - val_loss: 0.7291 - val_accuracy: 0.7027\n",
            "Epoch 99/100\n",
            "1875/1875 [==============================] - 24s 13ms/step - loss: 0.7534 - accuracy: 0.6943 - val_loss: 0.7132 - val_accuracy: 0.7097\n",
            "Epoch 100/100\n",
            "1875/1875 [==============================] - 23s 12ms/step - loss: 0.7492 - accuracy: 0.6953 - val_loss: 0.7199 - val_accuracy: 0.7037\n"
          ]
        }
      ],
      "source": [
        "history = model.fit(X_train, y_train, batch_size=64, epochs=100, validation_data=(X_val, y_val))\n",
        "model.save('NewAllDataModel_E100_B64.h5')"
      ]
    },
    {
      "cell_type": "code",
      "execution_count": 30,
      "metadata": {
        "id": "R7QQeqVidKBR",
        "colab": {
          "base_uri": "https://localhost:8080/"
        },
        "outputId": "af02b0e0-0f6b-47bb-869a-38abf1ce41af"
      },
      "outputs": [
        {
          "output_type": "stream",
          "name": "stdout",
          "text": [
            "469/469 [==============================] - 3s 6ms/step - loss: 0.7142 - accuracy: 0.7075\n"
          ]
        }
      ],
      "source": [
        "test_acc = model.evaluate(X_test, y_test)"
      ]
    },
    {
      "cell_type": "code",
      "source": [
        "test_acc"
      ],
      "metadata": {
        "id": "6fuTmgGrUgGg",
        "colab": {
          "base_uri": "https://localhost:8080/"
        },
        "outputId": "0fd78d9f-0c28-4b09-e911-439b9fb2a82c"
      },
      "execution_count": 31,
      "outputs": [
        {
          "output_type": "execute_result",
          "data": {
            "text/plain": [
              "[0.7142305970191956, 0.7074666619300842]"
            ]
          },
          "metadata": {},
          "execution_count": 31
        }
      ]
    },
    {
      "cell_type": "code",
      "execution_count": 32,
      "metadata": {
        "id": "OHpifyqGdKn-",
        "colab": {
          "base_uri": "https://localhost:8080/"
        },
        "outputId": "3f054a6d-b39e-445e-eb5e-58b83cc57235"
      },
      "outputs": [
        {
          "output_type": "stream",
          "name": "stdout",
          "text": [
            "469/469 [==============================] - 3s 4ms/step\n"
          ]
        }
      ],
      "source": [
        "y_test_prob = model.predict(X_test, verbose=1)"
      ]
    },
    {
      "cell_type": "code",
      "source": [
        "np.set_printoptions(suppress=True)\n",
        "y_test_prob_backup = y_test_prob\n",
        "y_test_prob"
      ],
      "metadata": {
        "id": "rRPswrrkmhp2",
        "colab": {
          "base_uri": "https://localhost:8080/"
        },
        "outputId": "17ba1b39-2237-497c-b43c-265776c8db61"
      },
      "execution_count": 33,
      "outputs": [
        {
          "output_type": "execute_result",
          "data": {
            "text/plain": [
              "array([[0.00000042, 0.00000325, 0.01682015, ..., 0.45050564, 0.006566  ,\n",
              "        0.00006384],\n",
              "       [0.00000126, 0.00000011, 0.00019193, ..., 0.02287227, 0.00334455,\n",
              "        0.0000048 ],\n",
              "       [0.00027897, 0.00688039, 0.23821285, ..., 0.14083485, 0.30464658,\n",
              "        0.17514627],\n",
              "       ...,\n",
              "       [0.00379272, 0.00939235, 0.0373331 , ..., 0.00255958, 0.11948708,\n",
              "        0.82383674],\n",
              "       [0.00000229, 0.0000067 , 0.01165229, ..., 0.73507935, 0.03034177,\n",
              "        0.00049378],\n",
              "       [0.00004642, 0.0000618 , 0.02753441, ..., 0.21295707, 0.42272362,\n",
              "        0.06587298]], dtype=float32)"
            ]
          },
          "metadata": {},
          "execution_count": 33
        }
      ]
    },
    {
      "cell_type": "code",
      "source": [
        "plt.figure(figsize=(10,10))\n",
        "plt.hist(y_test_prob_backup)"
      ],
      "metadata": {
        "colab": {
          "base_uri": "https://localhost:8080/",
          "height": 951
        },
        "id": "qsgK5XvWjrAP",
        "outputId": "12b0755e-665c-480f-e662-c55af038a630"
      },
      "execution_count": 34,
      "outputs": [
        {
          "output_type": "execute_result",
          "data": {
            "text/plain": [
              "(array([[12991.,    24.,    10.,    13.,    17.,    16.,    18.,    21.,\n",
              "            40.,  1850.],\n",
              "        [12995.,    75.,    34.,    30.,    28.,    29.,    24.,    25.,\n",
              "            53.,  1707.],\n",
              "        [11424.,  1282.,   486.,   244.,   158.,   141.,    86.,    98.,\n",
              "           169.,   912.],\n",
              "        [ 9431.,  1687.,  1250.,   941.,   616.,   320.,   240.,   179.,\n",
              "           190.,   146.],\n",
              "        [ 8892.,  2378.,  1744.,   852.,   435.,   203.,   152.,   125.,\n",
              "           137.,    82.],\n",
              "        [ 9371.,  1566.,  1459.,  1119.,   658.,   354.,   217.,   178.,\n",
              "            74.,     4.],\n",
              "        [10339.,  1227.,   921.,   882.,   722.,   457.,   201.,   123.,\n",
              "           112.,    16.],\n",
              "        [11918.,   585.,   398.,   312.,   268.,   257.,   244.,   301.,\n",
              "           385.,   332.]]),\n",
              " array([0.        , 0.09999217, 0.19998434, 0.2999765 , 0.39996868,\n",
              "        0.49996084, 0.599953  , 0.69994515, 0.79993737, 0.8999295 ,\n",
              "        0.9999217 ], dtype=float32),\n",
              " <a list of 8 Lists of Patches objects>)"
            ]
          },
          "metadata": {},
          "execution_count": 34
        },
        {
          "output_type": "display_data",
          "data": {
            "text/plain": [
              "<Figure size 720x720 with 1 Axes>"
            ],
            "image/png": "[encoded data removed]"
          },
          "metadata": {
            "needs_background": "light"
          }
        }
      ]
    },
    {
      "cell_type": "code",
      "source": [
        "y_test_prob_backup[:10]"
      ],
      "metadata": {
        "colab": {
          "base_uri": "https://localhost:8080/"
        },
        "id": "M6Xj4ugPx610",
        "outputId": "3b648cb3-47b9-494f-8c23-7ecde5d20a3d"
      },
      "execution_count": 35,
      "outputs": [
        {
          "output_type": "execute_result",
          "data": {
            "text/plain": [
              "array([[0.00000042, 0.00000325, 0.01682015, 0.3033567 , 0.22268403,\n",
              "        0.45050564, 0.006566  , 0.00006384],\n",
              "       [0.00000126, 0.00000011, 0.00019193, 0.04747394, 0.9261112 ,\n",
              "        0.02287227, 0.00334455, 0.0000048 ],\n",
              "       [0.00027897, 0.00688039, 0.23821285, 0.05034336, 0.08365675,\n",
              "        0.14083485, 0.30464658, 0.17514627],\n",
              "       [0.00073931, 0.00326764, 0.02670042, 0.0013453 , 0.00577781,\n",
              "        0.00954943, 0.2558958 , 0.69672436],\n",
              "       [0.00001736, 0.00004062, 0.00286171, 0.01063988, 0.11550885,\n",
              "        0.46327078, 0.40104353, 0.00661728],\n",
              "       [0.00000058, 0.00000751, 0.03219066, 0.4872877 , 0.15537648,\n",
              "        0.32168764, 0.0033832 , 0.00006623],\n",
              "       [0.00000091, 0.00000247, 0.01743271, 0.43557894, 0.44521502,\n",
              "        0.09462605, 0.00698005, 0.00016378],\n",
              "       [0.00000781, 0.00000542, 0.01163325, 0.15570466, 0.63117987,\n",
              "        0.0993639 , 0.098777  , 0.00332813],\n",
              "       [0.00004838, 0.9998493 , 0.00009462, 0.00000339, 0.00000008,\n",
              "        0.00000047, 0.00000012, 0.0000036 ],\n",
              "       [0.00000241, 0.00000325, 0.00310452, 0.07706711, 0.3728961 ,\n",
              "        0.5073031 , 0.03934022, 0.00028324]], dtype=float32)"
            ]
          },
          "metadata": {},
          "execution_count": 35
        }
      ]
    },
    {
      "cell_type": "code",
      "source": [
        "c0, c1, c2, c3, c4, c5, c6, c7 = [], [], [], [], [], [], [], []\n",
        "\n",
        "i = 0\n",
        "l = len(y_test_prob_backup)\n",
        "while  l > 0:\n",
        "  c0.append(y_test_prob_backup[i][0])\n",
        "  c1.append(y_test_prob_backup[i][1])\n",
        "  c2.append(y_test_prob_backup[i][2])\n",
        "  c3.append(y_test_prob_backup[i][3])\n",
        "  c4.append(y_test_prob_backup[i][4])\n",
        "  c5.append(y_test_prob_backup[i][5])\n",
        "  c6.append(y_test_prob_backup[i][6])\n",
        "  c7.append(y_test_prob_backup[i][7])\n",
        "  i+=1\n",
        "  l-=1\n",
        "#print(c5[:10])"
      ],
      "metadata": {
        "id": "IjD61mD7yTuY"
      },
      "execution_count": 36,
      "outputs": []
    },
    {
      "cell_type": "code",
      "source": [
        "#plt.figure(figsize=(40,20))\n",
        "fig, axes = plt.subplots(nrows=2, ncols=4)\n",
        "ax0, ax1, ax2, ax3, ax4, ax5, ax6, ax7 = axes.flatten()\n",
        "\n",
        "ax0.hist(c0, bins=20)\n",
        "ax0.set_title(\"class 0\")\n",
        "ax1.hist(c1, bins=20)\n",
        "ax1.set_title(\"class 1\")\n",
        "ax2.hist(c2, bins=20)\n",
        "ax2.set_title(\"class 2\")\n",
        "ax3.hist(c3, bins=20)\n",
        "ax3.set_title(\"class 3\")\n",
        "ax4.hist(c4, bins=20)\n",
        "ax4.set_title(\"class 4\")\n",
        "ax5.hist(c5, bins=20)\n",
        "ax5.set_title(\"class 5\")\n",
        "ax6.hist(c6, bins=20)\n",
        "ax6.set_title(\"class 6\")\n",
        "ax7.hist(c7, bins=20)\n",
        "ax7.set_title(\"class 7\")\n",
        "\n",
        "fig.set_size_inches(25,10)\n",
        "plt.show()\n"
      ],
      "metadata": {
        "colab": {
          "base_uri": "https://localhost:8080/",
          "height": 443
        },
        "id": "z1rhvO7GCj7t",
        "outputId": "1aa096be-ec9d-456d-cdac-d66c7958097c"
      },
      "execution_count": 37,
      "outputs": [
        {
          "output_type": "display_data",
          "data": {
            "text/plain": [
              "<Figure size 1800x720 with 8 Axes>"
            ],
            "image/png": "[encoded data removed]"
          },
          "metadata": {
            "needs_background": "light"
          }
        }
      ]
    },
    {
      "cell_type": "code",
      "source": [
        "fig, axes = plt.subplots(nrows=2, ncols=4)\n",
        "ax0, ax1, ax2, ax3, ax4, ax5, ax6, ax7 = axes.flatten()\n",
        "\n",
        "ax0.plot(np.fft.fft(c0))\n",
        "ax0.set_title(\"class 0\")\n",
        "ax1.plot(np.fft.fft(c1))\n",
        "ax1.set_title(\"class 1\")\n",
        "ax2.plot(np.fft.fft(c2))\n",
        "ax2.set_title(\"class 2\")\n",
        "ax3.plot(np.fft.fft(c3))\n",
        "ax3.set_title(\"class 3\")\n",
        "ax4.plot(np.fft.fft(c4))\n",
        "ax4.set_title(\"class 4\")\n",
        "ax5.plot(np.fft.fft(c5))\n",
        "ax5.set_title(\"class 5\")\n",
        "ax6.plot(np.fft.fft(c6))\n",
        "ax6.set_title(\"class 6\")\n",
        "ax7.plot(np.fft.fft(c7))\n",
        "ax7.set_title(\"class 7\")\n",
        "\n",
        "fig.set_size_inches(25,10)\n",
        "plt.show()"
      ],
      "metadata": {
        "colab": {
          "base_uri": "https://localhost:8080/",
          "height": 445
        },
        "id": "42iDU40-KLvb",
        "outputId": "d9884546-3207-46c8-92de-6c97cf871451"
      },
      "execution_count": 38,
      "outputs": [
        {
          "output_type": "display_data",
          "data": {
            "text/plain": [
              "<Figure size 1800x720 with 8 Axes>"
            ],
            "image/png": "[encoded data removed]"
          },
          "metadata": {
            "needs_background": "light"
          }
        }
      ]
    },
    {
      "cell_type": "code",
      "execution_count": 39,
      "metadata": {
        "id": "AfmdrBILdMwj"
      },
      "outputs": [],
      "source": [
        "y_test_pred = np.where(y_test_prob > 0.8, 1, 0)"
      ]
    },
    {
      "cell_type": "code",
      "execution_count": 40,
      "metadata": {
        "id": "8DoJy_p9dPzN"
      },
      "outputs": [],
      "source": [
        "from sklearn.metrics import multilabel_confusion_matrix"
      ]
    },
    {
      "cell_type": "code",
      "source": [
        "y_test"
      ],
      "metadata": {
        "id": "n1Us2yrfcGl-",
        "colab": {
          "base_uri": "https://localhost:8080/"
        },
        "outputId": "eabe4154-6616-4837-cd3d-10b8cdab3f15"
      },
      "execution_count": 41,
      "outputs": [
        {
          "output_type": "execute_result",
          "data": {
            "text/plain": [
              "array([[0., 0., 0., ..., 1., 0., 0.],\n",
              "       [0., 0., 0., ..., 0., 0., 0.],\n",
              "       [0., 0., 0., ..., 0., 1., 0.],\n",
              "       ...,\n",
              "       [0., 1., 0., ..., 0., 0., 0.],\n",
              "       [0., 0., 0., ..., 1., 0., 0.],\n",
              "       [0., 0., 0., ..., 0., 1., 0.]])"
            ]
          },
          "metadata": {},
          "execution_count": 41
        }
      ]
    },
    {
      "cell_type": "code",
      "source": [
        "y_test.shape"
      ],
      "metadata": {
        "id": "VnmvTcvWbxr9",
        "colab": {
          "base_uri": "https://localhost:8080/"
        },
        "outputId": "ea700778-38fe-482e-bad5-8c259652ac25"
      },
      "execution_count": 42,
      "outputs": [
        {
          "output_type": "execute_result",
          "data": {
            "text/plain": [
              "(15000, 8)"
            ]
          },
          "metadata": {},
          "execution_count": 42
        }
      ]
    },
    {
      "cell_type": "code",
      "source": [
        "y_test_pred"
      ],
      "metadata": {
        "id": "nMBOgzrgcJBj",
        "colab": {
          "base_uri": "https://localhost:8080/"
        },
        "outputId": "2cb7f57a-73c5-48a9-94f9-ef2ed81cfa2c"
      },
      "execution_count": 43,
      "outputs": [
        {
          "output_type": "execute_result",
          "data": {
            "text/plain": [
              "array([[0, 0, 0, ..., 0, 0, 0],\n",
              "       [0, 0, 0, ..., 0, 0, 0],\n",
              "       [0, 0, 0, ..., 0, 0, 0],\n",
              "       ...,\n",
              "       [0, 0, 0, ..., 0, 0, 1],\n",
              "       [0, 0, 0, ..., 0, 0, 0],\n",
              "       [0, 0, 0, ..., 0, 0, 0]])"
            ]
          },
          "metadata": {},
          "execution_count": 43
        }
      ]
    },
    {
      "cell_type": "code",
      "source": [
        "y_test_pred.shape"
      ],
      "metadata": {
        "id": "SXKZof8Ye5uI",
        "colab": {
          "base_uri": "https://localhost:8080/"
        },
        "outputId": "8ba0fc25-e518-4707-fc7c-28abc541c5b6"
      },
      "execution_count": 44,
      "outputs": [
        {
          "output_type": "execute_result",
          "data": {
            "text/plain": [
              "(15000, 8)"
            ]
          },
          "metadata": {},
          "execution_count": 44
        }
      ]
    },
    {
      "cell_type": "code",
      "source": [
        "y_decoded_pred = tf.argmax(y_test_pred, axis = 1)"
      ],
      "metadata": {
        "id": "leDQwKOjgwwi"
      },
      "execution_count": 45,
      "outputs": []
    },
    {
      "cell_type": "code",
      "source": [
        "y_decoded = tf.argmax(y_test, axis = 1)"
      ],
      "metadata": {
        "id": "sAHRmtesif6g"
      },
      "execution_count": 46,
      "outputs": []
    },
    {
      "cell_type": "code",
      "source": [
        "y_decoded_pred"
      ],
      "metadata": {
        "id": "_lvFhrmPhprD",
        "colab": {
          "base_uri": "https://localhost:8080/"
        },
        "outputId": "4d0d656f-34b0-42a4-93db-8ed0f323059c"
      },
      "execution_count": 47,
      "outputs": [
        {
          "output_type": "execute_result",
          "data": {
            "text/plain": [
              "<tf.Tensor: shape=(15000,), dtype=int64, numpy=array([0, 4, 0, ..., 7, 0, 0])>"
            ]
          },
          "metadata": {},
          "execution_count": 47
        }
      ]
    },
    {
      "cell_type": "code",
      "source": [
        "y_decoded"
      ],
      "metadata": {
        "id": "YV1FXgHviPwm",
        "colab": {
          "base_uri": "https://localhost:8080/"
        },
        "outputId": "73bb057a-9059-4366-9589-1a7341406390"
      },
      "execution_count": 48,
      "outputs": [
        {
          "output_type": "execute_result",
          "data": {
            "text/plain": [
              "<tf.Tensor: shape=(15000,), dtype=int64, numpy=array([5, 4, 6, ..., 1, 5, 6])>"
            ]
          },
          "metadata": {},
          "execution_count": 48
        }
      ]
    },
    {
      "cell_type": "code",
      "source": [
        "y_test_pred = y_decoded_pred\n"
      ],
      "metadata": {
        "id": "6-6jFqzGh380"
      },
      "execution_count": 49,
      "outputs": []
    },
    {
      "cell_type": "code",
      "source": [
        "y_test = y_decoded"
      ],
      "metadata": {
        "id": "9pogVvdIiwss"
      },
      "execution_count": 50,
      "outputs": []
    },
    {
      "cell_type": "code",
      "source": [
        "y_test"
      ],
      "metadata": {
        "id": "oGt5aJetiKR6",
        "colab": {
          "base_uri": "https://localhost:8080/"
        },
        "outputId": "4461d95a-4fc3-46e3-cd0d-9c6c8e98bfdc"
      },
      "execution_count": 51,
      "outputs": [
        {
          "output_type": "execute_result",
          "data": {
            "text/plain": [
              "<tf.Tensor: shape=(15000,), dtype=int64, numpy=array([5, 4, 6, ..., 1, 5, 6])>"
            ]
          },
          "metadata": {},
          "execution_count": 51
        }
      ]
    },
    {
      "cell_type": "code",
      "source": [
        "y_test_pred"
      ],
      "metadata": {
        "id": "fLgDwAIfiyv2",
        "colab": {
          "base_uri": "https://localhost:8080/"
        },
        "outputId": "6de79254-21ed-41a6-eb56-a521d6e66dee"
      },
      "execution_count": 52,
      "outputs": [
        {
          "output_type": "execute_result",
          "data": {
            "text/plain": [
              "<tf.Tensor: shape=(15000,), dtype=int64, numpy=array([0, 4, 0, ..., 7, 0, 0])>"
            ]
          },
          "metadata": {},
          "execution_count": 52
        }
      ]
    },
    {
      "cell_type": "code",
      "execution_count": 53,
      "metadata": {
        "id": "fTCsPjW8dQaZ"
      },
      "outputs": [],
      "source": [
        "cfm=confusion_matrix(y_test, y_test_pred)"
      ]
    },
    {
      "cell_type": "code",
      "source": [
        "cfm"
      ],
      "metadata": {
        "id": "_67lPg6ic4cH",
        "colab": {
          "base_uri": "https://localhost:8080/"
        },
        "outputId": "d6da7078-e30a-4ceb-c34d-5460924f751c"
      },
      "execution_count": 54,
      "outputs": [
        {
          "output_type": "execute_result",
          "data": {
            "text/plain": [
              "array([[1915,    1,    0,    0,    0,    0,    0,    1],\n",
              "       [ 118, 1747,    9,    0,    0,    0,    0,    3],\n",
              "       [ 823,   11, 1026,    6,    0,    0,    0,    4],\n",
              "       [1475,    0,   38,  313,    2,    0,    0,    1],\n",
              "       [1550,    0,    3,   17,  210,    4,    0,    0],\n",
              "       [1825,    0,    4,    0,    6,   74,    1,    0],\n",
              "       [1725,    0,    1,    0,    1,    0,  124,   49],\n",
              "       [1250,    1,    0,    0,    0,    0,    3,  659]])"
            ]
          },
          "metadata": {},
          "execution_count": 54
        }
      ]
    },
    {
      "cell_type": "code",
      "source": [
        " print(classification_report(y_test,y_test_pred))"
      ],
      "metadata": {
        "id": "XTqR_xnwRWCJ",
        "colab": {
          "base_uri": "https://localhost:8080/"
        },
        "outputId": "98487e6f-7c9d-47c5-bf9d-e8cad363eb3c"
      },
      "execution_count": 55,
      "outputs": [
        {
          "output_type": "stream",
          "name": "stdout",
          "text": [
            "              precision    recall  f1-score   support\n",
            "\n",
            "           0       0.18      1.00      0.30      1917\n",
            "           1       0.99      0.93      0.96      1877\n",
            "           2       0.95      0.55      0.70      1870\n",
            "           3       0.93      0.17      0.29      1829\n",
            "           4       0.96      0.12      0.21      1784\n",
            "           5       0.95      0.04      0.07      1910\n",
            "           6       0.97      0.07      0.12      1900\n",
            "           7       0.92      0.34      0.50      1913\n",
            "\n",
            "    accuracy                           0.40     15000\n",
            "   macro avg       0.86      0.40      0.39     15000\n",
            "weighted avg       0.85      0.40      0.39     15000\n",
            "\n"
          ]
        }
      ]
    },
    {
      "cell_type": "code",
      "execution_count": 56,
      "metadata": {
        "id": "te3fslrY9Eca",
        "colab": {
          "base_uri": "https://localhost:8080/",
          "height": 900
        },
        "outputId": "4cc6d921-3f59-44ff-eee7-80340dde57fb"
      },
      "outputs": [
        {
          "output_type": "stream",
          "name": "stdout",
          "text": [
            "Confusion matrix, without normalization\n",
            "[[1915    1    0    0    0    0    0    1]\n",
            " [ 118 1747    9    0    0    0    0    3]\n",
            " [ 823   11 1026    6    0    0    0    4]\n",
            " [1475    0   38  313    2    0    0    1]\n",
            " [1550    0    3   17  210    4    0    0]\n",
            " [1825    0    4    0    6   74    1    0]\n",
            " [1725    0    1    0    1    0  124   49]\n",
            " [1250    1    0    0    0    0    3  659]]\n",
            "Normalized confusion matrix\n",
            "[[1.   0.   0.   0.   0.   0.   0.   0.  ]\n",
            " [0.06 0.93 0.   0.   0.   0.   0.   0.  ]\n",
            " [0.44 0.01 0.55 0.   0.   0.   0.   0.  ]\n",
            " [0.81 0.   0.02 0.17 0.   0.   0.   0.  ]\n",
            " [0.87 0.   0.   0.01 0.12 0.   0.   0.  ]\n",
            " [0.96 0.   0.   0.   0.   0.04 0.   0.  ]\n",
            " [0.91 0.   0.   0.   0.   0.   0.07 0.03]\n",
            " [0.65 0.   0.   0.   0.   0.   0.   0.34]]\n"
          ]
        },
        {
          "output_type": "display_data",
          "data": {
            "text/plain": [
              "<Figure size 432x288 with 2 Axes>"
            ],
            "image/png": "[encoded data removed]"
          },
          "metadata": {
            "needs_background": "light"
          }
        },
        {
          "output_type": "display_data",
          "data": {
            "text/plain": [
              "<Figure size 432x288 with 2 Axes>"
            ],
            "image/png": "[encoded data removed]"
          },
          "metadata": {
            "needs_background": "light"
          }
        }
      ],
      "source": [
        "import numpy as np\n",
        "import matplotlib.pyplot as plt\n",
        "\n",
        "from sklearn import svm, datasets\n",
        "from sklearn.model_selection import train_test_split\n",
        "from sklearn.metrics import confusion_matrix\n",
        "from sklearn.utils.multiclass import unique_labels\n",
        "\n",
        "class_names = np.array(['0', '1', '2', '3', '4', '5', '6', '7'])\n",
        "\n",
        "def plot_confusion_matrix(y_true, y_pred, classes,\n",
        "                          normalize=False,\n",
        "                          title=None,\n",
        "                          cmap=plt.cm.Blues):\n",
        "    \"\"\"\n",
        "    This function prints and plots the confusion matrix.\n",
        "    Normalization can be applied by setting `normalize=True`.\n",
        "    \"\"\"\n",
        "    if not title:\n",
        "        if normalize:\n",
        "            title = 'Normalized confusion matrix'\n",
        "        else:\n",
        "            title = 'Confusion matrix, without normalization'\n",
        "\n",
        "    # Compute confusion matrix\n",
        "    cm = confusion_matrix(y_true, y_pred)\n",
        "    # Only use the labels that appear in the data\n",
        "    classes = classes[unique_labels(y_true, y_pred)]\n",
        "    if normalize:\n",
        "        cm = cm.astype('float') / cm.sum(axis=1)[:, np.newaxis]\n",
        "        print(\"Normalized confusion matrix\")\n",
        "    else:\n",
        "        print('Confusion matrix, without normalization')\n",
        "\n",
        "    print(cm)\n",
        "\n",
        "    fig, ax = plt.subplots()\n",
        "    im = ax.imshow(cm, interpolation='nearest', cmap=cmap)\n",
        "    ax.figure.colorbar(im, ax=ax)\n",
        "    # We want to show all ticks...\n",
        "    ax.set(xticks=np.arange(cm.shape[1]),\n",
        "           yticks=np.arange(cm.shape[0]),\n",
        "           # ... and label them with the respective list entries\n",
        "           xticklabels=classes, yticklabels=classes,\n",
        "           title=title,\n",
        "           ylabel='True label',\n",
        "           xlabel='Predicted label')\n",
        "\n",
        "    # Rotate the tick labels and set their alignment.\n",
        "    plt.setp(ax.get_xticklabels(), rotation=45, ha=\"right\",\n",
        "             rotation_mode=\"anchor\")\n",
        "\n",
        "    # Loop over data dimensions and create text annotations.\n",
        "    fmt = '.2f' if normalize else 'd'\n",
        "    thresh = cm.max() / 2.\n",
        "    for i in range(cm.shape[0]):\n",
        "        for j in range(cm.shape[1]):\n",
        "            ax.text(j, i, format(cm[i, j], fmt),\n",
        "                    ha=\"center\", va=\"center\",\n",
        "                    color=\"white\" if cm[i, j] > thresh else \"black\")\n",
        "    fig.tight_layout()\n",
        "\n",
        "    return ax\n",
        "\n",
        "\n",
        "np.set_printoptions(precision=2)\n",
        "\n",
        "# Plot non-normalized confusion matrix\n",
        "plot_confusion_matrix(y_test, y_test_pred, classes=class_names,\n",
        "                      title='Confusion matrix, without normalization')\n",
        "\n",
        "# Plot normalized confusion matrix\n",
        "plot_confusion_matrix(y_test, y_test_pred, classes=class_names, normalize=True,\n",
        "                      title='Normalized confusion matrix')\n",
        "\n",
        "plt.show()"
      ]
    },
    {
      "cell_type": "code",
      "execution_count": 57,
      "metadata": {
        "id": "fhdLAhgPUnH3"
      },
      "outputs": [],
      "source": [
        "def plot_learningCurve(history, epoch):\n",
        "  # Plot training & validation accuracy values\n",
        "  epoch_range = range(1, epoch+1)\n",
        "  plt.plot(epoch_range, history.history['accuracy'])\n",
        "  plt.plot(epoch_range, history.history['val_accuracy'])\n",
        "  plt.title('Model accuracy')\n",
        "  plt.ylabel('Accuracy')\n",
        "  plt.xlabel('Epoch')\n",
        "  plt.legend(['Train', 'Val'], loc='upper left')\n",
        "  plt.show()\n",
        "\n",
        "  # Plot training & validation loss values\n",
        "  plt.plot(epoch_range, history.history['loss'])\n",
        "  plt.plot(epoch_range, history.history['val_loss'])\n",
        "  plt.title('Model loss')\n",
        "  plt.ylabel('Loss')\n",
        "  plt.xlabel('Epoch')\n",
        "  plt.legend(['Train', 'Val'], loc='upper left')\n",
        "  plt.show()"
      ]
    },
    {
      "cell_type": "code",
      "execution_count": 58,
      "metadata": {
        "id": "WlkQkWHgU5mL",
        "colab": {
          "base_uri": "https://localhost:8080/",
          "height": 581
        },
        "outputId": "4bf5ba95-88f0-4ad0-9c5e-6a4a90936775"
      },
      "outputs": [
        {
          "output_type": "display_data",
          "data": {
            "text/plain": [
              "<Figure size 432x288 with 1 Axes>"
            ],
            "image/png": "[encoded data removed]"
          },
          "metadata": {
            "needs_background": "light"
          }
        },
        {
          "output_type": "display_data",
          "data": {
            "text/plain": [
              "<Figure size 432x288 with 1 Axes>"
            ],
            "image/png": "[encoded data removed]"
          },
          "metadata": {
            "needs_background": "light"
          }
        }
      ],
      "source": [
        "plot_learningCurve(history, 100)"
      ]
    }
  ],
  "metadata": {
    "colab": {
      "collapsed_sections": [
        "f857kfHqUk0-"
      ],
      "name": "Multi_Class_MD_LSTM_step_200_files_120.ipynb",
      "provenance": [],
      "include_colab_link": true
    },
    "kernelspec": {
      "display_name": "Python 3",
      "name": "python3"
    },
    "language_info": {
      "name": "python"
    },
    "accelerator": "GPU"
  },
  "nbformat": 4,
  "nbformat_minor": 0
}