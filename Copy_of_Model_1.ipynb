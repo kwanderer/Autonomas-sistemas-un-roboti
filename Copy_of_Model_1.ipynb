{
  "metadata": {
    "kernelspec": {
      "language": "python",
      "display_name": "Python 3",
      "name": "python3"
    },
    "language_info": {
      "name": "python",
      "version": "3.7.12",
      "mimetype": "text/x-python",
      "codemirror_mode": {
        "name": "ipython",
        "version": 3
      },
      "pygments_lexer": "ipython3",
      "nbconvert_exporter": "python",
      "file_extension": ".py"
    },
    "colab": {
      "name": "Copy of Model 1.ipynb",
      "provenance": [],
      "collapsed_sections": [],
      "include_colab_link": true
    },
    "accelerator": "GPU"
  },
  "nbformat_minor": 0,
  "nbformat": 4,
  "cells": [
    {
      "cell_type": "markdown",
      "metadata": {
        "id": "view-in-github",
        "colab_type": "text"
      },
      "source": [
        "<a href=\"https://colab.research.google.com/github/kwanderer/Autonomas-sistemas-un-roboti/blob/main/Copy_of_Model_1.ipynb\" target=\"_parent\"><img src=\"https://colab.research.google.com/assets/colab-badge.svg\" alt=\"Open In Colab\"/></a>"
      ]
    },
    {
      "cell_type": "code",
      "source": [
        "import sys\n",
        "import numpy as np\n",
        "import pandas as pd\n",
        "import tensorflow as tf\n",
        "import matplotlib.pyplot as plt\n",
        "from sklearn.model_selection import train_test_split\n",
        "from sklearn import preprocessing\n",
        "from sklearn.preprocessing import StandardScaler\n",
        "from sklearn.metrics import classification_report\n",
        "import warnings\n",
        "warnings.filterwarnings('ignore')\n",
        "plt.style.use('ggplot')\n",
        "import seaborn as sns \n",
        "%matplotlib inline"
      ],
      "metadata": {
        "execution": {
          "iopub.status.busy": "2022-03-09T19:23:03.253803Z",
          "iopub.execute_input": "2022-03-09T19:23:03.254417Z",
          "iopub.status.idle": "2022-03-09T19:23:08.469110Z",
          "shell.execute_reply.started": "2022-03-09T19:23:03.254272Z",
          "shell.execute_reply": "2022-03-09T19:23:08.468330Z"
        },
        "trusted": true,
        "id": "ssTvuSFNDBbX"
      },
      "execution_count": 1,
      "outputs": []
    },
    {
      "cell_type": "code",
      "source": [
        "from google.colab import drive\n",
        "import os\n",
        "drive.mount('/content/gdrive')\n",
        "#os.chdir(\"/content/gdrive/MyDrive/Colab Notebooks/data_binary/\")\n",
        "os.chdir(\"/content/gdrive/MyDrive/Colab Notebooks/data_multiclass/\")"
      ],
      "metadata": {
        "execution": {
          "iopub.status.busy": "2022-03-09T19:23:08.470930Z",
          "iopub.execute_input": "2022-03-09T19:23:08.471203Z",
          "iopub.status.idle": "2022-03-09T19:23:12.713130Z",
          "shell.execute_reply.started": "2022-03-09T19:23:08.471159Z",
          "shell.execute_reply": "2022-03-09T19:23:12.712327Z"
        },
        "trusted": true,
        "colab": {
          "base_uri": "https://localhost:8080/"
        },
        "id": "-zoH04gSDBbg",
        "outputId": "02954f81-0807-42f2-cf5e-a6184e06185a"
      },
      "execution_count": 2,
      "outputs": [
        {
          "output_type": "stream",
          "name": "stdout",
          "text": [
            "Mounted at /content/gdrive\n"
          ]
        }
      ]
    },
    {
      "cell_type": "code",
      "source": [
        "#df = pd.read_csv(\"binary_data_csv.csv\")\n",
        "df = pd.read_csv(\"combined_multiclass_csv.csv\")"
      ],
      "metadata": {
        "id": "rTZHPrFSDyvN"
      },
      "execution_count": 3,
      "outputs": []
    },
    {
      "cell_type": "code",
      "source": [
        "df.head()"
      ],
      "metadata": {
        "execution": {
          "iopub.status.busy": "2022-03-09T19:23:12.714704Z",
          "iopub.execute_input": "2022-03-09T19:23:12.714987Z",
          "iopub.status.idle": "2022-03-09T19:23:12.755981Z",
          "shell.execute_reply.started": "2022-03-09T19:23:12.714948Z",
          "shell.execute_reply": "2022-03-09T19:23:12.755126Z"
        },
        "trusted": true,
        "colab": {
          "base_uri": "https://localhost:8080/",
          "height": 305
        },
        "id": "NIZTvAfsDBbh",
        "outputId": "6f9c743c-0664-48ff-c1b2-0789059075cb"
      },
      "execution_count": 4,
      "outputs": [
        {
          "output_type": "execute_result",
          "data": {
            "text/plain": [
              "   tachometer  und-accelerometer-axial  und-accelerometer-radial  \\\n",
              "0    -0.59640                  1.65690                   0.20359   \n",
              "1    -0.52322                 -0.28902                  -0.31740   \n",
              "2    -0.55320                  1.64770                   0.41715   \n",
              "3    -0.57723                  0.15914                  -0.33321   \n",
              "4    -0.49280                  1.31650                   0.41147   \n",
              "\n",
              "   und-accelerometer-tangential  over-accelerometer-axial  \\\n",
              "0                      0.048174                  -0.18477   \n",
              "1                     -0.001450                  -0.19779   \n",
              "2                      0.038655                  -0.18563   \n",
              "3                     -0.011148                  -0.19892   \n",
              "4                      0.028096                  -0.19165   \n",
              "\n",
              "   over-accelerometer-radial  over-accelerometer-tangential  microphone  Class  \n",
              "0                  -0.021301                       -0.18447   -0.017205      7  \n",
              "1                  -0.023694                       -0.28712   -0.018203      7  \n",
              "2                  -0.021564                       -0.21215   -0.072039      7  \n",
              "3                  -0.025401                       -0.30076   -0.007373      7  \n",
              "4                  -0.022879                       -0.24147   -0.108590      7  "
            ],
            "text/html": [
              "\n",
              "  <div id=\"df-e463901b-d0ab-43fb-b30e-666949c35ab1\">\n",
              "    <div class=\"colab-df-container\">\n",
              "      <div>\n",
              "<style scoped>\n",
              "    .dataframe tbody tr th:only-of-type {\n",
              "        vertical-align: middle;\n",
              "    }\n",
              "\n",
              "    .dataframe tbody tr th {\n",
              "        vertical-align: top;\n",
              "    }\n",
              "\n",
              "    .dataframe thead th {\n",
              "        text-align: right;\n",
              "    }\n",
              "</style>\n",
              "<table border=\"1\" class=\"dataframe\">\n",
              "  <thead>\n",
              "    <tr style=\"text-align: right;\">\n",
              "      <th></th>\n",
              "      <th>tachometer</th>\n",
              "      <th>und-accelerometer-axial</th>\n",
              "      <th>und-accelerometer-radial</th>\n",
              "      <th>und-accelerometer-tangential</th>\n",
              "      <th>over-accelerometer-axial</th>\n",
              "      <th>over-accelerometer-radial</th>\n",
              "      <th>over-accelerometer-tangential</th>\n",
              "      <th>microphone</th>\n",
              "      <th>Class</th>\n",
              "    </tr>\n",
              "  </thead>\n",
              "  <tbody>\n",
              "    <tr>\n",
              "      <th>0</th>\n",
              "      <td>-0.59640</td>\n",
              "      <td>1.65690</td>\n",
              "      <td>0.20359</td>\n",
              "      <td>0.048174</td>\n",
              "      <td>-0.18477</td>\n",
              "      <td>-0.021301</td>\n",
              "      <td>-0.18447</td>\n",
              "      <td>-0.017205</td>\n",
              "      <td>7</td>\n",
              "    </tr>\n",
              "    <tr>\n",
              "      <th>1</th>\n",
              "      <td>-0.52322</td>\n",
              "      <td>-0.28902</td>\n",
              "      <td>-0.31740</td>\n",
              "      <td>-0.001450</td>\n",
              "      <td>-0.19779</td>\n",
              "      <td>-0.023694</td>\n",
              "      <td>-0.28712</td>\n",
              "      <td>-0.018203</td>\n",
              "      <td>7</td>\n",
              "    </tr>\n",
              "    <tr>\n",
              "      <th>2</th>\n",
              "      <td>-0.55320</td>\n",
              "      <td>1.64770</td>\n",
              "      <td>0.41715</td>\n",
              "      <td>0.038655</td>\n",
              "      <td>-0.18563</td>\n",
              "      <td>-0.021564</td>\n",
              "      <td>-0.21215</td>\n",
              "      <td>-0.072039</td>\n",
              "      <td>7</td>\n",
              "    </tr>\n",
              "    <tr>\n",
              "      <th>3</th>\n",
              "      <td>-0.57723</td>\n",
              "      <td>0.15914</td>\n",
              "      <td>-0.33321</td>\n",
              "      <td>-0.011148</td>\n",
              "      <td>-0.19892</td>\n",
              "      <td>-0.025401</td>\n",
              "      <td>-0.30076</td>\n",
              "      <td>-0.007373</td>\n",
              "      <td>7</td>\n",
              "    </tr>\n",
              "    <tr>\n",
              "      <th>4</th>\n",
              "      <td>-0.49280</td>\n",
              "      <td>1.31650</td>\n",
              "      <td>0.41147</td>\n",
              "      <td>0.028096</td>\n",
              "      <td>-0.19165</td>\n",
              "      <td>-0.022879</td>\n",
              "      <td>-0.24147</td>\n",
              "      <td>-0.108590</td>\n",
              "      <td>7</td>\n",
              "    </tr>\n",
              "  </tbody>\n",
              "</table>\n",
              "</div>\n",
              "      <button class=\"colab-df-convert\" onclick=\"convertToInteractive('df-e463901b-d0ab-43fb-b30e-666949c35ab1')\"\n",
              "              title=\"Convert this dataframe to an interactive table.\"\n",
              "              style=\"display:none;\">\n",
              "        \n",
              "  <svg xmlns=\"http://www.w3.org/2000/svg\" height=\"24px\"viewBox=\"0 0 24 24\"\n",
              "       width=\"24px\">\n",
              "    <path d=\"M0 0h24v24H0V0z\" fill=\"none\"/>\n",
              "    <path d=\"M18.56 5.44l.94 2.06.94-2.06 2.06-.94-2.06-.94-.94-2.06-.94 2.06-2.06.94zm-11 1L8.5 8.5l.94-2.06 2.06-.94-2.06-.94L8.5 2.5l-.94 2.06-2.06.94zm10 10l.94 2.06.94-2.06 2.06-.94-2.06-.94-.94-2.06-.94 2.06-2.06.94z\"/><path d=\"M17.41 7.96l-1.37-1.37c-.4-.4-.92-.59-1.43-.59-.52 0-1.04.2-1.43.59L10.3 9.45l-7.72 7.72c-.78.78-.78 2.05 0 2.83L4 21.41c.39.39.9.59 1.41.59.51 0 1.02-.2 1.41-.59l7.78-7.78 2.81-2.81c.8-.78.8-2.07 0-2.86zM5.41 20L4 18.59l7.72-7.72 1.47 1.35L5.41 20z\"/>\n",
              "  </svg>\n",
              "      </button>\n",
              "      \n",
              "  <style>\n",
              "    .colab-df-container {\n",
              "      display:flex;\n",
              "      flex-wrap:wrap;\n",
              "      gap: 12px;\n",
              "    }\n",
              "\n",
              "    .colab-df-convert {\n",
              "      background-color: #E8F0FE;\n",
              "      border: none;\n",
              "      border-radius: 50%;\n",
              "      cursor: pointer;\n",
              "      display: none;\n",
              "      fill: #1967D2;\n",
              "      height: 32px;\n",
              "      padding: 0 0 0 0;\n",
              "      width: 32px;\n",
              "    }\n",
              "\n",
              "    .colab-df-convert:hover {\n",
              "      background-color: #E2EBFA;\n",
              "      box-shadow: 0px 1px 2px rgba(60, 64, 67, 0.3), 0px 1px 3px 1px rgba(60, 64, 67, 0.15);\n",
              "      fill: #174EA6;\n",
              "    }\n",
              "\n",
              "    [theme=dark] .colab-df-convert {\n",
              "      background-color: #3B4455;\n",
              "      fill: #D2E3FC;\n",
              "    }\n",
              "\n",
              "    [theme=dark] .colab-df-convert:hover {\n",
              "      background-color: #434B5C;\n",
              "      box-shadow: 0px 1px 3px 1px rgba(0, 0, 0, 0.15);\n",
              "      filter: drop-shadow(0px 1px 2px rgba(0, 0, 0, 0.3));\n",
              "      fill: #FFFFFF;\n",
              "    }\n",
              "  </style>\n",
              "\n",
              "      <script>\n",
              "        const buttonEl =\n",
              "          document.querySelector('#df-e463901b-d0ab-43fb-b30e-666949c35ab1 button.colab-df-convert');\n",
              "        buttonEl.style.display =\n",
              "          google.colab.kernel.accessAllowed ? 'block' : 'none';\n",
              "\n",
              "        async function convertToInteractive(key) {\n",
              "          const element = document.querySelector('#df-e463901b-d0ab-43fb-b30e-666949c35ab1');\n",
              "          const dataTable =\n",
              "            await google.colab.kernel.invokeFunction('convertToInteractive',\n",
              "                                                     [key], {});\n",
              "          if (!dataTable) return;\n",
              "\n",
              "          const docLinkHtml = 'Like what you see? Visit the ' +\n",
              "            '<a target=\"_blank\" href=https://colab.research.google.com/notebooks/data_table.ipynb>data table notebook</a>'\n",
              "            + ' to learn more about interactive tables.';\n",
              "          element.innerHTML = '';\n",
              "          dataTable['output_type'] = 'display_data';\n",
              "          await google.colab.output.renderOutput(dataTable, element);\n",
              "          const docLink = document.createElement('div');\n",
              "          docLink.innerHTML = docLinkHtml;\n",
              "          element.appendChild(docLink);\n",
              "        }\n",
              "      </script>\n",
              "    </div>\n",
              "  </div>\n",
              "  "
            ]
          },
          "metadata": {},
          "execution_count": 4
        }
      ]
    },
    {
      "cell_type": "code",
      "source": [
        "print('This data frame has {} rows and {} columns.'.format(df.shape[0], df.shape[1]))"
      ],
      "metadata": {
        "execution": {
          "iopub.status.busy": "2022-03-09T19:23:12.757255Z",
          "iopub.execute_input": "2022-03-09T19:23:12.757987Z",
          "iopub.status.idle": "2022-03-09T19:23:12.764342Z",
          "shell.execute_reply.started": "2022-03-09T19:23:12.757941Z",
          "shell.execute_reply": "2022-03-09T19:23:12.763522Z"
        },
        "trusted": true,
        "colab": {
          "base_uri": "https://localhost:8080/"
        },
        "id": "arZi9AlaDBbj",
        "outputId": "eddd443e-2cfe-4ca5-dea2-3c011739320e"
      },
      "execution_count": 5,
      "outputs": [
        {
          "output_type": "stream",
          "name": "stdout",
          "text": [
            "This data frame has 30000000 rows and 9 columns.\n"
          ]
        }
      ]
    },
    {
      "cell_type": "code",
      "source": [
        "sequence_length = 200"
      ],
      "metadata": {
        "id": "sQuCtzlWHtuA"
      },
      "execution_count": 6,
      "outputs": []
    },
    {
      "cell_type": "code",
      "source": [
        "def generate_data(X, y, sequence_length = 200, step = 200):\n",
        "    X_local = []\n",
        "    y_local = []\n",
        "    for start in range(0, len(df) - sequence_length, step):\n",
        "        end = start + sequence_length\n",
        "        X_local.append(X[start:end])\n",
        "        y_local.append(y[end-1])\n",
        "    return np.array(X_local), np.array(y_local)\n",
        "\n",
        "X_sequence, y = generate_data(df.loc[:, [\"tachometer\", \"und-accelerometer-axial\", \"und-accelerometer-radial\", \"und-accelerometer-tangential\", \"over-accelerometer-axial\", \"over-accelerometer-radial\", \"over-accelerometer-tangential\", \"microphone\"]].values, df.Class)\n",
        "#X_sequence, y = generate_data(data.loc[:, [\"und-accelerometer-axial\", \"und-accelerometer-radial\", \"und-accelerometer-tangential\", \"microphone\"]].values, data.Class)\n"
      ],
      "metadata": {
        "id": "t8BAt_GCHwHJ"
      },
      "execution_count": 7,
      "outputs": []
    },
    {
      "cell_type": "code",
      "source": [
        "X_sequence.shape, y.shape"
      ],
      "metadata": {
        "colab": {
          "base_uri": "https://localhost:8080/"
        },
        "id": "QDTrbvinHxLi",
        "outputId": "209c7a0c-0cb8-4bb2-f6ad-b45faf8554aa"
      },
      "execution_count": 8,
      "outputs": [
        {
          "output_type": "execute_result",
          "data": {
            "text/plain": [
              "((149999, 200, 8), (149999,))"
            ]
          },
          "metadata": {},
          "execution_count": 8
        }
      ]
    },
    {
      "cell_type": "code",
      "source": [
        "#count of fraud vs. normal transactions \n",
        "\n",
        "counts = df.Class.value_counts()\n",
        "#normal = counts[0]\n",
        "#imbalance = counts[1]\n",
        "#perc_normal = (normal/(normal+imbalance))*100\n",
        "#perc_imbalance = (imbalance/(normal+imbalance))*100\n",
        "#print('There were {} normal data ({:.3f}%) and {} imbalance transactions ({:.3f}%).'.format(normal, perc_normal, imbalance, perc_imbalance))"
      ],
      "metadata": {
        "execution": {
          "iopub.status.busy": "2022-03-09T19:23:12.766985Z",
          "iopub.execute_input": "2022-03-09T19:23:12.767640Z",
          "iopub.status.idle": "2022-03-09T19:23:12.783789Z",
          "shell.execute_reply.started": "2022-03-09T19:23:12.767597Z",
          "shell.execute_reply": "2022-03-09T19:23:12.782867Z"
        },
        "trusted": true,
        "id": "eA2qdt1gDBbl"
      },
      "execution_count": 9,
      "outputs": []
    },
    {
      "cell_type": "code",
      "source": [
        "#plt.figure(figsize=(10,8))\n",
        "#sns.barplot(X_sequence=counts.index, y=counts)\n",
        "#plt.title('Normal vs. Imbalance')\n",
        "#plt.ylabel('Count')\n",
        "#plt.xlabel('Class (0:Normal, 1:Imbalance)')"
      ],
      "metadata": {
        "execution": {
          "iopub.status.busy": "2022-03-09T19:23:12.786086Z",
          "iopub.execute_input": "2022-03-09T19:23:12.786478Z",
          "iopub.status.idle": "2022-03-09T19:23:13.024171Z",
          "shell.execute_reply.started": "2022-03-09T19:23:12.786436Z",
          "shell.execute_reply": "2022-03-09T19:23:13.023484Z"
        },
        "trusted": true,
        "id": "P3Dh62YzDBbn"
      },
      "execution_count": 10,
      "outputs": []
    },
    {
      "cell_type": "code",
      "source": [
        "#finding correlation between columns and plotting heatmap\n",
        "\n",
        "corr = df.corr()\n",
        "plt.figure(figsize=(12,10))\n",
        "heat = sns.heatmap(data=corr)\n",
        "plt.title('Heatmap of Correlation')"
      ],
      "metadata": {
        "execution": {
          "iopub.status.busy": "2022-03-09T19:23:13.025311Z",
          "iopub.execute_input": "2022-03-09T19:23:13.025868Z",
          "iopub.status.idle": "2022-03-09T19:23:14.431178Z",
          "shell.execute_reply.started": "2022-03-09T19:23:13.025827Z",
          "shell.execute_reply": "2022-03-09T19:23:14.430421Z"
        },
        "trusted": true,
        "colab": {
          "base_uri": "https://localhost:8080/",
          "height": 618
        },
        "id": "UqKCOanUDBbo",
        "outputId": "3e4c1a3c-c775-4a6a-bb70-34eda3586b72"
      },
      "execution_count": 11,
      "outputs": [
        {
          "output_type": "execute_result",
          "data": {
            "text/plain": [
              "Text(0.5, 1.0, 'Heatmap of Correlation')"
            ]
          },
          "metadata": {},
          "execution_count": 11
        },
        {
          "output_type": "display_data",
          "data": {
            "text/plain": [
              "<Figure size 864x720 with 2 Axes>"
            ],
            "image/png": "[encoded data removed]"
          },
          "metadata": {
            "needs_background": "light"
          }
        }
      ]
    },
    {
      "cell_type": "code",
      "source": [
        "df.isnull().sum()"
      ],
      "metadata": {
        "execution": {
          "iopub.status.busy": "2022-03-09T19:23:14.432637Z",
          "iopub.execute_input": "2022-03-09T19:23:14.433073Z",
          "iopub.status.idle": "2022-03-09T19:23:14.460344Z",
          "shell.execute_reply.started": "2022-03-09T19:23:14.433032Z",
          "shell.execute_reply": "2022-03-09T19:23:14.459495Z"
        },
        "trusted": true,
        "colab": {
          "base_uri": "https://localhost:8080/"
        },
        "id": "uj4iNgxZDBbq",
        "outputId": "a4e9ca87-32c1-41a4-b7c0-1f30f91aa4a7"
      },
      "execution_count": 12,
      "outputs": [
        {
          "output_type": "execute_result",
          "data": {
            "text/plain": [
              "tachometer                       0\n",
              "und-accelerometer-axial          0\n",
              "und-accelerometer-radial         0\n",
              "und-accelerometer-tangential     0\n",
              "over-accelerometer-axial         0\n",
              "over-accelerometer-radial        0\n",
              "over-accelerometer-tangential    0\n",
              "microphone                       0\n",
              "Class                            0\n",
              "dtype: int64"
            ]
          },
          "metadata": {},
          "execution_count": 12
        }
      ]
    },
    {
      "cell_type": "code",
      "source": [
        "df.info()"
      ],
      "metadata": {
        "execution": {
          "iopub.status.busy": "2022-03-09T19:23:14.461935Z",
          "iopub.execute_input": "2022-03-09T19:23:14.462215Z",
          "iopub.status.idle": "2022-03-09T19:23:14.497983Z",
          "shell.execute_reply.started": "2022-03-09T19:23:14.462165Z",
          "shell.execute_reply": "2022-03-09T19:23:14.497096Z"
        },
        "trusted": true,
        "colab": {
          "base_uri": "https://localhost:8080/"
        },
        "id": "oF2RDWabDBbs",
        "outputId": "7c2d2c23-3b0c-4c28-f650-c4a898dc9beb"
      },
      "execution_count": 13,
      "outputs": [
        {
          "output_type": "stream",
          "name": "stdout",
          "text": [
            "<class 'pandas.core.frame.DataFrame'>\n",
            "RangeIndex: 30000000 entries, 0 to 29999999\n",
            "Data columns (total 9 columns):\n",
            " #   Column                         Dtype  \n",
            "---  ------                         -----  \n",
            " 0   tachometer                     float64\n",
            " 1   und-accelerometer-axial        float64\n",
            " 2   und-accelerometer-radial       float64\n",
            " 3   und-accelerometer-tangential   float64\n",
            " 4   over-accelerometer-axial       float64\n",
            " 5   over-accelerometer-radial      float64\n",
            " 6   over-accelerometer-tangential  float64\n",
            " 7   microphone                     float64\n",
            " 8   Class                          int64  \n",
            "dtypes: float64(8), int64(1)\n",
            "memory usage: 2.0 GB\n"
          ]
        }
      ]
    },
    {
      "cell_type": "code",
      "source": [
        "data=df.copy()"
      ],
      "metadata": {
        "id": "SAeHnxOIV8MT"
      },
      "execution_count": 14,
      "outputs": []
    },
    {
      "cell_type": "code",
      "source": [
        "data.info()"
      ],
      "metadata": {
        "colab": {
          "base_uri": "https://localhost:8080/"
        },
        "id": "tSM1lWrcV-0Q",
        "outputId": "705ed70c-8ae5-4bcb-afd1-14d27f140cdf"
      },
      "execution_count": 15,
      "outputs": [
        {
          "output_type": "stream",
          "name": "stdout",
          "text": [
            "<class 'pandas.core.frame.DataFrame'>\n",
            "RangeIndex: 30000000 entries, 0 to 29999999\n",
            "Data columns (total 9 columns):\n",
            " #   Column                         Dtype  \n",
            "---  ------                         -----  \n",
            " 0   tachometer                     float64\n",
            " 1   und-accelerometer-axial        float64\n",
            " 2   und-accelerometer-radial       float64\n",
            " 3   und-accelerometer-tangential   float64\n",
            " 4   over-accelerometer-axial       float64\n",
            " 5   over-accelerometer-radial      float64\n",
            " 6   over-accelerometer-tangential  float64\n",
            " 7   microphone                     float64\n",
            " 8   Class                          int64  \n",
            "dtypes: float64(8), int64(1)\n",
            "memory usage: 2.0 GB\n"
          ]
        }
      ]
    },
    {
      "cell_type": "code",
      "source": [
        "df = 0"
      ],
      "metadata": {
        "id": "X7yTl6skVBdf"
      },
      "execution_count": 16,
      "outputs": []
    },
    {
      "cell_type": "markdown",
      "source": [
        "**Model-1(Over Sampling)**"
      ],
      "metadata": {
        "id": "sfJm8G7MDBbw"
      }
    },
    {
      "cell_type": "code",
      "source": [
        "# Create two different dataframes of majority and minority class \n",
        "#df_fraud = data[data.Class==1]\n",
        "#df_non_fraud = data[data.Class==0]\n",
        "\n",
        "# Oversample the minority class\n",
        "#from sklearn.utils import resample\n",
        "#df_fraud_oversampled = resample(df_fraud, \n",
        "#                                 replace=True,    # sample with replacement\n",
        "#                                 n_samples=len(df_non_fraud) , # to match majority class with len(df_majority) rows\n",
        "#                                 random_state=42)  # reproducible results\n",
        "\n",
        "# Combine majority class with oversampled minority class\n",
        "#df_oversampled = pd.concat([df_fraud_oversampled, df_non_fraud])"
      ],
      "metadata": {
        "execution": {
          "iopub.status.busy": "2022-03-09T19:23:14.568720Z",
          "iopub.execute_input": "2022-03-09T19:23:14.569000Z",
          "iopub.status.idle": "2022-03-09T19:23:14.683613Z",
          "shell.execute_reply.started": "2022-03-09T19:23:14.568964Z",
          "shell.execute_reply": "2022-03-09T19:23:14.682826Z"
        },
        "trusted": true,
        "id": "SoSbDG7ADBbz"
      },
      "execution_count": 17,
      "outputs": []
    },
    {
      "cell_type": "code",
      "source": [
        "#df_oversampled.Class.value_counts()"
      ],
      "metadata": {
        "execution": {
          "iopub.status.busy": "2022-03-09T19:23:14.685296Z",
          "iopub.execute_input": "2022-03-09T19:23:14.685566Z",
          "iopub.status.idle": "2022-03-09T19:23:14.695024Z",
          "shell.execute_reply.started": "2022-03-09T19:23:14.685530Z",
          "shell.execute_reply": "2022-03-09T19:23:14.694258Z"
        },
        "trusted": true,
        "id": "QREWWAaBDBb0"
      },
      "execution_count": 18,
      "outputs": []
    },
    {
      "cell_type": "code",
      "source": [
        "#g = sns.countplot(df_oversampled.Class)\n",
        "#g.set_xticklabels(['Normal','Imbalance'])"
      ],
      "metadata": {
        "execution": {
          "iopub.status.busy": "2022-03-09T19:23:14.699945Z",
          "iopub.execute_input": "2022-03-09T19:23:14.700544Z",
          "iopub.status.idle": "2022-03-09T19:23:14.914051Z",
          "shell.execute_reply.started": "2022-03-09T19:23:14.700504Z",
          "shell.execute_reply": "2022-03-09T19:23:14.913247Z"
        },
        "trusted": true,
        "id": "kAiI821mDBb1"
      },
      "execution_count": 19,
      "outputs": []
    },
    {
      "cell_type": "code",
      "source": [
        "# Target y and features X for developing NN models\n",
        "#y = df_oversampled.Class\n",
        "#X = df_oversampled.drop(['Class'], axis=1)"
      ],
      "metadata": {
        "execution": {
          "iopub.status.busy": "2022-03-09T19:23:14.915669Z",
          "iopub.execute_input": "2022-03-09T19:23:14.916177Z",
          "iopub.status.idle": "2022-03-09T19:23:14.967971Z",
          "shell.execute_reply.started": "2022-03-09T19:23:14.916138Z",
          "shell.execute_reply": "2022-03-09T19:23:14.967121Z"
        },
        "trusted": true,
        "id": "aHoU-OocDBb3"
      },
      "execution_count": 20,
      "outputs": []
    },
    {
      "cell_type": "code",
      "source": [
        "from sklearn.model_selection import train_test_split\n",
        "from sklearn.metrics import recall_score, precision_score, f1_score, roc_auc_score, confusion_matrix, roc_curve, roc_auc_score"
      ],
      "metadata": {
        "execution": {
          "iopub.status.busy": "2022-03-09T19:23:14.969061Z",
          "iopub.execute_input": "2022-03-09T19:23:14.969319Z",
          "iopub.status.idle": "2022-03-09T19:23:14.978210Z",
          "shell.execute_reply.started": "2022-03-09T19:23:14.969291Z",
          "shell.execute_reply": "2022-03-09T19:23:14.977270Z"
        },
        "trusted": true,
        "id": "qzggi-JkDBb4"
      },
      "execution_count": 21,
      "outputs": []
    },
    {
      "cell_type": "code",
      "source": [
        "shuffler = np.random.permutation(len(X_sequence))\n",
        "X_sequence_shuffled = X_sequence[shuffler]\n",
        "y_shuffled = y[shuffler]"
      ],
      "metadata": {
        "id": "8v24AvsuJyvr"
      },
      "execution_count": 22,
      "outputs": []
    },
    {
      "cell_type": "code",
      "source": [
        "training_size = int(len(X_sequence) * 0.8)\n",
        "val_size = int(len(X_sequence) * 0.9)"
      ],
      "metadata": {
        "id": "WbKhe6veJzmK"
      },
      "execution_count": 23,
      "outputs": []
    },
    {
      "cell_type": "code",
      "source": [
        "X_train, y_train = X_sequence_shuffled[:training_size], y_shuffled[:training_size]\n",
        "X_val, y_val = X_sequence_shuffled[training_size:val_size], y_shuffled[training_size:val_size]\n",
        "X_test, y_test = X_sequence_shuffled[val_size:], y_shuffled[val_size:]"
      ],
      "metadata": {
        "id": "YSoZ42lUJ-i0"
      },
      "execution_count": 24,
      "outputs": []
    },
    {
      "cell_type": "code",
      "source": [
        "# split the data (X, y) to train-data and test-data\n",
        "#X_train, X_test, y_train, y_test = train_test_split(X, y, test_size=0.2, stratify=y, random_state=101)"
      ],
      "metadata": {
        "execution": {
          "iopub.status.busy": "2022-03-09T19:23:14.980009Z",
          "iopub.execute_input": "2022-03-09T19:23:14.980658Z",
          "iopub.status.idle": "2022-03-09T19:23:15.370819Z",
          "shell.execute_reply.started": "2022-03-09T19:23:14.980595Z",
          "shell.execute_reply": "2022-03-09T19:23:15.370074Z"
        },
        "trusted": true,
        "id": "sN5Yy5OoDBb4"
      },
      "execution_count": 25,
      "outputs": []
    },
    {
      "cell_type": "code",
      "source": [
        "X_train.shape, X_test.shape"
      ],
      "metadata": {
        "execution": {
          "iopub.status.busy": "2022-03-09T19:23:15.372239Z",
          "iopub.execute_input": "2022-03-09T19:23:15.372500Z",
          "iopub.status.idle": "2022-03-09T19:23:15.379608Z",
          "shell.execute_reply.started": "2022-03-09T19:23:15.372464Z",
          "shell.execute_reply": "2022-03-09T19:23:15.378724Z"
        },
        "trusted": true,
        "colab": {
          "base_uri": "https://localhost:8080/"
        },
        "id": "qsFy6tJbDBb6",
        "outputId": "f738bbc6-1330-43d1-fc99-2ad822ae3558"
      },
      "execution_count": 26,
      "outputs": [
        {
          "output_type": "execute_result",
          "data": {
            "text/plain": [
              "((119999, 200, 8), (15000, 200, 8))"
            ]
          },
          "metadata": {},
          "execution_count": 26
        }
      ]
    },
    {
      "cell_type": "code",
      "source": [
        "data = 0\n",
        "X_sequence = 0\n",
        "y = 0"
      ],
      "metadata": {
        "id": "N6kpMmoMIp3I"
      },
      "execution_count": null,
      "outputs": []
    },
    {
      "cell_type": "code",
      "source": [
        "#scaler = StandardScaler()\n",
        "#X_train = scaler.fit_transform(X_train)\n",
        "#X_test = scaler.transform(X_test)"
      ],
      "metadata": {
        "execution": {
          "iopub.status.busy": "2022-03-09T19:23:15.381215Z",
          "iopub.execute_input": "2022-03-09T19:23:15.382209Z",
          "iopub.status.idle": "2022-03-09T19:23:15.589013Z",
          "shell.execute_reply.started": "2022-03-09T19:23:15.382154Z",
          "shell.execute_reply": "2022-03-09T19:23:15.588240Z"
        },
        "trusted": true,
        "id": "o7MfFDcfDBb7"
      },
      "execution_count": 27,
      "outputs": []
    },
    {
      "cell_type": "code",
      "source": [
        "#y_train = y_train.to_numpy()\n",
        "#y_test = y_test.to_numpy()"
      ],
      "metadata": {
        "execution": {
          "iopub.status.busy": "2022-03-09T19:23:15.590487Z",
          "iopub.execute_input": "2022-03-09T19:23:15.590757Z",
          "iopub.status.idle": "2022-03-09T19:23:15.597168Z",
          "shell.execute_reply.started": "2022-03-09T19:23:15.590720Z",
          "shell.execute_reply": "2022-03-09T19:23:15.596423Z"
        },
        "trusted": true,
        "id": "zbUx5MTwDBb8"
      },
      "execution_count": 28,
      "outputs": []
    },
    {
      "cell_type": "code",
      "source": [
        "#X_train = X_train.reshape(X_train.shape[0], X_train.shape[1], 1)\n",
        "#X_test = X_test.reshape(X_test.shape[0], X_test.shape[1], 1)"
      ],
      "metadata": {
        "execution": {
          "iopub.status.busy": "2022-03-09T19:23:15.598873Z",
          "iopub.execute_input": "2022-03-09T19:23:15.599216Z",
          "iopub.status.idle": "2022-03-09T19:23:15.605636Z",
          "shell.execute_reply.started": "2022-03-09T19:23:15.599161Z",
          "shell.execute_reply": "2022-03-09T19:23:15.604304Z"
        },
        "trusted": true,
        "id": "G5442zLgDBb8"
      },
      "execution_count": 29,
      "outputs": []
    },
    {
      "cell_type": "code",
      "source": [
        "X_train.shape, X_test.shape"
      ],
      "metadata": {
        "execution": {
          "iopub.status.busy": "2022-03-09T19:23:15.607548Z",
          "iopub.execute_input": "2022-03-09T19:23:15.607888Z",
          "iopub.status.idle": "2022-03-09T19:23:15.616413Z",
          "shell.execute_reply.started": "2022-03-09T19:23:15.607844Z",
          "shell.execute_reply": "2022-03-09T19:23:15.615560Z"
        },
        "trusted": true,
        "colab": {
          "base_uri": "https://localhost:8080/"
        },
        "id": "3nz3AYtSDBb9",
        "outputId": "4e6669e1-3e90-490a-eff5-0aaf4e19f441"
      },
      "execution_count": 30,
      "outputs": [
        {
          "output_type": "execute_result",
          "data": {
            "text/plain": [
              "((119999, 200, 8), (15000, 200, 8))"
            ]
          },
          "metadata": {},
          "execution_count": 30
        }
      ]
    },
    {
      "cell_type": "code",
      "source": [
        "epochs=100\n",
        "model_cnn = tf.keras.models.Sequential([\n",
        "    tf.keras.layers.Conv1D(filters=32, kernel_size=3, activation='relu', input_shape=X_train[0].shape),\n",
        "    tf.keras.layers.MaxPooling1D(pool_size=1),\n",
        "    tf.keras.layers.Conv1D(filters=64, kernel_size=3, activation='relu'),\n",
        "    tf.keras.layers.MaxPooling1D((1)),\n",
        "    tf.keras.layers.Conv1D(filters=64, kernel_size=3, activation='relu'),\n",
        "    tf.keras.layers.Flatten(),\n",
        "    tf.keras.layers.Dense(512,activation='relu'),\n",
        "    tf.keras.layers.Dense(1,activation='sigmoid')\n",
        "])\n",
        "\n",
        "model_cnn.summary()"
      ],
      "metadata": {
        "execution": {
          "iopub.status.busy": "2022-03-09T19:23:15.617846Z",
          "iopub.execute_input": "2022-03-09T19:23:15.618376Z",
          "iopub.status.idle": "2022-03-09T19:23:19.306227Z",
          "shell.execute_reply.started": "2022-03-09T19:23:15.618335Z",
          "shell.execute_reply": "2022-03-09T19:23:19.305528Z"
        },
        "trusted": true,
        "colab": {
          "base_uri": "https://localhost:8080/"
        },
        "id": "DYCaNKhfDBb-",
        "outputId": "54d6f85b-5f7b-4e92-830e-087416fdb7c7"
      },
      "execution_count": 31,
      "outputs": [
        {
          "output_type": "stream",
          "name": "stdout",
          "text": [
            "Model: \"sequential\"\n",
            "_________________________________________________________________\n",
            " Layer (type)                Output Shape              Param #   \n",
            "=================================================================\n",
            " conv1d (Conv1D)             (None, 198, 32)           800       \n",
            "                                                                 \n",
            " max_pooling1d (MaxPooling1D  (None, 198, 32)          0         \n",
            " )                                                               \n",
            "                                                                 \n",
            " conv1d_1 (Conv1D)           (None, 196, 64)           6208      \n",
            "                                                                 \n",
            " max_pooling1d_1 (MaxPooling  (None, 196, 64)          0         \n",
            " 1D)                                                             \n",
            "                                                                 \n",
            " conv1d_2 (Conv1D)           (None, 194, 64)           12352     \n",
            "                                                                 \n",
            " flatten (Flatten)           (None, 12416)             0         \n",
            "                                                                 \n",
            " dense (Dense)               (None, 512)               6357504   \n",
            "                                                                 \n",
            " dense_1 (Dense)             (None, 1)                 513       \n",
            "                                                                 \n",
            "=================================================================\n",
            "Total params: 6,377,377\n",
            "Trainable params: 6,377,377\n",
            "Non-trainable params: 0\n",
            "_________________________________________________________________\n"
          ]
        }
      ]
    },
    {
      "cell_type": "code",
      "source": [
        "# Compile the model as usual\n",
        "optimizer = tf.keras.optimizers.Adam(lr=0.0001)\n",
        "model_cnn.compile(optimizer=optimizer,\n",
        "                 loss='categorical_crossentropy',\n",
        "                 metrics=['accuracy'])"
      ],
      "metadata": {
        "execution": {
          "iopub.status.busy": "2022-03-09T19:23:19.307548Z",
          "iopub.execute_input": "2022-03-09T19:23:19.307966Z",
          "iopub.status.idle": "2022-03-09T19:23:19.324570Z",
          "shell.execute_reply.started": "2022-03-09T19:23:19.307923Z",
          "shell.execute_reply": "2022-03-09T19:23:19.323764Z"
        },
        "trusted": true,
        "id": "fCnzSVEQDBb-"
      },
      "execution_count": 32,
      "outputs": []
    },
    {
      "cell_type": "code",
      "source": [
        "# Train the model\n",
        "history = model_cnn.fit(X_train, y_train, epochs=100, batch_size=512, validation_data=(X_val, y_val))"
      ],
      "metadata": {
        "execution": {
          "iopub.status.busy": "2022-03-09T19:23:19.326061Z",
          "iopub.execute_input": "2022-03-09T19:23:19.326327Z",
          "iopub.status.idle": "2022-03-09T19:23:30.575919Z",
          "shell.execute_reply.started": "2022-03-09T19:23:19.326290Z",
          "shell.execute_reply": "2022-03-09T19:23:30.572061Z"
        },
        "trusted": true,
        "colab": {
          "base_uri": "https://localhost:8080/"
        },
        "id": "dEMiORgIDBb_",
        "outputId": "f3c96c0b-b03b-42e3-fae9-c22d71f6c555"
      },
      "execution_count": 33,
      "outputs": [
        {
          "output_type": "stream",
          "name": "stdout",
          "text": [
            "Epoch 1/100\n",
            "235/235 [==============================] - 20s 28ms/step - loss: 0.0000e+00 - accuracy: 0.1245 - val_loss: 0.0000e+00 - val_accuracy: 0.1266\n",
            "Epoch 2/100\n",
            "235/235 [==============================] - 5s 22ms/step - loss: 0.0000e+00 - accuracy: 0.1245 - val_loss: 0.0000e+00 - val_accuracy: 0.1266\n",
            "Epoch 3/100\n",
            "235/235 [==============================] - 5s 22ms/step - loss: 0.0000e+00 - accuracy: 0.1245 - val_loss: 0.0000e+00 - val_accuracy: 0.1266\n",
            "Epoch 4/100\n",
            "235/235 [==============================] - 5s 22ms/step - loss: 0.0000e+00 - accuracy: 0.1245 - val_loss: 0.0000e+00 - val_accuracy: 0.1266\n",
            "Epoch 5/100\n",
            "235/235 [==============================] - 5s 23ms/step - loss: 0.0000e+00 - accuracy: 0.1245 - val_loss: 0.0000e+00 - val_accuracy: 0.1266\n",
            "Epoch 6/100\n",
            "235/235 [==============================] - 5s 22ms/step - loss: 0.0000e+00 - accuracy: 0.1245 - val_loss: 0.0000e+00 - val_accuracy: 0.1266\n",
            "Epoch 7/100\n",
            "235/235 [==============================] - 5s 22ms/step - loss: 0.0000e+00 - accuracy: 0.1245 - val_loss: 0.0000e+00 - val_accuracy: 0.1266\n",
            "Epoch 8/100\n",
            "235/235 [==============================] - 5s 22ms/step - loss: 0.0000e+00 - accuracy: 0.1245 - val_loss: 0.0000e+00 - val_accuracy: 0.1266\n",
            "Epoch 9/100\n",
            "235/235 [==============================] - 5s 22ms/step - loss: 0.0000e+00 - accuracy: 0.1245 - val_loss: 0.0000e+00 - val_accuracy: 0.1266\n",
            "Epoch 10/100\n",
            "235/235 [==============================] - 5s 23ms/step - loss: 0.0000e+00 - accuracy: 0.1245 - val_loss: 0.0000e+00 - val_accuracy: 0.1266\n",
            "Epoch 11/100\n",
            "235/235 [==============================] - 5s 22ms/step - loss: 0.0000e+00 - accuracy: 0.1245 - val_loss: 0.0000e+00 - val_accuracy: 0.1266\n",
            "Epoch 12/100\n",
            "235/235 [==============================] - 5s 23ms/step - loss: 0.0000e+00 - accuracy: 0.1245 - val_loss: 0.0000e+00 - val_accuracy: 0.1266\n",
            "Epoch 13/100\n",
            "235/235 [==============================] - 5s 23ms/step - loss: 0.0000e+00 - accuracy: 0.1245 - val_loss: 0.0000e+00 - val_accuracy: 0.1266\n",
            "Epoch 14/100\n",
            "235/235 [==============================] - 5s 23ms/step - loss: 0.0000e+00 - accuracy: 0.1245 - val_loss: 0.0000e+00 - val_accuracy: 0.1266\n",
            "Epoch 15/100\n",
            "235/235 [==============================] - 5s 23ms/step - loss: 0.0000e+00 - accuracy: 0.1245 - val_loss: 0.0000e+00 - val_accuracy: 0.1266\n",
            "Epoch 16/100\n",
            "235/235 [==============================] - 5s 23ms/step - loss: 0.0000e+00 - accuracy: 0.1245 - val_loss: 0.0000e+00 - val_accuracy: 0.1266\n",
            "Epoch 17/100\n",
            "235/235 [==============================] - 5s 23ms/step - loss: 0.0000e+00 - accuracy: 0.1245 - val_loss: 0.0000e+00 - val_accuracy: 0.1266\n",
            "Epoch 18/100\n",
            "235/235 [==============================] - 5s 23ms/step - loss: 0.0000e+00 - accuracy: 0.1245 - val_loss: 0.0000e+00 - val_accuracy: 0.1266\n",
            "Epoch 19/100\n",
            "235/235 [==============================] - 6s 24ms/step - loss: 0.0000e+00 - accuracy: 0.1245 - val_loss: 0.0000e+00 - val_accuracy: 0.1266\n",
            "Epoch 20/100\n",
            "235/235 [==============================] - 5s 23ms/step - loss: 0.0000e+00 - accuracy: 0.1245 - val_loss: 0.0000e+00 - val_accuracy: 0.1266\n",
            "Epoch 21/100\n",
            "235/235 [==============================] - 5s 23ms/step - loss: 0.0000e+00 - accuracy: 0.1245 - val_loss: 0.0000e+00 - val_accuracy: 0.1266\n",
            "Epoch 22/100\n",
            "235/235 [==============================] - 5s 23ms/step - loss: 0.0000e+00 - accuracy: 0.1245 - val_loss: 0.0000e+00 - val_accuracy: 0.1266\n",
            "Epoch 23/100\n",
            "235/235 [==============================] - 5s 23ms/step - loss: 0.0000e+00 - accuracy: 0.1245 - val_loss: 0.0000e+00 - val_accuracy: 0.1266\n",
            "Epoch 24/100\n",
            "235/235 [==============================] - 5s 23ms/step - loss: 0.0000e+00 - accuracy: 0.1245 - val_loss: 0.0000e+00 - val_accuracy: 0.1266\n",
            "Epoch 25/100\n",
            "235/235 [==============================] - 6s 24ms/step - loss: 0.0000e+00 - accuracy: 0.1245 - val_loss: 0.0000e+00 - val_accuracy: 0.1266\n",
            "Epoch 26/100\n",
            "235/235 [==============================] - 5s 22ms/step - loss: 0.0000e+00 - accuracy: 0.1245 - val_loss: 0.0000e+00 - val_accuracy: 0.1266\n",
            "Epoch 27/100\n",
            "235/235 [==============================] - 5s 23ms/step - loss: 0.0000e+00 - accuracy: 0.1245 - val_loss: 0.0000e+00 - val_accuracy: 0.1266\n",
            "Epoch 28/100\n",
            "235/235 [==============================] - 5s 23ms/step - loss: 0.0000e+00 - accuracy: 0.1245 - val_loss: 0.0000e+00 - val_accuracy: 0.1266\n",
            "Epoch 29/100\n",
            "235/235 [==============================] - 5s 23ms/step - loss: 0.0000e+00 - accuracy: 0.1245 - val_loss: 0.0000e+00 - val_accuracy: 0.1266\n",
            "Epoch 30/100\n",
            "235/235 [==============================] - 5s 23ms/step - loss: 0.0000e+00 - accuracy: 0.1245 - val_loss: 0.0000e+00 - val_accuracy: 0.1266\n",
            "Epoch 31/100\n",
            "235/235 [==============================] - 5s 23ms/step - loss: 0.0000e+00 - accuracy: 0.1245 - val_loss: 0.0000e+00 - val_accuracy: 0.1266\n",
            "Epoch 32/100\n",
            "235/235 [==============================] - 5s 23ms/step - loss: 0.0000e+00 - accuracy: 0.1245 - val_loss: 0.0000e+00 - val_accuracy: 0.1266\n",
            "Epoch 33/100\n",
            "235/235 [==============================] - 6s 23ms/step - loss: 0.0000e+00 - accuracy: 0.1245 - val_loss: 0.0000e+00 - val_accuracy: 0.1266\n",
            "Epoch 34/100\n",
            "235/235 [==============================] - 5s 23ms/step - loss: 0.0000e+00 - accuracy: 0.1245 - val_loss: 0.0000e+00 - val_accuracy: 0.1266\n",
            "Epoch 35/100\n",
            "235/235 [==============================] - 5s 23ms/step - loss: 0.0000e+00 - accuracy: 0.1245 - val_loss: 0.0000e+00 - val_accuracy: 0.1266\n",
            "Epoch 36/100\n",
            "235/235 [==============================] - 5s 23ms/step - loss: 0.0000e+00 - accuracy: 0.1245 - val_loss: 0.0000e+00 - val_accuracy: 0.1266\n",
            "Epoch 37/100\n",
            "235/235 [==============================] - 5s 23ms/step - loss: 0.0000e+00 - accuracy: 0.1245 - val_loss: 0.0000e+00 - val_accuracy: 0.1266\n",
            "Epoch 38/100\n",
            "235/235 [==============================] - 5s 23ms/step - loss: 0.0000e+00 - accuracy: 0.1245 - val_loss: 0.0000e+00 - val_accuracy: 0.1266\n",
            "Epoch 39/100\n",
            "235/235 [==============================] - 5s 23ms/step - loss: 0.0000e+00 - accuracy: 0.1245 - val_loss: 0.0000e+00 - val_accuracy: 0.1266\n",
            "Epoch 40/100\n",
            "235/235 [==============================] - 5s 23ms/step - loss: 0.0000e+00 - accuracy: 0.1245 - val_loss: 0.0000e+00 - val_accuracy: 0.1266\n",
            "Epoch 41/100\n",
            "235/235 [==============================] - 5s 23ms/step - loss: 0.0000e+00 - accuracy: 0.1245 - val_loss: 0.0000e+00 - val_accuracy: 0.1266\n",
            "Epoch 42/100\n",
            "235/235 [==============================] - 5s 23ms/step - loss: 0.0000e+00 - accuracy: 0.1245 - val_loss: 0.0000e+00 - val_accuracy: 0.1266\n",
            "Epoch 43/100\n",
            "235/235 [==============================] - 5s 23ms/step - loss: 0.0000e+00 - accuracy: 0.1245 - val_loss: 0.0000e+00 - val_accuracy: 0.1266\n",
            "Epoch 44/100\n",
            "235/235 [==============================] - 5s 23ms/step - loss: 0.0000e+00 - accuracy: 0.1245 - val_loss: 0.0000e+00 - val_accuracy: 0.1266\n",
            "Epoch 45/100\n",
            "235/235 [==============================] - 5s 23ms/step - loss: 0.0000e+00 - accuracy: 0.1245 - val_loss: 0.0000e+00 - val_accuracy: 0.1266\n",
            "Epoch 46/100\n",
            "235/235 [==============================] - 5s 23ms/step - loss: 0.0000e+00 - accuracy: 0.1245 - val_loss: 0.0000e+00 - val_accuracy: 0.1266\n",
            "Epoch 47/100\n",
            "235/235 [==============================] - 5s 23ms/step - loss: 0.0000e+00 - accuracy: 0.1245 - val_loss: 0.0000e+00 - val_accuracy: 0.1266\n",
            "Epoch 48/100\n",
            "235/235 [==============================] - 5s 23ms/step - loss: 0.0000e+00 - accuracy: 0.1245 - val_loss: 0.0000e+00 - val_accuracy: 0.1266\n",
            "Epoch 49/100\n",
            "235/235 [==============================] - 5s 23ms/step - loss: 0.0000e+00 - accuracy: 0.1245 - val_loss: 0.0000e+00 - val_accuracy: 0.1266\n",
            "Epoch 50/100\n",
            "235/235 [==============================] - 5s 23ms/step - loss: 0.0000e+00 - accuracy: 0.1245 - val_loss: 0.0000e+00 - val_accuracy: 0.1266\n",
            "Epoch 51/100\n",
            "235/235 [==============================] - 5s 23ms/step - loss: 0.0000e+00 - accuracy: 0.1245 - val_loss: 0.0000e+00 - val_accuracy: 0.1266\n",
            "Epoch 52/100\n",
            "235/235 [==============================] - 5s 23ms/step - loss: 0.0000e+00 - accuracy: 0.1245 - val_loss: 0.0000e+00 - val_accuracy: 0.1266\n",
            "Epoch 53/100\n",
            "235/235 [==============================] - 6s 24ms/step - loss: 0.0000e+00 - accuracy: 0.1245 - val_loss: 0.0000e+00 - val_accuracy: 0.1266\n",
            "Epoch 54/100\n",
            "235/235 [==============================] - 6s 24ms/step - loss: 0.0000e+00 - accuracy: 0.1245 - val_loss: 0.0000e+00 - val_accuracy: 0.1266\n",
            "Epoch 55/100\n",
            "235/235 [==============================] - 7s 28ms/step - loss: 0.0000e+00 - accuracy: 0.1245 - val_loss: 0.0000e+00 - val_accuracy: 0.1266\n",
            "Epoch 56/100\n",
            "235/235 [==============================] - 8s 31ms/step - loss: 0.0000e+00 - accuracy: 0.1245 - val_loss: 0.0000e+00 - val_accuracy: 0.1266\n",
            "Epoch 57/100\n",
            "235/235 [==============================] - 5s 23ms/step - loss: 0.0000e+00 - accuracy: 0.1245 - val_loss: 0.0000e+00 - val_accuracy: 0.1266\n",
            "Epoch 58/100\n",
            "235/235 [==============================] - 5s 23ms/step - loss: 0.0000e+00 - accuracy: 0.1245 - val_loss: 0.0000e+00 - val_accuracy: 0.1266\n",
            "Epoch 59/100\n",
            "235/235 [==============================] - 5s 23ms/step - loss: 0.0000e+00 - accuracy: 0.1245 - val_loss: 0.0000e+00 - val_accuracy: 0.1266\n",
            "Epoch 60/100\n",
            "235/235 [==============================] - 5s 23ms/step - loss: 0.0000e+00 - accuracy: 0.1245 - val_loss: 0.0000e+00 - val_accuracy: 0.1266\n",
            "Epoch 61/100\n",
            "235/235 [==============================] - 5s 23ms/step - loss: 0.0000e+00 - accuracy: 0.1245 - val_loss: 0.0000e+00 - val_accuracy: 0.1266\n",
            "Epoch 62/100\n",
            "235/235 [==============================] - 5s 23ms/step - loss: 0.0000e+00 - accuracy: 0.1245 - val_loss: 0.0000e+00 - val_accuracy: 0.1266\n",
            "Epoch 63/100\n",
            "235/235 [==============================] - 5s 23ms/step - loss: 0.0000e+00 - accuracy: 0.1245 - val_loss: 0.0000e+00 - val_accuracy: 0.1266\n",
            "Epoch 64/100\n",
            "235/235 [==============================] - 5s 23ms/step - loss: 0.0000e+00 - accuracy: 0.1245 - val_loss: 0.0000e+00 - val_accuracy: 0.1266\n",
            "Epoch 65/100\n",
            "235/235 [==============================] - 5s 23ms/step - loss: 0.0000e+00 - accuracy: 0.1245 - val_loss: 0.0000e+00 - val_accuracy: 0.1266\n",
            "Epoch 66/100\n",
            "235/235 [==============================] - 5s 23ms/step - loss: 0.0000e+00 - accuracy: 0.1245 - val_loss: 0.0000e+00 - val_accuracy: 0.1266\n",
            "Epoch 67/100\n",
            "235/235 [==============================] - 5s 23ms/step - loss: 0.0000e+00 - accuracy: 0.1245 - val_loss: 0.0000e+00 - val_accuracy: 0.1266\n",
            "Epoch 68/100\n",
            "235/235 [==============================] - 5s 23ms/step - loss: 0.0000e+00 - accuracy: 0.1245 - val_loss: 0.0000e+00 - val_accuracy: 0.1266\n",
            "Epoch 69/100\n",
            "235/235 [==============================] - 5s 23ms/step - loss: 0.0000e+00 - accuracy: 0.1245 - val_loss: 0.0000e+00 - val_accuracy: 0.1266\n",
            "Epoch 70/100\n",
            "235/235 [==============================] - 5s 23ms/step - loss: 0.0000e+00 - accuracy: 0.1245 - val_loss: 0.0000e+00 - val_accuracy: 0.1266\n",
            "Epoch 71/100\n",
            "235/235 [==============================] - 5s 23ms/step - loss: 0.0000e+00 - accuracy: 0.1245 - val_loss: 0.0000e+00 - val_accuracy: 0.1266\n",
            "Epoch 72/100\n",
            "235/235 [==============================] - 5s 23ms/step - loss: 0.0000e+00 - accuracy: 0.1245 - val_loss: 0.0000e+00 - val_accuracy: 0.1266\n",
            "Epoch 73/100\n",
            "235/235 [==============================] - 5s 23ms/step - loss: 0.0000e+00 - accuracy: 0.1245 - val_loss: 0.0000e+00 - val_accuracy: 0.1266\n",
            "Epoch 74/100\n",
            "235/235 [==============================] - 5s 23ms/step - loss: 0.0000e+00 - accuracy: 0.1245 - val_loss: 0.0000e+00 - val_accuracy: 0.1266\n",
            "Epoch 75/100\n",
            "235/235 [==============================] - 5s 23ms/step - loss: 0.0000e+00 - accuracy: 0.1245 - val_loss: 0.0000e+00 - val_accuracy: 0.1266\n",
            "Epoch 76/100\n",
            "235/235 [==============================] - 5s 23ms/step - loss: 0.0000e+00 - accuracy: 0.1245 - val_loss: 0.0000e+00 - val_accuracy: 0.1266\n",
            "Epoch 77/100\n",
            "235/235 [==============================] - 5s 23ms/step - loss: 0.0000e+00 - accuracy: 0.1245 - val_loss: 0.0000e+00 - val_accuracy: 0.1266\n",
            "Epoch 78/100\n",
            "235/235 [==============================] - 5s 23ms/step - loss: 0.0000e+00 - accuracy: 0.1245 - val_loss: 0.0000e+00 - val_accuracy: 0.1266\n",
            "Epoch 79/100\n",
            "235/235 [==============================] - 5s 23ms/step - loss: 0.0000e+00 - accuracy: 0.1245 - val_loss: 0.0000e+00 - val_accuracy: 0.1266\n",
            "Epoch 80/100\n",
            "235/235 [==============================] - 5s 23ms/step - loss: 0.0000e+00 - accuracy: 0.1245 - val_loss: 0.0000e+00 - val_accuracy: 0.1266\n",
            "Epoch 81/100\n",
            "235/235 [==============================] - 5s 23ms/step - loss: 0.0000e+00 - accuracy: 0.1245 - val_loss: 0.0000e+00 - val_accuracy: 0.1266\n",
            "Epoch 82/100\n",
            "235/235 [==============================] - 5s 23ms/step - loss: 0.0000e+00 - accuracy: 0.1245 - val_loss: 0.0000e+00 - val_accuracy: 0.1266\n",
            "Epoch 83/100\n",
            "235/235 [==============================] - 5s 23ms/step - loss: 0.0000e+00 - accuracy: 0.1245 - val_loss: 0.0000e+00 - val_accuracy: 0.1266\n",
            "Epoch 84/100\n",
            "235/235 [==============================] - 5s 23ms/step - loss: 0.0000e+00 - accuracy: 0.1245 - val_loss: 0.0000e+00 - val_accuracy: 0.1266\n",
            "Epoch 85/100\n",
            "235/235 [==============================] - 5s 23ms/step - loss: 0.0000e+00 - accuracy: 0.1245 - val_loss: 0.0000e+00 - val_accuracy: 0.1266\n",
            "Epoch 86/100\n",
            "235/235 [==============================] - 5s 23ms/step - loss: 0.0000e+00 - accuracy: 0.1245 - val_loss: 0.0000e+00 - val_accuracy: 0.1266\n",
            "Epoch 87/100\n",
            "235/235 [==============================] - 5s 23ms/step - loss: 0.0000e+00 - accuracy: 0.1245 - val_loss: 0.0000e+00 - val_accuracy: 0.1266\n",
            "Epoch 88/100\n",
            "235/235 [==============================] - 5s 23ms/step - loss: 0.0000e+00 - accuracy: 0.1245 - val_loss: 0.0000e+00 - val_accuracy: 0.1266\n",
            "Epoch 89/100\n",
            "235/235 [==============================] - 5s 23ms/step - loss: 0.0000e+00 - accuracy: 0.1245 - val_loss: 0.0000e+00 - val_accuracy: 0.1266\n",
            "Epoch 90/100\n",
            "235/235 [==============================] - 5s 23ms/step - loss: 0.0000e+00 - accuracy: 0.1245 - val_loss: 0.0000e+00 - val_accuracy: 0.1266\n",
            "Epoch 91/100\n",
            "235/235 [==============================] - 5s 23ms/step - loss: 0.0000e+00 - accuracy: 0.1245 - val_loss: 0.0000e+00 - val_accuracy: 0.1266\n",
            "Epoch 92/100\n",
            "235/235 [==============================] - 5s 23ms/step - loss: 0.0000e+00 - accuracy: 0.1245 - val_loss: 0.0000e+00 - val_accuracy: 0.1266\n",
            "Epoch 93/100\n",
            "235/235 [==============================] - 5s 23ms/step - loss: 0.0000e+00 - accuracy: 0.1245 - val_loss: 0.0000e+00 - val_accuracy: 0.1266\n",
            "Epoch 94/100\n",
            "235/235 [==============================] - 5s 23ms/step - loss: 0.0000e+00 - accuracy: 0.1245 - val_loss: 0.0000e+00 - val_accuracy: 0.1266\n",
            "Epoch 95/100\n",
            "235/235 [==============================] - 5s 23ms/step - loss: 0.0000e+00 - accuracy: 0.1245 - val_loss: 0.0000e+00 - val_accuracy: 0.1266\n",
            "Epoch 96/100\n",
            "235/235 [==============================] - 5s 23ms/step - loss: 0.0000e+00 - accuracy: 0.1245 - val_loss: 0.0000e+00 - val_accuracy: 0.1266\n",
            "Epoch 97/100\n",
            "235/235 [==============================] - 5s 23ms/step - loss: 0.0000e+00 - accuracy: 0.1245 - val_loss: 0.0000e+00 - val_accuracy: 0.1266\n",
            "Epoch 98/100\n",
            "235/235 [==============================] - 5s 23ms/step - loss: 0.0000e+00 - accuracy: 0.1245 - val_loss: 0.0000e+00 - val_accuracy: 0.1266\n",
            "Epoch 99/100\n",
            "235/235 [==============================] - 5s 23ms/step - loss: 0.0000e+00 - accuracy: 0.1245 - val_loss: 0.0000e+00 - val_accuracy: 0.1266\n",
            "Epoch 100/100\n",
            "235/235 [==============================] - 5s 23ms/step - loss: 0.0000e+00 - accuracy: 0.1245 - val_loss: 0.0000e+00 - val_accuracy: 0.1266\n"
          ]
        }
      ]
    },
    {
      "cell_type": "code",
      "source": [
        "history_dict = history.history\n",
        "loss = history_dict['loss']\n",
        "val_loss = history_dict['val_loss']\n",
        "acc = history_dict['accuracy']\n",
        "val_acc = history_dict['val_accuracy']\n",
        "\n",
        "epochs = range(1, len(loss) + 1)\n",
        "\n",
        "plt.plot(epochs, loss, 'b', label='Training Loss')\n",
        "plt.plot(epochs, val_loss, 'r', label='Validation Loss')\n",
        "plt.title('Training and Validation Loss')\n",
        "plt.xlabel('Epochs')\n",
        "plt.ylabel('Loss')\n",
        "plt.legend()\n",
        "plt.savefig('cnn_loss_plot.png')\n",
        "plt.show()\n",
        "\n",
        "plt.figure()\n",
        "\n",
        "plt.plot(epochs, acc, 'b', label='Training Accuracy')\n",
        "plt.plot(epochs, val_acc, 'r', label='Validation Accuracy')\n",
        "plt.title('Training and Validation Accuracy')\n",
        "plt.xlabel('Epochs')\n",
        "plt.ylabel('Accuracy')\n",
        "plt.legend()\n",
        "plt.savefig('cnn_acc_plot.png')\n",
        "plt.show()"
      ],
      "metadata": {
        "execution": {
          "iopub.status.busy": "2022-03-09T19:23:30.577316Z",
          "iopub.status.idle": "2022-03-09T19:23:30.577933Z",
          "shell.execute_reply.started": "2022-03-09T19:23:30.577667Z",
          "shell.execute_reply": "2022-03-09T19:23:30.577695Z"
        },
        "trusted": true,
        "colab": {
          "base_uri": "https://localhost:8080/",
          "height": 581
        },
        "id": "4Aq5JP3xDBb_",
        "outputId": "5639153f-2b2f-4e4a-caa7-c8aa3cbc7814"
      },
      "execution_count": 34,
      "outputs": [
        {
          "output_type": "display_data",
          "data": {
            "text/plain": [
              "<Figure size 432x288 with 1 Axes>"
            ],
            "image/png": "[encoded data removed]"
          },
          "metadata": {
            "needs_background": "light"
          }
        },
        {
          "output_type": "display_data",
          "data": {
            "text/plain": [
              "<Figure size 432x288 with 1 Axes>"
            ],
            "image/png": "[encoded data removed]"
          },
          "metadata": {
            "needs_background": "light"
          }
        }
      ]
    },
    {
      "cell_type": "code",
      "source": [
        "val_predictions = model_cnn.predict(X_test)\n",
        "pred=np.around(val_predictions)\n",
        "pred"
      ],
      "metadata": {
        "execution": {
          "iopub.status.busy": "2022-03-09T19:23:30.579200Z",
          "iopub.status.idle": "2022-03-09T19:23:30.580003Z",
          "shell.execute_reply.started": "2022-03-09T19:23:30.579724Z",
          "shell.execute_reply": "2022-03-09T19:23:30.579750Z"
        },
        "trusted": true,
        "colab": {
          "base_uri": "https://localhost:8080/"
        },
        "id": "ZXAOQHmrDBcA",
        "outputId": "c1acd281-15c3-4d53-eea0-beb33376c22a"
      },
      "execution_count": 35,
      "outputs": [
        {
          "output_type": "execute_result",
          "data": {
            "text/plain": [
              "array([[1.],\n",
              "       [1.],\n",
              "       [1.],\n",
              "       ...,\n",
              "       [1.],\n",
              "       [1.],\n",
              "       [1.]], dtype=float32)"
            ]
          },
          "metadata": {},
          "execution_count": 35
        }
      ]
    },
    {
      "cell_type": "code",
      "source": [
        "print(classification_report(y_test, pred))"
      ],
      "metadata": {
        "execution": {
          "iopub.status.busy": "2022-03-09T19:23:30.581398Z",
          "iopub.status.idle": "2022-03-09T19:23:30.581822Z",
          "shell.execute_reply.started": "2022-03-09T19:23:30.581591Z",
          "shell.execute_reply": "2022-03-09T19:23:30.581615Z"
        },
        "trusted": true,
        "colab": {
          "base_uri": "https://localhost:8080/"
        },
        "id": "OeaY3kBoDBcB",
        "outputId": "aefe2d2c-8942-456e-8611-1b0e390ad5d2"
      },
      "execution_count": 36,
      "outputs": [
        {
          "output_type": "stream",
          "name": "stdout",
          "text": [
            "              precision    recall  f1-score   support\n",
            "\n",
            "           0       0.00      0.00      0.00      1834\n",
            "           1       0.13      1.00      0.23      1913\n",
            "           2       0.00      0.00      0.00      1865\n",
            "           3       0.00      0.00      0.00      1947\n",
            "           4       0.00      0.00      0.00      1870\n",
            "           5       0.00      0.00      0.00      1887\n",
            "           6       0.00      0.00      0.00      1830\n",
            "           7       0.00      0.00      0.00      1854\n",
            "\n",
            "    accuracy                           0.13     15000\n",
            "   macro avg       0.02      0.12      0.03     15000\n",
            "weighted avg       0.02      0.13      0.03     15000\n",
            "\n"
          ]
        }
      ]
    },
    {
      "cell_type": "code",
      "source": [
        "def get_confusion_matrix(y_true, y_pred):\n",
        "    n_classes = len(np.unique(y_true))\n",
        "    conf = np.zeros((n_classes, n_classes))\n",
        "    for actual, pred in zip(y_true, y_pred):\n",
        "        conf[int(actual)][int(pred)] += 1\n",
        "    return conf.astype('int')"
      ],
      "metadata": {
        "id": "-hQBliwzUU1k"
      },
      "execution_count": 37,
      "outputs": []
    },
    {
      "cell_type": "code",
      "source": [
        "import itertools\n",
        "\n",
        "print(classification_report(y_test, pred))\n",
        "\n",
        "conf = get_confusion_matrix(y_test, pred)\n",
        "conf\n",
        "\n",
        "classes = [0, 1, 2, 3, 4, 5, 6, 7]\n",
        "# plot confusion matrix\n",
        "plt.imshow(conf, interpolation='nearest', cmap=plt.cm.Greens)\n",
        "plt.title(\"Confusion Matrix\")\n",
        "plt.colorbar()\n",
        "tick_marks = np.arange(len(classes))\n",
        "plt.xticks(tick_marks, classes)\n",
        "plt.yticks(tick_marks, classes)\n",
        "\n",
        "fmt = 'd'\n",
        "thresh = conf.max() / 2.\n",
        "for i, j in itertools.product(range(conf.shape[0]), range(conf.shape[1])):\n",
        "    plt.text(j, i, format(conf[i, j], fmt),\n",
        "             horizontalalignment=\"center\",\n",
        "             color=\"white\" if conf[i, j] > thresh else \"black\")\n",
        "\n",
        "plt.tight_layout()\n",
        "plt.ylabel('True label')\n",
        "plt.xlabel('Predicted label')"
      ],
      "metadata": {
        "colab": {
          "base_uri": "https://localhost:8080/",
          "height": 601
        },
        "id": "EUlTHOm5UZls",
        "outputId": "f7ac0a79-34b9-4a00-d1fa-551b9973c70d"
      },
      "execution_count": 38,
      "outputs": [
        {
          "output_type": "stream",
          "name": "stdout",
          "text": [
            "              precision    recall  f1-score   support\n",
            "\n",
            "           0       0.00      0.00      0.00      1834\n",
            "           1       0.13      1.00      0.23      1913\n",
            "           2       0.00      0.00      0.00      1865\n",
            "           3       0.00      0.00      0.00      1947\n",
            "           4       0.00      0.00      0.00      1870\n",
            "           5       0.00      0.00      0.00      1887\n",
            "           6       0.00      0.00      0.00      1830\n",
            "           7       0.00      0.00      0.00      1854\n",
            "\n",
            "    accuracy                           0.13     15000\n",
            "   macro avg       0.02      0.12      0.03     15000\n",
            "weighted avg       0.02      0.13      0.03     15000\n",
            "\n"
          ]
        },
        {
          "output_type": "execute_result",
          "data": {
            "text/plain": [
              "Text(0.5, 15.0, 'Predicted label')"
            ]
          },
          "metadata": {},
          "execution_count": 38
        },
        {
          "output_type": "display_data",
          "data": {
            "text/plain": [
              "<Figure size 432x288 with 2 Axes>"
            ],
            "image/png": "[encoded data removed]"
          },
          "metadata": {
            "needs_background": "light"
          }
        }
      ]
    }
  ]
}