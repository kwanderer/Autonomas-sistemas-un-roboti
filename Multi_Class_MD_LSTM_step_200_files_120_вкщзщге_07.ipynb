{
  "cells": [
    {
      "cell_type": "markdown",
      "metadata": {
        "id": "view-in-github",
        "colab_type": "text"
      },
      "source": [
        "<a href=\"https://colab.research.google.com/github/kwanderer/Autonomas-sistemas-un-roboti/blob/main/Multi_Class_MD_LSTM_step_200_files_120_%D0%B2%D0%BA%D1%89%D0%B7%D1%89%D0%B3%D0%B5_07.ipynb\" target=\"_parent\"><img src=\"https://colab.research.google.com/assets/colab-badge.svg\" alt=\"Open In Colab\"/></a>"
      ]
    },
    {
      "cell_type": "markdown",
      "metadata": {
        "id": "f857kfHqUk0-"
      },
      "source": [
        "\n",
        "\n",
        "#Datu kopa"
      ]
    },
    {
      "cell_type": "markdown",
      "metadata": {
        "id": "nM9WE3QGUwVi"
      },
      "source": [
        "Datu kopas avots: https://www.kaggle.com/uysalserkan/fault-induction-motor-dataset"
      ]
    },
    {
      "cell_type": "markdown",
      "metadata": {
        "id": "_sN_h3qHHy6r"
      },
      "source": [
        "Darbā tiek izmantota indukcijas motora parametru datu bāze. Izmantotajā datu kopā ir dati, kas tika iegūti SpectraQuest aparatūras kļūdu simulatorā (Machinery Fault Simulator).\n",
        "\n",
        "Katra mērījumu secība tika ģenerēta ar frekvenci 50 kHz 5 sekunžu laikā, kopā 250 000 mērījumi.\n",
        "\n",
        "Dati ir apkopoti vairākos failos, dažādos darbības stāvokļos un to apjoms ir ļoti liels. Šajā darbā tika izmantota daļa(viena mērījumu secība) no motora normālas darbības datiem.\n"
      ]
    },
    {
      "cell_type": "markdown",
      "metadata": {
        "id": "KtFAOaHYHLPo"
      },
      "source": [
        "Dati ir apkopoti tabulā, kura satur 8 parametrus. Dati ir iedalīti sekojošās kolonas:\n",
        "\n",
        "**tachometer** – tahometra signāls, kas ļauj novērtēt rotācijas frekvenci\n",
        "\n",
        "**und-accelerometer-axial** - apakšā esošā gultņa akselerometrs (aksiālais virziens)\n",
        "\n",
        "**und-accelerometer-radial** – apakšā esošā gultņa akselerometrs (radiālais virziens)\n",
        "\n",
        "**und-accelerometer-tangential** - apakšā esošā gultņa akselerometrs (tangenciālais virziens)\n",
        "\n",
        "**over-accelerometer-axial** - pārkares gultņa akselerometrs (aksiālais virziens)\n",
        "\n",
        "**over-accelerometer-radial** – pārkares gultņa akselerometrs (radiālais  virziens)\n",
        "\n",
        "**over-accelerometer-tangential**  - pārkares gultņa akselerometrs (tangenciālais virziens)\n",
        "\n",
        "**microphone** – mikrofona vērtība\n"
      ]
    },
    {
      "cell_type": "markdown",
      "metadata": {
        "id": "XymoNLKMVFUC"
      },
      "source": [
        "#Datu ielasīšana un satura vizualizācija"
      ]
    },
    {
      "cell_type": "code",
      "execution_count": 1,
      "metadata": {
        "id": "_yqYZDeOFq5s"
      },
      "outputs": [],
      "source": [
        "import keras\n",
        "from keras.layers import LSTM, Dropout, Dense\n",
        "import tensorflow as tf\n",
        "import numpy as np\n",
        "import pandas as pd\n",
        "\n",
        "from sklearn import linear_model  #pip install sklearn - loti plasa masinapmacibas biblioteka\n",
        "from sklearn.linear_model import LinearRegression  \n",
        "import csv          #pip install csv - darbam ar CSV datu kopam\n",
        "import requests     #pip install requests  - vienkarsakam darbam ar tiessaistes CSV datu kopam tiessaistes\n",
        "\n",
        "import matplotlib\n",
        "import matplotlib.pyplot as plt\n",
        "\n",
        "import glob\n"
      ]
    },
    {
      "cell_type": "code",
      "execution_count": 2,
      "metadata": {
        "id": "wlRTBbM2eUcV",
        "colab": {
          "base_uri": "https://localhost:8080/"
        },
        "outputId": "38c614b1-b14e-4e50-aff3-7d3a9303e2b9"
      },
      "outputs": [
        {
          "output_type": "stream",
          "name": "stdout",
          "text": [
            "Drive already mounted at /content/gdrive; to attempt to forcibly remount, call drive.mount(\"/content/gdrive\", force_remount=True).\n"
          ]
        }
      ],
      "source": [
        "from google.colab import drive\n",
        "import os\n",
        "drive.mount('/content/gdrive')\n",
        "os.chdir(\"/content/gdrive/MyDrive/Colab Notebooks/data_multiclass/\")"
      ]
    },
    {
      "cell_type": "code",
      "execution_count": 3,
      "metadata": {
        "id": "zzz6fBl_SNom"
      },
      "outputs": [],
      "source": [
        "#extension = 'csv'\n",
        "#all_filenames = [i for i in glob.glob('*.{}'.format(extension))]"
      ]
    },
    {
      "cell_type": "code",
      "execution_count": 4,
      "metadata": {
        "id": "vagKFCkToBi0"
      },
      "outputs": [],
      "source": [
        "#combine all files in the list\n",
        "#combined_csv = pd.concat([pd.read_csv(f) for f in all_filenames ])\n",
        "#export to csv\n",
        "#combined_csv.to_csv( \"combined_multiclass_csv.csv\", index=False, encoding='utf-8-sig')"
      ]
    },
    {
      "cell_type": "code",
      "execution_count": 5,
      "metadata": {
        "id": "encEkbDhSfGI"
      },
      "outputs": [],
      "source": [
        "data = pd.read_csv(\"combined_multiclass_csv.csv\")"
      ]
    },
    {
      "cell_type": "code",
      "execution_count": 6,
      "metadata": {
        "id": "yz5Qe8ZWk1Zq",
        "colab": {
          "base_uri": "https://localhost:8080/"
        },
        "outputId": "3b1a5fb5-fc71-41c5-c6c1-0fbbd1b9765b"
      },
      "outputs": [
        {
          "output_type": "stream",
          "name": "stdout",
          "text": [
            "<class 'pandas.core.frame.DataFrame'>\n",
            "RangeIndex: 30000000 entries, 0 to 29999999\n",
            "Data columns (total 9 columns):\n",
            " #   Column                         Dtype  \n",
            "---  ------                         -----  \n",
            " 0   tachometer                     float64\n",
            " 1   und-accelerometer-axial        float64\n",
            " 2   und-accelerometer-radial       float64\n",
            " 3   und-accelerometer-tangential   float64\n",
            " 4   over-accelerometer-axial       float64\n",
            " 5   over-accelerometer-radial      float64\n",
            " 6   over-accelerometer-tangential  float64\n",
            " 7   microphone                     float64\n",
            " 8   Class                          int64  \n",
            "dtypes: float64(8), int64(1)\n",
            "memory usage: 2.0 GB\n"
          ]
        }
      ],
      "source": [
        "data.info()"
      ]
    },
    {
      "cell_type": "code",
      "execution_count": 7,
      "metadata": {
        "id": "WUW9ezX6a_st",
        "colab": {
          "base_uri": "https://localhost:8080/"
        },
        "outputId": "0de38df7-15d3-4d51-e8b6-1eeb03f5d727"
      },
      "outputs": [
        {
          "output_type": "execute_result",
          "data": {
            "text/plain": [
              "30000000"
            ]
          },
          "metadata": {},
          "execution_count": 7
        }
      ],
      "source": [
        "rec_count = len(data)\n",
        "rec_count"
      ]
    },
    {
      "cell_type": "markdown",
      "metadata": {
        "id": "6RVC1PZy88fC"
      },
      "source": [
        "# Datu dalīšana mazākos gabalos"
      ]
    },
    {
      "cell_type": "code",
      "execution_count": 8,
      "metadata": {
        "id": "DOvnCYkcbGaE"
      },
      "outputs": [],
      "source": [
        "sequence_length = 200"
      ]
    },
    {
      "cell_type": "code",
      "execution_count": 9,
      "metadata": {
        "id": "RG0o2L3zbTEx"
      },
      "outputs": [],
      "source": [
        "def generate_data(X, y, sequence_length = 200, step = 200):\n",
        "    X_local = []\n",
        "    y_local = []\n",
        "    for start in range(0, len(data) - sequence_length, step):\n",
        "        end = start + sequence_length\n",
        "        X_local.append(X[start:end])\n",
        "        y_local.append(y[end-1])\n",
        "    return np.array(X_local), np.array(y_local)\n",
        "\n",
        "X_sequence, y = generate_data(data.loc[:, \"tachometer\":\"microphone\"].values, data.Class)\n",
        "#X_sequence, y = generate_data(data.loc[:, [\"tachometer\", \"und-accelerometer-axial\", \"und-accelerometer-radial\", \"und-accelerometer-tangential\", \"over-accelerometer-axial\", \"over-accelerometer-radial\", \"over-accelerometer-tangential\", \"microphone\"]].values, data.Class)\n",
        "#\"microphone\"\n",
        "#X_sequence, y = generate_data(data.loc[:, [\"tachometer\", \"und-accelerometer-axial\", \"und-accelerometer-radial\", \"und-accelerometer-tangential\", \"over-accelerometer-axial\", \"over-accelerometer-radial\", \"over-accelerometer-tangential\"]].values, data.Class)"
      ]
    },
    {
      "cell_type": "code",
      "execution_count": 10,
      "metadata": {
        "id": "s0QxwK66cLVF",
        "colab": {
          "base_uri": "https://localhost:8080/"
        },
        "outputId": "d7c0c535-d398-4bc3-a025-78e56ab0baaf"
      },
      "outputs": [
        {
          "output_type": "execute_result",
          "data": {
            "text/plain": [
              "((149999, 200, 8), (149999,))"
            ]
          },
          "metadata": {},
          "execution_count": 10
        }
      ],
      "source": [
        "X_sequence.shape, y.shape"
      ]
    },
    {
      "cell_type": "code",
      "source": [
        "unique, counts = np.unique(y, return_counts=True)"
      ],
      "metadata": {
        "id": "l8Lq455lV1JR"
      },
      "execution_count": 11,
      "outputs": []
    },
    {
      "cell_type": "code",
      "source": [
        "unique"
      ],
      "metadata": {
        "id": "t0BRO3nAWQxe",
        "colab": {
          "base_uri": "https://localhost:8080/"
        },
        "outputId": "b3b8f0fa-ec81-46df-bc2d-df7ab3963ece"
      },
      "execution_count": 12,
      "outputs": [
        {
          "output_type": "execute_result",
          "data": {
            "text/plain": [
              "array([0, 1, 2, 3, 4, 5, 6, 7])"
            ]
          },
          "metadata": {},
          "execution_count": 12
        }
      ]
    },
    {
      "cell_type": "code",
      "source": [
        "counts"
      ],
      "metadata": {
        "id": "WWZ7QWR4WS_r",
        "colab": {
          "base_uri": "https://localhost:8080/"
        },
        "outputId": "f41244d6-26ce-4c86-9e8e-4d98b786480b"
      },
      "execution_count": 13,
      "outputs": [
        {
          "output_type": "execute_result",
          "data": {
            "text/plain": [
              "array([18749, 18750, 18750, 18750, 18750, 18750, 18750, 18750])"
            ]
          },
          "metadata": {},
          "execution_count": 13
        }
      ]
    },
    {
      "cell_type": "code",
      "execution_count": 14,
      "metadata": {
        "id": "i7R1oo6Mj8wx"
      },
      "outputs": [],
      "source": [
        "data = 0"
      ]
    },
    {
      "cell_type": "code",
      "source": [
        "from sklearn.preprocessing import OneHotEncoder"
      ],
      "metadata": {
        "id": "lAk_JscRWmqY"
      },
      "execution_count": 15,
      "outputs": []
    },
    {
      "cell_type": "code",
      "source": [
        "label_encoder = OneHotEncoder(sparse=False)\n",
        "label_encoder.fit(y.reshape(-1,1))"
      ],
      "metadata": {
        "id": "14B9aYy0W0y6",
        "colab": {
          "base_uri": "https://localhost:8080/"
        },
        "outputId": "f1c40a01-12f3-45ce-890e-c7e1960d1282"
      },
      "execution_count": 16,
      "outputs": [
        {
          "output_type": "execute_result",
          "data": {
            "text/plain": [
              "OneHotEncoder(sparse=False)"
            ]
          },
          "metadata": {},
          "execution_count": 16
        }
      ]
    },
    {
      "cell_type": "code",
      "source": [
        "y_encoded = label_encoder.transform(y.reshape(-1,1))"
      ],
      "metadata": {
        "id": "VjpWn96xXgPS"
      },
      "execution_count": 17,
      "outputs": []
    },
    {
      "cell_type": "code",
      "source": [
        "y_encoded[0:5]"
      ],
      "metadata": {
        "id": "VL6KMFo9XpBi",
        "colab": {
          "base_uri": "https://localhost:8080/"
        },
        "outputId": "078b09c2-999a-4007-efbf-1fd1405bf07c"
      },
      "execution_count": 18,
      "outputs": [
        {
          "output_type": "execute_result",
          "data": {
            "text/plain": [
              "array([[0., 0., 0., 0., 0., 0., 0., 1.],\n",
              "       [0., 0., 0., 0., 0., 0., 0., 1.],\n",
              "       [0., 0., 0., 0., 0., 0., 0., 1.],\n",
              "       [0., 0., 0., 0., 0., 0., 0., 1.],\n",
              "       [0., 0., 0., 0., 0., 0., 0., 1.]])"
            ]
          },
          "metadata": {},
          "execution_count": 18
        }
      ]
    },
    {
      "cell_type": "code",
      "source": [
        "y=y_encoded"
      ],
      "metadata": {
        "id": "5c8km253YKBl"
      },
      "execution_count": 19,
      "outputs": []
    },
    {
      "cell_type": "markdown",
      "metadata": {
        "id": "5BXSDoHa9UX_"
      },
      "source": [
        "# Random/Shuffle"
      ]
    },
    {
      "cell_type": "code",
      "execution_count": 20,
      "metadata": {
        "id": "ZcfE9idy-ckb"
      },
      "outputs": [],
      "source": [
        "shuffler = np.random.permutation(len(X_sequence))\n",
        "X_sequence_shuffled = X_sequence[shuffler]\n",
        "y_shuffled = y[shuffler]"
      ]
    },
    {
      "cell_type": "markdown",
      "metadata": {
        "id": "TfhRTTNcE2s8"
      },
      "source": [
        "# LSTM"
      ]
    },
    {
      "cell_type": "code",
      "execution_count": 21,
      "metadata": {
        "id": "ihrXMuVAEwlY"
      },
      "outputs": [],
      "source": [
        "import pandas as pd\n",
        "import sklearn.metrics as metrique\n",
        "from pandas import Series\n",
        "from sklearn.preprocessing import StandardScaler, MinMaxScaler\n",
        "from matplotlib import pyplot\n",
        "from sklearn.model_selection import train_test_split\n",
        "import numpy as np\n",
        "import tensorflow as tf\n",
        "import sys\n",
        "import numpy as np\n",
        "import pandas as pd\n",
        "import tensorflow as tf\n",
        "import matplotlib.pyplot as plt\n",
        "from sklearn.model_selection import train_test_split\n",
        "from sklearn import preprocessing\n",
        "from sklearn.preprocessing import StandardScaler\n",
        "from sklearn.metrics import classification_report\n",
        "import warnings\n",
        "warnings.filterwarnings('ignore')\n",
        "plt.style.use('ggplot')\n",
        "import seaborn as sns \n",
        "%matplotlib inline\n",
        "from keras.callbacks import EarlyStopping\n",
        "from keras.callbacks import ModelCheckpoint\n",
        "from sklearn.metrics import accuracy_score\n",
        "from sklearn.metrics import classification_report, confusion_matrix\n",
        "from keras.models import Sequential\n",
        "from keras.utils import np_utils\n",
        "from keras.layers import LSTM, Dense, Embedding, Dropout,Input, Layer, Concatenate, Permute, Dot, Multiply, Flatten\n",
        "from keras.layers import RepeatVector, Dense, Activation, Lambda\n",
        "from keras.models import Sequential\n",
        "from keras import backend as K, regularizers, Model, metrics\n",
        "from keras.backend import cast"
      ]
    },
    {
      "cell_type": "code",
      "execution_count": 22,
      "metadata": {
        "id": "PjKWKiA6aH3z"
      },
      "outputs": [],
      "source": [
        "#from tensorflow.keras import optimizers\n",
        "#sgd = optimizers.SGD(lr=0.0001, decay=1e-6, momentum=0.9, nesterov=True)\n",
        "#model = keras.Sequential()\n",
        "#model.add(LSTM(100, input_shape = (200, 8)))\n",
        "#model.add(Dropout(0.5))\n",
        "#model.add(Dense(1, activation=\"softmax\"))\n",
        "\n",
        "\n",
        "#model.compile(loss=\"categorical_crossentropy\"\n",
        "#              , metrics=[keras.metrics.binary_accuracy]\n",
        "#              , optimizer='sgd')\n",
        "\n",
        "#model.summary()"
      ]
    },
    {
      "cell_type": "code",
      "execution_count": 23,
      "metadata": {
        "id": "_2SaVmwSWJVB",
        "colab": {
          "base_uri": "https://localhost:8080/"
        },
        "outputId": "484fc288-c8f8-420b-918f-2f0585ae0103"
      },
      "outputs": [
        {
          "output_type": "stream",
          "name": "stdout",
          "text": [
            "Model: \"sequential\"\n",
            "_________________________________________________________________\n",
            " Layer (type)                Output Shape              Param #   \n",
            "=================================================================\n",
            " lstm (LSTM)                 (None, 100)               43600     \n",
            "                                                                 \n",
            " dropout (Dropout)           (None, 100)               0         \n",
            "                                                                 \n",
            " dense (Dense)               (None, 8)                 808       \n",
            "                                                                 \n",
            "=================================================================\n",
            "Total params: 44,408\n",
            "Trainable params: 44,408\n",
            "Non-trainable params: 0\n",
            "_________________________________________________________________\n"
          ]
        }
      ],
      "source": [
        "from tensorflow.keras import optimizers\n",
        "#sgd = optimizers.SGD(lr=0.0001, decay=1e-6, momentum=0.9, nesterov=True)\n",
        "optimizer = tf.keras.optimizers.Adam(lr=0.0001)\n",
        "model = keras.Sequential()\n",
        "model.add(LSTM(100, input_shape = (200, 8)))\n",
        "model.add(Dropout(0.7))#0.25\n",
        "model.add(Dense(8, activation=\"softmax\"))\n",
        "\n",
        "#model.compile(loss='mean_squared_error', optimizer=sgd)\n",
        "model.compile(loss=\"categorical_crossentropy\"\n",
        "              , metrics=['accuracy']\n",
        "              , optimizer=optimizer)\n",
        "\n",
        "model.summary()"
      ]
    },
    {
      "cell_type": "code",
      "execution_count": 24,
      "metadata": {
        "id": "tg8wrqsqc8UX"
      },
      "outputs": [],
      "source": [
        "training_size = int(len(X_sequence) * 0.8)\n",
        "val_size = int(len(X_sequence) * 0.9)"
      ]
    },
    {
      "cell_type": "code",
      "execution_count": 25,
      "metadata": {
        "id": "avIp3TEKc-qF"
      },
      "outputs": [],
      "source": [
        "X_train, y_train = X_sequence_shuffled[:training_size], y_shuffled[:training_size]\n",
        "X_val, y_val = X_sequence_shuffled[training_size:val_size], y_shuffled[training_size:val_size]\n",
        "X_test, y_test = X_sequence_shuffled[val_size:], y_shuffled[val_size:]"
      ]
    },
    {
      "cell_type": "code",
      "execution_count": 26,
      "metadata": {
        "id": "RABc_uKzkBUT"
      },
      "outputs": [],
      "source": [
        "#X_sequence = 0\n",
        "#y = 0"
      ]
    },
    {
      "cell_type": "code",
      "source": [
        "X_train.shape"
      ],
      "metadata": {
        "id": "Omv-ht1dhGxL",
        "colab": {
          "base_uri": "https://localhost:8080/"
        },
        "outputId": "06fbcd6e-39eb-4e35-bf0c-f712eb01b7dd"
      },
      "execution_count": 27,
      "outputs": [
        {
          "output_type": "execute_result",
          "data": {
            "text/plain": [
              "(119999, 200, 8)"
            ]
          },
          "metadata": {},
          "execution_count": 27
        }
      ]
    },
    {
      "cell_type": "code",
      "execution_count": 28,
      "metadata": {
        "id": "8aIhPJ-wLCwZ",
        "colab": {
          "base_uri": "https://localhost:8080/"
        },
        "outputId": "30649bb8-4d16-4fa3-d09c-74a83c4c46c7"
      },
      "outputs": [
        {
          "output_type": "execute_result",
          "data": {
            "text/plain": [
              "array([[0., 0., 0., 0., 0., 1., 0., 0.],\n",
              "       [0., 0., 1., 0., 0., 0., 0., 0.],\n",
              "       [0., 0., 0., 0., 0., 1., 0., 0.],\n",
              "       [0., 0., 0., 0., 0., 0., 1., 0.],\n",
              "       [0., 0., 0., 0., 0., 1., 0., 0.],\n",
              "       [0., 1., 0., 0., 0., 0., 0., 0.],\n",
              "       [0., 0., 0., 1., 0., 0., 0., 0.],\n",
              "       [0., 0., 0., 0., 1., 0., 0., 0.],\n",
              "       [0., 1., 0., 0., 0., 0., 0., 0.],\n",
              "       [0., 0., 0., 0., 0., 1., 0., 0.]])"
            ]
          },
          "metadata": {},
          "execution_count": 28
        }
      ],
      "source": [
        "y_train[:10]"
      ]
    },
    {
      "cell_type": "code",
      "execution_count": 29,
      "metadata": {
        "id": "cen4faX0dFJP",
        "colab": {
          "base_uri": "https://localhost:8080/"
        },
        "outputId": "4d8e99cf-87cd-45aa-a00f-76e36f03e743"
      },
      "outputs": [
        {
          "output_type": "stream",
          "name": "stdout",
          "text": [
            "Epoch 1/100\n",
            "1875/1875 [==============================] - 27s 13ms/step - loss: 1.8506 - accuracy: 0.2172 - val_loss: 1.6526 - val_accuracy: 0.2963\n",
            "Epoch 2/100\n",
            "1875/1875 [==============================] - 26s 14ms/step - loss: 1.6995 - accuracy: 0.2688 - val_loss: 1.5902 - val_accuracy: 0.3349\n",
            "Epoch 3/100\n",
            "1875/1875 [==============================] - 23s 12ms/step - loss: 1.6370 - accuracy: 0.3099 - val_loss: 1.5327 - val_accuracy: 0.3642\n",
            "Epoch 4/100\n",
            "1875/1875 [==============================] - 23s 12ms/step - loss: 1.5781 - accuracy: 0.3499 - val_loss: 1.4869 - val_accuracy: 0.3899\n",
            "Epoch 5/100\n",
            "1875/1875 [==============================] - 23s 12ms/step - loss: 1.5023 - accuracy: 0.3820 - val_loss: 1.5574 - val_accuracy: 0.3910\n",
            "Epoch 6/100\n",
            "1875/1875 [==============================] - 23s 12ms/step - loss: 1.4969 - accuracy: 0.3848 - val_loss: 1.4092 - val_accuracy: 0.4192\n",
            "Epoch 7/100\n",
            "1875/1875 [==============================] - 23s 12ms/step - loss: 1.4465 - accuracy: 0.4033 - val_loss: 1.3795 - val_accuracy: 0.4247\n",
            "Epoch 8/100\n",
            "1875/1875 [==============================] - 23s 12ms/step - loss: 1.4316 - accuracy: 0.4142 - val_loss: 1.3698 - val_accuracy: 0.4381\n",
            "Epoch 9/100\n",
            "1875/1875 [==============================] - 23s 12ms/step - loss: 1.3898 - accuracy: 0.4306 - val_loss: 1.3937 - val_accuracy: 0.4492\n",
            "Epoch 10/100\n",
            "1875/1875 [==============================] - 24s 13ms/step - loss: 1.3797 - accuracy: 0.4354 - val_loss: 1.3023 - val_accuracy: 0.4618\n",
            "Epoch 11/100\n",
            "1875/1875 [==============================] - 23s 13ms/step - loss: 1.3730 - accuracy: 0.4398 - val_loss: 1.3492 - val_accuracy: 0.4391\n",
            "Epoch 12/100\n",
            "1875/1875 [==============================] - 24s 13ms/step - loss: 1.3765 - accuracy: 0.4319 - val_loss: 1.3063 - val_accuracy: 0.4589\n",
            "Epoch 13/100\n",
            "1875/1875 [==============================] - 24s 13ms/step - loss: 1.3362 - accuracy: 0.4509 - val_loss: 1.2820 - val_accuracy: 0.4736\n",
            "Epoch 14/100\n",
            "1875/1875 [==============================] - 24s 13ms/step - loss: 1.3149 - accuracy: 0.4646 - val_loss: 1.2693 - val_accuracy: 0.4705\n",
            "Epoch 15/100\n",
            "1875/1875 [==============================] - 24s 13ms/step - loss: 1.2974 - accuracy: 0.4708 - val_loss: 1.2775 - val_accuracy: 0.4679\n",
            "Epoch 16/100\n",
            "1875/1875 [==============================] - 24s 13ms/step - loss: 1.2960 - accuracy: 0.4698 - val_loss: 1.2592 - val_accuracy: 0.4833\n",
            "Epoch 17/100\n",
            "1875/1875 [==============================] - 24s 13ms/step - loss: 1.2865 - accuracy: 0.4773 - val_loss: 1.4030 - val_accuracy: 0.4495\n",
            "Epoch 18/100\n",
            "1875/1875 [==============================] - 24s 13ms/step - loss: 1.3105 - accuracy: 0.4669 - val_loss: 1.2193 - val_accuracy: 0.5013\n",
            "Epoch 19/100\n",
            "1875/1875 [==============================] - 25s 14ms/step - loss: 1.2821 - accuracy: 0.4805 - val_loss: 1.2722 - val_accuracy: 0.4777\n",
            "Epoch 20/100\n",
            "1875/1875 [==============================] - 24s 13ms/step - loss: 1.2803 - accuracy: 0.4764 - val_loss: 1.2828 - val_accuracy: 0.4711\n",
            "Epoch 21/100\n",
            "1875/1875 [==============================] - 24s 13ms/step - loss: 1.2700 - accuracy: 0.4821 - val_loss: 1.2098 - val_accuracy: 0.5025\n",
            "Epoch 22/100\n",
            "1875/1875 [==============================] - 24s 13ms/step - loss: 1.2956 - accuracy: 0.4724 - val_loss: 1.2154 - val_accuracy: 0.5005\n",
            "Epoch 23/100\n",
            "1875/1875 [==============================] - 24s 13ms/step - loss: 1.2337 - accuracy: 0.4976 - val_loss: 1.1904 - val_accuracy: 0.5119\n",
            "Epoch 24/100\n",
            "1875/1875 [==============================] - 24s 13ms/step - loss: 1.2608 - accuracy: 0.4882 - val_loss: 1.2324 - val_accuracy: 0.4930\n",
            "Epoch 25/100\n",
            "1875/1875 [==============================] - 24s 13ms/step - loss: 1.2283 - accuracy: 0.5015 - val_loss: 1.1757 - val_accuracy: 0.5168\n",
            "Epoch 26/100\n",
            "1875/1875 [==============================] - 25s 13ms/step - loss: 1.2250 - accuracy: 0.5044 - val_loss: 1.1723 - val_accuracy: 0.5237\n",
            "Epoch 27/100\n",
            "1875/1875 [==============================] - 24s 13ms/step - loss: 1.2131 - accuracy: 0.5065 - val_loss: 1.1765 - val_accuracy: 0.5157\n",
            "Epoch 28/100\n",
            "1875/1875 [==============================] - 24s 13ms/step - loss: 1.2374 - accuracy: 0.4977 - val_loss: 1.1834 - val_accuracy: 0.5155\n",
            "Epoch 29/100\n",
            "1875/1875 [==============================] - 23s 13ms/step - loss: 1.2208 - accuracy: 0.5035 - val_loss: 1.2003 - val_accuracy: 0.5019\n",
            "Epoch 30/100\n",
            "1875/1875 [==============================] - 23s 12ms/step - loss: 1.2022 - accuracy: 0.5087 - val_loss: 1.1518 - val_accuracy: 0.5287\n",
            "Epoch 31/100\n",
            "1875/1875 [==============================] - 23s 12ms/step - loss: 1.2112 - accuracy: 0.5040 - val_loss: 1.1579 - val_accuracy: 0.5275\n",
            "Epoch 32/100\n",
            "1875/1875 [==============================] - 24s 13ms/step - loss: 1.1960 - accuracy: 0.5111 - val_loss: 1.1646 - val_accuracy: 0.5210\n",
            "Epoch 33/100\n",
            "1875/1875 [==============================] - 24s 13ms/step - loss: 1.2220 - accuracy: 0.5125 - val_loss: 1.1343 - val_accuracy: 0.5323\n",
            "Epoch 34/100\n",
            "1875/1875 [==============================] - 25s 13ms/step - loss: 1.1737 - accuracy: 0.5199 - val_loss: 1.1278 - val_accuracy: 0.5325\n",
            "Epoch 35/100\n",
            "1875/1875 [==============================] - 23s 13ms/step - loss: 1.2811 - accuracy: 0.4854 - val_loss: 1.2388 - val_accuracy: 0.4843\n",
            "Epoch 36/100\n",
            "1875/1875 [==============================] - 25s 13ms/step - loss: 1.2721 - accuracy: 0.4828 - val_loss: 1.2059 - val_accuracy: 0.5113\n",
            "Epoch 37/100\n",
            "1875/1875 [==============================] - 24s 13ms/step - loss: 1.1811 - accuracy: 0.5178 - val_loss: 1.1301 - val_accuracy: 0.5372\n",
            "Epoch 38/100\n",
            "1875/1875 [==============================] - 23s 12ms/step - loss: 1.1409 - accuracy: 0.5341 - val_loss: 1.1729 - val_accuracy: 0.5211\n",
            "Epoch 39/100\n",
            "1875/1875 [==============================] - 25s 13ms/step - loss: 1.1410 - accuracy: 0.5327 - val_loss: 1.0861 - val_accuracy: 0.5487\n",
            "Epoch 40/100\n",
            "1875/1875 [==============================] - 24s 13ms/step - loss: 1.1374 - accuracy: 0.5350 - val_loss: 1.0845 - val_accuracy: 0.5519\n",
            "Epoch 41/100\n",
            "1875/1875 [==============================] - 23s 12ms/step - loss: 1.1123 - accuracy: 0.5434 - val_loss: 1.0807 - val_accuracy: 0.5548\n",
            "Epoch 42/100\n",
            "1875/1875 [==============================] - 24s 13ms/step - loss: 1.1007 - accuracy: 0.5467 - val_loss: 1.0840 - val_accuracy: 0.5554\n",
            "Epoch 43/100\n",
            "1875/1875 [==============================] - 23s 13ms/step - loss: 1.1796 - accuracy: 0.5243 - val_loss: 1.1235 - val_accuracy: 0.5369\n",
            "Epoch 44/100\n",
            "1875/1875 [==============================] - 24s 13ms/step - loss: 1.1098 - accuracy: 0.5434 - val_loss: 1.0583 - val_accuracy: 0.5641\n",
            "Epoch 45/100\n",
            "1875/1875 [==============================] - 25s 13ms/step - loss: 1.0749 - accuracy: 0.5557 - val_loss: 1.0833 - val_accuracy: 0.5574\n",
            "Epoch 46/100\n",
            "1875/1875 [==============================] - 23s 12ms/step - loss: 1.0847 - accuracy: 0.5528 - val_loss: 1.0311 - val_accuracy: 0.5766\n",
            "Epoch 47/100\n",
            "1875/1875 [==============================] - 24s 13ms/step - loss: 1.0719 - accuracy: 0.5580 - val_loss: 1.0158 - val_accuracy: 0.5756\n",
            "Epoch 48/100\n",
            "1875/1875 [==============================] - 24s 13ms/step - loss: 1.0640 - accuracy: 0.5607 - val_loss: 1.0231 - val_accuracy: 0.5766\n",
            "Epoch 49/100\n",
            "1875/1875 [==============================] - 25s 13ms/step - loss: 1.0469 - accuracy: 0.5650 - val_loss: 1.0106 - val_accuracy: 0.5734\n",
            "Epoch 50/100\n",
            "1875/1875 [==============================] - 24s 13ms/step - loss: 1.0390 - accuracy: 0.5684 - val_loss: 1.0242 - val_accuracy: 0.5778\n",
            "Epoch 51/100\n",
            "1875/1875 [==============================] - 23s 13ms/step - loss: 1.0325 - accuracy: 0.5690 - val_loss: 1.0050 - val_accuracy: 0.5821\n",
            "Epoch 52/100\n",
            "1875/1875 [==============================] - 24s 13ms/step - loss: 1.0220 - accuracy: 0.5734 - val_loss: 0.9838 - val_accuracy: 0.5921\n",
            "Epoch 53/100\n",
            "1875/1875 [==============================] - 24s 13ms/step - loss: 1.0312 - accuracy: 0.5702 - val_loss: 0.9646 - val_accuracy: 0.5922\n",
            "Epoch 54/100\n",
            "1875/1875 [==============================] - 24s 13ms/step - loss: 1.0098 - accuracy: 0.5772 - val_loss: 0.9544 - val_accuracy: 0.6013\n",
            "Epoch 55/100\n",
            "1875/1875 [==============================] - 24s 13ms/step - loss: 1.0074 - accuracy: 0.5800 - val_loss: 0.9598 - val_accuracy: 0.5945\n",
            "Epoch 56/100\n",
            "1875/1875 [==============================] - 25s 13ms/step - loss: 0.9991 - accuracy: 0.5821 - val_loss: 0.9744 - val_accuracy: 0.5853\n",
            "Epoch 57/100\n",
            "1875/1875 [==============================] - 24s 13ms/step - loss: 0.9896 - accuracy: 0.5852 - val_loss: 0.9450 - val_accuracy: 0.6075\n",
            "Epoch 58/100\n",
            "1875/1875 [==============================] - 24s 13ms/step - loss: 0.9805 - accuracy: 0.5890 - val_loss: 0.9341 - val_accuracy: 0.6055\n",
            "Epoch 59/100\n",
            "1875/1875 [==============================] - 23s 13ms/step - loss: 0.9861 - accuracy: 0.5868 - val_loss: 0.9337 - val_accuracy: 0.6103\n",
            "Epoch 60/100\n",
            "1875/1875 [==============================] - 24s 13ms/step - loss: 0.9657 - accuracy: 0.5934 - val_loss: 0.9458 - val_accuracy: 0.6053\n",
            "Epoch 61/100\n",
            "1875/1875 [==============================] - 24s 13ms/step - loss: 0.9613 - accuracy: 0.5941 - val_loss: 0.9209 - val_accuracy: 0.6150\n",
            "Epoch 62/100\n",
            "1875/1875 [==============================] - 24s 13ms/step - loss: 0.9652 - accuracy: 0.5947 - val_loss: 0.9177 - val_accuracy: 0.6144\n",
            "Epoch 63/100\n",
            "1875/1875 [==============================] - 25s 14ms/step - loss: 0.9461 - accuracy: 0.6010 - val_loss: 0.9135 - val_accuracy: 0.6111\n",
            "Epoch 64/100\n",
            "1875/1875 [==============================] - 24s 13ms/step - loss: 0.9460 - accuracy: 0.6016 - val_loss: 0.9117 - val_accuracy: 0.6153\n",
            "Epoch 65/100\n",
            "1875/1875 [==============================] - 24s 13ms/step - loss: 0.9367 - accuracy: 0.6037 - val_loss: 0.9284 - val_accuracy: 0.6130\n",
            "Epoch 66/100\n",
            "1875/1875 [==============================] - 24s 13ms/step - loss: 0.9329 - accuracy: 0.6075 - val_loss: 0.8953 - val_accuracy: 0.6175\n",
            "Epoch 67/100\n",
            "1875/1875 [==============================] - 25s 13ms/step - loss: 0.9309 - accuracy: 0.6070 - val_loss: 0.8906 - val_accuracy: 0.6193\n",
            "Epoch 68/100\n",
            "1875/1875 [==============================] - 24s 13ms/step - loss: 0.9245 - accuracy: 0.6104 - val_loss: 0.9093 - val_accuracy: 0.6171\n",
            "Epoch 69/100\n",
            "1875/1875 [==============================] - 24s 13ms/step - loss: 0.9178 - accuracy: 0.6121 - val_loss: 0.8799 - val_accuracy: 0.6270\n",
            "Epoch 70/100\n",
            "1875/1875 [==============================] - 24s 13ms/step - loss: 0.9113 - accuracy: 0.6154 - val_loss: 0.8883 - val_accuracy: 0.6253\n",
            "Epoch 71/100\n",
            "1875/1875 [==============================] - 24s 13ms/step - loss: 0.9072 - accuracy: 0.6173 - val_loss: 0.8615 - val_accuracy: 0.6307\n",
            "Epoch 72/100\n",
            "1875/1875 [==============================] - 25s 13ms/step - loss: 0.9041 - accuracy: 0.6164 - val_loss: 0.9751 - val_accuracy: 0.5937\n",
            "Epoch 73/100\n",
            "1875/1875 [==============================] - 24s 13ms/step - loss: 0.8947 - accuracy: 0.6222 - val_loss: 0.8737 - val_accuracy: 0.6339\n",
            "Epoch 74/100\n",
            "1875/1875 [==============================] - 24s 13ms/step - loss: 0.8940 - accuracy: 0.6230 - val_loss: 0.8469 - val_accuracy: 0.6401\n",
            "Epoch 75/100\n",
            "1875/1875 [==============================] - 24s 13ms/step - loss: 0.8884 - accuracy: 0.6259 - val_loss: 0.8554 - val_accuracy: 0.6385\n",
            "Epoch 76/100\n",
            "1875/1875 [==============================] - 24s 13ms/step - loss: 0.8816 - accuracy: 0.6275 - val_loss: 0.8479 - val_accuracy: 0.6382\n",
            "Epoch 77/100\n",
            "1875/1875 [==============================] - 24s 13ms/step - loss: 0.8766 - accuracy: 0.6306 - val_loss: 0.8320 - val_accuracy: 0.6475\n",
            "Epoch 78/100\n",
            "1875/1875 [==============================] - 24s 13ms/step - loss: 0.8707 - accuracy: 0.6324 - val_loss: 0.8241 - val_accuracy: 0.6487\n",
            "Epoch 79/100\n",
            "1875/1875 [==============================] - 25s 13ms/step - loss: 0.8687 - accuracy: 0.6344 - val_loss: 0.8411 - val_accuracy: 0.6399\n",
            "Epoch 80/100\n",
            "1875/1875 [==============================] - 24s 13ms/step - loss: 0.8681 - accuracy: 0.6343 - val_loss: 0.8138 - val_accuracy: 0.6560\n",
            "Epoch 81/100\n",
            "1875/1875 [==============================] - 24s 13ms/step - loss: 0.8562 - accuracy: 0.6380 - val_loss: 0.8159 - val_accuracy: 0.6505\n",
            "Epoch 82/100\n",
            "1875/1875 [==============================] - 24s 13ms/step - loss: 0.8549 - accuracy: 0.6395 - val_loss: 0.8153 - val_accuracy: 0.6511\n",
            "Epoch 83/100\n",
            "1875/1875 [==============================] - 25s 13ms/step - loss: 0.8473 - accuracy: 0.6428 - val_loss: 0.7988 - val_accuracy: 0.6649\n",
            "Epoch 84/100\n",
            "1875/1875 [==============================] - 26s 14ms/step - loss: 0.8649 - accuracy: 0.6388 - val_loss: 0.7925 - val_accuracy: 0.6619\n",
            "Epoch 85/100\n",
            "1875/1875 [==============================] - 25s 13ms/step - loss: 0.8397 - accuracy: 0.6452 - val_loss: 0.8205 - val_accuracy: 0.6599\n",
            "Epoch 86/100\n",
            "1875/1875 [==============================] - 24s 13ms/step - loss: 0.8381 - accuracy: 0.6477 - val_loss: 0.8117 - val_accuracy: 0.6543\n",
            "Epoch 87/100\n",
            "1875/1875 [==============================] - 24s 13ms/step - loss: 0.8304 - accuracy: 0.6517 - val_loss: 0.7882 - val_accuracy: 0.6677\n",
            "Epoch 88/100\n",
            "1875/1875 [==============================] - 24s 13ms/step - loss: 0.8282 - accuracy: 0.6519 - val_loss: 0.7806 - val_accuracy: 0.6723\n",
            "Epoch 89/100\n",
            "1875/1875 [==============================] - 25s 13ms/step - loss: 0.8223 - accuracy: 0.6552 - val_loss: 0.7648 - val_accuracy: 0.6791\n",
            "Epoch 90/100\n",
            "1875/1875 [==============================] - 25s 13ms/step - loss: 0.8471 - accuracy: 0.6458 - val_loss: 0.7635 - val_accuracy: 0.6799\n",
            "Epoch 91/100\n",
            "1875/1875 [==============================] - 24s 13ms/step - loss: 0.8161 - accuracy: 0.6595 - val_loss: 0.7669 - val_accuracy: 0.6783\n",
            "Epoch 92/100\n",
            "1875/1875 [==============================] - 23s 12ms/step - loss: 0.8135 - accuracy: 0.6592 - val_loss: 0.7726 - val_accuracy: 0.6769\n",
            "Epoch 93/100\n",
            "1875/1875 [==============================] - 23s 12ms/step - loss: 0.8595 - accuracy: 0.6465 - val_loss: 0.7829 - val_accuracy: 0.6789\n",
            "Epoch 94/100\n",
            "1875/1875 [==============================] - 23s 12ms/step - loss: 0.8084 - accuracy: 0.6626 - val_loss: 0.7580 - val_accuracy: 0.6830\n",
            "Epoch 95/100\n",
            "1875/1875 [==============================] - 23s 12ms/step - loss: 0.8008 - accuracy: 0.6661 - val_loss: 0.7759 - val_accuracy: 0.6772\n",
            "Epoch 96/100\n",
            "1875/1875 [==============================] - 23s 12ms/step - loss: 0.8053 - accuracy: 0.6633 - val_loss: 0.7413 - val_accuracy: 0.6915\n",
            "Epoch 97/100\n",
            "1875/1875 [==============================] - 24s 13ms/step - loss: 0.7943 - accuracy: 0.6677 - val_loss: 0.7451 - val_accuracy: 0.6881\n",
            "Epoch 98/100\n",
            "1875/1875 [==============================] - 23s 12ms/step - loss: 0.7922 - accuracy: 0.6688 - val_loss: 0.7357 - val_accuracy: 0.6937\n",
            "Epoch 99/100\n",
            "1875/1875 [==============================] - 23s 13ms/step - loss: 0.7926 - accuracy: 0.6699 - val_loss: 0.7300 - val_accuracy: 0.6953\n",
            "Epoch 100/100\n",
            "1875/1875 [==============================] - 24s 13ms/step - loss: 0.7871 - accuracy: 0.6715 - val_loss: 0.7548 - val_accuracy: 0.6889\n"
          ]
        }
      ],
      "source": [
        "history = model.fit(X_train, y_train, batch_size=64, epochs=100, validation_data=(X_val, y_val))\n",
        "#model.save('NewAllDataModel_E50_B64.h5')"
      ]
    },
    {
      "cell_type": "code",
      "execution_count": 30,
      "metadata": {
        "id": "R7QQeqVidKBR",
        "colab": {
          "base_uri": "https://localhost:8080/"
        },
        "outputId": "db5d3a89-5632-4a53-8d64-710a91c4399f"
      },
      "outputs": [
        {
          "output_type": "stream",
          "name": "stdout",
          "text": [
            "469/469 [==============================] - 3s 5ms/step - loss: 0.7638 - accuracy: 0.6837\n"
          ]
        }
      ],
      "source": [
        "test_acc = model.evaluate(X_test, y_test)"
      ]
    },
    {
      "cell_type": "code",
      "source": [
        "test_acc"
      ],
      "metadata": {
        "id": "6fuTmgGrUgGg",
        "colab": {
          "base_uri": "https://localhost:8080/"
        },
        "outputId": "8b571ded-dbb9-4380-dc7a-f26cb72a2e80"
      },
      "execution_count": 31,
      "outputs": [
        {
          "output_type": "execute_result",
          "data": {
            "text/plain": [
              "[0.7637642025947571, 0.6836666464805603]"
            ]
          },
          "metadata": {},
          "execution_count": 31
        }
      ]
    },
    {
      "cell_type": "code",
      "execution_count": 32,
      "metadata": {
        "id": "OHpifyqGdKn-",
        "colab": {
          "base_uri": "https://localhost:8080/"
        },
        "outputId": "d55ce78d-7747-4696-a65d-d44e1c786c20"
      },
      "outputs": [
        {
          "output_type": "stream",
          "name": "stdout",
          "text": [
            "469/469 [==============================] - 2s 4ms/step\n"
          ]
        }
      ],
      "source": [
        "y_test_prob = model.predict(X_test, verbose=1)"
      ]
    },
    {
      "cell_type": "code",
      "source": [
        "np.set_printoptions(suppress=True)\n",
        "y_test_prob_backup = y_test_prob\n",
        "y_test_prob"
      ],
      "metadata": {
        "id": "rRPswrrkmhp2",
        "colab": {
          "base_uri": "https://localhost:8080/"
        },
        "outputId": "50a160c0-0d6a-46e7-91ab-667272e37b02"
      },
      "execution_count": 33,
      "outputs": [
        {
          "output_type": "execute_result",
          "data": {
            "text/plain": [
              "array([[0.00000174, 0.00001648, 0.01907739, ..., 0.32712436, 0.01004806,\n",
              "        0.00018087],\n",
              "       [0.00032976, 0.00027534, 0.00121336, ..., 0.00120761, 0.27457446,\n",
              "        0.720418  ],\n",
              "       [0.00000035, 0.00001365, 0.04801721, ..., 0.11221415, 0.00096561,\n",
              "        0.00000837],\n",
              "       ...,\n",
              "       [0.11136274, 0.3392178 , 0.04617106, ..., 0.0003226 , 0.02884125,\n",
              "        0.47326678],\n",
              "       [0.00115768, 0.01221637, 0.11047001, ..., 0.01016383, 0.24148858,\n",
              "        0.6059835 ],\n",
              "       [0.00032322, 0.00045398, 0.0028112 , ..., 0.00030837, 0.14155191,\n",
              "        0.85387534]], dtype=float32)"
            ]
          },
          "metadata": {},
          "execution_count": 33
        }
      ]
    },
    {
      "cell_type": "code",
      "source": [
        "plt.figure(figsize=(10,10))\n",
        "plt.hist(y_test_prob_backup)"
      ],
      "metadata": {
        "colab": {
          "base_uri": "https://localhost:8080/",
          "height": 951
        },
        "id": "zEfx01QSE3Qh",
        "outputId": "e50da86d-1725-4913-f87a-c68aab82c664"
      },
      "execution_count": 34,
      "outputs": [
        {
          "output_type": "execute_result",
          "data": {
            "text/plain": [
              "(array([[12902.,    24.,    25.,    25.,    21.,    23.,    21.,    35.,\n",
              "            67.,  1857.],\n",
              "        [12978.,   112.,    56.,    39.,    33.,    31.,    36.,    39.,\n",
              "            43.,  1633.],\n",
              "        [11522.,  1219.,   505.,   257.,   160.,   105.,   103.,   130.,\n",
              "           146.,   853.],\n",
              "        [10012.,  1786.,  1161.,   703.,   515.,   269.,   139.,   145.,\n",
              "           140.,   130.],\n",
              "        [ 8981.,  1699.,  2099.,  1302.,   414.,   191.,   125.,    97.,\n",
              "            91.,     1.],\n",
              "        [ 9176.,  1443.,  1510.,  1646.,   960.,   225.,    39.,     1.,\n",
              "             0.,     0.],\n",
              "        [ 9941.,  1455.,  1042.,   914.,   651.,   481.,   311.,   135.,\n",
              "            53.,    17.],\n",
              "        [11250.,   699.,   409.,   363.,   317.,   290.,   326.,   353.,\n",
              "           518.,   475.]]),\n",
              " array([0.        , 0.09999666, 0.19999333, 0.29999   , 0.39998665,\n",
              "        0.4999833 , 0.59998   , 0.6999766 , 0.7999733 , 0.89996994,\n",
              "        0.9999666 ], dtype=float32),\n",
              " <a list of 8 Lists of Patches objects>)"
            ]
          },
          "metadata": {},
          "execution_count": 34
        },
        {
          "output_type": "display_data",
          "data": {
            "text/plain": [
              "<Figure size 720x720 with 1 Axes>"
            ],
            "image/png": "[encoded data removed]"
          },
          "metadata": {
            "needs_background": "light"
          }
        }
      ]
    },
    {
      "cell_type": "code",
      "source": [
        "c0, c1, c2, c3, c4, c5, c6, c7 = [], [], [], [], [], [], [], []\n",
        "\n",
        "i = 0\n",
        "l = len(y_test_prob_backup)\n",
        "while  l > 0:\n",
        "  c0.append(y_test_prob_backup[i][0])\n",
        "  c1.append(y_test_prob_backup[i][1])\n",
        "  c2.append(y_test_prob_backup[i][2])\n",
        "  c3.append(y_test_prob_backup[i][3])\n",
        "  c4.append(y_test_prob_backup[i][4])\n",
        "  c5.append(y_test_prob_backup[i][5])\n",
        "  c6.append(y_test_prob_backup[i][6])\n",
        "  c7.append(y_test_prob_backup[i][7])\n",
        "  i+=1\n",
        "  l-=1\n",
        "#print(c5[:10])"
      ],
      "metadata": {
        "id": "AeH9mwYbKj2K"
      },
      "execution_count": 35,
      "outputs": []
    },
    {
      "cell_type": "code",
      "source": [
        "#plt.figure(figsize=(40,20))\n",
        "fig, axes = plt.subplots(nrows=2, ncols=4)\n",
        "ax0, ax1, ax2, ax3, ax4, ax5, ax6, ax7 = axes.flatten()\n",
        "\n",
        "ax0.hist(c0)\n",
        "ax0.set_title(\"class 0\")\n",
        "ax1.hist(c1)\n",
        "ax1.set_title(\"class 1\")\n",
        "ax2.hist(c2)\n",
        "ax2.set_title(\"class 2\")\n",
        "ax3.hist(c3)\n",
        "ax3.set_title(\"class 3\")\n",
        "ax4.hist(c4)\n",
        "ax4.set_title(\"class 4\")\n",
        "ax5.hist(c5)\n",
        "ax5.set_title(\"class 5\")\n",
        "ax6.hist(c6)\n",
        "ax6.set_title(\"class 6\")\n",
        "ax7.hist(c7)\n",
        "ax7.set_title(\"class 7\")\n",
        "\n",
        "fig.set_size_inches(25,10)\n",
        "plt.show()"
      ],
      "metadata": {
        "id": "tRycz48aHgXl",
        "outputId": "c0374632-5e69-45fd-e6c4-877af228ed2f",
        "colab": {
          "base_uri": "https://localhost:8080/",
          "height": 443
        }
      },
      "execution_count": 36,
      "outputs": [
        {
          "output_type": "display_data",
          "data": {
            "text/plain": [
              "<Figure size 1800x720 with 8 Axes>"
            ],
            "image/png": "[encoded data removed]"
          },
          "metadata": {
            "needs_background": "light"
          }
        }
      ]
    },
    {
      "cell_type": "code",
      "execution_count": 37,
      "metadata": {
        "id": "AfmdrBILdMwj"
      },
      "outputs": [],
      "source": [
        "y_test_pred = np.where(y_test_prob > 0.5, 1, 0)"
      ]
    },
    {
      "cell_type": "code",
      "execution_count": 38,
      "metadata": {
        "id": "8DoJy_p9dPzN"
      },
      "outputs": [],
      "source": [
        "from sklearn.metrics import multilabel_confusion_matrix"
      ]
    },
    {
      "cell_type": "code",
      "source": [
        "y_test"
      ],
      "metadata": {
        "id": "n1Us2yrfcGl-",
        "colab": {
          "base_uri": "https://localhost:8080/"
        },
        "outputId": "c5f84dc4-7c8b-4851-a519-c889da41263d"
      },
      "execution_count": 39,
      "outputs": [
        {
          "output_type": "execute_result",
          "data": {
            "text/plain": [
              "array([[0., 0., 0., ..., 0., 0., 0.],\n",
              "       [0., 0., 0., ..., 0., 0., 1.],\n",
              "       [0., 0., 0., ..., 0., 0., 0.],\n",
              "       ...,\n",
              "       [0., 0., 0., ..., 0., 0., 1.],\n",
              "       [0., 0., 0., ..., 0., 0., 1.],\n",
              "       [0., 0., 0., ..., 0., 0., 1.]])"
            ]
          },
          "metadata": {},
          "execution_count": 39
        }
      ]
    },
    {
      "cell_type": "code",
      "source": [
        "y_test.shape"
      ],
      "metadata": {
        "id": "VnmvTcvWbxr9",
        "colab": {
          "base_uri": "https://localhost:8080/"
        },
        "outputId": "0b9b8e0d-9178-400c-dd7d-708b4e999716"
      },
      "execution_count": 40,
      "outputs": [
        {
          "output_type": "execute_result",
          "data": {
            "text/plain": [
              "(15000, 8)"
            ]
          },
          "metadata": {},
          "execution_count": 40
        }
      ]
    },
    {
      "cell_type": "code",
      "source": [
        "y_test_pred"
      ],
      "metadata": {
        "id": "nMBOgzrgcJBj",
        "colab": {
          "base_uri": "https://localhost:8080/"
        },
        "outputId": "30b543a0-6384-46f2-facb-f6a48acc0f92"
      },
      "execution_count": 41,
      "outputs": [
        {
          "output_type": "execute_result",
          "data": {
            "text/plain": [
              "array([[0, 0, 0, ..., 0, 0, 0],\n",
              "       [0, 0, 0, ..., 0, 0, 1],\n",
              "       [0, 0, 0, ..., 0, 0, 0],\n",
              "       ...,\n",
              "       [0, 0, 0, ..., 0, 0, 0],\n",
              "       [0, 0, 0, ..., 0, 0, 1],\n",
              "       [0, 0, 0, ..., 0, 0, 1]])"
            ]
          },
          "metadata": {},
          "execution_count": 41
        }
      ]
    },
    {
      "cell_type": "code",
      "source": [
        "y_test_pred.shape"
      ],
      "metadata": {
        "id": "SXKZof8Ye5uI",
        "colab": {
          "base_uri": "https://localhost:8080/"
        },
        "outputId": "e24276a4-282d-49b4-d929-9ac1707af22d"
      },
      "execution_count": 42,
      "outputs": [
        {
          "output_type": "execute_result",
          "data": {
            "text/plain": [
              "(15000, 8)"
            ]
          },
          "metadata": {},
          "execution_count": 42
        }
      ]
    },
    {
      "cell_type": "code",
      "source": [
        "y_decoded_pred = tf.argmax(y_test_pred, axis = 1)"
      ],
      "metadata": {
        "id": "leDQwKOjgwwi"
      },
      "execution_count": 43,
      "outputs": []
    },
    {
      "cell_type": "code",
      "source": [
        "y_decoded = tf.argmax(y_test, axis = 1)"
      ],
      "metadata": {
        "id": "sAHRmtesif6g"
      },
      "execution_count": 44,
      "outputs": []
    },
    {
      "cell_type": "code",
      "source": [
        "y_decoded_pred"
      ],
      "metadata": {
        "id": "_lvFhrmPhprD",
        "colab": {
          "base_uri": "https://localhost:8080/"
        },
        "outputId": "c591cb70-9184-4c2c-9072-a0968b79b82c"
      },
      "execution_count": 45,
      "outputs": [
        {
          "output_type": "execute_result",
          "data": {
            "text/plain": [
              "<tf.Tensor: shape=(15000,), dtype=int64, numpy=array([0, 7, 3, ..., 0, 7, 7])>"
            ]
          },
          "metadata": {},
          "execution_count": 45
        }
      ]
    },
    {
      "cell_type": "code",
      "source": [
        "y_decoded"
      ],
      "metadata": {
        "id": "YV1FXgHviPwm",
        "colab": {
          "base_uri": "https://localhost:8080/"
        },
        "outputId": "a986f028-5a13-4cf9-ca3c-661016455c70"
      },
      "execution_count": 46,
      "outputs": [
        {
          "output_type": "execute_result",
          "data": {
            "text/plain": [
              "<tf.Tensor: shape=(15000,), dtype=int64, numpy=array([3, 7, 4, ..., 7, 7, 7])>"
            ]
          },
          "metadata": {},
          "execution_count": 46
        }
      ]
    },
    {
      "cell_type": "code",
      "source": [
        "y_test_pred = y_decoded_pred\n"
      ],
      "metadata": {
        "id": "6-6jFqzGh380"
      },
      "execution_count": 47,
      "outputs": []
    },
    {
      "cell_type": "code",
      "source": [
        "y_test = y_decoded"
      ],
      "metadata": {
        "id": "9pogVvdIiwss"
      },
      "execution_count": 48,
      "outputs": []
    },
    {
      "cell_type": "code",
      "source": [
        "y_test"
      ],
      "metadata": {
        "id": "oGt5aJetiKR6",
        "colab": {
          "base_uri": "https://localhost:8080/"
        },
        "outputId": "40571111-3b37-43c2-fe60-d8e0ed565b82"
      },
      "execution_count": 49,
      "outputs": [
        {
          "output_type": "execute_result",
          "data": {
            "text/plain": [
              "<tf.Tensor: shape=(15000,), dtype=int64, numpy=array([3, 7, 4, ..., 7, 7, 7])>"
            ]
          },
          "metadata": {},
          "execution_count": 49
        }
      ]
    },
    {
      "cell_type": "code",
      "source": [
        "y_test_pred"
      ],
      "metadata": {
        "id": "fLgDwAIfiyv2",
        "colab": {
          "base_uri": "https://localhost:8080/"
        },
        "outputId": "c65d06e0-0153-43d9-89de-6d8cdf69f860"
      },
      "execution_count": 50,
      "outputs": [
        {
          "output_type": "execute_result",
          "data": {
            "text/plain": [
              "<tf.Tensor: shape=(15000,), dtype=int64, numpy=array([0, 7, 3, ..., 0, 7, 7])>"
            ]
          },
          "metadata": {},
          "execution_count": 50
        }
      ]
    },
    {
      "cell_type": "code",
      "execution_count": 51,
      "metadata": {
        "id": "fTCsPjW8dQaZ"
      },
      "outputs": [],
      "source": [
        "cfm=confusion_matrix(y_test, y_test_pred)"
      ]
    },
    {
      "cell_type": "code",
      "source": [
        "cfm"
      ],
      "metadata": {
        "id": "_67lPg6ic4cH",
        "colab": {
          "base_uri": "https://localhost:8080/"
        },
        "outputId": "0eb4fe28-f844-48c4-fb69-e68dcadc9049"
      },
      "execution_count": 52,
      "outputs": [
        {
          "output_type": "execute_result",
          "data": {
            "text/plain": [
              "array([[1881,    6,    0,    0,    0,    0,    0,    3],\n",
              "       [ 119, 1742,   24,    0,    0,    0,    0,   17],\n",
              "       [ 541,   25, 1172,   55,    0,    0,    5,   67],\n",
              "       [1051,    1,  107,  610,   44,    7,    4,    3],\n",
              "       [1263,    0,   10,  124,  397,   55,   80,   19],\n",
              "       [1503,    0,   19,   34,   63,  194,   61,    7],\n",
              "       [ 743,    0,    5,    0,    1,    8,  691,  402],\n",
              "       [ 230,    7,    0,    0,    0,    0,  156, 1444]])"
            ]
          },
          "metadata": {},
          "execution_count": 52
        }
      ]
    },
    {
      "cell_type": "code",
      "source": [
        " print(classification_report(y_test,y_test_pred))"
      ],
      "metadata": {
        "id": "XTqR_xnwRWCJ",
        "colab": {
          "base_uri": "https://localhost:8080/"
        },
        "outputId": "c20ecd4e-7088-4048-918f-4407aca839f9"
      },
      "execution_count": 53,
      "outputs": [
        {
          "output_type": "stream",
          "name": "stdout",
          "text": [
            "              precision    recall  f1-score   support\n",
            "\n",
            "           0       0.26      1.00      0.41      1890\n",
            "           1       0.98      0.92      0.95      1902\n",
            "           2       0.88      0.63      0.73      1865\n",
            "           3       0.74      0.33      0.46      1827\n",
            "           4       0.79      0.20      0.32      1948\n",
            "           5       0.73      0.10      0.18      1881\n",
            "           6       0.69      0.37      0.49      1850\n",
            "           7       0.74      0.79      0.76      1837\n",
            "\n",
            "    accuracy                           0.54     15000\n",
            "   macro avg       0.73      0.54      0.54     15000\n",
            "weighted avg       0.73      0.54      0.54     15000\n",
            "\n"
          ]
        }
      ]
    },
    {
      "cell_type": "code",
      "execution_count": 54,
      "metadata": {
        "id": "te3fslrY9Eca",
        "colab": {
          "base_uri": "https://localhost:8080/",
          "height": 900
        },
        "outputId": "53b37442-46c6-47d8-b70e-10bf368adbed"
      },
      "outputs": [
        {
          "output_type": "stream",
          "name": "stdout",
          "text": [
            "Confusion matrix, without normalization\n",
            "[[1881    6    0    0    0    0    0    3]\n",
            " [ 119 1742   24    0    0    0    0   17]\n",
            " [ 541   25 1172   55    0    0    5   67]\n",
            " [1051    1  107  610   44    7    4    3]\n",
            " [1263    0   10  124  397   55   80   19]\n",
            " [1503    0   19   34   63  194   61    7]\n",
            " [ 743    0    5    0    1    8  691  402]\n",
            " [ 230    7    0    0    0    0  156 1444]]\n",
            "Normalized confusion matrix\n",
            "[[1.   0.   0.   0.   0.   0.   0.   0.  ]\n",
            " [0.06 0.92 0.01 0.   0.   0.   0.   0.01]\n",
            " [0.29 0.01 0.63 0.03 0.   0.   0.   0.04]\n",
            " [0.58 0.   0.06 0.33 0.02 0.   0.   0.  ]\n",
            " [0.65 0.   0.01 0.06 0.2  0.03 0.04 0.01]\n",
            " [0.8  0.   0.01 0.02 0.03 0.1  0.03 0.  ]\n",
            " [0.4  0.   0.   0.   0.   0.   0.37 0.22]\n",
            " [0.13 0.   0.   0.   0.   0.   0.08 0.79]]\n"
          ]
        },
        {
          "output_type": "display_data",
          "data": {
            "text/plain": [
              "<Figure size 432x288 with 2 Axes>"
            ],
            "image/png": "[encoded data removed]"
          },
          "metadata": {
            "needs_background": "light"
          }
        },
        {
          "output_type": "display_data",
          "data": {
            "text/plain": [
              "<Figure size 432x288 with 2 Axes>"
            ],
            "image/png": "[encoded data removed]"
          },
          "metadata": {
            "needs_background": "light"
          }
        }
      ],
      "source": [
        "import numpy as np\n",
        "import matplotlib.pyplot as plt\n",
        "\n",
        "from sklearn import svm, datasets\n",
        "from sklearn.model_selection import train_test_split\n",
        "from sklearn.metrics import confusion_matrix\n",
        "from sklearn.utils.multiclass import unique_labels\n",
        "\n",
        "class_names = np.array(['0', '1', '2', '3', '4', '5', '6', '7'])\n",
        "\n",
        "def plot_confusion_matrix(y_true, y_pred, classes,\n",
        "                          normalize=False,\n",
        "                          title=None,\n",
        "                          cmap=plt.cm.Blues):\n",
        "    \"\"\"\n",
        "    This function prints and plots the confusion matrix.\n",
        "    Normalization can be applied by setting `normalize=True`.\n",
        "    \"\"\"\n",
        "    if not title:\n",
        "        if normalize:\n",
        "            title = 'Normalized confusion matrix'\n",
        "        else:\n",
        "            title = 'Confusion matrix, without normalization'\n",
        "\n",
        "    # Compute confusion matrix\n",
        "    cm = confusion_matrix(y_true, y_pred)\n",
        "    # Only use the labels that appear in the data\n",
        "    classes = classes[unique_labels(y_true, y_pred)]\n",
        "    if normalize:\n",
        "        cm = cm.astype('float') / cm.sum(axis=1)[:, np.newaxis]\n",
        "        print(\"Normalized confusion matrix\")\n",
        "    else:\n",
        "        print('Confusion matrix, without normalization')\n",
        "\n",
        "    print(cm)\n",
        "\n",
        "    fig, ax = plt.subplots()\n",
        "    im = ax.imshow(cm, interpolation='nearest', cmap=cmap)\n",
        "    ax.figure.colorbar(im, ax=ax)\n",
        "    # We want to show all ticks...\n",
        "    ax.set(xticks=np.arange(cm.shape[1]),\n",
        "           yticks=np.arange(cm.shape[0]),\n",
        "           # ... and label them with the respective list entries\n",
        "           xticklabels=classes, yticklabels=classes,\n",
        "           title=title,\n",
        "           ylabel='True label',\n",
        "           xlabel='Predicted label')\n",
        "\n",
        "    # Rotate the tick labels and set their alignment.\n",
        "    plt.setp(ax.get_xticklabels(), rotation=45, ha=\"right\",\n",
        "             rotation_mode=\"anchor\")\n",
        "\n",
        "    # Loop over data dimensions and create text annotations.\n",
        "    fmt = '.2f' if normalize else 'd'\n",
        "    thresh = cm.max() / 2.\n",
        "    for i in range(cm.shape[0]):\n",
        "        for j in range(cm.shape[1]):\n",
        "            ax.text(j, i, format(cm[i, j], fmt),\n",
        "                    ha=\"center\", va=\"center\",\n",
        "                    color=\"white\" if cm[i, j] > thresh else \"black\")\n",
        "    fig.tight_layout()\n",
        "\n",
        "    return ax\n",
        "\n",
        "\n",
        "np.set_printoptions(precision=2)\n",
        "\n",
        "# Plot non-normalized confusion matrix\n",
        "plot_confusion_matrix(y_test, y_test_pred, classes=class_names,\n",
        "                      title='Confusion matrix, without normalization')\n",
        "\n",
        "# Plot normalized confusion matrix\n",
        "plot_confusion_matrix(y_test, y_test_pred, classes=class_names, normalize=True,\n",
        "                      title='Normalized confusion matrix')\n",
        "\n",
        "plt.show()"
      ]
    },
    {
      "cell_type": "code",
      "execution_count": 55,
      "metadata": {
        "id": "fhdLAhgPUnH3"
      },
      "outputs": [],
      "source": [
        "def plot_learningCurve(history, epoch):\n",
        "  # Plot training & validation accuracy values\n",
        "  epoch_range = range(1, epoch+1)\n",
        "  plt.plot(epoch_range, history.history['accuracy'])\n",
        "  plt.plot(epoch_range, history.history['val_accuracy'])\n",
        "  plt.title('Model accuracy')\n",
        "  plt.ylabel('Accuracy')\n",
        "  plt.xlabel('Epoch')\n",
        "  plt.legend(['Train', 'Val'], loc='upper left')\n",
        "  plt.show()\n",
        "\n",
        "  # Plot training & validation loss values\n",
        "  plt.plot(epoch_range, history.history['loss'])\n",
        "  plt.plot(epoch_range, history.history['val_loss'])\n",
        "  plt.title('Model loss')\n",
        "  plt.ylabel('Loss')\n",
        "  plt.xlabel('Epoch')\n",
        "  plt.legend(['Train', 'Val'], loc='upper left')\n",
        "  plt.show()"
      ]
    },
    {
      "cell_type": "code",
      "execution_count": 56,
      "metadata": {
        "id": "WlkQkWHgU5mL",
        "colab": {
          "base_uri": "https://localhost:8080/",
          "height": 581
        },
        "outputId": "52b778af-cac0-4995-cc63-28680813291e"
      },
      "outputs": [
        {
          "output_type": "display_data",
          "data": {
            "text/plain": [
              "<Figure size 432x288 with 1 Axes>"
            ],
            "image/png": "[encoded data removed]"
          },
          "metadata": {
            "needs_background": "light"
          }
        },
        {
          "output_type": "display_data",
          "data": {
            "text/plain": [
              "<Figure size 432x288 with 1 Axes>"
            ],
            "image/png": "[encoded data removed]"
          },
          "metadata": {
            "needs_background": "light"
          }
        }
      ],
      "source": [
        "plot_learningCurve(history, 100)"
      ]
    }
  ],
  "metadata": {
    "colab": {
      "collapsed_sections": [
        "f857kfHqUk0-"
      ],
      "name": "Multi_Class_MD_LSTM_step_200_files_120.ipynb",
      "provenance": [],
      "include_colab_link": true
    },
    "kernelspec": {
      "display_name": "Python 3",
      "name": "python3"
    },
    "language_info": {
      "name": "python"
    },
    "accelerator": "GPU"
  },
  "nbformat": 4,
  "nbformat_minor": 0
}