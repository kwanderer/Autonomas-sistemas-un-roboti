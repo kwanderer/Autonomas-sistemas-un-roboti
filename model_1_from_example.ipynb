{
  "metadata": {
    "kernelspec": {
      "language": "python",
      "display_name": "Python 3",
      "name": "python3"
    },
    "language_info": {
      "name": "python",
      "version": "3.7.12",
      "mimetype": "text/x-python",
      "codemirror_mode": {
        "name": "ipython",
        "version": 3
      },
      "pygments_lexer": "ipython3",
      "nbconvert_exporter": "python",
      "file_extension": ".py"
    },
    "colab": {
      "name": "credit-card-fraud-cnn-weighted-nn-lstm.ipynb",
      "provenance": [],
      "include_colab_link": true
    }
  },
  "nbformat_minor": 0,
  "nbformat": 4,
  "cells": [
    {
      "cell_type": "markdown",
      "metadata": {
        "id": "view-in-github",
        "colab_type": "text"
      },
      "source": [
        "<a href=\"https://colab.research.google.com/github/kwanderer/Autonomas-sistemas-un-roboti/blob/main/model_1_from_example.ipynb\" target=\"_parent\"><img src=\"https://colab.research.google.com/assets/colab-badge.svg\" alt=\"Open In Colab\"/></a>"
      ]
    },
    {
      "cell_type": "code",
      "source": [
        "import sys\n",
        "import numpy as np\n",
        "import pandas as pd\n",
        "import tensorflow as tf\n",
        "import matplotlib.pyplot as plt\n",
        "from sklearn.model_selection import train_test_split\n",
        "from sklearn import preprocessing\n",
        "from sklearn.preprocessing import StandardScaler\n",
        "from sklearn.metrics import classification_report\n",
        "import warnings\n",
        "warnings.filterwarnings('ignore')\n",
        "plt.style.use('ggplot')\n",
        "import seaborn as sns \n",
        "%matplotlib inline"
      ],
      "metadata": {
        "execution": {
          "iopub.status.busy": "2022-03-09T19:23:03.253803Z",
          "iopub.execute_input": "2022-03-09T19:23:03.254417Z",
          "iopub.status.idle": "2022-03-09T19:23:08.469110Z",
          "shell.execute_reply.started": "2022-03-09T19:23:03.254272Z",
          "shell.execute_reply": "2022-03-09T19:23:08.468330Z"
        },
        "trusted": true,
        "id": "ssTvuSFNDBbX"
      },
      "execution_count": 26,
      "outputs": []
    },
    {
      "cell_type": "code",
      "source": [
        "from google.colab import drive\n",
        "import os\n",
        "drive.mount('/content/gdrive')\n",
        "os.chdir(\"/content/gdrive/MyDrive/Colab Notebooks/data_binary/\")"
      ],
      "metadata": {
        "execution": {
          "iopub.status.busy": "2022-03-09T19:23:08.470930Z",
          "iopub.execute_input": "2022-03-09T19:23:08.471203Z",
          "iopub.status.idle": "2022-03-09T19:23:12.713130Z",
          "shell.execute_reply.started": "2022-03-09T19:23:08.471159Z",
          "shell.execute_reply": "2022-03-09T19:23:12.712327Z"
        },
        "trusted": true,
        "colab": {
          "base_uri": "https://localhost:8080/"
        },
        "id": "-zoH04gSDBbg",
        "outputId": "07aacb35-9e05-4a71-affe-85e6f4af95bb"
      },
      "execution_count": 27,
      "outputs": [
        {
          "output_type": "stream",
          "name": "stdout",
          "text": [
            "Drive already mounted at /content/gdrive; to attempt to forcibly remount, call drive.mount(\"/content/gdrive\", force_remount=True).\n"
          ]
        }
      ]
    },
    {
      "cell_type": "code",
      "source": [
        "df = pd.read_csv(\"binary_data_csv.csv\")"
      ],
      "metadata": {
        "id": "rTZHPrFSDyvN"
      },
      "execution_count": 28,
      "outputs": []
    },
    {
      "cell_type": "code",
      "source": [
        "df.head()"
      ],
      "metadata": {
        "execution": {
          "iopub.status.busy": "2022-03-09T19:23:12.714704Z",
          "iopub.execute_input": "2022-03-09T19:23:12.714987Z",
          "iopub.status.idle": "2022-03-09T19:23:12.755981Z",
          "shell.execute_reply.started": "2022-03-09T19:23:12.714948Z",
          "shell.execute_reply": "2022-03-09T19:23:12.755126Z"
        },
        "trusted": true,
        "colab": {
          "base_uri": "https://localhost:8080/",
          "height": 267
        },
        "id": "NIZTvAfsDBbh",
        "outputId": "8b5ea82e-9ae2-4dca-ea34-68f256c9bb19"
      },
      "execution_count": 29,
      "outputs": [
        {
          "output_type": "execute_result",
          "data": {
            "text/plain": [
              "   tachometer  und-accelerometer-axial  und-accelerometer-radial  \\\n",
              "0      4.5051                -1.542900                  -0.36705   \n",
              "1      4.4602                 0.824310                   0.34692   \n",
              "2      4.5097                -1.091100                  -0.34990   \n",
              "3      4.4614                 0.043019                   0.23206   \n",
              "4      4.5006                -0.085942                  -0.13515   \n",
              "\n",
              "   und-accelerometer-tangential  over-accelerometer-axial  \\\n",
              "0                     -0.082564                   -2.5684   \n",
              "1                      0.053980                   -2.4641   \n",
              "2                     -0.047315                   -2.5442   \n",
              "3                      0.062850                   -2.5026   \n",
              "4                      0.019958                   -2.5031   \n",
              "\n",
              "   over-accelerometer-radial  over-accelerometer-tangential  microphone  Class  \n",
              "0                   0.077869                       -0.80149     0.15873      1  \n",
              "1                   0.075809                       -0.71191    -0.11093      1  \n",
              "2                   0.073877                       -0.78388     0.19010      1  \n",
              "3                   0.073081                       -0.73637    -0.10022      1  \n",
              "4                   0.072786                       -0.72987     0.16343      1  "
            ],
            "text/html": [
              "\n",
              "  <div id=\"df-591ae21d-eb18-41ff-9b4a-95be6ead8d07\">\n",
              "    <div class=\"colab-df-container\">\n",
              "      <div>\n",
              "<style scoped>\n",
              "    .dataframe tbody tr th:only-of-type {\n",
              "        vertical-align: middle;\n",
              "    }\n",
              "\n",
              "    .dataframe tbody tr th {\n",
              "        vertical-align: top;\n",
              "    }\n",
              "\n",
              "    .dataframe thead th {\n",
              "        text-align: right;\n",
              "    }\n",
              "</style>\n",
              "<table border=\"1\" class=\"dataframe\">\n",
              "  <thead>\n",
              "    <tr style=\"text-align: right;\">\n",
              "      <th></th>\n",
              "      <th>tachometer</th>\n",
              "      <th>und-accelerometer-axial</th>\n",
              "      <th>und-accelerometer-radial</th>\n",
              "      <th>und-accelerometer-tangential</th>\n",
              "      <th>over-accelerometer-axial</th>\n",
              "      <th>over-accelerometer-radial</th>\n",
              "      <th>over-accelerometer-tangential</th>\n",
              "      <th>microphone</th>\n",
              "      <th>Class</th>\n",
              "    </tr>\n",
              "  </thead>\n",
              "  <tbody>\n",
              "    <tr>\n",
              "      <th>0</th>\n",
              "      <td>4.5051</td>\n",
              "      <td>-1.542900</td>\n",
              "      <td>-0.36705</td>\n",
              "      <td>-0.082564</td>\n",
              "      <td>-2.5684</td>\n",
              "      <td>0.077869</td>\n",
              "      <td>-0.80149</td>\n",
              "      <td>0.15873</td>\n",
              "      <td>1</td>\n",
              "    </tr>\n",
              "    <tr>\n",
              "      <th>1</th>\n",
              "      <td>4.4602</td>\n",
              "      <td>0.824310</td>\n",
              "      <td>0.34692</td>\n",
              "      <td>0.053980</td>\n",
              "      <td>-2.4641</td>\n",
              "      <td>0.075809</td>\n",
              "      <td>-0.71191</td>\n",
              "      <td>-0.11093</td>\n",
              "      <td>1</td>\n",
              "    </tr>\n",
              "    <tr>\n",
              "      <th>2</th>\n",
              "      <td>4.5097</td>\n",
              "      <td>-1.091100</td>\n",
              "      <td>-0.34990</td>\n",
              "      <td>-0.047315</td>\n",
              "      <td>-2.5442</td>\n",
              "      <td>0.073877</td>\n",
              "      <td>-0.78388</td>\n",
              "      <td>0.19010</td>\n",
              "      <td>1</td>\n",
              "    </tr>\n",
              "    <tr>\n",
              "      <th>3</th>\n",
              "      <td>4.4614</td>\n",
              "      <td>0.043019</td>\n",
              "      <td>0.23206</td>\n",
              "      <td>0.062850</td>\n",
              "      <td>-2.5026</td>\n",
              "      <td>0.073081</td>\n",
              "      <td>-0.73637</td>\n",
              "      <td>-0.10022</td>\n",
              "      <td>1</td>\n",
              "    </tr>\n",
              "    <tr>\n",
              "      <th>4</th>\n",
              "      <td>4.5006</td>\n",
              "      <td>-0.085942</td>\n",
              "      <td>-0.13515</td>\n",
              "      <td>0.019958</td>\n",
              "      <td>-2.5031</td>\n",
              "      <td>0.072786</td>\n",
              "      <td>-0.72987</td>\n",
              "      <td>0.16343</td>\n",
              "      <td>1</td>\n",
              "    </tr>\n",
              "  </tbody>\n",
              "</table>\n",
              "</div>\n",
              "      <button class=\"colab-df-convert\" onclick=\"convertToInteractive('df-591ae21d-eb18-41ff-9b4a-95be6ead8d07')\"\n",
              "              title=\"Convert this dataframe to an interactive table.\"\n",
              "              style=\"display:none;\">\n",
              "        \n",
              "  <svg xmlns=\"http://www.w3.org/2000/svg\" height=\"24px\"viewBox=\"0 0 24 24\"\n",
              "       width=\"24px\">\n",
              "    <path d=\"M0 0h24v24H0V0z\" fill=\"none\"/>\n",
              "    <path d=\"M18.56 5.44l.94 2.06.94-2.06 2.06-.94-2.06-.94-.94-2.06-.94 2.06-2.06.94zm-11 1L8.5 8.5l.94-2.06 2.06-.94-2.06-.94L8.5 2.5l-.94 2.06-2.06.94zm10 10l.94 2.06.94-2.06 2.06-.94-2.06-.94-.94-2.06-.94 2.06-2.06.94z\"/><path d=\"M17.41 7.96l-1.37-1.37c-.4-.4-.92-.59-1.43-.59-.52 0-1.04.2-1.43.59L10.3 9.45l-7.72 7.72c-.78.78-.78 2.05 0 2.83L4 21.41c.39.39.9.59 1.41.59.51 0 1.02-.2 1.41-.59l7.78-7.78 2.81-2.81c.8-.78.8-2.07 0-2.86zM5.41 20L4 18.59l7.72-7.72 1.47 1.35L5.41 20z\"/>\n",
              "  </svg>\n",
              "      </button>\n",
              "      \n",
              "  <style>\n",
              "    .colab-df-container {\n",
              "      display:flex;\n",
              "      flex-wrap:wrap;\n",
              "      gap: 12px;\n",
              "    }\n",
              "\n",
              "    .colab-df-convert {\n",
              "      background-color: #E8F0FE;\n",
              "      border: none;\n",
              "      border-radius: 50%;\n",
              "      cursor: pointer;\n",
              "      display: none;\n",
              "      fill: #1967D2;\n",
              "      height: 32px;\n",
              "      padding: 0 0 0 0;\n",
              "      width: 32px;\n",
              "    }\n",
              "\n",
              "    .colab-df-convert:hover {\n",
              "      background-color: #E2EBFA;\n",
              "      box-shadow: 0px 1px 2px rgba(60, 64, 67, 0.3), 0px 1px 3px 1px rgba(60, 64, 67, 0.15);\n",
              "      fill: #174EA6;\n",
              "    }\n",
              "\n",
              "    [theme=dark] .colab-df-convert {\n",
              "      background-color: #3B4455;\n",
              "      fill: #D2E3FC;\n",
              "    }\n",
              "\n",
              "    [theme=dark] .colab-df-convert:hover {\n",
              "      background-color: #434B5C;\n",
              "      box-shadow: 0px 1px 3px 1px rgba(0, 0, 0, 0.15);\n",
              "      filter: drop-shadow(0px 1px 2px rgba(0, 0, 0, 0.3));\n",
              "      fill: #FFFFFF;\n",
              "    }\n",
              "  </style>\n",
              "\n",
              "      <script>\n",
              "        const buttonEl =\n",
              "          document.querySelector('#df-591ae21d-eb18-41ff-9b4a-95be6ead8d07 button.colab-df-convert');\n",
              "        buttonEl.style.display =\n",
              "          google.colab.kernel.accessAllowed ? 'block' : 'none';\n",
              "\n",
              "        async function convertToInteractive(key) {\n",
              "          const element = document.querySelector('#df-591ae21d-eb18-41ff-9b4a-95be6ead8d07');\n",
              "          const dataTable =\n",
              "            await google.colab.kernel.invokeFunction('convertToInteractive',\n",
              "                                                     [key], {});\n",
              "          if (!dataTable) return;\n",
              "\n",
              "          const docLinkHtml = 'Like what you see? Visit the ' +\n",
              "            '<a target=\"_blank\" href=https://colab.research.google.com/notebooks/data_table.ipynb>data table notebook</a>'\n",
              "            + ' to learn more about interactive tables.';\n",
              "          element.innerHTML = '';\n",
              "          dataTable['output_type'] = 'display_data';\n",
              "          await google.colab.output.renderOutput(dataTable, element);\n",
              "          const docLink = document.createElement('div');\n",
              "          docLink.innerHTML = docLinkHtml;\n",
              "          element.appendChild(docLink);\n",
              "        }\n",
              "      </script>\n",
              "    </div>\n",
              "  </div>\n",
              "  "
            ]
          },
          "metadata": {},
          "execution_count": 29
        }
      ]
    },
    {
      "cell_type": "code",
      "source": [
        "print('This data frame has {} rows and {} columns.'.format(df.shape[0], df.shape[1]))"
      ],
      "metadata": {
        "execution": {
          "iopub.status.busy": "2022-03-09T19:23:12.757255Z",
          "iopub.execute_input": "2022-03-09T19:23:12.757987Z",
          "iopub.status.idle": "2022-03-09T19:23:12.764342Z",
          "shell.execute_reply.started": "2022-03-09T19:23:12.757941Z",
          "shell.execute_reply": "2022-03-09T19:23:12.763522Z"
        },
        "trusted": true,
        "colab": {
          "base_uri": "https://localhost:8080/"
        },
        "id": "arZi9AlaDBbj",
        "outputId": "0ef35153-14d7-4f0d-8774-cfdedb930032"
      },
      "execution_count": 30,
      "outputs": [
        {
          "output_type": "stream",
          "name": "stdout",
          "text": [
            "This data frame has 12500000 rows and 9 columns.\n"
          ]
        }
      ]
    },
    {
      "cell_type": "code",
      "source": [
        "#count of fraud vs. normal transactions \n",
        "\n",
        "counts = df.Class.value_counts()\n",
        "normal = counts[0]\n",
        "imbalance = counts[1]\n",
        "perc_normal = (normal/(normal+imbalance))*100\n",
        "perc_imbalance = (imbalance/(normal+imbalance))*100\n",
        "print('There were {} normal data ({:.3f}%) and {} imbalance transactions ({:.3f}%).'.format(normal, perc_normal, imbalance, perc_imbalance))"
      ],
      "metadata": {
        "execution": {
          "iopub.status.busy": "2022-03-09T19:23:12.766985Z",
          "iopub.execute_input": "2022-03-09T19:23:12.767640Z",
          "iopub.status.idle": "2022-03-09T19:23:12.783789Z",
          "shell.execute_reply.started": "2022-03-09T19:23:12.767597Z",
          "shell.execute_reply": "2022-03-09T19:23:12.782867Z"
        },
        "trusted": true,
        "colab": {
          "base_uri": "https://localhost:8080/"
        },
        "id": "eA2qdt1gDBbl",
        "outputId": "7fafe1f0-cf1d-43a4-b987-87e5e4f7ffc9"
      },
      "execution_count": 31,
      "outputs": [
        {
          "output_type": "stream",
          "name": "stdout",
          "text": [
            "There were 5000000 normal data (40.000%) and 7500000 imbalance transactions (60.000%).\n"
          ]
        }
      ]
    },
    {
      "cell_type": "code",
      "source": [
        "plt.figure(figsize=(10,8))\n",
        "sns.barplot(x=counts.index, y=counts)\n",
        "plt.title('Normal vs. Imbalance')\n",
        "plt.ylabel('Count')\n",
        "plt.xlabel('Class (0:Normal, 1:Imbalance)')"
      ],
      "metadata": {
        "execution": {
          "iopub.status.busy": "2022-03-09T19:23:12.786086Z",
          "iopub.execute_input": "2022-03-09T19:23:12.786478Z",
          "iopub.status.idle": "2022-03-09T19:23:13.024171Z",
          "shell.execute_reply.started": "2022-03-09T19:23:12.786436Z",
          "shell.execute_reply": "2022-03-09T19:23:13.023484Z"
        },
        "trusted": true,
        "colab": {
          "base_uri": "https://localhost:8080/",
          "height": 535
        },
        "id": "P3Dh62YzDBbn",
        "outputId": "a13ff1e4-522a-4e35-9bd8-d4b7162b8668"
      },
      "execution_count": 32,
      "outputs": [
        {
          "output_type": "execute_result",
          "data": {
            "text/plain": [
              "Text(0.5, 0, 'Class (0:Normal, 1:Imbalance)')"
            ]
          },
          "metadata": {},
          "execution_count": 32
        },
        {
          "output_type": "display_data",
          "data": {
            "text/plain": [
              "<Figure size 720x576 with 1 Axes>"
            ],
            "image/png": "[encoded data removed]"
          },
          "metadata": {
            "needs_background": "light"
          }
        }
      ]
    },
    {
      "cell_type": "code",
      "source": [
        "#finding correlation between columns and plotting heatmap\n",
        "\n",
        "corr = df.corr()\n",
        "plt.figure(figsize=(12,10))\n",
        "heat = sns.heatmap(data=corr)\n",
        "plt.title('Heatmap of Correlation')"
      ],
      "metadata": {
        "execution": {
          "iopub.status.busy": "2022-03-09T19:23:13.025311Z",
          "iopub.execute_input": "2022-03-09T19:23:13.025868Z",
          "iopub.status.idle": "2022-03-09T19:23:14.431178Z",
          "shell.execute_reply.started": "2022-03-09T19:23:13.025827Z",
          "shell.execute_reply": "2022-03-09T19:23:14.430421Z"
        },
        "trusted": true,
        "colab": {
          "base_uri": "https://localhost:8080/",
          "height": 768
        },
        "id": "UqKCOanUDBbo",
        "outputId": "7b06c0f0-e5bb-4e88-81e2-1faa014e7aaf"
      },
      "execution_count": 33,
      "outputs": [
        {
          "output_type": "execute_result",
          "data": {
            "text/plain": [
              "Text(0.5, 1.0, 'Heatmap of Correlation')"
            ]
          },
          "metadata": {},
          "execution_count": 33
        },
        {
          "output_type": "display_data",
          "data": {
            "text/plain": [
              "<Figure size 864x720 with 2 Axes>"
            ],
            "image/png": "[encoded data removed]"
          },
          "metadata": {
            "needs_background": "light"
          }
        }
      ]
    },
    {
      "cell_type": "code",
      "source": [
        "df.isnull().sum()"
      ],
      "metadata": {
        "execution": {
          "iopub.status.busy": "2022-03-09T19:23:14.432637Z",
          "iopub.execute_input": "2022-03-09T19:23:14.433073Z",
          "iopub.status.idle": "2022-03-09T19:23:14.460344Z",
          "shell.execute_reply.started": "2022-03-09T19:23:14.433032Z",
          "shell.execute_reply": "2022-03-09T19:23:14.459495Z"
        },
        "trusted": true,
        "colab": {
          "base_uri": "https://localhost:8080/"
        },
        "id": "uj4iNgxZDBbq",
        "outputId": "842bd668-e094-40dc-af64-ffc2e374b046"
      },
      "execution_count": 34,
      "outputs": [
        {
          "output_type": "execute_result",
          "data": {
            "text/plain": [
              "tachometer                       0\n",
              "und-accelerometer-axial          0\n",
              "und-accelerometer-radial         0\n",
              "und-accelerometer-tangential     0\n",
              "over-accelerometer-axial         0\n",
              "over-accelerometer-radial        0\n",
              "over-accelerometer-tangential    0\n",
              "microphone                       0\n",
              "Class                            0\n",
              "dtype: int64"
            ]
          },
          "metadata": {},
          "execution_count": 34
        }
      ]
    },
    {
      "cell_type": "code",
      "source": [
        "df.info()"
      ],
      "metadata": {
        "execution": {
          "iopub.status.busy": "2022-03-09T19:23:14.461935Z",
          "iopub.execute_input": "2022-03-09T19:23:14.462215Z",
          "iopub.status.idle": "2022-03-09T19:23:14.497983Z",
          "shell.execute_reply.started": "2022-03-09T19:23:14.462165Z",
          "shell.execute_reply": "2022-03-09T19:23:14.497096Z"
        },
        "trusted": true,
        "colab": {
          "base_uri": "https://localhost:8080/"
        },
        "id": "oF2RDWabDBbs",
        "outputId": "9e47fa1f-ad81-4ca8-f3d5-bac591e3a378"
      },
      "execution_count": 35,
      "outputs": [
        {
          "output_type": "stream",
          "name": "stdout",
          "text": [
            "<class 'pandas.core.frame.DataFrame'>\n",
            "RangeIndex: 12500000 entries, 0 to 12499999\n",
            "Data columns (total 9 columns):\n",
            " #   Column                         Dtype  \n",
            "---  ------                         -----  \n",
            " 0   tachometer                     float64\n",
            " 1   und-accelerometer-axial        float64\n",
            " 2   und-accelerometer-radial       float64\n",
            " 3   und-accelerometer-tangential   float64\n",
            " 4   over-accelerometer-axial       float64\n",
            " 5   over-accelerometer-radial      float64\n",
            " 6   over-accelerometer-tangential  float64\n",
            " 7   microphone                     float64\n",
            " 8   Class                          int64  \n",
            "dtypes: float64(8), int64(1)\n",
            "memory usage: 858.3 MB\n"
          ]
        }
      ]
    },
    {
      "cell_type": "code",
      "source": [
        "data=df.copy()"
      ],
      "metadata": {
        "id": "SAeHnxOIV8MT"
      },
      "execution_count": 36,
      "outputs": []
    },
    {
      "cell_type": "code",
      "source": [
        "data.info()"
      ],
      "metadata": {
        "colab": {
          "base_uri": "https://localhost:8080/"
        },
        "id": "tSM1lWrcV-0Q",
        "outputId": "6a9f7fe6-3135-430e-8100-45a546ef8a56"
      },
      "execution_count": 37,
      "outputs": [
        {
          "output_type": "stream",
          "name": "stdout",
          "text": [
            "<class 'pandas.core.frame.DataFrame'>\n",
            "RangeIndex: 12500000 entries, 0 to 12499999\n",
            "Data columns (total 9 columns):\n",
            " #   Column                         Dtype  \n",
            "---  ------                         -----  \n",
            " 0   tachometer                     float64\n",
            " 1   und-accelerometer-axial        float64\n",
            " 2   und-accelerometer-radial       float64\n",
            " 3   und-accelerometer-tangential   float64\n",
            " 4   over-accelerometer-axial       float64\n",
            " 5   over-accelerometer-radial      float64\n",
            " 6   over-accelerometer-tangential  float64\n",
            " 7   microphone                     float64\n",
            " 8   Class                          int64  \n",
            "dtypes: float64(8), int64(1)\n",
            "memory usage: 858.3 MB\n"
          ]
        }
      ]
    },
    {
      "cell_type": "markdown",
      "source": [
        "**Model-1(Over Sampling)**"
      ],
      "metadata": {
        "id": "sfJm8G7MDBbw"
      }
    },
    {
      "cell_type": "code",
      "source": [
        "# Create two different dataframes of majority and minority class \n",
        "df_fraud = data[data.Class==1]\n",
        "df_non_fraud = data[data.Class==0]\n",
        "\n",
        "# Oversample the minority class\n",
        "from sklearn.utils import resample\n",
        "df_fraud_oversampled = resample(df_fraud, \n",
        "                                 replace=True,    # sample with replacement\n",
        "                                 n_samples=len(df_non_fraud) , # to match majority class with len(df_majority) rows\n",
        "                                 random_state=42)  # reproducible results\n",
        "\n",
        "# Combine majority class with oversampled minority class\n",
        "df_oversampled = pd.concat([df_fraud_oversampled, df_non_fraud])"
      ],
      "metadata": {
        "execution": {
          "iopub.status.busy": "2022-03-09T19:23:14.568720Z",
          "iopub.execute_input": "2022-03-09T19:23:14.569000Z",
          "iopub.status.idle": "2022-03-09T19:23:14.683613Z",
          "shell.execute_reply.started": "2022-03-09T19:23:14.568964Z",
          "shell.execute_reply": "2022-03-09T19:23:14.682826Z"
        },
        "trusted": true,
        "id": "SoSbDG7ADBbz"
      },
      "execution_count": 38,
      "outputs": []
    },
    {
      "cell_type": "code",
      "source": [
        "df_oversampled.Class.value_counts()"
      ],
      "metadata": {
        "execution": {
          "iopub.status.busy": "2022-03-09T19:23:14.685296Z",
          "iopub.execute_input": "2022-03-09T19:23:14.685566Z",
          "iopub.status.idle": "2022-03-09T19:23:14.695024Z",
          "shell.execute_reply.started": "2022-03-09T19:23:14.685530Z",
          "shell.execute_reply": "2022-03-09T19:23:14.694258Z"
        },
        "trusted": true,
        "colab": {
          "base_uri": "https://localhost:8080/"
        },
        "id": "QREWWAaBDBb0",
        "outputId": "aaaa89f8-26c2-46e3-da14-877e36cc37f2"
      },
      "execution_count": 39,
      "outputs": [
        {
          "output_type": "execute_result",
          "data": {
            "text/plain": [
              "1    5000000\n",
              "0    5000000\n",
              "Name: Class, dtype: int64"
            ]
          },
          "metadata": {},
          "execution_count": 39
        }
      ]
    },
    {
      "cell_type": "code",
      "source": [
        "g = sns.countplot(df_oversampled.Class)\n",
        "g.set_xticklabels(['Normal','Imbalance'])"
      ],
      "metadata": {
        "execution": {
          "iopub.status.busy": "2022-03-09T19:23:14.699945Z",
          "iopub.execute_input": "2022-03-09T19:23:14.700544Z",
          "iopub.status.idle": "2022-03-09T19:23:14.914051Z",
          "shell.execute_reply.started": "2022-03-09T19:23:14.700504Z",
          "shell.execute_reply": "2022-03-09T19:23:14.913247Z"
        },
        "trusted": true,
        "colab": {
          "base_uri": "https://localhost:8080/",
          "height": 311
        },
        "id": "kAiI821mDBb1",
        "outputId": "0eb19d90-e8ec-44f2-b549-ba08d3624fec"
      },
      "execution_count": 40,
      "outputs": [
        {
          "output_type": "execute_result",
          "data": {
            "text/plain": [
              "[Text(0, 0, 'Normal'), Text(0, 0, 'Imbalance')]"
            ]
          },
          "metadata": {},
          "execution_count": 40
        },
        {
          "output_type": "display_data",
          "data": {
            "text/plain": [
              "<Figure size 432x288 with 1 Axes>"
            ],
            "image/png": "[encoded data removed]"
          },
          "metadata": {
            "needs_background": "light"
          }
        }
      ]
    },
    {
      "cell_type": "code",
      "source": [
        "# Target y and features X for developing NN models\n",
        "y = df_oversampled.Class\n",
        "X = df_oversampled.drop(['Class'], axis=1)"
      ],
      "metadata": {
        "execution": {
          "iopub.status.busy": "2022-03-09T19:23:14.915669Z",
          "iopub.execute_input": "2022-03-09T19:23:14.916177Z",
          "iopub.status.idle": "2022-03-09T19:23:14.967971Z",
          "shell.execute_reply.started": "2022-03-09T19:23:14.916138Z",
          "shell.execute_reply": "2022-03-09T19:23:14.967121Z"
        },
        "trusted": true,
        "id": "aHoU-OocDBb3"
      },
      "execution_count": 41,
      "outputs": []
    },
    {
      "cell_type": "code",
      "source": [
        "from sklearn.model_selection import train_test_split\n",
        "from sklearn.metrics import recall_score, precision_score, f1_score, roc_auc_score, confusion_matrix, roc_curve, roc_auc_score"
      ],
      "metadata": {
        "execution": {
          "iopub.status.busy": "2022-03-09T19:23:14.969061Z",
          "iopub.execute_input": "2022-03-09T19:23:14.969319Z",
          "iopub.status.idle": "2022-03-09T19:23:14.978210Z",
          "shell.execute_reply.started": "2022-03-09T19:23:14.969291Z",
          "shell.execute_reply": "2022-03-09T19:23:14.977270Z"
        },
        "trusted": true,
        "id": "qzggi-JkDBb4"
      },
      "execution_count": 42,
      "outputs": []
    },
    {
      "cell_type": "code",
      "source": [
        "# split the data (X, y) to train-data and test-data\n",
        "X_train, X_test, y_train, y_test = train_test_split(X, y, test_size=0.3, stratify=y, random_state=101)"
      ],
      "metadata": {
        "execution": {
          "iopub.status.busy": "2022-03-09T19:23:14.980009Z",
          "iopub.execute_input": "2022-03-09T19:23:14.980658Z",
          "iopub.status.idle": "2022-03-09T19:23:15.370819Z",
          "shell.execute_reply.started": "2022-03-09T19:23:14.980595Z",
          "shell.execute_reply": "2022-03-09T19:23:15.370074Z"
        },
        "trusted": true,
        "id": "sN5Yy5OoDBb4"
      },
      "execution_count": 43,
      "outputs": []
    },
    {
      "cell_type": "code",
      "source": [
        "X_train.shape, X_test.shape"
      ],
      "metadata": {
        "execution": {
          "iopub.status.busy": "2022-03-09T19:23:15.372239Z",
          "iopub.execute_input": "2022-03-09T19:23:15.372500Z",
          "iopub.status.idle": "2022-03-09T19:23:15.379608Z",
          "shell.execute_reply.started": "2022-03-09T19:23:15.372464Z",
          "shell.execute_reply": "2022-03-09T19:23:15.378724Z"
        },
        "trusted": true,
        "colab": {
          "base_uri": "https://localhost:8080/"
        },
        "id": "qsFy6tJbDBb6",
        "outputId": "2e627f7a-89fe-4b75-ee13-310749c9d0d9"
      },
      "execution_count": 44,
      "outputs": [
        {
          "output_type": "execute_result",
          "data": {
            "text/plain": [
              "((7000000, 8), (3000000, 8))"
            ]
          },
          "metadata": {},
          "execution_count": 44
        }
      ]
    },
    {
      "cell_type": "code",
      "source": [
        "scaler = StandardScaler()\n",
        "X_train = scaler.fit_transform(X_train)\n",
        "X_test = scaler.transform(X_test)"
      ],
      "metadata": {
        "execution": {
          "iopub.status.busy": "2022-03-09T19:23:15.381215Z",
          "iopub.execute_input": "2022-03-09T19:23:15.382209Z",
          "iopub.status.idle": "2022-03-09T19:23:15.589013Z",
          "shell.execute_reply.started": "2022-03-09T19:23:15.382154Z",
          "shell.execute_reply": "2022-03-09T19:23:15.588240Z"
        },
        "trusted": true,
        "id": "o7MfFDcfDBb7"
      },
      "execution_count": 45,
      "outputs": []
    },
    {
      "cell_type": "code",
      "source": [
        "y_train = y_train.to_numpy()\n",
        "y_test = y_test.to_numpy()"
      ],
      "metadata": {
        "execution": {
          "iopub.status.busy": "2022-03-09T19:23:15.590487Z",
          "iopub.execute_input": "2022-03-09T19:23:15.590757Z",
          "iopub.status.idle": "2022-03-09T19:23:15.597168Z",
          "shell.execute_reply.started": "2022-03-09T19:23:15.590720Z",
          "shell.execute_reply": "2022-03-09T19:23:15.596423Z"
        },
        "trusted": true,
        "id": "zbUx5MTwDBb8"
      },
      "execution_count": 46,
      "outputs": []
    },
    {
      "cell_type": "code",
      "source": [
        "X_train = X_train.reshape(X_train.shape[0], X_train.shape[1], 1)\n",
        "X_test = X_test.reshape(X_test.shape[0], X_test.shape[1], 1)"
      ],
      "metadata": {
        "execution": {
          "iopub.status.busy": "2022-03-09T19:23:15.598873Z",
          "iopub.execute_input": "2022-03-09T19:23:15.599216Z",
          "iopub.status.idle": "2022-03-09T19:23:15.605636Z",
          "shell.execute_reply.started": "2022-03-09T19:23:15.599161Z",
          "shell.execute_reply": "2022-03-09T19:23:15.604304Z"
        },
        "trusted": true,
        "id": "G5442zLgDBb8"
      },
      "execution_count": 47,
      "outputs": []
    },
    {
      "cell_type": "code",
      "source": [
        "X_train.shape, X_test.shape"
      ],
      "metadata": {
        "execution": {
          "iopub.status.busy": "2022-03-09T19:23:15.607548Z",
          "iopub.execute_input": "2022-03-09T19:23:15.607888Z",
          "iopub.status.idle": "2022-03-09T19:23:15.616413Z",
          "shell.execute_reply.started": "2022-03-09T19:23:15.607844Z",
          "shell.execute_reply": "2022-03-09T19:23:15.615560Z"
        },
        "trusted": true,
        "colab": {
          "base_uri": "https://localhost:8080/"
        },
        "id": "3nz3AYtSDBb9",
        "outputId": "071bf792-6a17-41d4-81bf-b30486f97bfb"
      },
      "execution_count": 48,
      "outputs": [
        {
          "output_type": "execute_result",
          "data": {
            "text/plain": [
              "((7000000, 8, 1), (3000000, 8, 1))"
            ]
          },
          "metadata": {},
          "execution_count": 48
        }
      ]
    },
    {
      "cell_type": "code",
      "source": [
        "epochs=20\n",
        "model_cnn = tf.keras.models.Sequential([\n",
        "    tf.keras.layers.Conv1D(filters=32, kernel_size=3, activation='relu', input_shape=X_train[0].shape),\n",
        "    tf.keras.layers.MaxPooling1D(pool_size=1),\n",
        "    tf.keras.layers.Conv1D(filters=64, kernel_size=3, activation='relu'),\n",
        "    tf.keras.layers.MaxPooling1D((1)),\n",
        "    tf.keras.layers.Conv1D(filters=64, kernel_size=3, activation='relu'),\n",
        "    tf.keras.layers.Flatten(),\n",
        "    tf.keras.layers.Dense(512,activation='relu'),\n",
        "    tf.keras.layers.Dense(1,activation='sigmoid')\n",
        "])\n",
        "\n",
        "model_cnn.summary()"
      ],
      "metadata": {
        "execution": {
          "iopub.status.busy": "2022-03-09T19:23:15.617846Z",
          "iopub.execute_input": "2022-03-09T19:23:15.618376Z",
          "iopub.status.idle": "2022-03-09T19:23:19.306227Z",
          "shell.execute_reply.started": "2022-03-09T19:23:15.618335Z",
          "shell.execute_reply": "2022-03-09T19:23:19.305528Z"
        },
        "trusted": true,
        "colab": {
          "base_uri": "https://localhost:8080/"
        },
        "id": "DYCaNKhfDBb-",
        "outputId": "38b6d747-c720-4cbf-a80c-0aafc4d5b517"
      },
      "execution_count": 49,
      "outputs": [
        {
          "output_type": "stream",
          "name": "stdout",
          "text": [
            "Model: \"sequential_1\"\n",
            "_________________________________________________________________\n",
            " Layer (type)                Output Shape              Param #   \n",
            "=================================================================\n",
            " conv1d_3 (Conv1D)           (None, 6, 32)             128       \n",
            "                                                                 \n",
            " max_pooling1d_2 (MaxPooling  (None, 6, 32)            0         \n",
            " 1D)                                                             \n",
            "                                                                 \n",
            " conv1d_4 (Conv1D)           (None, 4, 64)             6208      \n",
            "                                                                 \n",
            " max_pooling1d_3 (MaxPooling  (None, 4, 64)            0         \n",
            " 1D)                                                             \n",
            "                                                                 \n",
            " conv1d_5 (Conv1D)           (None, 2, 64)             12352     \n",
            "                                                                 \n",
            " flatten_1 (Flatten)         (None, 128)               0         \n",
            "                                                                 \n",
            " dense_2 (Dense)             (None, 512)               66048     \n",
            "                                                                 \n",
            " dense_3 (Dense)             (None, 1)                 513       \n",
            "                                                                 \n",
            "=================================================================\n",
            "Total params: 85,249\n",
            "Trainable params: 85,249\n",
            "Non-trainable params: 0\n",
            "_________________________________________________________________\n"
          ]
        }
      ]
    },
    {
      "cell_type": "code",
      "source": [
        "# Compile the model as usual\n",
        "model_cnn.compile(optimizer='rmsprop',\n",
        "                 loss='binary_crossentropy',\n",
        "                 metrics=['accuracy'])"
      ],
      "metadata": {
        "execution": {
          "iopub.status.busy": "2022-03-09T19:23:19.307548Z",
          "iopub.execute_input": "2022-03-09T19:23:19.307966Z",
          "iopub.status.idle": "2022-03-09T19:23:19.324570Z",
          "shell.execute_reply.started": "2022-03-09T19:23:19.307923Z",
          "shell.execute_reply": "2022-03-09T19:23:19.323764Z"
        },
        "trusted": true,
        "id": "fCnzSVEQDBb-"
      },
      "execution_count": 50,
      "outputs": []
    },
    {
      "cell_type": "code",
      "source": [
        "# Train the model\n",
        "history = model_cnn.fit(X_train, y_train, epochs=10, validation_data=(X_test, y_test))"
      ],
      "metadata": {
        "execution": {
          "iopub.status.busy": "2022-03-09T19:23:19.326061Z",
          "iopub.execute_input": "2022-03-09T19:23:19.326327Z",
          "iopub.status.idle": "2022-03-09T19:23:30.575919Z",
          "shell.execute_reply.started": "2022-03-09T19:23:19.326290Z",
          "shell.execute_reply": "2022-03-09T19:23:30.572061Z"
        },
        "trusted": true,
        "colab": {
          "base_uri": "https://localhost:8080/"
        },
        "id": "dEMiORgIDBb_",
        "outputId": "d4cdbf8c-c488-4ced-aad5-fdafe492de72"
      },
      "execution_count": 51,
      "outputs": [
        {
          "output_type": "stream",
          "name": "stdout",
          "text": [
            "Epoch 1/10\n",
            "218750/218750 [==============================] - 1311s 6ms/step - loss: 0.2920 - accuracy: 0.8808 - val_loss: 0.2818 - val_accuracy: 0.8838\n",
            "Epoch 2/10\n",
            "218750/218750 [==============================] - 1275s 6ms/step - loss: 0.3001 - accuracy: 0.8812 - val_loss: 0.2989 - val_accuracy: 0.8853\n",
            "Epoch 3/10\n",
            "218750/218750 [==============================] - 1353s 6ms/step - loss: 0.3157 - accuracy: 0.8779 - val_loss: 0.3094 - val_accuracy: 0.8810\n",
            "Epoch 4/10\n",
            "218750/218750 [==============================] - 1288s 6ms/step - loss: 0.3386 - accuracy: 0.8737 - val_loss: 0.3819 - val_accuracy: 0.8739\n",
            "Epoch 5/10\n",
            "218750/218750 [==============================] - 1413s 6ms/step - loss: 0.3320 - accuracy: 0.8723 - val_loss: 0.2986 - val_accuracy: 0.8822\n",
            "Epoch 6/10\n",
            "218750/218750 [==============================] - 1560s 7ms/step - loss: 0.3418 - accuracy: 0.8681 - val_loss: 0.3446 - val_accuracy: 0.8730\n",
            "Epoch 7/10\n",
            "218750/218750 [==============================] - 1209s 6ms/step - loss: 0.3530 - accuracy: 0.8669 - val_loss: 0.3530 - val_accuracy: 0.8757\n",
            "Epoch 8/10\n",
            "218750/218750 [==============================] - 1379s 6ms/step - loss: 0.3565 - accuracy: 0.8651 - val_loss: 0.3255 - val_accuracy: 0.8750\n",
            "Epoch 9/10\n",
            "218750/218750 [==============================] - 1345s 6ms/step - loss: 0.3556 - accuracy: 0.8645 - val_loss: 0.3606 - val_accuracy: 0.8576\n",
            "Epoch 10/10\n",
            "218750/218750 [==============================] - 1331s 6ms/step - loss: 0.3610 - accuracy: 0.8647 - val_loss: 0.3678 - val_accuracy: 0.8657\n"
          ]
        }
      ]
    },
    {
      "cell_type": "code",
      "source": [
        "history_dict = history.history\n",
        "loss = history_dict['loss']\n",
        "val_loss = history_dict['val_loss']\n",
        "acc = history_dict['accuracy']\n",
        "val_acc = history_dict['val_accuracy']\n",
        "\n",
        "epochs = range(1, len(loss) + 1)\n",
        "\n",
        "plt.plot(epochs, loss, 'b', label='Training Loss')\n",
        "plt.plot(epochs, val_loss, 'r', label='Validation Loss')\n",
        "plt.title('Training and Validation Loss')\n",
        "plt.xlabel('Epochs')\n",
        "plt.ylabel('Loss')\n",
        "plt.legend()\n",
        "plt.savefig('cnn_loss_plot.png')\n",
        "plt.show()\n",
        "\n",
        "plt.figure()\n",
        "\n",
        "plt.plot(epochs, acc, 'b', label='Training Accuracy')\n",
        "plt.plot(epochs, val_acc, 'r', label='Validation Accuracy')\n",
        "plt.title('Training and Validation Accuracy')\n",
        "plt.xlabel('Epochs')\n",
        "plt.ylabel('Accuracy')\n",
        "plt.legend()\n",
        "plt.savefig('cnn_acc_plot.png')\n",
        "plt.show()"
      ],
      "metadata": {
        "execution": {
          "iopub.status.busy": "2022-03-09T19:23:30.577316Z",
          "iopub.status.idle": "2022-03-09T19:23:30.577933Z",
          "shell.execute_reply.started": "2022-03-09T19:23:30.577667Z",
          "shell.execute_reply": "2022-03-09T19:23:30.577695Z"
        },
        "trusted": true,
        "colab": {
          "base_uri": "https://localhost:8080/",
          "height": 581
        },
        "id": "4Aq5JP3xDBb_",
        "outputId": "a7e0d25c-000a-44ff-a164-31369a55ac19"
      },
      "execution_count": 52,
      "outputs": [
        {
          "output_type": "display_data",
          "data": {
            "text/plain": [
              "<Figure size 432x288 with 1 Axes>"
            ],
            "image/png": "[encoded data removed]"
          },
          "metadata": {
            "needs_background": "light"
          }
        },
        {
          "output_type": "display_data",
          "data": {
            "text/plain": [
              "<Figure size 432x288 with 1 Axes>"
            ],
            "image/png": "[encoded data removed]"
          },
          "metadata": {
            "needs_background": "light"
          }
        }
      ]
    },
    {
      "cell_type": "code",
      "source": [
        "val_predictions = model_cnn.predict(X_test)\n",
        "pred=np.around(val_predictions)\n",
        "pred"
      ],
      "metadata": {
        "execution": {
          "iopub.status.busy": "2022-03-09T19:23:30.579200Z",
          "iopub.status.idle": "2022-03-09T19:23:30.580003Z",
          "shell.execute_reply.started": "2022-03-09T19:23:30.579724Z",
          "shell.execute_reply": "2022-03-09T19:23:30.579750Z"
        },
        "trusted": true,
        "colab": {
          "base_uri": "https://localhost:8080/"
        },
        "id": "ZXAOQHmrDBcA",
        "outputId": "1441bb08-1d1b-470c-b4fb-5b4d2bea59a4"
      },
      "execution_count": 53,
      "outputs": [
        {
          "output_type": "execute_result",
          "data": {
            "text/plain": [
              "array([[1.],\n",
              "       [0.],\n",
              "       [1.],\n",
              "       ...,\n",
              "       [0.],\n",
              "       [0.],\n",
              "       [1.]], dtype=float32)"
            ]
          },
          "metadata": {},
          "execution_count": 53
        }
      ]
    },
    {
      "cell_type": "code",
      "source": [
        "print(classification_report(y_test, pred))"
      ],
      "metadata": {
        "execution": {
          "iopub.status.busy": "2022-03-09T19:23:30.581398Z",
          "iopub.status.idle": "2022-03-09T19:23:30.581822Z",
          "shell.execute_reply.started": "2022-03-09T19:23:30.581591Z",
          "shell.execute_reply": "2022-03-09T19:23:30.581615Z"
        },
        "trusted": true,
        "colab": {
          "base_uri": "https://localhost:8080/"
        },
        "id": "OeaY3kBoDBcB",
        "outputId": "73c268aa-9031-4cf3-f814-20e585f9d1ac"
      },
      "execution_count": 54,
      "outputs": [
        {
          "output_type": "stream",
          "name": "stdout",
          "text": [
            "              precision    recall  f1-score   support\n",
            "\n",
            "           0       0.81      0.96      0.88   1500000\n",
            "           1       0.95      0.77      0.85   1500000\n",
            "\n",
            "    accuracy                           0.87   3000000\n",
            "   macro avg       0.88      0.87      0.86   3000000\n",
            "weighted avg       0.88      0.87      0.86   3000000\n",
            "\n"
          ]
        }
      ]
    },
    {
      "cell_type": "markdown",
      "source": [
        "**Model 2-MAX pooling**"
      ],
      "metadata": {
        "id": "x23D_u_YDBcB"
      }
    },
    {
      "cell_type": "code",
      "source": [
        "scaler = StandardScaler()\n",
        "df['NormalizedAmount'] = scaler.fit_transform(df['Amount'].values.reshape(-1, 1))"
      ],
      "metadata": {
        "execution": {
          "iopub.status.busy": "2022-03-09T19:23:30.583203Z",
          "iopub.status.idle": "2022-03-09T19:23:30.583918Z",
          "shell.execute_reply.started": "2022-03-09T19:23:30.583656Z",
          "shell.execute_reply": "2022-03-09T19:23:30.583681Z"
        },
        "trusted": true,
        "colab": {
          "base_uri": "https://localhost:8080/",
          "height": 519
        },
        "id": "46278oQ8DBcB",
        "outputId": "82e7f1da-724b-4ada-bbc2-879be5b61c40"
      },
      "execution_count": 55,
      "outputs": [
        {
          "output_type": "error",
          "ename": "KeyError",
          "evalue": "ignored",
          "traceback": [
            "\u001b[0;31m---------------------------------------------------------------------------\u001b[0m",
            "\u001b[0;31mKeyError\u001b[0m                                  Traceback (most recent call last)",
            "\u001b[0;32m/usr/local/lib/python3.7/dist-packages/pandas/core/indexes/base.py\u001b[0m in \u001b[0;36mget_loc\u001b[0;34m(self, key, method, tolerance)\u001b[0m\n\u001b[1;32m   3360\u001b[0m             \u001b[0;32mtry\u001b[0m\u001b[0;34m:\u001b[0m\u001b[0;34m\u001b[0m\u001b[0;34m\u001b[0m\u001b[0m\n\u001b[0;32m-> 3361\u001b[0;31m                 \u001b[0;32mreturn\u001b[0m \u001b[0mself\u001b[0m\u001b[0;34m.\u001b[0m\u001b[0m_engine\u001b[0m\u001b[0;34m.\u001b[0m\u001b[0mget_loc\u001b[0m\u001b[0;34m(\u001b[0m\u001b[0mcasted_key\u001b[0m\u001b[0;34m)\u001b[0m\u001b[0;34m\u001b[0m\u001b[0;34m\u001b[0m\u001b[0m\n\u001b[0m\u001b[1;32m   3362\u001b[0m             \u001b[0;32mexcept\u001b[0m \u001b[0mKeyError\u001b[0m \u001b[0;32mas\u001b[0m \u001b[0merr\u001b[0m\u001b[0;34m:\u001b[0m\u001b[0;34m\u001b[0m\u001b[0;34m\u001b[0m\u001b[0m\n",
            "\u001b[0;32m/usr/local/lib/python3.7/dist-packages/pandas/_libs/index.pyx\u001b[0m in \u001b[0;36mpandas._libs.index.IndexEngine.get_loc\u001b[0;34m()\u001b[0m\n",
            "\u001b[0;32m/usr/local/lib/python3.7/dist-packages/pandas/_libs/index.pyx\u001b[0m in \u001b[0;36mpandas._libs.index.IndexEngine.get_loc\u001b[0;34m()\u001b[0m\n",
            "\u001b[0;32mpandas/_libs/hashtable_class_helper.pxi\u001b[0m in \u001b[0;36mpandas._libs.hashtable.PyObjectHashTable.get_item\u001b[0;34m()\u001b[0m\n",
            "\u001b[0;32mpandas/_libs/hashtable_class_helper.pxi\u001b[0m in \u001b[0;36mpandas._libs.hashtable.PyObjectHashTable.get_item\u001b[0;34m()\u001b[0m\n",
            "\u001b[0;31mKeyError\u001b[0m: 'Amount'",
            "\nThe above exception was the direct cause of the following exception:\n",
            "\u001b[0;31mKeyError\u001b[0m                                  Traceback (most recent call last)",
            "\u001b[0;32m<ipython-input-55-a5d14a69c54d>\u001b[0m in \u001b[0;36m<module>\u001b[0;34m()\u001b[0m\n\u001b[1;32m      1\u001b[0m \u001b[0mscaler\u001b[0m \u001b[0;34m=\u001b[0m \u001b[0mStandardScaler\u001b[0m\u001b[0;34m(\u001b[0m\u001b[0;34m)\u001b[0m\u001b[0;34m\u001b[0m\u001b[0;34m\u001b[0m\u001b[0m\n\u001b[0;32m----> 2\u001b[0;31m \u001b[0mdf\u001b[0m\u001b[0;34m[\u001b[0m\u001b[0;34m'NormalizedAmount'\u001b[0m\u001b[0;34m]\u001b[0m \u001b[0;34m=\u001b[0m \u001b[0mscaler\u001b[0m\u001b[0;34m.\u001b[0m\u001b[0mfit_transform\u001b[0m\u001b[0;34m(\u001b[0m\u001b[0mdf\u001b[0m\u001b[0;34m[\u001b[0m\u001b[0;34m'Amount'\u001b[0m\u001b[0;34m]\u001b[0m\u001b[0;34m.\u001b[0m\u001b[0mvalues\u001b[0m\u001b[0;34m.\u001b[0m\u001b[0mreshape\u001b[0m\u001b[0;34m(\u001b[0m\u001b[0;34m-\u001b[0m\u001b[0;36m1\u001b[0m\u001b[0;34m,\u001b[0m \u001b[0;36m1\u001b[0m\u001b[0;34m)\u001b[0m\u001b[0;34m)\u001b[0m\u001b[0;34m\u001b[0m\u001b[0;34m\u001b[0m\u001b[0m\n\u001b[0m",
            "\u001b[0;32m/usr/local/lib/python3.7/dist-packages/pandas/core/frame.py\u001b[0m in \u001b[0;36m__getitem__\u001b[0;34m(self, key)\u001b[0m\n\u001b[1;32m   3456\u001b[0m             \u001b[0;32mif\u001b[0m \u001b[0mself\u001b[0m\u001b[0;34m.\u001b[0m\u001b[0mcolumns\u001b[0m\u001b[0;34m.\u001b[0m\u001b[0mnlevels\u001b[0m \u001b[0;34m>\u001b[0m \u001b[0;36m1\u001b[0m\u001b[0;34m:\u001b[0m\u001b[0;34m\u001b[0m\u001b[0;34m\u001b[0m\u001b[0m\n\u001b[1;32m   3457\u001b[0m                 \u001b[0;32mreturn\u001b[0m \u001b[0mself\u001b[0m\u001b[0;34m.\u001b[0m\u001b[0m_getitem_multilevel\u001b[0m\u001b[0;34m(\u001b[0m\u001b[0mkey\u001b[0m\u001b[0;34m)\u001b[0m\u001b[0;34m\u001b[0m\u001b[0;34m\u001b[0m\u001b[0m\n\u001b[0;32m-> 3458\u001b[0;31m             \u001b[0mindexer\u001b[0m \u001b[0;34m=\u001b[0m \u001b[0mself\u001b[0m\u001b[0;34m.\u001b[0m\u001b[0mcolumns\u001b[0m\u001b[0;34m.\u001b[0m\u001b[0mget_loc\u001b[0m\u001b[0;34m(\u001b[0m\u001b[0mkey\u001b[0m\u001b[0;34m)\u001b[0m\u001b[0;34m\u001b[0m\u001b[0;34m\u001b[0m\u001b[0m\n\u001b[0m\u001b[1;32m   3459\u001b[0m             \u001b[0;32mif\u001b[0m \u001b[0mis_integer\u001b[0m\u001b[0;34m(\u001b[0m\u001b[0mindexer\u001b[0m\u001b[0;34m)\u001b[0m\u001b[0;34m:\u001b[0m\u001b[0;34m\u001b[0m\u001b[0;34m\u001b[0m\u001b[0m\n\u001b[1;32m   3460\u001b[0m                 \u001b[0mindexer\u001b[0m \u001b[0;34m=\u001b[0m \u001b[0;34m[\u001b[0m\u001b[0mindexer\u001b[0m\u001b[0;34m]\u001b[0m\u001b[0;34m\u001b[0m\u001b[0;34m\u001b[0m\u001b[0m\n",
            "\u001b[0;32m/usr/local/lib/python3.7/dist-packages/pandas/core/indexes/base.py\u001b[0m in \u001b[0;36mget_loc\u001b[0;34m(self, key, method, tolerance)\u001b[0m\n\u001b[1;32m   3361\u001b[0m                 \u001b[0;32mreturn\u001b[0m \u001b[0mself\u001b[0m\u001b[0;34m.\u001b[0m\u001b[0m_engine\u001b[0m\u001b[0;34m.\u001b[0m\u001b[0mget_loc\u001b[0m\u001b[0;34m(\u001b[0m\u001b[0mcasted_key\u001b[0m\u001b[0;34m)\u001b[0m\u001b[0;34m\u001b[0m\u001b[0;34m\u001b[0m\u001b[0m\n\u001b[1;32m   3362\u001b[0m             \u001b[0;32mexcept\u001b[0m \u001b[0mKeyError\u001b[0m \u001b[0;32mas\u001b[0m \u001b[0merr\u001b[0m\u001b[0;34m:\u001b[0m\u001b[0;34m\u001b[0m\u001b[0;34m\u001b[0m\u001b[0m\n\u001b[0;32m-> 3363\u001b[0;31m                 \u001b[0;32mraise\u001b[0m \u001b[0mKeyError\u001b[0m\u001b[0;34m(\u001b[0m\u001b[0mkey\u001b[0m\u001b[0;34m)\u001b[0m \u001b[0;32mfrom\u001b[0m \u001b[0merr\u001b[0m\u001b[0;34m\u001b[0m\u001b[0;34m\u001b[0m\u001b[0m\n\u001b[0m\u001b[1;32m   3364\u001b[0m \u001b[0;34m\u001b[0m\u001b[0m\n\u001b[1;32m   3365\u001b[0m         \u001b[0;32mif\u001b[0m \u001b[0mis_scalar\u001b[0m\u001b[0;34m(\u001b[0m\u001b[0mkey\u001b[0m\u001b[0;34m)\u001b[0m \u001b[0;32mand\u001b[0m \u001b[0misna\u001b[0m\u001b[0;34m(\u001b[0m\u001b[0mkey\u001b[0m\u001b[0;34m)\u001b[0m \u001b[0;32mand\u001b[0m \u001b[0;32mnot\u001b[0m \u001b[0mself\u001b[0m\u001b[0;34m.\u001b[0m\u001b[0mhasnans\u001b[0m\u001b[0;34m:\u001b[0m\u001b[0;34m\u001b[0m\u001b[0;34m\u001b[0m\u001b[0m\n",
            "\u001b[0;31mKeyError\u001b[0m: 'Amount'"
          ]
        }
      ]
    },
    {
      "cell_type": "code",
      "source": [
        "y = df['Class']\n",
        "X = df.drop(['Class'], axis = 1)"
      ],
      "metadata": {
        "execution": {
          "iopub.status.busy": "2022-03-09T19:23:30.585315Z",
          "iopub.status.idle": "2022-03-09T19:23:30.585732Z",
          "shell.execute_reply.started": "2022-03-09T19:23:30.585502Z",
          "shell.execute_reply": "2022-03-09T19:23:30.585526Z"
        },
        "trusted": true,
        "id": "ED-aT2BvDBcC"
      },
      "execution_count": null,
      "outputs": []
    },
    {
      "cell_type": "code",
      "source": [
        "X_train, X_test, y_train, y_test = train_test_split(X, y, test_size = 0.2, random_state = 0, stratify = y)"
      ],
      "metadata": {
        "execution": {
          "iopub.status.busy": "2022-03-09T19:23:30.587087Z",
          "iopub.status.idle": "2022-03-09T19:23:30.587626Z",
          "shell.execute_reply.started": "2022-03-09T19:23:30.587373Z",
          "shell.execute_reply": "2022-03-09T19:23:30.587397Z"
        },
        "trusted": true,
        "id": "xCaUBbcLDBcC"
      },
      "execution_count": null,
      "outputs": []
    },
    {
      "cell_type": "code",
      "source": [
        "X_train.shape, X_test.shape"
      ],
      "metadata": {
        "execution": {
          "iopub.status.busy": "2022-03-09T19:23:30.589034Z",
          "iopub.status.idle": "2022-03-09T19:23:30.589714Z",
          "shell.execute_reply.started": "2022-03-09T19:23:30.589461Z",
          "shell.execute_reply": "2022-03-09T19:23:30.589486Z"
        },
        "trusted": true,
        "id": "DQyRketnDBcC"
      },
      "execution_count": null,
      "outputs": []
    },
    {
      "cell_type": "code",
      "source": [
        "scaler = StandardScaler()\n",
        "X_train = scaler.fit_transform(X_train)\n",
        "X_test = scaler.transform(X_test)"
      ],
      "metadata": {
        "execution": {
          "iopub.status.busy": "2022-03-09T19:23:30.592770Z",
          "iopub.status.idle": "2022-03-09T19:23:30.593498Z",
          "shell.execute_reply.started": "2022-03-09T19:23:30.593228Z",
          "shell.execute_reply": "2022-03-09T19:23:30.593256Z"
        },
        "trusted": true,
        "id": "6fPUYg9PDBcD"
      },
      "execution_count": null,
      "outputs": []
    },
    {
      "cell_type": "code",
      "source": [
        "y_train = y_train.to_numpy()\n",
        "y_test = y_test.to_numpy()"
      ],
      "metadata": {
        "execution": {
          "iopub.status.busy": "2022-03-09T19:23:30.594678Z",
          "iopub.status.idle": "2022-03-09T19:23:30.595585Z",
          "shell.execute_reply.started": "2022-03-09T19:23:30.595325Z",
          "shell.execute_reply": "2022-03-09T19:23:30.595351Z"
        },
        "trusted": true,
        "id": "z_1FYzljDBcD"
      },
      "execution_count": null,
      "outputs": []
    },
    {
      "cell_type": "code",
      "source": [
        "X_train = X_train.reshape(X_train.shape[0], X_train.shape[1], 1)\n",
        "X_test = X_test.reshape(X_test.shape[0], X_test.shape[1], 1)"
      ],
      "metadata": {
        "execution": {
          "iopub.status.busy": "2022-03-09T19:23:30.596720Z",
          "iopub.status.idle": "2022-03-09T19:23:30.597473Z",
          "shell.execute_reply.started": "2022-03-09T19:23:30.597220Z",
          "shell.execute_reply": "2022-03-09T19:23:30.597245Z"
        },
        "trusted": true,
        "id": "5HdkruykDBcE"
      },
      "execution_count": null,
      "outputs": []
    },
    {
      "cell_type": "code",
      "source": [
        "X_train.shape, X_test.shape"
      ],
      "metadata": {
        "execution": {
          "iopub.status.busy": "2022-03-09T19:23:30.598729Z",
          "iopub.status.idle": "2022-03-09T19:23:30.599669Z",
          "shell.execute_reply.started": "2022-03-09T19:23:30.599418Z",
          "shell.execute_reply": "2022-03-09T19:23:30.599444Z"
        },
        "trusted": true,
        "id": "uUxF-Z-bDBcE"
      },
      "execution_count": null,
      "outputs": []
    },
    {
      "cell_type": "code",
      "source": [
        "from tensorflow.keras import Sequential\n",
        "from tensorflow.keras.layers import Flatten, Dense, Dropout, BatchNormalization\n",
        "from tensorflow.keras.layers import Conv1D, MaxPool1D\n",
        "from tensorflow.keras.optimizers import Adam"
      ],
      "metadata": {
        "execution": {
          "iopub.status.busy": "2022-03-09T19:23:44.133698Z",
          "iopub.execute_input": "2022-03-09T19:23:44.133983Z",
          "iopub.status.idle": "2022-03-09T19:23:44.140939Z",
          "shell.execute_reply.started": "2022-03-09T19:23:44.133953Z",
          "shell.execute_reply": "2022-03-09T19:23:44.140051Z"
        },
        "trusted": true,
        "id": "DjHpvU4GDBcE"
      },
      "execution_count": null,
      "outputs": []
    },
    {
      "cell_type": "code",
      "source": [
        "epochs = 20\n",
        "model = Sequential()\n",
        "model.add(Conv1D(32, 2, activation='relu', input_shape = X_train[0].shape))\n",
        "model.add(BatchNormalization())\n",
        "model.add(Dropout(0.2))\n",
        "\n",
        "model.add(Conv1D(64, 2, activation='relu'))\n",
        "model.add(BatchNormalization())\n",
        "model.add(Dropout(0.5))\n",
        "\n",
        "model.add(Flatten())\n",
        "model.add(Dense(64, activation='relu'))\n",
        "model.add(Dropout(0.5))\n",
        "\n",
        "model.add(Dense(1, activation='sigmoid'))"
      ],
      "metadata": {
        "execution": {
          "iopub.status.busy": "2022-03-09T19:23:30.602868Z",
          "iopub.status.idle": "2022-03-09T19:23:30.603660Z",
          "shell.execute_reply.started": "2022-03-09T19:23:30.603395Z",
          "shell.execute_reply": "2022-03-09T19:23:30.603430Z"
        },
        "trusted": true,
        "id": "V3zaWwS9DBcF"
      },
      "execution_count": null,
      "outputs": []
    },
    {
      "cell_type": "code",
      "source": [
        "model.summary()"
      ],
      "metadata": {
        "execution": {
          "iopub.status.busy": "2022-03-09T19:23:30.605067Z",
          "iopub.status.idle": "2022-03-09T19:23:30.605964Z",
          "shell.execute_reply.started": "2022-03-09T19:23:30.605720Z",
          "shell.execute_reply": "2022-03-09T19:23:30.605745Z"
        },
        "trusted": true,
        "id": "7piBXdgvDBcF"
      },
      "execution_count": null,
      "outputs": []
    },
    {
      "cell_type": "code",
      "source": [
        "model.compile(optimizer=Adam(lr=0.0001), loss = 'binary_crossentropy', metrics=['accuracy'])"
      ],
      "metadata": {
        "execution": {
          "iopub.status.busy": "2022-03-09T19:23:30.607100Z",
          "iopub.status.idle": "2022-03-09T19:23:30.608016Z",
          "shell.execute_reply.started": "2022-03-09T19:23:30.607770Z",
          "shell.execute_reply": "2022-03-09T19:23:30.607796Z"
        },
        "trusted": true,
        "id": "cDi9kMVLDBcF"
      },
      "execution_count": null,
      "outputs": []
    },
    {
      "cell_type": "code",
      "source": [
        "history = model.fit(X_train, y_train, epochs=epochs, validation_data=(X_test, y_test), verbose=1)"
      ],
      "metadata": {
        "execution": {
          "iopub.status.busy": "2022-03-09T19:23:30.609199Z",
          "iopub.status.idle": "2022-03-09T19:23:30.610121Z",
          "shell.execute_reply.started": "2022-03-09T19:23:30.609876Z",
          "shell.execute_reply": "2022-03-09T19:23:30.609901Z"
        },
        "trusted": true,
        "id": "1iKdbBOHDBcG"
      },
      "execution_count": null,
      "outputs": []
    },
    {
      "cell_type": "code",
      "source": [
        "def plot_learningCurve(history, epoch):\n",
        "  # Plot training & validation accuracy values\n",
        "  epoch_range = range(1, epoch+1)\n",
        "  plt.plot(epoch_range, history.history['accuracy'])\n",
        "  plt.plot(epoch_range, history.history['val_accuracy'])\n",
        "  plt.title('Model accuracy')\n",
        "  plt.ylabel('Accuracy')\n",
        "  plt.xlabel('Epoch')\n",
        "  plt.legend(['Train', 'Val'], loc='upper left')\n",
        "  plt.show()\n",
        "\n",
        "  # Plot training & validation loss values\n",
        "  plt.plot(epoch_range, history.history['loss'])\n",
        "  plt.plot(epoch_range, history.history['val_loss'])\n",
        "  plt.title('Model loss')\n",
        "  plt.ylabel('Loss')\n",
        "  plt.xlabel('Epoch')\n",
        "  plt.legend(['Train', 'Val'], loc='upper left')\n",
        "  plt.show()"
      ],
      "metadata": {
        "execution": {
          "iopub.status.busy": "2022-03-09T19:23:30.611303Z",
          "iopub.status.idle": "2022-03-09T19:23:30.612218Z",
          "shell.execute_reply.started": "2022-03-09T19:23:30.611954Z",
          "shell.execute_reply": "2022-03-09T19:23:30.611979Z"
        },
        "trusted": true,
        "id": "6MHO5WXkDBcG"
      },
      "execution_count": null,
      "outputs": []
    },
    {
      "cell_type": "code",
      "source": [
        "plot_learningCurve(history, epochs)"
      ],
      "metadata": {
        "execution": {
          "iopub.status.busy": "2022-03-09T19:23:30.613366Z",
          "iopub.status.idle": "2022-03-09T19:23:30.614339Z",
          "shell.execute_reply.started": "2022-03-09T19:23:30.614070Z",
          "shell.execute_reply": "2022-03-09T19:23:30.614095Z"
        },
        "trusted": true,
        "id": "J-1ZYnLdDBcG"
      },
      "execution_count": null,
      "outputs": []
    },
    {
      "cell_type": "code",
      "source": [
        "val_predictions = model.predict(X_test)\n",
        "pred=np.around(val_predictions)\n",
        "pred"
      ],
      "metadata": {
        "execution": {
          "iopub.status.busy": "2022-03-09T19:23:30.615481Z",
          "iopub.status.idle": "2022-03-09T19:23:30.616363Z",
          "shell.execute_reply.started": "2022-03-09T19:23:30.616100Z",
          "shell.execute_reply": "2022-03-09T19:23:30.616126Z"
        },
        "trusted": true,
        "id": "9-49prbnDBcG"
      },
      "execution_count": null,
      "outputs": []
    },
    {
      "cell_type": "code",
      "source": [
        "print(classification_report(y_test, pred))"
      ],
      "metadata": {
        "execution": {
          "iopub.status.busy": "2022-03-09T19:23:30.617506Z",
          "iopub.status.idle": "2022-03-09T19:23:30.618397Z",
          "shell.execute_reply.started": "2022-03-09T19:23:30.618142Z",
          "shell.execute_reply": "2022-03-09T19:23:30.618168Z"
        },
        "trusted": true,
        "id": "FeEFldi_DBcH"
      },
      "execution_count": null,
      "outputs": []
    },
    {
      "cell_type": "code",
      "source": [
        ""
      ],
      "metadata": {
        "id": "upYRyqg8DBcH"
      },
      "execution_count": null,
      "outputs": []
    },
    {
      "cell_type": "markdown",
      "source": [
        "**Model 3- DNN Weighted Neural Network**"
      ],
      "metadata": {
        "id": "_zLbh9urDBcH"
      }
    },
    {
      "cell_type": "markdown",
      "source": [
        "****"
      ],
      "metadata": {
        "id": "4jBtEiqUDBcH"
      }
    },
    {
      "cell_type": "code",
      "source": [
        "print(X.shape)\n",
        "print(y.shape)"
      ],
      "metadata": {
        "execution": {
          "iopub.status.busy": "2022-03-09T19:24:02.392936Z",
          "iopub.execute_input": "2022-03-09T19:24:02.393222Z",
          "iopub.status.idle": "2022-03-09T19:24:02.398743Z",
          "shell.execute_reply.started": "2022-03-09T19:24:02.393172Z",
          "shell.execute_reply": "2022-03-09T19:24:02.397942Z"
        },
        "trusted": true,
        "id": "jLq6x5LtDBcI"
      },
      "execution_count": null,
      "outputs": []
    },
    {
      "cell_type": "code",
      "source": [
        "train_data, test_data, train_targets, test_targets = train_test_split(X, y, test_size=.3)"
      ],
      "metadata": {
        "execution": {
          "iopub.status.busy": "2022-03-09T19:24:03.817693Z",
          "iopub.execute_input": "2022-03-09T19:24:03.818434Z",
          "iopub.status.idle": "2022-03-09T19:24:04.021770Z",
          "shell.execute_reply.started": "2022-03-09T19:24:03.818393Z",
          "shell.execute_reply": "2022-03-09T19:24:04.020857Z"
        },
        "trusted": true,
        "id": "oBys0AXZDBcI"
      },
      "execution_count": null,
      "outputs": []
    },
    {
      "cell_type": "code",
      "source": [
        "train_data, validation_data, train_targets, validation_targets = train_test_split(train_data, train_targets, test_size=.2)"
      ],
      "metadata": {
        "execution": {
          "iopub.status.busy": "2022-03-09T19:24:04.641642Z",
          "iopub.execute_input": "2022-03-09T19:24:04.642415Z",
          "iopub.status.idle": "2022-03-09T19:24:04.776652Z",
          "shell.execute_reply.started": "2022-03-09T19:24:04.642361Z",
          "shell.execute_reply": "2022-03-09T19:24:04.775767Z"
        },
        "trusted": true,
        "id": "WIAH0ZKCDBcI"
      },
      "execution_count": null,
      "outputs": []
    },
    {
      "cell_type": "code",
      "source": [
        "mean = np.mean(train_data)\n",
        "std = np.std(train_data)\n",
        "\n",
        "\n",
        "train_data -= mean\n",
        "train_data /= std\n",
        "\n",
        "validation_data -= mean\n",
        "validation_data /= std\n",
        "\n",
        "test_data -= mean\n",
        "test_data /= std"
      ],
      "metadata": {
        "execution": {
          "iopub.status.busy": "2022-03-09T19:24:05.352520Z",
          "iopub.execute_input": "2022-03-09T19:24:05.353026Z",
          "iopub.status.idle": "2022-03-09T19:24:05.489925Z",
          "shell.execute_reply.started": "2022-03-09T19:24:05.352987Z",
          "shell.execute_reply": "2022-03-09T19:24:05.489164Z"
        },
        "trusted": true,
        "id": "LDotOPIlDBcJ"
      },
      "execution_count": null,
      "outputs": []
    },
    {
      "cell_type": "code",
      "source": [
        "from keras import models, layers"
      ],
      "metadata": {
        "execution": {
          "iopub.status.busy": "2022-03-09T19:24:06.088625Z",
          "iopub.execute_input": "2022-03-09T19:24:06.088909Z",
          "iopub.status.idle": "2022-03-09T19:24:06.093598Z",
          "shell.execute_reply.started": "2022-03-09T19:24:06.088876Z",
          "shell.execute_reply": "2022-03-09T19:24:06.092410Z"
        },
        "trusted": true,
        "id": "rDZbvki7DBcJ"
      },
      "execution_count": null,
      "outputs": []
    },
    {
      "cell_type": "code",
      "source": [
        "epochs=20\n",
        "model = models.Sequential()\n",
        "\n",
        "model.add(layers.Dense(10, input_shape=(train_data.shape[1],), activation='relu'))\n",
        "\n",
        "model.add(layers.Dense(8, activation='relu'))\n",
        "\n",
        "model.add(layers.Dense(6, activation='relu'))\n",
        "\n",
        "model.add(layers.Dense(1, activation='sigmoid'))"
      ],
      "metadata": {
        "execution": {
          "iopub.status.busy": "2022-03-09T19:26:15.913510Z",
          "iopub.execute_input": "2022-03-09T19:26:15.914509Z",
          "iopub.status.idle": "2022-03-09T19:26:15.955678Z",
          "shell.execute_reply.started": "2022-03-09T19:26:15.914447Z",
          "shell.execute_reply": "2022-03-09T19:26:15.954934Z"
        },
        "trusted": true,
        "id": "9A4P0sZaDBcJ"
      },
      "execution_count": null,
      "outputs": []
    },
    {
      "cell_type": "code",
      "source": [
        "from sklearn.metrics import classification_report"
      ],
      "metadata": {
        "execution": {
          "iopub.status.busy": "2022-03-09T19:26:20.554181Z",
          "iopub.execute_input": "2022-03-09T19:26:20.554972Z",
          "iopub.status.idle": "2022-03-09T19:26:20.560993Z",
          "shell.execute_reply.started": "2022-03-09T19:26:20.554924Z",
          "shell.execute_reply": "2022-03-09T19:26:20.559970Z"
        },
        "trusted": true,
        "id": "hNV2bwOQDBcK"
      },
      "execution_count": null,
      "outputs": []
    },
    {
      "cell_type": "code",
      "source": [
        "model.compile(optimizer=Adam(lr=0.0001), loss = 'binary_crossentropy', metrics=['accuracy'])"
      ],
      "metadata": {
        "execution": {
          "iopub.status.busy": "2022-03-09T19:26:24.024944Z",
          "iopub.execute_input": "2022-03-09T19:26:24.025786Z",
          "iopub.status.idle": "2022-03-09T19:26:24.037890Z",
          "shell.execute_reply.started": "2022-03-09T19:26:24.025735Z",
          "shell.execute_reply": "2022-03-09T19:26:24.037006Z"
        },
        "trusted": true,
        "id": "35ugy1haDBcK"
      },
      "execution_count": null,
      "outputs": []
    },
    {
      "cell_type": "code",
      "source": [
        "model.summary()"
      ],
      "metadata": {
        "execution": {
          "iopub.status.busy": "2022-03-09T19:26:26.803261Z",
          "iopub.execute_input": "2022-03-09T19:26:26.803879Z",
          "iopub.status.idle": "2022-03-09T19:26:26.814535Z",
          "shell.execute_reply.started": "2022-03-09T19:26:26.803841Z",
          "shell.execute_reply": "2022-03-09T19:26:26.813320Z"
        },
        "trusted": true,
        "id": "rtNQr4XNDBcK"
      },
      "execution_count": null,
      "outputs": []
    },
    {
      "cell_type": "code",
      "source": [
        "history = model.fit(train_data, train_targets, epochs=epochs, validation_data=(test_data, test_targets), verbose=1)"
      ],
      "metadata": {
        "execution": {
          "iopub.status.busy": "2022-03-09T19:26:47.022994Z",
          "iopub.execute_input": "2022-03-09T19:26:47.023288Z",
          "iopub.status.idle": "2022-03-09T19:37:09.473581Z",
          "shell.execute_reply.started": "2022-03-09T19:26:47.023258Z",
          "shell.execute_reply": "2022-03-09T19:37:09.472462Z"
        },
        "trusted": true,
        "id": "4bKrQQu0DBcL"
      },
      "execution_count": null,
      "outputs": []
    },
    {
      "cell_type": "code",
      "source": [
        "def plot_learningCurve(history, epoch):\n",
        "  # Plot training & validation accuracy values\n",
        "  epoch_range = range(1, epoch+1)\n",
        "  plt.plot(epoch_range, history.history['accuracy'])\n",
        "  plt.plot(epoch_range, history.history['val_accuracy'])\n",
        "  plt.title('Model accuracy')\n",
        "  plt.ylabel('Accuracy')\n",
        "  plt.xlabel('Epoch')\n",
        "  plt.legend(['Train', 'Val'], loc='upper left')\n",
        "  plt.show()\n",
        "\n",
        "  # Plot training & validation loss values\n",
        "  plt.plot(epoch_range, history.history['loss'])\n",
        "  plt.plot(epoch_range, history.history['val_loss'])\n",
        "  plt.title('Model loss')\n",
        "  plt.ylabel('Loss')\n",
        "  plt.xlabel('Epoch')\n",
        "  plt.legend(['Train', 'Val'], loc='upper left')\n",
        "  plt.show()"
      ],
      "metadata": {
        "execution": {
          "iopub.status.busy": "2022-03-09T19:39:56.712258Z",
          "iopub.execute_input": "2022-03-09T19:39:56.712988Z",
          "iopub.status.idle": "2022-03-09T19:39:56.720303Z",
          "shell.execute_reply.started": "2022-03-09T19:39:56.712935Z",
          "shell.execute_reply": "2022-03-09T19:39:56.719405Z"
        },
        "trusted": true,
        "id": "2nN6oH1yDBcL"
      },
      "execution_count": null,
      "outputs": []
    },
    {
      "cell_type": "code",
      "source": [
        "plot_learningCurve(history, epochs)"
      ],
      "metadata": {
        "execution": {
          "iopub.status.busy": "2022-03-09T19:41:21.344047Z",
          "iopub.execute_input": "2022-03-09T19:41:21.344679Z",
          "iopub.status.idle": "2022-03-09T19:41:21.754503Z",
          "shell.execute_reply.started": "2022-03-09T19:41:21.344639Z",
          "shell.execute_reply": "2022-03-09T19:41:21.753792Z"
        },
        "trusted": true,
        "id": "8vV8U9A5DBcL"
      },
      "execution_count": null,
      "outputs": []
    },
    {
      "cell_type": "code",
      "source": [
        "val_predictions = model.predict(test_data)\n",
        "pred=np.around(val_predictions)\n",
        "pred"
      ],
      "metadata": {
        "execution": {
          "iopub.status.busy": "2022-03-09T19:42:27.138956Z",
          "iopub.execute_input": "2022-03-09T19:42:27.139242Z",
          "iopub.status.idle": "2022-03-09T19:42:31.601461Z",
          "shell.execute_reply.started": "2022-03-09T19:42:27.139207Z",
          "shell.execute_reply": "2022-03-09T19:42:31.600742Z"
        },
        "trusted": true,
        "id": "JOwnU3UsDBcM"
      },
      "execution_count": null,
      "outputs": []
    },
    {
      "cell_type": "code",
      "source": [
        "print(classification_report(test_targets, pred))"
      ],
      "metadata": {
        "execution": {
          "iopub.status.busy": "2022-03-09T19:42:31.603151Z",
          "iopub.execute_input": "2022-03-09T19:42:31.603506Z",
          "iopub.status.idle": "2022-03-09T19:42:31.930666Z",
          "shell.execute_reply.started": "2022-03-09T19:42:31.603469Z",
          "shell.execute_reply": "2022-03-09T19:42:31.929738Z"
        },
        "trusted": true,
        "id": "6PLtrTHIDBcM"
      },
      "execution_count": null,
      "outputs": []
    },
    {
      "cell_type": "code",
      "source": [
        "train_targets.value_counts()"
      ],
      "metadata": {
        "execution": {
          "iopub.status.busy": "2022-03-09T19:42:31.932306Z",
          "iopub.execute_input": "2022-03-09T19:42:31.932591Z",
          "iopub.status.idle": "2022-03-09T19:42:31.941374Z",
          "shell.execute_reply.started": "2022-03-09T19:42:31.932553Z",
          "shell.execute_reply": "2022-03-09T19:42:31.940538Z"
        },
        "trusted": true,
        "id": "kOedYfR-DBcM"
      },
      "execution_count": null,
      "outputs": []
    },
    {
      "cell_type": "markdown",
      "source": [
        "There are 278 1's (frauds) and 159213 0's (non-frauds)\n",
        "\n",
        "159213/278 = 572.7\n",
        "\n",
        "0's are 572.7 times more than 1's\n",
        "\n",
        "We can assign custom weights to NN accordingly"
      ],
      "metadata": {
        "id": "PmIqo1nQDBcN"
      }
    },
    {
      "cell_type": "code",
      "source": [
        "weights = {\n",
        "    0:1,\n",
        "    1:562\n",
        "}"
      ],
      "metadata": {
        "execution": {
          "iopub.status.busy": "2022-03-09T19:42:31.943095Z",
          "iopub.execute_input": "2022-03-09T19:42:31.943851Z",
          "iopub.status.idle": "2022-03-09T19:42:31.949634Z",
          "shell.execute_reply.started": "2022-03-09T19:42:31.943814Z",
          "shell.execute_reply": "2022-03-09T19:42:31.948900Z"
        },
        "trusted": true,
        "id": "6mE6I3V3DBcN"
      },
      "execution_count": null,
      "outputs": []
    },
    {
      "cell_type": "code",
      "source": [
        "model = models.Sequential()\n",
        "\n",
        "model.add(layers.Dense(10, input_shape=(train_data.shape[1],), activation='relu'))\n",
        "\n",
        "model.add(layers.Dense(8, activation='relu'))\n",
        "\n",
        "model.add(layers.Dense(6, activation='relu'))\n",
        "\n",
        "model.add(layers.Dense(1, activation='sigmoid'))\n",
        "\n",
        "model.compile(optimizer=Adam(lr=0.0001), loss = 'binary_crossentropy', metrics=['accuracy'])\n",
        "\n",
        "# CHANGE\n",
        "history = model.fit(train_data, train_targets, epochs=epochs, validation_data=(test_data, test_targets), verbose=1, class_weight=weights)"
      ],
      "metadata": {
        "execution": {
          "iopub.status.busy": "2022-03-09T20:00:21.950413Z",
          "iopub.execute_input": "2022-03-09T20:00:21.951046Z",
          "iopub.status.idle": "2022-03-09T20:11:00.611208Z",
          "shell.execute_reply.started": "2022-03-09T20:00:21.951009Z",
          "shell.execute_reply": "2022-03-09T20:11:00.610456Z"
        },
        "trusted": true,
        "id": "jaGLStfqDBcN"
      },
      "execution_count": null,
      "outputs": []
    },
    {
      "cell_type": "code",
      "source": [
        "plot_learningCurve(history, epochs)"
      ],
      "metadata": {
        "execution": {
          "iopub.status.busy": "2022-03-09T20:12:38.449945Z",
          "iopub.execute_input": "2022-03-09T20:12:38.450259Z",
          "iopub.status.idle": "2022-03-09T20:12:38.892667Z",
          "shell.execute_reply.started": "2022-03-09T20:12:38.450224Z",
          "shell.execute_reply": "2022-03-09T20:12:38.891788Z"
        },
        "trusted": true,
        "id": "JuRKeFnADBcN"
      },
      "execution_count": null,
      "outputs": []
    },
    {
      "cell_type": "code",
      "source": [
        "score = model.evaluate(test_data, test_targets, batch_size=100)\n",
        "print('\\nAnd the Score is ', score[1] * 100, '%')"
      ],
      "metadata": {
        "execution": {
          "iopub.status.busy": "2022-03-09T20:12:57.954582Z",
          "iopub.execute_input": "2022-03-09T20:12:57.955124Z",
          "iopub.status.idle": "2022-03-09T20:13:03.217086Z",
          "shell.execute_reply.started": "2022-03-09T20:12:57.955087Z",
          "shell.execute_reply": "2022-03-09T20:13:03.216244Z"
        },
        "trusted": true,
        "id": "z6YPCws_DBcO"
      },
      "execution_count": null,
      "outputs": []
    },
    {
      "cell_type": "code",
      "source": [
        "predictions = model.predict(test_data)"
      ],
      "metadata": {
        "execution": {
          "iopub.status.busy": "2022-03-09T20:13:26.015265Z",
          "iopub.execute_input": "2022-03-09T20:13:26.016015Z",
          "iopub.status.idle": "2022-03-09T20:13:30.565223Z",
          "shell.execute_reply.started": "2022-03-09T20:13:26.015968Z",
          "shell.execute_reply": "2022-03-09T20:13:30.564405Z"
        },
        "trusted": true,
        "id": "qQHbX0esDBcO"
      },
      "execution_count": null,
      "outputs": []
    },
    {
      "cell_type": "code",
      "source": [
        "from sklearn.metrics import roc_auc_score\n",
        "\n",
        "roc_auc_score(test_targets, predictions)"
      ],
      "metadata": {
        "execution": {
          "iopub.status.busy": "2022-03-09T20:13:30.567040Z",
          "iopub.execute_input": "2022-03-09T20:13:30.567317Z",
          "iopub.status.idle": "2022-03-09T20:13:30.618563Z",
          "shell.execute_reply.started": "2022-03-09T20:13:30.567281Z",
          "shell.execute_reply": "2022-03-09T20:13:30.617687Z"
        },
        "trusted": true,
        "id": "xwpO2FrMDBcO"
      },
      "execution_count": null,
      "outputs": []
    },
    {
      "cell_type": "code",
      "source": [
        "predictions = np.around(predictions)"
      ],
      "metadata": {
        "execution": {
          "iopub.status.busy": "2022-03-09T20:13:30.620138Z",
          "iopub.execute_input": "2022-03-09T20:13:30.620434Z",
          "iopub.status.idle": "2022-03-09T20:13:30.624794Z",
          "shell.execute_reply.started": "2022-03-09T20:13:30.620397Z",
          "shell.execute_reply": "2022-03-09T20:13:30.624027Z"
        },
        "trusted": true,
        "id": "7MbaptVTDBcP"
      },
      "execution_count": null,
      "outputs": []
    },
    {
      "cell_type": "code",
      "source": [
        "print(classification_report(test_targets, predictions))"
      ],
      "metadata": {
        "execution": {
          "iopub.status.busy": "2022-03-09T20:13:30.875679Z",
          "iopub.execute_input": "2022-03-09T20:13:30.876175Z",
          "iopub.status.idle": "2022-03-09T20:13:31.214950Z",
          "shell.execute_reply.started": "2022-03-09T20:13:30.876135Z",
          "shell.execute_reply": "2022-03-09T20:13:31.214162Z"
        },
        "trusted": true,
        "id": "tMa3NUrpDBcP"
      },
      "execution_count": null,
      "outputs": []
    },
    {
      "cell_type": "markdown",
      "source": [
        "**LSTM**"
      ],
      "metadata": {
        "id": "3GO2A7odDBcP"
      }
    },
    {
      "cell_type": "code",
      "source": [
        "import pandas as pd\n",
        "import sklearn.metrics as metrique\n",
        "from pandas import Series\n",
        "from sklearn.preprocessing import StandardScaler, MinMaxScaler\n",
        "from matplotlib import pyplot\n",
        "from sklearn.model_selection import train_test_split\n",
        "import numpy as np\n",
        "from keras.callbacks import EarlyStopping\n",
        "from keras.utils import np_utils\n",
        "from keras.callbacks import ModelCheckpoint\n",
        "from sklearn.metrics import accuracy_score\n",
        "from sklearn.metrics import classification_report, confusion_matrix\n",
        "from keras.models import Sequential\n",
        "from keras.utils import np_utils\n",
        "from keras.layers import LSTM, Dense, Embedding, Dropout,Input, Attention, Layer, Concatenate, Permute, Dot, Multiply, Flatten\n",
        "from keras.layers import RepeatVector, Dense, Activation, Lambda\n",
        "from keras.models import Sequential\n",
        "from keras import backend as K, regularizers, Model, metrics\n",
        "from keras.backend import cast"
      ],
      "metadata": {
        "execution": {
          "iopub.status.busy": "2022-03-09T19:23:30.662180Z",
          "iopub.status.idle": "2022-03-09T19:23:30.663134Z",
          "shell.execute_reply.started": "2022-03-09T19:23:30.662871Z",
          "shell.execute_reply": "2022-03-09T19:23:30.662898Z"
        },
        "trusted": true,
        "id": "FBqaQHCZDBcP"
      },
      "execution_count": null,
      "outputs": []
    },
    {
      "cell_type": "code",
      "source": [
        "data = pd.read_csv(\"../input/creditcardfraud/creditcard.csv\")\n",
        "col_del = ['Time' ,'V5', 'V6', 'V7', 'V8', 'V9','V13','V15', 'V16',  'V18', 'V19', 'V20','V21', 'V22', 'V23', 'V24', 'V25', 'V26', 'V27', 'V28', 'Amount']\n"
      ],
      "metadata": {
        "execution": {
          "iopub.status.busy": "2022-03-09T19:23:30.664329Z",
          "iopub.status.idle": "2022-03-09T19:23:30.665277Z",
          "shell.execute_reply.started": "2022-03-09T19:23:30.665020Z",
          "shell.execute_reply": "2022-03-09T19:23:30.665045Z"
        },
        "trusted": true,
        "id": "NEAXTRJPDBcQ"
      },
      "execution_count": null,
      "outputs": []
    },
    {
      "cell_type": "code",
      "source": [
        "tr_data = data.drop(col_del,axis =1)\n",
        "tr_data.shape"
      ],
      "metadata": {
        "execution": {
          "iopub.status.busy": "2022-03-09T19:23:30.666429Z",
          "iopub.status.idle": "2022-03-09T19:23:30.667406Z",
          "shell.execute_reply.started": "2022-03-09T19:23:30.667095Z",
          "shell.execute_reply": "2022-03-09T19:23:30.667120Z"
        },
        "trusted": true,
        "id": "Pr8A9LHtDBcQ"
      },
      "execution_count": null,
      "outputs": []
    },
    {
      "cell_type": "code",
      "source": [
        "X = tr_data.drop(['Class'], axis = 'columns')\n",
        "Label_Data = tr_data['Class']"
      ],
      "metadata": {
        "execution": {
          "iopub.status.busy": "2022-03-09T19:23:30.668713Z",
          "iopub.status.idle": "2022-03-09T19:23:30.669630Z",
          "shell.execute_reply.started": "2022-03-09T19:23:30.669375Z",
          "shell.execute_reply": "2022-03-09T19:23:30.669399Z"
        },
        "trusted": true,
        "id": "KOGhtO8iDBcQ"
      },
      "execution_count": null,
      "outputs": []
    },
    {
      "cell_type": "code",
      "source": [
        "# Generate and plot imbalanced classification dataset\n",
        "from collections import Counter\n",
        "from matplotlib import pyplot\n",
        "from numpy import where\n",
        "# summarize class distribution\n",
        "counter = Counter(tr_data['Class'])\n",
        "print(counter)\n",
        "# scatter plot of examples by class label\n",
        "for label, _ in counter.items():\n",
        "\trow_ix = where(tr_data['Class'] == label)[0]"
      ],
      "metadata": {
        "execution": {
          "iopub.status.busy": "2022-03-09T19:23:30.670775Z",
          "iopub.status.idle": "2022-03-09T19:23:30.671563Z",
          "shell.execute_reply.started": "2022-03-09T19:23:30.671301Z",
          "shell.execute_reply": "2022-03-09T19:23:30.671327Z"
        },
        "trusted": true,
        "id": "eysBb3ESDBcQ"
      },
      "execution_count": null,
      "outputs": []
    },
    {
      "cell_type": "code",
      "source": [
        "# transform the dataset\n",
        "from imblearn.over_sampling import SMOTE\n",
        "oversample = SMOTE()\n",
        "X_r, y = oversample.fit_resample(X, tr_data['Class'])\n",
        "# summarize the new class distribution\n",
        "counter = Counter(y)\n",
        "print(counter)\n",
        "# scatter plot of examples by class label\n",
        "for label, _ in counter.items():\n",
        "\trow_ix = where(y == label)[0]"
      ],
      "metadata": {
        "execution": {
          "iopub.status.busy": "2022-03-09T19:23:30.672937Z",
          "iopub.status.idle": "2022-03-09T19:23:30.673913Z",
          "shell.execute_reply.started": "2022-03-09T19:23:30.673631Z",
          "shell.execute_reply": "2022-03-09T19:23:30.673658Z"
        },
        "trusted": true,
        "id": "DJ3tw0kYDBcR"
      },
      "execution_count": null,
      "outputs": []
    },
    {
      "cell_type": "code",
      "source": [
        "from sklearn.preprocessing import StandardScaler\n",
        "## Standardizing the data\n",
        "X_r2 = StandardScaler().fit_transform(X_r)"
      ],
      "metadata": {
        "execution": {
          "iopub.status.busy": "2022-03-09T19:23:30.675094Z",
          "iopub.status.idle": "2022-03-09T19:23:30.676004Z",
          "shell.execute_reply.started": "2022-03-09T19:23:30.675760Z",
          "shell.execute_reply": "2022-03-09T19:23:30.675786Z"
        },
        "trusted": true,
        "id": "26CEhJa3DBcR"
      },
      "execution_count": null,
      "outputs": []
    },
    {
      "cell_type": "code",
      "source": [
        "X_train,X_test,y_train,y_test = train_test_split(X_r2, y, test_size=0.3)"
      ],
      "metadata": {
        "execution": {
          "iopub.status.busy": "2022-03-09T19:23:30.677160Z",
          "iopub.status.idle": "2022-03-09T19:23:30.678055Z",
          "shell.execute_reply.started": "2022-03-09T19:23:30.677810Z",
          "shell.execute_reply": "2022-03-09T19:23:30.677835Z"
        },
        "trusted": true,
        "id": "LJelM15bDBcR"
      },
      "execution_count": null,
      "outputs": []
    },
    {
      "cell_type": "code",
      "source": [
        "X_train.shape"
      ],
      "metadata": {
        "execution": {
          "iopub.status.busy": "2022-03-09T19:23:30.679213Z",
          "iopub.status.idle": "2022-03-09T19:23:30.680132Z",
          "shell.execute_reply.started": "2022-03-09T19:23:30.679883Z",
          "shell.execute_reply": "2022-03-09T19:23:30.679909Z"
        },
        "trusted": true,
        "id": "pPrFTw3zDBcR"
      },
      "execution_count": null,
      "outputs": []
    },
    {
      "cell_type": "code",
      "source": [
        "X_test.shape"
      ],
      "metadata": {
        "execution": {
          "iopub.status.busy": "2022-03-09T19:23:30.681281Z",
          "iopub.status.idle": "2022-03-09T19:23:30.682172Z",
          "shell.execute_reply.started": "2022-03-09T19:23:30.681927Z",
          "shell.execute_reply": "2022-03-09T19:23:30.681952Z"
        },
        "trusted": true,
        "id": "ucPthFVEDBcR"
      },
      "execution_count": null,
      "outputs": []
    },
    {
      "cell_type": "code",
      "source": [
        "# design network\n",
        "np.random.seed(7)\n",
        "\n",
        "# X_train et X_val sont des dataframe qui contient les features\n",
        "train_LSTM_X=X_train\n",
        "val_LSTM_X=X_test\n",
        "\n",
        "## Reshape input to be 3D [samples, timesteps, features] (format requis par LSTM)\n",
        "train_LSTM_X = train_LSTM_X.reshape((train_LSTM_X.shape[0], 1, train_LSTM_X.shape[1]))\n",
        "val_LSTM_X = val_LSTM_X.reshape((val_LSTM_X.shape[0], 1, val_LSTM_X.shape[1]))\n",
        "\n",
        "## Recuperation des labels\n",
        "train_LSTM_y=y_train\n",
        "val_LSTM_y=y_test"
      ],
      "metadata": {
        "execution": {
          "iopub.status.busy": "2022-03-09T19:23:30.683398Z",
          "iopub.status.idle": "2022-03-09T19:23:30.684372Z",
          "shell.execute_reply.started": "2022-03-09T19:23:30.684105Z",
          "shell.execute_reply": "2022-03-09T19:23:30.684131Z"
        },
        "trusted": true,
        "id": "AfyWJK9LDBcS"
      },
      "execution_count": null,
      "outputs": []
    },
    {
      "cell_type": "code",
      "source": [
        "class attention(Layer):\n",
        "    def __init__(self,**kwargs):\n",
        "        super(attention,self).__init__(**kwargs)\n",
        "\n",
        "    def build(self,input_shape):\n",
        "        self.W=self.add_weight(name=\"att_weight\",shape=(input_shape[-1],1),initializer=\"normal\")\n",
        "        self.b=self.add_weight(name=\"att_bias\",shape=(input_shape[1],1),initializer=\"zeros\")        \n",
        "        super(attention, self).build(input_shape)\n",
        "\n",
        "    def call(self,x):\n",
        "        et=K.squeeze(K.tanh(K.dot(x,self.W)+self.b),axis=-1)\n",
        "        at=K.softmax(et)\n",
        "        at=K.expand_dims(at,axis=-1)\n",
        "        output=x*at\n",
        "        return K.sum(output,axis=1)\n",
        "\n",
        "    def compute_output_shape(self,input_shape):\n",
        "        return (input_shape[0],input_shape[-1])\n",
        "\n",
        "    def get_config(self):\n",
        "        return super(attention,self).get_config()"
      ],
      "metadata": {
        "execution": {
          "iopub.status.busy": "2022-03-09T19:23:30.685548Z",
          "iopub.status.idle": "2022-03-09T19:23:30.686426Z",
          "shell.execute_reply.started": "2022-03-09T19:23:30.686162Z",
          "shell.execute_reply": "2022-03-09T19:23:30.686205Z"
        },
        "trusted": true,
        "id": "VqmxOtVyDBcS"
      },
      "execution_count": null,
      "outputs": []
    },
    {
      "cell_type": "code",
      "source": [
        "inputs1=Input((1,9))\n",
        "att_in=LSTM(50,return_sequences=True,dropout=0.3,recurrent_dropout=0.2)(inputs1)\n",
        "att_in_1=LSTM(50,return_sequences=True,dropout=0.3,recurrent_dropout=0.2)(att_in)\n",
        "att_out=attention()(att_in_1)\n",
        "outputs1=Dense(1,activation='sigmoid',trainable=True)(att_out)\n",
        "model1=Model(inputs1,outputs1)"
      ],
      "metadata": {
        "execution": {
          "iopub.status.busy": "2022-03-09T19:23:30.687584Z",
          "iopub.status.idle": "2022-03-09T19:23:30.688501Z",
          "shell.execute_reply.started": "2022-03-09T19:23:30.688250Z",
          "shell.execute_reply": "2022-03-09T19:23:30.688276Z"
        },
        "trusted": true,
        "id": "EVpNj-iIDBcS"
      },
      "execution_count": null,
      "outputs": []
    },
    {
      "cell_type": "code",
      "source": [
        "model1.compile(loss='binary_crossentropy', optimizer='adam', metrics=['accuracy'])"
      ],
      "metadata": {
        "execution": {
          "iopub.status.busy": "2022-03-09T19:23:30.689630Z",
          "iopub.status.idle": "2022-03-09T19:23:30.690551Z",
          "shell.execute_reply.started": "2022-03-09T19:23:30.690298Z",
          "shell.execute_reply": "2022-03-09T19:23:30.690324Z"
        },
        "trusted": true,
        "id": "7y5p9gItDBcT"
      },
      "execution_count": null,
      "outputs": []
    },
    {
      "cell_type": "code",
      "source": [
        "history=model1.fit(train_LSTM_X, train_LSTM_y,epochs=20,batch_size=20000, validation_data=(val_LSTM_X, val_LSTM_y))"
      ],
      "metadata": {
        "execution": {
          "iopub.status.busy": "2022-03-09T19:23:30.691693Z",
          "iopub.status.idle": "2022-03-09T19:23:30.692593Z",
          "shell.execute_reply.started": "2022-03-09T19:23:30.692337Z",
          "shell.execute_reply": "2022-03-09T19:23:30.692362Z"
        },
        "trusted": true,
        "id": "pey0ElO_DBcT"
      },
      "execution_count": null,
      "outputs": []
    },
    {
      "cell_type": "code",
      "source": [
        "# evaluate the model\n",
        "_, train_acc = model1.evaluate(train_LSTM_X, train_LSTM_y, verbose=0)\n",
        "_, test_acc = model1.evaluate(val_LSTM_X, val_LSTM_y, verbose=0)\n",
        "print('Train: %.3f, Test: %.3f' % (train_acc, test_acc))"
      ],
      "metadata": {
        "execution": {
          "iopub.status.busy": "2022-03-09T19:23:30.693784Z",
          "iopub.status.idle": "2022-03-09T19:23:30.694594Z",
          "shell.execute_reply.started": "2022-03-09T19:23:30.694332Z",
          "shell.execute_reply": "2022-03-09T19:23:30.694359Z"
        },
        "trusted": true,
        "id": "fR90xI0yDBcT"
      },
      "execution_count": null,
      "outputs": []
    },
    {
      "cell_type": "code",
      "source": [
        "# plot loss during training\n",
        "pyplot.subplot(211)\n",
        "pyplot.title('Loss')\n",
        "pyplot.plot(history.history['loss'], label='train')\n",
        "pyplot.plot(history.history['val_loss'], label='test')\n",
        "pyplot.legend()\n",
        "# plot accuracy during training\n",
        "pyplot.subplot(212)\n",
        "pyplot.title('Accuracy')\n",
        "pyplot.plot(history.history['accuracy'], label='train')\n",
        "pyplot.plot(history.history['val_accuracy'], label='test')\n",
        "pyplot.legend()\n",
        "pyplot.show()"
      ],
      "metadata": {
        "execution": {
          "iopub.status.busy": "2022-03-09T19:23:30.696867Z",
          "iopub.status.idle": "2022-03-09T19:23:30.697814Z",
          "shell.execute_reply.started": "2022-03-09T19:23:30.697570Z",
          "shell.execute_reply": "2022-03-09T19:23:30.697595Z"
        },
        "trusted": true,
        "id": "ZSa750pNDBcT"
      },
      "execution_count": null,
      "outputs": []
    }
  ]
}