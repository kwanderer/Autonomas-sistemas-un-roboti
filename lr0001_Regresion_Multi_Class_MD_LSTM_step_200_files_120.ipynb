{
  "cells": [
    {
      "cell_type": "markdown",
      "metadata": {
        "id": "view-in-github",
        "colab_type": "text"
      },
      "source": [
        "<a href=\"https://colab.research.google.com/github/kwanderer/Autonomas-sistemas-un-roboti/blob/main/lr0001_Regresion_Multi_Class_MD_LSTM_step_200_files_120.ipynb\" target=\"_parent\"><img src=\"https://colab.research.google.com/assets/colab-badge.svg\" alt=\"Open In Colab\"/></a>"
      ]
    },
    {
      "cell_type": "markdown",
      "metadata": {
        "id": "f857kfHqUk0-"
      },
      "source": [
        "\n",
        "\n",
        "#Datu kopa"
      ]
    },
    {
      "cell_type": "markdown",
      "metadata": {
        "id": "nM9WE3QGUwVi"
      },
      "source": [
        "Datu kopas avots: https://www.kaggle.com/uysalserkan/fault-induction-motor-dataset"
      ]
    },
    {
      "cell_type": "markdown",
      "metadata": {
        "id": "_sN_h3qHHy6r"
      },
      "source": [
        "Darbā tiek izmantota indukcijas motora parametru datu bāze. Izmantotajā datu kopā ir dati, kas tika iegūti SpectraQuest aparatūras kļūdu simulatorā (Machinery Fault Simulator).\n",
        "\n",
        "Katra mērījumu secība tika ģenerēta ar frekvenci 50 kHz 5 sekunžu laikā, kopā 250 000 mērījumi.\n",
        "\n",
        "Dati ir apkopoti vairākos failos, dažādos darbības stāvokļos un to apjoms ir ļoti liels. Šajā darbā tika izmantota daļa(viena mērījumu secība) no motora normālas darbības datiem.\n"
      ]
    },
    {
      "cell_type": "markdown",
      "metadata": {
        "id": "KtFAOaHYHLPo"
      },
      "source": [
        "Dati ir apkopoti tabulā, kura satur 8 parametrus. Dati ir iedalīti sekojošās kolonas:\n",
        "\n",
        "**tachometer** – tahometra signāls, kas ļauj novērtēt rotācijas frekvenci\n",
        "\n",
        "**und-accelerometer-axial** - apakšā esošā gultņa akselerometrs (aksiālais virziens)\n",
        "\n",
        "**und-accelerometer-radial** – apakšā esošā gultņa akselerometrs (radiālais virziens)\n",
        "\n",
        "**und-accelerometer-tangential** - apakšā esošā gultņa akselerometrs (tangenciālais virziens)\n",
        "\n",
        "**over-accelerometer-axial** - pārkares gultņa akselerometrs (aksiālais virziens)\n",
        "\n",
        "**over-accelerometer-radial** – pārkares gultņa akselerometrs (radiālais  virziens)\n",
        "\n",
        "**over-accelerometer-tangential**  - pārkares gultņa akselerometrs (tangenciālais virziens)\n",
        "\n",
        "**microphone** – mikrofona vērtība\n"
      ]
    },
    {
      "cell_type": "markdown",
      "metadata": {
        "id": "XymoNLKMVFUC"
      },
      "source": [
        "#Datu ielasīšana un satura vizualizācija"
      ]
    },
    {
      "cell_type": "code",
      "execution_count": 1,
      "metadata": {
        "id": "_yqYZDeOFq5s"
      },
      "outputs": [],
      "source": [
        "import keras\n",
        "from keras.layers import LSTM, Dropout, Dense\n",
        "import tensorflow as tf\n",
        "import numpy as np\n",
        "import pandas as pd\n",
        "\n",
        "from sklearn import linear_model  #pip install sklearn - loti plasa masinapmacibas biblioteka\n",
        "from sklearn.linear_model import LinearRegression  \n",
        "import csv          #pip install csv - darbam ar CSV datu kopam\n",
        "import requests     #pip install requests  - vienkarsakam darbam ar tiessaistes CSV datu kopam tiessaistes\n",
        "\n",
        "import matplotlib\n",
        "import matplotlib.pyplot as plt\n",
        "\n",
        "import glob\n"
      ]
    },
    {
      "cell_type": "code",
      "execution_count": 2,
      "metadata": {
        "id": "wlRTBbM2eUcV",
        "colab": {
          "base_uri": "https://localhost:8080/"
        },
        "outputId": "00842f38-6eeb-4e06-a51b-85d155f47140"
      },
      "outputs": [
        {
          "output_type": "stream",
          "name": "stdout",
          "text": [
            "Drive already mounted at /content/gdrive; to attempt to forcibly remount, call drive.mount(\"/content/gdrive\", force_remount=True).\n"
          ]
        }
      ],
      "source": [
        "from google.colab import drive\n",
        "import os\n",
        "drive.mount('/content/gdrive')\n",
        "os.chdir(\"/content/gdrive/MyDrive/Colab Notebooks/data_multiclass/\")"
      ]
    },
    {
      "cell_type": "code",
      "execution_count": 3,
      "metadata": {
        "id": "zzz6fBl_SNom"
      },
      "outputs": [],
      "source": [
        "#extension = 'csv'\n",
        "#all_filenames = [i for i in glob.glob('*.{}'.format(extension))]"
      ]
    },
    {
      "cell_type": "code",
      "execution_count": 4,
      "metadata": {
        "id": "vagKFCkToBi0"
      },
      "outputs": [],
      "source": [
        "#combine all files in the list\n",
        "#combined_csv = pd.concat([pd.read_csv(f) for f in all_filenames ])\n",
        "#export to csv\n",
        "#combined_csv.to_csv( \"combined_multiclass_csv.csv\", index=False, encoding='utf-8-sig')"
      ]
    },
    {
      "cell_type": "code",
      "execution_count": 5,
      "metadata": {
        "id": "encEkbDhSfGI"
      },
      "outputs": [],
      "source": [
        "data = pd.read_csv(\"combined_multiclass_csv.csv\")"
      ]
    },
    {
      "cell_type": "code",
      "execution_count": 6,
      "metadata": {
        "id": "yz5Qe8ZWk1Zq",
        "colab": {
          "base_uri": "https://localhost:8080/"
        },
        "outputId": "a5e5780b-c684-461a-e69e-1925678d6c8e"
      },
      "outputs": [
        {
          "output_type": "stream",
          "name": "stdout",
          "text": [
            "<class 'pandas.core.frame.DataFrame'>\n",
            "RangeIndex: 30000000 entries, 0 to 29999999\n",
            "Data columns (total 9 columns):\n",
            " #   Column                         Dtype  \n",
            "---  ------                         -----  \n",
            " 0   tachometer                     float64\n",
            " 1   und-accelerometer-axial        float64\n",
            " 2   und-accelerometer-radial       float64\n",
            " 3   und-accelerometer-tangential   float64\n",
            " 4   over-accelerometer-axial       float64\n",
            " 5   over-accelerometer-radial      float64\n",
            " 6   over-accelerometer-tangential  float64\n",
            " 7   microphone                     float64\n",
            " 8   Class                          int64  \n",
            "dtypes: float64(8), int64(1)\n",
            "memory usage: 2.0 GB\n"
          ]
        }
      ],
      "source": [
        "data.info()"
      ]
    },
    {
      "cell_type": "code",
      "execution_count": 7,
      "metadata": {
        "id": "WUW9ezX6a_st",
        "colab": {
          "base_uri": "https://localhost:8080/"
        },
        "outputId": "4ca5d292-8571-42c4-b9c7-53459690c654"
      },
      "outputs": [
        {
          "output_type": "execute_result",
          "data": {
            "text/plain": [
              "30000000"
            ]
          },
          "metadata": {},
          "execution_count": 7
        }
      ],
      "source": [
        "rec_count = len(data)\n",
        "rec_count"
      ]
    },
    {
      "cell_type": "markdown",
      "metadata": {
        "id": "6RVC1PZy88fC"
      },
      "source": [
        "# Datu dalīšana mazākos gabalos"
      ]
    },
    {
      "cell_type": "code",
      "execution_count": 8,
      "metadata": {
        "id": "DOvnCYkcbGaE"
      },
      "outputs": [],
      "source": [
        "sequence_length = 200"
      ]
    },
    {
      "cell_type": "code",
      "execution_count": 9,
      "metadata": {
        "id": "RG0o2L3zbTEx"
      },
      "outputs": [],
      "source": [
        "def generate_data(X, y, sequence_length = 200, step = 200):\n",
        "    X_local = []\n",
        "    y_local = []\n",
        "    for start in range(0, len(data) - sequence_length, step):\n",
        "        end = start + sequence_length\n",
        "        X_local.append(X[start:end])\n",
        "        y_local.append(y[end-1])\n",
        "    return np.array(X_local), np.array(y_local)\n",
        "\n",
        "X_sequence, y = generate_data(data.loc[:, [\"tachometer\", \"und-accelerometer-axial\", \"und-accelerometer-radial\", \"und-accelerometer-tangential\", \"over-accelerometer-axial\", \"over-accelerometer-radial\", \"over-accelerometer-tangential\", \"microphone\"]].values, data.Class)\n",
        "#X_sequence, y = generate_data(data.loc[:, [\"und-accelerometer-axial\", \"und-accelerometer-radial\", \"und-accelerometer-tangential\", \"microphone\"]].values, data.Class)\n"
      ]
    },
    {
      "cell_type": "code",
      "execution_count": 10,
      "metadata": {
        "id": "s0QxwK66cLVF",
        "colab": {
          "base_uri": "https://localhost:8080/"
        },
        "outputId": "13d7a0e5-9ead-4b88-ef1e-0f94711c9873"
      },
      "outputs": [
        {
          "output_type": "execute_result",
          "data": {
            "text/plain": [
              "((149999, 200, 8), (149999,))"
            ]
          },
          "metadata": {},
          "execution_count": 10
        }
      ],
      "source": [
        "X_sequence.shape, y.shape"
      ]
    },
    {
      "cell_type": "code",
      "source": [
        "y"
      ],
      "metadata": {
        "colab": {
          "base_uri": "https://localhost:8080/"
        },
        "id": "4tu6MQMZjahk",
        "outputId": "57135224-569e-4103-b7b0-d2015a4c1d03"
      },
      "execution_count": 11,
      "outputs": [
        {
          "output_type": "execute_result",
          "data": {
            "text/plain": [
              "array([7, 7, 7, ..., 0, 0, 0])"
            ]
          },
          "metadata": {},
          "execution_count": 11
        }
      ]
    },
    {
      "cell_type": "code",
      "source": [
        "i = 0\n",
        "while i < 149999:\n",
        "  if y[i] == 1:\n",
        "    y[i] = 7\n",
        "  elif y[i] == 2:\n",
        "    y[i] = 6\n",
        "  elif y[i] == 3:\n",
        "    y[i] = 5\n",
        "  elif y[i] == 4:\n",
        "    y[i] = 4\n",
        "  elif y[i] == 5:\n",
        "    y[i] = 3\n",
        "  elif y[i] == 6:\n",
        "    y[i] = 2\n",
        "  elif y[i] == 7:\n",
        "    y[i] = 1\n",
        "  i+=1"
      ],
      "metadata": {
        "id": "i_jgMMlgjT4O"
      },
      "execution_count": 12,
      "outputs": []
    },
    {
      "cell_type": "code",
      "source": [
        "y"
      ],
      "metadata": {
        "colab": {
          "base_uri": "https://localhost:8080/"
        },
        "id": "mgCNJtOCkKZJ",
        "outputId": "2728b7f0-7786-465e-c594-654360fac401"
      },
      "execution_count": 13,
      "outputs": [
        {
          "output_type": "execute_result",
          "data": {
            "text/plain": [
              "array([1, 1, 1, ..., 0, 0, 0])"
            ]
          },
          "metadata": {},
          "execution_count": 13
        }
      ]
    },
    {
      "cell_type": "code",
      "source": [
        "y.shape"
      ],
      "metadata": {
        "colab": {
          "base_uri": "https://localhost:8080/"
        },
        "id": "L9-ql6wZkMNC",
        "outputId": "7ac45007-ba64-45c9-9536-f295136d3188"
      },
      "execution_count": 14,
      "outputs": [
        {
          "output_type": "execute_result",
          "data": {
            "text/plain": [
              "(149999,)"
            ]
          },
          "metadata": {},
          "execution_count": 14
        }
      ]
    },
    {
      "cell_type": "code",
      "source": [
        "#np.save(\"mydata.npy\",X_sequence)"
      ],
      "metadata": {
        "id": "kvpMrUzMgZGE"
      },
      "execution_count": 15,
      "outputs": []
    },
    {
      "cell_type": "code",
      "source": [
        "#b = np.load(\"mydata.npy\")"
      ],
      "metadata": {
        "id": "fxB_2ohGgkXJ"
      },
      "execution_count": 16,
      "outputs": []
    },
    {
      "cell_type": "code",
      "source": [
        "#b.shape"
      ],
      "metadata": {
        "colab": {
          "base_uri": "https://localhost:8080/"
        },
        "id": "HguuDdetguf7",
        "outputId": "aad94831-baa2-4bbf-dc2a-5fdcb5517a6b"
      },
      "execution_count": 17,
      "outputs": [
        {
          "output_type": "execute_result",
          "data": {
            "text/plain": [
              "(149999, 200, 8)"
            ]
          },
          "metadata": {},
          "execution_count": 17
        }
      ]
    },
    {
      "cell_type": "code",
      "source": [
        "unique, counts = np.unique(y, return_counts=True)"
      ],
      "metadata": {
        "id": "l8Lq455lV1JR"
      },
      "execution_count": 18,
      "outputs": []
    },
    {
      "cell_type": "code",
      "source": [
        "unique"
      ],
      "metadata": {
        "id": "t0BRO3nAWQxe",
        "colab": {
          "base_uri": "https://localhost:8080/"
        },
        "outputId": "8fdd1eac-4ac0-4d25-8e4b-0db726ec61ae"
      },
      "execution_count": 19,
      "outputs": [
        {
          "output_type": "execute_result",
          "data": {
            "text/plain": [
              "array([0, 1, 2, 3, 4, 5, 6, 7])"
            ]
          },
          "metadata": {},
          "execution_count": 19
        }
      ]
    },
    {
      "cell_type": "code",
      "source": [
        "counts"
      ],
      "metadata": {
        "id": "WWZ7QWR4WS_r",
        "colab": {
          "base_uri": "https://localhost:8080/"
        },
        "outputId": "515a04d3-63a5-4687-b70e-45c2d53bbeda"
      },
      "execution_count": 20,
      "outputs": [
        {
          "output_type": "execute_result",
          "data": {
            "text/plain": [
              "array([18749, 18750, 18750, 18750, 18750, 18750, 18750, 18750])"
            ]
          },
          "metadata": {},
          "execution_count": 20
        }
      ]
    },
    {
      "cell_type": "code",
      "execution_count": 21,
      "metadata": {
        "id": "i7R1oo6Mj8wx"
      },
      "outputs": [],
      "source": [
        "data = 0"
      ]
    },
    {
      "cell_type": "code",
      "source": [
        "#from sklearn.preprocessing import OneHotEncoder"
      ],
      "metadata": {
        "id": "lAk_JscRWmqY"
      },
      "execution_count": 22,
      "outputs": []
    },
    {
      "cell_type": "code",
      "source": [
        "#label_encoder = OneHotEncoder(sparse=False)\n",
        "#label_encoder.fit(y.reshape(-1,1))"
      ],
      "metadata": {
        "id": "14B9aYy0W0y6"
      },
      "execution_count": 23,
      "outputs": []
    },
    {
      "cell_type": "code",
      "source": [
        "#y_encoded = label_encoder.transform(y.reshape(-1,1))"
      ],
      "metadata": {
        "id": "VjpWn96xXgPS"
      },
      "execution_count": 24,
      "outputs": []
    },
    {
      "cell_type": "code",
      "source": [
        "#y_encoded[0:5]"
      ],
      "metadata": {
        "id": "VL6KMFo9XpBi"
      },
      "execution_count": 25,
      "outputs": []
    },
    {
      "cell_type": "code",
      "source": [
        "#y=y_encoded"
      ],
      "metadata": {
        "id": "5c8km253YKBl"
      },
      "execution_count": 26,
      "outputs": []
    },
    {
      "cell_type": "markdown",
      "metadata": {
        "id": "5BXSDoHa9UX_"
      },
      "source": [
        "# Random/Shuffle"
      ]
    },
    {
      "cell_type": "code",
      "execution_count": 27,
      "metadata": {
        "id": "ZcfE9idy-ckb"
      },
      "outputs": [],
      "source": [
        "shuffler = np.random.permutation(len(X_sequence))\n",
        "X_sequence_shuffled = X_sequence[shuffler]\n",
        "y_shuffled = y[shuffler]"
      ]
    },
    {
      "cell_type": "markdown",
      "metadata": {
        "id": "TfhRTTNcE2s8"
      },
      "source": [
        "# LSTM"
      ]
    },
    {
      "cell_type": "code",
      "execution_count": 28,
      "metadata": {
        "id": "ihrXMuVAEwlY"
      },
      "outputs": [],
      "source": [
        "import pandas as pd\n",
        "import sklearn.metrics as metrique\n",
        "from pandas import Series\n",
        "from sklearn.preprocessing import StandardScaler, MinMaxScaler\n",
        "from matplotlib import pyplot\n",
        "from sklearn.model_selection import train_test_split\n",
        "import numpy as np\n",
        "import tensorflow as tf\n",
        "import sys\n",
        "import numpy as np\n",
        "import pandas as pd\n",
        "import tensorflow as tf\n",
        "import matplotlib.pyplot as plt\n",
        "from sklearn.model_selection import train_test_split\n",
        "from sklearn import preprocessing\n",
        "from sklearn.preprocessing import StandardScaler\n",
        "from sklearn.metrics import classification_report\n",
        "import warnings\n",
        "warnings.filterwarnings('ignore')\n",
        "plt.style.use('ggplot')\n",
        "import seaborn as sns \n",
        "%matplotlib inline\n",
        "from keras.callbacks import EarlyStopping\n",
        "from keras.callbacks import ModelCheckpoint\n",
        "from sklearn.metrics import accuracy_score\n",
        "from sklearn.metrics import classification_report, confusion_matrix\n",
        "from keras.models import Sequential\n",
        "from keras.utils import np_utils\n",
        "from keras.layers import LSTM, Dense, Embedding, Dropout,Input, Layer, Concatenate, Permute, Dot, Multiply, Flatten\n",
        "from keras.layers import RepeatVector, Dense, Activation, Lambda\n",
        "from keras.models import Sequential\n",
        "from keras import backend as K, regularizers, Model, metrics\n",
        "from keras.backend import cast"
      ]
    },
    {
      "cell_type": "code",
      "execution_count": 29,
      "metadata": {
        "id": "PjKWKiA6aH3z"
      },
      "outputs": [],
      "source": [
        "#from tensorflow.keras import optimizers\n",
        "#sgd = optimizers.SGD(lr=0.0001, decay=1e-6, momentum=0.9, nesterov=True)\n",
        "#model = keras.Sequential()\n",
        "#model.add(LSTM(100, input_shape = (200, 8)))\n",
        "#model.add(Dropout(0.5))\n",
        "#model.add(Dense(1, activation=\"softmax\"))\n",
        "\n",
        "\n",
        "#model.compile(loss=\"categorical_crossentropy\"\n",
        "#              , metrics=[keras.metrics.binary_accuracy]\n",
        "#              , optimizer='sgd')\n",
        "\n",
        "#model.summary()"
      ]
    },
    {
      "cell_type": "code",
      "execution_count": 30,
      "metadata": {
        "id": "_2SaVmwSWJVB",
        "colab": {
          "base_uri": "https://localhost:8080/"
        },
        "outputId": "9be825a8-bf7c-4f6d-d1d1-ee8e77b88eac"
      },
      "outputs": [
        {
          "output_type": "stream",
          "name": "stdout",
          "text": [
            "Model: \"sequential\"\n",
            "_________________________________________________________________\n",
            " Layer (type)                Output Shape              Param #   \n",
            "=================================================================\n",
            " lstm (LSTM)                 (None, 100)               43600     \n",
            "                                                                 \n",
            " dropout (Dropout)           (None, 100)               0         \n",
            "                                                                 \n",
            " dense (Dense)               (None, 1)                 101       \n",
            "                                                                 \n",
            "=================================================================\n",
            "Total params: 43,701\n",
            "Trainable params: 43,701\n",
            "Non-trainable params: 0\n",
            "_________________________________________________________________\n"
          ]
        }
      ],
      "source": [
        "from tensorflow.keras import optimizers\n",
        "#sgd = optimizers.SGD(lr=0.0001, decay=1e-6, momentum=0.9, nesterov=True)\n",
        "optimizer = tf.keras.optimizers.Adam(lr=0.00001)\n",
        "model = keras.Sequential()\n",
        "model.add(LSTM(100, input_shape = (200, 8)))\n",
        "model.add(Dropout(0.5))\n",
        "model.add(Dense(1))# dense 1, activation - relu/sigmoid\n",
        "\n",
        "#model.compile(loss='mean_squared_error', optimizer=sgd)\n",
        "model.compile(loss=\"mse\" #mse\n",
        "              , metrics=['accuracy']\n",
        "              , optimizer=optimizer)\n",
        "\n",
        "model.summary()"
      ]
    },
    {
      "cell_type": "code",
      "execution_count": 31,
      "metadata": {
        "id": "tg8wrqsqc8UX"
      },
      "outputs": [],
      "source": [
        "training_size = int(len(X_sequence) * 0.8)\n",
        "val_size = int(len(X_sequence) * 0.9)"
      ]
    },
    {
      "cell_type": "code",
      "execution_count": 32,
      "metadata": {
        "id": "avIp3TEKc-qF"
      },
      "outputs": [],
      "source": [
        "X_train, y_train = X_sequence_shuffled[:training_size], y_shuffled[:training_size]\n",
        "X_val, y_val = X_sequence_shuffled[training_size:val_size], y_shuffled[training_size:val_size]\n",
        "X_test, y_test = X_sequence_shuffled[val_size:], y_shuffled[val_size:]"
      ]
    },
    {
      "cell_type": "code",
      "execution_count": 33,
      "metadata": {
        "id": "RABc_uKzkBUT"
      },
      "outputs": [],
      "source": [
        "X_sequence = 0\n",
        "y = 0"
      ]
    },
    {
      "cell_type": "code",
      "source": [
        "X_train.shape"
      ],
      "metadata": {
        "id": "Omv-ht1dhGxL",
        "colab": {
          "base_uri": "https://localhost:8080/"
        },
        "outputId": "49195ed3-dc56-4048-a674-14a880c72c39"
      },
      "execution_count": 34,
      "outputs": [
        {
          "output_type": "execute_result",
          "data": {
            "text/plain": [
              "(119999, 200, 8)"
            ]
          },
          "metadata": {},
          "execution_count": 34
        }
      ]
    },
    {
      "cell_type": "code",
      "execution_count": 35,
      "metadata": {
        "id": "8aIhPJ-wLCwZ",
        "colab": {
          "base_uri": "https://localhost:8080/"
        },
        "outputId": "99a28cc5-0160-4518-b102-51428ae4bf6d"
      },
      "outputs": [
        {
          "output_type": "execute_result",
          "data": {
            "text/plain": [
              "array([6, 6, 7, 6, 7, 7, 1, 2, 0, 6])"
            ]
          },
          "metadata": {},
          "execution_count": 35
        }
      ],
      "source": [
        "y_train[:10]"
      ]
    },
    {
      "cell_type": "code",
      "execution_count": 36,
      "metadata": {
        "id": "cen4faX0dFJP",
        "colab": {
          "base_uri": "https://localhost:8080/"
        },
        "outputId": "bc99efdb-6d30-4151-cea7-03e534367889"
      },
      "outputs": [
        {
          "output_type": "stream",
          "name": "stdout",
          "text": [
            "Epoch 1/100\n",
            "1875/1875 [==============================] - 85s 42ms/step - loss: 5.2455 - accuracy: 0.1251 - val_loss: 4.3340 - val_accuracy: 0.1238\n",
            "Epoch 2/100\n",
            "1875/1875 [==============================] - 65s 35ms/step - loss: 3.8744 - accuracy: 0.1248 - val_loss: 4.1831 - val_accuracy: 0.1238\n",
            "Epoch 3/100\n",
            "1875/1875 [==============================] - 64s 34ms/step - loss: 3.7043 - accuracy: 0.1271 - val_loss: 3.1791 - val_accuracy: 0.1327\n",
            "Epoch 4/100\n",
            "1875/1875 [==============================] - 68s 36ms/step - loss: 3.5164 - accuracy: 0.1337 - val_loss: 3.0111 - val_accuracy: 0.1383\n",
            "Epoch 5/100\n",
            "1875/1875 [==============================] - 66s 35ms/step - loss: 3.4640 - accuracy: 0.1382 - val_loss: 2.9168 - val_accuracy: 0.1431\n",
            "Epoch 6/100\n",
            "1875/1875 [==============================] - 66s 35ms/step - loss: 3.6015 - accuracy: 0.1469 - val_loss: 3.3649 - val_accuracy: 0.1543\n",
            "Epoch 7/100\n",
            "1875/1875 [==============================] - 65s 35ms/step - loss: 3.2119 - accuracy: 0.1570 - val_loss: 2.7871 - val_accuracy: 0.1499\n",
            "Epoch 8/100\n",
            "1875/1875 [==============================] - 67s 36ms/step - loss: 3.4934 - accuracy: 0.1446 - val_loss: 2.8568 - val_accuracy: 0.1368\n",
            "Epoch 9/100\n",
            "1875/1875 [==============================] - 68s 36ms/step - loss: 2.9897 - accuracy: 0.1499 - val_loss: 2.5989 - val_accuracy: 0.1459\n",
            "Epoch 10/100\n",
            "1875/1875 [==============================] - 67s 36ms/step - loss: 2.8306 - accuracy: 0.1530 - val_loss: 2.5631 - val_accuracy: 0.1497\n",
            "Epoch 11/100\n",
            "1875/1875 [==============================] - 68s 36ms/step - loss: 2.7001 - accuracy: 0.1560 - val_loss: 2.3564 - val_accuracy: 0.1633\n",
            "Epoch 12/100\n",
            "1875/1875 [==============================] - 67s 36ms/step - loss: 2.6383 - accuracy: 0.1607 - val_loss: 2.4529 - val_accuracy: 0.1614\n",
            "Epoch 13/100\n",
            "1875/1875 [==============================] - 66s 35ms/step - loss: 2.5077 - accuracy: 0.1599 - val_loss: 2.2260 - val_accuracy: 0.1586\n",
            "Epoch 14/100\n",
            "1875/1875 [==============================] - 66s 35ms/step - loss: 2.5263 - accuracy: 0.1608 - val_loss: 2.1637 - val_accuracy: 0.1634\n",
            "Epoch 15/100\n",
            "1875/1875 [==============================] - 68s 36ms/step - loss: 2.4186 - accuracy: 0.1617 - val_loss: 2.1769 - val_accuracy: 0.1595\n",
            "Epoch 16/100\n",
            "1875/1875 [==============================] - 67s 36ms/step - loss: 2.4442 - accuracy: 0.1644 - val_loss: 2.1296 - val_accuracy: 0.1637\n",
            "Epoch 17/100\n",
            "1875/1875 [==============================] - 67s 36ms/step - loss: 2.3486 - accuracy: 0.1671 - val_loss: 2.6493 - val_accuracy: 0.1762\n",
            "Epoch 18/100\n",
            "1875/1875 [==============================] - 67s 36ms/step - loss: 2.2979 - accuracy: 0.1646 - val_loss: 2.0571 - val_accuracy: 0.1618\n",
            "Epoch 19/100\n",
            "1875/1875 [==============================] - 67s 36ms/step - loss: 2.1822 - accuracy: 0.1701 - val_loss: 2.0153 - val_accuracy: 0.1694\n",
            "Epoch 20/100\n",
            "1875/1875 [==============================] - 66s 35ms/step - loss: 2.1130 - accuracy: 0.1722 - val_loss: 1.8980 - val_accuracy: 0.1846\n",
            "Epoch 21/100\n",
            "1875/1875 [==============================] - 66s 35ms/step - loss: 2.0796 - accuracy: 0.1730 - val_loss: 1.8474 - val_accuracy: 0.1743\n",
            "Epoch 22/100\n",
            "1875/1875 [==============================] - 70s 37ms/step - loss: 2.0144 - accuracy: 0.1761 - val_loss: 1.7561 - val_accuracy: 0.1776\n",
            "Epoch 23/100\n",
            "1875/1875 [==============================] - 67s 36ms/step - loss: 2.0039 - accuracy: 0.1793 - val_loss: 1.9233 - val_accuracy: 0.1763\n",
            "Epoch 24/100\n",
            "1875/1875 [==============================] - 65s 35ms/step - loss: 2.1514 - accuracy: 0.1726 - val_loss: 1.8684 - val_accuracy: 0.1856\n",
            "Epoch 25/100\n",
            "1875/1875 [==============================] - 64s 34ms/step - loss: 2.0610 - accuracy: 0.1738 - val_loss: 1.7815 - val_accuracy: 0.1935\n",
            "Epoch 26/100\n",
            "1875/1875 [==============================] - 66s 35ms/step - loss: 2.1289 - accuracy: 0.1675 - val_loss: 1.7605 - val_accuracy: 0.1651\n",
            "Epoch 27/100\n",
            "1875/1875 [==============================] - 70s 37ms/step - loss: 1.8966 - accuracy: 0.1753 - val_loss: 1.6510 - val_accuracy: 0.1900\n",
            "Epoch 28/100\n",
            "1875/1875 [==============================] - 67s 36ms/step - loss: 1.8093 - accuracy: 0.1847 - val_loss: 1.6883 - val_accuracy: 0.1947\n",
            "Epoch 29/100\n",
            "1875/1875 [==============================] - 68s 36ms/step - loss: 1.8944 - accuracy: 0.1813 - val_loss: 1.7551 - val_accuracy: 0.1708\n",
            "Epoch 30/100\n",
            "1875/1875 [==============================] - 67s 36ms/step - loss: 1.8619 - accuracy: 0.1842 - val_loss: 2.3719 - val_accuracy: 0.1717\n",
            "Epoch 31/100\n",
            "1875/1875 [==============================] - 67s 36ms/step - loss: 1.9380 - accuracy: 0.1791 - val_loss: 1.7091 - val_accuracy: 0.1793\n",
            "Epoch 32/100\n",
            "1875/1875 [==============================] - 67s 36ms/step - loss: 1.8189 - accuracy: 0.1830 - val_loss: 1.6943 - val_accuracy: 0.1795\n",
            "Epoch 33/100\n",
            "1875/1875 [==============================] - 66s 35ms/step - loss: 1.8535 - accuracy: 0.1797 - val_loss: 1.7925 - val_accuracy: 0.1630\n",
            "Epoch 34/100\n",
            "1875/1875 [==============================] - 70s 37ms/step - loss: 1.7786 - accuracy: 0.1827 - val_loss: 1.7221 - val_accuracy: 0.2038\n",
            "Epoch 35/100\n",
            "1875/1875 [==============================] - 70s 37ms/step - loss: 1.7222 - accuracy: 0.1888 - val_loss: 1.7359 - val_accuracy: 0.1946\n",
            "Epoch 36/100\n",
            "1875/1875 [==============================] - 69s 37ms/step - loss: 1.7057 - accuracy: 0.1909 - val_loss: 1.5537 - val_accuracy: 0.2042\n",
            "Epoch 37/100\n",
            "1875/1875 [==============================] - 67s 36ms/step - loss: 1.9050 - accuracy: 0.1712 - val_loss: 1.6034 - val_accuracy: 0.1823\n",
            "Epoch 38/100\n",
            "1875/1875 [==============================] - 68s 36ms/step - loss: 1.6819 - accuracy: 0.1870 - val_loss: 1.5964 - val_accuracy: 0.1943\n",
            "Epoch 39/100\n",
            "1875/1875 [==============================] - 67s 36ms/step - loss: 1.6567 - accuracy: 0.1878 - val_loss: 1.7137 - val_accuracy: 0.2017\n",
            "Epoch 40/100\n",
            "1875/1875 [==============================] - 68s 36ms/step - loss: 1.6778 - accuracy: 0.1854 - val_loss: 1.5650 - val_accuracy: 0.1925\n",
            "Epoch 41/100\n",
            "1875/1875 [==============================] - 68s 36ms/step - loss: 1.6519 - accuracy: 0.1876 - val_loss: 1.5568 - val_accuracy: 0.1756\n",
            "Epoch 42/100\n",
            "1875/1875 [==============================] - 68s 36ms/step - loss: 1.6563 - accuracy: 0.1857 - val_loss: 1.5184 - val_accuracy: 0.1981\n",
            "Epoch 43/100\n",
            "1875/1875 [==============================] - 68s 36ms/step - loss: 1.6234 - accuracy: 0.1903 - val_loss: 1.4958 - val_accuracy: 0.2040\n",
            "Epoch 44/100\n",
            "1875/1875 [==============================] - 68s 36ms/step - loss: 1.7069 - accuracy: 0.1849 - val_loss: 1.5606 - val_accuracy: 0.1939\n",
            "Epoch 45/100\n",
            "1875/1875 [==============================] - 67s 36ms/step - loss: 1.6523 - accuracy: 0.1879 - val_loss: 1.5245 - val_accuracy: 0.2006\n",
            "Epoch 46/100\n",
            "1875/1875 [==============================] - 69s 37ms/step - loss: 1.5797 - accuracy: 0.1909 - val_loss: 1.5383 - val_accuracy: 0.2077\n",
            "Epoch 47/100\n",
            "1875/1875 [==============================] - 69s 37ms/step - loss: 1.7159 - accuracy: 0.1850 - val_loss: 1.9481 - val_accuracy: 0.1509\n",
            "Epoch 48/100\n",
            "1875/1875 [==============================] - 70s 37ms/step - loss: 1.7887 - accuracy: 0.1734 - val_loss: 1.5798 - val_accuracy: 0.1749\n",
            "Epoch 49/100\n",
            "1875/1875 [==============================] - 72s 38ms/step - loss: 1.5546 - accuracy: 0.1890 - val_loss: 1.5292 - val_accuracy: 0.2051\n",
            "Epoch 50/100\n",
            "1875/1875 [==============================] - 67s 36ms/step - loss: 1.5192 - accuracy: 0.1937 - val_loss: 1.4948 - val_accuracy: 0.1975\n",
            "Epoch 51/100\n",
            "1875/1875 [==============================] - 68s 36ms/step - loss: 1.5510 - accuracy: 0.1902 - val_loss: 1.4978 - val_accuracy: 0.1829\n",
            "Epoch 52/100\n",
            "1875/1875 [==============================] - 67s 36ms/step - loss: 1.5097 - accuracy: 0.1919 - val_loss: 1.4486 - val_accuracy: 0.1881\n",
            "Epoch 53/100\n",
            "1875/1875 [==============================] - 67s 36ms/step - loss: 1.5785 - accuracy: 0.1928 - val_loss: 1.4042 - val_accuracy: 0.1894\n",
            "Epoch 54/100\n",
            "1875/1875 [==============================] - 69s 37ms/step - loss: 1.4642 - accuracy: 0.1974 - val_loss: 1.4389 - val_accuracy: 0.1932\n",
            "Epoch 55/100\n",
            "1875/1875 [==============================] - 69s 37ms/step - loss: 1.5290 - accuracy: 0.1925 - val_loss: 1.4250 - val_accuracy: 0.1961\n",
            "Epoch 56/100\n",
            "1875/1875 [==============================] - 69s 37ms/step - loss: 1.5167 - accuracy: 0.1947 - val_loss: 1.4715 - val_accuracy: 0.1957\n",
            "Epoch 57/100\n",
            "1875/1875 [==============================] - 67s 36ms/step - loss: 1.4708 - accuracy: 0.1957 - val_loss: 1.4149 - val_accuracy: 0.2047\n",
            "Epoch 58/100\n",
            "1875/1875 [==============================] - 68s 37ms/step - loss: 1.4819 - accuracy: 0.1962 - val_loss: 1.4018 - val_accuracy: 0.2103\n",
            "Epoch 59/100\n",
            "1875/1875 [==============================] - 66s 35ms/step - loss: 1.4514 - accuracy: 0.1981 - val_loss: 1.3537 - val_accuracy: 0.2043\n",
            "Epoch 60/100\n",
            "1875/1875 [==============================] - 69s 37ms/step - loss: 1.4017 - accuracy: 0.2005 - val_loss: 1.4345 - val_accuracy: 0.1973\n",
            "Epoch 61/100\n",
            "1875/1875 [==============================] - 70s 38ms/step - loss: 1.5499 - accuracy: 0.1872 - val_loss: 1.4105 - val_accuracy: 0.1979\n",
            "Epoch 62/100\n",
            "1875/1875 [==============================] - 71s 38ms/step - loss: 1.4250 - accuracy: 0.1966 - val_loss: 1.9551 - val_accuracy: 0.1610\n",
            "Epoch 63/100\n",
            "1875/1875 [==============================] - 71s 38ms/step - loss: 1.5837 - accuracy: 0.1937 - val_loss: 1.3949 - val_accuracy: 0.2134\n",
            "Epoch 64/100\n",
            "1875/1875 [==============================] - 70s 38ms/step - loss: 2.0893 - accuracy: 0.1810 - val_loss: 1.9204 - val_accuracy: 0.1817\n",
            "Epoch 65/100\n",
            "1875/1875 [==============================] - 69s 37ms/step - loss: 1.7365 - accuracy: 0.1857 - val_loss: 1.4670 - val_accuracy: 0.2017\n",
            "Epoch 66/100\n",
            "1875/1875 [==============================] - 69s 37ms/step - loss: 1.4618 - accuracy: 0.1961 - val_loss: 1.3616 - val_accuracy: 0.2000\n",
            "Epoch 67/100\n",
            "1875/1875 [==============================] - 70s 37ms/step - loss: 1.3971 - accuracy: 0.1989 - val_loss: 1.3272 - val_accuracy: 0.2011\n",
            "Epoch 68/100\n",
            "1875/1875 [==============================] - 68s 36ms/step - loss: 1.4255 - accuracy: 0.1976 - val_loss: 1.3202 - val_accuracy: 0.2120\n",
            "Epoch 69/100\n",
            "1875/1875 [==============================] - 71s 38ms/step - loss: 1.4434 - accuracy: 0.1962 - val_loss: 1.4142 - val_accuracy: 0.1997\n",
            "Epoch 70/100\n",
            "1875/1875 [==============================] - 70s 37ms/step - loss: 1.3706 - accuracy: 0.1983 - val_loss: 1.2835 - val_accuracy: 0.2189\n",
            "Epoch 71/100\n",
            "1875/1875 [==============================] - 68s 36ms/step - loss: 1.4046 - accuracy: 0.2010 - val_loss: 1.7474 - val_accuracy: 0.1943\n",
            "Epoch 72/100\n",
            "1875/1875 [==============================] - 70s 38ms/step - loss: 1.4259 - accuracy: 0.1995 - val_loss: 1.3587 - val_accuracy: 0.1899\n",
            "Epoch 73/100\n",
            "1875/1875 [==============================] - 76s 41ms/step - loss: 1.3515 - accuracy: 0.2044 - val_loss: 1.3589 - val_accuracy: 0.2098\n",
            "Epoch 74/100\n",
            "1875/1875 [==============================] - 68s 36ms/step - loss: 1.4158 - accuracy: 0.2000 - val_loss: 1.2731 - val_accuracy: 0.2127\n",
            "Epoch 75/100\n",
            "1875/1875 [==============================] - 67s 36ms/step - loss: 1.3950 - accuracy: 0.2024 - val_loss: 1.4135 - val_accuracy: 0.1809\n",
            "Epoch 76/100\n",
            "1875/1875 [==============================] - 66s 35ms/step - loss: 1.2977 - accuracy: 0.2054 - val_loss: 1.3148 - val_accuracy: 0.2087\n",
            "Epoch 77/100\n",
            "1875/1875 [==============================] - 68s 36ms/step - loss: 1.3194 - accuracy: 0.2049 - val_loss: 1.2479 - val_accuracy: 0.2115\n",
            "Epoch 78/100\n",
            "1875/1875 [==============================] - 68s 36ms/step - loss: 1.3649 - accuracy: 0.2061 - val_loss: 1.4851 - val_accuracy: 0.2234\n",
            "Epoch 79/100\n",
            "1875/1875 [==============================] - 66s 35ms/step - loss: 1.4334 - accuracy: 0.2040 - val_loss: 1.3216 - val_accuracy: 0.1930\n",
            "Epoch 80/100\n",
            "1875/1875 [==============================] - 67s 36ms/step - loss: 1.3304 - accuracy: 0.2077 - val_loss: 1.2291 - val_accuracy: 0.2122\n",
            "Epoch 81/100\n",
            "1875/1875 [==============================] - 66s 35ms/step - loss: 1.3154 - accuracy: 0.2101 - val_loss: 1.2844 - val_accuracy: 0.2065\n",
            "Epoch 82/100\n",
            "1875/1875 [==============================] - 67s 36ms/step - loss: 1.3152 - accuracy: 0.2091 - val_loss: 1.2256 - val_accuracy: 0.2133\n",
            "Epoch 83/100\n",
            "1875/1875 [==============================] - 67s 36ms/step - loss: 1.2711 - accuracy: 0.2112 - val_loss: 1.2376 - val_accuracy: 0.2038\n",
            "Epoch 84/100\n",
            "1875/1875 [==============================] - 67s 36ms/step - loss: 1.3893 - accuracy: 0.2070 - val_loss: 1.2315 - val_accuracy: 0.2187\n",
            "Epoch 85/100\n",
            "1875/1875 [==============================] - 67s 36ms/step - loss: 1.2344 - accuracy: 0.2117 - val_loss: 1.1797 - val_accuracy: 0.2063\n",
            "Epoch 86/100\n",
            "1875/1875 [==============================] - 66s 35ms/step - loss: 1.2644 - accuracy: 0.2120 - val_loss: 1.2617 - val_accuracy: 0.2197\n",
            "Epoch 87/100\n",
            "1875/1875 [==============================] - 69s 37ms/step - loss: 1.2449 - accuracy: 0.2098 - val_loss: 1.9405 - val_accuracy: 0.1735\n",
            "Epoch 88/100\n",
            "1875/1875 [==============================] - 67s 36ms/step - loss: 1.3422 - accuracy: 0.2059 - val_loss: 1.1572 - val_accuracy: 0.2245\n",
            "Epoch 89/100\n",
            "1875/1875 [==============================] - 66s 35ms/step - loss: 1.2252 - accuracy: 0.2126 - val_loss: 1.1286 - val_accuracy: 0.2177\n",
            "Epoch 90/100\n",
            "1875/1875 [==============================] - 66s 35ms/step - loss: 1.2544 - accuracy: 0.2136 - val_loss: 1.1432 - val_accuracy: 0.2223\n",
            "Epoch 91/100\n",
            "1875/1875 [==============================] - 69s 37ms/step - loss: 1.2943 - accuracy: 0.2125 - val_loss: 1.1503 - val_accuracy: 0.2280\n",
            "Epoch 92/100\n",
            "1875/1875 [==============================] - 72s 38ms/step - loss: 1.1729 - accuracy: 0.2155 - val_loss: 1.1004 - val_accuracy: 0.2267\n",
            "Epoch 93/100\n",
            "1875/1875 [==============================] - 70s 37ms/step - loss: 1.2218 - accuracy: 0.2188 - val_loss: 1.1233 - val_accuracy: 0.2272\n",
            "Epoch 94/100\n",
            "1875/1875 [==============================] - 69s 37ms/step - loss: 1.1825 - accuracy: 0.2189 - val_loss: 1.0789 - val_accuracy: 0.2218\n",
            "Epoch 95/100\n",
            "1875/1875 [==============================] - 68s 37ms/step - loss: 1.1491 - accuracy: 0.2168 - val_loss: 1.1537 - val_accuracy: 0.2131\n",
            "Epoch 96/100\n",
            "1875/1875 [==============================] - 68s 36ms/step - loss: 1.3006 - accuracy: 0.2132 - val_loss: 1.0975 - val_accuracy: 0.2262\n",
            "Epoch 97/100\n",
            "1875/1875 [==============================] - 68s 36ms/step - loss: 1.1404 - accuracy: 0.2192 - val_loss: 1.1753 - val_accuracy: 0.1901\n",
            "Epoch 98/100\n",
            "1875/1875 [==============================] - 66s 35ms/step - loss: 1.1884 - accuracy: 0.2166 - val_loss: 1.0627 - val_accuracy: 0.2203\n",
            "Epoch 99/100\n",
            "1875/1875 [==============================] - 66s 35ms/step - loss: 1.1278 - accuracy: 0.2187 - val_loss: 1.0549 - val_accuracy: 0.2322\n",
            "Epoch 100/100\n",
            "1875/1875 [==============================] - 68s 36ms/step - loss: 1.4077 - accuracy: 0.2108 - val_loss: 1.3572 - val_accuracy: 0.2179\n"
          ]
        }
      ],
      "source": [
        "history = model.fit(X_train, y_train, batch_size=64, epochs=100, validation_data=(X_val, y_val))\n",
        "#model.save('NewAllDataModel_E100_B64.h5')"
      ]
    },
    {
      "cell_type": "code",
      "execution_count": 37,
      "metadata": {
        "id": "R7QQeqVidKBR",
        "colab": {
          "base_uri": "https://localhost:8080/"
        },
        "outputId": "f2a0e2f1-deb9-42d1-a746-415773a1f913"
      },
      "outputs": [
        {
          "output_type": "stream",
          "name": "stdout",
          "text": [
            "469/469 [==============================] - 8s 17ms/step - loss: 1.3889 - accuracy: 0.2145\n"
          ]
        }
      ],
      "source": [
        "test_acc = model.evaluate(X_test, y_test)"
      ]
    },
    {
      "cell_type": "code",
      "source": [
        "test_acc"
      ],
      "metadata": {
        "id": "6fuTmgGrUgGg",
        "colab": {
          "base_uri": "https://localhost:8080/"
        },
        "outputId": "7d053b59-3017-4c79-f9fb-f0211a1dd848"
      },
      "execution_count": 38,
      "outputs": [
        {
          "output_type": "execute_result",
          "data": {
            "text/plain": [
              "[1.3889133930206299, 0.2144666612148285]"
            ]
          },
          "metadata": {},
          "execution_count": 38
        }
      ]
    },
    {
      "cell_type": "code",
      "execution_count": 39,
      "metadata": {
        "id": "OHpifyqGdKn-",
        "colab": {
          "base_uri": "https://localhost:8080/"
        },
        "outputId": "51697a71-6450-4c61-dfaf-af6147bcb8be"
      },
      "outputs": [
        {
          "output_type": "stream",
          "name": "stdout",
          "text": [
            "469/469 [==============================] - 7s 14ms/step\n"
          ]
        }
      ],
      "source": [
        "y_test_prob = model.predict(X_test, verbose=1)"
      ]
    },
    {
      "cell_type": "code",
      "source": [
        "np.set_printoptions(suppress=True)\n",
        "y_test_prob_backup = y_test_prob\n",
        "y_test_prob"
      ],
      "metadata": {
        "id": "rRPswrrkmhp2",
        "colab": {
          "base_uri": "https://localhost:8080/"
        },
        "outputId": "4a3de60f-b91d-4822-faef-06fafa2acf64"
      },
      "execution_count": 40,
      "outputs": [
        {
          "output_type": "execute_result",
          "data": {
            "text/plain": [
              "array([[ 0.22347736],\n",
              "       [ 3.755228  ],\n",
              "       [ 0.01344395],\n",
              "       ...,\n",
              "       [-0.04492176],\n",
              "       [ 5.624666  ],\n",
              "       [ 1.5803068 ]], dtype=float32)"
            ]
          },
          "metadata": {},
          "execution_count": 40
        }
      ]
    },
    {
      "cell_type": "code",
      "source": [
        "plt.figure(figsize=(10,10))\n",
        "plt.hist(y_test_prob_backup)"
      ],
      "metadata": {
        "colab": {
          "base_uri": "https://localhost:8080/",
          "height": 700
        },
        "id": "qsgK5XvWjrAP",
        "outputId": "fe414a9b-db20-4234-c2bd-b8595ae09773"
      },
      "execution_count": 41,
      "outputs": [
        {
          "output_type": "execute_result",
          "data": {
            "text/plain": [
              "(array([1366.,  368., 1651., 1561., 2099., 2584., 1595.,  993., 1362.,\n",
              "        1421.]),\n",
              " array([-0.1281203,  0.5903644,  1.3088491,  2.027334 ,  2.7458186,\n",
              "         3.4643033,  4.182788 ,  4.901273 ,  5.6197577,  6.338242 ,\n",
              "         7.056727 ], dtype=float32),\n",
              " <a list of 10 Patch objects>)"
            ]
          },
          "metadata": {},
          "execution_count": 41
        },
        {
          "output_type": "display_data",
          "data": {
            "text/plain": [
              "<Figure size 720x720 with 1 Axes>"
            ],
            "image/png": "[encoded data removed]"
          },
          "metadata": {
            "needs_background": "light"
          }
        }
      ]
    },
    {
      "cell_type": "code",
      "source": [
        "y_test_prob_backup[:10]"
      ],
      "metadata": {
        "colab": {
          "base_uri": "https://localhost:8080/"
        },
        "id": "M6Xj4ugPx610",
        "outputId": "29718723-88a3-45e8-eb85-b0dce5477b6c"
      },
      "execution_count": 42,
      "outputs": [
        {
          "output_type": "execute_result",
          "data": {
            "text/plain": [
              "array([[0.22347736],\n",
              "       [3.755228  ],\n",
              "       [0.01344395],\n",
              "       [3.7247386 ],\n",
              "       [2.4455485 ],\n",
              "       [3.7103467 ],\n",
              "       [4.276211  ],\n",
              "       [0.05908024],\n",
              "       [0.12587559],\n",
              "       [3.2074976 ]], dtype=float32)"
            ]
          },
          "metadata": {},
          "execution_count": 42
        }
      ]
    },
    {
      "cell_type": "code",
      "execution_count": 43,
      "metadata": {
        "id": "8DoJy_p9dPzN"
      },
      "outputs": [],
      "source": [
        "from sklearn.metrics import multilabel_confusion_matrix"
      ]
    },
    {
      "cell_type": "code",
      "source": [
        "y_test"
      ],
      "metadata": {
        "id": "n1Us2yrfcGl-",
        "colab": {
          "base_uri": "https://localhost:8080/"
        },
        "outputId": "1946878f-64fc-48d7-9a31-1e223ffe7359"
      },
      "execution_count": 44,
      "outputs": [
        {
          "output_type": "execute_result",
          "data": {
            "text/plain": [
              "array([0, 4, 0, ..., 0, 6, 1])"
            ]
          },
          "metadata": {},
          "execution_count": 44
        }
      ]
    },
    {
      "cell_type": "code",
      "source": [
        "y_test.shape"
      ],
      "metadata": {
        "id": "VnmvTcvWbxr9",
        "colab": {
          "base_uri": "https://localhost:8080/"
        },
        "outputId": "03cd9eb4-2a9e-44bb-9f02-a51bd2767a14"
      },
      "execution_count": 45,
      "outputs": [
        {
          "output_type": "execute_result",
          "data": {
            "text/plain": [
              "(15000,)"
            ]
          },
          "metadata": {},
          "execution_count": 45
        }
      ]
    },
    {
      "cell_type": "code",
      "source": [
        "y_test_prob"
      ],
      "metadata": {
        "id": "fLgDwAIfiyv2",
        "colab": {
          "base_uri": "https://localhost:8080/"
        },
        "outputId": "458f3336-79bc-402d-8431-c224b5db2e69"
      },
      "execution_count": 46,
      "outputs": [
        {
          "output_type": "execute_result",
          "data": {
            "text/plain": [
              "array([[ 0.22347736],\n",
              "       [ 3.755228  ],\n",
              "       [ 0.01344395],\n",
              "       ...,\n",
              "       [-0.04492176],\n",
              "       [ 5.624666  ],\n",
              "       [ 1.5803068 ]], dtype=float32)"
            ]
          },
          "metadata": {},
          "execution_count": 46
        }
      ]
    },
    {
      "cell_type": "code",
      "source": [
        "y_test_pred = np.reshape(y_test_prob, -1)"
      ],
      "metadata": {
        "id": "ISi7-hg2gI7f"
      },
      "execution_count": 47,
      "outputs": []
    },
    {
      "cell_type": "code",
      "source": [
        "y_test_pred"
      ],
      "metadata": {
        "colab": {
          "base_uri": "https://localhost:8080/"
        },
        "id": "lsLE4-aGiT6A",
        "outputId": "e064da4d-df26-459e-b078-c2077886ced5"
      },
      "execution_count": 48,
      "outputs": [
        {
          "output_type": "execute_result",
          "data": {
            "text/plain": [
              "array([ 0.22347736,  3.755228  ,  0.01344395, ..., -0.04492176,\n",
              "        5.624666  ,  1.5803068 ], dtype=float32)"
            ]
          },
          "metadata": {},
          "execution_count": 48
        }
      ]
    },
    {
      "cell_type": "code",
      "source": [
        "y_test_pred_int = np.round(y_test_pred)\n",
        "print(y_test_pred_int)\n",
        "y_test_pred_int = y_test_pred_int.astype(int)"
      ],
      "metadata": {
        "colab": {
          "base_uri": "https://localhost:8080/"
        },
        "id": "jiZwDk3pvcVw",
        "outputId": "7bc55e8c-199e-4443-9bf3-6144496d0f9e"
      },
      "execution_count": 49,
      "outputs": [
        {
          "output_type": "stream",
          "name": "stdout",
          "text": [
            "[ 0.  4.  0. ... -0.  6.  2.]\n"
          ]
        }
      ]
    },
    {
      "cell_type": "code",
      "source": [
        "y_test_pred_int"
      ],
      "metadata": {
        "colab": {
          "base_uri": "https://localhost:8080/"
        },
        "id": "VTPEZkizvo1c",
        "outputId": "a2c4c64d-10cd-48b0-fa3a-9e48c2821e09"
      },
      "execution_count": 50,
      "outputs": [
        {
          "output_type": "execute_result",
          "data": {
            "text/plain": [
              "array([0, 4, 0, ..., 0, 6, 2])"
            ]
          },
          "metadata": {},
          "execution_count": 50
        }
      ]
    },
    {
      "cell_type": "code",
      "execution_count": 51,
      "metadata": {
        "id": "fTCsPjW8dQaZ"
      },
      "outputs": [],
      "source": [
        "cfm=confusion_matrix(y_test, y_test_pred_int)"
      ]
    },
    {
      "cell_type": "code",
      "source": [
        "cfm"
      ],
      "metadata": {
        "id": "_67lPg6ic4cH",
        "colab": {
          "base_uri": "https://localhost:8080/"
        },
        "outputId": "47b28897-012d-402d-b645-a96a7823f713"
      },
      "execution_count": 52,
      "outputs": [
        {
          "output_type": "execute_result",
          "data": {
            "text/plain": [
              "array([[1305,  282,   95,   24,    5,   34,   67,    6],\n",
              "       [   8,  337, 1093,  385,   88,    7,    2,    0],\n",
              "       [   0,   96,  763,  697,  256,   17,    4,    0],\n",
              "       [   0,   16,  200,  759,  772,   96,    6,    0],\n",
              "       [   0,    3,  137,  470, 1059,  285,   10,    0],\n",
              "       [   0,    1,   52,  226,  731,  622,  230,    0],\n",
              "       [   0,    1,   26,  140,  359,  420,  919,   24],\n",
              "       [   8,    7,   17,   35,   55,   62,  580, 1101]])"
            ]
          },
          "metadata": {},
          "execution_count": 52
        }
      ]
    },
    {
      "cell_type": "code",
      "source": [
        " print(classification_report(y_test,y_test_pred_int))"
      ],
      "metadata": {
        "id": "XTqR_xnwRWCJ",
        "colab": {
          "base_uri": "https://localhost:8080/"
        },
        "outputId": "c72ea07d-3698-413c-860e-2563a279e95d"
      },
      "execution_count": 53,
      "outputs": [
        {
          "output_type": "stream",
          "name": "stdout",
          "text": [
            "              precision    recall  f1-score   support\n",
            "\n",
            "           0       0.99      0.72      0.83      1818\n",
            "           1       0.45      0.18      0.25      1920\n",
            "           2       0.32      0.42      0.36      1833\n",
            "           3       0.28      0.41      0.33      1849\n",
            "           4       0.32      0.54      0.40      1964\n",
            "           5       0.40      0.33      0.37      1862\n",
            "           6       0.51      0.49      0.50      1889\n",
            "           7       0.97      0.59      0.73      1865\n",
            "\n",
            "    accuracy                           0.46     15000\n",
            "   macro avg       0.53      0.46      0.47     15000\n",
            "weighted avg       0.53      0.46      0.47     15000\n",
            "\n"
          ]
        }
      ]
    },
    {
      "cell_type": "code",
      "source": [
        "plt.plot(y_test_pred, y_test, 'o')\n",
        "#plt.title('')\n",
        "plt.ylabel('y_test')\n",
        "plt.xlabel('y_test_pred')\n",
        "plt.show()"
      ],
      "metadata": {
        "colab": {
          "base_uri": "https://localhost:8080/",
          "height": 282
        },
        "id": "l5sCwqd8ZdyS",
        "outputId": "ece58bb8-3330-414f-b729-56a43deef7e3"
      },
      "execution_count": 54,
      "outputs": [
        {
          "output_type": "display_data",
          "data": {
            "text/plain": [
              "<Figure size 432x288 with 1 Axes>"
            ],
            "image/png": "[encoded data removed]"
          },
          "metadata": {
            "needs_background": "light"
          }
        }
      ]
    },
    {
      "cell_type": "code",
      "source": [
        "plt.plot(y_test_pred_int, y_test, 'o')\n",
        "#plt.title('')\n",
        "plt.ylabel('y_test')\n",
        "plt.xlabel('y_test_pred_int')\n",
        "plt.show()"
      ],
      "metadata": {
        "colab": {
          "base_uri": "https://localhost:8080/",
          "height": 282
        },
        "id": "Fug6j8EeXP5G",
        "outputId": "6bf1cff0-ab0d-45a2-efc9-e527039ee20e"
      },
      "execution_count": 55,
      "outputs": [
        {
          "output_type": "display_data",
          "data": {
            "text/plain": [
              "<Figure size 432x288 with 1 Axes>"
            ],
            "image/png": "[encoded data removed]"
          },
          "metadata": {
            "needs_background": "light"
          }
        }
      ]
    },
    {
      "cell_type": "code",
      "execution_count": 56,
      "metadata": {
        "id": "fhdLAhgPUnH3"
      },
      "outputs": [],
      "source": [
        "def plot_learningCurve(history, epoch):\n",
        "  # Plot training & validation accuracy values\n",
        "  epoch_range = range(1, epoch+1)\n",
        "  plt.plot(epoch_range, history.history['accuracy'])\n",
        "  plt.plot(epoch_range, history.history['val_accuracy'])\n",
        "  plt.title('Model accuracy')\n",
        "  plt.ylabel('Accuracy')\n",
        "  plt.xlabel('Epoch')\n",
        "  plt.legend(['Train', 'Val'], loc='upper left')\n",
        "  plt.show()\n",
        "\n",
        "  # Plot training & validation loss values\n",
        "  plt.plot(epoch_range, history.history['loss'])\n",
        "  plt.plot(epoch_range, history.history['val_loss'])\n",
        "  plt.title('Model loss')\n",
        "  plt.ylabel('Loss')\n",
        "  plt.xlabel('Epoch')\n",
        "  plt.legend(['Train', 'Val'], loc='upper left')\n",
        "  plt.show()"
      ]
    },
    {
      "cell_type": "code",
      "execution_count": 57,
      "metadata": {
        "id": "WlkQkWHgU5mL",
        "colab": {
          "base_uri": "https://localhost:8080/",
          "height": 581
        },
        "outputId": "c1e0ce44-21bd-40fc-e370-6f0629e44b1a"
      },
      "outputs": [
        {
          "output_type": "display_data",
          "data": {
            "text/plain": [
              "<Figure size 432x288 with 1 Axes>"
            ],
            "image/png": "[encoded data removed]"
          },
          "metadata": {
            "needs_background": "light"
          }
        },
        {
          "output_type": "display_data",
          "data": {
            "text/plain": [
              "<Figure size 432x288 with 1 Axes>"
            ],
            "image/png": "[encoded data removed]"
          },
          "metadata": {
            "needs_background": "light"
          }
        }
      ],
      "source": [
        "plot_learningCurve(history, 100)"
      ]
    },
    {
      "cell_type": "code",
      "source": [
        "import numpy as np\n",
        "import matplotlib.pyplot as plt\n",
        "\n",
        "from sklearn import svm, datasets\n",
        "from sklearn.model_selection import train_test_split\n",
        "from sklearn.metrics import confusion_matrix\n",
        "from sklearn.utils.multiclass import unique_labels\n",
        "\n",
        "class_names = np.array(['0', '6', '10', '15', '20', '25', '30', '35'])\n",
        "\n",
        "def plot_confusion_matrix(y_true, y_pred, classes,\n",
        "                          normalize=False,\n",
        "                          title=None,\n",
        "                          cmap=plt.cm.Blues):\n",
        "    \"\"\"\n",
        "    This function prints and plots the confusion matrix.\n",
        "    Normalization can be applied by setting `normalize=True`.\n",
        "    \"\"\"\n",
        "    if not title:\n",
        "        if normalize:\n",
        "            title = 'Normalized confusion matrix'\n",
        "        else:\n",
        "            title = 'Confusion matrix, without normalization'\n",
        "\n",
        "    # Compute confusion matrix\n",
        "    cm = confusion_matrix(y_true, y_pred)\n",
        "    # Only use the labels that appear in the data\n",
        "    classes = classes[unique_labels(y_true, y_pred)]\n",
        "    if normalize:\n",
        "        cm = cm.astype('float') / cm.sum(axis=1)[:, np.newaxis]\n",
        "        print(\"Normalized confusion matrix\")\n",
        "    else:\n",
        "        print('Confusion matrix, without normalization')\n",
        "\n",
        "    print(cm)\n",
        "\n",
        "    fig, ax = plt.subplots()\n",
        "    im = ax.imshow(cm, interpolation='nearest', cmap=cmap)\n",
        "    ax.figure.colorbar(im, ax=ax)\n",
        "    # We want to show all ticks...\n",
        "    ax.set(xticks=np.arange(cm.shape[1]),\n",
        "           yticks=np.arange(cm.shape[0]),\n",
        "           # ... and label them with the respective list entries\n",
        "           xticklabels=classes, yticklabels=classes,\n",
        "           title=title,\n",
        "           ylabel='True label',\n",
        "           xlabel='Predicted label')\n",
        "\n",
        "    # Rotate the tick labels and set their alignment.\n",
        "    plt.setp(ax.get_xticklabels(), rotation=45, ha=\"right\",\n",
        "             rotation_mode=\"anchor\")\n",
        "\n",
        "    # Loop over data dimensions and create text annotations.\n",
        "    fmt = '.2f' if normalize else 'd'\n",
        "    thresh = cm.max() / 2.\n",
        "    for i in range(cm.shape[0]):\n",
        "        for j in range(cm.shape[1]):\n",
        "            ax.text(j, i, format(cm[i, j], fmt),\n",
        "                    ha=\"center\", va=\"center\",\n",
        "                    color=\"white\" if cm[i, j] > thresh else \"black\")\n",
        "    fig.tight_layout()\n",
        "\n",
        "    return ax\n",
        "\n",
        "\n",
        "np.set_printoptions(precision=2)\n",
        "\n",
        "# Plot non-normalized confusion matrix\n",
        "plot_confusion_matrix(y_test, y_test_pred_int, classes=class_names,\n",
        "                      title='Confusion matrix, without normalization')\n",
        "\n",
        "# Plot normalized confusion matrix\n",
        "plot_confusion_matrix(y_test, y_test_pred_int, classes=class_names, normalize=True,\n",
        "                      title='Normalized confusion matrix')\n",
        "\n",
        "plt.show()"
      ],
      "metadata": {
        "colab": {
          "base_uri": "https://localhost:8080/",
          "height": 900
        },
        "id": "H_QpRmAjwxbM",
        "outputId": "b3071b28-782b-4d93-8515-eac32f8d144a"
      },
      "execution_count": 58,
      "outputs": [
        {
          "output_type": "stream",
          "name": "stdout",
          "text": [
            "Confusion matrix, without normalization\n",
            "[[1305  282   95   24    5   34   67    6]\n",
            " [   8  337 1093  385   88    7    2    0]\n",
            " [   0   96  763  697  256   17    4    0]\n",
            " [   0   16  200  759  772   96    6    0]\n",
            " [   0    3  137  470 1059  285   10    0]\n",
            " [   0    1   52  226  731  622  230    0]\n",
            " [   0    1   26  140  359  420  919   24]\n",
            " [   8    7   17   35   55   62  580 1101]]\n",
            "Normalized confusion matrix\n",
            "[[0.72 0.16 0.05 0.01 0.   0.02 0.04 0.  ]\n",
            " [0.   0.18 0.57 0.2  0.05 0.   0.   0.  ]\n",
            " [0.   0.05 0.42 0.38 0.14 0.01 0.   0.  ]\n",
            " [0.   0.01 0.11 0.41 0.42 0.05 0.   0.  ]\n",
            " [0.   0.   0.07 0.24 0.54 0.15 0.01 0.  ]\n",
            " [0.   0.   0.03 0.12 0.39 0.33 0.12 0.  ]\n",
            " [0.   0.   0.01 0.07 0.19 0.22 0.49 0.01]\n",
            " [0.   0.   0.01 0.02 0.03 0.03 0.31 0.59]]\n"
          ]
        },
        {
          "output_type": "display_data",
          "data": {
            "text/plain": [
              "<Figure size 432x288 with 2 Axes>"
            ],
            "image/png": "[encoded data removed]"
          },
          "metadata": {
            "needs_background": "light"
          }
        },
        {
          "output_type": "display_data",
          "data": {
            "text/plain": [
              "<Figure size 432x288 with 2 Axes>"
            ],
            "image/png": "[encoded data removed]"
          },
          "metadata": {
            "needs_background": "light"
          }
        }
      ]
    }
  ],
  "metadata": {
    "colab": {
      "collapsed_sections": [
        "f857kfHqUk0-"
      ],
      "name": "Regresion_Multi_Class_MD_LSTM_step_200_files_120.ipynb",
      "provenance": [],
      "include_colab_link": true
    },
    "kernelspec": {
      "display_name": "Python 3",
      "name": "python3"
    },
    "language_info": {
      "name": "python"
    },
    "accelerator": "GPU"
  },
  "nbformat": 4,
  "nbformat_minor": 0
}