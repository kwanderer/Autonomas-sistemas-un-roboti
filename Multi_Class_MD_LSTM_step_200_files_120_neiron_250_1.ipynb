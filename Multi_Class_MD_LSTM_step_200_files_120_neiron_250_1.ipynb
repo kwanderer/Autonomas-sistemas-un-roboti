{
  "cells": [
    {
      "cell_type": "markdown",
      "metadata": {
        "id": "view-in-github",
        "colab_type": "text"
      },
      "source": [
        "<a href=\"https://colab.research.google.com/github/kwanderer/Autonomas-sistemas-un-roboti/blob/main/Multi_Class_MD_LSTM_step_200_files_120_neiron_250_1.ipynb\" target=\"_parent\"><img src=\"https://colab.research.google.com/assets/colab-badge.svg\" alt=\"Open In Colab\"/></a>"
      ]
    },
    {
      "cell_type": "markdown",
      "metadata": {
        "id": "f857kfHqUk0-"
      },
      "source": [
        "\n",
        "\n",
        "#Datu kopa"
      ]
    },
    {
      "cell_type": "markdown",
      "metadata": {
        "id": "nM9WE3QGUwVi"
      },
      "source": [
        "Datu kopas avots: https://www.kaggle.com/uysalserkan/fault-induction-motor-dataset"
      ]
    },
    {
      "cell_type": "markdown",
      "metadata": {
        "id": "_sN_h3qHHy6r"
      },
      "source": [
        "Darbā tiek izmantota indukcijas motora parametru datu bāze. Izmantotajā datu kopā ir dati, kas tika iegūti SpectraQuest aparatūras kļūdu simulatorā (Machinery Fault Simulator).\n",
        "\n",
        "Katra mērījumu secība tika ģenerēta ar frekvenci 50 kHz 5 sekunžu laikā, kopā 250 000 mērījumi.\n",
        "\n",
        "Dati ir apkopoti vairākos failos, dažādos darbības stāvokļos un to apjoms ir ļoti liels. Šajā darbā tika izmantota daļa(viena mērījumu secība) no motora normālas darbības datiem.\n"
      ]
    },
    {
      "cell_type": "markdown",
      "metadata": {
        "id": "KtFAOaHYHLPo"
      },
      "source": [
        "Dati ir apkopoti tabulā, kura satur 8 parametrus. Dati ir iedalīti sekojošās kolonas:\n",
        "\n",
        "**tachometer** – tahometra signāls, kas ļauj novērtēt rotācijas frekvenci\n",
        "\n",
        "**und-accelerometer-axial** - apakšā esošā gultņa akselerometrs (aksiālais virziens)\n",
        "\n",
        "**und-accelerometer-radial** – apakšā esošā gultņa akselerometrs (radiālais virziens)\n",
        "\n",
        "**und-accelerometer-tangential** - apakšā esošā gultņa akselerometrs (tangenciālais virziens)\n",
        "\n",
        "**over-accelerometer-axial** - pārkares gultņa akselerometrs (aksiālais virziens)\n",
        "\n",
        "**over-accelerometer-radial** – pārkares gultņa akselerometrs (radiālais  virziens)\n",
        "\n",
        "**over-accelerometer-tangential**  - pārkares gultņa akselerometrs (tangenciālais virziens)\n",
        "\n",
        "**microphone** – mikrofona vērtība\n"
      ]
    },
    {
      "cell_type": "markdown",
      "metadata": {
        "id": "XymoNLKMVFUC"
      },
      "source": [
        "#Datu ielasīšana un satura vizualizācija"
      ]
    },
    {
      "cell_type": "code",
      "execution_count": 1,
      "metadata": {
        "id": "_yqYZDeOFq5s"
      },
      "outputs": [],
      "source": [
        "import keras\n",
        "from keras.layers import LSTM, Dropout, Dense\n",
        "import tensorflow as tf\n",
        "import numpy as np\n",
        "import pandas as pd\n",
        "\n",
        "from sklearn import linear_model  #pip install sklearn - loti plasa masinapmacibas biblioteka\n",
        "from sklearn.linear_model import LinearRegression  \n",
        "import csv          #pip install csv - darbam ar CSV datu kopam\n",
        "import requests     #pip install requests  - vienkarsakam darbam ar tiessaistes CSV datu kopam tiessaistes\n",
        "\n",
        "import matplotlib\n",
        "import matplotlib.pyplot as plt\n",
        "\n",
        "import glob\n"
      ]
    },
    {
      "cell_type": "code",
      "execution_count": 2,
      "metadata": {
        "id": "wlRTBbM2eUcV",
        "colab": {
          "base_uri": "https://localhost:8080/"
        },
        "outputId": "1494498d-a5fe-4b2b-8a30-0e589fb0f9c1"
      },
      "outputs": [
        {
          "output_type": "stream",
          "name": "stdout",
          "text": [
            "Drive already mounted at /content/gdrive; to attempt to forcibly remount, call drive.mount(\"/content/gdrive\", force_remount=True).\n"
          ]
        }
      ],
      "source": [
        "from google.colab import drive\n",
        "import os\n",
        "drive.mount('/content/gdrive')\n",
        "os.chdir(\"/content/gdrive/MyDrive/Colab Notebooks/data_multiclass/\")"
      ]
    },
    {
      "cell_type": "code",
      "execution_count": 3,
      "metadata": {
        "id": "zzz6fBl_SNom"
      },
      "outputs": [],
      "source": [
        "#extension = 'csv'\n",
        "#all_filenames = [i for i in glob.glob('*.{}'.format(extension))]"
      ]
    },
    {
      "cell_type": "code",
      "execution_count": 4,
      "metadata": {
        "id": "vagKFCkToBi0"
      },
      "outputs": [],
      "source": [
        "#combine all files in the list\n",
        "#combined_csv = pd.concat([pd.read_csv(f) for f in all_filenames ])\n",
        "#export to csv\n",
        "#combined_csv.to_csv( \"combined_multiclass_csv.csv\", index=False, encoding='utf-8-sig')"
      ]
    },
    {
      "cell_type": "code",
      "execution_count": 5,
      "metadata": {
        "id": "encEkbDhSfGI"
      },
      "outputs": [],
      "source": [
        "data = pd.read_csv(\"combined_multiclass_csv.csv\")"
      ]
    },
    {
      "cell_type": "code",
      "execution_count": 6,
      "metadata": {
        "id": "yz5Qe8ZWk1Zq",
        "colab": {
          "base_uri": "https://localhost:8080/"
        },
        "outputId": "e4152a42-5348-4355-febe-923c150ef681"
      },
      "outputs": [
        {
          "output_type": "stream",
          "name": "stdout",
          "text": [
            "<class 'pandas.core.frame.DataFrame'>\n",
            "RangeIndex: 30000000 entries, 0 to 29999999\n",
            "Data columns (total 9 columns):\n",
            " #   Column                         Dtype  \n",
            "---  ------                         -----  \n",
            " 0   tachometer                     float64\n",
            " 1   und-accelerometer-axial        float64\n",
            " 2   und-accelerometer-radial       float64\n",
            " 3   und-accelerometer-tangential   float64\n",
            " 4   over-accelerometer-axial       float64\n",
            " 5   over-accelerometer-radial      float64\n",
            " 6   over-accelerometer-tangential  float64\n",
            " 7   microphone                     float64\n",
            " 8   Class                          int64  \n",
            "dtypes: float64(8), int64(1)\n",
            "memory usage: 2.0 GB\n"
          ]
        }
      ],
      "source": [
        "data.info()"
      ]
    },
    {
      "cell_type": "code",
      "execution_count": 7,
      "metadata": {
        "id": "WUW9ezX6a_st",
        "colab": {
          "base_uri": "https://localhost:8080/"
        },
        "outputId": "272e8bee-79ea-4c65-c17c-3d4866c6827b"
      },
      "outputs": [
        {
          "output_type": "execute_result",
          "data": {
            "text/plain": [
              "30000000"
            ]
          },
          "metadata": {},
          "execution_count": 7
        }
      ],
      "source": [
        "rec_count = len(data)\n",
        "rec_count"
      ]
    },
    {
      "cell_type": "markdown",
      "metadata": {
        "id": "6RVC1PZy88fC"
      },
      "source": [
        "# Datu dalīšana mazākos gabalos"
      ]
    },
    {
      "cell_type": "code",
      "execution_count": 8,
      "metadata": {
        "id": "DOvnCYkcbGaE"
      },
      "outputs": [],
      "source": [
        "sequence_length = 200"
      ]
    },
    {
      "cell_type": "code",
      "execution_count": 9,
      "metadata": {
        "id": "RG0o2L3zbTEx"
      },
      "outputs": [],
      "source": [
        "def generate_data(X, y, sequence_length = 200, step = 200):\n",
        "    X_local = []\n",
        "    y_local = []\n",
        "    for start in range(0, len(data) - sequence_length, step):\n",
        "        end = start + sequence_length\n",
        "        X_local.append(X[start:end])\n",
        "        y_local.append(y[end-1])\n",
        "    return np.array(X_local), np.array(y_local)\n",
        "\n",
        "X_sequence, y = generate_data(data.loc[:, \"tachometer\":\"microphone\"].values, data.Class)"
      ]
    },
    {
      "cell_type": "code",
      "execution_count": 10,
      "metadata": {
        "id": "s0QxwK66cLVF",
        "colab": {
          "base_uri": "https://localhost:8080/"
        },
        "outputId": "f1febffd-5dce-43e1-bf7f-1742bd899bff"
      },
      "outputs": [
        {
          "output_type": "execute_result",
          "data": {
            "text/plain": [
              "((149999, 200, 8), (149999,))"
            ]
          },
          "metadata": {},
          "execution_count": 10
        }
      ],
      "source": [
        "X_sequence.shape, y.shape"
      ]
    },
    {
      "cell_type": "code",
      "source": [
        "unique, counts = np.unique(y, return_counts=True)"
      ],
      "metadata": {
        "id": "l8Lq455lV1JR"
      },
      "execution_count": 11,
      "outputs": []
    },
    {
      "cell_type": "code",
      "source": [
        "unique"
      ],
      "metadata": {
        "id": "t0BRO3nAWQxe",
        "colab": {
          "base_uri": "https://localhost:8080/"
        },
        "outputId": "baeab21f-d36a-43f5-faae-5b4dd8887927"
      },
      "execution_count": 12,
      "outputs": [
        {
          "output_type": "execute_result",
          "data": {
            "text/plain": [
              "array([0, 1, 2, 3, 4, 5, 6, 7])"
            ]
          },
          "metadata": {},
          "execution_count": 12
        }
      ]
    },
    {
      "cell_type": "code",
      "source": [
        "counts"
      ],
      "metadata": {
        "id": "WWZ7QWR4WS_r",
        "colab": {
          "base_uri": "https://localhost:8080/"
        },
        "outputId": "3c56eb23-ece0-4ff3-8715-3ad01d6defbe"
      },
      "execution_count": 13,
      "outputs": [
        {
          "output_type": "execute_result",
          "data": {
            "text/plain": [
              "array([18749, 18750, 18750, 18750, 18750, 18750, 18750, 18750])"
            ]
          },
          "metadata": {},
          "execution_count": 13
        }
      ]
    },
    {
      "cell_type": "code",
      "execution_count": 14,
      "metadata": {
        "id": "i7R1oo6Mj8wx"
      },
      "outputs": [],
      "source": [
        "data = 0"
      ]
    },
    {
      "cell_type": "code",
      "source": [
        "from sklearn.preprocessing import OneHotEncoder"
      ],
      "metadata": {
        "id": "lAk_JscRWmqY"
      },
      "execution_count": 15,
      "outputs": []
    },
    {
      "cell_type": "code",
      "source": [
        "label_encoder = OneHotEncoder(sparse=False)\n",
        "label_encoder.fit(y.reshape(-1,1))"
      ],
      "metadata": {
        "id": "14B9aYy0W0y6",
        "colab": {
          "base_uri": "https://localhost:8080/"
        },
        "outputId": "2eacdb21-028e-46a3-bf06-8c18301d9c66"
      },
      "execution_count": 16,
      "outputs": [
        {
          "output_type": "execute_result",
          "data": {
            "text/plain": [
              "OneHotEncoder(sparse=False)"
            ]
          },
          "metadata": {},
          "execution_count": 16
        }
      ]
    },
    {
      "cell_type": "code",
      "source": [
        "y_encoded = label_encoder.transform(y.reshape(-1,1))"
      ],
      "metadata": {
        "id": "VjpWn96xXgPS"
      },
      "execution_count": 17,
      "outputs": []
    },
    {
      "cell_type": "code",
      "source": [
        "y_encoded[0:5]"
      ],
      "metadata": {
        "id": "VL6KMFo9XpBi",
        "colab": {
          "base_uri": "https://localhost:8080/"
        },
        "outputId": "b36c9272-d673-4a32-f886-13d320eecc66"
      },
      "execution_count": 18,
      "outputs": [
        {
          "output_type": "execute_result",
          "data": {
            "text/plain": [
              "array([[0., 0., 0., 0., 0., 0., 0., 1.],\n",
              "       [0., 0., 0., 0., 0., 0., 0., 1.],\n",
              "       [0., 0., 0., 0., 0., 0., 0., 1.],\n",
              "       [0., 0., 0., 0., 0., 0., 0., 1.],\n",
              "       [0., 0., 0., 0., 0., 0., 0., 1.]])"
            ]
          },
          "metadata": {},
          "execution_count": 18
        }
      ]
    },
    {
      "cell_type": "code",
      "source": [
        "y=y_encoded"
      ],
      "metadata": {
        "id": "5c8km253YKBl"
      },
      "execution_count": 19,
      "outputs": []
    },
    {
      "cell_type": "markdown",
      "metadata": {
        "id": "5BXSDoHa9UX_"
      },
      "source": [
        "# Random/Shuffle"
      ]
    },
    {
      "cell_type": "code",
      "execution_count": 20,
      "metadata": {
        "id": "ZcfE9idy-ckb"
      },
      "outputs": [],
      "source": [
        "shuffler = np.random.permutation(len(X_sequence))\n",
        "X_sequence_shuffled = X_sequence[shuffler]\n",
        "y_shuffled = y[shuffler]"
      ]
    },
    {
      "cell_type": "markdown",
      "metadata": {
        "id": "TfhRTTNcE2s8"
      },
      "source": [
        "# LSTM"
      ]
    },
    {
      "cell_type": "code",
      "execution_count": 21,
      "metadata": {
        "id": "ihrXMuVAEwlY"
      },
      "outputs": [],
      "source": [
        "import pandas as pd\n",
        "import sklearn.metrics as metrique\n",
        "from pandas import Series\n",
        "from sklearn.preprocessing import StandardScaler, MinMaxScaler\n",
        "from matplotlib import pyplot\n",
        "from sklearn.model_selection import train_test_split\n",
        "import numpy as np\n",
        "import tensorflow as tf\n",
        "import sys\n",
        "import numpy as np\n",
        "import pandas as pd\n",
        "import tensorflow as tf\n",
        "import matplotlib.pyplot as plt\n",
        "from sklearn.model_selection import train_test_split\n",
        "from sklearn import preprocessing\n",
        "from sklearn.preprocessing import StandardScaler\n",
        "from sklearn.metrics import classification_report\n",
        "import warnings\n",
        "warnings.filterwarnings('ignore')\n",
        "plt.style.use('ggplot')\n",
        "import seaborn as sns \n",
        "%matplotlib inline\n",
        "from keras.callbacks import EarlyStopping\n",
        "from keras.callbacks import ModelCheckpoint\n",
        "from sklearn.metrics import accuracy_score\n",
        "from sklearn.metrics import classification_report, confusion_matrix\n",
        "from keras.models import Sequential\n",
        "from keras.utils import np_utils\n",
        "from keras.layers import LSTM, Dense, Embedding, Dropout,Input, Layer, Concatenate, Permute, Dot, Multiply, Flatten\n",
        "from keras.layers import RepeatVector, Dense, Activation, Lambda\n",
        "from keras.models import Sequential\n",
        "from keras import backend as K, regularizers, Model, metrics\n",
        "from keras.backend import cast"
      ]
    },
    {
      "cell_type": "code",
      "execution_count": 22,
      "metadata": {
        "id": "PjKWKiA6aH3z"
      },
      "outputs": [],
      "source": [
        "#from tensorflow.keras import optimizers\n",
        "#sgd = optimizers.SGD(lr=0.0001, decay=1e-6, momentum=0.9, nesterov=True)\n",
        "#model = keras.Sequential()\n",
        "#model.add(LSTM(100, input_shape = (200, 8)))\n",
        "#model.add(Dropout(0.5))\n",
        "#model.add(Dense(1, activation=\"softmax\"))\n",
        "\n",
        "\n",
        "#model.compile(loss=\"categorical_crossentropy\"\n",
        "#              , metrics=[keras.metrics.binary_accuracy]\n",
        "#              , optimizer='sgd')\n",
        "\n",
        "#model.summary()"
      ]
    },
    {
      "cell_type": "code",
      "execution_count": 23,
      "metadata": {
        "id": "_2SaVmwSWJVB",
        "colab": {
          "base_uri": "https://localhost:8080/"
        },
        "outputId": "07d1b39a-bdcb-47c5-c7fb-1d39ce05b1d4"
      },
      "outputs": [
        {
          "output_type": "stream",
          "name": "stdout",
          "text": [
            "Model: \"sequential\"\n",
            "_________________________________________________________________\n",
            " Layer (type)                Output Shape              Param #   \n",
            "=================================================================\n",
            " lstm (LSTM)                 (None, 250)               259000    \n",
            "                                                                 \n",
            " dropout (Dropout)           (None, 250)               0         \n",
            "                                                                 \n",
            " dense (Dense)               (None, 8)                 2008      \n",
            "                                                                 \n",
            "=================================================================\n",
            "Total params: 261,008\n",
            "Trainable params: 261,008\n",
            "Non-trainable params: 0\n",
            "_________________________________________________________________\n"
          ]
        }
      ],
      "source": [
        "from tensorflow.keras import optimizers\n",
        "#sgd = optimizers.SGD(lr=0.0001, decay=1e-6, momentum=0.9, nesterov=True)\n",
        "optimizer = tf.keras.optimizers.Adam(lr=0.0001)\n",
        "model = keras.Sequential()\n",
        "model.add(LSTM(250, input_shape = (200, 8)))\n",
        "model.add(Dropout(0.5))#0.25\n",
        "model.add(Dense(8, activation=\"softmax\"))\n",
        "\n",
        "#model.compile(loss='mean_squared_error', optimizer=sgd)\n",
        "model.compile(loss=\"categorical_crossentropy\"\n",
        "              , metrics=['accuracy']\n",
        "              , optimizer=optimizer)\n",
        "\n",
        "model.summary()"
      ]
    },
    {
      "cell_type": "code",
      "execution_count": 24,
      "metadata": {
        "id": "tg8wrqsqc8UX"
      },
      "outputs": [],
      "source": [
        "training_size = int(len(X_sequence) * 0.8)\n",
        "val_size = int(len(X_sequence) * 0.9)"
      ]
    },
    {
      "cell_type": "code",
      "execution_count": 25,
      "metadata": {
        "id": "avIp3TEKc-qF"
      },
      "outputs": [],
      "source": [
        "X_train, y_train = X_sequence_shuffled[:training_size], y_shuffled[:training_size]\n",
        "X_val, y_val = X_sequence_shuffled[training_size:val_size], y_shuffled[training_size:val_size]\n",
        "X_test, y_test = X_sequence_shuffled[val_size:], y_shuffled[val_size:]"
      ]
    },
    {
      "cell_type": "code",
      "execution_count": 26,
      "metadata": {
        "id": "RABc_uKzkBUT"
      },
      "outputs": [],
      "source": [
        "#X_sequence = 0\n",
        "#y = 0"
      ]
    },
    {
      "cell_type": "code",
      "source": [
        "X_train.shape"
      ],
      "metadata": {
        "id": "Omv-ht1dhGxL",
        "colab": {
          "base_uri": "https://localhost:8080/"
        },
        "outputId": "7dc5d527-c440-4b79-9258-434bc571884a"
      },
      "execution_count": 27,
      "outputs": [
        {
          "output_type": "execute_result",
          "data": {
            "text/plain": [
              "(119999, 200, 8)"
            ]
          },
          "metadata": {},
          "execution_count": 27
        }
      ]
    },
    {
      "cell_type": "code",
      "execution_count": 28,
      "metadata": {
        "id": "8aIhPJ-wLCwZ",
        "colab": {
          "base_uri": "https://localhost:8080/"
        },
        "outputId": "b050439f-a857-4b0a-c7ff-65b6fe31d12c"
      },
      "outputs": [
        {
          "output_type": "execute_result",
          "data": {
            "text/plain": [
              "array([[0., 0., 1., 0., 0., 0., 0., 0.],\n",
              "       [0., 0., 1., 0., 0., 0., 0., 0.],\n",
              "       [0., 1., 0., 0., 0., 0., 0., 0.],\n",
              "       [0., 1., 0., 0., 0., 0., 0., 0.],\n",
              "       [0., 0., 0., 0., 0., 0., 1., 0.],\n",
              "       [0., 0., 0., 1., 0., 0., 0., 0.],\n",
              "       [0., 0., 0., 0., 0., 1., 0., 0.],\n",
              "       [0., 0., 0., 0., 0., 0., 0., 1.],\n",
              "       [0., 1., 0., 0., 0., 0., 0., 0.],\n",
              "       [1., 0., 0., 0., 0., 0., 0., 0.]])"
            ]
          },
          "metadata": {},
          "execution_count": 28
        }
      ],
      "source": [
        "y_train[:10]"
      ]
    },
    {
      "cell_type": "code",
      "execution_count": 29,
      "metadata": {
        "id": "cen4faX0dFJP",
        "colab": {
          "base_uri": "https://localhost:8080/"
        },
        "outputId": "8043e805-25ea-4b92-b10a-6a8c935afcbc"
      },
      "outputs": [
        {
          "output_type": "stream",
          "name": "stdout",
          "text": [
            "Epoch 1/100\n",
            "1875/1875 [==============================] - 35s 16ms/step - loss: 1.7466 - accuracy: 0.2477 - val_loss: 1.6872 - val_accuracy: 0.2921\n",
            "Epoch 2/100\n",
            "1875/1875 [==============================] - 31s 17ms/step - loss: 1.6144 - accuracy: 0.3180 - val_loss: 1.5256 - val_accuracy: 0.3791\n",
            "Epoch 3/100\n",
            "1875/1875 [==============================] - 31s 16ms/step - loss: 1.5738 - accuracy: 0.3487 - val_loss: 1.4963 - val_accuracy: 0.3731\n",
            "Epoch 4/100\n",
            "1875/1875 [==============================] - 31s 16ms/step - loss: 1.6097 - accuracy: 0.3425 - val_loss: 1.4498 - val_accuracy: 0.4008\n",
            "Epoch 5/100\n",
            "1875/1875 [==============================] - 31s 16ms/step - loss: 1.5163 - accuracy: 0.3791 - val_loss: 1.6256 - val_accuracy: 0.3561\n",
            "Epoch 6/100\n",
            "1875/1875 [==============================] - 31s 16ms/step - loss: 1.5237 - accuracy: 0.3859 - val_loss: 1.5521 - val_accuracy: 0.3695\n",
            "Epoch 7/100\n",
            "1875/1875 [==============================] - 31s 16ms/step - loss: 1.5511 - accuracy: 0.3759 - val_loss: 1.6296 - val_accuracy: 0.3422\n",
            "Epoch 8/100\n",
            "1875/1875 [==============================] - 31s 16ms/step - loss: 1.4941 - accuracy: 0.3856 - val_loss: 1.3863 - val_accuracy: 0.4242\n",
            "Epoch 9/100\n",
            "1875/1875 [==============================] - 31s 16ms/step - loss: 1.3908 - accuracy: 0.4277 - val_loss: 1.3573 - val_accuracy: 0.4418\n",
            "Epoch 10/100\n",
            "1875/1875 [==============================] - 31s 16ms/step - loss: 1.3492 - accuracy: 0.4524 - val_loss: 1.3408 - val_accuracy: 0.4459\n",
            "Epoch 11/100\n",
            "1875/1875 [==============================] - 31s 16ms/step - loss: 1.3872 - accuracy: 0.4379 - val_loss: 1.3830 - val_accuracy: 0.4247\n",
            "Epoch 12/100\n",
            "1875/1875 [==============================] - 31s 16ms/step - loss: 1.3514 - accuracy: 0.4449 - val_loss: 1.3294 - val_accuracy: 0.4541\n",
            "Epoch 13/100\n",
            "1875/1875 [==============================] - 31s 16ms/step - loss: 1.3935 - accuracy: 0.4424 - val_loss: 1.4102 - val_accuracy: 0.4291\n",
            "Epoch 14/100\n",
            "1875/1875 [==============================] - 31s 16ms/step - loss: 1.3575 - accuracy: 0.4453 - val_loss: 1.3461 - val_accuracy: 0.4391\n",
            "Epoch 15/100\n",
            "1875/1875 [==============================] - 31s 16ms/step - loss: 1.3770 - accuracy: 0.4348 - val_loss: 1.3538 - val_accuracy: 0.4419\n",
            "Epoch 16/100\n",
            "1875/1875 [==============================] - 31s 16ms/step - loss: 1.3251 - accuracy: 0.4592 - val_loss: 1.2633 - val_accuracy: 0.4787\n",
            "Epoch 17/100\n",
            "1875/1875 [==============================] - 32s 17ms/step - loss: 1.2808 - accuracy: 0.4749 - val_loss: 1.2325 - val_accuracy: 0.4951\n",
            "Epoch 18/100\n",
            "1875/1875 [==============================] - 32s 17ms/step - loss: 1.2965 - accuracy: 0.4724 - val_loss: 1.2850 - val_accuracy: 0.4704\n",
            "Epoch 19/100\n",
            "1875/1875 [==============================] - 32s 17ms/step - loss: 1.2693 - accuracy: 0.4806 - val_loss: 1.2794 - val_accuracy: 0.4719\n",
            "Epoch 20/100\n",
            "1875/1875 [==============================] - 31s 16ms/step - loss: 1.3422 - accuracy: 0.4535 - val_loss: 1.5529 - val_accuracy: 0.3607\n",
            "Epoch 21/100\n",
            "1875/1875 [==============================] - 31s 16ms/step - loss: 1.4238 - accuracy: 0.4092 - val_loss: 1.3338 - val_accuracy: 0.4549\n",
            "Epoch 22/100\n",
            "1875/1875 [==============================] - 31s 16ms/step - loss: 1.3056 - accuracy: 0.4593 - val_loss: 1.2528 - val_accuracy: 0.4865\n",
            "Epoch 23/100\n",
            "1875/1875 [==============================] - 31s 16ms/step - loss: 1.2414 - accuracy: 0.4876 - val_loss: 1.2222 - val_accuracy: 0.4957\n",
            "Epoch 24/100\n",
            "1875/1875 [==============================] - 31s 16ms/step - loss: 1.2176 - accuracy: 0.4948 - val_loss: 1.1815 - val_accuracy: 0.5058\n",
            "Epoch 25/100\n",
            "1875/1875 [==============================] - 31s 16ms/step - loss: 1.1837 - accuracy: 0.5111 - val_loss: 1.1530 - val_accuracy: 0.5217\n",
            "Epoch 26/100\n",
            "1875/1875 [==============================] - 31s 16ms/step - loss: 1.1394 - accuracy: 0.5294 - val_loss: 1.1192 - val_accuracy: 0.5383\n",
            "Epoch 27/100\n",
            "1875/1875 [==============================] - 31s 16ms/step - loss: 1.1102 - accuracy: 0.5421 - val_loss: 1.0986 - val_accuracy: 0.5469\n",
            "Epoch 28/100\n",
            "1875/1875 [==============================] - 31s 16ms/step - loss: 1.0875 - accuracy: 0.5493 - val_loss: 1.0525 - val_accuracy: 0.5716\n",
            "Epoch 29/100\n",
            "1875/1875 [==============================] - 31s 16ms/step - loss: 1.0449 - accuracy: 0.5673 - val_loss: 1.0543 - val_accuracy: 0.5563\n",
            "Epoch 30/100\n",
            "1875/1875 [==============================] - 31s 16ms/step - loss: 1.0059 - accuracy: 0.5827 - val_loss: 0.9757 - val_accuracy: 0.5969\n",
            "Epoch 31/100\n",
            "1875/1875 [==============================] - 31s 16ms/step - loss: 0.9803 - accuracy: 0.5926 - val_loss: 0.9622 - val_accuracy: 0.5973\n",
            "Epoch 32/100\n",
            "1875/1875 [==============================] - 31s 16ms/step - loss: 0.9538 - accuracy: 0.6039 - val_loss: 0.9240 - val_accuracy: 0.6111\n",
            "Epoch 33/100\n",
            "1875/1875 [==============================] - 31s 16ms/step - loss: 0.9364 - accuracy: 0.6120 - val_loss: 0.8989 - val_accuracy: 0.6231\n",
            "Epoch 34/100\n",
            "1875/1875 [==============================] - 32s 17ms/step - loss: 0.9123 - accuracy: 0.6196 - val_loss: 0.9153 - val_accuracy: 0.6249\n",
            "Epoch 35/100\n",
            "1875/1875 [==============================] - 32s 17ms/step - loss: 0.8962 - accuracy: 0.6259 - val_loss: 0.9111 - val_accuracy: 0.6179\n",
            "Epoch 36/100\n",
            "1875/1875 [==============================] - 32s 17ms/step - loss: 0.8766 - accuracy: 0.6339 - val_loss: 0.8848 - val_accuracy: 0.6317\n",
            "Epoch 37/100\n",
            "1875/1875 [==============================] - 31s 17ms/step - loss: 0.8596 - accuracy: 0.6398 - val_loss: 0.8282 - val_accuracy: 0.6537\n",
            "Epoch 38/100\n",
            "1875/1875 [==============================] - 32s 17ms/step - loss: 0.8489 - accuracy: 0.6444 - val_loss: 0.8322 - val_accuracy: 0.6608\n",
            "Epoch 39/100\n",
            "1875/1875 [==============================] - 32s 17ms/step - loss: 0.8323 - accuracy: 0.6519 - val_loss: 0.8305 - val_accuracy: 0.6575\n",
            "Epoch 40/100\n",
            "1875/1875 [==============================] - 31s 16ms/step - loss: 0.8166 - accuracy: 0.6588 - val_loss: 0.8065 - val_accuracy: 0.6645\n",
            "Epoch 41/100\n",
            "1875/1875 [==============================] - 38s 20ms/step - loss: 0.8074 - accuracy: 0.6629 - val_loss: 0.7856 - val_accuracy: 0.6781\n",
            "Epoch 42/100\n",
            "1875/1875 [==============================] - 32s 17ms/step - loss: 0.7933 - accuracy: 0.6694 - val_loss: 0.8002 - val_accuracy: 0.6654\n",
            "Epoch 43/100\n",
            "1875/1875 [==============================] - 31s 17ms/step - loss: 0.7765 - accuracy: 0.6786 - val_loss: 0.7542 - val_accuracy: 0.6909\n",
            "Epoch 44/100\n",
            "1875/1875 [==============================] - 32s 17ms/step - loss: 0.7629 - accuracy: 0.6868 - val_loss: 0.7805 - val_accuracy: 0.6847\n",
            "Epoch 45/100\n",
            "1875/1875 [==============================] - 31s 17ms/step - loss: 0.7517 - accuracy: 0.6921 - val_loss: 0.7489 - val_accuracy: 0.6970\n",
            "Epoch 46/100\n",
            "1875/1875 [==============================] - 32s 17ms/step - loss: 0.7420 - accuracy: 0.6961 - val_loss: 0.7987 - val_accuracy: 0.6781\n",
            "Epoch 47/100\n",
            "1875/1875 [==============================] - 31s 16ms/step - loss: 0.7280 - accuracy: 0.7020 - val_loss: 0.7081 - val_accuracy: 0.7102\n",
            "Epoch 48/100\n",
            "1875/1875 [==============================] - 31s 16ms/step - loss: 0.7199 - accuracy: 0.7056 - val_loss: 0.7249 - val_accuracy: 0.7045\n",
            "Epoch 49/100\n",
            "1875/1875 [==============================] - 32s 17ms/step - loss: 0.7045 - accuracy: 0.7112 - val_loss: 0.6952 - val_accuracy: 0.7167\n",
            "Epoch 50/100\n",
            "1875/1875 [==============================] - 31s 16ms/step - loss: 0.6924 - accuracy: 0.7177 - val_loss: 0.7203 - val_accuracy: 0.7003\n",
            "Epoch 51/100\n",
            "1875/1875 [==============================] - 31s 16ms/step - loss: 0.6849 - accuracy: 0.7219 - val_loss: 0.6997 - val_accuracy: 0.7132\n",
            "Epoch 52/100\n",
            "1875/1875 [==============================] - 31s 16ms/step - loss: 0.6740 - accuracy: 0.7259 - val_loss: 0.6475 - val_accuracy: 0.7323\n",
            "Epoch 53/100\n",
            "1875/1875 [==============================] - 31s 16ms/step - loss: 0.6640 - accuracy: 0.7313 - val_loss: 0.6643 - val_accuracy: 0.7303\n",
            "Epoch 54/100\n",
            "1875/1875 [==============================] - 31s 16ms/step - loss: 0.6690 - accuracy: 0.7289 - val_loss: 0.6438 - val_accuracy: 0.7337\n",
            "Epoch 55/100\n",
            "1875/1875 [==============================] - 31s 16ms/step - loss: 0.6429 - accuracy: 0.7371 - val_loss: 0.6593 - val_accuracy: 0.7325\n",
            "Epoch 56/100\n",
            "1875/1875 [==============================] - 31s 16ms/step - loss: 0.6341 - accuracy: 0.7429 - val_loss: 0.6246 - val_accuracy: 0.7439\n",
            "Epoch 57/100\n",
            "1875/1875 [==============================] - 32s 17ms/step - loss: 0.6232 - accuracy: 0.7485 - val_loss: 0.6180 - val_accuracy: 0.7521\n",
            "Epoch 58/100\n",
            "1875/1875 [==============================] - 32s 17ms/step - loss: 0.6150 - accuracy: 0.7505 - val_loss: 0.5973 - val_accuracy: 0.7581\n",
            "Epoch 59/100\n",
            "1875/1875 [==============================] - 31s 16ms/step - loss: 0.6013 - accuracy: 0.7563 - val_loss: 0.6064 - val_accuracy: 0.7522\n",
            "Epoch 60/100\n",
            "1875/1875 [==============================] - 31s 17ms/step - loss: 0.5935 - accuracy: 0.7596 - val_loss: 0.5999 - val_accuracy: 0.7557\n",
            "Epoch 61/100\n",
            "1875/1875 [==============================] - 31s 17ms/step - loss: 0.5821 - accuracy: 0.7648 - val_loss: 0.6038 - val_accuracy: 0.7567\n",
            "Epoch 62/100\n",
            "1875/1875 [==============================] - 31s 16ms/step - loss: 0.5761 - accuracy: 0.7675 - val_loss: 0.5964 - val_accuracy: 0.7544\n",
            "Epoch 63/100\n",
            "1875/1875 [==============================] - 32s 17ms/step - loss: 0.5628 - accuracy: 0.7731 - val_loss: 0.5645 - val_accuracy: 0.7673\n",
            "Epoch 64/100\n",
            "1875/1875 [==============================] - 31s 16ms/step - loss: 0.5607 - accuracy: 0.7748 - val_loss: 0.5713 - val_accuracy: 0.7677\n",
            "Epoch 65/100\n",
            "1875/1875 [==============================] - 32s 17ms/step - loss: 0.5407 - accuracy: 0.7812 - val_loss: 0.5870 - val_accuracy: 0.7659\n",
            "Epoch 66/100\n",
            "1875/1875 [==============================] - 31s 17ms/step - loss: 0.5352 - accuracy: 0.7845 - val_loss: 0.5502 - val_accuracy: 0.7765\n",
            "Epoch 67/100\n",
            "1875/1875 [==============================] - 31s 17ms/step - loss: 0.5251 - accuracy: 0.7895 - val_loss: 0.5292 - val_accuracy: 0.7817\n",
            "Epoch 68/100\n",
            "1875/1875 [==============================] - 32s 17ms/step - loss: 0.5119 - accuracy: 0.7941 - val_loss: 0.5271 - val_accuracy: 0.7830\n",
            "Epoch 69/100\n",
            "1875/1875 [==============================] - 31s 17ms/step - loss: 0.5011 - accuracy: 0.7985 - val_loss: 0.5163 - val_accuracy: 0.7923\n",
            "Epoch 70/100\n",
            "1875/1875 [==============================] - 32s 17ms/step - loss: 0.4930 - accuracy: 0.8024 - val_loss: 0.5098 - val_accuracy: 0.7903\n",
            "Epoch 71/100\n",
            "1875/1875 [==============================] - 32s 17ms/step - loss: 0.4874 - accuracy: 0.8050 - val_loss: 0.4906 - val_accuracy: 0.8043\n",
            "Epoch 72/100\n",
            "1875/1875 [==============================] - 31s 16ms/step - loss: 0.4751 - accuracy: 0.8111 - val_loss: 0.4931 - val_accuracy: 0.8051\n",
            "Epoch 73/100\n",
            "1875/1875 [==============================] - 31s 17ms/step - loss: 0.4658 - accuracy: 0.8137 - val_loss: 0.4892 - val_accuracy: 0.8051\n",
            "Epoch 74/100\n",
            "1875/1875 [==============================] - 31s 17ms/step - loss: 0.4550 - accuracy: 0.8185 - val_loss: 0.4840 - val_accuracy: 0.8078\n",
            "Epoch 75/100\n",
            "1875/1875 [==============================] - 31s 16ms/step - loss: 0.4504 - accuracy: 0.8211 - val_loss: 0.4617 - val_accuracy: 0.8169\n",
            "Epoch 76/100\n",
            "1875/1875 [==============================] - 32s 17ms/step - loss: 0.4401 - accuracy: 0.8260 - val_loss: 0.5003 - val_accuracy: 0.8030\n",
            "Epoch 77/100\n",
            "1875/1875 [==============================] - 31s 17ms/step - loss: 0.4297 - accuracy: 0.8301 - val_loss: 0.4527 - val_accuracy: 0.8231\n",
            "Epoch 78/100\n",
            "1875/1875 [==============================] - 31s 17ms/step - loss: 0.4252 - accuracy: 0.8335 - val_loss: 0.4268 - val_accuracy: 0.8342\n",
            "Epoch 79/100\n",
            "1875/1875 [==============================] - 31s 16ms/step - loss: 0.4133 - accuracy: 0.8370 - val_loss: 0.4919 - val_accuracy: 0.8046\n",
            "Epoch 80/100\n",
            "1875/1875 [==============================] - 32s 17ms/step - loss: 0.4024 - accuracy: 0.8423 - val_loss: 0.4313 - val_accuracy: 0.8303\n",
            "Epoch 81/100\n",
            "1875/1875 [==============================] - 31s 16ms/step - loss: 0.3963 - accuracy: 0.8451 - val_loss: 0.4490 - val_accuracy: 0.8312\n",
            "Epoch 82/100\n",
            "1875/1875 [==============================] - 32s 17ms/step - loss: 0.3852 - accuracy: 0.8490 - val_loss: 0.4404 - val_accuracy: 0.8303\n",
            "Epoch 83/100\n",
            "1875/1875 [==============================] - 31s 16ms/step - loss: 0.3751 - accuracy: 0.8541 - val_loss: 0.4246 - val_accuracy: 0.8353\n",
            "Epoch 84/100\n",
            "1875/1875 [==============================] - 31s 16ms/step - loss: 0.3704 - accuracy: 0.8554 - val_loss: 0.4001 - val_accuracy: 0.8443\n",
            "Epoch 85/100\n",
            "1875/1875 [==============================] - 31s 16ms/step - loss: 0.3596 - accuracy: 0.8607 - val_loss: 0.4245 - val_accuracy: 0.8371\n",
            "Epoch 86/100\n",
            "1875/1875 [==============================] - 31s 16ms/step - loss: 0.3559 - accuracy: 0.8629 - val_loss: 0.3832 - val_accuracy: 0.8511\n",
            "Epoch 87/100\n",
            "1875/1875 [==============================] - 31s 16ms/step - loss: 0.3422 - accuracy: 0.8683 - val_loss: 0.3779 - val_accuracy: 0.8553\n",
            "Epoch 88/100\n",
            "1875/1875 [==============================] - 31s 17ms/step - loss: 0.3372 - accuracy: 0.8704 - val_loss: 0.3904 - val_accuracy: 0.8486\n",
            "Epoch 89/100\n",
            "1875/1875 [==============================] - 31s 16ms/step - loss: 0.3269 - accuracy: 0.8743 - val_loss: 0.3479 - val_accuracy: 0.8665\n",
            "Epoch 90/100\n",
            "1875/1875 [==============================] - 31s 16ms/step - loss: 0.3187 - accuracy: 0.8777 - val_loss: 0.3445 - val_accuracy: 0.8673\n",
            "Epoch 91/100\n",
            "1875/1875 [==============================] - 31s 16ms/step - loss: 0.3103 - accuracy: 0.8805 - val_loss: 0.3453 - val_accuracy: 0.8681\n",
            "Epoch 92/100\n",
            "1875/1875 [==============================] - 31s 17ms/step - loss: 0.3025 - accuracy: 0.8848 - val_loss: 0.3317 - val_accuracy: 0.8741\n",
            "Epoch 93/100\n",
            "1875/1875 [==============================] - 31s 16ms/step - loss: 0.2954 - accuracy: 0.8876 - val_loss: 0.3502 - val_accuracy: 0.8692\n",
            "Epoch 94/100\n",
            "1875/1875 [==============================] - 32s 17ms/step - loss: 0.2891 - accuracy: 0.8910 - val_loss: 0.3085 - val_accuracy: 0.8849\n",
            "Epoch 95/100\n",
            "1875/1875 [==============================] - 31s 16ms/step - loss: 0.2773 - accuracy: 0.8956 - val_loss: 0.3119 - val_accuracy: 0.8854\n",
            "Epoch 96/100\n",
            "1875/1875 [==============================] - 31s 17ms/step - loss: 0.2725 - accuracy: 0.8977 - val_loss: 0.3281 - val_accuracy: 0.8784\n",
            "Epoch 97/100\n",
            "1875/1875 [==============================] - 31s 17ms/step - loss: 0.2649 - accuracy: 0.8999 - val_loss: 0.3433 - val_accuracy: 0.8746\n",
            "Epoch 98/100\n",
            "1875/1875 [==============================] - 31s 17ms/step - loss: 0.2602 - accuracy: 0.9021 - val_loss: 0.3208 - val_accuracy: 0.8851\n",
            "Epoch 99/100\n",
            "1875/1875 [==============================] - 32s 17ms/step - loss: 0.2512 - accuracy: 0.9054 - val_loss: 0.3200 - val_accuracy: 0.8825\n",
            "Epoch 100/100\n",
            "1875/1875 [==============================] - 31s 16ms/step - loss: 0.2484 - accuracy: 0.9077 - val_loss: 0.2897 - val_accuracy: 0.8961\n"
          ]
        }
      ],
      "source": [
        "history = model.fit(X_train, y_train, batch_size=64, epochs=100, validation_data=(X_val, y_val))\n",
        "#model.save('NewAllDataModel_E50_B64.h5')"
      ]
    },
    {
      "cell_type": "code",
      "execution_count": 30,
      "metadata": {
        "id": "R7QQeqVidKBR",
        "colab": {
          "base_uri": "https://localhost:8080/"
        },
        "outputId": "7494053b-0ddb-4301-c328-a7e6da31b642"
      },
      "outputs": [
        {
          "output_type": "stream",
          "name": "stdout",
          "text": [
            "469/469 [==============================] - 3s 6ms/step - loss: 0.2753 - accuracy: 0.8989\n"
          ]
        }
      ],
      "source": [
        "test_acc = model.evaluate(X_test, y_test)"
      ]
    },
    {
      "cell_type": "code",
      "source": [
        "test_acc"
      ],
      "metadata": {
        "id": "6fuTmgGrUgGg",
        "colab": {
          "base_uri": "https://localhost:8080/"
        },
        "outputId": "43f6434b-1454-4fa5-acff-8f0a6210ffec"
      },
      "execution_count": 31,
      "outputs": [
        {
          "output_type": "execute_result",
          "data": {
            "text/plain": [
              "[0.27533137798309326, 0.8989333510398865]"
            ]
          },
          "metadata": {},
          "execution_count": 31
        }
      ]
    },
    {
      "cell_type": "code",
      "execution_count": 32,
      "metadata": {
        "id": "OHpifyqGdKn-",
        "colab": {
          "base_uri": "https://localhost:8080/"
        },
        "outputId": "13542576-6bd5-4352-9231-59deaa0ec487"
      },
      "outputs": [
        {
          "output_type": "stream",
          "name": "stdout",
          "text": [
            "469/469 [==============================] - 3s 5ms/step\n"
          ]
        }
      ],
      "source": [
        "y_test_prob = model.predict(X_test, verbose=1)"
      ]
    },
    {
      "cell_type": "code",
      "source": [
        "np.set_printoptions(suppress=True)\n",
        "y_test_prob_backup = y_test_prob\n",
        "y_test_prob"
      ],
      "metadata": {
        "id": "rRPswrrkmhp2",
        "colab": {
          "base_uri": "https://localhost:8080/"
        },
        "outputId": "3dea644b-efc2-4967-9d71-7324d2a68e26"
      },
      "execution_count": 33,
      "outputs": [
        {
          "output_type": "execute_result",
          "data": {
            "text/plain": [
              "array([[0.0000027 , 0.00000081, 0.00000586, ..., 0.00000932, 0.00785089,\n",
              "        0.9921163 ],\n",
              "       [0.00000592, 0.00000147, 0.00015716, ..., 0.06323774, 0.00295462,\n",
              "        0.00020933],\n",
              "       [0.000098  , 0.00036217, 0.00482362, ..., 0.02648741, 0.05223305,\n",
              "        0.01109259],\n",
              "       ...,\n",
              "       [0.0000025 , 0.99998903, 0.00000679, ..., 0.        , 0.00000003,\n",
              "        0.00000005],\n",
              "       [0.00017669, 0.99981195, 0.00000788, ..., 0.00000002, 0.00000005,\n",
              "        0.0000002 ],\n",
              "       [0.00000307, 0.99999547, 0.00000088, ..., 0.        , 0.        ,\n",
              "        0.00000001]], dtype=float32)"
            ]
          },
          "metadata": {},
          "execution_count": 33
        }
      ]
    },
    {
      "cell_type": "code",
      "execution_count": 34,
      "metadata": {
        "id": "AfmdrBILdMwj"
      },
      "outputs": [],
      "source": [
        "y_test_pred = np.where(y_test_prob > 0.5, 1, 0)"
      ]
    },
    {
      "cell_type": "code",
      "execution_count": 35,
      "metadata": {
        "id": "8DoJy_p9dPzN"
      },
      "outputs": [],
      "source": [
        "from sklearn.metrics import multilabel_confusion_matrix"
      ]
    },
    {
      "cell_type": "code",
      "source": [
        "y_test"
      ],
      "metadata": {
        "id": "n1Us2yrfcGl-",
        "colab": {
          "base_uri": "https://localhost:8080/"
        },
        "outputId": "95856110-8c2e-4b4e-d977-380bf43d4317"
      },
      "execution_count": 36,
      "outputs": [
        {
          "output_type": "execute_result",
          "data": {
            "text/plain": [
              "array([[0., 0., 0., ..., 0., 0., 1.],\n",
              "       [0., 0., 0., ..., 0., 0., 0.],\n",
              "       [0., 0., 0., ..., 0., 0., 0.],\n",
              "       ...,\n",
              "       [0., 1., 0., ..., 0., 0., 0.],\n",
              "       [0., 1., 0., ..., 0., 0., 0.],\n",
              "       [0., 1., 0., ..., 0., 0., 0.]])"
            ]
          },
          "metadata": {},
          "execution_count": 36
        }
      ]
    },
    {
      "cell_type": "code",
      "source": [
        "y_test.shape"
      ],
      "metadata": {
        "id": "VnmvTcvWbxr9",
        "colab": {
          "base_uri": "https://localhost:8080/"
        },
        "outputId": "c5b5c1ae-4b1d-4080-e2da-73a1d70cb010"
      },
      "execution_count": 37,
      "outputs": [
        {
          "output_type": "execute_result",
          "data": {
            "text/plain": [
              "(15000, 8)"
            ]
          },
          "metadata": {},
          "execution_count": 37
        }
      ]
    },
    {
      "cell_type": "code",
      "source": [
        "y_test_pred"
      ],
      "metadata": {
        "id": "nMBOgzrgcJBj",
        "colab": {
          "base_uri": "https://localhost:8080/"
        },
        "outputId": "ce0d0fa5-9c02-4a45-e788-1738ee191b21"
      },
      "execution_count": 38,
      "outputs": [
        {
          "output_type": "execute_result",
          "data": {
            "text/plain": [
              "array([[0, 0, 0, ..., 0, 0, 1],\n",
              "       [0, 0, 0, ..., 0, 0, 0],\n",
              "       [0, 0, 0, ..., 0, 0, 0],\n",
              "       ...,\n",
              "       [0, 1, 0, ..., 0, 0, 0],\n",
              "       [0, 1, 0, ..., 0, 0, 0],\n",
              "       [0, 1, 0, ..., 0, 0, 0]])"
            ]
          },
          "metadata": {},
          "execution_count": 38
        }
      ]
    },
    {
      "cell_type": "code",
      "source": [
        "y_test_pred.shape"
      ],
      "metadata": {
        "id": "SXKZof8Ye5uI",
        "colab": {
          "base_uri": "https://localhost:8080/"
        },
        "outputId": "8193bdfd-258d-40b2-e453-6f179173af39"
      },
      "execution_count": 39,
      "outputs": [
        {
          "output_type": "execute_result",
          "data": {
            "text/plain": [
              "(15000, 8)"
            ]
          },
          "metadata": {},
          "execution_count": 39
        }
      ]
    },
    {
      "cell_type": "code",
      "source": [
        "y_decoded_pred = tf.argmax(y_test_pred, axis = 1)"
      ],
      "metadata": {
        "id": "leDQwKOjgwwi"
      },
      "execution_count": 40,
      "outputs": []
    },
    {
      "cell_type": "code",
      "source": [
        "y_decoded = tf.argmax(y_test, axis = 1)"
      ],
      "metadata": {
        "id": "sAHRmtesif6g"
      },
      "execution_count": 41,
      "outputs": []
    },
    {
      "cell_type": "code",
      "source": [
        "y_decoded_pred"
      ],
      "metadata": {
        "id": "_lvFhrmPhprD",
        "colab": {
          "base_uri": "https://localhost:8080/"
        },
        "outputId": "a7c24ec4-f11e-445b-e50f-7e22afb2a697"
      },
      "execution_count": 42,
      "outputs": [
        {
          "output_type": "execute_result",
          "data": {
            "text/plain": [
              "<tf.Tensor: shape=(15000,), dtype=int64, numpy=array([7, 4, 4, ..., 1, 1, 1])>"
            ]
          },
          "metadata": {},
          "execution_count": 42
        }
      ]
    },
    {
      "cell_type": "code",
      "source": [
        "y_decoded"
      ],
      "metadata": {
        "id": "YV1FXgHviPwm",
        "colab": {
          "base_uri": "https://localhost:8080/"
        },
        "outputId": "9d486462-abfa-4085-fadf-429b74ef5f8f"
      },
      "execution_count": 43,
      "outputs": [
        {
          "output_type": "execute_result",
          "data": {
            "text/plain": [
              "<tf.Tensor: shape=(15000,), dtype=int64, numpy=array([7, 4, 4, ..., 1, 1, 1])>"
            ]
          },
          "metadata": {},
          "execution_count": 43
        }
      ]
    },
    {
      "cell_type": "code",
      "source": [
        "y_test_pred = y_decoded_pred\n"
      ],
      "metadata": {
        "id": "6-6jFqzGh380"
      },
      "execution_count": 44,
      "outputs": []
    },
    {
      "cell_type": "code",
      "source": [
        "y_test = y_decoded"
      ],
      "metadata": {
        "id": "9pogVvdIiwss"
      },
      "execution_count": 45,
      "outputs": []
    },
    {
      "cell_type": "code",
      "source": [
        "y_test"
      ],
      "metadata": {
        "id": "oGt5aJetiKR6",
        "colab": {
          "base_uri": "https://localhost:8080/"
        },
        "outputId": "8906458c-52ed-41d2-987e-ddf8145c5f44"
      },
      "execution_count": 46,
      "outputs": [
        {
          "output_type": "execute_result",
          "data": {
            "text/plain": [
              "<tf.Tensor: shape=(15000,), dtype=int64, numpy=array([7, 4, 4, ..., 1, 1, 1])>"
            ]
          },
          "metadata": {},
          "execution_count": 46
        }
      ]
    },
    {
      "cell_type": "code",
      "source": [
        "y_test_pred"
      ],
      "metadata": {
        "id": "fLgDwAIfiyv2",
        "colab": {
          "base_uri": "https://localhost:8080/"
        },
        "outputId": "2e22698d-3499-4329-ab34-d44d8bd1bf12"
      },
      "execution_count": 47,
      "outputs": [
        {
          "output_type": "execute_result",
          "data": {
            "text/plain": [
              "<tf.Tensor: shape=(15000,), dtype=int64, numpy=array([7, 4, 4, ..., 1, 1, 1])>"
            ]
          },
          "metadata": {},
          "execution_count": 47
        }
      ]
    },
    {
      "cell_type": "code",
      "execution_count": 48,
      "metadata": {
        "id": "fTCsPjW8dQaZ"
      },
      "outputs": [],
      "source": [
        "cfm=confusion_matrix(y_test, y_test_pred)"
      ]
    },
    {
      "cell_type": "code",
      "source": [
        "cfm"
      ],
      "metadata": {
        "id": "_67lPg6ic4cH",
        "colab": {
          "base_uri": "https://localhost:8080/"
        },
        "outputId": "c56f011e-acad-47bf-9c02-2a418b2342b4"
      },
      "execution_count": 49,
      "outputs": [
        {
          "output_type": "execute_result",
          "data": {
            "text/plain": [
              "array([[1826,    3,    0,    0,    0,    0,    0,    0],\n",
              "       [  20, 1804,    5,    0,    0,    0,    0,    3],\n",
              "       [  47,    5, 1704,   58,   16,   19,   27,   22],\n",
              "       [  87,    0,   39, 1532,  158,   44,   11,    1],\n",
              "       [  92,    0,   18,   59, 1602,   82,   42,    3],\n",
              "       [ 127,    0,   41,   47,   88, 1526,   33,   18],\n",
              "       [  78,    0,   47,    4,   38,   25, 1470,  205],\n",
              "       [  24,    0,    6,    0,    5,    5,   83, 1801]])"
            ]
          },
          "metadata": {},
          "execution_count": 49
        }
      ]
    },
    {
      "cell_type": "code",
      "source": [
        " print(classification_report(y_test,y_test_pred))"
      ],
      "metadata": {
        "id": "XTqR_xnwRWCJ",
        "colab": {
          "base_uri": "https://localhost:8080/"
        },
        "outputId": "8f78b7bc-42dd-4744-b5b5-6bae9d95ccea"
      },
      "execution_count": 50,
      "outputs": [
        {
          "output_type": "stream",
          "name": "stdout",
          "text": [
            "              precision    recall  f1-score   support\n",
            "\n",
            "           0       0.79      1.00      0.88      1829\n",
            "           1       1.00      0.98      0.99      1832\n",
            "           2       0.92      0.90      0.91      1898\n",
            "           3       0.90      0.82      0.86      1872\n",
            "           4       0.84      0.84      0.84      1898\n",
            "           5       0.90      0.81      0.85      1880\n",
            "           6       0.88      0.79      0.83      1867\n",
            "           7       0.88      0.94      0.91      1924\n",
            "\n",
            "    accuracy                           0.88     15000\n",
            "   macro avg       0.89      0.88      0.88     15000\n",
            "weighted avg       0.89      0.88      0.88     15000\n",
            "\n"
          ]
        }
      ]
    },
    {
      "cell_type": "code",
      "execution_count": 51,
      "metadata": {
        "id": "te3fslrY9Eca",
        "colab": {
          "base_uri": "https://localhost:8080/",
          "height": 903
        },
        "outputId": "bd1d1ad0-f56f-49bb-d860-b59779f4723f"
      },
      "outputs": [
        {
          "output_type": "stream",
          "name": "stdout",
          "text": [
            "Confusion matrix, without normalization\n",
            "[[1826    3    0    0    0    0    0    0]\n",
            " [  20 1804    5    0    0    0    0    3]\n",
            " [  47    5 1704   58   16   19   27   22]\n",
            " [  87    0   39 1532  158   44   11    1]\n",
            " [  92    0   18   59 1602   82   42    3]\n",
            " [ 127    0   41   47   88 1526   33   18]\n",
            " [  78    0   47    4   38   25 1470  205]\n",
            " [  24    0    6    0    5    5   83 1801]]\n",
            "Normalized confusion matrix\n",
            "[[1.   0.   0.   0.   0.   0.   0.   0.  ]\n",
            " [0.01 0.98 0.   0.   0.   0.   0.   0.  ]\n",
            " [0.02 0.   0.9  0.03 0.01 0.01 0.01 0.01]\n",
            " [0.05 0.   0.02 0.82 0.08 0.02 0.01 0.  ]\n",
            " [0.05 0.   0.01 0.03 0.84 0.04 0.02 0.  ]\n",
            " [0.07 0.   0.02 0.03 0.05 0.81 0.02 0.01]\n",
            " [0.04 0.   0.03 0.   0.02 0.01 0.79 0.11]\n",
            " [0.01 0.   0.   0.   0.   0.   0.04 0.94]]\n"
          ]
        },
        {
          "output_type": "display_data",
          "data": {
            "text/plain": [
              "<Figure size 432x288 with 2 Axes>"
            ],
            "image/png": "[encoded data removed]"
          },
          "metadata": {
            "needs_background": "light"
          }
        },
        {
          "output_type": "display_data",
          "data": {
            "text/plain": [
              "<Figure size 432x288 with 2 Axes>"
            ],
            "image/png": "[encoded data removed]"
          },
          "metadata": {
            "needs_background": "light"
          }
        }
      ],
      "source": [
        "import numpy as np\n",
        "import matplotlib.pyplot as plt\n",
        "\n",
        "from sklearn import svm, datasets\n",
        "from sklearn.model_selection import train_test_split\n",
        "from sklearn.metrics import confusion_matrix\n",
        "from sklearn.utils.multiclass import unique_labels\n",
        "\n",
        "class_names = np.array(['0', '1', '2', '3', '4', '5', '6', '7'])\n",
        "\n",
        "def plot_confusion_matrix(y_true, y_pred, classes,\n",
        "                          normalize=False,\n",
        "                          title=None,\n",
        "                          cmap=plt.cm.Blues):\n",
        "    \"\"\"\n",
        "    This function prints and plots the confusion matrix.\n",
        "    Normalization can be applied by setting `normalize=True`.\n",
        "    \"\"\"\n",
        "    if not title:\n",
        "        if normalize:\n",
        "            title = 'Normalized confusion matrix'\n",
        "        else:\n",
        "            title = 'Confusion matrix, without normalization'\n",
        "\n",
        "    # Compute confusion matrix\n",
        "    cm = confusion_matrix(y_true, y_pred)\n",
        "    # Only use the labels that appear in the data\n",
        "    classes = classes[unique_labels(y_true, y_pred)]\n",
        "    if normalize:\n",
        "        cm = cm.astype('float') / cm.sum(axis=1)[:, np.newaxis]\n",
        "        print(\"Normalized confusion matrix\")\n",
        "    else:\n",
        "        print('Confusion matrix, without normalization')\n",
        "\n",
        "    print(cm)\n",
        "\n",
        "    fig, ax = plt.subplots()\n",
        "    im = ax.imshow(cm, interpolation='nearest', cmap=cmap)\n",
        "    ax.figure.colorbar(im, ax=ax)\n",
        "    # We want to show all ticks...\n",
        "    ax.set(xticks=np.arange(cm.shape[1]),\n",
        "           yticks=np.arange(cm.shape[0]),\n",
        "           # ... and label them with the respective list entries\n",
        "           xticklabels=classes, yticklabels=classes,\n",
        "           title=title,\n",
        "           ylabel='True label',\n",
        "           xlabel='Predicted label')\n",
        "\n",
        "    # Rotate the tick labels and set their alignment.\n",
        "    plt.setp(ax.get_xticklabels(), rotation=45, ha=\"right\",\n",
        "             rotation_mode=\"anchor\")\n",
        "\n",
        "    # Loop over data dimensions and create text annotations.\n",
        "    fmt = '.2f' if normalize else 'd'\n",
        "    thresh = cm.max() / 2.\n",
        "    for i in range(cm.shape[0]):\n",
        "        for j in range(cm.shape[1]):\n",
        "            ax.text(j, i, format(cm[i, j], fmt),\n",
        "                    ha=\"center\", va=\"center\",\n",
        "                    color=\"white\" if cm[i, j] > thresh else \"black\")\n",
        "    fig.tight_layout()\n",
        "\n",
        "    return ax\n",
        "\n",
        "\n",
        "np.set_printoptions(precision=2)\n",
        "\n",
        "# Plot non-normalized confusion matrix\n",
        "plot_confusion_matrix(y_test, y_test_pred, classes=class_names,\n",
        "                      title='Confusion matrix, without normalization')\n",
        "\n",
        "# Plot normalized confusion matrix\n",
        "plot_confusion_matrix(y_test, y_test_pred, classes=class_names, normalize=True,\n",
        "                      title='Normalized confusion matrix')\n",
        "\n",
        "plt.show()"
      ]
    },
    {
      "cell_type": "code",
      "execution_count": 52,
      "metadata": {
        "id": "fhdLAhgPUnH3"
      },
      "outputs": [],
      "source": [
        "def plot_learningCurve(history, epoch):\n",
        "  # Plot training & validation accuracy values\n",
        "  epoch_range = range(1, epoch+1)\n",
        "  plt.plot(epoch_range, history.history['accuracy'])\n",
        "  plt.plot(epoch_range, history.history['val_accuracy'])\n",
        "  plt.title('Model accuracy')\n",
        "  plt.ylabel('Accuracy')\n",
        "  plt.xlabel('Epoch')\n",
        "  plt.legend(['Train', 'Val'], loc='upper left')\n",
        "  plt.show()\n",
        "\n",
        "  # Plot training & validation loss values\n",
        "  plt.plot(epoch_range, history.history['loss'])\n",
        "  plt.plot(epoch_range, history.history['val_loss'])\n",
        "  plt.title('Model loss')\n",
        "  plt.ylabel('Loss')\n",
        "  plt.xlabel('Epoch')\n",
        "  plt.legend(['Train', 'Val'], loc='upper left')\n",
        "  plt.show()"
      ]
    },
    {
      "cell_type": "code",
      "execution_count": 53,
      "metadata": {
        "id": "WlkQkWHgU5mL",
        "colab": {
          "base_uri": "https://localhost:8080/",
          "height": 581
        },
        "outputId": "9a98f2af-b448-4f09-e0fe-cdc9439cf9eb"
      },
      "outputs": [
        {
          "output_type": "display_data",
          "data": {
            "text/plain": [
              "<Figure size 432x288 with 1 Axes>"
            ],
            "image/png": "[encoded data removed]"
          },
          "metadata": {
            "needs_background": "light"
          }
        },
        {
          "output_type": "display_data",
          "data": {
            "text/plain": [
              "<Figure size 432x288 with 1 Axes>"
            ],
            "image/png": "[encoded data removed]"
          },
          "metadata": {
            "needs_background": "light"
          }
        }
      ],
      "source": [
        "plot_learningCurve(history, 100)"
      ]
    }
  ],
  "metadata": {
    "colab": {
      "collapsed_sections": [
        "f857kfHqUk0-"
      ],
      "name": "Multi_Class_MD_LSTM_step_200_files_120.ipynb",
      "provenance": [],
      "include_colab_link": true
    },
    "kernelspec": {
      "display_name": "Python 3",
      "name": "python3"
    },
    "language_info": {
      "name": "python"
    },
    "accelerator": "GPU"
  },
  "nbformat": 4,
  "nbformat_minor": 0
}