{
  "cells": [
    {
      "cell_type": "markdown",
      "metadata": {
        "id": "view-in-github",
        "colab_type": "text"
      },
      "source": [
        "<a href=\"https://colab.research.google.com/github/kwanderer/Autonomas-sistemas-un-roboti/blob/main/Multi_Class_MD_LSTM_step_200_files_120_epoch_100_noMicrophone.ipynb\" target=\"_parent\"><img src=\"https://colab.research.google.com/assets/colab-badge.svg\" alt=\"Open In Colab\"/></a>"
      ]
    },
    {
      "cell_type": "markdown",
      "metadata": {
        "id": "f857kfHqUk0-"
      },
      "source": [
        "\n",
        "\n",
        "#Datu kopa"
      ]
    },
    {
      "cell_type": "markdown",
      "metadata": {
        "id": "nM9WE3QGUwVi"
      },
      "source": [
        "Datu kopas avots: https://www.kaggle.com/uysalserkan/fault-induction-motor-dataset"
      ]
    },
    {
      "cell_type": "markdown",
      "metadata": {
        "id": "_sN_h3qHHy6r"
      },
      "source": [
        "Darbā tiek izmantota indukcijas motora parametru datu bāze. Izmantotajā datu kopā ir dati, kas tika iegūti SpectraQuest aparatūras kļūdu simulatorā (Machinery Fault Simulator).\n",
        "\n",
        "Katra mērījumu secība tika ģenerēta ar frekvenci 50 kHz 5 sekunžu laikā, kopā 250 000 mērījumi.\n",
        "\n",
        "Dati ir apkopoti vairākos failos, dažādos darbības stāvokļos un to apjoms ir ļoti liels. Šajā darbā tika izmantota daļa(viena mērījumu secība) no motora normālas darbības datiem.\n"
      ]
    },
    {
      "cell_type": "markdown",
      "metadata": {
        "id": "KtFAOaHYHLPo"
      },
      "source": [
        "Dati ir apkopoti tabulā, kura satur 8 parametrus. Dati ir iedalīti sekojošās kolonas:\n",
        "\n",
        "**tachometer** – tahometra signāls, kas ļauj novērtēt rotācijas frekvenci\n",
        "\n",
        "**und-accelerometer-axial** - apakšā esošā gultņa akselerometrs (aksiālais virziens)\n",
        "\n",
        "**und-accelerometer-radial** – apakšā esošā gultņa akselerometrs (radiālais virziens)\n",
        "\n",
        "**und-accelerometer-tangential** - apakšā esošā gultņa akselerometrs (tangenciālais virziens)\n",
        "\n",
        "**over-accelerometer-axial** - pārkares gultņa akselerometrs (aksiālais virziens)\n",
        "\n",
        "**over-accelerometer-radial** – pārkares gultņa akselerometrs (radiālais  virziens)\n",
        "\n",
        "**over-accelerometer-tangential**  - pārkares gultņa akselerometrs (tangenciālais virziens)\n",
        "\n",
        "**microphone** – mikrofona vērtība\n"
      ]
    },
    {
      "cell_type": "markdown",
      "metadata": {
        "id": "XymoNLKMVFUC"
      },
      "source": [
        "#Datu ielasīšana un satura vizualizācija"
      ]
    },
    {
      "cell_type": "code",
      "execution_count": 1,
      "metadata": {
        "id": "_yqYZDeOFq5s"
      },
      "outputs": [],
      "source": [
        "import keras\n",
        "from keras.layers import LSTM, Dropout, Dense\n",
        "import tensorflow as tf\n",
        "import numpy as np\n",
        "import pandas as pd\n",
        "\n",
        "from sklearn import linear_model  #pip install sklearn - loti plasa masinapmacibas biblioteka\n",
        "from sklearn.linear_model import LinearRegression  \n",
        "import csv          #pip install csv - darbam ar CSV datu kopam\n",
        "import requests     #pip install requests  - vienkarsakam darbam ar tiessaistes CSV datu kopam tiessaistes\n",
        "\n",
        "import matplotlib\n",
        "import matplotlib.pyplot as plt\n",
        "\n",
        "import glob\n"
      ]
    },
    {
      "cell_type": "code",
      "execution_count": 2,
      "metadata": {
        "id": "wlRTBbM2eUcV",
        "colab": {
          "base_uri": "https://localhost:8080/"
        },
        "outputId": "e18da9a9-4aac-44ba-df02-ccaca604f384"
      },
      "outputs": [
        {
          "output_type": "stream",
          "name": "stdout",
          "text": [
            "Mounted at /content/gdrive\n"
          ]
        }
      ],
      "source": [
        "from google.colab import drive\n",
        "import os\n",
        "drive.mount('/content/gdrive')\n",
        "os.chdir(\"/content/gdrive/MyDrive/Colab Notebooks/data_multiclass/\")"
      ]
    },
    {
      "cell_type": "code",
      "execution_count": 3,
      "metadata": {
        "id": "zzz6fBl_SNom"
      },
      "outputs": [],
      "source": [
        "#extension = 'csv'\n",
        "#all_filenames = [i for i in glob.glob('*.{}'.format(extension))]"
      ]
    },
    {
      "cell_type": "code",
      "execution_count": 4,
      "metadata": {
        "id": "vagKFCkToBi0"
      },
      "outputs": [],
      "source": [
        "#combine all files in the list\n",
        "#combined_csv = pd.concat([pd.read_csv(f) for f in all_filenames ])\n",
        "#export to csv\n",
        "#combined_csv.to_csv( \"combined_multiclass_csv.csv\", index=False, encoding='utf-8-sig')"
      ]
    },
    {
      "cell_type": "code",
      "execution_count": 54,
      "metadata": {
        "id": "encEkbDhSfGI"
      },
      "outputs": [],
      "source": [
        "data = pd.read_csv(\"combined_multiclass_csv.csv\")"
      ]
    },
    {
      "cell_type": "code",
      "execution_count": 55,
      "metadata": {
        "id": "yz5Qe8ZWk1Zq",
        "colab": {
          "base_uri": "https://localhost:8080/"
        },
        "outputId": "9c16c4db-0178-4ca0-dcd7-31ef840c2910"
      },
      "outputs": [
        {
          "output_type": "stream",
          "name": "stdout",
          "text": [
            "<class 'pandas.core.frame.DataFrame'>\n",
            "RangeIndex: 30000000 entries, 0 to 29999999\n",
            "Data columns (total 9 columns):\n",
            " #   Column                         Dtype  \n",
            "---  ------                         -----  \n",
            " 0   tachometer                     float64\n",
            " 1   und-accelerometer-axial        float64\n",
            " 2   und-accelerometer-radial       float64\n",
            " 3   und-accelerometer-tangential   float64\n",
            " 4   over-accelerometer-axial       float64\n",
            " 5   over-accelerometer-radial      float64\n",
            " 6   over-accelerometer-tangential  float64\n",
            " 7   microphone                     float64\n",
            " 8   Class                          int64  \n",
            "dtypes: float64(8), int64(1)\n",
            "memory usage: 2.0 GB\n"
          ]
        }
      ],
      "source": [
        "data.info()"
      ]
    },
    {
      "cell_type": "code",
      "execution_count": 56,
      "metadata": {
        "id": "WUW9ezX6a_st",
        "colab": {
          "base_uri": "https://localhost:8080/"
        },
        "outputId": "6b86a239-a295-4c5d-fc5e-0120b6ce6d9d"
      },
      "outputs": [
        {
          "output_type": "execute_result",
          "data": {
            "text/plain": [
              "30000000"
            ]
          },
          "metadata": {},
          "execution_count": 56
        }
      ],
      "source": [
        "rec_count = len(data)\n",
        "rec_count"
      ]
    },
    {
      "cell_type": "markdown",
      "metadata": {
        "id": "6RVC1PZy88fC"
      },
      "source": [
        "# Datu dalīšana mazākos gabalos"
      ]
    },
    {
      "cell_type": "code",
      "execution_count": 57,
      "metadata": {
        "id": "DOvnCYkcbGaE"
      },
      "outputs": [],
      "source": [
        "sequence_length = 200"
      ]
    },
    {
      "cell_type": "code",
      "execution_count": 58,
      "metadata": {
        "id": "RG0o2L3zbTEx"
      },
      "outputs": [],
      "source": [
        "def generate_data(X, y, sequence_length = 200, step = 200):\n",
        "    X_local = []\n",
        "    y_local = []\n",
        "    for start in range(0, len(data) - sequence_length, step):\n",
        "        end = start + sequence_length\n",
        "        X_local.append(X[start:end])\n",
        "        y_local.append(y[end-1])\n",
        "    return np.array(X_local), np.array(y_local)\n",
        "\n",
        "X_sequence, y = generate_data(data.loc[:, \"tachometer\":\"over-accelerometer-tangential\"].values, data.Class)"
      ]
    },
    {
      "cell_type": "code",
      "execution_count": 59,
      "metadata": {
        "id": "s0QxwK66cLVF",
        "colab": {
          "base_uri": "https://localhost:8080/"
        },
        "outputId": "34de23f4-de92-414f-b0dd-cdbd21efb74e"
      },
      "outputs": [
        {
          "output_type": "execute_result",
          "data": {
            "text/plain": [
              "((149999, 200, 7), (149999,))"
            ]
          },
          "metadata": {},
          "execution_count": 59
        }
      ],
      "source": [
        "X_sequence.shape, y.shape"
      ]
    },
    {
      "cell_type": "code",
      "source": [
        "unique, counts = np.unique(y, return_counts=True)"
      ],
      "metadata": {
        "id": "l8Lq455lV1JR"
      },
      "execution_count": 60,
      "outputs": []
    },
    {
      "cell_type": "code",
      "source": [
        "unique"
      ],
      "metadata": {
        "id": "t0BRO3nAWQxe",
        "colab": {
          "base_uri": "https://localhost:8080/"
        },
        "outputId": "2bef0550-b47f-4664-e4e6-a035d67d6335"
      },
      "execution_count": 61,
      "outputs": [
        {
          "output_type": "execute_result",
          "data": {
            "text/plain": [
              "array([0, 1, 2, 3, 4, 5, 6, 7])"
            ]
          },
          "metadata": {},
          "execution_count": 61
        }
      ]
    },
    {
      "cell_type": "code",
      "source": [
        "counts"
      ],
      "metadata": {
        "id": "WWZ7QWR4WS_r",
        "colab": {
          "base_uri": "https://localhost:8080/"
        },
        "outputId": "15f2d746-b5d3-4fc8-a5e7-64e3d71cc6fe"
      },
      "execution_count": 62,
      "outputs": [
        {
          "output_type": "execute_result",
          "data": {
            "text/plain": [
              "array([18749, 18750, 18750, 18750, 18750, 18750, 18750, 18750])"
            ]
          },
          "metadata": {},
          "execution_count": 62
        }
      ]
    },
    {
      "cell_type": "code",
      "execution_count": 63,
      "metadata": {
        "id": "i7R1oo6Mj8wx"
      },
      "outputs": [],
      "source": [
        "data = 0"
      ]
    },
    {
      "cell_type": "code",
      "source": [
        "from sklearn.preprocessing import OneHotEncoder"
      ],
      "metadata": {
        "id": "lAk_JscRWmqY"
      },
      "execution_count": 64,
      "outputs": []
    },
    {
      "cell_type": "code",
      "source": [
        "label_encoder = OneHotEncoder(sparse=False)\n",
        "label_encoder.fit(y.reshape(-1,1))"
      ],
      "metadata": {
        "id": "14B9aYy0W0y6",
        "colab": {
          "base_uri": "https://localhost:8080/"
        },
        "outputId": "a4390c68-680a-4e3e-a79c-1b5cbff8e5fb"
      },
      "execution_count": 65,
      "outputs": [
        {
          "output_type": "execute_result",
          "data": {
            "text/plain": [
              "OneHotEncoder(sparse=False)"
            ]
          },
          "metadata": {},
          "execution_count": 65
        }
      ]
    },
    {
      "cell_type": "code",
      "source": [
        "y_encoded = label_encoder.transform(y.reshape(-1,1))"
      ],
      "metadata": {
        "id": "VjpWn96xXgPS"
      },
      "execution_count": 66,
      "outputs": []
    },
    {
      "cell_type": "code",
      "source": [
        "y_encoded[0:5]"
      ],
      "metadata": {
        "id": "VL6KMFo9XpBi",
        "colab": {
          "base_uri": "https://localhost:8080/"
        },
        "outputId": "8da61ede-d6fe-4abd-adc2-b59fe9c484b6"
      },
      "execution_count": 67,
      "outputs": [
        {
          "output_type": "execute_result",
          "data": {
            "text/plain": [
              "array([[0., 0., 0., 0., 0., 0., 0., 1.],\n",
              "       [0., 0., 0., 0., 0., 0., 0., 1.],\n",
              "       [0., 0., 0., 0., 0., 0., 0., 1.],\n",
              "       [0., 0., 0., 0., 0., 0., 0., 1.],\n",
              "       [0., 0., 0., 0., 0., 0., 0., 1.]])"
            ]
          },
          "metadata": {},
          "execution_count": 67
        }
      ]
    },
    {
      "cell_type": "code",
      "source": [
        "y=y_encoded"
      ],
      "metadata": {
        "id": "5c8km253YKBl"
      },
      "execution_count": 68,
      "outputs": []
    },
    {
      "cell_type": "markdown",
      "metadata": {
        "id": "5BXSDoHa9UX_"
      },
      "source": [
        "# Random/Shuffle"
      ]
    },
    {
      "cell_type": "code",
      "execution_count": 69,
      "metadata": {
        "id": "ZcfE9idy-ckb"
      },
      "outputs": [],
      "source": [
        "shuffler = np.random.permutation(len(X_sequence))\n",
        "X_sequence_shuffled = X_sequence[shuffler]\n",
        "y_shuffled = y[shuffler]"
      ]
    },
    {
      "cell_type": "markdown",
      "metadata": {
        "id": "TfhRTTNcE2s8"
      },
      "source": [
        "# LSTM"
      ]
    },
    {
      "cell_type": "code",
      "execution_count": 70,
      "metadata": {
        "id": "ihrXMuVAEwlY"
      },
      "outputs": [],
      "source": [
        "import pandas as pd\n",
        "import sklearn.metrics as metrique\n",
        "from pandas import Series\n",
        "from sklearn.preprocessing import StandardScaler, MinMaxScaler\n",
        "from matplotlib import pyplot\n",
        "from sklearn.model_selection import train_test_split\n",
        "import numpy as np\n",
        "import tensorflow as tf\n",
        "import sys\n",
        "import numpy as np\n",
        "import pandas as pd\n",
        "import tensorflow as tf\n",
        "import matplotlib.pyplot as plt\n",
        "from sklearn.model_selection import train_test_split\n",
        "from sklearn import preprocessing\n",
        "from sklearn.preprocessing import StandardScaler\n",
        "from sklearn.metrics import classification_report\n",
        "import warnings\n",
        "warnings.filterwarnings('ignore')\n",
        "plt.style.use('ggplot')\n",
        "import seaborn as sns \n",
        "%matplotlib inline\n",
        "from keras.callbacks import EarlyStopping\n",
        "from keras.callbacks import ModelCheckpoint\n",
        "from sklearn.metrics import accuracy_score\n",
        "from sklearn.metrics import classification_report, confusion_matrix\n",
        "from keras.models import Sequential\n",
        "from keras.utils import np_utils\n",
        "from keras.layers import LSTM, Dense, Embedding, Dropout,Input, Layer, Concatenate, Permute, Dot, Multiply, Flatten\n",
        "from keras.layers import RepeatVector, Dense, Activation, Lambda\n",
        "from keras.models import Sequential\n",
        "from keras import backend as K, regularizers, Model, metrics\n",
        "from keras.backend import cast"
      ]
    },
    {
      "cell_type": "code",
      "execution_count": 71,
      "metadata": {
        "id": "PjKWKiA6aH3z"
      },
      "outputs": [],
      "source": [
        "#from tensorflow.keras import optimizers\n",
        "#sgd = optimizers.SGD(lr=0.0001, decay=1e-6, momentum=0.9, nesterov=True)\n",
        "#model = keras.Sequential()\n",
        "#model.add(LSTM(100, input_shape = (200, 8)))\n",
        "#model.add(Dropout(0.5))\n",
        "#model.add(Dense(1, activation=\"softmax\"))\n",
        "\n",
        "\n",
        "#model.compile(loss=\"categorical_crossentropy\"\n",
        "#              , metrics=[keras.metrics.binary_accuracy]\n",
        "#              , optimizer='sgd')\n",
        "\n",
        "#model.summary()"
      ]
    },
    {
      "cell_type": "code",
      "execution_count": 79,
      "metadata": {
        "id": "_2SaVmwSWJVB",
        "colab": {
          "base_uri": "https://localhost:8080/"
        },
        "outputId": "7031514f-80e6-4c44-85e0-e986558e4a45"
      },
      "outputs": [
        {
          "output_type": "stream",
          "name": "stdout",
          "text": [
            "Model: \"sequential_2\"\n",
            "_________________________________________________________________\n",
            " Layer (type)                Output Shape              Param #   \n",
            "=================================================================\n",
            " lstm_2 (LSTM)               (None, 100)               43200     \n",
            "                                                                 \n",
            " dropout_2 (Dropout)         (None, 100)               0         \n",
            "                                                                 \n",
            " dense_2 (Dense)             (None, 8)                 808       \n",
            "                                                                 \n",
            "=================================================================\n",
            "Total params: 44,008\n",
            "Trainable params: 44,008\n",
            "Non-trainable params: 0\n",
            "_________________________________________________________________\n"
          ]
        }
      ],
      "source": [
        "from tensorflow.keras import optimizers\n",
        "#sgd = optimizers.SGD(lr=0.0001, decay=1e-6, momentum=0.9, nesterov=True)\n",
        "optimizer = tf.keras.optimizers.Adam(lr=0.0001)\n",
        "model = keras.Sequential()\n",
        "model.add(LSTM(100, input_shape = (200, 7)))\n",
        "model.add(Dropout(0.5))#0.25\n",
        "model.add(Dense(8, activation=\"softmax\"))\n",
        "\n",
        "#model.compile(loss='mean_squared_error', optimizer=sgd)\n",
        "model.compile(loss=\"categorical_crossentropy\"\n",
        "              , metrics=['accuracy']\n",
        "              , optimizer=optimizer)\n",
        "\n",
        "model.summary()"
      ]
    },
    {
      "cell_type": "code",
      "execution_count": 80,
      "metadata": {
        "id": "tg8wrqsqc8UX"
      },
      "outputs": [],
      "source": [
        "training_size = int(len(X_sequence) * 0.8)\n",
        "val_size = int(len(X_sequence) * 0.9)"
      ]
    },
    {
      "cell_type": "code",
      "execution_count": 81,
      "metadata": {
        "id": "avIp3TEKc-qF"
      },
      "outputs": [],
      "source": [
        "X_train, y_train = X_sequence_shuffled[:training_size], y_shuffled[:training_size]\n",
        "X_val, y_val = X_sequence_shuffled[training_size:val_size], y_shuffled[training_size:val_size]\n",
        "X_test, y_test = X_sequence_shuffled[val_size:], y_shuffled[val_size:]"
      ]
    },
    {
      "cell_type": "code",
      "execution_count": 82,
      "metadata": {
        "id": "RABc_uKzkBUT"
      },
      "outputs": [],
      "source": [
        "#X_sequence = 0\n",
        "#y = 0"
      ]
    },
    {
      "cell_type": "code",
      "source": [
        "X_train.shape"
      ],
      "metadata": {
        "id": "Omv-ht1dhGxL",
        "colab": {
          "base_uri": "https://localhost:8080/"
        },
        "outputId": "e876b670-8fa6-4138-b63f-b37e4f211275"
      },
      "execution_count": 83,
      "outputs": [
        {
          "output_type": "execute_result",
          "data": {
            "text/plain": [
              "(119999, 200, 7)"
            ]
          },
          "metadata": {},
          "execution_count": 83
        }
      ]
    },
    {
      "cell_type": "code",
      "execution_count": 84,
      "metadata": {
        "id": "8aIhPJ-wLCwZ",
        "colab": {
          "base_uri": "https://localhost:8080/"
        },
        "outputId": "bffeb0c7-e0b1-49aa-d2da-bb7c4b457b16"
      },
      "outputs": [
        {
          "output_type": "execute_result",
          "data": {
            "text/plain": [
              "array([[1., 0., 0., 0., 0., 0., 0., 0.],\n",
              "       [0., 0., 0., 0., 0., 1., 0., 0.],\n",
              "       [0., 0., 0., 0., 0., 0., 0., 1.],\n",
              "       [0., 0., 0., 0., 0., 0., 1., 0.],\n",
              "       [0., 0., 0., 1., 0., 0., 0., 0.],\n",
              "       [0., 0., 0., 0., 0., 0., 0., 1.],\n",
              "       [0., 0., 0., 0., 0., 0., 1., 0.],\n",
              "       [1., 0., 0., 0., 0., 0., 0., 0.],\n",
              "       [0., 0., 0., 0., 0., 1., 0., 0.],\n",
              "       [0., 0., 0., 0., 0., 0., 0., 1.]])"
            ]
          },
          "metadata": {},
          "execution_count": 84
        }
      ],
      "source": [
        "y_train[:10]"
      ]
    },
    {
      "cell_type": "code",
      "execution_count": 85,
      "metadata": {
        "id": "cen4faX0dFJP",
        "colab": {
          "base_uri": "https://localhost:8080/"
        },
        "outputId": "9a6eb26f-efa4-4b27-dc1b-6f6d5369e66f"
      },
      "outputs": [
        {
          "output_type": "stream",
          "name": "stdout",
          "text": [
            "Epoch 1/100\n",
            "1875/1875 [==============================] - 73s 38ms/step - loss: 1.8110 - accuracy: 0.2333 - val_loss: 1.6827 - val_accuracy: 0.3043\n",
            "Epoch 2/100\n",
            "1875/1875 [==============================] - 71s 38ms/step - loss: 1.6735 - accuracy: 0.2851 - val_loss: 1.5970 - val_accuracy: 0.3353\n",
            "Epoch 3/100\n",
            "1875/1875 [==============================] - 72s 38ms/step - loss: 1.5970 - accuracy: 0.3363 - val_loss: 1.5465 - val_accuracy: 0.3682\n",
            "Epoch 4/100\n",
            "1875/1875 [==============================] - 72s 38ms/step - loss: 1.5226 - accuracy: 0.3755 - val_loss: 1.4688 - val_accuracy: 0.3968\n",
            "Epoch 5/100\n",
            "1875/1875 [==============================] - 71s 38ms/step - loss: 1.4546 - accuracy: 0.4018 - val_loss: 1.4243 - val_accuracy: 0.4148\n",
            "Epoch 6/100\n",
            "1875/1875 [==============================] - 72s 38ms/step - loss: 1.4355 - accuracy: 0.4139 - val_loss: 1.4375 - val_accuracy: 0.4305\n",
            "Epoch 7/100\n",
            "1875/1875 [==============================] - 72s 38ms/step - loss: 1.3958 - accuracy: 0.4277 - val_loss: 1.3586 - val_accuracy: 0.4358\n",
            "Epoch 8/100\n",
            "1875/1875 [==============================] - 73s 39ms/step - loss: 1.3628 - accuracy: 0.4412 - val_loss: 1.3237 - val_accuracy: 0.4627\n",
            "Epoch 9/100\n",
            "1875/1875 [==============================] - 70s 37ms/step - loss: 1.3408 - accuracy: 0.4517 - val_loss: 1.2914 - val_accuracy: 0.4679\n",
            "Epoch 10/100\n",
            "1875/1875 [==============================] - 70s 37ms/step - loss: 1.3382 - accuracy: 0.4563 - val_loss: 1.4460 - val_accuracy: 0.4175\n",
            "Epoch 11/100\n",
            "1875/1875 [==============================] - 71s 38ms/step - loss: 1.3310 - accuracy: 0.4586 - val_loss: 1.2794 - val_accuracy: 0.4824\n",
            "Epoch 12/100\n",
            "1875/1875 [==============================] - 70s 37ms/step - loss: 1.2882 - accuracy: 0.4727 - val_loss: 1.2555 - val_accuracy: 0.4930\n",
            "Epoch 13/100\n",
            "1875/1875 [==============================] - 71s 38ms/step - loss: 1.2794 - accuracy: 0.4776 - val_loss: 1.2446 - val_accuracy: 0.4969\n",
            "Epoch 14/100\n",
            "1875/1875 [==============================] - 73s 39ms/step - loss: 1.2772 - accuracy: 0.4785 - val_loss: 1.2424 - val_accuracy: 0.4907\n",
            "Epoch 15/100\n",
            "1875/1875 [==============================] - 72s 39ms/step - loss: 1.2498 - accuracy: 0.4897 - val_loss: 1.2311 - val_accuracy: 0.5015\n",
            "Epoch 16/100\n",
            "1875/1875 [==============================] - 72s 39ms/step - loss: 1.2375 - accuracy: 0.4954 - val_loss: 1.2142 - val_accuracy: 0.5001\n",
            "Epoch 17/100\n",
            "1875/1875 [==============================] - 72s 39ms/step - loss: 1.2409 - accuracy: 0.4938 - val_loss: 1.2043 - val_accuracy: 0.5146\n",
            "Epoch 18/100\n",
            "1875/1875 [==============================] - 74s 39ms/step - loss: 1.2431 - accuracy: 0.4928 - val_loss: 1.2501 - val_accuracy: 0.4901\n",
            "Epoch 19/100\n",
            "1875/1875 [==============================] - 70s 37ms/step - loss: 1.2327 - accuracy: 0.4939 - val_loss: 1.1878 - val_accuracy: 0.5167\n",
            "Epoch 20/100\n",
            "1875/1875 [==============================] - 74s 40ms/step - loss: 1.2153 - accuracy: 0.5036 - val_loss: 1.2072 - val_accuracy: 0.5036\n",
            "Epoch 21/100\n",
            "1875/1875 [==============================] - 74s 40ms/step - loss: 1.3067 - accuracy: 0.4709 - val_loss: 1.2364 - val_accuracy: 0.4901\n",
            "Epoch 22/100\n",
            "1875/1875 [==============================] - 75s 40ms/step - loss: 1.2256 - accuracy: 0.5004 - val_loss: 1.1894 - val_accuracy: 0.5226\n",
            "Epoch 23/100\n",
            "1875/1875 [==============================] - 73s 39ms/step - loss: 1.2127 - accuracy: 0.5049 - val_loss: 1.2894 - val_accuracy: 0.4735\n",
            "Epoch 24/100\n",
            "1875/1875 [==============================] - 74s 39ms/step - loss: 1.2423 - accuracy: 0.4901 - val_loss: 1.1789 - val_accuracy: 0.5228\n",
            "Epoch 25/100\n",
            "1875/1875 [==============================] - 73s 39ms/step - loss: 1.2051 - accuracy: 0.5073 - val_loss: 1.1656 - val_accuracy: 0.5243\n",
            "Epoch 26/100\n",
            "1875/1875 [==============================] - 71s 38ms/step - loss: 1.1717 - accuracy: 0.5196 - val_loss: 1.1303 - val_accuracy: 0.5395\n",
            "Epoch 27/100\n",
            "1875/1875 [==============================] - 74s 40ms/step - loss: 1.1704 - accuracy: 0.5192 - val_loss: 1.2050 - val_accuracy: 0.5126\n",
            "Epoch 28/100\n",
            "1875/1875 [==============================] - 73s 39ms/step - loss: 1.1416 - accuracy: 0.5313 - val_loss: 1.1245 - val_accuracy: 0.5450\n",
            "Epoch 29/100\n",
            "1875/1875 [==============================] - 73s 39ms/step - loss: 1.1271 - accuracy: 0.5363 - val_loss: 1.0889 - val_accuracy: 0.5534\n",
            "Epoch 30/100\n",
            "1875/1875 [==============================] - 74s 40ms/step - loss: 1.1330 - accuracy: 0.5337 - val_loss: 1.1024 - val_accuracy: 0.5454\n",
            "Epoch 31/100\n",
            "1875/1875 [==============================] - 71s 38ms/step - loss: 1.1014 - accuracy: 0.5454 - val_loss: 1.1032 - val_accuracy: 0.5460\n",
            "Epoch 32/100\n",
            "1875/1875 [==============================] - 73s 39ms/step - loss: 1.1039 - accuracy: 0.5454 - val_loss: 1.0709 - val_accuracy: 0.5600\n",
            "Epoch 33/100\n",
            "1875/1875 [==============================] - 76s 40ms/step - loss: 1.0809 - accuracy: 0.5517 - val_loss: 1.0963 - val_accuracy: 0.5455\n",
            "Epoch 34/100\n",
            "1875/1875 [==============================] - 78s 42ms/step - loss: 1.0728 - accuracy: 0.5563 - val_loss: 1.0541 - val_accuracy: 0.5638\n",
            "Epoch 35/100\n",
            "1875/1875 [==============================] - 75s 40ms/step - loss: 1.0554 - accuracy: 0.5620 - val_loss: 1.0371 - val_accuracy: 0.5706\n",
            "Epoch 36/100\n",
            "1875/1875 [==============================] - 75s 40ms/step - loss: 1.0506 - accuracy: 0.5635 - val_loss: 1.0087 - val_accuracy: 0.5830\n",
            "Epoch 37/100\n",
            "1875/1875 [==============================] - 76s 41ms/step - loss: 1.0369 - accuracy: 0.5688 - val_loss: 1.0200 - val_accuracy: 0.5767\n",
            "Epoch 38/100\n",
            "1875/1875 [==============================] - 76s 41ms/step - loss: 1.0326 - accuracy: 0.5715 - val_loss: 1.0092 - val_accuracy: 0.5832\n",
            "Epoch 39/100\n",
            "1875/1875 [==============================] - 78s 41ms/step - loss: 1.0575 - accuracy: 0.5620 - val_loss: 0.9907 - val_accuracy: 0.5884\n",
            "Epoch 40/100\n",
            "1875/1875 [==============================] - 76s 41ms/step - loss: 1.0151 - accuracy: 0.5760 - val_loss: 1.0067 - val_accuracy: 0.5839\n",
            "Epoch 41/100\n",
            "1875/1875 [==============================] - 77s 41ms/step - loss: 1.0071 - accuracy: 0.5810 - val_loss: 0.9707 - val_accuracy: 0.5940\n",
            "Epoch 42/100\n",
            "1875/1875 [==============================] - 75s 40ms/step - loss: 1.0036 - accuracy: 0.5813 - val_loss: 0.9888 - val_accuracy: 0.5839\n",
            "Epoch 43/100\n",
            "1875/1875 [==============================] - 75s 40ms/step - loss: 1.0123 - accuracy: 0.5792 - val_loss: 0.9634 - val_accuracy: 0.6015\n",
            "Epoch 44/100\n",
            "1875/1875 [==============================] - 73s 39ms/step - loss: 1.0045 - accuracy: 0.5835 - val_loss: 0.9739 - val_accuracy: 0.6011\n",
            "Epoch 45/100\n",
            "1875/1875 [==============================] - 74s 39ms/step - loss: 0.9873 - accuracy: 0.5881 - val_loss: 0.9595 - val_accuracy: 0.5983\n",
            "Epoch 46/100\n",
            "1875/1875 [==============================] - 77s 41ms/step - loss: 0.9841 - accuracy: 0.5899 - val_loss: 0.9504 - val_accuracy: 0.6037\n",
            "Epoch 47/100\n",
            "1875/1875 [==============================] - 75s 40ms/step - loss: 0.9767 - accuracy: 0.5936 - val_loss: 0.9669 - val_accuracy: 0.6029\n",
            "Epoch 48/100\n",
            "1875/1875 [==============================] - 75s 40ms/step - loss: 0.9701 - accuracy: 0.5950 - val_loss: 0.9460 - val_accuracy: 0.6095\n",
            "Epoch 49/100\n",
            "1875/1875 [==============================] - 75s 40ms/step - loss: 0.9624 - accuracy: 0.5994 - val_loss: 0.9241 - val_accuracy: 0.6191\n",
            "Epoch 50/100\n",
            "1875/1875 [==============================] - 73s 39ms/step - loss: 0.9622 - accuracy: 0.5991 - val_loss: 0.9225 - val_accuracy: 0.6189\n",
            "Epoch 51/100\n",
            "1875/1875 [==============================] - 76s 40ms/step - loss: 0.9746 - accuracy: 0.5962 - val_loss: 1.0614 - val_accuracy: 0.5703\n",
            "Epoch 52/100\n",
            "1875/1875 [==============================] - 72s 38ms/step - loss: 0.9605 - accuracy: 0.5996 - val_loss: 0.9160 - val_accuracy: 0.6173\n",
            "Epoch 53/100\n",
            "1875/1875 [==============================] - 71s 38ms/step - loss: 0.9477 - accuracy: 0.6061 - val_loss: 0.9616 - val_accuracy: 0.6021\n",
            "Epoch 54/100\n",
            "1875/1875 [==============================] - 75s 40ms/step - loss: 0.9364 - accuracy: 0.6106 - val_loss: 0.9182 - val_accuracy: 0.6204\n",
            "Epoch 55/100\n",
            "1875/1875 [==============================] - 72s 38ms/step - loss: 0.9327 - accuracy: 0.6105 - val_loss: 0.9483 - val_accuracy: 0.6073\n",
            "Epoch 56/100\n",
            "1875/1875 [==============================] - 72s 39ms/step - loss: 0.9277 - accuracy: 0.6137 - val_loss: 0.9024 - val_accuracy: 0.6291\n",
            "Epoch 57/100\n",
            "1875/1875 [==============================] - 71s 38ms/step - loss: 0.9231 - accuracy: 0.6155 - val_loss: 0.9090 - val_accuracy: 0.6249\n",
            "Epoch 58/100\n",
            "1875/1875 [==============================] - 72s 38ms/step - loss: 0.9257 - accuracy: 0.6162 - val_loss: 0.9078 - val_accuracy: 0.6284\n",
            "Epoch 59/100\n",
            "1875/1875 [==============================] - 72s 39ms/step - loss: 0.9108 - accuracy: 0.6211 - val_loss: 0.9335 - val_accuracy: 0.6195\n",
            "Epoch 60/100\n",
            "1875/1875 [==============================] - 72s 38ms/step - loss: 0.9060 - accuracy: 0.6215 - val_loss: 0.8810 - val_accuracy: 0.6337\n",
            "Epoch 61/100\n",
            "1875/1875 [==============================] - 73s 39ms/step - loss: 0.9089 - accuracy: 0.6222 - val_loss: 0.8867 - val_accuracy: 0.6368\n",
            "Epoch 62/100\n",
            "1875/1875 [==============================] - 71s 38ms/step - loss: 0.8990 - accuracy: 0.6256 - val_loss: 0.8718 - val_accuracy: 0.6382\n",
            "Epoch 63/100\n",
            "1875/1875 [==============================] - 74s 39ms/step - loss: 0.8950 - accuracy: 0.6269 - val_loss: 0.8776 - val_accuracy: 0.6366\n",
            "Epoch 64/100\n",
            "1875/1875 [==============================] - 72s 38ms/step - loss: 0.8887 - accuracy: 0.6306 - val_loss: 0.8739 - val_accuracy: 0.6351\n",
            "Epoch 65/100\n",
            "1875/1875 [==============================] - 72s 38ms/step - loss: 0.8870 - accuracy: 0.6308 - val_loss: 0.8630 - val_accuracy: 0.6427\n",
            "Epoch 66/100\n",
            "1875/1875 [==============================] - 72s 39ms/step - loss: 0.8850 - accuracy: 0.6316 - val_loss: 0.8812 - val_accuracy: 0.6351\n",
            "Epoch 67/100\n",
            "1875/1875 [==============================] - 72s 38ms/step - loss: 0.8779 - accuracy: 0.6346 - val_loss: 0.8532 - val_accuracy: 0.6473\n",
            "Epoch 68/100\n",
            "1875/1875 [==============================] - 72s 39ms/step - loss: 0.8738 - accuracy: 0.6362 - val_loss: 0.8696 - val_accuracy: 0.6393\n",
            "Epoch 69/100\n",
            "1875/1875 [==============================] - 73s 39ms/step - loss: 0.8689 - accuracy: 0.6395 - val_loss: 0.8568 - val_accuracy: 0.6443\n",
            "Epoch 70/100\n",
            "1875/1875 [==============================] - 73s 39ms/step - loss: 0.8874 - accuracy: 0.6339 - val_loss: 0.8913 - val_accuracy: 0.6319\n",
            "Epoch 71/100\n",
            "1875/1875 [==============================] - 74s 39ms/step - loss: 0.8727 - accuracy: 0.6393 - val_loss: 0.8546 - val_accuracy: 0.6501\n",
            "Epoch 72/100\n",
            "1875/1875 [==============================] - 75s 40ms/step - loss: 0.8627 - accuracy: 0.6427 - val_loss: 0.8469 - val_accuracy: 0.6491\n",
            "Epoch 73/100\n",
            "1875/1875 [==============================] - 73s 39ms/step - loss: 0.8601 - accuracy: 0.6445 - val_loss: 0.8481 - val_accuracy: 0.6506\n",
            "Epoch 74/100\n",
            "1875/1875 [==============================] - 73s 39ms/step - loss: 0.8721 - accuracy: 0.6393 - val_loss: 0.8561 - val_accuracy: 0.6483\n",
            "Epoch 75/100\n",
            "1875/1875 [==============================] - 73s 39ms/step - loss: 0.8547 - accuracy: 0.6463 - val_loss: 0.8159 - val_accuracy: 0.6612\n",
            "Epoch 76/100\n",
            "1875/1875 [==============================] - 74s 39ms/step - loss: 0.8531 - accuracy: 0.6471 - val_loss: 0.8346 - val_accuracy: 0.6550\n",
            "Epoch 77/100\n",
            "1875/1875 [==============================] - 72s 39ms/step - loss: 0.8499 - accuracy: 0.6504 - val_loss: 0.8329 - val_accuracy: 0.6558\n",
            "Epoch 78/100\n",
            "1875/1875 [==============================] - 70s 37ms/step - loss: 0.8448 - accuracy: 0.6506 - val_loss: 0.8386 - val_accuracy: 0.6577\n",
            "Epoch 79/100\n",
            "1875/1875 [==============================] - 69s 37ms/step - loss: 0.8418 - accuracy: 0.6519 - val_loss: 0.8380 - val_accuracy: 0.6596\n",
            "Epoch 80/100\n",
            "1875/1875 [==============================] - 70s 37ms/step - loss: 0.8384 - accuracy: 0.6551 - val_loss: 0.8149 - val_accuracy: 0.6643\n",
            "Epoch 81/100\n",
            "1875/1875 [==============================] - 71s 38ms/step - loss: 0.8316 - accuracy: 0.6564 - val_loss: 0.8346 - val_accuracy: 0.6561\n",
            "Epoch 82/100\n",
            "1875/1875 [==============================] - 72s 39ms/step - loss: 0.8311 - accuracy: 0.6587 - val_loss: 0.8086 - val_accuracy: 0.6684\n",
            "Epoch 83/100\n",
            "1875/1875 [==============================] - 72s 38ms/step - loss: 0.8259 - accuracy: 0.6589 - val_loss: 0.7997 - val_accuracy: 0.6707\n",
            "Epoch 84/100\n",
            "1875/1875 [==============================] - 67s 36ms/step - loss: 0.8237 - accuracy: 0.6611 - val_loss: 0.7958 - val_accuracy: 0.6744\n",
            "Epoch 85/100\n",
            "1875/1875 [==============================] - 66s 35ms/step - loss: 0.8235 - accuracy: 0.6603 - val_loss: 0.8233 - val_accuracy: 0.6621\n",
            "Epoch 86/100\n",
            "1875/1875 [==============================] - 66s 35ms/step - loss: 0.8193 - accuracy: 0.6631 - val_loss: 0.8148 - val_accuracy: 0.6684\n",
            "Epoch 87/100\n",
            "1875/1875 [==============================] - 66s 35ms/step - loss: 0.8183 - accuracy: 0.6648 - val_loss: 0.7903 - val_accuracy: 0.6757\n",
            "Epoch 88/100\n",
            "1875/1875 [==============================] - 65s 35ms/step - loss: 0.8099 - accuracy: 0.6659 - val_loss: 0.7949 - val_accuracy: 0.6771\n",
            "Epoch 89/100\n",
            "1875/1875 [==============================] - 65s 35ms/step - loss: 0.8084 - accuracy: 0.6684 - val_loss: 0.8032 - val_accuracy: 0.6717\n",
            "Epoch 90/100\n",
            "1875/1875 [==============================] - 67s 36ms/step - loss: 0.8035 - accuracy: 0.6709 - val_loss: 0.8008 - val_accuracy: 0.6722\n",
            "Epoch 91/100\n",
            "1875/1875 [==============================] - 66s 35ms/step - loss: 0.8021 - accuracy: 0.6723 - val_loss: 0.7996 - val_accuracy: 0.6717\n",
            "Epoch 92/100\n",
            "1875/1875 [==============================] - 66s 35ms/step - loss: 0.7947 - accuracy: 0.6728 - val_loss: 0.7725 - val_accuracy: 0.6848\n",
            "Epoch 93/100\n",
            "1875/1875 [==============================] - 67s 36ms/step - loss: 0.7895 - accuracy: 0.6765 - val_loss: 0.7658 - val_accuracy: 0.6851\n",
            "Epoch 94/100\n",
            "1875/1875 [==============================] - 65s 35ms/step - loss: 0.7850 - accuracy: 0.6777 - val_loss: 0.7684 - val_accuracy: 0.6866\n",
            "Epoch 95/100\n",
            "1875/1875 [==============================] - 69s 37ms/step - loss: 0.7784 - accuracy: 0.6815 - val_loss: 0.7864 - val_accuracy: 0.6787\n",
            "Epoch 96/100\n",
            "1875/1875 [==============================] - 65s 35ms/step - loss: 0.7790 - accuracy: 0.6814 - val_loss: 0.7538 - val_accuracy: 0.6890\n",
            "Epoch 97/100\n",
            "1875/1875 [==============================] - 66s 35ms/step - loss: 0.7769 - accuracy: 0.6827 - val_loss: 0.7683 - val_accuracy: 0.6881\n",
            "Epoch 98/100\n",
            "1875/1875 [==============================] - 65s 35ms/step - loss: 0.7722 - accuracy: 0.6854 - val_loss: 0.7672 - val_accuracy: 0.6885\n",
            "Epoch 99/100\n",
            "1875/1875 [==============================] - 66s 35ms/step - loss: 0.7700 - accuracy: 0.6858 - val_loss: 0.7588 - val_accuracy: 0.6913\n",
            "Epoch 100/100\n",
            "1875/1875 [==============================] - 67s 36ms/step - loss: 0.7787 - accuracy: 0.6837 - val_loss: 0.7615 - val_accuracy: 0.6867\n"
          ]
        }
      ],
      "source": [
        "history = model.fit(X_train, y_train, batch_size=64, epochs=100, validation_data=(X_val, y_val))\n",
        "#model.save('NewAllDataModel_E50_B64.h5')"
      ]
    },
    {
      "cell_type": "code",
      "execution_count": 86,
      "metadata": {
        "id": "R7QQeqVidKBR",
        "colab": {
          "base_uri": "https://localhost:8080/"
        },
        "outputId": "6b520be2-ff15-4320-e9a2-9be6f58b4678"
      },
      "outputs": [
        {
          "output_type": "stream",
          "name": "stdout",
          "text": [
            "469/469 [==============================] - 8s 17ms/step - loss: 0.7629 - accuracy: 0.6895\n"
          ]
        }
      ],
      "source": [
        "test_acc = model.evaluate(X_test, y_test)"
      ]
    },
    {
      "cell_type": "code",
      "source": [
        "test_acc"
      ],
      "metadata": {
        "id": "6fuTmgGrUgGg",
        "colab": {
          "base_uri": "https://localhost:8080/"
        },
        "outputId": "739f303d-8262-4197-eba5-9c5fc1aba96b"
      },
      "execution_count": 87,
      "outputs": [
        {
          "output_type": "execute_result",
          "data": {
            "text/plain": [
              "[0.7629479169845581, 0.6895333528518677]"
            ]
          },
          "metadata": {},
          "execution_count": 87
        }
      ]
    },
    {
      "cell_type": "code",
      "execution_count": 88,
      "metadata": {
        "id": "OHpifyqGdKn-",
        "colab": {
          "base_uri": "https://localhost:8080/"
        },
        "outputId": "9f56c452-f0d8-4a53-9b00-b6f17b561f9a"
      },
      "outputs": [
        {
          "output_type": "stream",
          "name": "stdout",
          "text": [
            "469/469 [==============================] - 7s 14ms/step\n"
          ]
        }
      ],
      "source": [
        "y_test_prob = model.predict(X_test, verbose=1)"
      ]
    },
    {
      "cell_type": "code",
      "source": [
        "np.set_printoptions(suppress=True)\n",
        "y_test_prob"
      ],
      "metadata": {
        "id": "rRPswrrkmhp2",
        "colab": {
          "base_uri": "https://localhost:8080/"
        },
        "outputId": "cae03b29-10cb-43db-a8d6-8842ba5af2ef"
      },
      "execution_count": 89,
      "outputs": [
        {
          "output_type": "execute_result",
          "data": {
            "text/plain": [
              "array([[0.  , 0.  , 0.13, ..., 0.26, 0.05, 0.  ],\n",
              "       [0.  , 0.  , 0.01, ..., 0.01, 0.  , 0.  ],\n",
              "       [0.  , 0.  , 0.02, ..., 0.25, 0.01, 0.  ],\n",
              "       ...,\n",
              "       [0.  , 1.  , 0.  , ..., 0.  , 0.  , 0.  ],\n",
              "       [0.  , 0.  , 0.98, ..., 0.  , 0.  , 0.  ],\n",
              "       [0.  , 0.  , 0.01, ..., 0.  , 0.19, 0.79]], dtype=float32)"
            ]
          },
          "metadata": {},
          "execution_count": 89
        }
      ]
    },
    {
      "cell_type": "code",
      "execution_count": 90,
      "metadata": {
        "id": "AfmdrBILdMwj"
      },
      "outputs": [],
      "source": [
        "y_test_pred = np.where(y_test_prob > 0.5, 1, 0)"
      ]
    },
    {
      "cell_type": "code",
      "execution_count": 91,
      "metadata": {
        "id": "8DoJy_p9dPzN"
      },
      "outputs": [],
      "source": [
        "from sklearn.metrics import multilabel_confusion_matrix"
      ]
    },
    {
      "cell_type": "code",
      "source": [
        "y_test"
      ],
      "metadata": {
        "id": "n1Us2yrfcGl-",
        "colab": {
          "base_uri": "https://localhost:8080/"
        },
        "outputId": "91b47b9c-a191-473f-e0d1-2895305e8e2b"
      },
      "execution_count": 92,
      "outputs": [
        {
          "output_type": "execute_result",
          "data": {
            "text/plain": [
              "array([[0., 0., 0., ..., 0., 0., 0.],\n",
              "       [0., 0., 0., ..., 0., 0., 0.],\n",
              "       [0., 0., 0., ..., 1., 0., 0.],\n",
              "       ...,\n",
              "       [0., 1., 0., ..., 0., 0., 0.],\n",
              "       [0., 0., 1., ..., 0., 0., 0.],\n",
              "       [0., 0., 0., ..., 0., 0., 1.]])"
            ]
          },
          "metadata": {},
          "execution_count": 92
        }
      ]
    },
    {
      "cell_type": "code",
      "source": [
        "y_test.shape"
      ],
      "metadata": {
        "id": "VnmvTcvWbxr9",
        "colab": {
          "base_uri": "https://localhost:8080/"
        },
        "outputId": "a2451a5f-5050-4168-ea5e-dd9db08c7a7b"
      },
      "execution_count": 93,
      "outputs": [
        {
          "output_type": "execute_result",
          "data": {
            "text/plain": [
              "(15000, 8)"
            ]
          },
          "metadata": {},
          "execution_count": 93
        }
      ]
    },
    {
      "cell_type": "code",
      "source": [
        "y_test_pred"
      ],
      "metadata": {
        "id": "nMBOgzrgcJBj",
        "colab": {
          "base_uri": "https://localhost:8080/"
        },
        "outputId": "cd8c7126-969a-45e9-84e1-4fd69d8526b7"
      },
      "execution_count": 94,
      "outputs": [
        {
          "output_type": "execute_result",
          "data": {
            "text/plain": [
              "array([[0, 0, 0, ..., 0, 0, 0],\n",
              "       [0, 0, 0, ..., 0, 0, 0],\n",
              "       [0, 0, 0, ..., 0, 0, 0],\n",
              "       ...,\n",
              "       [0, 1, 0, ..., 0, 0, 0],\n",
              "       [0, 0, 1, ..., 0, 0, 0],\n",
              "       [0, 0, 0, ..., 0, 0, 1]])"
            ]
          },
          "metadata": {},
          "execution_count": 94
        }
      ]
    },
    {
      "cell_type": "code",
      "source": [
        "y_test_pred.shape"
      ],
      "metadata": {
        "id": "SXKZof8Ye5uI",
        "colab": {
          "base_uri": "https://localhost:8080/"
        },
        "outputId": "2d99238e-603f-49fd-fa18-f5497cce73db"
      },
      "execution_count": 95,
      "outputs": [
        {
          "output_type": "execute_result",
          "data": {
            "text/plain": [
              "(15000, 8)"
            ]
          },
          "metadata": {},
          "execution_count": 95
        }
      ]
    },
    {
      "cell_type": "code",
      "source": [
        "y_decoded_pred = tf.argmax(y_test_pred, axis = 1)"
      ],
      "metadata": {
        "id": "leDQwKOjgwwi"
      },
      "execution_count": 96,
      "outputs": []
    },
    {
      "cell_type": "code",
      "source": [
        "y_decoded = tf.argmax(y_test, axis = 1)"
      ],
      "metadata": {
        "id": "sAHRmtesif6g"
      },
      "execution_count": 97,
      "outputs": []
    },
    {
      "cell_type": "code",
      "source": [
        "y_decoded_pred"
      ],
      "metadata": {
        "id": "_lvFhrmPhprD",
        "colab": {
          "base_uri": "https://localhost:8080/"
        },
        "outputId": "abedc71e-6d4b-4ed6-ecf8-cba76d6e9763"
      },
      "execution_count": 98,
      "outputs": [
        {
          "output_type": "execute_result",
          "data": {
            "text/plain": [
              "<tf.Tensor: shape=(15000,), dtype=int64, numpy=array([0, 3, 0, ..., 1, 2, 7])>"
            ]
          },
          "metadata": {},
          "execution_count": 98
        }
      ]
    },
    {
      "cell_type": "code",
      "source": [
        "y_decoded"
      ],
      "metadata": {
        "id": "YV1FXgHviPwm",
        "colab": {
          "base_uri": "https://localhost:8080/"
        },
        "outputId": "7b1a5ad2-15e6-45b3-a734-fdc40455e722"
      },
      "execution_count": 99,
      "outputs": [
        {
          "output_type": "execute_result",
          "data": {
            "text/plain": [
              "<tf.Tensor: shape=(15000,), dtype=int64, numpy=array([3, 3, 5, ..., 1, 2, 7])>"
            ]
          },
          "metadata": {},
          "execution_count": 99
        }
      ]
    },
    {
      "cell_type": "code",
      "source": [
        "y_test_pred = y_decoded_pred\n"
      ],
      "metadata": {
        "id": "6-6jFqzGh380"
      },
      "execution_count": 100,
      "outputs": []
    },
    {
      "cell_type": "code",
      "source": [
        "y_test = y_decoded"
      ],
      "metadata": {
        "id": "9pogVvdIiwss"
      },
      "execution_count": 101,
      "outputs": []
    },
    {
      "cell_type": "code",
      "source": [
        "y_test"
      ],
      "metadata": {
        "id": "oGt5aJetiKR6",
        "colab": {
          "base_uri": "https://localhost:8080/"
        },
        "outputId": "8b8d721d-b7ed-41dc-dd49-3646e50b1502"
      },
      "execution_count": 102,
      "outputs": [
        {
          "output_type": "execute_result",
          "data": {
            "text/plain": [
              "<tf.Tensor: shape=(15000,), dtype=int64, numpy=array([3, 3, 5, ..., 1, 2, 7])>"
            ]
          },
          "metadata": {},
          "execution_count": 102
        }
      ]
    },
    {
      "cell_type": "code",
      "source": [
        "y_test_pred"
      ],
      "metadata": {
        "id": "fLgDwAIfiyv2",
        "colab": {
          "base_uri": "https://localhost:8080/"
        },
        "outputId": "5ab29308-a760-41e4-d87b-00097c87aa09"
      },
      "execution_count": 103,
      "outputs": [
        {
          "output_type": "execute_result",
          "data": {
            "text/plain": [
              "<tf.Tensor: shape=(15000,), dtype=int64, numpy=array([0, 3, 0, ..., 1, 2, 7])>"
            ]
          },
          "metadata": {},
          "execution_count": 103
        }
      ]
    },
    {
      "cell_type": "code",
      "execution_count": 104,
      "metadata": {
        "id": "fTCsPjW8dQaZ"
      },
      "outputs": [],
      "source": [
        "cfm=confusion_matrix(y_test, y_test_pred)"
      ]
    },
    {
      "cell_type": "code",
      "source": [
        "cfm"
      ],
      "metadata": {
        "id": "_67lPg6ic4cH",
        "colab": {
          "base_uri": "https://localhost:8080/"
        },
        "outputId": "6ff25ab2-8a04-4453-e416-86db1ce60508"
      },
      "execution_count": 105,
      "outputs": [
        {
          "output_type": "execute_result",
          "data": {
            "text/plain": [
              "array([[1810,   32,    0,    0,    0,    0,    0,   11],\n",
              "       [  67, 1790,   40,    0,    0,    0,    0,   12],\n",
              "       [ 522,    8, 1194,   98,    9,    3,   11,   42],\n",
              "       [ 855,    1,   66,  778,   86,  132,    3,    0],\n",
              "       [ 985,    0,   12,   85,  617,  109,   68,    3],\n",
              "       [1002,    0,    7,   89,  113,  572,   33,    3],\n",
              "       [ 898,    0,   22,    2,   21,   18,  668,  192],\n",
              "       [ 589,    2,    6,    0,    0,    1,  246, 1067]])"
            ]
          },
          "metadata": {},
          "execution_count": 105
        }
      ]
    },
    {
      "cell_type": "code",
      "source": [
        " print(classification_report(y_test,y_test_pred))"
      ],
      "metadata": {
        "id": "XTqR_xnwRWCJ",
        "colab": {
          "base_uri": "https://localhost:8080/"
        },
        "outputId": "88af9281-f2b9-44e2-8d48-35550a4d5394"
      },
      "execution_count": 106,
      "outputs": [
        {
          "output_type": "stream",
          "name": "stdout",
          "text": [
            "              precision    recall  f1-score   support\n",
            "\n",
            "           0       0.27      0.98      0.42      1853\n",
            "           1       0.98      0.94      0.96      1909\n",
            "           2       0.89      0.63      0.74      1887\n",
            "           3       0.74      0.40      0.52      1921\n",
            "           4       0.73      0.33      0.45      1879\n",
            "           5       0.69      0.31      0.43      1819\n",
            "           6       0.65      0.37      0.47      1821\n",
            "           7       0.80      0.56      0.66      1911\n",
            "\n",
            "    accuracy                           0.57     15000\n",
            "   macro avg       0.72      0.57      0.58     15000\n",
            "weighted avg       0.72      0.57      0.58     15000\n",
            "\n"
          ]
        }
      ]
    },
    {
      "cell_type": "code",
      "execution_count": 107,
      "metadata": {
        "id": "te3fslrY9Eca",
        "colab": {
          "base_uri": "https://localhost:8080/",
          "height": 903
        },
        "outputId": "382217dd-a586-414e-baee-e7ed5b7bb358"
      },
      "outputs": [
        {
          "output_type": "stream",
          "name": "stdout",
          "text": [
            "Confusion matrix, without normalization\n",
            "[[1810   32    0    0    0    0    0   11]\n",
            " [  67 1790   40    0    0    0    0   12]\n",
            " [ 522    8 1194   98    9    3   11   42]\n",
            " [ 855    1   66  778   86  132    3    0]\n",
            " [ 985    0   12   85  617  109   68    3]\n",
            " [1002    0    7   89  113  572   33    3]\n",
            " [ 898    0   22    2   21   18  668  192]\n",
            " [ 589    2    6    0    0    1  246 1067]]\n",
            "Normalized confusion matrix\n",
            "[[0.98 0.02 0.   0.   0.   0.   0.   0.01]\n",
            " [0.04 0.94 0.02 0.   0.   0.   0.   0.01]\n",
            " [0.28 0.   0.63 0.05 0.   0.   0.01 0.02]\n",
            " [0.45 0.   0.03 0.4  0.04 0.07 0.   0.  ]\n",
            " [0.52 0.   0.01 0.05 0.33 0.06 0.04 0.  ]\n",
            " [0.55 0.   0.   0.05 0.06 0.31 0.02 0.  ]\n",
            " [0.49 0.   0.01 0.   0.01 0.01 0.37 0.11]\n",
            " [0.31 0.   0.   0.   0.   0.   0.13 0.56]]\n"
          ]
        },
        {
          "output_type": "display_data",
          "data": {
            "text/plain": [
              "<Figure size 432x288 with 2 Axes>"
            ],
            "image/png": "[encoded data removed]"
          },
          "metadata": {
            "needs_background": "light"
          }
        },
        {
          "output_type": "display_data",
          "data": {
            "text/plain": [
              "<Figure size 432x288 with 2 Axes>"
            ],
            "image/png": "[encoded data removed]"
          },
          "metadata": {
            "needs_background": "light"
          }
        }
      ],
      "source": [
        "import numpy as np\n",
        "import matplotlib.pyplot as plt\n",
        "\n",
        "from sklearn import svm, datasets\n",
        "from sklearn.model_selection import train_test_split\n",
        "from sklearn.metrics import confusion_matrix\n",
        "from sklearn.utils.multiclass import unique_labels\n",
        "\n",
        "class_names = np.array(['0', '1', '2', '3', '4', '5', '6', '7'])\n",
        "\n",
        "def plot_confusion_matrix(y_true, y_pred, classes,\n",
        "                          normalize=False,\n",
        "                          title=None,\n",
        "                          cmap=plt.cm.Blues):\n",
        "    \"\"\"\n",
        "    This function prints and plots the confusion matrix.\n",
        "    Normalization can be applied by setting `normalize=True`.\n",
        "    \"\"\"\n",
        "    if not title:\n",
        "        if normalize:\n",
        "            title = 'Normalized confusion matrix'\n",
        "        else:\n",
        "            title = 'Confusion matrix, without normalization'\n",
        "\n",
        "    # Compute confusion matrix\n",
        "    cm = confusion_matrix(y_true, y_pred)\n",
        "    # Only use the labels that appear in the data\n",
        "    classes = classes[unique_labels(y_true, y_pred)]\n",
        "    if normalize:\n",
        "        cm = cm.astype('float') / cm.sum(axis=1)[:, np.newaxis]\n",
        "        print(\"Normalized confusion matrix\")\n",
        "    else:\n",
        "        print('Confusion matrix, without normalization')\n",
        "\n",
        "    print(cm)\n",
        "\n",
        "    fig, ax = plt.subplots()\n",
        "    im = ax.imshow(cm, interpolation='nearest', cmap=cmap)\n",
        "    ax.figure.colorbar(im, ax=ax)\n",
        "    # We want to show all ticks...\n",
        "    ax.set(xticks=np.arange(cm.shape[1]),\n",
        "           yticks=np.arange(cm.shape[0]),\n",
        "           # ... and label them with the respective list entries\n",
        "           xticklabels=classes, yticklabels=classes,\n",
        "           title=title,\n",
        "           ylabel='True label',\n",
        "           xlabel='Predicted label')\n",
        "\n",
        "    # Rotate the tick labels and set their alignment.\n",
        "    plt.setp(ax.get_xticklabels(), rotation=45, ha=\"right\",\n",
        "             rotation_mode=\"anchor\")\n",
        "\n",
        "    # Loop over data dimensions and create text annotations.\n",
        "    fmt = '.2f' if normalize else 'd'\n",
        "    thresh = cm.max() / 2.\n",
        "    for i in range(cm.shape[0]):\n",
        "        for j in range(cm.shape[1]):\n",
        "            ax.text(j, i, format(cm[i, j], fmt),\n",
        "                    ha=\"center\", va=\"center\",\n",
        "                    color=\"white\" if cm[i, j] > thresh else \"black\")\n",
        "    fig.tight_layout()\n",
        "\n",
        "    return ax\n",
        "\n",
        "\n",
        "np.set_printoptions(precision=2)\n",
        "\n",
        "# Plot non-normalized confusion matrix\n",
        "plot_confusion_matrix(y_test, y_test_pred, classes=class_names,\n",
        "                      title='Confusion matrix, without normalization')\n",
        "\n",
        "# Plot normalized confusion matrix\n",
        "plot_confusion_matrix(y_test, y_test_pred, classes=class_names, normalize=True,\n",
        "                      title='Normalized confusion matrix')\n",
        "\n",
        "plt.show()"
      ]
    },
    {
      "cell_type": "code",
      "execution_count": 108,
      "metadata": {
        "id": "fhdLAhgPUnH3"
      },
      "outputs": [],
      "source": [
        "def plot_learningCurve(history, epoch):\n",
        "  # Plot training & validation accuracy values\n",
        "  epoch_range = range(1, epoch+1)\n",
        "  plt.plot(epoch_range, history.history['accuracy'])\n",
        "  plt.plot(epoch_range, history.history['val_accuracy'])\n",
        "  plt.title('Model accuracy')\n",
        "  plt.ylabel('Accuracy')\n",
        "  plt.xlabel('Epoch')\n",
        "  plt.legend(['Train', 'Val'], loc='upper left')\n",
        "  plt.show()\n",
        "\n",
        "  # Plot training & validation loss values\n",
        "  plt.plot(epoch_range, history.history['loss'])\n",
        "  plt.plot(epoch_range, history.history['val_loss'])\n",
        "  plt.title('Model loss')\n",
        "  plt.ylabel('Loss')\n",
        "  plt.xlabel('Epoch')\n",
        "  plt.legend(['Train', 'Val'], loc='upper left')\n",
        "  plt.show()"
      ]
    },
    {
      "cell_type": "code",
      "execution_count": 109,
      "metadata": {
        "id": "WlkQkWHgU5mL",
        "colab": {
          "base_uri": "https://localhost:8080/",
          "height": 581
        },
        "outputId": "9837c1aa-964f-4ce5-fbfa-454e914a1565"
      },
      "outputs": [
        {
          "output_type": "display_data",
          "data": {
            "text/plain": [
              "<Figure size 432x288 with 1 Axes>"
            ],
            "image/png": "[encoded data removed]"
          },
          "metadata": {
            "needs_background": "light"
          }
        },
        {
          "output_type": "display_data",
          "data": {
            "text/plain": [
              "<Figure size 432x288 with 1 Axes>"
            ],
            "image/png": "[encoded data removed]"
          },
          "metadata": {
            "needs_background": "light"
          }
        }
      ],
      "source": [
        "plot_learningCurve(history, 100)"
      ]
    }
  ],
  "metadata": {
    "colab": {
      "collapsed_sections": [
        "f857kfHqUk0-"
      ],
      "name": "Multi_Class_MD_LSTM_step_200_files_120.ipynb",
      "provenance": [],
      "include_colab_link": true
    },
    "kernelspec": {
      "display_name": "Python 3",
      "name": "python3"
    },
    "language_info": {
      "name": "python"
    },
    "accelerator": "GPU"
  },
  "nbformat": 4,
  "nbformat_minor": 0
}