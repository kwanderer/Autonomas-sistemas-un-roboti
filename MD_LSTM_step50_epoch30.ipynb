{
  "cells": [
    {
      "cell_type": "markdown",
      "metadata": {
        "id": "view-in-github",
        "colab_type": "text"
      },
      "source": [
        "<a href=\"https://colab.research.google.com/github/kwanderer/Autonomas-sistemas-un-roboti/blob/main/MD_LSTM_step50_epoch30.ipynb\" target=\"_parent\"><img src=\"https://colab.research.google.com/assets/colab-badge.svg\" alt=\"Open In Colab\"/></a>"
      ]
    },
    {
      "cell_type": "markdown",
      "metadata": {
        "id": "f857kfHqUk0-"
      },
      "source": [
        "\n",
        "\n",
        "#Datu kopa"
      ]
    },
    {
      "cell_type": "markdown",
      "metadata": {
        "id": "nM9WE3QGUwVi"
      },
      "source": [
        "Datu kopas avots: https://www.kaggle.com/uysalserkan/fault-induction-motor-dataset"
      ]
    },
    {
      "cell_type": "markdown",
      "metadata": {
        "id": "_sN_h3qHHy6r"
      },
      "source": [
        "Darbā tiek izmantota indukcijas motora parametru datu bāze. Izmantotajā datu kopā ir dati, kas tika iegūti SpectraQuest aparatūras kļūdu simulatorā (Machinery Fault Simulator).\n",
        "\n",
        "Katra mērījumu secība tika ģenerēta ar frekvenci 50 kHz 5 sekunžu laikā, kopā 250 000 mērījumi.\n",
        "\n",
        "Dati ir apkopoti vairākos failos, dažādos darbības stāvokļos un to apjoms ir ļoti liels. Šajā darbā tika izmantota daļa(viena mērījumu secība) no motora normālas darbības datiem.\n"
      ]
    },
    {
      "cell_type": "markdown",
      "metadata": {
        "id": "KtFAOaHYHLPo"
      },
      "source": [
        "Dati ir apkopoti tabulā, kura satur 8 parametrus. Dati ir iedalīti sekojošās kolonas:\n",
        "\n",
        "**tachometer** – tahometra signāls, kas ļauj novērtēt rotācijas frekvenci\n",
        "\n",
        "**und-accelerometer-axial** - apakšā esošā gultņa akselerometrs (aksiālais virziens)\n",
        "\n",
        "**und-accelerometer-radial** – apakšā esošā gultņa akselerometrs (radiālais virziens)\n",
        "\n",
        "**und-accelerometer-tangential** - apakšā esošā gultņa akselerometrs (tangenciālais virziens)\n",
        "\n",
        "**over-accelerometer-axial** - pārkares gultņa akselerometrs (aksiālais virziens)\n",
        "\n",
        "**over-accelerometer-radial** – pārkares gultņa akselerometrs (radiālais  virziens)\n",
        "\n",
        "**over-accelerometer-tangential**  - pārkares gultņa akselerometrs (tangenciālais virziens)\n",
        "\n",
        "**microphone** – mikrofona vērtība\n"
      ]
    },
    {
      "cell_type": "markdown",
      "metadata": {
        "id": "XymoNLKMVFUC"
      },
      "source": [
        "#Datu ielasīšana un satura vizualizācija"
      ]
    },
    {
      "cell_type": "code",
      "execution_count": 23,
      "metadata": {
        "id": "_yqYZDeOFq5s"
      },
      "outputs": [],
      "source": [
        "import keras\n",
        "from keras.layers import LSTM, Dropout, Dense\n",
        "import tensorflow as tf\n",
        "import numpy as np\n",
        "import pandas as pd\n",
        "\n",
        "from sklearn import linear_model  #pip install sklearn - loti plasa masinapmacibas biblioteka\n",
        "from sklearn.linear_model import LinearRegression  \n",
        "import csv          #pip install csv - darbam ar CSV datu kopam\n",
        "import requests     #pip install requests  - vienkarsakam darbam ar tiessaistes CSV datu kopam tiessaistes\n",
        "\n",
        "import matplotlib\n",
        "import matplotlib.pyplot as plt\n",
        "\n",
        "import glob\n"
      ]
    },
    {
      "cell_type": "code",
      "execution_count": 24,
      "metadata": {
        "id": "wlRTBbM2eUcV",
        "colab": {
          "base_uri": "https://localhost:8080/"
        },
        "outputId": "bcfb5219-9305-4691-fc33-53ca6710ff96"
      },
      "outputs": [
        {
          "output_type": "stream",
          "name": "stdout",
          "text": [
            "Drive already mounted at /content/gdrive; to attempt to forcibly remount, call drive.mount(\"/content/gdrive\", force_remount=True).\n"
          ]
        }
      ],
      "source": [
        "from google.colab import drive\n",
        "import os\n",
        "drive.mount('/content/gdrive')\n",
        "os.chdir(\"/content/gdrive/MyDrive/Colab Notebooks/data/motor/\")"
      ]
    },
    {
      "cell_type": "code",
      "execution_count": 25,
      "metadata": {
        "id": "zzz6fBl_SNom"
      },
      "outputs": [],
      "source": [
        "#extension = 'csv'\n",
        "#all_filenames = [i for i in glob.glob('*.{}'.format(extension))]"
      ]
    },
    {
      "cell_type": "code",
      "execution_count": 26,
      "metadata": {
        "id": "vagKFCkToBi0"
      },
      "outputs": [],
      "source": [
        "#combine all files in the list\n",
        "#combined_csv = pd.concat([pd.read_csv(f) for f in all_filenames ])\n",
        "#export to csv\n",
        "#combined_csv.to_csv( \"combined_csv.csv\", index=False, encoding='utf-8-sig')"
      ]
    },
    {
      "cell_type": "code",
      "execution_count": 27,
      "metadata": {
        "id": "encEkbDhSfGI"
      },
      "outputs": [],
      "source": [
        "data = pd.read_csv(\"combined_csv.csv\")"
      ]
    },
    {
      "cell_type": "code",
      "execution_count": 28,
      "metadata": {
        "id": "yz5Qe8ZWk1Zq",
        "colab": {
          "base_uri": "https://localhost:8080/"
        },
        "outputId": "f8cfa32e-d32d-4475-9702-b70126f228d2"
      },
      "outputs": [
        {
          "output_type": "stream",
          "name": "stdout",
          "text": [
            "<class 'pandas.core.frame.DataFrame'>\n",
            "RangeIndex: 500000 entries, 0 to 499999\n",
            "Data columns (total 9 columns):\n",
            " #   Column                         Non-Null Count   Dtype  \n",
            "---  ------                         --------------   -----  \n",
            " 0   tachometer                     500000 non-null  float64\n",
            " 1   und-accelerometer-axial        500000 non-null  float64\n",
            " 2   und-accelerometer-radial       500000 non-null  float64\n",
            " 3   und-accelerometer-tangential   500000 non-null  float64\n",
            " 4   over-accelerometer-axial       500000 non-null  float64\n",
            " 5   over-accelerometer-radial      500000 non-null  float64\n",
            " 6   over-accelerometer-tangential  500000 non-null  float64\n",
            " 7   microphone                     500000 non-null  float64\n",
            " 8   Class                          500000 non-null  int64  \n",
            "dtypes: float64(8), int64(1)\n",
            "memory usage: 34.3 MB\n"
          ]
        }
      ],
      "source": [
        "data.info()"
      ]
    },
    {
      "cell_type": "code",
      "execution_count": 29,
      "metadata": {
        "id": "WUW9ezX6a_st",
        "colab": {
          "base_uri": "https://localhost:8080/"
        },
        "outputId": "5bada0e0-8da0-4fd2-ba0b-723d54a8b0df"
      },
      "outputs": [
        {
          "output_type": "execute_result",
          "data": {
            "text/plain": [
              "500000"
            ]
          },
          "metadata": {},
          "execution_count": 29
        }
      ],
      "source": [
        "rec_count = len(data)\n",
        "rec_count"
      ]
    },
    {
      "cell_type": "markdown",
      "source": [
        "# Datu dalīšana mazākos gabalos"
      ],
      "metadata": {
        "id": "6RVC1PZy88fC"
      }
    },
    {
      "cell_type": "code",
      "execution_count": 42,
      "metadata": {
        "id": "DOvnCYkcbGaE"
      },
      "outputs": [],
      "source": [
        "sequence_length = 200"
      ]
    },
    {
      "cell_type": "code",
      "execution_count": 43,
      "metadata": {
        "id": "RG0o2L3zbTEx"
      },
      "outputs": [],
      "source": [
        "def generate_data(X, y, sequence_length = 200, step = 50):\n",
        "    X_local = []\n",
        "    y_local = []\n",
        "    for start in range(0, len(data) - sequence_length, step):\n",
        "        end = start + sequence_length\n",
        "        X_local.append(X[start:end])\n",
        "        y_local.append(y[end-1])\n",
        "    return np.array(X_local), np.array(y_local)\n",
        "\n",
        "X_sequence, y = generate_data(data.loc[:, \"tachometer\":\"microphone\"].values, data.Class)"
      ]
    },
    {
      "cell_type": "code",
      "execution_count": 44,
      "metadata": {
        "id": "s0QxwK66cLVF",
        "colab": {
          "base_uri": "https://localhost:8080/"
        },
        "outputId": "3e685923-52e2-44aa-80a1-84da1651b191"
      },
      "outputs": [
        {
          "output_type": "execute_result",
          "data": {
            "text/plain": [
              "((9996, 200, 8), (9996,))"
            ]
          },
          "metadata": {},
          "execution_count": 44
        }
      ],
      "source": [
        "X_sequence.shape, y.shape"
      ]
    },
    {
      "cell_type": "markdown",
      "source": [
        "# Random/Shuffle"
      ],
      "metadata": {
        "id": "5BXSDoHa9UX_"
      }
    },
    {
      "cell_type": "code",
      "source": [
        "#def shuffle_in_unison(a, b):\n",
        "#    assert len(a) == len(b)\n",
        "#    shuffled_a = np.empty(a.shape, dtype=a.dtype)\n",
        "#    shuffled_b = np.empty(b.shape, dtype=b.dtype)\n",
        "#    permutation = np.random.permutation(len(a))\n",
        "#    for old_index, new_index in enumerate(permutation):\n",
        "#        shuffled_a[new_index] = a[old_index]\n",
        "#        shuffled_b[new_index] = b[old_index]\n",
        "#    return shuffled_a, shuffled_b"
      ],
      "metadata": {
        "id": "MKmtjWlveFRB"
      },
      "execution_count": null,
      "outputs": []
    },
    {
      "cell_type": "code",
      "source": [
        "#X_sequence, y = shuffle_in_unison(X_sequence, y)"
      ],
      "metadata": {
        "id": "4IrNXHTJeGPx"
      },
      "execution_count": null,
      "outputs": []
    },
    {
      "cell_type": "code",
      "source": [
        "shuffler = np.random.permutation(len(X_sequence))\n",
        "X_sequence_shuffled = X_sequence[shuffler]\n",
        "y_shuffled = y[shuffler]"
      ],
      "metadata": {
        "id": "ZcfE9idy-ckb"
      },
      "execution_count": 45,
      "outputs": []
    },
    {
      "cell_type": "markdown",
      "source": [
        "# LSTM"
      ],
      "metadata": {
        "id": "TfhRTTNcE2s8"
      }
    },
    {
      "cell_type": "code",
      "execution_count": 46,
      "metadata": {
        "id": "PjKWKiA6aH3z",
        "colab": {
          "base_uri": "https://localhost:8080/"
        },
        "outputId": "b0ada24d-51a4-422c-b01c-9bdfe782eb66"
      },
      "outputs": [
        {
          "output_type": "stream",
          "name": "stdout",
          "text": [
            "Model: \"sequential_2\"\n",
            "_________________________________________________________________\n",
            " Layer (type)                Output Shape              Param #   \n",
            "=================================================================\n",
            " lstm_2 (LSTM)               (None, 100)               43600     \n",
            "                                                                 \n",
            " dropout_2 (Dropout)         (None, 100)               0         \n",
            "                                                                 \n",
            " dense_2 (Dense)             (None, 1)                 101       \n",
            "                                                                 \n",
            "=================================================================\n",
            "Total params: 43,701\n",
            "Trainable params: 43,701\n",
            "Non-trainable params: 0\n",
            "_________________________________________________________________\n"
          ]
        }
      ],
      "source": [
        "model = keras.Sequential()\n",
        "model.add(LSTM(100, input_shape = (200, 8)))\n",
        "model.add(Dropout(0.5))\n",
        "model.add(Dense(1, activation=\"sigmoid\"))\n",
        "model.compile(loss=\"binary_crossentropy\"\n",
        "              , metrics=[keras.metrics.binary_accuracy]\n",
        "              , optimizer=\"adam\")\n",
        "\n",
        "model.summary()"
      ]
    },
    {
      "cell_type": "code",
      "execution_count": 47,
      "metadata": {
        "id": "tg8wrqsqc8UX"
      },
      "outputs": [],
      "source": [
        "training_size = int(len(X_sequence) * 0.7)"
      ]
    },
    {
      "cell_type": "code",
      "execution_count": 48,
      "metadata": {
        "id": "avIp3TEKc-qF"
      },
      "outputs": [],
      "source": [
        "X_train, y_train = X_sequence_shuffled[:training_size], y_shuffled[:training_size]\n",
        "X_test, y_test = X_sequence_shuffled[training_size:], y_shuffled[training_size:]"
      ]
    },
    {
      "cell_type": "code",
      "source": [
        "#training_size = int(len(X_sequence)/2 * 0.7)\n",
        "#midData = int(len(X_sequence)/2)\n",
        "#X_train, y_train = X_sequence[:training_size]+X_sequence[midData:midData+training_size], y[:training_size]+y[midData:midData+training_size]\n",
        "#X_test, y_test = X_sequence[training_size:midData]+X_sequence[midData+training_size:], y[training_size:midData]+y[midData+training_size:]"
      ],
      "metadata": {
        "id": "Vq0hHwdUV44P"
      },
      "execution_count": null,
      "outputs": []
    },
    {
      "cell_type": "code",
      "execution_count": 49,
      "metadata": {
        "id": "cen4faX0dFJP",
        "colab": {
          "base_uri": "https://localhost:8080/"
        },
        "outputId": "f5c366b6-ce9d-4556-f23c-08489e7d34fd"
      },
      "outputs": [
        {
          "output_type": "stream",
          "name": "stdout",
          "text": [
            "Epoch 1/30\n",
            "110/110 [==============================] - 27s 204ms/step - loss: 0.2860 - binary_accuracy: 0.8992\n",
            "Epoch 2/30\n",
            "110/110 [==============================] - 21s 192ms/step - loss: 0.3273 - binary_accuracy: 0.8914\n",
            "Epoch 3/30\n",
            "110/110 [==============================] - 21s 191ms/step - loss: 0.3683 - binary_accuracy: 0.8519\n",
            "Epoch 4/30\n",
            "110/110 [==============================] - 22s 204ms/step - loss: 0.2247 - binary_accuracy: 0.9217\n",
            "Epoch 5/30\n",
            "110/110 [==============================] - 22s 198ms/step - loss: 0.1840 - binary_accuracy: 0.9348\n",
            "Epoch 6/30\n",
            "110/110 [==============================] - 22s 202ms/step - loss: 0.1894 - binary_accuracy: 0.9384\n",
            "Epoch 7/30\n",
            "110/110 [==============================] - 21s 190ms/step - loss: 0.1372 - binary_accuracy: 0.9670\n",
            "Epoch 8/30\n",
            "110/110 [==============================] - 21s 190ms/step - loss: 0.2269 - binary_accuracy: 0.9365\n",
            "Epoch 9/30\n",
            "110/110 [==============================] - 21s 191ms/step - loss: 0.1404 - binary_accuracy: 0.9590\n",
            "Epoch 10/30\n",
            "110/110 [==============================] - 21s 191ms/step - loss: 0.0985 - binary_accuracy: 0.9758\n",
            "Epoch 11/30\n",
            "110/110 [==============================] - 21s 191ms/step - loss: 0.1883 - binary_accuracy: 0.9374\n",
            "Epoch 12/30\n",
            "110/110 [==============================] - 21s 190ms/step - loss: 0.2560 - binary_accuracy: 0.8957\n",
            "Epoch 13/30\n",
            "110/110 [==============================] - 21s 191ms/step - loss: 0.2056 - binary_accuracy: 0.9220\n",
            "Epoch 14/30\n",
            "110/110 [==============================] - 21s 193ms/step - loss: 0.1228 - binary_accuracy: 0.9577\n",
            "Epoch 15/30\n",
            "110/110 [==============================] - 21s 191ms/step - loss: 0.1033 - binary_accuracy: 0.9664\n",
            "Epoch 16/30\n",
            "110/110 [==============================] - 21s 191ms/step - loss: 0.0655 - binary_accuracy: 0.9783\n",
            "Epoch 17/30\n",
            "110/110 [==============================] - 21s 194ms/step - loss: 0.2019 - binary_accuracy: 0.9288\n",
            "Epoch 18/30\n",
            "110/110 [==============================] - 21s 193ms/step - loss: 0.2735 - binary_accuracy: 0.8962\n",
            "Epoch 19/30\n",
            "110/110 [==============================] - 24s 214ms/step - loss: 0.1491 - binary_accuracy: 0.9508\n",
            "Epoch 20/30\n",
            "110/110 [==============================] - 21s 195ms/step - loss: 0.1286 - binary_accuracy: 0.9586\n",
            "Epoch 21/30\n",
            "110/110 [==============================] - 21s 195ms/step - loss: 0.0991 - binary_accuracy: 0.9680\n",
            "Epoch 22/30\n",
            "110/110 [==============================] - 21s 190ms/step - loss: 0.1548 - binary_accuracy: 0.9408\n",
            "Epoch 23/30\n",
            "110/110 [==============================] - 21s 191ms/step - loss: 0.0748 - binary_accuracy: 0.9806\n",
            "Epoch 24/30\n",
            "110/110 [==============================] - 21s 192ms/step - loss: 0.0819 - binary_accuracy: 0.9741\n",
            "Epoch 25/30\n",
            "110/110 [==============================] - 21s 190ms/step - loss: 0.0646 - binary_accuracy: 0.9846\n",
            "Epoch 26/30\n",
            "110/110 [==============================] - 22s 196ms/step - loss: 0.0437 - binary_accuracy: 0.9890\n",
            "Epoch 27/30\n",
            "110/110 [==============================] - 21s 192ms/step - loss: 0.1020 - binary_accuracy: 0.9663\n",
            "Epoch 28/30\n",
            "110/110 [==============================] - 21s 191ms/step - loss: 0.0935 - binary_accuracy: 0.9740\n",
            "Epoch 29/30\n",
            "110/110 [==============================] - 21s 190ms/step - loss: 0.1504 - binary_accuracy: 0.9520\n",
            "Epoch 30/30\n",
            "110/110 [==============================] - 21s 191ms/step - loss: 0.0824 - binary_accuracy: 0.9796\n"
          ]
        },
        {
          "output_type": "execute_result",
          "data": {
            "text/plain": [
              "<keras.callbacks.History at 0x7f3c58400050>"
            ]
          },
          "metadata": {},
          "execution_count": 49
        }
      ],
      "source": [
        "model.fit(X_train, y_train, batch_size=64, epochs=30)"
      ]
    },
    {
      "cell_type": "code",
      "execution_count": 50,
      "metadata": {
        "id": "R7QQeqVidKBR",
        "colab": {
          "base_uri": "https://localhost:8080/"
        },
        "outputId": "44694280-888f-4076-9589-bba05b37ac25"
      },
      "outputs": [
        {
          "output_type": "stream",
          "name": "stdout",
          "text": [
            "94/94 [==============================] - 5s 45ms/step - loss: 0.0539 - binary_accuracy: 0.9867\n"
          ]
        },
        {
          "output_type": "execute_result",
          "data": {
            "text/plain": [
              "[0.05390104278922081, 0.9866622090339661]"
            ]
          },
          "metadata": {},
          "execution_count": 50
        }
      ],
      "source": [
        "model.evaluate(X_test, y_test)"
      ]
    },
    {
      "cell_type": "code",
      "execution_count": 51,
      "metadata": {
        "id": "OHpifyqGdKn-",
        "colab": {
          "base_uri": "https://localhost:8080/"
        },
        "outputId": "d4f8dcd6-d3a8-438d-800a-9e3bc78e2696"
      },
      "outputs": [
        {
          "output_type": "stream",
          "name": "stdout",
          "text": [
            "94/94 [==============================] - 5s 44ms/step\n"
          ]
        }
      ],
      "source": [
        "y_test_prob = model.predict(X_test, verbose=1)"
      ]
    },
    {
      "cell_type": "code",
      "execution_count": 52,
      "metadata": {
        "id": "AfmdrBILdMwj"
      },
      "outputs": [],
      "source": [
        "y_test_pred = np.where(y_test_prob > 0.5, 1, 0)"
      ]
    },
    {
      "cell_type": "code",
      "execution_count": 53,
      "metadata": {
        "id": "8DoJy_p9dPzN"
      },
      "outputs": [],
      "source": [
        "from sklearn.metrics import confusion_matrix"
      ]
    },
    {
      "cell_type": "code",
      "execution_count": 54,
      "metadata": {
        "id": "fTCsPjW8dQaZ",
        "colab": {
          "base_uri": "https://localhost:8080/"
        },
        "outputId": "a465c26c-c399-44c1-a5a2-996d4c865db7"
      },
      "outputs": [
        {
          "output_type": "execute_result",
          "data": {
            "text/plain": [
              "array([[1478,   13],\n",
              "       [  27, 1481]])"
            ]
          },
          "metadata": {},
          "execution_count": 54
        }
      ],
      "source": [
        "confusion_matrix(y_test, y_test_pred)"
      ]
    },
    {
      "cell_type": "code",
      "execution_count": 55,
      "metadata": {
        "id": "te3fslrY9Eca",
        "colab": {
          "base_uri": "https://localhost:8080/",
          "height": 685
        },
        "outputId": "fd81dfdf-a410-4545-8af6-62e9f17318ac"
      },
      "outputs": [
        {
          "output_type": "stream",
          "name": "stdout",
          "text": [
            "Confusion matrix, without normalization\n",
            "[[1478   13]\n",
            " [  27 1481]]\n",
            "Normalized confusion matrix\n",
            "[[0.99 0.01]\n",
            " [0.02 0.98]]\n"
          ]
        },
        {
          "output_type": "display_data",
          "data": {
            "text/plain": [
              "<Figure size 432x288 with 2 Axes>"
            ],
            "image/png": "[encoded data removed]"
          },
          "metadata": {
            "needs_background": "light"
          }
        },
        {
          "output_type": "display_data",
          "data": {
            "text/plain": [
              "<Figure size 432x288 with 2 Axes>"
            ],
            "image/png": "[encoded data removed]"
          },
          "metadata": {
            "needs_background": "light"
          }
        }
      ],
      "source": [
        "import numpy as np\n",
        "import matplotlib.pyplot as plt\n",
        "\n",
        "from sklearn import svm, datasets\n",
        "from sklearn.model_selection import train_test_split\n",
        "from sklearn.metrics import confusion_matrix\n",
        "from sklearn.utils.multiclass import unique_labels\n",
        "\n",
        "class_names = np.array(['0', '1'])\n",
        "\n",
        "def plot_confusion_matrix(y_true, y_pred, classes,\n",
        "                          normalize=False,\n",
        "                          title=None,\n",
        "                          cmap=plt.cm.Blues):\n",
        "    \"\"\"\n",
        "    This function prints and plots the confusion matrix.\n",
        "    Normalization can be applied by setting `normalize=True`.\n",
        "    \"\"\"\n",
        "    if not title:\n",
        "        if normalize:\n",
        "            title = 'Normalized confusion matrix'\n",
        "        else:\n",
        "            title = 'Confusion matrix, without normalization'\n",
        "\n",
        "    # Compute confusion matrix\n",
        "    cm = confusion_matrix(y_true, y_pred)\n",
        "    # Only use the labels that appear in the data\n",
        "    classes = classes[unique_labels(y_true, y_pred)]\n",
        "    if normalize:\n",
        "        cm = cm.astype('float') / cm.sum(axis=1)[:, np.newaxis]\n",
        "        print(\"Normalized confusion matrix\")\n",
        "    else:\n",
        "        print('Confusion matrix, without normalization')\n",
        "\n",
        "    print(cm)\n",
        "\n",
        "    fig, ax = plt.subplots()\n",
        "    im = ax.imshow(cm, interpolation='nearest', cmap=cmap)\n",
        "    ax.figure.colorbar(im, ax=ax)\n",
        "    # We want to show all ticks...\n",
        "    ax.set(xticks=np.arange(cm.shape[1]),\n",
        "           yticks=np.arange(cm.shape[0]),\n",
        "           # ... and label them with the respective list entries\n",
        "           xticklabels=classes, yticklabels=classes,\n",
        "           title=title,\n",
        "           ylabel='True label',\n",
        "           xlabel='Predicted label')\n",
        "\n",
        "    # Rotate the tick labels and set their alignment.\n",
        "    plt.setp(ax.get_xticklabels(), rotation=45, ha=\"right\",\n",
        "             rotation_mode=\"anchor\")\n",
        "\n",
        "    # Loop over data dimensions and create text annotations.\n",
        "    fmt = '.2f' if normalize else 'd'\n",
        "    thresh = cm.max() / 2.\n",
        "    for i in range(cm.shape[0]):\n",
        "        for j in range(cm.shape[1]):\n",
        "            ax.text(j, i, format(cm[i, j], fmt),\n",
        "                    ha=\"center\", va=\"center\",\n",
        "                    color=\"white\" if cm[i, j] > thresh else \"black\")\n",
        "    fig.tight_layout()\n",
        "\n",
        "    return ax\n",
        "\n",
        "\n",
        "np.set_printoptions(precision=2)\n",
        "\n",
        "# Plot non-normalized confusion matrix\n",
        "plot_confusion_matrix(y_test, y_test_pred, classes=class_names,\n",
        "                      title='Confusion matrix, without normalization')\n",
        "\n",
        "# Plot normalized confusion matrix\n",
        "plot_confusion_matrix(y_test, y_test_pred, classes=class_names, normalize=True,\n",
        "                      title='Normalized confusion matrix')\n",
        "\n",
        "plt.show()"
      ]
    },
    {
      "cell_type": "code",
      "source": [
        "def plot_learningCurve(history, epoch):\n",
        "  # Plot training & validation accuracy values\n",
        "  epoch_range = range(1, epoch+1)\n",
        "  plt.plot(epoch_range, history.history['binary_accuracy'])\n",
        "  plt.plot(epoch_range, history.history['val_binary_accuracy'])\n",
        "  plt.title('Model accuracy')\n",
        "  plt.ylabel('Accuracy')\n",
        "  plt.xlabel('Epoch')\n",
        "  plt.legend(['Train', 'Val'], loc='upper left')\n",
        "  plt.show()\n",
        "\n",
        "  # Plot training & validation loss values\n",
        "  plt.plot(epoch_range, history.history['loss'])\n",
        "  plt.plot(epoch_range, history.history['val_loss'])\n",
        "  plt.title('Model loss')\n",
        "  plt.ylabel('Loss')\n",
        "  plt.xlabel('Epoch')\n",
        "  plt.legend(['Train', 'Val'], loc='upper left')\n",
        "  plt.show()"
      ],
      "metadata": {
        "id": "fhdLAhgPUnH3"
      },
      "execution_count": null,
      "outputs": []
    },
    {
      "cell_type": "code",
      "source": [
        "plot_learningCurve(history, 30)"
      ],
      "metadata": {
        "id": "WlkQkWHgU5mL"
      },
      "execution_count": null,
      "outputs": []
    }
  ],
  "metadata": {
    "colab": {
      "collapsed_sections": [
        "f857kfHqUk0-"
      ],
      "name": "MD LSTM.ipynb",
      "provenance": [],
      "authorship_tag": "ABX9TyM+FeKEGyRHY/8oNFSI4iM0",
      "include_colab_link": true
    },
    "kernelspec": {
      "display_name": "Python 3",
      "name": "python3"
    },
    "language_info": {
      "name": "python"
    }
  },
  "nbformat": 4,
  "nbformat_minor": 0
}