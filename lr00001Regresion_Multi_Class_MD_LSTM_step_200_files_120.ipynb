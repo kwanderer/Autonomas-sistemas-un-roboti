{
  "cells": [
    {
      "cell_type": "markdown",
      "metadata": {
        "id": "view-in-github",
        "colab_type": "text"
      },
      "source": [
        "<a href=\"https://colab.research.google.com/github/kwanderer/Autonomas-sistemas-un-roboti/blob/main/lr00001Regresion_Multi_Class_MD_LSTM_step_200_files_120.ipynb\" target=\"_parent\"><img src=\"https://colab.research.google.com/assets/colab-badge.svg\" alt=\"Open In Colab\"/></a>"
      ]
    },
    {
      "cell_type": "markdown",
      "metadata": {
        "id": "f857kfHqUk0-"
      },
      "source": [
        "\n",
        "\n",
        "#Datu kopa"
      ]
    },
    {
      "cell_type": "markdown",
      "metadata": {
        "id": "nM9WE3QGUwVi"
      },
      "source": [
        "Datu kopas avots: https://www.kaggle.com/uysalserkan/fault-induction-motor-dataset"
      ]
    },
    {
      "cell_type": "markdown",
      "metadata": {
        "id": "_sN_h3qHHy6r"
      },
      "source": [
        "Darbā tiek izmantota indukcijas motora parametru datu bāze. Izmantotajā datu kopā ir dati, kas tika iegūti SpectraQuest aparatūras kļūdu simulatorā (Machinery Fault Simulator).\n",
        "\n",
        "Katra mērījumu secība tika ģenerēta ar frekvenci 50 kHz 5 sekunžu laikā, kopā 250 000 mērījumi.\n",
        "\n",
        "Dati ir apkopoti vairākos failos, dažādos darbības stāvokļos un to apjoms ir ļoti liels. Šajā darbā tika izmantota daļa(viena mērījumu secība) no motora normālas darbības datiem.\n"
      ]
    },
    {
      "cell_type": "markdown",
      "metadata": {
        "id": "KtFAOaHYHLPo"
      },
      "source": [
        "Dati ir apkopoti tabulā, kura satur 8 parametrus. Dati ir iedalīti sekojošās kolonas:\n",
        "\n",
        "**tachometer** – tahometra signāls, kas ļauj novērtēt rotācijas frekvenci\n",
        "\n",
        "**und-accelerometer-axial** - apakšā esošā gultņa akselerometrs (aksiālais virziens)\n",
        "\n",
        "**und-accelerometer-radial** – apakšā esošā gultņa akselerometrs (radiālais virziens)\n",
        "\n",
        "**und-accelerometer-tangential** - apakšā esošā gultņa akselerometrs (tangenciālais virziens)\n",
        "\n",
        "**over-accelerometer-axial** - pārkares gultņa akselerometrs (aksiālais virziens)\n",
        "\n",
        "**over-accelerometer-radial** – pārkares gultņa akselerometrs (radiālais  virziens)\n",
        "\n",
        "**over-accelerometer-tangential**  - pārkares gultņa akselerometrs (tangenciālais virziens)\n",
        "\n",
        "**microphone** – mikrofona vērtība\n"
      ]
    },
    {
      "cell_type": "markdown",
      "metadata": {
        "id": "XymoNLKMVFUC"
      },
      "source": [
        "#Datu ielasīšana un satura vizualizācija"
      ]
    },
    {
      "cell_type": "code",
      "execution_count": 1,
      "metadata": {
        "id": "_yqYZDeOFq5s"
      },
      "outputs": [],
      "source": [
        "import keras\n",
        "from keras.layers import LSTM, Dropout, Dense\n",
        "import tensorflow as tf\n",
        "import numpy as np\n",
        "import pandas as pd\n",
        "\n",
        "from sklearn import linear_model  #pip install sklearn - loti plasa masinapmacibas biblioteka\n",
        "from sklearn.linear_model import LinearRegression  \n",
        "import csv          #pip install csv - darbam ar CSV datu kopam\n",
        "import requests     #pip install requests  - vienkarsakam darbam ar tiessaistes CSV datu kopam tiessaistes\n",
        "\n",
        "import matplotlib\n",
        "import matplotlib.pyplot as plt\n",
        "\n",
        "import glob\n"
      ]
    },
    {
      "cell_type": "code",
      "execution_count": 2,
      "metadata": {
        "id": "wlRTBbM2eUcV",
        "colab": {
          "base_uri": "https://localhost:8080/"
        },
        "outputId": "d25e604d-cfa2-42cc-cb28-42d7f2e5b88c"
      },
      "outputs": [
        {
          "output_type": "stream",
          "name": "stdout",
          "text": [
            "Mounted at /content/gdrive\n"
          ]
        }
      ],
      "source": [
        "from google.colab import drive\n",
        "import os\n",
        "drive.mount('/content/gdrive')\n",
        "os.chdir(\"/content/gdrive/MyDrive/Colab Notebooks/data_multiclass/\")"
      ]
    },
    {
      "cell_type": "code",
      "execution_count": 3,
      "metadata": {
        "id": "zzz6fBl_SNom"
      },
      "outputs": [],
      "source": [
        "#extension = 'csv'\n",
        "#all_filenames = [i for i in glob.glob('*.{}'.format(extension))]"
      ]
    },
    {
      "cell_type": "code",
      "execution_count": 4,
      "metadata": {
        "id": "vagKFCkToBi0"
      },
      "outputs": [],
      "source": [
        "#combine all files in the list\n",
        "#combined_csv = pd.concat([pd.read_csv(f) for f in all_filenames ])\n",
        "#export to csv\n",
        "#combined_csv.to_csv( \"combined_multiclass_csv.csv\", index=False, encoding='utf-8-sig')"
      ]
    },
    {
      "cell_type": "code",
      "execution_count": 5,
      "metadata": {
        "id": "encEkbDhSfGI"
      },
      "outputs": [],
      "source": [
        "data = pd.read_csv(\"combined_multiclass_csv.csv\")"
      ]
    },
    {
      "cell_type": "code",
      "execution_count": 6,
      "metadata": {
        "id": "yz5Qe8ZWk1Zq",
        "colab": {
          "base_uri": "https://localhost:8080/"
        },
        "outputId": "a558d988-c41c-41f5-d64c-6f2720f85e42"
      },
      "outputs": [
        {
          "output_type": "stream",
          "name": "stdout",
          "text": [
            "<class 'pandas.core.frame.DataFrame'>\n",
            "RangeIndex: 30000000 entries, 0 to 29999999\n",
            "Data columns (total 9 columns):\n",
            " #   Column                         Dtype  \n",
            "---  ------                         -----  \n",
            " 0   tachometer                     float64\n",
            " 1   und-accelerometer-axial        float64\n",
            " 2   und-accelerometer-radial       float64\n",
            " 3   und-accelerometer-tangential   float64\n",
            " 4   over-accelerometer-axial       float64\n",
            " 5   over-accelerometer-radial      float64\n",
            " 6   over-accelerometer-tangential  float64\n",
            " 7   microphone                     float64\n",
            " 8   Class                          int64  \n",
            "dtypes: float64(8), int64(1)\n",
            "memory usage: 2.0 GB\n"
          ]
        }
      ],
      "source": [
        "data.info()"
      ]
    },
    {
      "cell_type": "code",
      "execution_count": 7,
      "metadata": {
        "id": "WUW9ezX6a_st",
        "colab": {
          "base_uri": "https://localhost:8080/"
        },
        "outputId": "62e3ed6a-eeb4-421e-f51f-8180e1474991"
      },
      "outputs": [
        {
          "output_type": "execute_result",
          "data": {
            "text/plain": [
              "30000000"
            ]
          },
          "metadata": {},
          "execution_count": 7
        }
      ],
      "source": [
        "rec_count = len(data)\n",
        "rec_count"
      ]
    },
    {
      "cell_type": "markdown",
      "metadata": {
        "id": "6RVC1PZy88fC"
      },
      "source": [
        "# Datu dalīšana mazākos gabalos"
      ]
    },
    {
      "cell_type": "code",
      "execution_count": 8,
      "metadata": {
        "id": "DOvnCYkcbGaE"
      },
      "outputs": [],
      "source": [
        "sequence_length = 200"
      ]
    },
    {
      "cell_type": "code",
      "execution_count": 9,
      "metadata": {
        "id": "RG0o2L3zbTEx"
      },
      "outputs": [],
      "source": [
        "def generate_data(X, y, sequence_length = 200, step = 200):\n",
        "    X_local = []\n",
        "    y_local = []\n",
        "    for start in range(0, len(data) - sequence_length, step):\n",
        "        end = start + sequence_length\n",
        "        X_local.append(X[start:end])\n",
        "        y_local.append(y[end-1])\n",
        "    return np.array(X_local), np.array(y_local)\n",
        "\n",
        "X_sequence, y = generate_data(data.loc[:, [\"tachometer\", \"und-accelerometer-axial\", \"und-accelerometer-radial\", \"und-accelerometer-tangential\", \"over-accelerometer-axial\", \"over-accelerometer-radial\", \"over-accelerometer-tangential\", \"microphone\"]].values, data.Class)\n",
        "#X_sequence, y = generate_data(data.loc[:, [\"und-accelerometer-axial\", \"und-accelerometer-radial\", \"und-accelerometer-tangential\", \"microphone\"]].values, data.Class)\n"
      ]
    },
    {
      "cell_type": "code",
      "execution_count": 10,
      "metadata": {
        "id": "s0QxwK66cLVF",
        "colab": {
          "base_uri": "https://localhost:8080/"
        },
        "outputId": "ef7e0ef2-fb8f-47f5-fd9e-e1e193708533"
      },
      "outputs": [
        {
          "output_type": "execute_result",
          "data": {
            "text/plain": [
              "((149999, 200, 8), (149999,))"
            ]
          },
          "metadata": {},
          "execution_count": 10
        }
      ],
      "source": [
        "X_sequence.shape, y.shape"
      ]
    },
    {
      "cell_type": "code",
      "source": [
        "y"
      ],
      "metadata": {
        "id": "4tu6MQMZjahk",
        "colab": {
          "base_uri": "https://localhost:8080/"
        },
        "outputId": "5ba2f27d-1a2d-49b9-9f69-6e7f840d2d47"
      },
      "execution_count": 11,
      "outputs": [
        {
          "output_type": "execute_result",
          "data": {
            "text/plain": [
              "array([7, 7, 7, ..., 0, 0, 0])"
            ]
          },
          "metadata": {},
          "execution_count": 11
        }
      ]
    },
    {
      "cell_type": "code",
      "source": [
        "i = 0\n",
        "while i < 149999:\n",
        "  if y[i] == 1:\n",
        "    y[i] = 7\n",
        "  elif y[i] == 2:\n",
        "    y[i] = 6\n",
        "  elif y[i] == 3:\n",
        "    y[i] = 5\n",
        "  elif y[i] == 4:\n",
        "    y[i] = 4\n",
        "  elif y[i] == 5:\n",
        "    y[i] = 3\n",
        "  elif y[i] == 6:\n",
        "    y[i] = 2\n",
        "  elif y[i] == 7:\n",
        "    y[i] = 1\n",
        "  i+=1"
      ],
      "metadata": {
        "id": "i_jgMMlgjT4O"
      },
      "execution_count": 12,
      "outputs": []
    },
    {
      "cell_type": "code",
      "source": [
        "y"
      ],
      "metadata": {
        "id": "mgCNJtOCkKZJ",
        "colab": {
          "base_uri": "https://localhost:8080/"
        },
        "outputId": "3bb014f8-6f12-4e1e-9983-2d900f29ed1b"
      },
      "execution_count": 13,
      "outputs": [
        {
          "output_type": "execute_result",
          "data": {
            "text/plain": [
              "array([1, 1, 1, ..., 0, 0, 0])"
            ]
          },
          "metadata": {},
          "execution_count": 13
        }
      ]
    },
    {
      "cell_type": "code",
      "source": [
        "y.shape"
      ],
      "metadata": {
        "id": "L9-ql6wZkMNC",
        "colab": {
          "base_uri": "https://localhost:8080/"
        },
        "outputId": "563a3bd7-8a1f-4d0e-9f56-3c7562aef739"
      },
      "execution_count": 14,
      "outputs": [
        {
          "output_type": "execute_result",
          "data": {
            "text/plain": [
              "(149999,)"
            ]
          },
          "metadata": {},
          "execution_count": 14
        }
      ]
    },
    {
      "cell_type": "code",
      "source": [
        "#np.save(\"mydata.npy\",X_sequence)"
      ],
      "metadata": {
        "id": "kvpMrUzMgZGE"
      },
      "execution_count": 15,
      "outputs": []
    },
    {
      "cell_type": "code",
      "source": [
        "#b = np.load(\"mydata.npy\")"
      ],
      "metadata": {
        "id": "fxB_2ohGgkXJ"
      },
      "execution_count": 16,
      "outputs": []
    },
    {
      "cell_type": "code",
      "source": [
        "#b.shape"
      ],
      "metadata": {
        "id": "HguuDdetguf7"
      },
      "execution_count": 17,
      "outputs": []
    },
    {
      "cell_type": "code",
      "source": [
        "unique, counts = np.unique(y, return_counts=True)"
      ],
      "metadata": {
        "id": "l8Lq455lV1JR"
      },
      "execution_count": 18,
      "outputs": []
    },
    {
      "cell_type": "code",
      "source": [
        "unique"
      ],
      "metadata": {
        "id": "t0BRO3nAWQxe",
        "colab": {
          "base_uri": "https://localhost:8080/"
        },
        "outputId": "f60d0769-cefe-47e6-8d8b-a29d35d63105"
      },
      "execution_count": 19,
      "outputs": [
        {
          "output_type": "execute_result",
          "data": {
            "text/plain": [
              "array([0, 1, 2, 3, 4, 5, 6, 7])"
            ]
          },
          "metadata": {},
          "execution_count": 19
        }
      ]
    },
    {
      "cell_type": "code",
      "source": [
        "counts"
      ],
      "metadata": {
        "id": "WWZ7QWR4WS_r",
        "colab": {
          "base_uri": "https://localhost:8080/"
        },
        "outputId": "6423cb1b-3aed-47d0-fd1f-668ff23df073"
      },
      "execution_count": 20,
      "outputs": [
        {
          "output_type": "execute_result",
          "data": {
            "text/plain": [
              "array([18749, 18750, 18750, 18750, 18750, 18750, 18750, 18750])"
            ]
          },
          "metadata": {},
          "execution_count": 20
        }
      ]
    },
    {
      "cell_type": "code",
      "execution_count": 21,
      "metadata": {
        "id": "i7R1oo6Mj8wx"
      },
      "outputs": [],
      "source": [
        "data = 0"
      ]
    },
    {
      "cell_type": "code",
      "source": [
        "#from sklearn.preprocessing import OneHotEncoder"
      ],
      "metadata": {
        "id": "lAk_JscRWmqY"
      },
      "execution_count": 22,
      "outputs": []
    },
    {
      "cell_type": "code",
      "source": [
        "#label_encoder = OneHotEncoder(sparse=False)\n",
        "#label_encoder.fit(y.reshape(-1,1))"
      ],
      "metadata": {
        "id": "14B9aYy0W0y6"
      },
      "execution_count": 23,
      "outputs": []
    },
    {
      "cell_type": "code",
      "source": [
        "#y_encoded = label_encoder.transform(y.reshape(-1,1))"
      ],
      "metadata": {
        "id": "VjpWn96xXgPS"
      },
      "execution_count": 24,
      "outputs": []
    },
    {
      "cell_type": "code",
      "source": [
        "#y_encoded[0:5]"
      ],
      "metadata": {
        "id": "VL6KMFo9XpBi"
      },
      "execution_count": 25,
      "outputs": []
    },
    {
      "cell_type": "code",
      "source": [
        "#y=y_encoded"
      ],
      "metadata": {
        "id": "5c8km253YKBl"
      },
      "execution_count": 26,
      "outputs": []
    },
    {
      "cell_type": "markdown",
      "metadata": {
        "id": "5BXSDoHa9UX_"
      },
      "source": [
        "# Random/Shuffle"
      ]
    },
    {
      "cell_type": "code",
      "execution_count": 27,
      "metadata": {
        "id": "ZcfE9idy-ckb"
      },
      "outputs": [],
      "source": [
        "shuffler = np.random.permutation(len(X_sequence))\n",
        "X_sequence_shuffled = X_sequence[shuffler]\n",
        "y_shuffled = y[shuffler]"
      ]
    },
    {
      "cell_type": "markdown",
      "metadata": {
        "id": "TfhRTTNcE2s8"
      },
      "source": [
        "# LSTM"
      ]
    },
    {
      "cell_type": "code",
      "execution_count": 28,
      "metadata": {
        "id": "ihrXMuVAEwlY"
      },
      "outputs": [],
      "source": [
        "import pandas as pd\n",
        "import sklearn.metrics as metrique\n",
        "from pandas import Series\n",
        "from sklearn.preprocessing import StandardScaler, MinMaxScaler\n",
        "from matplotlib import pyplot\n",
        "from sklearn.model_selection import train_test_split\n",
        "import numpy as np\n",
        "import tensorflow as tf\n",
        "import sys\n",
        "import numpy as np\n",
        "import pandas as pd\n",
        "import tensorflow as tf\n",
        "import matplotlib.pyplot as plt\n",
        "from sklearn.model_selection import train_test_split\n",
        "from sklearn import preprocessing\n",
        "from sklearn.preprocessing import StandardScaler\n",
        "from sklearn.metrics import classification_report\n",
        "import warnings\n",
        "warnings.filterwarnings('ignore')\n",
        "plt.style.use('ggplot')\n",
        "import seaborn as sns \n",
        "%matplotlib inline\n",
        "from keras.callbacks import EarlyStopping\n",
        "from keras.callbacks import ModelCheckpoint\n",
        "from sklearn.metrics import accuracy_score\n",
        "from sklearn.metrics import classification_report, confusion_matrix\n",
        "from keras.models import Sequential\n",
        "from keras.utils import np_utils\n",
        "from keras.layers import LSTM, Dense, Embedding, Dropout,Input, Layer, Concatenate, Permute, Dot, Multiply, Flatten\n",
        "from keras.layers import RepeatVector, Dense, Activation, Lambda\n",
        "from keras.models import Sequential\n",
        "from keras import backend as K, regularizers, Model, metrics\n",
        "from keras.backend import cast"
      ]
    },
    {
      "cell_type": "code",
      "execution_count": 29,
      "metadata": {
        "id": "PjKWKiA6aH3z"
      },
      "outputs": [],
      "source": [
        "#from tensorflow.keras import optimizers\n",
        "#sgd = optimizers.SGD(lr=0.0001, decay=1e-6, momentum=0.9, nesterov=True)\n",
        "#model = keras.Sequential()\n",
        "#model.add(LSTM(100, input_shape = (200, 8)))\n",
        "#model.add(Dropout(0.5))\n",
        "#model.add(Dense(1, activation=\"softmax\"))\n",
        "\n",
        "\n",
        "#model.compile(loss=\"categorical_crossentropy\"\n",
        "#              , metrics=[keras.metrics.binary_accuracy]\n",
        "#              , optimizer='sgd')\n",
        "\n",
        "#model.summary()"
      ]
    },
    {
      "cell_type": "code",
      "execution_count": 30,
      "metadata": {
        "id": "_2SaVmwSWJVB",
        "colab": {
          "base_uri": "https://localhost:8080/"
        },
        "outputId": "823bdb6b-2725-4578-faef-91522877fa54"
      },
      "outputs": [
        {
          "output_type": "stream",
          "name": "stdout",
          "text": [
            "Model: \"sequential\"\n",
            "_________________________________________________________________\n",
            " Layer (type)                Output Shape              Param #   \n",
            "=================================================================\n",
            " lstm (LSTM)                 (None, 100)               43600     \n",
            "                                                                 \n",
            " dropout (Dropout)           (None, 100)               0         \n",
            "                                                                 \n",
            " dense (Dense)               (None, 1)                 101       \n",
            "                                                                 \n",
            "=================================================================\n",
            "Total params: 43,701\n",
            "Trainable params: 43,701\n",
            "Non-trainable params: 0\n",
            "_________________________________________________________________\n"
          ]
        }
      ],
      "source": [
        "from tensorflow.keras import optimizers\n",
        "#sgd = optimizers.SGD(lr=0.0001, decay=1e-6, momentum=0.9, nesterov=True)\n",
        "optimizer = tf.keras.optimizers.Adam(lr=0.00001)\n",
        "model = keras.Sequential()\n",
        "model.add(LSTM(100, input_shape = (200, 8)))\n",
        "model.add(Dropout(0.5))\n",
        "model.add(Dense(1))# dense 1, activation - relu/sigmoid\n",
        "\n",
        "#model.compile(loss='mean_squared_error', optimizer=sgd)\n",
        "model.compile(loss=\"mse\" #mse\n",
        "              , metrics=['accuracy']\n",
        "              , optimizer=optimizer)\n",
        "\n",
        "model.summary()"
      ]
    },
    {
      "cell_type": "code",
      "execution_count": 31,
      "metadata": {
        "id": "tg8wrqsqc8UX"
      },
      "outputs": [],
      "source": [
        "training_size = int(len(X_sequence) * 0.8)\n",
        "val_size = int(len(X_sequence) * 0.9)"
      ]
    },
    {
      "cell_type": "code",
      "execution_count": 32,
      "metadata": {
        "id": "avIp3TEKc-qF"
      },
      "outputs": [],
      "source": [
        "X_train, y_train = X_sequence_shuffled[:training_size], y_shuffled[:training_size]\n",
        "X_val, y_val = X_sequence_shuffled[training_size:val_size], y_shuffled[training_size:val_size]\n",
        "X_test, y_test = X_sequence_shuffled[val_size:], y_shuffled[val_size:]"
      ]
    },
    {
      "cell_type": "code",
      "execution_count": 33,
      "metadata": {
        "id": "RABc_uKzkBUT"
      },
      "outputs": [],
      "source": [
        "X_sequence = 0\n",
        "y = 0"
      ]
    },
    {
      "cell_type": "code",
      "source": [
        "X_train.shape"
      ],
      "metadata": {
        "id": "Omv-ht1dhGxL",
        "colab": {
          "base_uri": "https://localhost:8080/"
        },
        "outputId": "9acc3582-d23f-4a9e-b4e7-0eba66c48ad4"
      },
      "execution_count": 34,
      "outputs": [
        {
          "output_type": "execute_result",
          "data": {
            "text/plain": [
              "(119999, 200, 8)"
            ]
          },
          "metadata": {},
          "execution_count": 34
        }
      ]
    },
    {
      "cell_type": "code",
      "execution_count": 35,
      "metadata": {
        "id": "8aIhPJ-wLCwZ",
        "colab": {
          "base_uri": "https://localhost:8080/"
        },
        "outputId": "911525e0-eb81-4303-f74a-75ad9a1da123"
      },
      "outputs": [
        {
          "output_type": "execute_result",
          "data": {
            "text/plain": [
              "array([6, 1, 2, 1, 1, 7, 3, 5, 5, 6])"
            ]
          },
          "metadata": {},
          "execution_count": 35
        }
      ],
      "source": [
        "y_train[:10]"
      ]
    },
    {
      "cell_type": "code",
      "execution_count": 36,
      "metadata": {
        "id": "cen4faX0dFJP",
        "colab": {
          "base_uri": "https://localhost:8080/"
        },
        "outputId": "3ad7062d-3fa3-4367-a0cd-44750334269a"
      },
      "outputs": [
        {
          "output_type": "stream",
          "name": "stdout",
          "text": [
            "Epoch 1/100\n",
            "1875/1875 [==============================] - 29s 12ms/step - loss: 9.7017 - accuracy: 0.1232 - val_loss: 5.5532 - val_accuracy: 0.1246\n",
            "Epoch 2/100\n",
            "1875/1875 [==============================] - 22s 12ms/step - loss: 5.6850 - accuracy: 0.1244 - val_loss: 5.3085 - val_accuracy: 0.1246\n",
            "Epoch 3/100\n",
            "1875/1875 [==============================] - 22s 12ms/step - loss: 5.3707 - accuracy: 0.1244 - val_loss: 4.6347 - val_accuracy: 0.1246\n",
            "Epoch 4/100\n",
            "1875/1875 [==============================] - 22s 12ms/step - loss: 4.6120 - accuracy: 0.1244 - val_loss: 4.2389 - val_accuracy: 0.1246\n",
            "Epoch 5/100\n",
            "1875/1875 [==============================] - 22s 12ms/step - loss: 4.4351 - accuracy: 0.1244 - val_loss: 4.1130 - val_accuracy: 0.1246\n",
            "Epoch 6/100\n",
            "1875/1875 [==============================] - 22s 12ms/step - loss: 4.3197 - accuracy: 0.1244 - val_loss: 3.9872 - val_accuracy: 0.1246\n",
            "Epoch 7/100\n",
            "1875/1875 [==============================] - 22s 12ms/step - loss: 4.1867 - accuracy: 0.1245 - val_loss: 3.8515 - val_accuracy: 0.1246\n",
            "Epoch 8/100\n",
            "1875/1875 [==============================] - 22s 12ms/step - loss: 4.0325 - accuracy: 0.1246 - val_loss: 3.7179 - val_accuracy: 0.1246\n",
            "Epoch 9/100\n",
            "1875/1875 [==============================] - 22s 12ms/step - loss: 3.8878 - accuracy: 0.1247 - val_loss: 3.5961 - val_accuracy: 0.1246\n",
            "Epoch 10/100\n",
            "1875/1875 [==============================] - 22s 11ms/step - loss: 3.7884 - accuracy: 0.1248 - val_loss: 3.5101 - val_accuracy: 0.1247\n",
            "Epoch 11/100\n",
            "1875/1875 [==============================] - 22s 12ms/step - loss: 3.7121 - accuracy: 0.1248 - val_loss: 3.3951 - val_accuracy: 0.1247\n",
            "Epoch 12/100\n",
            "1875/1875 [==============================] - 22s 12ms/step - loss: 3.6495 - accuracy: 0.1248 - val_loss: 3.4180 - val_accuracy: 0.1247\n",
            "Epoch 13/100\n",
            "1875/1875 [==============================] - 22s 12ms/step - loss: 3.5973 - accuracy: 0.1250 - val_loss: 3.2641 - val_accuracy: 0.1247\n",
            "Epoch 14/100\n",
            "1875/1875 [==============================] - 22s 12ms/step - loss: 3.5486 - accuracy: 0.1251 - val_loss: 3.3227 - val_accuracy: 0.1247\n",
            "Epoch 15/100\n",
            "1875/1875 [==============================] - 22s 12ms/step - loss: 3.4853 - accuracy: 0.1252 - val_loss: 3.1848 - val_accuracy: 0.1246\n",
            "Epoch 16/100\n",
            "1875/1875 [==============================] - 22s 12ms/step - loss: 3.4344 - accuracy: 0.1253 - val_loss: 3.1230 - val_accuracy: 0.1247\n",
            "Epoch 17/100\n",
            "1875/1875 [==============================] - 22s 12ms/step - loss: 3.3921 - accuracy: 0.1254 - val_loss: 3.0672 - val_accuracy: 0.1246\n",
            "Epoch 18/100\n",
            "1875/1875 [==============================] - 21s 11ms/step - loss: 3.3418 - accuracy: 0.1255 - val_loss: 3.0784 - val_accuracy: 0.1249\n",
            "Epoch 19/100\n",
            "1875/1875 [==============================] - 22s 12ms/step - loss: 3.3108 - accuracy: 0.1263 - val_loss: 2.9803 - val_accuracy: 0.1252\n",
            "Epoch 20/100\n",
            "1875/1875 [==============================] - 22s 12ms/step - loss: 3.2696 - accuracy: 0.1260 - val_loss: 2.9325 - val_accuracy: 0.1248\n",
            "Epoch 21/100\n",
            "1875/1875 [==============================] - 22s 12ms/step - loss: 3.2289 - accuracy: 0.1264 - val_loss: 2.9166 - val_accuracy: 0.1255\n",
            "Epoch 22/100\n",
            "1875/1875 [==============================] - 22s 12ms/step - loss: 3.1996 - accuracy: 0.1270 - val_loss: 2.8643 - val_accuracy: 0.1253\n",
            "Epoch 23/100\n",
            "1875/1875 [==============================] - 22s 12ms/step - loss: 3.1662 - accuracy: 0.1271 - val_loss: 2.8297 - val_accuracy: 0.1262\n",
            "Epoch 24/100\n",
            "1875/1875 [==============================] - 21s 11ms/step - loss: 3.1375 - accuracy: 0.1281 - val_loss: 2.7918 - val_accuracy: 0.1263\n",
            "Epoch 25/100\n",
            "1875/1875 [==============================] - 21s 11ms/step - loss: 3.1045 - accuracy: 0.1284 - val_loss: 2.7559 - val_accuracy: 0.1259\n",
            "Epoch 26/100\n",
            "1875/1875 [==============================] - 22s 12ms/step - loss: 3.0671 - accuracy: 0.1283 - val_loss: 2.7743 - val_accuracy: 0.1263\n",
            "Epoch 27/100\n",
            "1875/1875 [==============================] - 22s 12ms/step - loss: 3.0516 - accuracy: 0.1284 - val_loss: 2.7036 - val_accuracy: 0.1267\n",
            "Epoch 28/100\n",
            "1875/1875 [==============================] - 21s 11ms/step - loss: 3.0256 - accuracy: 0.1283 - val_loss: 2.7240 - val_accuracy: 0.1265\n",
            "Epoch 29/100\n",
            "1875/1875 [==============================] - 21s 11ms/step - loss: 2.9975 - accuracy: 0.1286 - val_loss: 2.6718 - val_accuracy: 0.1265\n",
            "Epoch 30/100\n",
            "1875/1875 [==============================] - 21s 11ms/step - loss: 2.9881 - accuracy: 0.1289 - val_loss: 2.7593 - val_accuracy: 0.1304\n",
            "Epoch 31/100\n",
            "1875/1875 [==============================] - 21s 11ms/step - loss: 2.9481 - accuracy: 0.1292 - val_loss: 2.8136 - val_accuracy: 0.1282\n",
            "Epoch 32/100\n",
            "1875/1875 [==============================] - 21s 11ms/step - loss: 2.9470 - accuracy: 0.1293 - val_loss: 2.6250 - val_accuracy: 0.1277\n",
            "Epoch 33/100\n",
            "1875/1875 [==============================] - 21s 11ms/step - loss: 2.9133 - accuracy: 0.1296 - val_loss: 2.5870 - val_accuracy: 0.1269\n",
            "Epoch 34/100\n",
            "1875/1875 [==============================] - 21s 11ms/step - loss: 2.9071 - accuracy: 0.1298 - val_loss: 2.6934 - val_accuracy: 0.1261\n",
            "Epoch 35/100\n",
            "1875/1875 [==============================] - 21s 11ms/step - loss: 2.8769 - accuracy: 0.1299 - val_loss: 2.6463 - val_accuracy: 0.1331\n",
            "Epoch 36/100\n",
            "1875/1875 [==============================] - 21s 11ms/step - loss: 2.8964 - accuracy: 0.1304 - val_loss: 2.5677 - val_accuracy: 0.1279\n",
            "Epoch 37/100\n",
            "1875/1875 [==============================] - 22s 11ms/step - loss: 2.8467 - accuracy: 0.1304 - val_loss: 2.5519 - val_accuracy: 0.1281\n",
            "Epoch 38/100\n",
            "1875/1875 [==============================] - 21s 11ms/step - loss: 2.8477 - accuracy: 0.1296 - val_loss: 2.5510 - val_accuracy: 0.1277\n",
            "Epoch 39/100\n",
            "1875/1875 [==============================] - 22s 12ms/step - loss: 2.8289 - accuracy: 0.1294 - val_loss: 2.5092 - val_accuracy: 0.1279\n",
            "Epoch 40/100\n",
            "1875/1875 [==============================] - 21s 11ms/step - loss: 2.8420 - accuracy: 0.1297 - val_loss: 2.5460 - val_accuracy: 0.1273\n",
            "Epoch 41/100\n",
            "1875/1875 [==============================] - 21s 11ms/step - loss: 2.8067 - accuracy: 0.1300 - val_loss: 2.5624 - val_accuracy: 0.1301\n",
            "Epoch 42/100\n",
            "1875/1875 [==============================] - 22s 12ms/step - loss: 2.7820 - accuracy: 0.1302 - val_loss: 2.4790 - val_accuracy: 0.1289\n",
            "Epoch 43/100\n",
            "1875/1875 [==============================] - 21s 11ms/step - loss: 2.7699 - accuracy: 0.1313 - val_loss: 2.5152 - val_accuracy: 0.1276\n",
            "Epoch 44/100\n",
            "1875/1875 [==============================] - 21s 11ms/step - loss: 2.7703 - accuracy: 0.1303 - val_loss: 2.5988 - val_accuracy: 0.1275\n",
            "Epoch 45/100\n",
            "1875/1875 [==============================] - 21s 11ms/step - loss: 2.7467 - accuracy: 0.1309 - val_loss: 2.5506 - val_accuracy: 0.1265\n",
            "Epoch 46/100\n",
            "1875/1875 [==============================] - 24s 13ms/step - loss: 2.7396 - accuracy: 0.1313 - val_loss: 2.5631 - val_accuracy: 0.1335\n",
            "Epoch 47/100\n",
            "1875/1875 [==============================] - 24s 13ms/step - loss: 2.7337 - accuracy: 0.1307 - val_loss: 2.4464 - val_accuracy: 0.1280\n",
            "Epoch 48/100\n",
            "1875/1875 [==============================] - 24s 13ms/step - loss: 2.7021 - accuracy: 0.1313 - val_loss: 2.5206 - val_accuracy: 0.1321\n",
            "Epoch 49/100\n",
            "1875/1875 [==============================] - 25s 13ms/step - loss: 2.6926 - accuracy: 0.1314 - val_loss: 2.4691 - val_accuracy: 0.1307\n",
            "Epoch 50/100\n",
            "1875/1875 [==============================] - 26s 14ms/step - loss: 2.6697 - accuracy: 0.1311 - val_loss: 2.3567 - val_accuracy: 0.1275\n",
            "Epoch 51/100\n",
            "1875/1875 [==============================] - 25s 13ms/step - loss: 2.6556 - accuracy: 0.1311 - val_loss: 2.7264 - val_accuracy: 0.1297\n",
            "Epoch 52/100\n",
            "1875/1875 [==============================] - 25s 13ms/step - loss: 2.6559 - accuracy: 0.1312 - val_loss: 2.3150 - val_accuracy: 0.1282\n",
            "Epoch 53/100\n",
            "1875/1875 [==============================] - 24s 13ms/step - loss: 2.6102 - accuracy: 0.1312 - val_loss: 3.3417 - val_accuracy: 0.1280\n",
            "Epoch 54/100\n",
            "1875/1875 [==============================] - 25s 13ms/step - loss: 2.6239 - accuracy: 0.1316 - val_loss: 2.3892 - val_accuracy: 0.1289\n",
            "Epoch 55/100\n",
            "1875/1875 [==============================] - 25s 13ms/step - loss: 2.5829 - accuracy: 0.1315 - val_loss: 2.5294 - val_accuracy: 0.1293\n",
            "Epoch 56/100\n",
            "1875/1875 [==============================] - 25s 13ms/step - loss: 2.5623 - accuracy: 0.1321 - val_loss: 2.2656 - val_accuracy: 0.1300\n",
            "Epoch 57/100\n",
            "1875/1875 [==============================] - 25s 13ms/step - loss: 2.5466 - accuracy: 0.1320 - val_loss: 2.2381 - val_accuracy: 0.1289\n",
            "Epoch 58/100\n",
            "1875/1875 [==============================] - 24s 13ms/step - loss: 2.5297 - accuracy: 0.1326 - val_loss: 2.2811 - val_accuracy: 0.1311\n",
            "Epoch 59/100\n",
            "1875/1875 [==============================] - 25s 13ms/step - loss: 2.5211 - accuracy: 0.1329 - val_loss: 2.2716 - val_accuracy: 0.1315\n",
            "Epoch 60/100\n",
            "1875/1875 [==============================] - 25s 13ms/step - loss: 2.4977 - accuracy: 0.1331 - val_loss: 2.2338 - val_accuracy: 0.1315\n",
            "Epoch 61/100\n",
            "1875/1875 [==============================] - 25s 13ms/step - loss: 2.5431 - accuracy: 0.1345 - val_loss: 2.2997 - val_accuracy: 0.1359\n",
            "Epoch 62/100\n",
            "1875/1875 [==============================] - 25s 13ms/step - loss: 2.5130 - accuracy: 0.1349 - val_loss: 2.1890 - val_accuracy: 0.1297\n",
            "Epoch 63/100\n",
            "1875/1875 [==============================] - 25s 13ms/step - loss: 2.4628 - accuracy: 0.1345 - val_loss: 2.2510 - val_accuracy: 0.1319\n",
            "Epoch 64/100\n",
            "1875/1875 [==============================] - 25s 13ms/step - loss: 2.4544 - accuracy: 0.1351 - val_loss: 2.3599 - val_accuracy: 0.1390\n",
            "Epoch 65/100\n",
            "1875/1875 [==============================] - 25s 13ms/step - loss: 2.4652 - accuracy: 0.1352 - val_loss: 2.4693 - val_accuracy: 0.1373\n",
            "Epoch 66/100\n",
            "1875/1875 [==============================] - 25s 13ms/step - loss: 2.4342 - accuracy: 0.1364 - val_loss: 2.1678 - val_accuracy: 0.1322\n",
            "Epoch 67/100\n",
            "1875/1875 [==============================] - 25s 13ms/step - loss: 2.4220 - accuracy: 0.1360 - val_loss: 2.1903 - val_accuracy: 0.1371\n",
            "Epoch 68/100\n",
            "1875/1875 [==============================] - 25s 14ms/step - loss: 2.4466 - accuracy: 0.1367 - val_loss: 2.1240 - val_accuracy: 0.1339\n",
            "Epoch 69/100\n",
            "1875/1875 [==============================] - 25s 13ms/step - loss: 2.4113 - accuracy: 0.1365 - val_loss: 2.1712 - val_accuracy: 0.1331\n",
            "Epoch 70/100\n",
            "1875/1875 [==============================] - 25s 13ms/step - loss: 2.3881 - accuracy: 0.1376 - val_loss: 2.1624 - val_accuracy: 0.1369\n",
            "Epoch 71/100\n",
            "1875/1875 [==============================] - 26s 14ms/step - loss: 2.3861 - accuracy: 0.1375 - val_loss: 2.0986 - val_accuracy: 0.1347\n",
            "Epoch 72/100\n",
            "1875/1875 [==============================] - 25s 13ms/step - loss: 2.3697 - accuracy: 0.1386 - val_loss: 2.1413 - val_accuracy: 0.1346\n",
            "Epoch 73/100\n",
            "1875/1875 [==============================] - 24s 13ms/step - loss: 2.3741 - accuracy: 0.1393 - val_loss: 2.1327 - val_accuracy: 0.1343\n",
            "Epoch 74/100\n",
            "1875/1875 [==============================] - 25s 13ms/step - loss: 2.3716 - accuracy: 0.1396 - val_loss: 2.1678 - val_accuracy: 0.1340\n",
            "Epoch 75/100\n",
            "1875/1875 [==============================] - 25s 13ms/step - loss: 2.3554 - accuracy: 0.1398 - val_loss: 2.0809 - val_accuracy: 0.1333\n",
            "Epoch 76/100\n",
            "1875/1875 [==============================] - 22s 12ms/step - loss: 2.3513 - accuracy: 0.1403 - val_loss: 2.1748 - val_accuracy: 0.1394\n",
            "Epoch 77/100\n",
            "1875/1875 [==============================] - 22s 12ms/step - loss: 2.3238 - accuracy: 0.1408 - val_loss: 2.2720 - val_accuracy: 0.1373\n",
            "Epoch 78/100\n",
            "1875/1875 [==============================] - 22s 12ms/step - loss: 2.3187 - accuracy: 0.1406 - val_loss: 2.1447 - val_accuracy: 0.1414\n",
            "Epoch 79/100\n",
            "1875/1875 [==============================] - 22s 12ms/step - loss: 2.3354 - accuracy: 0.1421 - val_loss: 2.0633 - val_accuracy: 0.1370\n",
            "Epoch 80/100\n",
            "1875/1875 [==============================] - 25s 13ms/step - loss: 2.2917 - accuracy: 0.1430 - val_loss: 2.2095 - val_accuracy: 0.1439\n",
            "Epoch 81/100\n",
            "1875/1875 [==============================] - 25s 13ms/step - loss: 2.2917 - accuracy: 0.1437 - val_loss: 2.0336 - val_accuracy: 0.1421\n",
            "Epoch 82/100\n",
            "1875/1875 [==============================] - 24s 13ms/step - loss: 2.2928 - accuracy: 0.1437 - val_loss: 2.0645 - val_accuracy: 0.1425\n",
            "Epoch 83/100\n",
            "1875/1875 [==============================] - 25s 13ms/step - loss: 2.2932 - accuracy: 0.1446 - val_loss: 1.9862 - val_accuracy: 0.1395\n",
            "Epoch 84/100\n",
            "1875/1875 [==============================] - 24s 13ms/step - loss: 2.2542 - accuracy: 0.1447 - val_loss: 2.0060 - val_accuracy: 0.1431\n",
            "Epoch 85/100\n",
            "1875/1875 [==============================] - 24s 13ms/step - loss: 2.2591 - accuracy: 0.1453 - val_loss: 1.9796 - val_accuracy: 0.1415\n",
            "Epoch 86/100\n",
            "1875/1875 [==============================] - 24s 13ms/step - loss: 2.2569 - accuracy: 0.1460 - val_loss: 1.9856 - val_accuracy: 0.1409\n",
            "Epoch 87/100\n",
            "1875/1875 [==============================] - 25s 13ms/step - loss: 2.2573 - accuracy: 0.1469 - val_loss: 1.9803 - val_accuracy: 0.1421\n",
            "Epoch 88/100\n",
            "1875/1875 [==============================] - 25s 13ms/step - loss: 2.2437 - accuracy: 0.1475 - val_loss: 2.0050 - val_accuracy: 0.1442\n",
            "Epoch 89/100\n",
            "1875/1875 [==============================] - 24s 13ms/step - loss: 2.2414 - accuracy: 0.1485 - val_loss: 1.9801 - val_accuracy: 0.1451\n",
            "Epoch 90/100\n",
            "1875/1875 [==============================] - 25s 13ms/step - loss: 2.2309 - accuracy: 0.1489 - val_loss: 1.9504 - val_accuracy: 0.1455\n",
            "Epoch 91/100\n",
            "1875/1875 [==============================] - 22s 12ms/step - loss: 2.2197 - accuracy: 0.1488 - val_loss: 1.9974 - val_accuracy: 0.1411\n",
            "Epoch 92/100\n",
            "1875/1875 [==============================] - 25s 13ms/step - loss: 2.2270 - accuracy: 0.1491 - val_loss: 1.9542 - val_accuracy: 0.1449\n",
            "Epoch 93/100\n",
            "1875/1875 [==============================] - 25s 13ms/step - loss: 2.1964 - accuracy: 0.1504 - val_loss: 1.9982 - val_accuracy: 0.1519\n",
            "Epoch 94/100\n",
            "1875/1875 [==============================] - 25s 13ms/step - loss: 2.1957 - accuracy: 0.1498 - val_loss: 2.1858 - val_accuracy: 0.1602\n",
            "Epoch 95/100\n",
            "1875/1875 [==============================] - 25s 13ms/step - loss: 2.1971 - accuracy: 0.1515 - val_loss: 1.9574 - val_accuracy: 0.1486\n",
            "Epoch 96/100\n",
            "1875/1875 [==============================] - 25s 13ms/step - loss: 2.1780 - accuracy: 0.1522 - val_loss: 1.9260 - val_accuracy: 0.1516\n",
            "Epoch 97/100\n",
            "1875/1875 [==============================] - 25s 13ms/step - loss: 2.1711 - accuracy: 0.1517 - val_loss: 1.9701 - val_accuracy: 0.1455\n",
            "Epoch 98/100\n",
            "1875/1875 [==============================] - 25s 13ms/step - loss: 2.1814 - accuracy: 0.1523 - val_loss: 1.9100 - val_accuracy: 0.1485\n",
            "Epoch 99/100\n",
            "1875/1875 [==============================] - 25s 13ms/step - loss: 2.1601 - accuracy: 0.1539 - val_loss: 1.9556 - val_accuracy: 0.1443\n",
            "Epoch 100/100\n",
            "1875/1875 [==============================] - 25s 13ms/step - loss: 2.1709 - accuracy: 0.1534 - val_loss: 1.9687 - val_accuracy: 0.1536\n"
          ]
        }
      ],
      "source": [
        "history = model.fit(X_train, y_train, batch_size=64, epochs=100, validation_data=(X_val, y_val))\n",
        "#model.save('NewAllDataModel_E100_B64.h5')"
      ]
    },
    {
      "cell_type": "code",
      "execution_count": 37,
      "metadata": {
        "id": "R7QQeqVidKBR",
        "colab": {
          "base_uri": "https://localhost:8080/"
        },
        "outputId": "fd154e19-048d-4e17-8bf8-ffff01059933"
      },
      "outputs": [
        {
          "output_type": "stream",
          "name": "stdout",
          "text": [
            "469/469 [==============================] - 2s 5ms/step - loss: 2.0049 - accuracy: 0.1585\n"
          ]
        }
      ],
      "source": [
        "test_acc = model.evaluate(X_test, y_test)"
      ]
    },
    {
      "cell_type": "code",
      "source": [
        "test_acc"
      ],
      "metadata": {
        "id": "6fuTmgGrUgGg",
        "colab": {
          "base_uri": "https://localhost:8080/"
        },
        "outputId": "39d2383e-abd3-43d0-dd24-9ad3f9fe76e9"
      },
      "execution_count": 38,
      "outputs": [
        {
          "output_type": "execute_result",
          "data": {
            "text/plain": [
              "[2.004864454269409, 0.1584666669368744]"
            ]
          },
          "metadata": {},
          "execution_count": 38
        }
      ]
    },
    {
      "cell_type": "code",
      "execution_count": 39,
      "metadata": {
        "id": "OHpifyqGdKn-",
        "colab": {
          "base_uri": "https://localhost:8080/"
        },
        "outputId": "1d41b65d-c472-4c33-bdfa-6a3d1ca929c5"
      },
      "outputs": [
        {
          "output_type": "stream",
          "name": "stdout",
          "text": [
            "469/469 [==============================] - 2s 4ms/step\n"
          ]
        }
      ],
      "source": [
        "y_test_prob = model.predict(X_test, verbose=1)"
      ]
    },
    {
      "cell_type": "code",
      "source": [
        "np.set_printoptions(suppress=True)\n",
        "y_test_prob_backup = y_test_prob\n",
        "y_test_prob"
      ],
      "metadata": {
        "id": "rRPswrrkmhp2",
        "colab": {
          "base_uri": "https://localhost:8080/"
        },
        "outputId": "3fe904b1-7987-433c-d54d-fa30b3e3f61b"
      },
      "execution_count": 40,
      "outputs": [
        {
          "output_type": "execute_result",
          "data": {
            "text/plain": [
              "array([[5.2189083],\n",
              "       [3.2332766],\n",
              "       [5.243417 ],\n",
              "       ...,\n",
              "       [4.027379 ],\n",
              "       [6.291918 ],\n",
              "       [2.1422186]], dtype=float32)"
            ]
          },
          "metadata": {},
          "execution_count": 40
        }
      ]
    },
    {
      "cell_type": "code",
      "source": [
        "plt.figure(figsize=(10,10))\n",
        "plt.hist(y_test_prob_backup)"
      ],
      "metadata": {
        "id": "qsgK5XvWjrAP",
        "colab": {
          "base_uri": "https://localhost:8080/",
          "height": 700
        },
        "outputId": "ebf417df-fd58-4881-d8db-0860a648635c"
      },
      "execution_count": 41,
      "outputs": [
        {
          "output_type": "execute_result",
          "data": {
            "text/plain": [
              "(array([1261., 1057.,  906., 1657., 2242., 2457., 2340., 1028.,  840.,\n",
              "        1212.]),\n",
              " array([0.06832373, 0.78013027, 1.4919368 , 2.2037432 , 2.9155498 ,\n",
              "        3.6273563 , 4.339163  , 5.0509696 , 5.762776  , 6.4745827 ,\n",
              "        7.186389  ], dtype=float32),\n",
              " <a list of 10 Patch objects>)"
            ]
          },
          "metadata": {},
          "execution_count": 41
        },
        {
          "output_type": "display_data",
          "data": {
            "text/plain": [
              "<Figure size 720x720 with 1 Axes>"
            ],
            "image/png": "[encoded data removed]"
          },
          "metadata": {
            "needs_background": "light"
          }
        }
      ]
    },
    {
      "cell_type": "code",
      "source": [
        "y_test_prob_backup[:10]"
      ],
      "metadata": {
        "id": "M6Xj4ugPx610",
        "colab": {
          "base_uri": "https://localhost:8080/"
        },
        "outputId": "74637fe4-0e94-4487-b8b1-f371408a29de"
      },
      "execution_count": 42,
      "outputs": [
        {
          "output_type": "execute_result",
          "data": {
            "text/plain": [
              "array([[5.2189083 ],\n",
              "       [3.2332766 ],\n",
              "       [5.243417  ],\n",
              "       [5.2469273 ],\n",
              "       [0.57320154],\n",
              "       [5.078308  ],\n",
              "       [4.0750256 ],\n",
              "       [5.16852   ],\n",
              "       [6.3702602 ],\n",
              "       [6.7112722 ]], dtype=float32)"
            ]
          },
          "metadata": {},
          "execution_count": 42
        }
      ]
    },
    {
      "cell_type": "code",
      "execution_count": 43,
      "metadata": {
        "id": "8DoJy_p9dPzN"
      },
      "outputs": [],
      "source": [
        "from sklearn.metrics import multilabel_confusion_matrix"
      ]
    },
    {
      "cell_type": "code",
      "source": [
        "y_test"
      ],
      "metadata": {
        "id": "n1Us2yrfcGl-",
        "colab": {
          "base_uri": "https://localhost:8080/"
        },
        "outputId": "4dc755ea-c8e7-42f2-ee91-3dd18bfcfd33"
      },
      "execution_count": 44,
      "outputs": [
        {
          "output_type": "execute_result",
          "data": {
            "text/plain": [
              "array([5, 2, 5, ..., 1, 7, 2])"
            ]
          },
          "metadata": {},
          "execution_count": 44
        }
      ]
    },
    {
      "cell_type": "code",
      "source": [
        "y_test.shape"
      ],
      "metadata": {
        "id": "VnmvTcvWbxr9",
        "colab": {
          "base_uri": "https://localhost:8080/"
        },
        "outputId": "5d1d635d-1de7-431f-b11d-c5d55ef737c1"
      },
      "execution_count": 45,
      "outputs": [
        {
          "output_type": "execute_result",
          "data": {
            "text/plain": [
              "(15000,)"
            ]
          },
          "metadata": {},
          "execution_count": 45
        }
      ]
    },
    {
      "cell_type": "code",
      "source": [
        "y_test_prob"
      ],
      "metadata": {
        "id": "fLgDwAIfiyv2",
        "colab": {
          "base_uri": "https://localhost:8080/"
        },
        "outputId": "9f44f6eb-23eb-4a40-da73-709f6ae93847"
      },
      "execution_count": 46,
      "outputs": [
        {
          "output_type": "execute_result",
          "data": {
            "text/plain": [
              "array([[5.2189083],\n",
              "       [3.2332766],\n",
              "       [5.243417 ],\n",
              "       ...,\n",
              "       [4.027379 ],\n",
              "       [6.291918 ],\n",
              "       [2.1422186]], dtype=float32)"
            ]
          },
          "metadata": {},
          "execution_count": 46
        }
      ]
    },
    {
      "cell_type": "code",
      "source": [
        "y_test_pred = np.reshape(y_test_prob, -1)"
      ],
      "metadata": {
        "id": "ISi7-hg2gI7f"
      },
      "execution_count": 47,
      "outputs": []
    },
    {
      "cell_type": "code",
      "source": [
        "y_test_pred"
      ],
      "metadata": {
        "id": "lsLE4-aGiT6A",
        "colab": {
          "base_uri": "https://localhost:8080/"
        },
        "outputId": "86e2d591-835d-4fed-cbe5-7e2e375909c2"
      },
      "execution_count": 48,
      "outputs": [
        {
          "output_type": "execute_result",
          "data": {
            "text/plain": [
              "array([5.2189083, 3.2332766, 5.243417 , ..., 4.027379 , 6.291918 ,\n",
              "       2.1422186], dtype=float32)"
            ]
          },
          "metadata": {},
          "execution_count": 48
        }
      ]
    },
    {
      "cell_type": "code",
      "source": [
        "y_test_pred_int = np.round(y_test_pred)\n",
        "print(y_test_pred_int)\n",
        "y_test_pred_int = y_test_pred_int.astype(int)"
      ],
      "metadata": {
        "id": "jiZwDk3pvcVw",
        "colab": {
          "base_uri": "https://localhost:8080/"
        },
        "outputId": "e4a425f2-2858-4bb6-939b-ab6c130d1e59"
      },
      "execution_count": 49,
      "outputs": [
        {
          "output_type": "stream",
          "name": "stdout",
          "text": [
            "[5. 3. 5. ... 4. 6. 2.]\n"
          ]
        }
      ]
    },
    {
      "cell_type": "code",
      "source": [
        "y_test_pred_int"
      ],
      "metadata": {
        "id": "VTPEZkizvo1c",
        "colab": {
          "base_uri": "https://localhost:8080/"
        },
        "outputId": "20f1434f-e50f-4461-dcdd-40b595a67e2a"
      },
      "execution_count": 50,
      "outputs": [
        {
          "output_type": "execute_result",
          "data": {
            "text/plain": [
              "array([5, 3, 5, ..., 4, 6, 2])"
            ]
          },
          "metadata": {},
          "execution_count": 50
        }
      ]
    },
    {
      "cell_type": "code",
      "execution_count": 51,
      "metadata": {
        "id": "fTCsPjW8dQaZ"
      },
      "outputs": [],
      "source": [
        "cfm=confusion_matrix(y_test, y_test_pred_int)"
      ]
    },
    {
      "cell_type": "code",
      "source": [
        "cfm"
      ],
      "metadata": {
        "id": "_67lPg6ic4cH",
        "colab": {
          "base_uri": "https://localhost:8080/"
        },
        "outputId": "bba84249-3fc7-4528-d680-429c9237901d"
      },
      "execution_count": 52,
      "outputs": [
        {
          "output_type": "execute_result",
          "data": {
            "text/plain": [
              "array([[ 446, 1146,  194,   69,   19,    8,    8,    3],\n",
              "       [  17,  340,  553,  717,  279,   40,    2,    0],\n",
              "       [   7,  219,  346,  682,  511,  109,    6,    0],\n",
              "       [   1,   41,  156,  496,  771,  319,    3,    0],\n",
              "       [   0,   40,  120,  405,  776,  502,   30,    1],\n",
              "       [   0,   20,   69,  233,  632,  679,  224,   17],\n",
              "       [   0,    8,   34,  192,  398,  646,  525,  111],\n",
              "       [   6,   32,   39,   62,   99,  167,  385, 1040]])"
            ]
          },
          "metadata": {},
          "execution_count": 52
        }
      ]
    },
    {
      "cell_type": "code",
      "source": [
        " print(classification_report(y_test,y_test_pred_int))"
      ],
      "metadata": {
        "id": "XTqR_xnwRWCJ",
        "colab": {
          "base_uri": "https://localhost:8080/"
        },
        "outputId": "1d1b7dab-dea5-48eb-b62c-f7c53f4c4497"
      },
      "execution_count": 53,
      "outputs": [
        {
          "output_type": "stream",
          "name": "stdout",
          "text": [
            "              precision    recall  f1-score   support\n",
            "\n",
            "           0       0.94      0.24      0.38      1893\n",
            "           1       0.18      0.17      0.18      1948\n",
            "           2       0.23      0.18      0.20      1880\n",
            "           3       0.17      0.28      0.21      1787\n",
            "           4       0.22      0.41      0.29      1874\n",
            "           5       0.27      0.36      0.31      1874\n",
            "           6       0.44      0.27      0.34      1914\n",
            "           7       0.89      0.57      0.69      1830\n",
            "\n",
            "    accuracy                           0.31     15000\n",
            "   macro avg       0.42      0.31      0.33     15000\n",
            "weighted avg       0.42      0.31      0.32     15000\n",
            "\n"
          ]
        }
      ]
    },
    {
      "cell_type": "code",
      "source": [
        "plt.plot(y_test_pred, y_test, 'o')\n",
        "#plt.title('')\n",
        "plt.ylabel('y_test')\n",
        "plt.xlabel('y_test_pred')\n",
        "plt.show()"
      ],
      "metadata": {
        "id": "l5sCwqd8ZdyS",
        "colab": {
          "base_uri": "https://localhost:8080/",
          "height": 282
        },
        "outputId": "99b35ced-cc7c-41b9-dc3a-580191af19ba"
      },
      "execution_count": 54,
      "outputs": [
        {
          "output_type": "display_data",
          "data": {
            "text/plain": [
              "<Figure size 432x288 with 1 Axes>"
            ],
            "image/png": "[encoded data removed]"
          },
          "metadata": {
            "needs_background": "light"
          }
        }
      ]
    },
    {
      "cell_type": "code",
      "source": [
        "plt.plot(y_test_pred_int, y_test, 'o')\n",
        "#plt.title('')\n",
        "plt.ylabel('y_test')\n",
        "plt.xlabel('y_test_pred_int')\n",
        "plt.show()"
      ],
      "metadata": {
        "id": "Fug6j8EeXP5G",
        "colab": {
          "base_uri": "https://localhost:8080/",
          "height": 282
        },
        "outputId": "8ca4d312-124a-4fe4-b359-a68f4585808b"
      },
      "execution_count": 55,
      "outputs": [
        {
          "output_type": "display_data",
          "data": {
            "text/plain": [
              "<Figure size 432x288 with 1 Axes>"
            ],
            "image/png": "[encoded data removed]"
          },
          "metadata": {
            "needs_background": "light"
          }
        }
      ]
    },
    {
      "cell_type": "code",
      "execution_count": 56,
      "metadata": {
        "id": "fhdLAhgPUnH3"
      },
      "outputs": [],
      "source": [
        "def plot_learningCurve(history, epoch):\n",
        "  # Plot training & validation accuracy values\n",
        "  epoch_range = range(1, epoch+1)\n",
        "  plt.plot(epoch_range, history.history['accuracy'])\n",
        "  plt.plot(epoch_range, history.history['val_accuracy'])\n",
        "  plt.title('Model accuracy')\n",
        "  plt.ylabel('Accuracy')\n",
        "  plt.xlabel('Epoch')\n",
        "  plt.legend(['Train', 'Val'], loc='upper left')\n",
        "  plt.show()\n",
        "\n",
        "  # Plot training & validation loss values\n",
        "  plt.plot(epoch_range, history.history['loss'])\n",
        "  plt.plot(epoch_range, history.history['val_loss'])\n",
        "  plt.title('Model loss')\n",
        "  plt.ylabel('Loss')\n",
        "  plt.xlabel('Epoch')\n",
        "  plt.legend(['Train', 'Val'], loc='upper left')\n",
        "  plt.show()"
      ]
    },
    {
      "cell_type": "code",
      "execution_count": 57,
      "metadata": {
        "id": "WlkQkWHgU5mL",
        "colab": {
          "base_uri": "https://localhost:8080/",
          "height": 581
        },
        "outputId": "0d0830f7-885c-4080-e1d3-2e465c02610b"
      },
      "outputs": [
        {
          "output_type": "display_data",
          "data": {
            "text/plain": [
              "<Figure size 432x288 with 1 Axes>"
            ],
            "image/png": "[encoded data removed]"
          },
          "metadata": {
            "needs_background": "light"
          }
        },
        {
          "output_type": "display_data",
          "data": {
            "text/plain": [
              "<Figure size 432x288 with 1 Axes>"
            ],
            "image/png": "[encoded data removed]"
          },
          "metadata": {
            "needs_background": "light"
          }
        }
      ],
      "source": [
        "plot_learningCurve(history, 100)"
      ]
    },
    {
      "cell_type": "code",
      "source": [
        "import numpy as np\n",
        "import matplotlib.pyplot as plt\n",
        "\n",
        "from sklearn import svm, datasets\n",
        "from sklearn.model_selection import train_test_split\n",
        "from sklearn.metrics import confusion_matrix\n",
        "from sklearn.utils.multiclass import unique_labels\n",
        "\n",
        "class_names = np.array(['0', '6', '10', '15', '20', '25', '30', '35'])\n",
        "\n",
        "def plot_confusion_matrix(y_true, y_pred, classes,\n",
        "                          normalize=False,\n",
        "                          title=None,\n",
        "                          cmap=plt.cm.Blues):\n",
        "    \"\"\"\n",
        "    This function prints and plots the confusion matrix.\n",
        "    Normalization can be applied by setting `normalize=True`.\n",
        "    \"\"\"\n",
        "    if not title:\n",
        "        if normalize:\n",
        "            title = 'Normalized confusion matrix'\n",
        "        else:\n",
        "            title = 'Confusion matrix, without normalization'\n",
        "\n",
        "    # Compute confusion matrix\n",
        "    cm = confusion_matrix(y_true, y_pred)\n",
        "    # Only use the labels that appear in the data\n",
        "    classes = classes[unique_labels(y_true, y_pred)]\n",
        "    if normalize:\n",
        "        cm = cm.astype('float') / cm.sum(axis=1)[:, np.newaxis]\n",
        "        print(\"Normalized confusion matrix\")\n",
        "    else:\n",
        "        print('Confusion matrix, without normalization')\n",
        "\n",
        "    print(cm)\n",
        "\n",
        "    fig, ax = plt.subplots()\n",
        "    im = ax.imshow(cm, interpolation='nearest', cmap=cmap)\n",
        "    ax.figure.colorbar(im, ax=ax)\n",
        "    # We want to show all ticks...\n",
        "    ax.set(xticks=np.arange(cm.shape[1]),\n",
        "           yticks=np.arange(cm.shape[0]),\n",
        "           # ... and label them with the respective list entries\n",
        "           xticklabels=classes, yticklabels=classes,\n",
        "           title=title,\n",
        "           ylabel='True label',\n",
        "           xlabel='Predicted label')\n",
        "\n",
        "    # Rotate the tick labels and set their alignment.\n",
        "    plt.setp(ax.get_xticklabels(), rotation=45, ha=\"right\",\n",
        "             rotation_mode=\"anchor\")\n",
        "\n",
        "    # Loop over data dimensions and create text annotations.\n",
        "    fmt = '.2f' if normalize else 'd'\n",
        "    thresh = cm.max() / 2.\n",
        "    for i in range(cm.shape[0]):\n",
        "        for j in range(cm.shape[1]):\n",
        "            ax.text(j, i, format(cm[i, j], fmt),\n",
        "                    ha=\"center\", va=\"center\",\n",
        "                    color=\"white\" if cm[i, j] > thresh else \"black\")\n",
        "    fig.tight_layout()\n",
        "\n",
        "    return ax\n",
        "\n",
        "\n",
        "np.set_printoptions(precision=2)\n",
        "\n",
        "# Plot non-normalized confusion matrix\n",
        "plot_confusion_matrix(y_test, y_test_pred_int, classes=class_names,\n",
        "                      title='Confusion matrix, without normalization')\n",
        "\n",
        "# Plot normalized confusion matrix\n",
        "plot_confusion_matrix(y_test, y_test_pred_int, classes=class_names, normalize=True,\n",
        "                      title='Normalized confusion matrix')\n",
        "\n",
        "plt.show()"
      ],
      "metadata": {
        "id": "H_QpRmAjwxbM",
        "colab": {
          "base_uri": "https://localhost:8080/",
          "height": 900
        },
        "outputId": "0e9f33b1-60f6-4073-a2b6-d71e5fb4775c"
      },
      "execution_count": 58,
      "outputs": [
        {
          "output_type": "stream",
          "name": "stdout",
          "text": [
            "Confusion matrix, without normalization\n",
            "[[ 446 1146  194   69   19    8    8    3]\n",
            " [  17  340  553  717  279   40    2    0]\n",
            " [   7  219  346  682  511  109    6    0]\n",
            " [   1   41  156  496  771  319    3    0]\n",
            " [   0   40  120  405  776  502   30    1]\n",
            " [   0   20   69  233  632  679  224   17]\n",
            " [   0    8   34  192  398  646  525  111]\n",
            " [   6   32   39   62   99  167  385 1040]]\n",
            "Normalized confusion matrix\n",
            "[[0.24 0.61 0.1  0.04 0.01 0.   0.   0.  ]\n",
            " [0.01 0.17 0.28 0.37 0.14 0.02 0.   0.  ]\n",
            " [0.   0.12 0.18 0.36 0.27 0.06 0.   0.  ]\n",
            " [0.   0.02 0.09 0.28 0.43 0.18 0.   0.  ]\n",
            " [0.   0.02 0.06 0.22 0.41 0.27 0.02 0.  ]\n",
            " [0.   0.01 0.04 0.12 0.34 0.36 0.12 0.01]\n",
            " [0.   0.   0.02 0.1  0.21 0.34 0.27 0.06]\n",
            " [0.   0.02 0.02 0.03 0.05 0.09 0.21 0.57]]\n"
          ]
        },
        {
          "output_type": "display_data",
          "data": {
            "text/plain": [
              "<Figure size 432x288 with 2 Axes>"
            ],
            "image/png": "[encoded data removed]"
          },
          "metadata": {
            "needs_background": "light"
          }
        },
        {
          "output_type": "display_data",
          "data": {
            "text/plain": [
              "<Figure size 432x288 with 2 Axes>"
            ],
            "image/png": "[encoded data removed]"
          },
          "metadata": {
            "needs_background": "light"
          }
        }
      ]
    }
  ],
  "metadata": {
    "colab": {
      "collapsed_sections": [
        "f857kfHqUk0-"
      ],
      "name": "Regresion_Multi_Class_MD_LSTM_step_200_files_120.ipynb",
      "provenance": [],
      "include_colab_link": true
    },
    "kernelspec": {
      "display_name": "Python 3",
      "name": "python3"
    },
    "language_info": {
      "name": "python"
    },
    "accelerator": "GPU"
  },
  "nbformat": 4,
  "nbformat_minor": 0
}